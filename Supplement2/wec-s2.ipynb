{
 "cells": [
  {
   "cell_type": "markdown",
   "metadata": {},
   "source": [
    "## WEC Analysis - Experiment 2"
   ]
  },
  {
   "cell_type": "code",
   "execution_count": 3,
   "metadata": {},
   "outputs": [],
   "source": [
    "import pandas as pd\n",
    "import numpy as np\n",
    "import itertools\n",
    "from collections import Counter\n",
    "import altair as alt\n",
    "import math\n",
    "import csv"
   ]
  },
  {
   "cell_type": "code",
   "execution_count": 4,
   "metadata": {},
   "outputs": [],
   "source": [
    "chart_to_cor = {\"Chart 1\": \"0.8\", \"Chart 2\": \"0.6\", \"Chart 3\": \"0.4\", \"Chart 4\": \"0.2\", \"Chart 5\": \"0.0\"\n",
    "                , \"Chart 6\": \"-0.2\", \"Chart 7\": \"-0.4\", \"Chart 8\": \"-0.6\", \"Chart 9\": \"-0.8\"}\n",
    "col_to_cor = {8: \"0.8\", 7: \"0.6\", 6: \"0.4\", 5: \"0.2\", 4: \"0.0\"\n",
    "                , 3: \"-0.2\", 2: \"-0.4\", 1: \"-0.6\", 0: \"-0.8\"}"
   ]
  },
  {
   "cell_type": "code",
   "execution_count": 5,
   "metadata": {},
   "outputs": [],
   "source": [
    "raw = pd.read_excel(\"weca-120.xlsx\")"
   ]
  },
  {
   "cell_type": "code",
   "execution_count": 6,
   "metadata": {},
   "outputs": [
    {
     "data": {
      "text/html": [
       "<div>\n",
       "<style scoped>\n",
       "    .dataframe tbody tr th:only-of-type {\n",
       "        vertical-align: middle;\n",
       "    }\n",
       "\n",
       "    .dataframe tbody tr th {\n",
       "        vertical-align: top;\n",
       "    }\n",
       "\n",
       "    .dataframe thead th {\n",
       "        text-align: right;\n",
       "    }\n",
       "</style>\n",
       "<table border=\"1\" class=\"dataframe\">\n",
       "  <thead>\n",
       "    <tr style=\"text-align: right;\">\n",
       "      <th></th>\n",
       "      <th>ResponseId</th>\n",
       "      <th>TestRightWrong</th>\n",
       "      <th>DirPosCorr</th>\n",
       "      <th>DirNegCorr</th>\n",
       "      <th>MagStrongCorr</th>\n",
       "      <th>MagModCorr</th>\n",
       "      <th>MagWeakCorr</th>\n",
       "      <th>DisClearRel</th>\n",
       "      <th>DisNoClear</th>\n",
       "      <th>RegTightRel</th>\n",
       "      <th>RegLooseRel</th>\n",
       "      <th>BehUpwardTrend</th>\n",
       "      <th>BehDownwardTrend</th>\n",
       "      <th>SpValuesHigh</th>\n",
       "      <th>SpValuesLow</th>\n",
       "      <th>InfVarHigh</th>\n",
       "      <th>InfVarLow</th>\n",
       "    </tr>\n",
       "  </thead>\n",
       "  <tbody>\n",
       "    <tr>\n",
       "      <th>count</th>\n",
       "      <td>120</td>\n",
       "      <td>120</td>\n",
       "      <td>34</td>\n",
       "      <td>36</td>\n",
       "      <td>40</td>\n",
       "      <td>33</td>\n",
       "      <td>36</td>\n",
       "      <td>32</td>\n",
       "      <td>35</td>\n",
       "      <td>36</td>\n",
       "      <td>33</td>\n",
       "      <td>41</td>\n",
       "      <td>39</td>\n",
       "      <td>37</td>\n",
       "      <td>41</td>\n",
       "      <td>41</td>\n",
       "      <td>36</td>\n",
       "    </tr>\n",
       "    <tr>\n",
       "      <th>unique</th>\n",
       "      <td>120</td>\n",
       "      <td>3</td>\n",
       "      <td>19</td>\n",
       "      <td>15</td>\n",
       "      <td>11</td>\n",
       "      <td>23</td>\n",
       "      <td>27</td>\n",
       "      <td>12</td>\n",
       "      <td>21</td>\n",
       "      <td>13</td>\n",
       "      <td>21</td>\n",
       "      <td>12</td>\n",
       "      <td>10</td>\n",
       "      <td>15</td>\n",
       "      <td>14</td>\n",
       "      <td>19</td>\n",
       "      <td>14</td>\n",
       "    </tr>\n",
       "    <tr>\n",
       "      <th>top</th>\n",
       "      <td>R_3HZ99X3BBvaYFZA</td>\n",
       "      <td>right</td>\n",
       "      <td>Chart 1,Chart 2</td>\n",
       "      <td>Chart 8,Chart 9</td>\n",
       "      <td>Chart 1,Chart 9</td>\n",
       "      <td>Chart 2,Chart 8</td>\n",
       "      <td>Chart 4,Chart 5,Chart 6</td>\n",
       "      <td>Chart 1,Chart 2,Chart 8,Chart 9</td>\n",
       "      <td>Chart 4,Chart 7,Chart 5,Chart 6</td>\n",
       "      <td>Chart 1,Chart 9</td>\n",
       "      <td>Chart 2,Chart 8</td>\n",
       "      <td>Chart 1,Chart 2,Chart 3</td>\n",
       "      <td>Chart 8,Chart 9</td>\n",
       "      <td>Chart 1,Chart 2</td>\n",
       "      <td>Chart 8,Chart 9</td>\n",
       "      <td>Chart 1,Chart 2</td>\n",
       "      <td>Chart 8,Chart 9</td>\n",
       "    </tr>\n",
       "    <tr>\n",
       "      <th>freq</th>\n",
       "      <td>1</td>\n",
       "      <td>89</td>\n",
       "      <td>13</td>\n",
       "      <td>11</td>\n",
       "      <td>13</td>\n",
       "      <td>4</td>\n",
       "      <td>4</td>\n",
       "      <td>8</td>\n",
       "      <td>5</td>\n",
       "      <td>15</td>\n",
       "      <td>4</td>\n",
       "      <td>12</td>\n",
       "      <td>13</td>\n",
       "      <td>12</td>\n",
       "      <td>12</td>\n",
       "      <td>11</td>\n",
       "      <td>12</td>\n",
       "    </tr>\n",
       "  </tbody>\n",
       "</table>\n",
       "</div>"
      ],
      "text/plain": [
       "               ResponseId TestRightWrong       DirPosCorr       DirNegCorr  \\\n",
       "count                 120            120               34               36   \n",
       "unique                120              3               19               15   \n",
       "top     R_3HZ99X3BBvaYFZA          right  Chart 1,Chart 2  Chart 8,Chart 9   \n",
       "freq                    1             89               13               11   \n",
       "\n",
       "          MagStrongCorr       MagModCorr              MagWeakCorr  \\\n",
       "count                40               33                       36   \n",
       "unique               11               23                       27   \n",
       "top     Chart 1,Chart 9  Chart 2,Chart 8  Chart 4,Chart 5,Chart 6   \n",
       "freq                 13                4                        4   \n",
       "\n",
       "                            DisClearRel                       DisNoClear  \\\n",
       "count                                32                               35   \n",
       "unique                               12                               21   \n",
       "top     Chart 1,Chart 2,Chart 8,Chart 9  Chart 4,Chart 7,Chart 5,Chart 6   \n",
       "freq                                  8                                5   \n",
       "\n",
       "            RegTightRel      RegLooseRel           BehUpwardTrend  \\\n",
       "count                36               33                       41   \n",
       "unique               13               21                       12   \n",
       "top     Chart 1,Chart 9  Chart 2,Chart 8  Chart 1,Chart 2,Chart 3   \n",
       "freq                 15                4                       12   \n",
       "\n",
       "       BehDownwardTrend     SpValuesHigh      SpValuesLow       InfVarHigh  \\\n",
       "count                39               37               41               41   \n",
       "unique               10               15               14               19   \n",
       "top     Chart 8,Chart 9  Chart 1,Chart 2  Chart 8,Chart 9  Chart 1,Chart 2   \n",
       "freq                 13               12               12               11   \n",
       "\n",
       "              InfVarLow  \n",
       "count                36  \n",
       "unique               14  \n",
       "top     Chart 8,Chart 9  \n",
       "freq                 12  "
      ]
     },
     "execution_count": 6,
     "metadata": {},
     "output_type": "execute_result"
    }
   ],
   "source": [
    "raw.describe()"
   ]
  },
  {
   "cell_type": "code",
   "execution_count": 7,
   "metadata": {},
   "outputs": [],
   "source": [
    "#Melt dataset by statements\n",
    "data = pd.melt(raw,id_vars=[\"ResponseId\",\"TestRightWrong\"], var_name='Statements', value_name='Charts').dropna(axis=0)"
   ]
  },
  {
   "cell_type": "code",
   "execution_count": 8,
   "metadata": {},
   "outputs": [],
   "source": [
    "data['Charts'] = data['Charts'].apply(lambda x: x.split(',')) #.apply(lambda x: [chart_to_cor[z] for z in x])"
   ]
  },
  {
   "cell_type": "code",
   "execution_count": 9,
   "metadata": {},
   "outputs": [],
   "source": [
    "#Breakdown the answers and then map them to the corresponding correlations\n",
    "chartAnswers = data['Charts'].apply(pd.Series).reset_index().melt(id_vars='index').dropna()[['index', 'value']].set_index('index')\n",
    "df = pd.merge(data[['ResponseId','Statements','TestRightWrong']],chartAnswers,left_index=True,right_index=True).rename(columns={\"value\": \"Answer\"})\n",
    "df['Answer'] = df['Answer'].apply(lambda x: chart_to_cor[x])"
   ]
  },
  {
   "cell_type": "code",
   "execution_count": 10,
   "metadata": {},
   "outputs": [
    {
     "data": {
      "text/html": [
       "<div>\n",
       "<style scoped>\n",
       "    .dataframe tbody tr th:only-of-type {\n",
       "        vertical-align: middle;\n",
       "    }\n",
       "\n",
       "    .dataframe tbody tr th {\n",
       "        vertical-align: top;\n",
       "    }\n",
       "\n",
       "    .dataframe thead th {\n",
       "        text-align: right;\n",
       "    }\n",
       "</style>\n",
       "<table border=\"1\" class=\"dataframe\">\n",
       "  <thead>\n",
       "    <tr style=\"text-align: right;\">\n",
       "      <th></th>\n",
       "      <th>Statement</th>\n",
       "      <th>Values</th>\n",
       "    </tr>\n",
       "  </thead>\n",
       "  <tbody>\n",
       "    <tr>\n",
       "      <th>0</th>\n",
       "      <td>BehDownwardTrend</td>\n",
       "      <td>[(-0.8, 33), (-0.6, 28), (-0.4, 14), (-0.2, 2)...</td>\n",
       "    </tr>\n",
       "    <tr>\n",
       "      <th>1</th>\n",
       "      <td>BehUpwardTrend</td>\n",
       "      <td>[(-0.8, 3), (-0.6, 2), (-0.4, 0), (-0.2, 4), (...</td>\n",
       "    </tr>\n",
       "    <tr>\n",
       "      <th>2</th>\n",
       "      <td>DirNegCorr</td>\n",
       "      <td>[(-0.8, 28), (-0.6, 21), (-0.4, 12), (-0.2, 9)...</td>\n",
       "    </tr>\n",
       "    <tr>\n",
       "      <th>3</th>\n",
       "      <td>DirPosCorr</td>\n",
       "      <td>[(-0.8, 6), (-0.6, 5), (-0.4, 1), (-0.2, 6), (...</td>\n",
       "    </tr>\n",
       "    <tr>\n",
       "      <th>4</th>\n",
       "      <td>DisClearRel</td>\n",
       "      <td>[(-0.8, 23), (-0.6, 18), (-0.4, 5), (-0.2, 1),...</td>\n",
       "    </tr>\n",
       "    <tr>\n",
       "      <th>5</th>\n",
       "      <td>DisNoClear</td>\n",
       "      <td>[(-0.8, 2), (-0.6, 5), (-0.4, 20), (-0.2, 27),...</td>\n",
       "    </tr>\n",
       "    <tr>\n",
       "      <th>6</th>\n",
       "      <td>InfVarHigh</td>\n",
       "      <td>[(-0.8, 11), (-0.6, 5), (-0.4, 3), (-0.2, 7), ...</td>\n",
       "    </tr>\n",
       "    <tr>\n",
       "      <th>7</th>\n",
       "      <td>InfVarLow</td>\n",
       "      <td>[(-0.8, 27), (-0.6, 25), (-0.4, 11), (-0.2, 3)...</td>\n",
       "    </tr>\n",
       "    <tr>\n",
       "      <th>8</th>\n",
       "      <td>MagModCorr</td>\n",
       "      <td>[(-0.8, 8), (-0.6, 16), (-0.4, 4), (-0.2, 5), ...</td>\n",
       "    </tr>\n",
       "    <tr>\n",
       "      <th>9</th>\n",
       "      <td>MagStrongCorr</td>\n",
       "      <td>[(-0.8, 31), (-0.6, 10), (-0.4, 0), (-0.2, 1),...</td>\n",
       "    </tr>\n",
       "    <tr>\n",
       "      <th>10</th>\n",
       "      <td>MagWeakCorr</td>\n",
       "      <td>[(-0.8, 3), (-0.6, 11), (-0.4, 12), (-0.2, 10)...</td>\n",
       "    </tr>\n",
       "    <tr>\n",
       "      <th>11</th>\n",
       "      <td>RegLooseRel</td>\n",
       "      <td>[(-0.8, 10), (-0.6, 14), (-0.4, 9), (-0.2, 10)...</td>\n",
       "    </tr>\n",
       "    <tr>\n",
       "      <th>12</th>\n",
       "      <td>RegTightRel</td>\n",
       "      <td>[(-0.8, 28), (-0.6, 8), (-0.4, 2), (-0.2, 2), ...</td>\n",
       "    </tr>\n",
       "    <tr>\n",
       "      <th>13</th>\n",
       "      <td>SpValuesHigh</td>\n",
       "      <td>[(-0.8, 3), (-0.6, 3), (-0.4, 5), (-0.2, 9), (...</td>\n",
       "    </tr>\n",
       "    <tr>\n",
       "      <th>14</th>\n",
       "      <td>SpValuesLow</td>\n",
       "      <td>[(-0.8, 24), (-0.6, 24), (-0.4, 11), (-0.2, 2)...</td>\n",
       "    </tr>\n",
       "  </tbody>\n",
       "</table>\n",
       "</div>"
      ],
      "text/plain": [
       "           Statement                                             Values\n",
       "0   BehDownwardTrend  [(-0.8, 33), (-0.6, 28), (-0.4, 14), (-0.2, 2)...\n",
       "1     BehUpwardTrend  [(-0.8, 3), (-0.6, 2), (-0.4, 0), (-0.2, 4), (...\n",
       "2         DirNegCorr  [(-0.8, 28), (-0.6, 21), (-0.4, 12), (-0.2, 9)...\n",
       "3         DirPosCorr  [(-0.8, 6), (-0.6, 5), (-0.4, 1), (-0.2, 6), (...\n",
       "4        DisClearRel  [(-0.8, 23), (-0.6, 18), (-0.4, 5), (-0.2, 1),...\n",
       "5         DisNoClear  [(-0.8, 2), (-0.6, 5), (-0.4, 20), (-0.2, 27),...\n",
       "6         InfVarHigh  [(-0.8, 11), (-0.6, 5), (-0.4, 3), (-0.2, 7), ...\n",
       "7          InfVarLow  [(-0.8, 27), (-0.6, 25), (-0.4, 11), (-0.2, 3)...\n",
       "8         MagModCorr  [(-0.8, 8), (-0.6, 16), (-0.4, 4), (-0.2, 5), ...\n",
       "9      MagStrongCorr  [(-0.8, 31), (-0.6, 10), (-0.4, 0), (-0.2, 1),...\n",
       "10       MagWeakCorr  [(-0.8, 3), (-0.6, 11), (-0.4, 12), (-0.2, 10)...\n",
       "11       RegLooseRel  [(-0.8, 10), (-0.6, 14), (-0.4, 9), (-0.2, 10)...\n",
       "12       RegTightRel  [(-0.8, 28), (-0.6, 8), (-0.4, 2), (-0.2, 2), ...\n",
       "13      SpValuesHigh  [(-0.8, 3), (-0.6, 3), (-0.4, 5), (-0.2, 9), (...\n",
       "14       SpValuesLow  [(-0.8, 24), (-0.6, 24), (-0.4, 11), (-0.2, 2)..."
      ]
     },
     "metadata": {},
     "output_type": "display_data"
    }
   ],
   "source": [
    "#Aggregate answers by statements \n",
    "count_init = {\"-0.8\": 0,\"-0.6\": 0,\"-0.4\": 0,\"-0.2\": 0,\"0.0\": 0,\"0.2\": 0,\"0.4\": 0,\"0.6\": 0,\"0.8\": 0, }\n",
    "c = Counter(count_init)\n",
    "st_counts = []\n",
    "for name,group in df.groupby(\"Statements\"):\n",
    "    #print(name)\n",
    "    #print(group[:5])\n",
    "    c = Counter(count_init)\n",
    "    c.update(group[\"Answer\"])\n",
    "    st_counts.append({\"Statement\": name, \"Values\": list(c.items())})\n",
    "    #print(sorted(c.items()))\n",
    "#print(st_counts)\n",
    "d = pd.DataFrame(st_counts)\n",
    "display(d)"
   ]
  },
  {
   "cell_type": "code",
   "execution_count": 11,
   "metadata": {},
   "outputs": [],
   "source": [
    "#Separate correlation and statements into rows\n",
    "d2 = pd.merge(d['Statement'],pd.DataFrame(d['Values'].apply(lambda x: [z[1] for z in x]).tolist(), index=d.index),\n",
    "         left_index=True,right_index=True)\n",
    "d2.rename(columns=col_to_cor,inplace=True)\n",
    "d2 = pd.melt(d2,id_vars=[\"Statement\"],var_name=\"Correlation\",value_name=\"Count\")\n",
    "d2['Correlation'] = d2['Correlation'].apply(lambda x: float(x))\n"
   ]
  },
  {
   "cell_type": "code",
   "execution_count": 12,
   "metadata": {},
   "outputs": [
    {
     "data": {
      "text/html": [
       "\n",
       "<div id=\"altair-viz-3d4c11d4d7e549ffb5fca518dd93aed9\"></div>\n",
       "<script type=\"text/javascript\">\n",
       "  (function(spec, embedOpt){\n",
       "    let outputDiv = document.currentScript.previousElementSibling;\n",
       "    if (outputDiv.id !== \"altair-viz-3d4c11d4d7e549ffb5fca518dd93aed9\") {\n",
       "      outputDiv = document.getElementById(\"altair-viz-3d4c11d4d7e549ffb5fca518dd93aed9\");\n",
       "    }\n",
       "    const paths = {\n",
       "      \"vega\": \"https://cdn.jsdelivr.net/npm//vega@5?noext\",\n",
       "      \"vega-lib\": \"https://cdn.jsdelivr.net/npm//vega-lib?noext\",\n",
       "      \"vega-lite\": \"https://cdn.jsdelivr.net/npm//vega-lite@4.8.1?noext\",\n",
       "      \"vega-embed\": \"https://cdn.jsdelivr.net/npm//vega-embed@6?noext\",\n",
       "    };\n",
       "\n",
       "    function loadScript(lib) {\n",
       "      return new Promise(function(resolve, reject) {\n",
       "        var s = document.createElement('script');\n",
       "        s.src = paths[lib];\n",
       "        s.async = true;\n",
       "        s.onload = () => resolve(paths[lib]);\n",
       "        s.onerror = () => reject(`Error loading script: ${paths[lib]}`);\n",
       "        document.getElementsByTagName(\"head\")[0].appendChild(s);\n",
       "      });\n",
       "    }\n",
       "\n",
       "    function showError(err) {\n",
       "      outputDiv.innerHTML = `<div class=\"error\" style=\"color:red;\">${err}</div>`;\n",
       "      throw err;\n",
       "    }\n",
       "\n",
       "    function displayChart(vegaEmbed) {\n",
       "      vegaEmbed(outputDiv, spec, embedOpt)\n",
       "        .catch(err => showError(`Javascript Error: ${err.message}<br>This usually means there's a typo in your chart specification. See the javascript console for the full traceback.`));\n",
       "    }\n",
       "\n",
       "    if(typeof define === \"function\" && define.amd) {\n",
       "      requirejs.config({paths});\n",
       "      require([\"vega-embed\"], displayChart, err => showError(`Error loading script: ${err.message}`));\n",
       "    } else if (typeof vegaEmbed === \"function\") {\n",
       "      displayChart(vegaEmbed);\n",
       "    } else {\n",
       "      loadScript(\"vega\")\n",
       "        .then(() => loadScript(\"vega-lite\"))\n",
       "        .then(() => loadScript(\"vega-embed\"))\n",
       "        .catch(showError)\n",
       "        .then(() => displayChart(vegaEmbed));\n",
       "    }\n",
       "  })({\"config\": {\"view\": {\"continuousWidth\": 400, \"continuousHeight\": 300}, \"axis\": {}}, \"data\": {\"name\": \"data-1323f391ecdec7810e26b842ec0ba16b\"}, \"facet\": {\"row\": {\"type\": \"ordinal\", \"field\": \"Statement\"}}, \"spec\": {\"mark\": {\"type\": \"area\", \"color\": \"#a00000\"}, \"encoding\": {\"x\": {\"type\": \"nominal\", \"field\": \"Correlation\"}, \"y\": {\"type\": \"quantitative\", \"field\": \"Count\", \"scale\": {\"domain\": [0, 0.4]}, \"title\": null}}, \"height\": 50, \"width\": 150}, \"$schema\": \"https://vega.github.io/schema/vega-lite/v4.8.1.json\", \"datasets\": {\"data-1323f391ecdec7810e26b842ec0ba16b\": [{\"Statement\": \"BehDownwardTrend\", \"Correlation\": -0.8, \"Count\": 0.375}, {\"Statement\": \"BehDownwardTrend\", \"Correlation\": -0.6, \"Count\": 0.3181818181818182}, {\"Statement\": \"BehDownwardTrend\", \"Correlation\": -0.4, \"Count\": 0.1590909090909091}, {\"Statement\": \"BehDownwardTrend\", \"Correlation\": -0.2, \"Count\": 0.022727272727272728}, {\"Statement\": \"BehDownwardTrend\", \"Correlation\": 0.0, \"Count\": 0.011363636363636364}, {\"Statement\": \"BehDownwardTrend\", \"Correlation\": 0.2, \"Count\": 0.022727272727272728}, {\"Statement\": \"BehDownwardTrend\", \"Correlation\": 0.4, \"Count\": 0.03409090909090909}, {\"Statement\": \"BehDownwardTrend\", \"Correlation\": 0.6, \"Count\": 0.022727272727272728}, {\"Statement\": \"BehDownwardTrend\", \"Correlation\": 0.8, \"Count\": 0.03409090909090909}, {\"Statement\": \"BehUpwardTrend\", \"Correlation\": -0.8, \"Count\": 0.030303030303030304}, {\"Statement\": \"BehUpwardTrend\", \"Correlation\": -0.6, \"Count\": 0.020202020202020204}, {\"Statement\": \"BehUpwardTrend\", \"Correlation\": -0.4, \"Count\": 0.0}, {\"Statement\": \"BehUpwardTrend\", \"Correlation\": -0.2, \"Count\": 0.04040404040404041}, {\"Statement\": \"BehUpwardTrend\", \"Correlation\": 0.0, \"Count\": 0.0}, {\"Statement\": \"BehUpwardTrend\", \"Correlation\": 0.2, \"Count\": 0.030303030303030304}, {\"Statement\": \"BehUpwardTrend\", \"Correlation\": 0.4, \"Count\": 0.18181818181818182}, {\"Statement\": \"BehUpwardTrend\", \"Correlation\": 0.6, \"Count\": 0.30303030303030304}, {\"Statement\": \"BehUpwardTrend\", \"Correlation\": 0.8, \"Count\": 0.3939393939393939}, {\"Statement\": \"DirNegCorr\", \"Correlation\": -0.8, \"Count\": 0.3373493975903614}, {\"Statement\": \"DirNegCorr\", \"Correlation\": -0.6, \"Count\": 0.25301204819277107}, {\"Statement\": \"DirNegCorr\", \"Correlation\": -0.4, \"Count\": 0.14457831325301204}, {\"Statement\": \"DirNegCorr\", \"Correlation\": -0.2, \"Count\": 0.10843373493975904}, {\"Statement\": \"DirNegCorr\", \"Correlation\": 0.0, \"Count\": 0.060240963855421686}, {\"Statement\": \"DirNegCorr\", \"Correlation\": 0.2, \"Count\": 0.03614457831325301}, {\"Statement\": \"DirNegCorr\", \"Correlation\": 0.4, \"Count\": 0.024096385542168676}, {\"Statement\": \"DirNegCorr\", \"Correlation\": 0.6, \"Count\": 0.012048192771084338}, {\"Statement\": \"DirNegCorr\", \"Correlation\": 0.8, \"Count\": 0.024096385542168676}, {\"Statement\": \"DirPosCorr\", \"Correlation\": -0.8, \"Count\": 0.07792207792207792}, {\"Statement\": \"DirPosCorr\", \"Correlation\": -0.6, \"Count\": 0.06493506493506493}, {\"Statement\": \"DirPosCorr\", \"Correlation\": -0.4, \"Count\": 0.012987012987012988}, {\"Statement\": \"DirPosCorr\", \"Correlation\": -0.2, \"Count\": 0.07792207792207792}, {\"Statement\": \"DirPosCorr\", \"Correlation\": 0.0, \"Count\": 0.025974025974025976}, {\"Statement\": \"DirPosCorr\", \"Correlation\": 0.2, \"Count\": 0.05194805194805195}, {\"Statement\": \"DirPosCorr\", \"Correlation\": 0.4, \"Count\": 0.06493506493506493}, {\"Statement\": \"DirPosCorr\", \"Correlation\": 0.6, \"Count\": 0.2727272727272727}, {\"Statement\": \"DirPosCorr\", \"Correlation\": 0.8, \"Count\": 0.35064935064935066}, {\"Statement\": \"DisClearRel\", \"Correlation\": -0.8, \"Count\": 0.25555555555555554}, {\"Statement\": \"DisClearRel\", \"Correlation\": -0.6, \"Count\": 0.2}, {\"Statement\": \"DisClearRel\", \"Correlation\": -0.4, \"Count\": 0.05555555555555555}, {\"Statement\": \"DisClearRel\", \"Correlation\": -0.2, \"Count\": 0.011111111111111112}, {\"Statement\": \"DisClearRel\", \"Correlation\": 0.0, \"Count\": 0.0}, {\"Statement\": \"DisClearRel\", \"Correlation\": 0.2, \"Count\": 0.011111111111111112}, {\"Statement\": \"DisClearRel\", \"Correlation\": 0.4, \"Count\": 0.03333333333333333}, {\"Statement\": \"DisClearRel\", \"Correlation\": 0.6, \"Count\": 0.13333333333333333}, {\"Statement\": \"DisClearRel\", \"Correlation\": 0.8, \"Count\": 0.3}, {\"Statement\": \"DisNoClear\", \"Correlation\": -0.8, \"Count\": 0.01652892561983471}, {\"Statement\": \"DisNoClear\", \"Correlation\": -0.6, \"Count\": 0.04132231404958678}, {\"Statement\": \"DisNoClear\", \"Correlation\": -0.4, \"Count\": 0.1652892561983471}, {\"Statement\": \"DisNoClear\", \"Correlation\": -0.2, \"Count\": 0.2231404958677686}, {\"Statement\": \"DisNoClear\", \"Correlation\": 0.0, \"Count\": 0.19834710743801653}, {\"Statement\": \"DisNoClear\", \"Correlation\": 0.2, \"Count\": 0.18181818181818182}, {\"Statement\": \"DisNoClear\", \"Correlation\": 0.4, \"Count\": 0.10743801652892562}, {\"Statement\": \"DisNoClear\", \"Correlation\": 0.6, \"Count\": 0.04132231404958678}, {\"Statement\": \"DisNoClear\", \"Correlation\": 0.8, \"Count\": 0.024793388429752067}, {\"Statement\": \"InfVarHigh\", \"Correlation\": -0.8, \"Count\": 0.11702127659574468}, {\"Statement\": \"InfVarHigh\", \"Correlation\": -0.6, \"Count\": 0.05319148936170213}, {\"Statement\": \"InfVarHigh\", \"Correlation\": -0.4, \"Count\": 0.031914893617021274}, {\"Statement\": \"InfVarHigh\", \"Correlation\": -0.2, \"Count\": 0.07446808510638298}, {\"Statement\": \"InfVarHigh\", \"Correlation\": 0.0, \"Count\": 0.031914893617021274}, {\"Statement\": \"InfVarHigh\", \"Correlation\": 0.2, \"Count\": 0.0425531914893617}, {\"Statement\": \"InfVarHigh\", \"Correlation\": 0.4, \"Count\": 0.11702127659574468}, {\"Statement\": \"InfVarHigh\", \"Correlation\": 0.6, \"Count\": 0.23404255319148937}, {\"Statement\": \"InfVarHigh\", \"Correlation\": 0.8, \"Count\": 0.2978723404255319}, {\"Statement\": \"InfVarLow\", \"Correlation\": -0.8, \"Count\": 0.3333333333333333}, {\"Statement\": \"InfVarLow\", \"Correlation\": -0.6, \"Count\": 0.30864197530864196}, {\"Statement\": \"InfVarLow\", \"Correlation\": -0.4, \"Count\": 0.13580246913580246}, {\"Statement\": \"InfVarLow\", \"Correlation\": -0.2, \"Count\": 0.037037037037037035}, {\"Statement\": \"InfVarLow\", \"Correlation\": 0.0, \"Count\": 0.06172839506172839}, {\"Statement\": \"InfVarLow\", \"Correlation\": 0.2, \"Count\": 0.024691358024691357}, {\"Statement\": \"InfVarLow\", \"Correlation\": 0.4, \"Count\": 0.037037037037037035}, {\"Statement\": \"InfVarLow\", \"Correlation\": 0.6, \"Count\": 0.024691358024691357}, {\"Statement\": \"InfVarLow\", \"Correlation\": 0.8, \"Count\": 0.037037037037037035}, {\"Statement\": \"MagModCorr\", \"Correlation\": -0.8, \"Count\": 0.0975609756097561}, {\"Statement\": \"MagModCorr\", \"Correlation\": -0.6, \"Count\": 0.1951219512195122}, {\"Statement\": \"MagModCorr\", \"Correlation\": -0.4, \"Count\": 0.04878048780487805}, {\"Statement\": \"MagModCorr\", \"Correlation\": -0.2, \"Count\": 0.06097560975609756}, {\"Statement\": \"MagModCorr\", \"Correlation\": 0.0, \"Count\": 0.024390243902439025}, {\"Statement\": \"MagModCorr\", \"Correlation\": 0.2, \"Count\": 0.10975609756097561}, {\"Statement\": \"MagModCorr\", \"Correlation\": 0.4, \"Count\": 0.12195121951219512}, {\"Statement\": \"MagModCorr\", \"Correlation\": 0.6, \"Count\": 0.2073170731707317}, {\"Statement\": \"MagModCorr\", \"Correlation\": 0.8, \"Count\": 0.13414634146341464}, {\"Statement\": \"MagStrongCorr\", \"Correlation\": -0.8, \"Count\": 0.36904761904761907}, {\"Statement\": \"MagStrongCorr\", \"Correlation\": -0.6, \"Count\": 0.11904761904761904}, {\"Statement\": \"MagStrongCorr\", \"Correlation\": -0.4, \"Count\": 0.0}, {\"Statement\": \"MagStrongCorr\", \"Correlation\": -0.2, \"Count\": 0.011904761904761904}, {\"Statement\": \"MagStrongCorr\", \"Correlation\": 0.0, \"Count\": 0.011904761904761904}, {\"Statement\": \"MagStrongCorr\", \"Correlation\": 0.2, \"Count\": 0.0}, {\"Statement\": \"MagStrongCorr\", \"Correlation\": 0.4, \"Count\": 0.023809523809523808}, {\"Statement\": \"MagStrongCorr\", \"Correlation\": 0.6, \"Count\": 0.11904761904761904}, {\"Statement\": \"MagStrongCorr\", \"Correlation\": 0.8, \"Count\": 0.34523809523809523}, {\"Statement\": \"MagWeakCorr\", \"Correlation\": -0.8, \"Count\": 0.030612244897959183}, {\"Statement\": \"MagWeakCorr\", \"Correlation\": -0.6, \"Count\": 0.11224489795918367}, {\"Statement\": \"MagWeakCorr\", \"Correlation\": -0.4, \"Count\": 0.12244897959183673}, {\"Statement\": \"MagWeakCorr\", \"Correlation\": -0.2, \"Count\": 0.10204081632653061}, {\"Statement\": \"MagWeakCorr\", \"Correlation\": 0.0, \"Count\": 0.14285714285714285}, {\"Statement\": \"MagWeakCorr\", \"Correlation\": 0.2, \"Count\": 0.14285714285714285}, {\"Statement\": \"MagWeakCorr\", \"Correlation\": 0.4, \"Count\": 0.1326530612244898}, {\"Statement\": \"MagWeakCorr\", \"Correlation\": 0.6, \"Count\": 0.15306122448979592}, {\"Statement\": \"MagWeakCorr\", \"Correlation\": 0.8, \"Count\": 0.061224489795918366}, {\"Statement\": \"RegLooseRel\", \"Correlation\": -0.8, \"Count\": 0.10101010101010101}, {\"Statement\": \"RegLooseRel\", \"Correlation\": -0.6, \"Count\": 0.1414141414141414}, {\"Statement\": \"RegLooseRel\", \"Correlation\": -0.4, \"Count\": 0.09090909090909091}, {\"Statement\": \"RegLooseRel\", \"Correlation\": -0.2, \"Count\": 0.10101010101010101}, {\"Statement\": \"RegLooseRel\", \"Correlation\": 0.0, \"Count\": 0.09090909090909091}, {\"Statement\": \"RegLooseRel\", \"Correlation\": 0.2, \"Count\": 0.08080808080808081}, {\"Statement\": \"RegLooseRel\", \"Correlation\": 0.4, \"Count\": 0.1414141414141414}, {\"Statement\": \"RegLooseRel\", \"Correlation\": 0.6, \"Count\": 0.18181818181818182}, {\"Statement\": \"RegLooseRel\", \"Correlation\": 0.8, \"Count\": 0.0707070707070707}, {\"Statement\": \"RegTightRel\", \"Correlation\": -0.8, \"Count\": 0.34146341463414637}, {\"Statement\": \"RegTightRel\", \"Correlation\": -0.6, \"Count\": 0.0975609756097561}, {\"Statement\": \"RegTightRel\", \"Correlation\": -0.4, \"Count\": 0.024390243902439025}, {\"Statement\": \"RegTightRel\", \"Correlation\": -0.2, \"Count\": 0.024390243902439025}, {\"Statement\": \"RegTightRel\", \"Correlation\": 0.0, \"Count\": 0.036585365853658534}, {\"Statement\": \"RegTightRel\", \"Correlation\": 0.2, \"Count\": 0.06097560975609756}, {\"Statement\": \"RegTightRel\", \"Correlation\": 0.4, \"Count\": 0.012195121951219513}, {\"Statement\": \"RegTightRel\", \"Correlation\": 0.6, \"Count\": 0.04878048780487805}, {\"Statement\": \"RegTightRel\", \"Correlation\": 0.8, \"Count\": 0.35365853658536583}, {\"Statement\": \"SpValuesHigh\", \"Correlation\": -0.8, \"Count\": 0.03529411764705882}, {\"Statement\": \"SpValuesHigh\", \"Correlation\": -0.6, \"Count\": 0.03529411764705882}, {\"Statement\": \"SpValuesHigh\", \"Correlation\": -0.4, \"Count\": 0.058823529411764705}, {\"Statement\": \"SpValuesHigh\", \"Correlation\": -0.2, \"Count\": 0.10588235294117647}, {\"Statement\": \"SpValuesHigh\", \"Correlation\": 0.0, \"Count\": 0.047058823529411764}, {\"Statement\": \"SpValuesHigh\", \"Correlation\": 0.2, \"Count\": 0.047058823529411764}, {\"Statement\": \"SpValuesHigh\", \"Correlation\": 0.4, \"Count\": 0.058823529411764705}, {\"Statement\": \"SpValuesHigh\", \"Correlation\": 0.6, \"Count\": 0.27058823529411763}, {\"Statement\": \"SpValuesHigh\", \"Correlation\": 0.8, \"Count\": 0.3411764705882353}, {\"Statement\": \"SpValuesLow\", \"Correlation\": -0.8, \"Count\": 0.3}, {\"Statement\": \"SpValuesLow\", \"Correlation\": -0.6, \"Count\": 0.3}, {\"Statement\": \"SpValuesLow\", \"Correlation\": -0.4, \"Count\": 0.1375}, {\"Statement\": \"SpValuesLow\", \"Correlation\": -0.2, \"Count\": 0.025}, {\"Statement\": \"SpValuesLow\", \"Correlation\": 0.0, \"Count\": 0.05}, {\"Statement\": \"SpValuesLow\", \"Correlation\": 0.2, \"Count\": 0.025}, {\"Statement\": \"SpValuesLow\", \"Correlation\": 0.4, \"Count\": 0.05}, {\"Statement\": \"SpValuesLow\", \"Correlation\": 0.6, \"Count\": 0.0375}, {\"Statement\": \"SpValuesLow\", \"Correlation\": 0.8, \"Count\": 0.075}]}}, {\"mode\": \"vega-lite\"});\n",
       "</script>"
      ],
      "text/plain": [
       "alt.FacetChart(...)"
      ]
     },
     "execution_count": 12,
     "metadata": {},
     "output_type": "execute_result"
    }
   ],
   "source": [
    "#Plot normalized signatures of statements\n",
    "\n",
    "#dvis = d2[d2[\"Statement\"].isin(['MagStrongCorr','MagModCorr','MagWeakCorr'])]\n",
    "#display(dvis)\n",
    "#dvis['sorting'] = pd.Categorical(dvis[\"Statement\"],mag_order)\n",
    "#dvis.sort_values(['sorting'])\n",
    "#print(dvis)\n",
    "c = d2.groupby(['Statement','Correlation'])['Count'].sum()\n",
    "dmod = pd.DataFrame(c / c.groupby(level=0).sum()).reset_index()\n",
    "\n",
    "alt.Chart(dmod).mark_area(color='#a00000').encode(\n",
    "    x='Correlation:N',\n",
    "    y=alt.Y('Count:Q',title=None,scale=alt.Scale(domain=(0, 0.4))),\n",
    ").properties(width=150,height=50).facet(row='Statement:O').configure_axis()"
   ]
  },
  {
   "cell_type": "markdown",
   "metadata": {},
   "source": [
    "**KEY BLOCK FOR CHANGING OBJECT OF ANALYSIS:**"
   ]
  },
  {
   "cell_type": "code",
   "execution_count": 113,
   "metadata": {},
   "outputs": [],
   "source": [
    "behdir = ['BehDownwardTrend','BehUpwardTrend']\n",
    "magstatements  = [\"MagStrongCorr\",\"MagModCorr\",\"MagWeakCorr\"]\n",
    "reldir = [\"DirNegCorr\",\"DirPosCorr\"]\n",
    "disrel = [\"DisClearRel\",\"DisNoClear\"]\n",
    "relreg = [\"RegLooseRel\",\"RegTightRel\"]\n",
    "spacepos = [\"SpValuesLow\",\"SpValuesHigh\"]\n",
    "relpos = [\"InfVarLow\",\"InfVarHigh\"]\n",
    "\n",
    "analysing = relpos\n",
    "\n",
    "dvis = d2[d2[\"Statement\"].isin(analysing)]\n",
    "\n",
    "c = dvis.groupby(['Statement','Correlation'])['Count'].sum()\n",
    "dmod = pd.DataFrame(c / c.groupby(level=0).sum()).reset_index()\n",
    "#p,q,r = list(dmod.groupby('Statement')['Count'].apply(list))\n",
    "e2chart = alt.Chart(dmod).mark_bar(tooltip=True,color='#a00000').encode(\n",
    "    x=alt.X('Correlation:O',title=None),\n",
    "    #y='Count:Q'\n",
    "    y=alt.Y('Count:Q',title=None,scale=alt.Scale(domain=(0, 0.5))),\n",
    "    #column=alt.Column('Negative:N',title='Negative statement?'),\n",
    "    row=alt.Row('Statement:O',title=None,sort=analysing,spacing=15)\n",
    ").properties(width=100,height=80\n",
    ").resolve_scale(\n",
    "    x='independent',\n",
    "    y='independent'\n",
    ")"
   ]
  },
  {
   "cell_type": "code",
   "execution_count": 114,
   "metadata": {},
   "outputs": [
    {
     "data": {
      "text/html": [
       "\n",
       "<div id=\"altair-viz-bf7fd07ed04f4fce91ca8834b87e8284\"></div>\n",
       "<script type=\"text/javascript\">\n",
       "  (function(spec, embedOpt){\n",
       "    let outputDiv = document.currentScript.previousElementSibling;\n",
       "    if (outputDiv.id !== \"altair-viz-bf7fd07ed04f4fce91ca8834b87e8284\") {\n",
       "      outputDiv = document.getElementById(\"altair-viz-bf7fd07ed04f4fce91ca8834b87e8284\");\n",
       "    }\n",
       "    const paths = {\n",
       "      \"vega\": \"https://cdn.jsdelivr.net/npm//vega@5?noext\",\n",
       "      \"vega-lib\": \"https://cdn.jsdelivr.net/npm//vega-lib?noext\",\n",
       "      \"vega-lite\": \"https://cdn.jsdelivr.net/npm//vega-lite@4.8.1?noext\",\n",
       "      \"vega-embed\": \"https://cdn.jsdelivr.net/npm//vega-embed@6?noext\",\n",
       "    };\n",
       "\n",
       "    function loadScript(lib) {\n",
       "      return new Promise(function(resolve, reject) {\n",
       "        var s = document.createElement('script');\n",
       "        s.src = paths[lib];\n",
       "        s.async = true;\n",
       "        s.onload = () => resolve(paths[lib]);\n",
       "        s.onerror = () => reject(`Error loading script: ${paths[lib]}`);\n",
       "        document.getElementsByTagName(\"head\")[0].appendChild(s);\n",
       "      });\n",
       "    }\n",
       "\n",
       "    function showError(err) {\n",
       "      outputDiv.innerHTML = `<div class=\"error\" style=\"color:red;\">${err}</div>`;\n",
       "      throw err;\n",
       "    }\n",
       "\n",
       "    function displayChart(vegaEmbed) {\n",
       "      vegaEmbed(outputDiv, spec, embedOpt)\n",
       "        .catch(err => showError(`Javascript Error: ${err.message}<br>This usually means there's a typo in your chart specification. See the javascript console for the full traceback.`));\n",
       "    }\n",
       "\n",
       "    if(typeof define === \"function\" && define.amd) {\n",
       "      requirejs.config({paths});\n",
       "      require([\"vega-embed\"], displayChart, err => showError(`Error loading script: ${err.message}`));\n",
       "    } else if (typeof vegaEmbed === \"function\") {\n",
       "      displayChart(vegaEmbed);\n",
       "    } else {\n",
       "      loadScript(\"vega\")\n",
       "        .then(() => loadScript(\"vega-lite\"))\n",
       "        .then(() => loadScript(\"vega-embed\"))\n",
       "        .catch(showError)\n",
       "        .then(() => displayChart(vegaEmbed));\n",
       "    }\n",
       "  })({\"config\": {\"mark\": {\"color\": \"#000050\"}, \"title\": {\"font\": \"Avenir\", \"anchor\": \"end\"}, \"axis\": {\"labelFont\": \"Avenir\", \"titleFont\": \"Avenir\"}, \"headerColumn\": {\"labels\": false}, \"header\": {\"labelFont\": \"Avenir\", \"labelFontSize\": 12, \"titleFont\": \"Avenir\"}, \"legend\": {\"labelFont\": \"Avenir\", \"titleFont\": \"Avenir\"}}, \"data\": {\"name\": \"data-172a57bb970f26bdefdfbcb6071814f2\"}, \"mark\": {\"type\": \"bar\", \"color\": \"#a00000\", \"tooltip\": true}, \"encoding\": {\"row\": {\"type\": \"ordinal\", \"field\": \"Statement\", \"sort\": [\"InfVarLow\", \"InfVarHigh\"], \"spacing\": 15, \"title\": null}, \"x\": {\"type\": \"ordinal\", \"field\": \"Correlation\", \"title\": null}, \"y\": {\"type\": \"quantitative\", \"field\": \"Count\", \"scale\": {\"domain\": [0, 0.5]}, \"title\": null}}, \"height\": 80, \"resolve\": {\"scale\": {\"x\": \"independent\", \"y\": \"independent\"}}, \"width\": 100, \"$schema\": \"https://vega.github.io/schema/vega-lite/v4.8.1.json\", \"datasets\": {\"data-172a57bb970f26bdefdfbcb6071814f2\": [{\"Statement\": \"InfVarHigh\", \"Correlation\": -0.8, \"Count\": 0.11702127659574468}, {\"Statement\": \"InfVarHigh\", \"Correlation\": -0.6, \"Count\": 0.05319148936170213}, {\"Statement\": \"InfVarHigh\", \"Correlation\": -0.4, \"Count\": 0.031914893617021274}, {\"Statement\": \"InfVarHigh\", \"Correlation\": -0.2, \"Count\": 0.07446808510638298}, {\"Statement\": \"InfVarHigh\", \"Correlation\": 0.0, \"Count\": 0.031914893617021274}, {\"Statement\": \"InfVarHigh\", \"Correlation\": 0.2, \"Count\": 0.0425531914893617}, {\"Statement\": \"InfVarHigh\", \"Correlation\": 0.4, \"Count\": 0.11702127659574468}, {\"Statement\": \"InfVarHigh\", \"Correlation\": 0.6, \"Count\": 0.23404255319148937}, {\"Statement\": \"InfVarHigh\", \"Correlation\": 0.8, \"Count\": 0.2978723404255319}, {\"Statement\": \"InfVarLow\", \"Correlation\": -0.8, \"Count\": 0.3333333333333333}, {\"Statement\": \"InfVarLow\", \"Correlation\": -0.6, \"Count\": 0.30864197530864196}, {\"Statement\": \"InfVarLow\", \"Correlation\": -0.4, \"Count\": 0.13580246913580246}, {\"Statement\": \"InfVarLow\", \"Correlation\": -0.2, \"Count\": 0.037037037037037035}, {\"Statement\": \"InfVarLow\", \"Correlation\": 0.0, \"Count\": 0.06172839506172839}, {\"Statement\": \"InfVarLow\", \"Correlation\": 0.2, \"Count\": 0.024691358024691357}, {\"Statement\": \"InfVarLow\", \"Correlation\": 0.4, \"Count\": 0.037037037037037035}, {\"Statement\": \"InfVarLow\", \"Correlation\": 0.6, \"Count\": 0.024691358024691357}, {\"Statement\": \"InfVarLow\", \"Correlation\": 0.8, \"Count\": 0.037037037037037035}]}}, {\"mode\": \"vega-lite\"});\n",
       "</script>"
      ],
      "text/plain": [
       "alt.Chart(...)"
      ]
     },
     "execution_count": 114,
     "metadata": {},
     "output_type": "execute_result"
    }
   ],
   "source": [
    "e2chart"
   ]
  },
  {
   "cell_type": "markdown",
   "metadata": {},
   "source": [
    "### Comparing results of E1 and E2\n",
    "\n",
    "The following blocks load and display the results from the first experiment. This requires the last blocks of the wec-analysis notebook to be run.. Further down, we define the Hellinger distance. To calculate the distances, we need to extract the values from the two dataframes from E1 and E2\n",
    "\n"
   ]
  },
  {
   "cell_type": "code",
   "execution_count": 18,
   "metadata": {},
   "outputs": [],
   "source": [
    "cat_statements = pd.read_pickle(\"WECdf-categorised.pkl\")"
   ]
  },
  {
   "cell_type": "code",
   "execution_count": 19,
   "metadata": {},
   "outputs": [],
   "source": [
    "%store -r cat_dict"
   ]
  },
  {
   "cell_type": "code",
   "execution_count": 20,
   "metadata": {},
   "outputs": [],
   "source": [
    "def process_pair(e1df,concept_,trait_):\n",
    "    def filter_series_by_category(sentence,list_cat,cat_filter,func):\n",
    "    #    lst= []\n",
    "        for word in sentence:\n",
    "            if (word[0] in list_cat) and (word[1].startswith(func)):\n",
    "                if list_cat[word[0]] == cat_filter:\n",
    "                    return word[0]\n",
    "\n",
    "        #return sorted(list(c.items()),key=lambda x: -x[1])\n",
    "\n",
    "    list_trait = list(set(e1df['lemmatized'].apply(lambda x: filter_series_by_category(x,cat_dict,trait_,'JJ')).dropna().values))\n",
    "    list_concept = list(set(e1df['lemmatized'].apply(lambda x: filter_series_by_category(x,cat_dict,concept_,'NN')).dropna().values))\n",
    "\n",
    "    def cf(x,list_cat,func):\n",
    "        for word in x:\n",
    "            if (word[0] in list_cat): #and (word[1].startswith(func)):\n",
    "                return True\n",
    "        return False\n",
    "\n",
    "    trait_filtered = e1df.loc[e1df.lemmatized.apply(lambda x: cf(x,list_trait,'JJ'))].dropna(axis=1)[['ResponseId','Question','Answer','lemmatized','lemma_cat_tagged']]\n",
    "    concept_filtered = e1df.loc[e1df.lemmatized.apply(lambda x: cf(x,list_concept,'NN'))].dropna(axis=1)[['ResponseId','Question','Answer','lemmatized','lemma_cat_tagged']]\n",
    "   \n",
    "    trait_filtered.lemmatized = trait_filtered.lemmatized.apply(tuple)\n",
    "    concept_filtered.lemmatized = concept_filtered.lemmatized.apply(tuple)\n",
    "\n",
    "    trait_filtered.lemma_cat_tagged = trait_filtered.lemma_cat_tagged.apply(tuple)\n",
    "    concept_filtered.lemma_cat_tagged = concept_filtered.lemma_cat_tagged.apply(tuple)\n",
    "\n",
    "    merged = concept_filtered.merge(trait_filtered,how='inner')\n",
    "    merged.lemmatized = merged.lemmatized.apply(list)\n",
    "    merged.lemma_cat_tagged = merged.lemma_cat_tagged.apply(list)\n",
    "    \n",
    "#    display(list(set(merged['lemmatized'].apply(lambda x: filter_series_by_category(x,cat_dict,trait_,'JJ')).dropna().values)))\n",
    "    \n",
    "    return merged,list_trait,list_concept"
   ]
  },
  {
   "cell_type": "markdown",
   "metadata": {},
   "source": [
    "To change the concepts and traits to compare, modify the second and third parameters below:"
   ]
  },
  {
   "cell_type": "markdown",
   "metadata": {},
   "source": [
    "**KEY BLOCK FOR CHANGING OBJECT OF ANALYSIS:**"
   ]
  },
  {
   "cell_type": "code",
   "execution_count": 90,
   "metadata": {},
   "outputs": [],
   "source": [
    "merged,traits,concepts = process_pair(cat_statements,'RELATION','MAGNITUDE')"
   ]
  },
  {
   "cell_type": "markdown",
   "metadata": {},
   "source": [
    "Below we need to specify the file containing the synonym mapping (e.g. map every discernibility word to \"clear\" for the comparison). Alternative arrangements can be used for this, but this supplementary material is based on loading each file at a time."
   ]
  },
  {
   "cell_type": "code",
   "execution_count": 91,
   "metadata": {},
   "outputs": [],
   "source": [
    "compare_scale = {}\n",
    "with open('magscale-filtered.csv',encoding='utf-8-sig') as f:\n",
    "#     magscale = dict(filter(None, csv.reader(f)))\n",
    "    #compare_scale = {k: int(v) for k,v in csv.reader(f)}\n",
    "    compare_scale = {k: v for k,v in csv.reader(f)}"
   ]
  },
  {
   "cell_type": "code",
   "execution_count": 23,
   "metadata": {},
   "outputs": [],
   "source": [
    "def assign_multi_value(sentence,scale):\n",
    "    svalues = {}\n",
    "    for word in sentence:\n",
    "        if word[0] in scale:\n",
    "            svalues[word[0]] = scale[word[0]]\n",
    "    return svalues\n",
    "\n",
    "def tag_values(data,scale):\n",
    "    data['multiscale'] =  data['lemmatized'].apply(lambda x: assign_multi_value(x,scale))\n",
    "    ms = data['multiscale'].apply(pd.Series).reset_index() #.dropna(how='all',subset=scale.keys())\n",
    "    #print(ms.dropna(how='all',subset=scale.keys()))\n",
    "    #print(ms.dropna(how='all',subset=scale.keys()).melt(id_vars='index')[['index', 'value']].set_index('index'))\n",
    "    #print(pd.merge(merged[['ResponseId','Question','lemma_cat_tagged']],ms.dropna(how='all',subset=scale.keys()).melt(id_vars='index')[['index', 'value']].set_index('index'),left_index=True,right_index=True).dropna())\n",
    "    ms = ms.melt(id_vars='index')[['index', 'value']].set_index('index')\n",
    "    merg =  pd.merge(merged[['ResponseId','Question','lemma_cat_tagged']],ms,left_index=True,right_index=True).dropna()\n",
    "    #print(len(merg))\n",
    "    return merg.drop('ResponseId',axis=1).reset_index(drop=True)\n",
    "\n",
    "#%store -r e1df\n",
    "def group_answers(to_group):\n",
    "    special = ['NEGATE']\n",
    "    concepts = ['RELATION','BEHAVIOUR','SPACE','INFERENCES','GRAPHIC','OTHER']\n",
    "    traits = ['MAGNITUDE','DIRECTION','POSITION','DISCERNIBILITY','REGULARITY']\n",
    "    floatQ = {'C8P': 0.8,'C6P': 0.6,'C4P':0.4,'C2P':0.2,'C0': 0,'C2N': -0.2,'C4N': -0.4,'C6N':-0.6,'C8N': -0.8}\n",
    "\n",
    "    to_group['special'] = to_group['lemma_cat_tagged'].apply(lambda x: True if len([s for s in x if s in special]) > 0 else False)\n",
    "    sp = to_group['special'].apply(pd.Series).reset_index().melt(id_vars='index').dropna()[['index', 'value']].set_index('index')\n",
    "    data = pd.merge(to_group,sp,left_index=True,right_index=True).rename(columns={'value_x': 'Cat', 'special': 'Negative'})\n",
    "    #print(data)\n",
    "    #print(data.groupby(['Question','Cat','Negative']).apply(len))\n",
    "    group_e1df = data.groupby(['Question','Cat','Negative']).apply(len).reset_index().rename(columns={0: \"Count\"})\n",
    "#    print(group_e1df.sort_values(by=['Cat','Question']))\n",
    "    group_e1df['Correlation'] = group_e1df['Question'].apply(lambda x: floatQ[x])\n",
    "    return group_e1df"
   ]
  },
  {
   "cell_type": "code",
   "execution_count": 92,
   "metadata": {},
   "outputs": [],
   "source": [
    "ed1fc = tag_values(merged,compare_scale)\n",
    "grouped_data = group_answers(ed1fc)"
   ]
  },
  {
   "cell_type": "code",
   "execution_count": 93,
   "metadata": {},
   "outputs": [],
   "source": [
    "grouped_data['Cat'] = grouped_data['Cat'].apply(lambda x: {1 :'Weak',2: 'Moderate', 3:'Strong'}[float(x)])"
   ]
  },
  {
   "cell_type": "code",
   "execution_count": 94,
   "metadata": {},
   "outputs": [
    {
     "data": {
      "text/html": [
       "\n",
       "<div id=\"altair-viz-0066d3c8c619417eb18ce2ee09aca6d3\"></div>\n",
       "<script type=\"text/javascript\">\n",
       "  (function(spec, embedOpt){\n",
       "    let outputDiv = document.currentScript.previousElementSibling;\n",
       "    if (outputDiv.id !== \"altair-viz-0066d3c8c619417eb18ce2ee09aca6d3\") {\n",
       "      outputDiv = document.getElementById(\"altair-viz-0066d3c8c619417eb18ce2ee09aca6d3\");\n",
       "    }\n",
       "    const paths = {\n",
       "      \"vega\": \"https://cdn.jsdelivr.net/npm//vega@5?noext\",\n",
       "      \"vega-lib\": \"https://cdn.jsdelivr.net/npm//vega-lib?noext\",\n",
       "      \"vega-lite\": \"https://cdn.jsdelivr.net/npm//vega-lite@4.8.1?noext\",\n",
       "      \"vega-embed\": \"https://cdn.jsdelivr.net/npm//vega-embed@6?noext\",\n",
       "    };\n",
       "\n",
       "    function loadScript(lib) {\n",
       "      return new Promise(function(resolve, reject) {\n",
       "        var s = document.createElement('script');\n",
       "        s.src = paths[lib];\n",
       "        s.async = true;\n",
       "        s.onload = () => resolve(paths[lib]);\n",
       "        s.onerror = () => reject(`Error loading script: ${paths[lib]}`);\n",
       "        document.getElementsByTagName(\"head\")[0].appendChild(s);\n",
       "      });\n",
       "    }\n",
       "\n",
       "    function showError(err) {\n",
       "      outputDiv.innerHTML = `<div class=\"error\" style=\"color:red;\">${err}</div>`;\n",
       "      throw err;\n",
       "    }\n",
       "\n",
       "    function displayChart(vegaEmbed) {\n",
       "      vegaEmbed(outputDiv, spec, embedOpt)\n",
       "        .catch(err => showError(`Javascript Error: ${err.message}<br>This usually means there's a typo in your chart specification. See the javascript console for the full traceback.`));\n",
       "    }\n",
       "\n",
       "    if(typeof define === \"function\" && define.amd) {\n",
       "      requirejs.config({paths});\n",
       "      require([\"vega-embed\"], displayChart, err => showError(`Error loading script: ${err.message}`));\n",
       "    } else if (typeof vegaEmbed === \"function\") {\n",
       "      displayChart(vegaEmbed);\n",
       "    } else {\n",
       "      loadScript(\"vega\")\n",
       "        .then(() => loadScript(\"vega-lite\"))\n",
       "        .then(() => loadScript(\"vega-embed\"))\n",
       "        .catch(showError)\n",
       "        .then(() => displayChart(vegaEmbed));\n",
       "    }\n",
       "  })({\"config\": {\"mark\": {\"color\": \"#000050\"}, \"title\": {\"font\": \"Avenir\", \"anchor\": \"end\"}, \"axis\": {\"labelFont\": \"Avenir\", \"titleFont\": \"Avenir\"}, \"headerColumn\": {\"labels\": false}, \"header\": {\"labelFont\": \"Avenir\", \"labelFontSize\": 12, \"titleFont\": \"Avenir\"}, \"legend\": {\"labelFont\": \"Avenir\", \"titleFont\": \"Avenir\"}}, \"data\": {\"name\": \"data-5737250711eefc5e44989bb140da3546\"}, \"mark\": \"bar\", \"encoding\": {\"column\": {\"type\": \"nominal\", \"field\": \"Negative\", \"title\": \"Negative statement?\"}, \"row\": {\"type\": \"ordinal\", \"field\": \"Cat\"}, \"x\": {\"type\": \"ordinal\", \"field\": \"Correlation\"}, \"y\": {\"type\": \"quantitative\", \"field\": \"Count\", \"title\": null}}, \"height\": 80, \"width\": 100, \"$schema\": \"https://vega.github.io/schema/vega-lite/v4.8.1.json\", \"datasets\": {\"data-5737250711eefc5e44989bb140da3546\": [{\"Question\": \"C0\", \"Cat\": \"Weak\", \"Negative\": false, \"Count\": 7, \"Correlation\": 0.0}, {\"Question\": \"C0\", \"Cat\": \"Moderate\", \"Negative\": false, \"Count\": 2, \"Correlation\": 0.0}, {\"Question\": \"C0\", \"Cat\": \"Strong\", \"Negative\": false, \"Count\": 2, \"Correlation\": 0.0}, {\"Question\": \"C2N\", \"Cat\": \"Weak\", \"Negative\": false, \"Count\": 12, \"Correlation\": -0.2}, {\"Question\": \"C2N\", \"Cat\": \"Moderate\", \"Negative\": false, \"Count\": 1, \"Correlation\": -0.2}, {\"Question\": \"C2N\", \"Cat\": \"Strong\", \"Negative\": false, \"Count\": 2, \"Correlation\": -0.2}, {\"Question\": \"C2P\", \"Cat\": \"Weak\", \"Negative\": false, \"Count\": 15, \"Correlation\": 0.2}, {\"Question\": \"C2P\", \"Cat\": \"Moderate\", \"Negative\": false, \"Count\": 5, \"Correlation\": 0.2}, {\"Question\": \"C2P\", \"Cat\": \"Strong\", \"Negative\": false, \"Count\": 3, \"Correlation\": 0.2}, {\"Question\": \"C4N\", \"Cat\": \"Weak\", \"Negative\": false, \"Count\": 24, \"Correlation\": -0.4}, {\"Question\": \"C4N\", \"Cat\": \"Moderate\", \"Negative\": false, \"Count\": 1, \"Correlation\": -0.4}, {\"Question\": \"C4N\", \"Cat\": \"Strong\", \"Negative\": false, \"Count\": 1, \"Correlation\": -0.4}, {\"Question\": \"C4P\", \"Cat\": \"Weak\", \"Negative\": false, \"Count\": 21, \"Correlation\": 0.4}, {\"Question\": \"C4P\", \"Cat\": \"Moderate\", \"Negative\": false, \"Count\": 3, \"Correlation\": 0.4}, {\"Question\": \"C4P\", \"Cat\": \"Strong\", \"Negative\": false, \"Count\": 3, \"Correlation\": 0.4}, {\"Question\": \"C6N\", \"Cat\": \"Weak\", \"Negative\": false, \"Count\": 17, \"Correlation\": -0.6}, {\"Question\": \"C6N\", \"Cat\": \"Moderate\", \"Negative\": false, \"Count\": 2, \"Correlation\": -0.6}, {\"Question\": \"C6N\", \"Cat\": \"Strong\", \"Negative\": false, \"Count\": 5, \"Correlation\": -0.6}, {\"Question\": \"C6P\", \"Cat\": \"Weak\", \"Negative\": false, \"Count\": 13, \"Correlation\": 0.6}, {\"Question\": \"C6P\", \"Cat\": \"Moderate\", \"Negative\": false, \"Count\": 5, \"Correlation\": 0.6}, {\"Question\": \"C6P\", \"Cat\": \"Strong\", \"Negative\": false, \"Count\": 11, \"Correlation\": 0.6}, {\"Question\": \"C8N\", \"Cat\": \"Weak\", \"Negative\": false, \"Count\": 6, \"Correlation\": -0.8}, {\"Question\": \"C8N\", \"Cat\": \"Moderate\", \"Negative\": false, \"Count\": 4, \"Correlation\": -0.8}, {\"Question\": \"C8N\", \"Cat\": \"Strong\", \"Negative\": false, \"Count\": 15, \"Correlation\": -0.8}, {\"Question\": \"C8P\", \"Cat\": \"Weak\", \"Negative\": false, \"Count\": 4, \"Correlation\": 0.8}, {\"Question\": \"C8P\", \"Cat\": \"Moderate\", \"Negative\": false, \"Count\": 2, \"Correlation\": 0.8}, {\"Question\": \"C8P\", \"Cat\": \"Strong\", \"Negative\": false, \"Count\": 19, \"Correlation\": 0.8}]}}, {\"mode\": \"vega-lite\"});\n",
       "</script>"
      ],
      "text/plain": [
       "alt.Chart(...)"
      ]
     },
     "execution_count": 94,
     "metadata": {},
     "output_type": "execute_result"
    }
   ],
   "source": [
    "exp1 = alt.Chart(grouped_data[grouped_data['Negative'] == False]).mark_bar().encode( #[group_e1df['Negative'] == False]).mark_bar().encode(\n",
    "    x='Correlation:O',\n",
    "    y=alt.Y('Count:Q',title=None),\n",
    "    column=alt.Column('Negative:N',title='Negative statement?'),\n",
    "    row=alt.Row('Cat:O')).properties(width=100,height=80) #,title='Occurrence of {} words per correlation'.format(trait))\n",
    "exp1"
   ]
  },
  {
   "cell_type": "markdown",
   "metadata": {},
   "source": [
    "Normalize and plot values.  \n",
    "The first function is used when we have negative values. For some combinations, we won't have that."
   ]
  },
  {
   "cell_type": "code",
   "execution_count": 79,
   "metadata": {},
   "outputs": [],
   "source": [
    "def normalize_groups_neg(data):\n",
    "    c = data.groupby(['Cat','Negative','Correlation'])['Count'].sum()\n",
    "    wec1df = pd.DataFrame(c / c.groupby(level=0).sum()).reset_index()\n",
    "    return wec1df"
   ]
  },
  {
   "cell_type": "code",
   "execution_count": 95,
   "metadata": {},
   "outputs": [],
   "source": [
    "def normalize_groups(data):\n",
    "    #print(data)\n",
    "    c = data.groupby(['Cat','Correlation'])['Count'].sum()\n",
    "    #print(c)\n",
    "    wec1df = pd.DataFrame(c / c.groupby(level=0).sum()).reset_index()\n",
    "    #print(wec1df)\n",
    "    return wec1df"
   ]
  },
  {
   "cell_type": "code",
   "execution_count": 81,
   "metadata": {},
   "outputs": [
    {
     "ename": "ValueError",
     "evalue": "too many values to unpack (expected 4)",
     "output_type": "error",
     "traceback": [
      "\u001b[0;31m---------------------------------------------------------------------------\u001b[0m",
      "\u001b[0;31mValueError\u001b[0m                                Traceback (most recent call last)",
      "\u001b[0;32m<ipython-input-81-53bf1152bcf2>\u001b[0m in \u001b[0;36m<module>\u001b[0;34m\u001b[0m\n\u001b[1;32m     10\u001b[0m \u001b[0;31m#x,y = wec1df[wec1df['Cat'] == 'clear'].groupby(['Cat','Negative'])['Count'].apply(list)\u001b[0m\u001b[0;34m\u001b[0m\u001b[0;34m\u001b[0m\u001b[0;34m\u001b[0m\u001b[0m\n\u001b[1;32m     11\u001b[0m \u001b[0;31m#wec1df[wec1df['Negative'] == False]\u001b[0m\u001b[0;34m\u001b[0m\u001b[0;34m\u001b[0m\u001b[0;34m\u001b[0m\u001b[0m\n\u001b[0;32m---> 12\u001b[0;31m \u001b[0mbinary1\u001b[0m\u001b[0;34m,\u001b[0m\u001b[0mbinary1_neg\u001b[0m\u001b[0;34m,\u001b[0m\u001b[0mbinary2\u001b[0m\u001b[0;34m,\u001b[0m\u001b[0mbinary2_neg\u001b[0m \u001b[0;34m=\u001b[0m \u001b[0mgrouped_data\u001b[0m\u001b[0;34m.\u001b[0m\u001b[0mgroupby\u001b[0m\u001b[0;34m(\u001b[0m\u001b[0;34m[\u001b[0m\u001b[0;34m'Cat'\u001b[0m\u001b[0;34m,\u001b[0m\u001b[0;34m'Negative'\u001b[0m\u001b[0;34m]\u001b[0m\u001b[0;34m,\u001b[0m\u001b[0mas_index\u001b[0m\u001b[0;34m=\u001b[0m\u001b[0;32mFalse\u001b[0m\u001b[0;34m)\u001b[0m\u001b[0;34m\u001b[0m\u001b[0;34m\u001b[0m\u001b[0m\n\u001b[0m",
      "\u001b[0;31mValueError\u001b[0m: too many values to unpack (expected 4)"
     ]
    }
   ],
   "source": [
    "e1_normalized = normalize_groups_neg(grouped_data)\n",
    "#e1_normalized = normalize_groups(grouped_data[grouped_data['Negative'] == False])\n",
    "#x,y,w,z = e1_normalized.groupby(['Cat','Negative'])['Count'].apply(list)\n",
    "#x,y = grouped_data[grouped_data['Negative'] == False].groupby(['Cat','Negative'])['Count'].apply(list)\n",
    "#print(x)\n",
    "#x.insert(4,0)\n",
    "#x.insert(5,0)\n",
    "#y.insert(4,0)\n",
    "#x,y = wec1df[wec1df['Negative'] == False].groupby(['Cat','Negative'])['Count'].apply(list)\n",
    "#x,y = wec1df[wec1df['Cat'] == 'clear'].groupby(['Cat','Negative'])['Count'].apply(list)\n",
    "#wec1df[wec1df['Negative'] == False]\n",
    "binary1,binary1_neg,binary2,binary2_neg = grouped_data.groupby(['Cat','Negative'],as_index=False)"
   ]
  },
  {
   "cell_type": "markdown",
   "metadata": {},
   "source": [
    "Code below only for Magnitude:"
   ]
  },
  {
   "cell_type": "code",
   "execution_count": 96,
   "metadata": {},
   "outputs": [],
   "source": [
    "e1_normalized = normalize_groups(grouped_data[grouped_data['Negative'] == False])\n",
    "x,y,z = e1_normalized.groupby('Cat')['Count'].apply(list)"
   ]
  },
  {
   "cell_type": "code",
   "execution_count": 97,
   "metadata": {},
   "outputs": [
    {
     "data": {
      "text/html": [
       "\n",
       "<div id=\"altair-viz-1b73e4b089fb4e54b0b7ce89dc64768a\"></div>\n",
       "<script type=\"text/javascript\">\n",
       "  (function(spec, embedOpt){\n",
       "    let outputDiv = document.currentScript.previousElementSibling;\n",
       "    if (outputDiv.id !== \"altair-viz-1b73e4b089fb4e54b0b7ce89dc64768a\") {\n",
       "      outputDiv = document.getElementById(\"altair-viz-1b73e4b089fb4e54b0b7ce89dc64768a\");\n",
       "    }\n",
       "    const paths = {\n",
       "      \"vega\": \"https://cdn.jsdelivr.net/npm//vega@5?noext\",\n",
       "      \"vega-lib\": \"https://cdn.jsdelivr.net/npm//vega-lib?noext\",\n",
       "      \"vega-lite\": \"https://cdn.jsdelivr.net/npm//vega-lite@4.8.1?noext\",\n",
       "      \"vega-embed\": \"https://cdn.jsdelivr.net/npm//vega-embed@6?noext\",\n",
       "    };\n",
       "\n",
       "    function loadScript(lib) {\n",
       "      return new Promise(function(resolve, reject) {\n",
       "        var s = document.createElement('script');\n",
       "        s.src = paths[lib];\n",
       "        s.async = true;\n",
       "        s.onload = () => resolve(paths[lib]);\n",
       "        s.onerror = () => reject(`Error loading script: ${paths[lib]}`);\n",
       "        document.getElementsByTagName(\"head\")[0].appendChild(s);\n",
       "      });\n",
       "    }\n",
       "\n",
       "    function showError(err) {\n",
       "      outputDiv.innerHTML = `<div class=\"error\" style=\"color:red;\">${err}</div>`;\n",
       "      throw err;\n",
       "    }\n",
       "\n",
       "    function displayChart(vegaEmbed) {\n",
       "      vegaEmbed(outputDiv, spec, embedOpt)\n",
       "        .catch(err => showError(`Javascript Error: ${err.message}<br>This usually means there's a typo in your chart specification. See the javascript console for the full traceback.`));\n",
       "    }\n",
       "\n",
       "    if(typeof define === \"function\" && define.amd) {\n",
       "      requirejs.config({paths});\n",
       "      require([\"vega-embed\"], displayChart, err => showError(`Error loading script: ${err.message}`));\n",
       "    } else if (typeof vegaEmbed === \"function\") {\n",
       "      displayChart(vegaEmbed);\n",
       "    } else {\n",
       "      loadScript(\"vega\")\n",
       "        .then(() => loadScript(\"vega-lite\"))\n",
       "        .then(() => loadScript(\"vega-embed\"))\n",
       "        .catch(showError)\n",
       "        .then(() => displayChart(vegaEmbed));\n",
       "    }\n",
       "  })({\"config\": {\"mark\": {\"color\": \"#000050\"}, \"title\": {\"font\": \"Avenir\", \"anchor\": \"end\"}, \"axis\": {\"labelFont\": \"Avenir\", \"titleFont\": \"Avenir\"}, \"headerColumn\": {\"labels\": false}, \"header\": {\"labelFont\": \"Avenir\", \"labelFontSize\": 12, \"titleFont\": \"Avenir\"}, \"legend\": {\"labelFont\": \"Avenir\", \"titleFont\": \"Avenir\"}}, \"data\": {\"name\": \"data-f4e1074595e54c67aae3760b38f30eab\"}, \"mark\": \"bar\", \"encoding\": {\"row\": {\"type\": \"ordinal\", \"field\": \"Cat\", \"sort\": [\"Strong\", \"Moderate\", \"Weak\"], \"spacing\": 15, \"title\": \"\"}, \"x\": {\"type\": \"nominal\", \"field\": \"Correlation\", \"title\": null}, \"y\": {\"type\": \"quantitative\", \"field\": \"Count\", \"scale\": {\"domain\": [0, 0.5]}, \"title\": null}}, \"height\": 80, \"resolve\": {\"axis\": {\"x\": \"independent\"}}, \"width\": 100, \"$schema\": \"https://vega.github.io/schema/vega-lite/v4.8.1.json\", \"datasets\": {\"data-f4e1074595e54c67aae3760b38f30eab\": [{\"Cat\": \"Moderate\", \"Correlation\": -0.8, \"Count\": 0.16}, {\"Cat\": \"Moderate\", \"Correlation\": -0.6, \"Count\": 0.08}, {\"Cat\": \"Moderate\", \"Correlation\": -0.4, \"Count\": 0.04}, {\"Cat\": \"Moderate\", \"Correlation\": -0.2, \"Count\": 0.04}, {\"Cat\": \"Moderate\", \"Correlation\": 0.0, \"Count\": 0.08}, {\"Cat\": \"Moderate\", \"Correlation\": 0.2, \"Count\": 0.2}, {\"Cat\": \"Moderate\", \"Correlation\": 0.4, \"Count\": 0.12}, {\"Cat\": \"Moderate\", \"Correlation\": 0.6, \"Count\": 0.2}, {\"Cat\": \"Moderate\", \"Correlation\": 0.8, \"Count\": 0.08}, {\"Cat\": \"Strong\", \"Correlation\": -0.8, \"Count\": 0.2459016393442623}, {\"Cat\": \"Strong\", \"Correlation\": -0.6, \"Count\": 0.08196721311475409}, {\"Cat\": \"Strong\", \"Correlation\": -0.4, \"Count\": 0.01639344262295082}, {\"Cat\": \"Strong\", \"Correlation\": -0.2, \"Count\": 0.03278688524590164}, {\"Cat\": \"Strong\", \"Correlation\": 0.0, \"Count\": 0.03278688524590164}, {\"Cat\": \"Strong\", \"Correlation\": 0.2, \"Count\": 0.04918032786885246}, {\"Cat\": \"Strong\", \"Correlation\": 0.4, \"Count\": 0.04918032786885246}, {\"Cat\": \"Strong\", \"Correlation\": 0.6, \"Count\": 0.18032786885245902}, {\"Cat\": \"Strong\", \"Correlation\": 0.8, \"Count\": 0.3114754098360656}, {\"Cat\": \"Weak\", \"Correlation\": -0.8, \"Count\": 0.05042016806722689}, {\"Cat\": \"Weak\", \"Correlation\": -0.6, \"Count\": 0.14285714285714285}, {\"Cat\": \"Weak\", \"Correlation\": -0.4, \"Count\": 0.20168067226890757}, {\"Cat\": \"Weak\", \"Correlation\": -0.2, \"Count\": 0.10084033613445378}, {\"Cat\": \"Weak\", \"Correlation\": 0.0, \"Count\": 0.058823529411764705}, {\"Cat\": \"Weak\", \"Correlation\": 0.2, \"Count\": 0.12605042016806722}, {\"Cat\": \"Weak\", \"Correlation\": 0.4, \"Count\": 0.17647058823529413}, {\"Cat\": \"Weak\", \"Correlation\": 0.6, \"Count\": 0.1092436974789916}, {\"Cat\": \"Weak\", \"Correlation\": 0.8, \"Count\": 0.03361344537815126}]}}, {\"mode\": \"vega-lite\"});\n",
       "</script>"
      ],
      "text/plain": [
       "alt.Chart(...)"
      ]
     },
     "execution_count": 97,
     "metadata": {},
     "output_type": "execute_result"
    }
   ],
   "source": [
    "e1chart = alt.Chart(e1_normalized).mark_bar().encode(\n",
    "    x=alt.X('Correlation:N',title=None),\n",
    "    y=alt.Y('Count:Q',title=None,scale=alt.Scale(domain=(0, 0.5))),\n",
    "   # column=alt.Column('Negative:N',title='Negative statement?'),\n",
    "    row=alt.Row('Cat:O',title='',sort=[\"Strong\",\"Moderate\",\"Weak\"],spacing=15)).properties(width=100,height=80).resolve_axis(x='independent') #,title='Occurrence of {} words per correlation'.format(trait))\n",
    "e1chart"
   ]
  },
  {
   "cell_type": "markdown",
   "metadata": {},
   "source": [
    "The code below is used to fill in the values that are missing from E1, to enable the calculation of the Hellinger distance. It would fail with missing values otherwise."
   ]
  },
  {
   "cell_type": "code",
   "execution_count": 84,
   "metadata": {},
   "outputs": [
    {
     "ename": "TypeError",
     "evalue": "'float' object is not subscriptable",
     "output_type": "error",
     "traceback": [
      "\u001b[0;31m---------------------------------------------------------------------------\u001b[0m",
      "\u001b[0;31mTypeError\u001b[0m                                 Traceback (most recent call last)",
      "\u001b[0;32m<ipython-input-84-8a47c64424f2>\u001b[0m in \u001b[0;36m<module>\u001b[0;34m\u001b[0m\n\u001b[0;32m----> 1\u001b[0;31m \u001b[0mx\u001b[0m\u001b[0;34m[\u001b[0m\u001b[0;36m1\u001b[0m\u001b[0;34m]\u001b[0m\u001b[0;34m[\u001b[0m\u001b[0;34m'Count'\u001b[0m\u001b[0;34m]\u001b[0m \u001b[0;34m=\u001b[0m \u001b[0mx\u001b[0m\u001b[0;34m[\u001b[0m\u001b[0;36m1\u001b[0m\u001b[0;34m]\u001b[0m\u001b[0;34m[\u001b[0m\u001b[0;34m'Count'\u001b[0m\u001b[0;34m]\u001b[0m\u001b[0;34m.\u001b[0m\u001b[0mdivide\u001b[0m\u001b[0;34m(\u001b[0m\u001b[0mx\u001b[0m\u001b[0;34m[\u001b[0m\u001b[0;36m1\u001b[0m\u001b[0;34m]\u001b[0m\u001b[0;34m[\u001b[0m\u001b[0;34m'Count'\u001b[0m\u001b[0;34m]\u001b[0m\u001b[0;34m.\u001b[0m\u001b[0msum\u001b[0m\u001b[0;34m(\u001b[0m\u001b[0;34m)\u001b[0m\u001b[0;34m)\u001b[0m\u001b[0;34m\u001b[0m\u001b[0;34m\u001b[0m\u001b[0m\n\u001b[0m\u001b[1;32m      2\u001b[0m \u001b[0;31m#x[1].concat(pd.DataFrame([{'Correlation': 0.2, 'Count': 0},{'Correlation': -0.2, 'Count': 0}]))\u001b[0m\u001b[0;34m\u001b[0m\u001b[0;34m\u001b[0m\u001b[0;34m\u001b[0m\u001b[0m\n\u001b[1;32m      3\u001b[0m \u001b[0mx\u001b[0m\u001b[0;34m[\u001b[0m\u001b[0;36m1\u001b[0m\u001b[0;34m]\u001b[0m\u001b[0;34m.\u001b[0m\u001b[0mset_index\u001b[0m\u001b[0;34m(\u001b[0m\u001b[0;34m'Question'\u001b[0m\u001b[0;34m,\u001b[0m\u001b[0minplace\u001b[0m\u001b[0;34m=\u001b[0m\u001b[0;32mTrue\u001b[0m\u001b[0;34m)\u001b[0m\u001b[0;34m\u001b[0m\u001b[0;34m\u001b[0m\u001b[0m\n\u001b[1;32m      4\u001b[0m \u001b[0mx\u001b[0m\u001b[0;34m[\u001b[0m\u001b[0;36m1\u001b[0m\u001b[0;34m]\u001b[0m\u001b[0;34m.\u001b[0m\u001b[0mloc\u001b[0m\u001b[0;34m[\u001b[0m\u001b[0;34m'C4N'\u001b[0m\u001b[0;34m]\u001b[0m \u001b[0;34m=\u001b[0m \u001b[0;34m[\u001b[0m\u001b[0;34m'clear'\u001b[0m\u001b[0;34m,\u001b[0m\u001b[0;34m'False'\u001b[0m\u001b[0;34m,\u001b[0m\u001b[0;36m0\u001b[0m\u001b[0;34m,\u001b[0m\u001b[0;34m-\u001b[0m\u001b[0;36m0.4\u001b[0m\u001b[0;34m]\u001b[0m\u001b[0;34m\u001b[0m\u001b[0;34m\u001b[0m\u001b[0m\n\u001b[1;32m      5\u001b[0m \u001b[0mx\u001b[0m\u001b[0;34m[\u001b[0m\u001b[0;36m1\u001b[0m\u001b[0;34m]\u001b[0m\u001b[0;34m.\u001b[0m\u001b[0mloc\u001b[0m\u001b[0;34m[\u001b[0m\u001b[0;34m'C2N'\u001b[0m\u001b[0;34m]\u001b[0m \u001b[0;34m=\u001b[0m \u001b[0;34m[\u001b[0m\u001b[0;34m'clear'\u001b[0m\u001b[0;34m,\u001b[0m\u001b[0;34m'False'\u001b[0m\u001b[0;34m,\u001b[0m\u001b[0;36m0\u001b[0m\u001b[0;34m,\u001b[0m\u001b[0;34m-\u001b[0m\u001b[0;36m0.2\u001b[0m\u001b[0;34m]\u001b[0m\u001b[0;34m\u001b[0m\u001b[0;34m\u001b[0m\u001b[0m\n",
      "\u001b[0;31mTypeError\u001b[0m: 'float' object is not subscriptable"
     ]
    }
   ],
   "source": [
    "x[1]['Count'] = x[1]['Count'].divide(x[1]['Count'].sum())\n",
    "#x[1].concat(pd.DataFrame([{'Correlation': 0.2, 'Count': 0},{'Correlation': -0.2, 'Count': 0}]))\n",
    "x[1].set_index('Question',inplace=True)\n",
    "x[1].loc['C4N'] = ['clear','False',0,-0.4]\n",
    "x[1].loc['C2N'] = ['clear','False',0,-0.2]\n",
    "x[1].loc['C2P'] = ['clear','False',0,0.2]\n",
    "x[1].sort_values(by='Correlation',inplace=True)\n",
    "#x[1].reset_index()\n",
    "#display(x[1].sort_values(by='Correlation'))\n",
    "e1chart = alt.Chart(x[1]).mark_bar().encode(\n",
    "    x='Correlation:O',\n",
    "    y=alt.Y('Count:Q',title=None,scale=alt.Scale(domain=(0, 0.4))),\n",
    "    #column=alt.Column('Negative:N',title='Negative statement?'),\n",
    "    row=alt.Row('Cat:O',title='')).properties(width=100,height=100) #,title='Occurrence of {} words per correlation'.format(trait))\n",
    "    #row=alt.Row('Cat:O',title='',sort=[\"Strong\",\"Moderate\",\"Weak\"])).properties(width=100,height=100) #,title='Occurrence of {} words per correlation'.format(trait))\n",
    "e1chart"
   ]
  },
  {
   "cell_type": "markdown",
   "metadata": {},
   "source": [
    "## Calculating distances between histograms\n",
    "\n",
    "Function h3 below is taken from https://gist.github.com/larsmans/3116927:"
   ]
  },
  {
   "cell_type": "code",
   "execution_count": 57,
   "metadata": {},
   "outputs": [],
   "source": [
    "from scipy.linalg import norm\n",
    "def h3(p, q):\n",
    "    return np.sqrt(np.sum((np.sqrt(p) - np.sqrt(q)) ** 2)) /  np.sqrt(2)"
   ]
  },
  {
   "cell_type": "code",
   "execution_count": 89,
   "metadata": {},
   "outputs": [
    {
     "ename": "ValueError",
     "evalue": "operands could not be broadcast together with shapes (9,) (7,) ",
     "output_type": "error",
     "traceback": [
      "\u001b[0;31m---------------------------------------------------------------------------\u001b[0m",
      "\u001b[0;31mValueError\u001b[0m                                Traceback (most recent call last)",
      "\u001b[0;32m<ipython-input-89-8c5d593bccc5>\u001b[0m in \u001b[0;36m<module>\u001b[0;34m\u001b[0m\n\u001b[1;32m      3\u001b[0m \u001b[0mx\u001b[0m\u001b[0;34m.\u001b[0m\u001b[0minsert\u001b[0m\u001b[0;34m(\u001b[0m\u001b[0;36m8\u001b[0m\u001b[0;34m,\u001b[0m\u001b[0;36m0\u001b[0m\u001b[0;34m)\u001b[0m\u001b[0;34m\u001b[0m\u001b[0;34m\u001b[0m\u001b[0m\n\u001b[1;32m      4\u001b[0m \u001b[0mx\u001b[0m\u001b[0;34m,\u001b[0m\u001b[0my\u001b[0m\u001b[0;34m,\u001b[0m\u001b[0mz\u001b[0m \u001b[0;34m=\u001b[0m \u001b[0me1_normalized\u001b[0m\u001b[0;34m.\u001b[0m\u001b[0mgroupby\u001b[0m\u001b[0;34m(\u001b[0m\u001b[0;34m'Cat'\u001b[0m\u001b[0;34m)\u001b[0m\u001b[0;34m[\u001b[0m\u001b[0;34m'Count'\u001b[0m\u001b[0;34m]\u001b[0m\u001b[0;34m.\u001b[0m\u001b[0mapply\u001b[0m\u001b[0;34m(\u001b[0m\u001b[0mlist\u001b[0m\u001b[0;34m)\u001b[0m\u001b[0;34m\u001b[0m\u001b[0;34m\u001b[0m\u001b[0m\n\u001b[0;32m----> 5\u001b[0;31m \u001b[0mprint\u001b[0m\u001b[0;34m(\u001b[0m\u001b[0mh3\u001b[0m\u001b[0;34m(\u001b[0m\u001b[0mp\u001b[0m\u001b[0;34m,\u001b[0m\u001b[0mx\u001b[0m\u001b[0;34m)\u001b[0m\u001b[0;34m,\u001b[0m\u001b[0mh3\u001b[0m\u001b[0;34m(\u001b[0m\u001b[0mq\u001b[0m\u001b[0;34m,\u001b[0m\u001b[0my\u001b[0m\u001b[0;34m)\u001b[0m\u001b[0;34m,\u001b[0m\u001b[0mh3\u001b[0m\u001b[0;34m(\u001b[0m\u001b[0mr\u001b[0m\u001b[0;34m,\u001b[0m\u001b[0mz\u001b[0m\u001b[0;34m)\u001b[0m\u001b[0;34m)\u001b[0m\u001b[0;34m\u001b[0m\u001b[0;34m\u001b[0m\u001b[0m\n\u001b[0m\u001b[1;32m      6\u001b[0m \u001b[0;34m\u001b[0m\u001b[0m\n\u001b[1;32m      7\u001b[0m alt.Chart(e1_normalized).mark_bar().encode(\n",
      "\u001b[0;32m<ipython-input-57-362178b1f4f4>\u001b[0m in \u001b[0;36mh3\u001b[0;34m(p, q)\u001b[0m\n\u001b[1;32m      1\u001b[0m \u001b[0;32mfrom\u001b[0m \u001b[0mscipy\u001b[0m\u001b[0;34m.\u001b[0m\u001b[0mlinalg\u001b[0m \u001b[0;32mimport\u001b[0m \u001b[0mnorm\u001b[0m\u001b[0;34m\u001b[0m\u001b[0;34m\u001b[0m\u001b[0m\n\u001b[1;32m      2\u001b[0m \u001b[0;32mdef\u001b[0m \u001b[0mh3\u001b[0m\u001b[0;34m(\u001b[0m\u001b[0mp\u001b[0m\u001b[0;34m,\u001b[0m \u001b[0mq\u001b[0m\u001b[0;34m)\u001b[0m\u001b[0;34m:\u001b[0m\u001b[0;34m\u001b[0m\u001b[0;34m\u001b[0m\u001b[0m\n\u001b[0;32m----> 3\u001b[0;31m     \u001b[0;32mreturn\u001b[0m \u001b[0mnp\u001b[0m\u001b[0;34m.\u001b[0m\u001b[0msqrt\u001b[0m\u001b[0;34m(\u001b[0m\u001b[0mnp\u001b[0m\u001b[0;34m.\u001b[0m\u001b[0msum\u001b[0m\u001b[0;34m(\u001b[0m\u001b[0;34m(\u001b[0m\u001b[0mnp\u001b[0m\u001b[0;34m.\u001b[0m\u001b[0msqrt\u001b[0m\u001b[0;34m(\u001b[0m\u001b[0mp\u001b[0m\u001b[0;34m)\u001b[0m \u001b[0;34m-\u001b[0m \u001b[0mnp\u001b[0m\u001b[0;34m.\u001b[0m\u001b[0msqrt\u001b[0m\u001b[0;34m(\u001b[0m\u001b[0mq\u001b[0m\u001b[0;34m)\u001b[0m\u001b[0;34m)\u001b[0m \u001b[0;34m**\u001b[0m \u001b[0;36m2\u001b[0m\u001b[0;34m)\u001b[0m\u001b[0;34m)\u001b[0m \u001b[0;34m/\u001b[0m  \u001b[0mnp\u001b[0m\u001b[0;34m.\u001b[0m\u001b[0msqrt\u001b[0m\u001b[0;34m(\u001b[0m\u001b[0;36m2\u001b[0m\u001b[0;34m)\u001b[0m\u001b[0;34m\u001b[0m\u001b[0;34m\u001b[0m\u001b[0m\n\u001b[0m",
      "\u001b[0;31mValueError\u001b[0m: operands could not be broadcast together with shapes (9,) (7,) "
     ]
    }
   ],
   "source": [
    "#TSNE\n",
    "#y.insert(4,0)\n",
    "#x.insert(8,0)\n",
    "#x,y,z = e1_normalized.groupby('Cat')['Count'].apply(list)\n",
    "print(h3(p,x),h3(q,y),h3(r,z))\n",
    "\n",
    "alt.Chart(e1_normalized).mark_bar().encode(\n",
    "    x='Correlation:O',\n",
    "    y=alt.Y('Count:Q',title=None,scale=alt.Scale(domain=(0, 0.5))),\n",
    "   # column=alt.Column('Negative:N',title='Negative statement?'),\n",
    "    row=alt.Row('Cat:O',title='',sort=[\"Strong\",\"Moderate\",\"Weak\"],spacing=15)).properties(width=100,height=80) #,title='Occurrence of {} words per correlation'.format(trait))"
   ]
  },
  {
   "cell_type": "markdown",
   "metadata": {},
   "source": [
    "### Semantic grouping\n",
    "\n",
    "For certain traits, we want to do a step-by-step comparison of magnitude, showing the differences when we move words between groups."
   ]
  },
  {
   "cell_type": "code",
   "execution_count": 86,
   "metadata": {
    "deletable": false,
    "editable": false
   },
   "outputs": [
    {
     "ename": "ValueError",
     "evalue": "operands could not be broadcast together with shapes (9,) (10,) ",
     "output_type": "error",
     "traceback": [
      "\u001b[0;31m---------------------------------------------------------------------------\u001b[0m",
      "\u001b[0;31mValueError\u001b[0m                                Traceback (most recent call last)",
      "\u001b[0;32m<ipython-input-86-88ddbdb17810>\u001b[0m in \u001b[0;36m<module>\u001b[0;34m\u001b[0m\n\u001b[1;32m     10\u001b[0m \u001b[0;31m#x.insert(8,0)\u001b[0m\u001b[0;34m\u001b[0m\u001b[0;34m\u001b[0m\u001b[0;34m\u001b[0m\u001b[0m\n\u001b[1;32m     11\u001b[0m \u001b[0mx\u001b[0m\u001b[0;34m.\u001b[0m\u001b[0minsert\u001b[0m\u001b[0;34m(\u001b[0m\u001b[0;36m4\u001b[0m\u001b[0;34m,\u001b[0m\u001b[0;36m0\u001b[0m\u001b[0;34m)\u001b[0m\u001b[0;34m\u001b[0m\u001b[0;34m\u001b[0m\u001b[0m\n\u001b[0;32m---> 12\u001b[0;31m \u001b[0mprint\u001b[0m\u001b[0;34m(\u001b[0m\u001b[0mh3\u001b[0m\u001b[0;34m(\u001b[0m\u001b[0mp\u001b[0m\u001b[0;34m,\u001b[0m\u001b[0mx\u001b[0m\u001b[0;34m)\u001b[0m\u001b[0;34m,\u001b[0m\u001b[0mh3\u001b[0m\u001b[0;34m(\u001b[0m\u001b[0mq\u001b[0m\u001b[0;34m,\u001b[0m\u001b[0my\u001b[0m\u001b[0;34m)\u001b[0m\u001b[0;34m,\u001b[0m\u001b[0mh3\u001b[0m\u001b[0;34m(\u001b[0m\u001b[0mr\u001b[0m\u001b[0;34m,\u001b[0m\u001b[0mz\u001b[0m\u001b[0;34m)\u001b[0m\u001b[0;34m)\u001b[0m\u001b[0;34m\u001b[0m\u001b[0;34m\u001b[0m\u001b[0m\n\u001b[0m\u001b[1;32m     13\u001b[0m alt.Chart(e1_normalized).mark_bar().encode(\n\u001b[1;32m     14\u001b[0m     \u001b[0mx\u001b[0m\u001b[0;34m=\u001b[0m\u001b[0malt\u001b[0m\u001b[0;34m.\u001b[0m\u001b[0mX\u001b[0m\u001b[0;34m(\u001b[0m\u001b[0;34m'Correlation:O'\u001b[0m\u001b[0;34m,\u001b[0m\u001b[0mtitle\u001b[0m\u001b[0;34m=\u001b[0m\u001b[0;32mNone\u001b[0m\u001b[0;34m)\u001b[0m\u001b[0;34m,\u001b[0m\u001b[0;34m\u001b[0m\u001b[0;34m\u001b[0m\u001b[0m\n",
      "\u001b[0;32m<ipython-input-57-362178b1f4f4>\u001b[0m in \u001b[0;36mh3\u001b[0;34m(p, q)\u001b[0m\n\u001b[1;32m      1\u001b[0m \u001b[0;32mfrom\u001b[0m \u001b[0mscipy\u001b[0m\u001b[0;34m.\u001b[0m\u001b[0mlinalg\u001b[0m \u001b[0;32mimport\u001b[0m \u001b[0mnorm\u001b[0m\u001b[0;34m\u001b[0m\u001b[0;34m\u001b[0m\u001b[0m\n\u001b[1;32m      2\u001b[0m \u001b[0;32mdef\u001b[0m \u001b[0mh3\u001b[0m\u001b[0;34m(\u001b[0m\u001b[0mp\u001b[0m\u001b[0;34m,\u001b[0m \u001b[0mq\u001b[0m\u001b[0;34m)\u001b[0m\u001b[0;34m:\u001b[0m\u001b[0;34m\u001b[0m\u001b[0;34m\u001b[0m\u001b[0m\n\u001b[0;32m----> 3\u001b[0;31m     \u001b[0;32mreturn\u001b[0m \u001b[0mnp\u001b[0m\u001b[0;34m.\u001b[0m\u001b[0msqrt\u001b[0m\u001b[0;34m(\u001b[0m\u001b[0mnp\u001b[0m\u001b[0;34m.\u001b[0m\u001b[0msum\u001b[0m\u001b[0;34m(\u001b[0m\u001b[0;34m(\u001b[0m\u001b[0mnp\u001b[0m\u001b[0;34m.\u001b[0m\u001b[0msqrt\u001b[0m\u001b[0;34m(\u001b[0m\u001b[0mp\u001b[0m\u001b[0;34m)\u001b[0m \u001b[0;34m-\u001b[0m \u001b[0mnp\u001b[0m\u001b[0;34m.\u001b[0m\u001b[0msqrt\u001b[0m\u001b[0;34m(\u001b[0m\u001b[0mq\u001b[0m\u001b[0;34m)\u001b[0m\u001b[0;34m)\u001b[0m \u001b[0;34m**\u001b[0m \u001b[0;36m2\u001b[0m\u001b[0;34m)\u001b[0m\u001b[0;34m)\u001b[0m \u001b[0;34m/\u001b[0m  \u001b[0mnp\u001b[0m\u001b[0;34m.\u001b[0m\u001b[0msqrt\u001b[0m\u001b[0;34m(\u001b[0m\u001b[0;36m2\u001b[0m\u001b[0;34m)\u001b[0m\u001b[0;34m\u001b[0m\u001b[0;34m\u001b[0m\u001b[0m\n\u001b[0m",
      "\u001b[0;31mValueError\u001b[0m: operands could not be broadcast together with shapes (9,) (10,) "
     ]
    }
   ],
   "source": [
    "#SLIGHT = 2\n",
    "compare_scale['slight'] = 2\n",
    "compare_scale['few'] = 1\n",
    "ed1fc = tag_values(merged,compare_scale)\n",
    "grouped_data = group_answers(ed1fc)\n",
    "grouped_data['Cat'] = grouped_data['Cat'].apply(lambda x: {1 :'Weak',2: 'Moderate', 3:'Strong'}[float(x)])\n",
    "e1_normalized = normalize_groups(grouped_data[grouped_data['Negative'] == False])\n",
    "x,y,z = e1_normalized.groupby('Cat')['Count'].apply(list)\n",
    "#y.insert(4,0)\n",
    "#x.insert(8,0)\n",
    "x.insert(4,0)\n",
    "print(h3(p,x),h3(q,y),h3(r,z))\n",
    "alt.Chart(e1_normalized).mark_bar().encode(\n",
    "    x=alt.X('Correlation:O',title=None),\n",
    "    y=alt.Y('Count:Q',title=None,scale=alt.Scale(domain=(0, 0.5))),\n",
    "   # column=alt.Column('Negative:N',title='Negative statement?'),\n",
    "    row=alt.Row('Cat:O',title='',sort=[\"Strong\",\"Moderate\",\"Weak\"])).properties(width=100,height=100).resolve_axis(x='independent') #,title='Occurrence of {} words per correlation'.format(trait))"
   ]
  },
  {
   "cell_type": "code",
   "execution_count": 41,
   "metadata": {
    "deletable": false,
    "editable": false
   },
   "outputs": [
    {
     "name": "stdout",
     "output_type": "stream",
     "text": [
      "0.2547232350286169 0.23206244266374607 0.09683277711063616\n"
     ]
    },
    {
     "data": {
      "text/html": [
       "\n",
       "<div id=\"altair-viz-5ba6ca27244b401481f0166a226eafde\"></div>\n",
       "<script type=\"text/javascript\">\n",
       "  (function(spec, embedOpt){\n",
       "    let outputDiv = document.currentScript.previousElementSibling;\n",
       "    if (outputDiv.id !== \"altair-viz-5ba6ca27244b401481f0166a226eafde\") {\n",
       "      outputDiv = document.getElementById(\"altair-viz-5ba6ca27244b401481f0166a226eafde\");\n",
       "    }\n",
       "    const paths = {\n",
       "      \"vega\": \"https://cdn.jsdelivr.net/npm//vega@5?noext\",\n",
       "      \"vega-lib\": \"https://cdn.jsdelivr.net/npm//vega-lib?noext\",\n",
       "      \"vega-lite\": \"https://cdn.jsdelivr.net/npm//vega-lite@4.8.1?noext\",\n",
       "      \"vega-embed\": \"https://cdn.jsdelivr.net/npm//vega-embed@6?noext\",\n",
       "    };\n",
       "\n",
       "    function loadScript(lib) {\n",
       "      return new Promise(function(resolve, reject) {\n",
       "        var s = document.createElement('script');\n",
       "        s.src = paths[lib];\n",
       "        s.async = true;\n",
       "        s.onload = () => resolve(paths[lib]);\n",
       "        s.onerror = () => reject(`Error loading script: ${paths[lib]}`);\n",
       "        document.getElementsByTagName(\"head\")[0].appendChild(s);\n",
       "      });\n",
       "    }\n",
       "\n",
       "    function showError(err) {\n",
       "      outputDiv.innerHTML = `<div class=\"error\" style=\"color:red;\">${err}</div>`;\n",
       "      throw err;\n",
       "    }\n",
       "\n",
       "    function displayChart(vegaEmbed) {\n",
       "      vegaEmbed(outputDiv, spec, embedOpt)\n",
       "        .catch(err => showError(`Javascript Error: ${err.message}<br>This usually means there's a typo in your chart specification. See the javascript console for the full traceback.`));\n",
       "    }\n",
       "\n",
       "    if(typeof define === \"function\" && define.amd) {\n",
       "      requirejs.config({paths});\n",
       "      require([\"vega-embed\"], displayChart, err => showError(`Error loading script: ${err.message}`));\n",
       "    } else if (typeof vegaEmbed === \"function\") {\n",
       "      displayChart(vegaEmbed);\n",
       "    } else {\n",
       "      loadScript(\"vega\")\n",
       "        .then(() => loadScript(\"vega-lite\"))\n",
       "        .then(() => loadScript(\"vega-embed\"))\n",
       "        .catch(showError)\n",
       "        .then(() => displayChart(vegaEmbed));\n",
       "    }\n",
       "  })({\"config\": {\"mark\": {\"color\": \"#000050\"}, \"title\": {\"font\": \"Avenir\", \"anchor\": \"end\"}, \"axis\": {\"labelFont\": \"Avenir\", \"titleFont\": \"Avenir\"}, \"headerColumn\": {\"labels\": false}, \"header\": {\"labelFont\": \"Avenir\", \"labelFontSize\": 12, \"titleFont\": \"Avenir\"}, \"legend\": {\"labelFont\": \"Avenir\", \"titleFont\": \"Avenir\"}}, \"data\": {\"name\": \"data-bf9dc11921597e6578e9b3e8e821f724\"}, \"mark\": \"bar\", \"encoding\": {\"row\": {\"type\": \"ordinal\", \"field\": \"Cat\", \"sort\": [\"Strong\", \"Moderate\", \"Weak\"], \"title\": \"\"}, \"x\": {\"type\": \"ordinal\", \"field\": \"Correlation\", \"title\": null}, \"y\": {\"type\": \"quantitative\", \"field\": \"Count\", \"scale\": {\"domain\": [0, 0.5]}, \"title\": null}}, \"height\": 100, \"resolve\": {\"axis\": {\"x\": \"independent\"}}, \"width\": 100, \"$schema\": \"https://vega.github.io/schema/vega-lite/v4.8.1.json\", \"datasets\": {\"data-bf9dc11921597e6578e9b3e8e821f724\": [{\"Cat\": \"Moderate\", \"Correlation\": -0.8, \"Count\": 0.08620689655172414}, {\"Cat\": \"Moderate\", \"Correlation\": -0.6, \"Count\": 0.1206896551724138}, {\"Cat\": \"Moderate\", \"Correlation\": -0.4, \"Count\": 0.20689655172413793}, {\"Cat\": \"Moderate\", \"Correlation\": -0.2, \"Count\": 0.05172413793103448}, {\"Cat\": \"Moderate\", \"Correlation\": 0.0, \"Count\": 0.034482758620689655}, {\"Cat\": \"Moderate\", \"Correlation\": 0.2, \"Count\": 0.1206896551724138}, {\"Cat\": \"Moderate\", \"Correlation\": 0.4, \"Count\": 0.1896551724137931}, {\"Cat\": \"Moderate\", \"Correlation\": 0.6, \"Count\": 0.1724137931034483}, {\"Cat\": \"Moderate\", \"Correlation\": 0.8, \"Count\": 0.017241379310344827}, {\"Cat\": \"Strong\", \"Correlation\": -0.8, \"Count\": 0.2692307692307692}, {\"Cat\": \"Strong\", \"Correlation\": -0.6, \"Count\": 0.07692307692307693}, {\"Cat\": \"Strong\", \"Correlation\": -0.4, \"Count\": 0.019230769230769232}, {\"Cat\": \"Strong\", \"Correlation\": -0.2, \"Count\": 0.019230769230769232}, {\"Cat\": \"Strong\", \"Correlation\": 0.2, \"Count\": 0.057692307692307696}, {\"Cat\": \"Strong\", \"Correlation\": 0.4, \"Count\": 0.019230769230769232}, {\"Cat\": \"Strong\", \"Correlation\": 0.6, \"Count\": 0.17307692307692307}, {\"Cat\": \"Strong\", \"Correlation\": 0.8, \"Count\": 0.36538461538461536}, {\"Cat\": \"Weak\", \"Correlation\": -0.8, \"Count\": 0.06315789473684211}, {\"Cat\": \"Weak\", \"Correlation\": -0.6, \"Count\": 0.1368421052631579}, {\"Cat\": \"Weak\", \"Correlation\": -0.4, \"Count\": 0.1368421052631579}, {\"Cat\": \"Weak\", \"Correlation\": -0.2, \"Count\": 0.11578947368421053}, {\"Cat\": \"Weak\", \"Correlation\": 0.0, \"Count\": 0.09473684210526316}, {\"Cat\": \"Weak\", \"Correlation\": 0.2, \"Count\": 0.1368421052631579}, {\"Cat\": \"Weak\", \"Correlation\": 0.4, \"Count\": 0.15789473684210525}, {\"Cat\": \"Weak\", \"Correlation\": 0.6, \"Count\": 0.10526315789473684}, {\"Cat\": \"Weak\", \"Correlation\": 0.8, \"Count\": 0.05263157894736842}]}}, {\"mode\": \"vega-lite\"});\n",
       "</script>"
      ],
      "text/plain": [
       "alt.Chart(...)"
      ]
     },
     "execution_count": 41,
     "metadata": {},
     "output_type": "execute_result"
    }
   ],
   "source": [
    "#MINMIMAL = 1\n",
    "compare_scale['condensed'] = 2\n",
    "compare_scale['concentrated'] = 2\n",
    "compare_scale['broad'] = 2\n",
    "ed1fc = tag_values(merged,compare_scale)\n",
    "grouped_data = group_answers(ed1fc)\n",
    "grouped_data['Cat'] = grouped_data['Cat'].apply(lambda x: {1 :'Weak',2: 'Moderate', 3:'Strong'}[float(x)])\n",
    "e1_normalized = normalize_groups(grouped_data[grouped_data['Negative'] == False])\n",
    "x,y,z = e1_normalized.groupby('Cat')['Count'].apply(list)\n",
    "y.insert(4,0)\n",
    "#x.insert(4,0)\n",
    "print(h3(p,x),h3(q,y),h3(r,z))\n",
    "alt.Chart(e1_normalized).mark_bar().encode(\n",
    "    x=alt.X('Correlation:O',title=None),\n",
    "    y=alt.Y('Count:Q',title=None,scale=alt.Scale(domain=(0, 0.5))),\n",
    "   # column=alt.Column('Negative:N',title='Negative statement?'),\n",
    "    row=alt.Row('Cat:O',title='',sort=[\"Strong\",\"Moderate\",\"Weak\"])).properties(width=100,height=100).resolve_axis(x='independent') #,title='Occurrence of {} words per correlation'.format(trait))"
   ]
  },
  {
   "cell_type": "code",
   "execution_count": 54,
   "metadata": {
    "deletable": false
   },
   "outputs": [
    {
     "name": "stdout",
     "output_type": "stream",
     "text": [
      "0.2547232350286169 0.11663767518956535 0.09683277711063616\n"
     ]
    },
    {
     "data": {
      "text/html": [
       "\n",
       "<div id=\"altair-viz-6395ee4706a745328d332c8bb492161c\"></div>\n",
       "<script type=\"text/javascript\">\n",
       "  (function(spec, embedOpt){\n",
       "    let outputDiv = document.currentScript.previousElementSibling;\n",
       "    if (outputDiv.id !== \"altair-viz-6395ee4706a745328d332c8bb492161c\") {\n",
       "      outputDiv = document.getElementById(\"altair-viz-6395ee4706a745328d332c8bb492161c\");\n",
       "    }\n",
       "    const paths = {\n",
       "      \"vega\": \"https://cdn.jsdelivr.net/npm//vega@5?noext\",\n",
       "      \"vega-lib\": \"https://cdn.jsdelivr.net/npm//vega-lib?noext\",\n",
       "      \"vega-lite\": \"https://cdn.jsdelivr.net/npm//vega-lite@4.8.1?noext\",\n",
       "      \"vega-embed\": \"https://cdn.jsdelivr.net/npm//vega-embed@6?noext\",\n",
       "    };\n",
       "\n",
       "    function loadScript(lib) {\n",
       "      return new Promise(function(resolve, reject) {\n",
       "        var s = document.createElement('script');\n",
       "        s.src = paths[lib];\n",
       "        s.async = true;\n",
       "        s.onload = () => resolve(paths[lib]);\n",
       "        s.onerror = () => reject(`Error loading script: ${paths[lib]}`);\n",
       "        document.getElementsByTagName(\"head\")[0].appendChild(s);\n",
       "      });\n",
       "    }\n",
       "\n",
       "    function showError(err) {\n",
       "      outputDiv.innerHTML = `<div class=\"error\" style=\"color:red;\">${err}</div>`;\n",
       "      throw err;\n",
       "    }\n",
       "\n",
       "    function displayChart(vegaEmbed) {\n",
       "      vegaEmbed(outputDiv, spec, embedOpt)\n",
       "        .catch(err => showError(`Javascript Error: ${err.message}<br>This usually means there's a typo in your chart specification. See the javascript console for the full traceback.`));\n",
       "    }\n",
       "\n",
       "    if(typeof define === \"function\" && define.amd) {\n",
       "      requirejs.config({paths});\n",
       "      require([\"vega-embed\"], displayChart, err => showError(`Error loading script: ${err.message}`));\n",
       "    } else if (typeof vegaEmbed === \"function\") {\n",
       "      displayChart(vegaEmbed);\n",
       "    } else {\n",
       "      loadScript(\"vega\")\n",
       "        .then(() => loadScript(\"vega-lite\"))\n",
       "        .then(() => loadScript(\"vega-embed\"))\n",
       "        .catch(showError)\n",
       "        .then(() => displayChart(vegaEmbed));\n",
       "    }\n",
       "  })({\"config\": {\"mark\": {\"color\": \"#000050\"}, \"title\": {\"font\": \"Avenir\", \"anchor\": \"end\"}, \"axis\": {\"labelFont\": \"Avenir\", \"titleFont\": \"Avenir\"}, \"headerColumn\": {\"labels\": false}, \"header\": {\"labelFont\": \"Avenir\", \"labelFontSize\": 12, \"titleFont\": \"Avenir\"}, \"legend\": {\"labelFont\": \"Avenir\", \"titleFont\": \"Avenir\"}}, \"data\": {\"name\": \"data-4dfc2c0c3baf7344ffc860a436c114fb\"}, \"mark\": \"bar\", \"encoding\": {\"row\": {\"type\": \"ordinal\", \"field\": \"Cat\", \"sort\": [\"Strong\", \"Moderate\", \"Weak\"], \"spacing\": 15, \"title\": \"\"}, \"x\": {\"type\": \"ordinal\", \"field\": \"Correlation\", \"title\": null}, \"y\": {\"type\": \"quantitative\", \"field\": \"Count\", \"scale\": {\"domain\": [0, 0.5]}, \"title\": null}}, \"height\": 80, \"resolve\": {\"axis\": {\"x\": \"independent\"}}, \"width\": 100, \"$schema\": \"https://vega.github.io/schema/vega-lite/v4.8.1.json\", \"datasets\": {\"data-4dfc2c0c3baf7344ffc860a436c114fb\": [{\"Cat\": \"Moderate\", \"Correlation\": -0.8, \"Count\": 0.08620689655172414}, {\"Cat\": \"Moderate\", \"Correlation\": -0.6, \"Count\": 0.1206896551724138}, {\"Cat\": \"Moderate\", \"Correlation\": -0.4, \"Count\": 0.20689655172413793}, {\"Cat\": \"Moderate\", \"Correlation\": -0.2, \"Count\": 0.05172413793103448}, {\"Cat\": \"Moderate\", \"Correlation\": 0.0, \"Count\": 0.034482758620689655}, {\"Cat\": \"Moderate\", \"Correlation\": 0.2, \"Count\": 0.1206896551724138}, {\"Cat\": \"Moderate\", \"Correlation\": 0.4, \"Count\": 0.1896551724137931}, {\"Cat\": \"Moderate\", \"Correlation\": 0.6, \"Count\": 0.1724137931034483}, {\"Cat\": \"Moderate\", \"Correlation\": 0.8, \"Count\": 0.017241379310344827}, {\"Cat\": \"Strong\", \"Correlation\": -0.8, \"Count\": 0.2978723404255319}, {\"Cat\": \"Strong\", \"Correlation\": -0.6, \"Count\": 0.06382978723404255}, {\"Cat\": \"Strong\", \"Correlation\": -0.2, \"Count\": 0.02127659574468085}, {\"Cat\": \"Strong\", \"Correlation\": 0.2, \"Count\": 0.0425531914893617}, {\"Cat\": \"Strong\", \"Correlation\": 0.4, \"Count\": 0.02127659574468085}, {\"Cat\": \"Strong\", \"Correlation\": 0.6, \"Count\": 0.14893617021276595}, {\"Cat\": \"Strong\", \"Correlation\": 0.8, \"Count\": 0.40425531914893614}, {\"Cat\": \"Weak\", \"Correlation\": -0.8, \"Count\": 0.06315789473684211}, {\"Cat\": \"Weak\", \"Correlation\": -0.6, \"Count\": 0.1368421052631579}, {\"Cat\": \"Weak\", \"Correlation\": -0.4, \"Count\": 0.1368421052631579}, {\"Cat\": \"Weak\", \"Correlation\": -0.2, \"Count\": 0.11578947368421053}, {\"Cat\": \"Weak\", \"Correlation\": 0.0, \"Count\": 0.09473684210526316}, {\"Cat\": \"Weak\", \"Correlation\": 0.2, \"Count\": 0.1368421052631579}, {\"Cat\": \"Weak\", \"Correlation\": 0.4, \"Count\": 0.15789473684210525}, {\"Cat\": \"Weak\", \"Correlation\": 0.6, \"Count\": 0.10526315789473684}, {\"Cat\": \"Weak\", \"Correlation\": 0.8, \"Count\": 0.05263157894736842}]}}, {\"mode\": \"vega-lite\"});\n",
       "</script>"
      ],
      "text/plain": [
       "alt.Chart(...)"
      ]
     },
     "execution_count": 54,
     "metadata": {},
     "output_type": "execute_result"
    }
   ],
   "source": [
    "#MANY removed\n",
    "#compare_scale.pop('large')\n",
    "#compare_scale.pop('packed')\n",
    "#compare_scale.pop('more')\n",
    "ed1fc = tag_values(merged,compare_scale)\n",
    "grouped_data = group_answers(ed1fc)\n",
    "grouped_data['Cat'] = grouped_data['Cat'].apply(lambda x: {1 :'Weak',2: 'Moderate', 3:'Strong'}[float(x)])\n",
    "e1_normalized = normalize_groups(grouped_data[grouped_data['Negative'] == False])\n",
    "x,y,z = e1_normalized.groupby('Cat')['Count'].apply(list)\n",
    "#x.insert(4,0)\n",
    "y.insert(4,0)\n",
    "y.insert(2,0)\n",
    "#z.insert(0,0)\n",
    "\n",
    "#z.insert(4,0)\n",
    "print(h3(p,x),h3(q,y),h3(r,z))\n",
    "alt.Chart(e1_normalized).mark_bar().encode(\n",
    "    x=alt.X('Correlation:O',title=None),\n",
    "    y=alt.Y('Count:Q',title=None,scale=alt.Scale(domain=(0, 0.5))),\n",
    "   # column=alt.Column('Negative:N',title='Negative statement?'),\n",
    "    row=alt.Row('Cat:O',title='',sort=[\"Strong\",\"Moderate\",\"Weak\"],spacing=15)\n",
    ").properties(width=100,height=80).resolve_axis(x='independent') #,title='Occurrence of {} words per correlation'.format(trait))\n"
   ]
  },
  {
   "cell_type": "markdown",
   "metadata": {},
   "source": [
    "## Cross-calculating and comparing\n",
    "\n",
    "For binary traits, we need to combine the affirmative counts with the negative for the opposite value.  \n",
    "\n",
    "E.g. for clear and vague, we need to sum clear with *not vague* and vague with *not clear*.  \n",
    "\n",
    "The calculation is done using variables *binary1, binary1_neg, binary2, binary2_neg* as defined above when plotting the normalized counts."
   ]
  },
  {
   "cell_type": "code",
   "execution_count": 232,
   "metadata": {},
   "outputs": [],
   "source": [
    "def combine_traits(x,z,list_corr):\n",
    "\n",
    "    x1 = {float(a): float(0) for a in list_corr}\n",
    "    #for a in x[1]:\n",
    "    #    print(x[1][a])\n",
    "    for row in x[1][['Correlation','Count']].values:\n",
    "        val = row[1]\n",
    "        x1[row[0]] += val\n",
    "    for row in z[1][['Correlation','Count']].values:\n",
    "        val = row[1]\n",
    "        x1[row[0]] += val\n",
    "    dz = pd.DataFrame.from_dict(data=x1,orient='index').reset_index().rename(columns={'index': 'Correlation',0: 'Count'}) #,columns=['Correlation','Count'])\n",
    "    #display(dz)\n",
    "    return dz"
   ]
  },
  {
   "cell_type": "code",
   "execution_count": 272,
   "metadata": {},
   "outputs": [],
   "source": [
    "group_1_and_2neg = combine_traits(binary1,binary2_neg,count_init)\n",
    "c = group_1_and_2neg.groupby(['Correlation'])['Count'].sum()\n",
    "first_group = pd.DataFrame(c / c.sum()).reset_index()\n",
    "first_chart = alt.Chart(first_group).mark_bar().encode(\n",
    "x=alt.X('Correlation:O',title=None),\n",
    "y=alt.Y('Count:Q',title=None,scale=alt.Scale(domain=(0, 0.5)))).properties(width=100,height=80)"
   ]
  },
  {
   "cell_type": "code",
   "execution_count": 273,
   "metadata": {},
   "outputs": [],
   "source": [
    "group_2_and_1neg = combine_traits(binary2,binary1_neg,count_init)\n",
    "c = group_2_and_1neg.groupby(['Correlation'])['Count'].sum()\n",
    "second_group = pd.DataFrame(c / c.sum()).reset_index()\n",
    "second_chart = alt.Chart(second_group).mark_bar().encode(\n",
    "x=alt.X('Correlation:O',title=None),\n",
    "y=alt.Y('Count:Q',title=None,scale=alt.Scale(domain=(0, 0.5)))).properties(width=100,height=80)"
   ]
  },
  {
   "cell_type": "code",
   "execution_count": 274,
   "metadata": {},
   "outputs": [
    {
     "data": {
      "text/html": [
       "\n",
       "<div id=\"altair-viz-045d730b0fa14fb9aa360046c90d3fc8\"></div>\n",
       "<script type=\"text/javascript\">\n",
       "  (function(spec, embedOpt){\n",
       "    let outputDiv = document.currentScript.previousElementSibling;\n",
       "    if (outputDiv.id !== \"altair-viz-045d730b0fa14fb9aa360046c90d3fc8\") {\n",
       "      outputDiv = document.getElementById(\"altair-viz-045d730b0fa14fb9aa360046c90d3fc8\");\n",
       "    }\n",
       "    const paths = {\n",
       "      \"vega\": \"https://cdn.jsdelivr.net/npm//vega@5?noext\",\n",
       "      \"vega-lib\": \"https://cdn.jsdelivr.net/npm//vega-lib?noext\",\n",
       "      \"vega-lite\": \"https://cdn.jsdelivr.net/npm//vega-lite@4.8.1?noext\",\n",
       "      \"vega-embed\": \"https://cdn.jsdelivr.net/npm//vega-embed@6?noext\",\n",
       "    };\n",
       "\n",
       "    function loadScript(lib) {\n",
       "      return new Promise(function(resolve, reject) {\n",
       "        var s = document.createElement('script');\n",
       "        s.src = paths[lib];\n",
       "        s.async = true;\n",
       "        s.onload = () => resolve(paths[lib]);\n",
       "        s.onerror = () => reject(`Error loading script: ${paths[lib]}`);\n",
       "        document.getElementsByTagName(\"head\")[0].appendChild(s);\n",
       "      });\n",
       "    }\n",
       "\n",
       "    function showError(err) {\n",
       "      outputDiv.innerHTML = `<div class=\"error\" style=\"color:red;\">${err}</div>`;\n",
       "      throw err;\n",
       "    }\n",
       "\n",
       "    function displayChart(vegaEmbed) {\n",
       "      vegaEmbed(outputDiv, spec, embedOpt)\n",
       "        .catch(err => showError(`Javascript Error: ${err.message}<br>This usually means there's a typo in your chart specification. See the javascript console for the full traceback.`));\n",
       "    }\n",
       "\n",
       "    if(typeof define === \"function\" && define.amd) {\n",
       "      requirejs.config({paths});\n",
       "      require([\"vega-embed\"], displayChart, err => showError(`Error loading script: ${err.message}`));\n",
       "    } else if (typeof vegaEmbed === \"function\") {\n",
       "      displayChart(vegaEmbed);\n",
       "    } else {\n",
       "      loadScript(\"vega\")\n",
       "        .then(() => loadScript(\"vega-lite\"))\n",
       "        .then(() => loadScript(\"vega-embed\"))\n",
       "        .catch(showError)\n",
       "        .then(() => displayChart(vegaEmbed));\n",
       "    }\n",
       "  })({\"config\": {\"mark\": {\"color\": \"#000050\"}, \"title\": {\"font\": \"Avenir\", \"anchor\": \"end\"}, \"axis\": {\"labelFont\": \"Avenir\", \"titleFont\": \"Avenir\"}, \"headerColumn\": {\"labels\": false}, \"header\": {\"labelFont\": \"Avenir\", \"labelFontSize\": 12, \"titleFont\": \"Avenir\"}, \"legend\": {\"labelFont\": \"Avenir\", \"titleFont\": \"Avenir\"}}, \"vconcat\": [{\"data\": {\"name\": \"data-82aa298896720cda2442415317c586a7\"}, \"mark\": \"bar\", \"encoding\": {\"x\": {\"type\": \"ordinal\", \"field\": \"Correlation\", \"title\": null}, \"y\": {\"type\": \"quantitative\", \"field\": \"Count\", \"scale\": {\"domain\": [0, 0.5]}, \"title\": null}}, \"height\": 80, \"width\": 100}, {\"data\": {\"name\": \"data-5773f5574da81224a35badf4edc99e88\"}, \"mark\": \"bar\", \"encoding\": {\"x\": {\"type\": \"ordinal\", \"field\": \"Correlation\", \"title\": null}, \"y\": {\"type\": \"quantitative\", \"field\": \"Count\", \"scale\": {\"domain\": [0, 0.5]}, \"title\": null}}, \"height\": 80, \"width\": 100}], \"$schema\": \"https://vega.github.io/schema/vega-lite/v4.8.1.json\", \"datasets\": {\"data-82aa298896720cda2442415317c586a7\": [{\"Correlation\": -0.8, \"Count\": 0.22727272727272727}, {\"Correlation\": -0.6, \"Count\": 0.06818181818181818}, {\"Correlation\": -0.4, \"Count\": 0.06818181818181818}, {\"Correlation\": -0.2, \"Count\": 0.022727272727272728}, {\"Correlation\": 0.0, \"Count\": 0.09090909090909091}, {\"Correlation\": 0.2, \"Count\": 0.022727272727272728}, {\"Correlation\": 0.4, \"Count\": 0.09090909090909091}, {\"Correlation\": 0.6, \"Count\": 0.1590909090909091}, {\"Correlation\": 0.8, \"Count\": 0.25}], \"data-5773f5574da81224a35badf4edc99e88\": [{\"Correlation\": -0.8, \"Count\": 0.03}, {\"Correlation\": -0.6, \"Count\": 0.05}, {\"Correlation\": -0.4, \"Count\": 0.21}, {\"Correlation\": -0.2, \"Count\": 0.22}, {\"Correlation\": 0.0, \"Count\": 0.2}, {\"Correlation\": 0.2, \"Count\": 0.17}, {\"Correlation\": 0.4, \"Count\": 0.09}, {\"Correlation\": 0.6, \"Count\": 0.03}, {\"Correlation\": 0.8, \"Count\": 0.0}]}}, {\"mode\": \"vega-lite\"});\n",
       "</script>"
      ],
      "text/plain": [
       "alt.VConcatChart(...)"
      ]
     },
     "execution_count": 274,
     "metadata": {},
     "output_type": "execute_result"
    }
   ],
   "source": [
    "(first_chart & second_chart)"
   ]
  },
  {
   "cell_type": "code",
   "execution_count": 199,
   "metadata": {},
   "outputs": [
    {
     "data": {
      "text/html": [
       "\n",
       "<div id=\"altair-viz-715ec026fbbc4321b89546112e973a96\"></div>\n",
       "<script type=\"text/javascript\">\n",
       "  (function(spec, embedOpt){\n",
       "    let outputDiv = document.currentScript.previousElementSibling;\n",
       "    if (outputDiv.id !== \"altair-viz-715ec026fbbc4321b89546112e973a96\") {\n",
       "      outputDiv = document.getElementById(\"altair-viz-715ec026fbbc4321b89546112e973a96\");\n",
       "    }\n",
       "    const paths = {\n",
       "      \"vega\": \"https://cdn.jsdelivr.net/npm//vega@5?noext\",\n",
       "      \"vega-lib\": \"https://cdn.jsdelivr.net/npm//vega-lib?noext\",\n",
       "      \"vega-lite\": \"https://cdn.jsdelivr.net/npm//vega-lite@4.8.1?noext\",\n",
       "      \"vega-embed\": \"https://cdn.jsdelivr.net/npm//vega-embed@6?noext\",\n",
       "    };\n",
       "\n",
       "    function loadScript(lib) {\n",
       "      return new Promise(function(resolve, reject) {\n",
       "        var s = document.createElement('script');\n",
       "        s.src = paths[lib];\n",
       "        s.async = true;\n",
       "        s.onload = () => resolve(paths[lib]);\n",
       "        s.onerror = () => reject(`Error loading script: ${paths[lib]}`);\n",
       "        document.getElementsByTagName(\"head\")[0].appendChild(s);\n",
       "      });\n",
       "    }\n",
       "\n",
       "    function showError(err) {\n",
       "      outputDiv.innerHTML = `<div class=\"error\" style=\"color:red;\">${err}</div>`;\n",
       "      throw err;\n",
       "    }\n",
       "\n",
       "    function displayChart(vegaEmbed) {\n",
       "      vegaEmbed(outputDiv, spec, embedOpt)\n",
       "        .catch(err => showError(`Javascript Error: ${err.message}<br>This usually means there's a typo in your chart specification. See the javascript console for the full traceback.`));\n",
       "    }\n",
       "\n",
       "    if(typeof define === \"function\" && define.amd) {\n",
       "      requirejs.config({paths});\n",
       "      require([\"vega-embed\"], displayChart, err => showError(`Error loading script: ${err.message}`));\n",
       "    } else if (typeof vegaEmbed === \"function\") {\n",
       "      displayChart(vegaEmbed);\n",
       "    } else {\n",
       "      loadScript(\"vega\")\n",
       "        .then(() => loadScript(\"vega-lite\"))\n",
       "        .then(() => loadScript(\"vega-embed\"))\n",
       "        .catch(showError)\n",
       "        .then(() => displayChart(vegaEmbed));\n",
       "    }\n",
       "  })({\"config\": {\"mark\": {\"color\": \"#000050\"}, \"title\": {\"font\": \"Avenir\", \"anchor\": \"end\"}, \"axis\": {\"labelFont\": \"Avenir\", \"titleFont\": \"Avenir\"}, \"headerColumn\": {\"labels\": false}, \"header\": {\"labelFont\": \"Avenir\", \"labelFontSize\": 12, \"titleFont\": \"Avenir\"}, \"legend\": {\"labelFont\": \"Avenir\", \"titleFont\": \"Avenir\"}}, \"data\": {\"name\": \"data-37650865c5a2e1bc6741053454343d27\"}, \"mark\": \"bar\", \"encoding\": {\"x\": {\"type\": \"ordinal\", \"field\": \"Correlation\", \"title\": null}, \"y\": {\"type\": \"quantitative\", \"field\": \"Count\", \"scale\": {\"domain\": [0, 0.5]}, \"title\": null}}, \"height\": 80, \"width\": 100, \"$schema\": \"https://vega.github.io/schema/vega-lite/v4.8.1.json\", \"datasets\": {\"data-37650865c5a2e1bc6741053454343d27\": [{\"Correlation\": -0.8, \"Count\": 0.009259259259259259}, {\"Correlation\": -0.6, \"Count\": 0.009259259259259259}, {\"Correlation\": -0.4, \"Count\": 0.018518518518518517}, {\"Correlation\": -0.2, \"Count\": 0.06481481481481481}, {\"Correlation\": 0.0, \"Count\": 0.009259259259259259}, {\"Correlation\": 0.2, \"Count\": 0.1111111111111111}, {\"Correlation\": 0.4, \"Count\": 0.21296296296296297}, {\"Correlation\": 0.6, \"Count\": 0.25925925925925924}, {\"Correlation\": 0.8, \"Count\": 0.3055555555555556}]}}, {\"mode\": \"vega-lite\"});\n",
       "</script>"
      ],
      "text/plain": [
       "alt.Chart(...)"
      ]
     },
     "execution_count": 199,
     "metadata": {},
     "output_type": "execute_result"
    }
   ],
   "source": [
    "second_chart"
   ]
  },
  {
   "cell_type": "markdown",
   "metadata": {},
   "source": [
    "Combining charts from the first and second experiment"
   ]
  },
  {
   "cell_type": "code",
   "execution_count": 275,
   "metadata": {},
   "outputs": [
    {
     "data": {
      "text/html": [
       "\n",
       "<div id=\"altair-viz-c5cce9141d3e4bb5aa7ca9a01ae0f893\"></div>\n",
       "<script type=\"text/javascript\">\n",
       "  (function(spec, embedOpt){\n",
       "    let outputDiv = document.currentScript.previousElementSibling;\n",
       "    if (outputDiv.id !== \"altair-viz-c5cce9141d3e4bb5aa7ca9a01ae0f893\") {\n",
       "      outputDiv = document.getElementById(\"altair-viz-c5cce9141d3e4bb5aa7ca9a01ae0f893\");\n",
       "    }\n",
       "    const paths = {\n",
       "      \"vega\": \"https://cdn.jsdelivr.net/npm//vega@5?noext\",\n",
       "      \"vega-lib\": \"https://cdn.jsdelivr.net/npm//vega-lib?noext\",\n",
       "      \"vega-lite\": \"https://cdn.jsdelivr.net/npm//vega-lite@4.8.1?noext\",\n",
       "      \"vega-embed\": \"https://cdn.jsdelivr.net/npm//vega-embed@6?noext\",\n",
       "    };\n",
       "\n",
       "    function loadScript(lib) {\n",
       "      return new Promise(function(resolve, reject) {\n",
       "        var s = document.createElement('script');\n",
       "        s.src = paths[lib];\n",
       "        s.async = true;\n",
       "        s.onload = () => resolve(paths[lib]);\n",
       "        s.onerror = () => reject(`Error loading script: ${paths[lib]}`);\n",
       "        document.getElementsByTagName(\"head\")[0].appendChild(s);\n",
       "      });\n",
       "    }\n",
       "\n",
       "    function showError(err) {\n",
       "      outputDiv.innerHTML = `<div class=\"error\" style=\"color:red;\">${err}</div>`;\n",
       "      throw err;\n",
       "    }\n",
       "\n",
       "    function displayChart(vegaEmbed) {\n",
       "      vegaEmbed(outputDiv, spec, embedOpt)\n",
       "        .catch(err => showError(`Javascript Error: ${err.message}<br>This usually means there's a typo in your chart specification. See the javascript console for the full traceback.`));\n",
       "    }\n",
       "\n",
       "    if(typeof define === \"function\" && define.amd) {\n",
       "      requirejs.config({paths});\n",
       "      require([\"vega-embed\"], displayChart, err => showError(`Error loading script: ${err.message}`));\n",
       "    } else if (typeof vegaEmbed === \"function\") {\n",
       "      displayChart(vegaEmbed);\n",
       "    } else {\n",
       "      loadScript(\"vega\")\n",
       "        .then(() => loadScript(\"vega-lite\"))\n",
       "        .then(() => loadScript(\"vega-embed\"))\n",
       "        .catch(showError)\n",
       "        .then(() => displayChart(vegaEmbed));\n",
       "    }\n",
       "  })({\"config\": {\"mark\": {\"color\": \"#000050\"}, \"title\": {\"font\": \"Avenir\", \"anchor\": \"end\"}, \"axis\": {\"labelFont\": \"Avenir\", \"titleFont\": \"Avenir\"}, \"headerColumn\": {\"labels\": false}, \"header\": {\"labelFont\": \"Avenir\", \"labelFontSize\": 12, \"titleFont\": \"Avenir\"}, \"legend\": {\"labelFont\": \"Avenir\", \"titleFont\": \"Avenir\"}, \"concat\": {\"spacing\": 15}}, \"hconcat\": [{\"vconcat\": [{\"data\": {\"name\": \"data-82aa298896720cda2442415317c586a7\"}, \"mark\": \"bar\", \"encoding\": {\"x\": {\"type\": \"ordinal\", \"field\": \"Correlation\", \"title\": null}, \"y\": {\"type\": \"quantitative\", \"field\": \"Count\", \"scale\": {\"domain\": [0, 0.5]}, \"title\": null}}, \"height\": 80, \"width\": 100}, {\"data\": {\"name\": \"data-5773f5574da81224a35badf4edc99e88\"}, \"mark\": \"bar\", \"encoding\": {\"x\": {\"type\": \"ordinal\", \"field\": \"Correlation\", \"title\": null}, \"y\": {\"type\": \"quantitative\", \"field\": \"Count\", \"scale\": {\"domain\": [0, 0.5]}, \"title\": null}}, \"height\": 80, \"width\": 100}]}, {\"data\": {\"name\": \"data-ff194ab4d68d70debd51613cffedcc45\"}, \"mark\": {\"type\": \"bar\", \"color\": \"#a00000\"}, \"encoding\": {\"row\": {\"type\": \"ordinal\", \"field\": \"Statement\", \"sort\": [\"DisClearRel\", \"DisNoClear\"], \"spacing\": 15, \"title\": null}, \"x\": {\"type\": \"ordinal\", \"field\": \"Correlation\", \"title\": null}, \"y\": {\"type\": \"quantitative\", \"field\": \"Count\", \"scale\": {\"domain\": [0, 0.5]}, \"title\": null}}, \"height\": 80, \"resolve\": {\"scale\": {\"x\": \"independent\", \"y\": \"independent\"}}, \"width\": 100}], \"$schema\": \"https://vega.github.io/schema/vega-lite/v4.8.1.json\", \"datasets\": {\"data-82aa298896720cda2442415317c586a7\": [{\"Correlation\": -0.8, \"Count\": 0.22727272727272727}, {\"Correlation\": -0.6, \"Count\": 0.06818181818181818}, {\"Correlation\": -0.4, \"Count\": 0.06818181818181818}, {\"Correlation\": -0.2, \"Count\": 0.022727272727272728}, {\"Correlation\": 0.0, \"Count\": 0.09090909090909091}, {\"Correlation\": 0.2, \"Count\": 0.022727272727272728}, {\"Correlation\": 0.4, \"Count\": 0.09090909090909091}, {\"Correlation\": 0.6, \"Count\": 0.1590909090909091}, {\"Correlation\": 0.8, \"Count\": 0.25}], \"data-5773f5574da81224a35badf4edc99e88\": [{\"Correlation\": -0.8, \"Count\": 0.03}, {\"Correlation\": -0.6, \"Count\": 0.05}, {\"Correlation\": -0.4, \"Count\": 0.21}, {\"Correlation\": -0.2, \"Count\": 0.22}, {\"Correlation\": 0.0, \"Count\": 0.2}, {\"Correlation\": 0.2, \"Count\": 0.17}, {\"Correlation\": 0.4, \"Count\": 0.09}, {\"Correlation\": 0.6, \"Count\": 0.03}, {\"Correlation\": 0.8, \"Count\": 0.0}], \"data-ff194ab4d68d70debd51613cffedcc45\": [{\"Statement\": \"DisClearRel\", \"Correlation\": -0.8, \"Count\": 0.25555555555555554}, {\"Statement\": \"DisClearRel\", \"Correlation\": -0.6, \"Count\": 0.2}, {\"Statement\": \"DisClearRel\", \"Correlation\": -0.4, \"Count\": 0.05555555555555555}, {\"Statement\": \"DisClearRel\", \"Correlation\": -0.2, \"Count\": 0.011111111111111112}, {\"Statement\": \"DisClearRel\", \"Correlation\": 0.0, \"Count\": 0.0}, {\"Statement\": \"DisClearRel\", \"Correlation\": 0.2, \"Count\": 0.011111111111111112}, {\"Statement\": \"DisClearRel\", \"Correlation\": 0.4, \"Count\": 0.03333333333333333}, {\"Statement\": \"DisClearRel\", \"Correlation\": 0.6, \"Count\": 0.13333333333333333}, {\"Statement\": \"DisClearRel\", \"Correlation\": 0.8, \"Count\": 0.3}, {\"Statement\": \"DisNoClear\", \"Correlation\": -0.8, \"Count\": 0.01652892561983471}, {\"Statement\": \"DisNoClear\", \"Correlation\": -0.6, \"Count\": 0.04132231404958678}, {\"Statement\": \"DisNoClear\", \"Correlation\": -0.4, \"Count\": 0.1652892561983471}, {\"Statement\": \"DisNoClear\", \"Correlation\": -0.2, \"Count\": 0.2231404958677686}, {\"Statement\": \"DisNoClear\", \"Correlation\": 0.0, \"Count\": 0.19834710743801653}, {\"Statement\": \"DisNoClear\", \"Correlation\": 0.2, \"Count\": 0.18181818181818182}, {\"Statement\": \"DisNoClear\", \"Correlation\": 0.4, \"Count\": 0.10743801652892562}, {\"Statement\": \"DisNoClear\", \"Correlation\": 0.6, \"Count\": 0.04132231404958678}, {\"Statement\": \"DisNoClear\", \"Correlation\": 0.8, \"Count\": 0.024793388429752067}]}}, {\"mode\": \"vega-lite\"});\n",
       "</script>"
      ],
      "text/plain": [
       "alt.HConcatChart(...)"
      ]
     },
     "execution_count": 275,
     "metadata": {},
     "output_type": "execute_result"
    }
   ],
   "source": [
    "((first_chart & second_chart) | e2chart).configure_concat(\n",
    "    spacing=15\n",
    ")"
   ]
  },
  {
   "cell_type": "markdown",
   "metadata": {},
   "source": [
    "### Formatting\n",
    "\n",
    "This should be the first lines run"
   ]
  },
  {
   "cell_type": "code",
   "execution_count": 28,
   "metadata": {},
   "outputs": [
    {
     "data": {
      "text/plain": [
       "ThemeRegistry.enable('wec_theme')"
      ]
     },
     "execution_count": 28,
     "metadata": {},
     "output_type": "execute_result"
    }
   ],
   "source": [
    "def wec_theme():\n",
    "    font = \"Avenir\"\n",
    "    \n",
    "    return {\n",
    "        \"config\" : {\n",
    "             \"mark\": {'color': '#000050'},\n",
    "             \"title\": {'font': font,  \"anchor\": \"end\"},\n",
    "             \"axis\": {\n",
    "                  \"labelFont\": font,\n",
    "                  \"titleFont\": font\n",
    "             },\n",
    "             \"headerColumn\": {\n",
    "                   \"labels\": False\n",
    "             },\n",
    "             \"header\": {\n",
    "                  \"labelFont\": font,\n",
    "                  'labelFontSize': 12,\n",
    "                  \"titleFont\": font, \n",
    "             },\n",
    "             \"legend\": {\n",
    "                  \"labelFont\": font,\n",
    "                  \"titleFont\": font\n",
    "             }\n",
    "        }\n",
    "    }\n",
    "alt.themes.register('wec_theme',wec_theme)\n",
    "alt.themes.enable('wec_theme')"
   ]
  },
  {
   "cell_type": "code",
   "execution_count": null,
   "metadata": {},
   "outputs": [],
   "source": []
  }
 ],
 "metadata": {
  "kernelspec": {
   "display_name": "Python 3",
   "language": "python",
   "name": "python3"
  },
  "language_info": {
   "codemirror_mode": {
    "name": "ipython",
    "version": 3
   },
   "file_extension": ".py",
   "mimetype": "text/x-python",
   "name": "python",
   "nbconvert_exporter": "python",
   "pygments_lexer": "ipython3",
   "version": "3.7.5"
  }
 },
 "nbformat": 4,
 "nbformat_minor": 4
}
