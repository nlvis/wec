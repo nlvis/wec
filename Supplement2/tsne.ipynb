{
 "cells": [
  {
   "cell_type": "markdown",
   "metadata": {},
   "source": [
    "## Adjective analysis\n",
    "\n",
    "Created in 13/03/2019\n",
    "\n",
    "This notebook describes visual analytics methods to organise/classify the adjectives identified through bigrams and trigrams analyses."
   ]
  },
  {
   "cell_type": "code",
   "execution_count": 1,
   "metadata": {},
   "outputs": [],
   "source": [
    "from gensim.models import Word2Vec\n",
    "from gensim.models import KeyedVectors\n",
    "import pandas as pd\n",
    "import numpy as np\n",
    "from nltk import TrigramCollocationFinder,BigramCollocationFinder,FreqDist\n",
    "import sklearn.manifold\n",
    "import sklearn.decomposition\n",
    "from matplotlib import pyplot\n",
    "import altair as alt"
   ]
  },
  {
   "cell_type": "code",
   "execution_count": 4,
   "metadata": {},
   "outputs": [],
   "source": [
    "data = pd.read_pickle(\"WECdf.pkl\")\n",
    "model = KeyedVectors.load_word2vec_format(\"w2v_synant.txt\")"
   ]
  },
  {
   "cell_type": "code",
   "execution_count": 6,
   "metadata": {},
   "outputs": [],
   "source": [
    "sents = data['tokenized'].tolist()"
   ]
  },
  {
   "cell_type": "code",
   "execution_count": 7,
   "metadata": {},
   "outputs": [],
   "source": [
    "modelwec = Word2Vec(sents, min_count=1, workers=4)"
   ]
  },
  {
   "cell_type": "markdown",
   "metadata": {},
   "source": [
    "The following list of adjectives are manually written here:"
   ]
  },
  {
   "cell_type": "code",
   "execution_count": 270,
   "metadata": {},
   "outputs": [],
   "source": [
    "adjs2 = ['small', 'strong', 'several', 'big',  'little', 'broad', 'large', 'heavy', 'few', 'slight', 'minimal', 'moderate', 'vast', 'many', 'weak']\n",
    "#adjs2 = ['particular', 'distinctive', 'identifiable', 'diffuse', 'discernible', 'definite', 'definitive', 'clear', 'real', 'unconnected', 'noticeable', 'unrelated', 'readable', 'general', 'possible', 'obvious', 'vague', 'present', 'distinct', 'independent']\n",
    "#adjs2= ['greatly', 'well', 'less', 'strong', 'many', 'largely', 'roughly', 'completely', 'small', 'slight', 'weak', 'quite', 'concentrated', 'condensed', 'little', 'weighted', 'slightly', 'moderately', 'heavy', 'vast', 'more', 'mostly', 'large', 'big', 'moderate', 'few', 'strongly', 'pretty', 'packed', 'minimal', 'generally', 'most', 'several', 'broad', 'very', 'somewhat', 'fairly']\n",
    "#adjs2=['big','large','strong','many','moderate','more','less','slight','minimal','small','weak','little']\n",
    "adjs_all = ['weak',\n",
    " 'condensed',\n",
    " 'concentrated',\n",
    " 'less',\n",
    " 'packed',\n",
    " 'many',\n",
    " 'minimal',\n",
    " 'vast',\n",
    " 'slight',\n",
    " 'several',\n",
    " 'little',\n",
    " 'small',\n",
    " 'few',\n",
    " 'broad',\n",
    " 'weighted',\n",
    " 'moderate',\n",
    " 'more',\n",
    " 'strong',\n",
    " 'big',\n",
    " 'heavy',\n",
    " 'large']\n",
    "adjs_reduced = [ 'condensed',\n",
    " 'weak',\n",
    " 'packed',\n",
    " 'minimal',\n",
    " 'few',\n",
    " 'little',\n",
    " 'concentrated',\n",
    " 'several',\n",
    " 'less',\n",
    " 'strong',\n",
    " 'broad',\n",
    " 'moderate',\n",
    " 'small',\n",
    " 'large',\n",
    " 'slight']\n"
   ]
  },
  {
   "cell_type": "code",
   "execution_count": 271,
   "metadata": {},
   "outputs": [],
   "source": [
    "adjs = [w for w in adjs_reduced if w in model.vocab]\n",
    "vocabs = [model.get_vector(w) for w in adjs if w in model.vocab]"
   ]
  },
  {
   "cell_type": "markdown",
   "metadata": {},
   "source": [
    "t-SNE parameters require heavy tweaking:"
   ]
  },
  {
   "cell_type": "code",
   "execution_count": 133,
   "metadata": {},
   "outputs": [],
   "source": [
    "#tsne = sklearn.manifold.TSNE(n_components = 2 , random_state = 0,\n",
    " #                            learning_rate=300, perplexity=3.9, n_iter=600, early_exaggeration=159)\n",
    "tsne = sklearn.manifold.TSNE(n_components = 2 , \n",
    "                             learning_rate=3, perplexity=2.2, n_iter=300, early_exaggeration=75)\n",
    "#tsne = sklearn.manifold.TSNE(n_components = 2 , random_state = 3,\n",
    "#                             learning_rate=370, perplexity=2.7 , n_iter=600, early_exaggeration=190)\n",
    "#all_vector_matrix = vocabs\n",
    "all_vector_matrix_2d = tsne.fit_transform(vocabs)\n",
    "#pyplot.figure(figsize=(8, 8))\n",
    "#%pyplot.scatter(all_vector_matrix_2d[:, 0], all_vector_matrix_2d[:, 1])\n",
    "words = list(adjs)\n",
    "#for i, word in enumerate(words):\n",
    "#    pyplot.annotate(word, xy=(all_vector_matrix_2d[i, 0], all_vector_matrix_2d[i, 1]))\n",
    "#pyplot.show()"
   ]
  },
  {
   "cell_type": "code",
   "execution_count": 275,
   "metadata": {},
   "outputs": [
    {
     "data": {
      "application/vnd.vegalite.v3+json": {
       "$schema": "https://vega.github.io/schema/vega-lite/v3.4.0.json",
       "config": {
        "axis": {
         "grid": false
        },
        "mark": {
         "tooltip": null
        },
        "view": {
         "height": 300,
         "width": 400
        }
       },
       "data": {
        "name": "data-e5bf840018ba5c151ff76405d004ed4f"
       },
       "datasets": {
        "data-e5bf840018ba5c151ff76405d004ed4f": [
         {
          "words": "condensed",
          "x": -27.465362548828125,
          "y": 43.92300796508789
         },
         {
          "words": "weak",
          "x": -60.85882568359375,
          "y": -47.87624740600586
         },
         {
          "words": "packed",
          "x": 2.325953483581543,
          "y": -19.530370712280273
         },
         {
          "words": "minimal",
          "x": -60.87855911254883,
          "y": -0.9418246746063232
         },
         {
          "words": "few",
          "x": -1.6059587001800537,
          "y": -3.9562275409698486
         },
         {
          "words": "little",
          "x": -36.72549057006836,
          "y": -59.20521926879883
         },
         {
          "words": "concentrated",
          "x": -12.07022762298584,
          "y": 37.42759704589844
         },
         {
          "words": "several",
          "x": -0.5121123790740967,
          "y": 7.020965576171875
         },
         {
          "words": "less",
          "x": -54.49762725830078,
          "y": -9.514995574951172
         },
         {
          "words": "strong",
          "x": 21.592836380004883,
          "y": 51.794124603271484
         },
         {
          "words": "broad",
          "x": 0.45192018151283264,
          "y": 34.041866302490234
         },
         {
          "words": "moderate",
          "x": 38.68863296508789,
          "y": -15.26343059539795
         },
         {
          "words": "small",
          "x": -45.08149719238281,
          "y": -52.33395767211914
         },
         {
          "words": "large",
          "x": 17.239133834838867,
          "y": 35.47171401977539
         },
         {
          "words": "slight",
          "x": -25.477428436279297,
          "y": -70.87458801269531
         }
        ]
       },
       "layer": [
        {
         "encoding": {
          "x": {
           "field": "x",
           "type": "quantitative"
          },
          "y": {
           "field": "y",
           "type": "quantitative"
          }
         },
         "height": 400,
         "mark": "circle",
         "width": 400
        },
        {
         "encoding": {
          "text": {
           "field": "words",
           "type": "nominal"
          },
          "x": {
           "field": "x",
           "type": "quantitative"
          },
          "y": {
           "field": "y",
           "type": "quantitative"
          }
         },
         "height": 400,
         "mark": {
          "align": "center",
          "baseline": "bottom",
          "dy": -2,
          "type": "text"
         },
         "selection": {
          "selector248": {
           "bind": "scales",
           "encodings": [
            "x",
            "y"
           ],
           "type": "interval"
          }
         },
         "width": 400
        }
       ]
      },
      "image/png": "[encoded data removed]",
      "text/plain": [
       "<VegaLite 3 object>\n",
       "\n",
       "If you see this message, it means the renderer has not been properly enabled\n",
       "for the frontend that you are using. For more information, see\n",
       "https://altair-viz.github.io/user_guide/troubleshooting.html\n"
      ]
     },
     "execution_count": 275,
     "metadata": {},
     "output_type": "execute_result"
    }
   ],
   "source": [
    "tsne = sklearn.manifold.TSNE(n_components = 2 , \n",
    "                             learning_rate=6, perplexity=2.3, n_iter=500, early_exaggeration=120)\n",
    "all_vector_matrix_2d = tsne.fit_transform(vocabs)\n",
    "words = list(adjs)\n",
    "splot = alt.Chart(pd.merge(pd.DataFrame(all_vector_matrix_2d,columns=['x','y']),pd.Series(words,name='words'),left_index=True,right_index=True)\n",
    "         ).mark_circle().encode(\n",
    "        x='x:Q',\n",
    "        y='y:Q').properties(height=400,width=400)\n",
    "\n",
    "text = splot.mark_text(\n",
    "       align='center',\n",
    "       baseline='bottom',\n",
    "    dy=-2\n",
    ").encode(\n",
    "    text='words'\n",
    ").interactive()\n",
    "(splot+text).configure_axis(\n",
    "    grid=False\n",
    ")"
   ]
  },
  {
   "cell_type": "code",
   "execution_count": 233,
   "metadata": {},
   "outputs": [
    {
     "data": {
      "application/vnd.vegalite.v3+json": {
       "$schema": "https://vega.github.io/schema/vega-lite/v3.4.0.json",
       "config": {
        "axis": {
         "grid": false
        },
        "mark": {
         "tooltip": null
        },
        "view": {
         "height": 300,
         "width": 400
        }
       },
       "data": {
        "name": "data-4fc31978905d7753ee57dfde614461dd"
       },
       "datasets": {
        "data-4fc31978905d7753ee57dfde614461dd": [
         {
          "words": "many",
          "x": 0.49623201846465004,
          "y": -0.061765458458836124
         },
         {
          "words": "condensed",
          "x": -0.6995926915846526,
          "y": -0.26578740618328206
         },
         {
          "words": "most",
          "x": 0.13220557742471037,
          "y": -0.5107472169752015
         },
         {
          "words": "weak",
          "x": -0.8729939603303256,
          "y": 0.31299132725649786
         },
         {
          "words": "packed",
          "x": 0.7909621303603271,
          "y": 0.5997284961950778
         },
         {
          "words": "minimal",
          "x": -0.5797070740991621,
          "y": 0.6387241495989632
         },
         {
          "words": "few",
          "x": -0.11813051344868933,
          "y": 0.0018830560114169663
         },
         {
          "words": "little",
          "x": 0.4710171891544839,
          "y": -0.7496780731574734
         },
         {
          "words": "concentrated",
          "x": -0.21207947986458886,
          "y": 0.32345016961710343
         },
         {
          "words": "several",
          "x": 0.5516656571320708,
          "y": 0.21763644722508957
         },
         {
          "words": "less",
          "x": -0.5614788921396361,
          "y": -0.7074311721929067
         },
         {
          "words": "strong",
          "x": 0.9805596769657577,
          "y": -0.31763670284819906
         },
         {
          "words": "more",
          "x": 0.5430481771151252,
          "y": 0.2664752576963324
         },
         {
          "words": "broad",
          "x": 0.11566428552795657,
          "y": -0.7764919272558012
         },
         {
          "words": "moderate",
          "x": -0.24763736315207166,
          "y": 0.7568885158518129
         },
         {
          "words": "small",
          "x": 0.03310302163914516,
          "y": -0.2839785552860927
         },
         {
          "words": "large",
          "x": 0.20918863969573692,
          "y": 0.9052174272660155
         },
         {
          "words": "slight",
          "x": -1.0320263988608382,
          "y": -0.34947833436051734
         }
        ]
       },
       "layer": [
        {
         "encoding": {
          "x": {
           "field": "x",
           "type": "quantitative"
          },
          "y": {
           "field": "y",
           "type": "quantitative"
          }
         },
         "height": 400,
         "mark": "circle",
         "width": 400
        },
        {
         "encoding": {
          "text": {
           "field": "words",
           "type": "nominal"
          },
          "x": {
           "field": "x",
           "type": "quantitative"
          },
          "y": {
           "field": "y",
           "type": "quantitative"
          }
         },
         "height": 400,
         "mark": {
          "align": "center",
          "baseline": "bottom",
          "dy": -2,
          "type": "text"
         },
         "selection": {
          "selector209": {
           "bind": "scales",
           "encodings": [
            "x",
            "y"
           ],
           "type": "interval"
          }
         },
         "width": 400
        }
       ]
      },
      "image/png": "[encoded data removed]",
      "text/plain": [
       "<VegaLite 3 object>\n",
       "\n",
       "If you see this message, it means the renderer has not been properly enabled\n",
       "for the frontend that you are using. For more information, see\n",
       "https://altair-viz.github.io/user_guide/troubleshooting.html\n"
      ]
     },
     "execution_count": 233,
     "metadata": {},
     "output_type": "execute_result"
    }
   ],
   "source": [
    "pca = sklearn.manifold.MDS(n_components=2, eps=1e-1)\n",
    "proj = pca.fit_transform(vocabs)\n",
    "words = list(adjs)\n",
    "splot = alt.Chart(pd.merge(pd.DataFrame(proj,columns=['x','y']),pd.Series(words,name='words'),left_index=True,right_index=True)\n",
    "         ).mark_circle().encode(\n",
    "        x='x:Q',\n",
    "        y='y:Q').properties(height=400,width=400)\n",
    "\n",
    "text = splot.mark_text(\n",
    "       align='center',\n",
    "       baseline='bottom',\n",
    "    dy=-2\n",
    ").encode(\n",
    "    text='words'\n",
    ").interactive()\n",
    "(splot+text).configure_axis(\n",
    "    grid=False\n",
    ")"
   ]
  },
  {
   "cell_type": "code",
   "execution_count": null,
   "metadata": {},
   "outputs": [],
   "source": []
  },
  {
   "cell_type": "code",
   "execution_count": null,
   "metadata": {},
   "outputs": [],
   "source": []
  }
 ],
 "metadata": {
  "kernelspec": {
   "display_name": "Python 3",
   "language": "python",
   "name": "python3"
  },
  "language_info": {
   "codemirror_mode": {
    "name": "ipython",
    "version": 3
   },
   "file_extension": ".py",
   "mimetype": "text/x-python",
   "name": "python",
   "nbconvert_exporter": "python",
   "pygments_lexer": "ipython3",
   "version": "3.6.8"
  }
 },
 "nbformat": 4,
 "nbformat_minor": 4
}
