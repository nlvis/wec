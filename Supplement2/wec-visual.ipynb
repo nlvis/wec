{
 "cells": [
  {
   "cell_type": "markdown",
   "metadata": {},
   "source": [
    "## WEC Analysis - Visualizations\n",
    "\n",
    "*Created 22/03/2019*\n",
    "\n",
    "This notebook picks up from the main analysis, where we now have each answer categorised with the main concepts and traits.\n",
    "We still do a bit of pre-processing on it to group and display properly, then we use Altair to show some summary graphics.\n",
    "\n",
    "(optionally you can run the last cell in the notebook, after importing the libaries, for some font and color configuration)"
   ]
  },
  {
   "cell_type": "code",
   "execution_count": 103,
   "metadata": {},
   "outputs": [],
   "source": [
    "import pandas as pd\n",
    "import altair as alt\n",
    "import csv\n",
    "import altair_transform as at"
   ]
  },
  {
   "cell_type": "code",
   "execution_count": 4,
   "metadata": {},
   "outputs": [],
   "source": [
    "data = pd.read_pickle(\"WECdf-categorised.pkl\")"
   ]
  },
  {
   "cell_type": "code",
   "execution_count": 5,
   "metadata": {},
   "outputs": [],
   "source": [
    "floatQ = {'C8P': 0.8,'C6P': 0.6,'C4P':0.4,'C2P':0.2,'C0': 0,'C2N': -0.2,'C4N': -0.4,'C6N':-0.6,'C8N': -0.8}\n",
    "special = ['NEGATE']\n",
    "concepts = ['RELATION','BEHAVIOUR','SPACE','INFERENCES','GRAPHIC','OTHER']\n",
    "traits = ['MAGNITUDE','DIRECTION','POSITION','DISCERNIBILITY','REGULARITY']"
   ]
  },
  {
   "cell_type": "markdown",
   "metadata": {},
   "source": [
    "The next block groups data by concept and traits, as well as negative statements.  \n",
    "It might be slightly unintuitive at first, but the Negate variable is True when it's a negative statement, and False when it's a positive statement."
   ]
  },
  {
   "cell_type": "code",
   "execution_count": 6,
   "metadata": {},
   "outputs": [
    {
     "data": {
      "text/html": [
       "<div>\n",
       "<style scoped>\n",
       "    .dataframe tbody tr th:only-of-type {\n",
       "        vertical-align: middle;\n",
       "    }\n",
       "\n",
       "    .dataframe tbody tr th {\n",
       "        vertical-align: top;\n",
       "    }\n",
       "\n",
       "    .dataframe thead th {\n",
       "        text-align: right;\n",
       "    }\n",
       "</style>\n",
       "<table border=\"1\" class=\"dataframe\">\n",
       "  <thead>\n",
       "    <tr style=\"text-align: right;\">\n",
       "      <th></th>\n",
       "      <th>Question</th>\n",
       "      <th>Concept</th>\n",
       "      <th>Trait</th>\n",
       "      <th>Negate</th>\n",
       "      <th>Count</th>\n",
       "      <th>Correlation</th>\n",
       "    </tr>\n",
       "  </thead>\n",
       "  <tbody>\n",
       "    <tr>\n",
       "      <th>0</th>\n",
       "      <td>C0</td>\n",
       "      <td>BEHAVIOUR</td>\n",
       "      <td>DISCERNIBILITY</td>\n",
       "      <td>False</td>\n",
       "      <td>2</td>\n",
       "      <td>0.0</td>\n",
       "    </tr>\n",
       "    <tr>\n",
       "      <th>1</th>\n",
       "      <td>C0</td>\n",
       "      <td>BEHAVIOUR</td>\n",
       "      <td>DISCERNIBILITY</td>\n",
       "      <td>True</td>\n",
       "      <td>6</td>\n",
       "      <td>0.0</td>\n",
       "    </tr>\n",
       "    <tr>\n",
       "      <th>2</th>\n",
       "      <td>C0</td>\n",
       "      <td>BEHAVIOUR</td>\n",
       "      <td>MAGNITUDE</td>\n",
       "      <td>False</td>\n",
       "      <td>4</td>\n",
       "      <td>0.0</td>\n",
       "    </tr>\n",
       "    <tr>\n",
       "      <th>3</th>\n",
       "      <td>C0</td>\n",
       "      <td>BEHAVIOUR</td>\n",
       "      <td>MAGNITUDE</td>\n",
       "      <td>True</td>\n",
       "      <td>2</td>\n",
       "      <td>0.0</td>\n",
       "    </tr>\n",
       "    <tr>\n",
       "      <th>4</th>\n",
       "      <td>C0</td>\n",
       "      <td>BEHAVIOUR</td>\n",
       "      <td>POSITION</td>\n",
       "      <td>False</td>\n",
       "      <td>6</td>\n",
       "      <td>0.0</td>\n",
       "    </tr>\n",
       "    <tr>\n",
       "      <th>...</th>\n",
       "      <td>...</td>\n",
       "      <td>...</td>\n",
       "      <td>...</td>\n",
       "      <td>...</td>\n",
       "      <td>...</td>\n",
       "      <td>...</td>\n",
       "    </tr>\n",
       "    <tr>\n",
       "      <th>389</th>\n",
       "      <td>C8P</td>\n",
       "      <td>SPACE</td>\n",
       "      <td>DIRECTION</td>\n",
       "      <td>False</td>\n",
       "      <td>9</td>\n",
       "      <td>0.8</td>\n",
       "    </tr>\n",
       "    <tr>\n",
       "      <th>390</th>\n",
       "      <td>C8P</td>\n",
       "      <td>SPACE</td>\n",
       "      <td>DISCERNIBILITY</td>\n",
       "      <td>False</td>\n",
       "      <td>2</td>\n",
       "      <td>0.8</td>\n",
       "    </tr>\n",
       "    <tr>\n",
       "      <th>391</th>\n",
       "      <td>C8P</td>\n",
       "      <td>SPACE</td>\n",
       "      <td>MAGNITUDE</td>\n",
       "      <td>False</td>\n",
       "      <td>14</td>\n",
       "      <td>0.8</td>\n",
       "    </tr>\n",
       "    <tr>\n",
       "      <th>392</th>\n",
       "      <td>C8P</td>\n",
       "      <td>SPACE</td>\n",
       "      <td>POSITION</td>\n",
       "      <td>False</td>\n",
       "      <td>18</td>\n",
       "      <td>0.8</td>\n",
       "    </tr>\n",
       "    <tr>\n",
       "      <th>393</th>\n",
       "      <td>C8P</td>\n",
       "      <td>SPACE</td>\n",
       "      <td>REGULARITY</td>\n",
       "      <td>False</td>\n",
       "      <td>12</td>\n",
       "      <td>0.8</td>\n",
       "    </tr>\n",
       "  </tbody>\n",
       "</table>\n",
       "<p>394 rows × 6 columns</p>\n",
       "</div>"
      ],
      "text/plain": [
       "    Question    Concept           Trait  Negate  Count  Correlation\n",
       "0         C0  BEHAVIOUR  DISCERNIBILITY   False      2          0.0\n",
       "1         C0  BEHAVIOUR  DISCERNIBILITY    True      6          0.0\n",
       "2         C0  BEHAVIOUR       MAGNITUDE   False      4          0.0\n",
       "3         C0  BEHAVIOUR       MAGNITUDE    True      2          0.0\n",
       "4         C0  BEHAVIOUR        POSITION   False      6          0.0\n",
       "..       ...        ...             ...     ...    ...          ...\n",
       "389      C8P      SPACE       DIRECTION   False      9          0.8\n",
       "390      C8P      SPACE  DISCERNIBILITY   False      2          0.8\n",
       "391      C8P      SPACE       MAGNITUDE   False     14          0.8\n",
       "392      C8P      SPACE        POSITION   False     18          0.8\n",
       "393      C8P      SPACE      REGULARITY   False     12          0.8\n",
       "\n",
       "[394 rows x 6 columns]"
      ]
     },
     "execution_count": 6,
     "metadata": {},
     "output_type": "execute_result"
    }
   ],
   "source": [
    "#Code to tag negative statements in a Negate column with True or False instead of a trait/concept\n",
    "cdata = data[data['lemma_cat_tagged'].notnull()][['ResponseId','Question','lemma_cat_tagged']]\n",
    "\n",
    "#cdata = cdata[cdata.lemma_cat_tagged.apply(lambda x: 'RELATION' in x)]\n",
    "cdata['concepts'] = cdata['lemma_cat_tagged'].apply(lambda x: [c for c in x if c in concepts])#pd.Series).stack()\n",
    "cdata['traits'] = cdata['lemma_cat_tagged'].apply(lambda x: [t for t in x if t in traits])\n",
    "cdata['special'] = cdata['lemma_cat_tagged'].apply(lambda x: True if len([s for s in x if s in special]) > 0 else False)\n",
    "cs = cdata['concepts'].apply(pd.Series).reset_index().melt(id_vars='index').dropna()[['index', 'value']].set_index('index')\n",
    "ts = cdata['traits'].apply(pd.Series).reset_index().melt(id_vars='index').dropna()[['index', 'value']].set_index('index')\n",
    "sp = cdata['special'].apply(pd.Series).reset_index().melt(id_vars='index').dropna()[['index', 'value']].set_index('index')\n",
    "df2 = pd.merge(sp,  pd.merge(pd.merge(cs,ts,left_index=True,right_index=True),cdata[['ResponseId','Question']],\n",
    "             left_index=True,right_index=True).rename(columns={'value_x': 'Concept', 'value_y': 'Trait'}),left_index=True,right_index=True).rename(columns={'value': 'Negate'})\n",
    "\n",
    "\n",
    "cbyt = df2.groupby(['Question','Concept','Trait','Negate'],as_index=False).count()\n",
    "cbyt.rename(columns={'ResponseId':'Count'}, inplace=True)\n",
    "cbyt['Correlation'] = cbyt['Question'].apply(lambda x: floatQ[x])\n",
    "cbyt\n",
    "#cbyt.to_csv('c_by_t.csv')\n",
    "\n"
   ]
  },
  {
   "cell_type": "code",
   "execution_count": 7,
   "metadata": {},
   "outputs": [
    {
     "data": {
      "text/html": [
       "<div>\n",
       "<style scoped>\n",
       "    .dataframe tbody tr th:only-of-type {\n",
       "        vertical-align: middle;\n",
       "    }\n",
       "\n",
       "    .dataframe tbody tr th {\n",
       "        vertical-align: top;\n",
       "    }\n",
       "\n",
       "    .dataframe thead th {\n",
       "        text-align: right;\n",
       "    }\n",
       "</style>\n",
       "<table border=\"1\" class=\"dataframe\">\n",
       "  <thead>\n",
       "    <tr style=\"text-align: right;\">\n",
       "      <th></th>\n",
       "      <th>Question</th>\n",
       "      <th>Concept1</th>\n",
       "      <th>Concept2</th>\n",
       "      <th>Negate</th>\n",
       "      <th>Count</th>\n",
       "      <th>Correlation</th>\n",
       "    </tr>\n",
       "  </thead>\n",
       "  <tbody>\n",
       "    <tr>\n",
       "      <th>0</th>\n",
       "      <td>C0</td>\n",
       "      <td>BEHAVIOUR</td>\n",
       "      <td>GRAPHIC</td>\n",
       "      <td>False</td>\n",
       "      <td>3</td>\n",
       "      <td>0.0</td>\n",
       "    </tr>\n",
       "    <tr>\n",
       "      <th>1</th>\n",
       "      <td>C0</td>\n",
       "      <td>BEHAVIOUR</td>\n",
       "      <td>GRAPHIC</td>\n",
       "      <td>True</td>\n",
       "      <td>3</td>\n",
       "      <td>0.0</td>\n",
       "    </tr>\n",
       "    <tr>\n",
       "      <th>2</th>\n",
       "      <td>C0</td>\n",
       "      <td>BEHAVIOUR</td>\n",
       "      <td>INFERENCES</td>\n",
       "      <td>False</td>\n",
       "      <td>5</td>\n",
       "      <td>0.0</td>\n",
       "    </tr>\n",
       "    <tr>\n",
       "      <th>3</th>\n",
       "      <td>C0</td>\n",
       "      <td>BEHAVIOUR</td>\n",
       "      <td>INFERENCES</td>\n",
       "      <td>True</td>\n",
       "      <td>7</td>\n",
       "      <td>0.0</td>\n",
       "    </tr>\n",
       "    <tr>\n",
       "      <th>4</th>\n",
       "      <td>C0</td>\n",
       "      <td>BEHAVIOUR</td>\n",
       "      <td>RELATION</td>\n",
       "      <td>False</td>\n",
       "      <td>3</td>\n",
       "      <td>0.0</td>\n",
       "    </tr>\n",
       "    <tr>\n",
       "      <th>5</th>\n",
       "      <td>C0</td>\n",
       "      <td>BEHAVIOUR</td>\n",
       "      <td>RELATION</td>\n",
       "      <td>True</td>\n",
       "      <td>8</td>\n",
       "      <td>0.0</td>\n",
       "    </tr>\n",
       "    <tr>\n",
       "      <th>6</th>\n",
       "      <td>C0</td>\n",
       "      <td>BEHAVIOUR</td>\n",
       "      <td>SPACE</td>\n",
       "      <td>False</td>\n",
       "      <td>4</td>\n",
       "      <td>0.0</td>\n",
       "    </tr>\n",
       "    <tr>\n",
       "      <th>7</th>\n",
       "      <td>C0</td>\n",
       "      <td>BEHAVIOUR</td>\n",
       "      <td>SPACE</td>\n",
       "      <td>True</td>\n",
       "      <td>3</td>\n",
       "      <td>0.0</td>\n",
       "    </tr>\n",
       "    <tr>\n",
       "      <th>8</th>\n",
       "      <td>C0</td>\n",
       "      <td>GRAPHIC</td>\n",
       "      <td>BEHAVIOUR</td>\n",
       "      <td>False</td>\n",
       "      <td>3</td>\n",
       "      <td>0.0</td>\n",
       "    </tr>\n",
       "    <tr>\n",
       "      <th>9</th>\n",
       "      <td>C0</td>\n",
       "      <td>GRAPHIC</td>\n",
       "      <td>BEHAVIOUR</td>\n",
       "      <td>True</td>\n",
       "      <td>3</td>\n",
       "      <td>0.0</td>\n",
       "    </tr>\n",
       "  </tbody>\n",
       "</table>\n",
       "</div>"
      ],
      "text/plain": [
       "  Question   Concept1    Concept2  Negate  Count  Correlation\n",
       "0       C0  BEHAVIOUR     GRAPHIC   False      3          0.0\n",
       "1       C0  BEHAVIOUR     GRAPHIC    True      3          0.0\n",
       "2       C0  BEHAVIOUR  INFERENCES   False      5          0.0\n",
       "3       C0  BEHAVIOUR  INFERENCES    True      7          0.0\n",
       "4       C0  BEHAVIOUR    RELATION   False      3          0.0\n",
       "5       C0  BEHAVIOUR    RELATION    True      8          0.0\n",
       "6       C0  BEHAVIOUR       SPACE   False      4          0.0\n",
       "7       C0  BEHAVIOUR       SPACE    True      3          0.0\n",
       "8       C0    GRAPHIC   BEHAVIOUR   False      3          0.0\n",
       "9       C0    GRAPHIC   BEHAVIOUR    True      3          0.0"
      ]
     },
     "execution_count": 7,
     "metadata": {},
     "output_type": "execute_result"
    }
   ],
   "source": [
    "#Code to tag negative statements in a Negate column with True or False instead of a trait/concept\n",
    "cdata = data[data['lemma_cat_tagged'].notnull()][['ResponseId','Question','lemma_cat_tagged']]\n",
    "\n",
    "cdata['concepts'] = cdata['lemma_cat_tagged'].apply(lambda x: [c for c in x if c in concepts])#pd.Series).stack()\n",
    "#cdata['traits'] = cdata['lemma_cat_tagged'].apply(lambda x: [t for t in x if t in traits])\n",
    "cdata['special'] = cdata['lemma_cat_tagged'].apply(lambda x: True if len([s for s in x if s in special]) > 0 else False)\n",
    "cs = cdata['concepts'].apply(pd.Series).reset_index().melt(id_vars='index').dropna()[['index', 'value']].set_index('index')\n",
    "#ts = cdata['traits'].apply(pd.Series).reset_index().melt(id_vars='index').dropna()[['index', 'value']].set_index('index')\n",
    "sp = cdata['special'].apply(pd.Series).reset_index().melt(id_vars='index').dropna()[['index', 'value']].set_index('index')\n",
    "df2 = pd.merge(sp,  pd.merge(pd.merge(cs,cs,left_index=True,right_index=True),cdata[['ResponseId','Question']],\n",
    "             left_index=True,right_index=True).rename(columns={'value_x': 'Concept1', 'value_y': 'Concept2'}),left_index=True,right_index=True).rename(columns={'value': 'Negate'})\n",
    "df2 = df2[df2['Concept1'] != df2['Concept2']]\n",
    "cbyc = df2.groupby(['Question','Concept1','Concept2','Negate'],as_index=False).count()\n",
    "cbyc.rename(columns={'ResponseId':'Count'}, inplace=True)\n",
    "cbyc['Correlation'] = cbyc['Question'].apply(lambda x: floatQ[x])\n",
    "cbyc[:10]\n",
    "#cbyt.to_csv('c_by_t.csv')\n"
   ]
  },
  {
   "cell_type": "code",
   "execution_count": 8,
   "metadata": {},
   "outputs": [
    {
     "data": {
      "text/html": [
       "<div>\n",
       "<style scoped>\n",
       "    .dataframe tbody tr th:only-of-type {\n",
       "        vertical-align: middle;\n",
       "    }\n",
       "\n",
       "    .dataframe tbody tr th {\n",
       "        vertical-align: top;\n",
       "    }\n",
       "\n",
       "    .dataframe thead th {\n",
       "        text-align: right;\n",
       "    }\n",
       "</style>\n",
       "<table border=\"1\" class=\"dataframe\">\n",
       "  <thead>\n",
       "    <tr style=\"text-align: right;\">\n",
       "      <th></th>\n",
       "      <th>Question</th>\n",
       "      <th>Trait1</th>\n",
       "      <th>Trait2</th>\n",
       "      <th>Negate</th>\n",
       "      <th>Count</th>\n",
       "      <th>Correlation</th>\n",
       "    </tr>\n",
       "  </thead>\n",
       "  <tbody>\n",
       "    <tr>\n",
       "      <th>0</th>\n",
       "      <td>C0</td>\n",
       "      <td>DIRECTION</td>\n",
       "      <td>DISCERNIBILITY</td>\n",
       "      <td>False</td>\n",
       "      <td>1</td>\n",
       "      <td>0.0</td>\n",
       "    </tr>\n",
       "    <tr>\n",
       "      <th>1</th>\n",
       "      <td>C0</td>\n",
       "      <td>DIRECTION</td>\n",
       "      <td>MAGNITUDE</td>\n",
       "      <td>False</td>\n",
       "      <td>3</td>\n",
       "      <td>0.0</td>\n",
       "    </tr>\n",
       "    <tr>\n",
       "      <th>2</th>\n",
       "      <td>C0</td>\n",
       "      <td>DIRECTION</td>\n",
       "      <td>POSITION</td>\n",
       "      <td>False</td>\n",
       "      <td>2</td>\n",
       "      <td>0.0</td>\n",
       "    </tr>\n",
       "    <tr>\n",
       "      <th>3</th>\n",
       "      <td>C0</td>\n",
       "      <td>DIRECTION</td>\n",
       "      <td>POSITION</td>\n",
       "      <td>True</td>\n",
       "      <td>1</td>\n",
       "      <td>0.0</td>\n",
       "    </tr>\n",
       "    <tr>\n",
       "      <th>4</th>\n",
       "      <td>C0</td>\n",
       "      <td>DIRECTION</td>\n",
       "      <td>REGULARITY</td>\n",
       "      <td>False</td>\n",
       "      <td>2</td>\n",
       "      <td>0.0</td>\n",
       "    </tr>\n",
       "    <tr>\n",
       "      <th>5</th>\n",
       "      <td>C0</td>\n",
       "      <td>DISCERNIBILITY</td>\n",
       "      <td>DIRECTION</td>\n",
       "      <td>False</td>\n",
       "      <td>1</td>\n",
       "      <td>0.0</td>\n",
       "    </tr>\n",
       "    <tr>\n",
       "      <th>6</th>\n",
       "      <td>C0</td>\n",
       "      <td>DISCERNIBILITY</td>\n",
       "      <td>MAGNITUDE</td>\n",
       "      <td>False</td>\n",
       "      <td>4</td>\n",
       "      <td>0.0</td>\n",
       "    </tr>\n",
       "    <tr>\n",
       "      <th>7</th>\n",
       "      <td>C0</td>\n",
       "      <td>DISCERNIBILITY</td>\n",
       "      <td>MAGNITUDE</td>\n",
       "      <td>True</td>\n",
       "      <td>3</td>\n",
       "      <td>0.0</td>\n",
       "    </tr>\n",
       "    <tr>\n",
       "      <th>8</th>\n",
       "      <td>C0</td>\n",
       "      <td>DISCERNIBILITY</td>\n",
       "      <td>POSITION</td>\n",
       "      <td>False</td>\n",
       "      <td>4</td>\n",
       "      <td>0.0</td>\n",
       "    </tr>\n",
       "    <tr>\n",
       "      <th>9</th>\n",
       "      <td>C0</td>\n",
       "      <td>DISCERNIBILITY</td>\n",
       "      <td>POSITION</td>\n",
       "      <td>True</td>\n",
       "      <td>11</td>\n",
       "      <td>0.0</td>\n",
       "    </tr>\n",
       "  </tbody>\n",
       "</table>\n",
       "</div>"
      ],
      "text/plain": [
       "  Question          Trait1          Trait2  Negate  Count  Correlation\n",
       "0       C0       DIRECTION  DISCERNIBILITY   False      1          0.0\n",
       "1       C0       DIRECTION       MAGNITUDE   False      3          0.0\n",
       "2       C0       DIRECTION        POSITION   False      2          0.0\n",
       "3       C0       DIRECTION        POSITION    True      1          0.0\n",
       "4       C0       DIRECTION      REGULARITY   False      2          0.0\n",
       "5       C0  DISCERNIBILITY       DIRECTION   False      1          0.0\n",
       "6       C0  DISCERNIBILITY       MAGNITUDE   False      4          0.0\n",
       "7       C0  DISCERNIBILITY       MAGNITUDE    True      3          0.0\n",
       "8       C0  DISCERNIBILITY        POSITION   False      4          0.0\n",
       "9       C0  DISCERNIBILITY        POSITION    True     11          0.0"
      ]
     },
     "execution_count": 8,
     "metadata": {},
     "output_type": "execute_result"
    }
   ],
   "source": [
    "#Code to tag negative statements in a Negate column with True or False instead of a trait/concept\n",
    "cdata = data[data['lemma_cat_tagged'].notnull()][['ResponseId','Question','lemma_cat_tagged']]\n",
    "\n",
    "cdata['traits'] = cdata['lemma_cat_tagged'].apply(lambda x: [t for t in x if t in traits])\n",
    "cdata['special'] = cdata['lemma_cat_tagged'].apply(lambda x: True if len([s for s in x if s in special]) > 0 else False)\n",
    "ts = cdata['traits'].apply(pd.Series).reset_index().melt(id_vars='index').dropna()[['index', 'value']].set_index('index')\n",
    "#ts = cdata['traits'].apply(pd.Series).reset_index().melt(id_vars='index').dropna()[['index', 'value']].set_index('index')\n",
    "sp = cdata['special'].apply(pd.Series).reset_index().melt(id_vars='index').dropna()[['index', 'value']].set_index('index')\n",
    "df2 = pd.merge(sp,  pd.merge(pd.merge(ts,ts,left_index=True,right_index=True),cdata[['ResponseId','Question']],\n",
    "             left_index=True,right_index=True).rename(columns={'value_x': 'Trait1', 'value_y': 'Trait2'}),left_index=True,right_index=True).rename(columns={'value': 'Negate'})\n",
    "df2 = df2[df2['Trait1'] != df2['Trait2']]\n",
    "tbyt = df2.groupby(['Question','Trait1','Trait2','Negate'],as_index=False).count()\n",
    "tbyt.rename(columns={'ResponseId':'Count'}, inplace=True)\n",
    "tbyt['Correlation'] = tbyt['Question'].apply(lambda x: floatQ[x])\n",
    "tbyt[:10]\n",
    "#cbyt.to_csv('c_by_t.csv')\n"
   ]
  },
  {
   "cell_type": "code",
   "execution_count": 9,
   "metadata": {},
   "outputs": [
    {
     "data": {
      "text/html": [
       "<div>\n",
       "<style scoped>\n",
       "    .dataframe tbody tr th:only-of-type {\n",
       "        vertical-align: middle;\n",
       "    }\n",
       "\n",
       "    .dataframe tbody tr th {\n",
       "        vertical-align: top;\n",
       "    }\n",
       "\n",
       "    .dataframe thead th {\n",
       "        text-align: right;\n",
       "    }\n",
       "</style>\n",
       "<table border=\"1\" class=\"dataframe\">\n",
       "  <thead>\n",
       "    <tr style=\"text-align: right;\">\n",
       "      <th></th>\n",
       "      <th>Question</th>\n",
       "      <th>Concept</th>\n",
       "      <th>Trait</th>\n",
       "      <th>Negate</th>\n",
       "      <th>Count</th>\n",
       "      <th>Correlation</th>\n",
       "    </tr>\n",
       "  </thead>\n",
       "  <tbody>\n",
       "    <tr>\n",
       "      <th>0</th>\n",
       "      <td>C0</td>\n",
       "      <td>BEHAVIOUR</td>\n",
       "      <td>MAGNITUDE</td>\n",
       "      <td>False</td>\n",
       "      <td>1</td>\n",
       "      <td>0.0</td>\n",
       "    </tr>\n",
       "    <tr>\n",
       "      <th>1</th>\n",
       "      <td>C0</td>\n",
       "      <td>BEHAVIOUR</td>\n",
       "      <td>MAGNITUDE</td>\n",
       "      <td>True</td>\n",
       "      <td>1</td>\n",
       "      <td>0.0</td>\n",
       "    </tr>\n",
       "    <tr>\n",
       "      <th>2</th>\n",
       "      <td>C0</td>\n",
       "      <td>BEHAVIOUR</td>\n",
       "      <td>POSITION</td>\n",
       "      <td>False</td>\n",
       "      <td>1</td>\n",
       "      <td>0.0</td>\n",
       "    </tr>\n",
       "    <tr>\n",
       "      <th>3</th>\n",
       "      <td>C0</td>\n",
       "      <td>GRAPHIC</td>\n",
       "      <td>MAGNITUDE</td>\n",
       "      <td>False</td>\n",
       "      <td>1</td>\n",
       "      <td>0.0</td>\n",
       "    </tr>\n",
       "    <tr>\n",
       "      <th>4</th>\n",
       "      <td>C0</td>\n",
       "      <td>GRAPHIC</td>\n",
       "      <td>POSITION</td>\n",
       "      <td>False</td>\n",
       "      <td>1</td>\n",
       "      <td>0.0</td>\n",
       "    </tr>\n",
       "  </tbody>\n",
       "</table>\n",
       "</div>"
      ],
      "text/plain": [
       "  Question    Concept      Trait  Negate  Count  Correlation\n",
       "0       C0  BEHAVIOUR  MAGNITUDE   False      1          0.0\n",
       "1       C0  BEHAVIOUR  MAGNITUDE    True      1          0.0\n",
       "2       C0  BEHAVIOUR   POSITION   False      1          0.0\n",
       "3       C0    GRAPHIC  MAGNITUDE   False      1          0.0\n",
       "4       C0    GRAPHIC   POSITION   False      1          0.0"
      ]
     },
     "execution_count": 9,
     "metadata": {},
     "output_type": "execute_result"
    }
   ],
   "source": [
    "#Code to tag negative statements in a Negate column with True or False instead of a trait/concept\n",
    "# FILTERED NUMBER OF CO-OCURRENCES USING MASK\n",
    "mask = data[data['lemma_cat_tagged'].notnull()]['lemma_cat_tagged'].apply(len) == 3\n",
    "cdata = data[data['lemma_cat_tagged'].notnull()][['ResponseId','Question','lemma_cat_tagged']].loc[mask]\n",
    "#print(cdata)\n",
    "cdata['concepts'] = cdata['lemma_cat_tagged'].apply(lambda x: [c for c in x if c in concepts])#pd.Series).stack()\n",
    "cdata['traits'] = cdata['lemma_cat_tagged'].apply(lambda x: [t for t in x if t in traits])\n",
    "cdata['special'] = cdata['lemma_cat_tagged'].apply(lambda x: True if len([s for s in x if s in special]) > 0 else False)\n",
    "cs = cdata['concepts'].apply(pd.Series).reset_index().melt(id_vars='index').dropna()[['index', 'value']].set_index('index')\n",
    "ts = cdata['traits'].apply(pd.Series).reset_index().melt(id_vars='index').dropna()[['index', 'value']].set_index('index')\n",
    "sp = cdata['special'].apply(pd.Series).reset_index().melt(id_vars='index').dropna()[['index', 'value']].set_index('index')\n",
    "df2 = pd.merge(sp,  pd.merge(pd.merge(cs,ts,left_index=True,right_index=True),cdata[['ResponseId','Question']],\n",
    "             left_index=True,right_index=True).rename(columns={'value_x': 'Concept', 'value_y': 'Trait'}),left_index=True,right_index=True).rename(columns={'value': 'Negate'})\n",
    "\n",
    "cooc = df2.groupby(['Question','Concept','Trait','Negate'],as_index=False).count()\n",
    "cooc.rename(columns={'ResponseId':'Count'}, inplace=True)\n",
    "cooc['Correlation'] = cooc['Question'].apply(lambda x: floatQ[x])\n",
    "cooc[:5]\n",
    "#cbyt.to_csv('c_by_t.csv')\n"
   ]
  },
  {
   "cell_type": "code",
   "execution_count": 10,
   "metadata": {},
   "outputs": [
    {
     "name": "stderr",
     "output_type": "stream",
     "text": [
      "/Users/rafael/opt/anaconda3/envs/circles/lib/python3.7/site-packages/pandas/core/indexing.py:671: SettingWithCopyWarning: \n",
      "A value is trying to be set on a copy of a slice from a DataFrame\n",
      "\n",
      "See the caveats in the documentation: https://pandas.pydata.org/pandas-docs/stable/user_guide/indexing.html#returning-a-view-versus-a-copy\n",
      "  self._setitem_with_indexer(indexer, value)\n"
     ]
    },
    {
     "data": {
      "text/html": [
       "\n",
       "<div id=\"altair-viz-171f48a0768a4ecc9b901b9ed2f84c35\"></div>\n",
       "<script type=\"text/javascript\">\n",
       "  (function(spec, embedOpt){\n",
       "    let outputDiv = document.currentScript.previousElementSibling;\n",
       "    if (outputDiv.id !== \"altair-viz-171f48a0768a4ecc9b901b9ed2f84c35\") {\n",
       "      outputDiv = document.getElementById(\"altair-viz-171f48a0768a4ecc9b901b9ed2f84c35\");\n",
       "    }\n",
       "    const paths = {\n",
       "      \"vega\": \"https://cdn.jsdelivr.net/npm//vega@5?noext\",\n",
       "      \"vega-lib\": \"https://cdn.jsdelivr.net/npm//vega-lib?noext\",\n",
       "      \"vega-lite\": \"https://cdn.jsdelivr.net/npm//vega-lite@4.8.1?noext\",\n",
       "      \"vega-embed\": \"https://cdn.jsdelivr.net/npm//vega-embed@6?noext\",\n",
       "    };\n",
       "\n",
       "    function loadScript(lib) {\n",
       "      return new Promise(function(resolve, reject) {\n",
       "        var s = document.createElement('script');\n",
       "        s.src = paths[lib];\n",
       "        s.async = true;\n",
       "        s.onload = () => resolve(paths[lib]);\n",
       "        s.onerror = () => reject(`Error loading script: ${paths[lib]}`);\n",
       "        document.getElementsByTagName(\"head\")[0].appendChild(s);\n",
       "      });\n",
       "    }\n",
       "\n",
       "    function showError(err) {\n",
       "      outputDiv.innerHTML = `<div class=\"error\" style=\"color:red;\">${err}</div>`;\n",
       "      throw err;\n",
       "    }\n",
       "\n",
       "    function displayChart(vegaEmbed) {\n",
       "      vegaEmbed(outputDiv, spec, embedOpt)\n",
       "        .catch(err => showError(`Javascript Error: ${err.message}<br>This usually means there's a typo in your chart specification. See the javascript console for the full traceback.`));\n",
       "    }\n",
       "\n",
       "    if(typeof define === \"function\" && define.amd) {\n",
       "      requirejs.config({paths});\n",
       "      require([\"vega-embed\"], displayChart, err => showError(`Error loading script: ${err.message}`));\n",
       "    } else if (typeof vegaEmbed === \"function\") {\n",
       "      displayChart(vegaEmbed);\n",
       "    } else {\n",
       "      loadScript(\"vega\")\n",
       "        .then(() => loadScript(\"vega-lite\"))\n",
       "        .then(() => loadScript(\"vega-embed\"))\n",
       "        .catch(showError)\n",
       "        .then(() => displayChart(vegaEmbed));\n",
       "    }\n",
       "  })({\"config\": {\"view\": {\"continuousWidth\": 400, \"continuousHeight\": 300}}, \"data\": {\"name\": \"data-5ffb5c67d4a428037a0668365732f30c\"}, \"mark\": \"bar\", \"encoding\": {\"x\": {\"type\": \"ordinal\", \"axis\": {\"title\": \"Concepts or traits mentioned\"}, \"field\": \"index\"}, \"y\": {\"type\": \"quantitative\", \"axis\": {\"title\": \"Number of answers\"}, \"field\": \"value\"}}, \"height\": 120, \"width\": 220, \"$schema\": \"https://vega.github.io/schema/vega-lite/v4.8.1.json\", \"datasets\": {\"data-5ffb5c67d4a428037a0668365732f30c\": [{\"index\": 1, \"value\": 105}, {\"index\": 2, \"value\": 312}, {\"index\": 3, \"value\": 351}, {\"index\": 4, \"value\": 270}, {\"index\": 5, \"value\": 205}, {\"index\": 6, \"value\": 109}, {\"index\": 7, \"value\": 49}, {\"index\": 8, \"value\": 14}, {\"index\": 9, \"value\": 3}]}}, {\"mode\": \"vega-lite\"});\n",
       "</script>"
      ],
      "text/plain": [
       "alt.Chart(...)"
      ]
     },
     "execution_count": 10,
     "metadata": {},
     "output_type": "execute_result"
    }
   ],
   "source": [
    "cooc_count = []\n",
    "for i in range(1,10):\n",
    "    mask = data[data['lemma_cat_tagged'].notnull()]['lemma_cat_tagged'].apply(len) == i\n",
    "    df_cooc = data[data['lemma_cat_tagged'].notnull()].loc[mask]\n",
    " #   for name,group in df_cooc:\n",
    "#        print(name,len(group))\n",
    "    cooc_count.append(len(df_cooc))\n",
    "\n",
    "df = data.copy()\n",
    "d = df['lemma_cat_tagged']\n",
    "d.loc[d.isnull()] = d.loc[d.isnull()].apply(lambda x: [])\n",
    "df['lemma_cat_tagged'] = d\n",
    "df['lemma_cat_tagged'] = df['lemma_cat_tagged'].apply(sorted).apply(tuple)\n",
    "g = df.groupby(['lemma_cat_tagged']).apply(len).sort_values(ascending=False).reset_index().rename(columns={0: 'count'})[:10]    \n",
    "#display(g)\n",
    "\n",
    "\n",
    "dist_comb = alt.Chart(pd.DataFrame(cooc_count).reset_index().rename(columns={0: \"value\"}).apply(lambda x: x+1 if x.name == \"index\" else x)).mark_bar().encode(\n",
    "    x=alt.X('index:O',axis=alt.Axis(title='Concepts or traits mentioned')),\n",
    "    y=alt.Y('value:Q',axis=alt.Axis(title=\"Number of answers\"))).properties(width=220,height=120)\n",
    "\n",
    "#comb_rank.configure_axisLeft(labelLimit=1000)\n",
    "dist_comb\n",
    "#alt.HConcatChart(hconcat=(comb_rank,dist_comb),spacing=10).configure_axisLeft(labelLimit=1000)\n",
    "#mask = data[data['lemma_cat_tagged'].notnull()]['lemma_cat_tagged'].apply(len) == 8\n",
    "#cdata = data[data['lemma_cat_tagged'].notnull()].loc[mask]\n",
    "#cdata['Answer'].tolist()"
   ]
  },
  {
   "cell_type": "code",
   "execution_count": 11,
   "metadata": {},
   "outputs": [
    {
     "data": {
      "text/html": [
       "<div>\n",
       "<style scoped>\n",
       "    .dataframe tbody tr th:only-of-type {\n",
       "        vertical-align: middle;\n",
       "    }\n",
       "\n",
       "    .dataframe tbody tr th {\n",
       "        vertical-align: top;\n",
       "    }\n",
       "\n",
       "    .dataframe thead th {\n",
       "        text-align: right;\n",
       "    }\n",
       "</style>\n",
       "<table border=\"1\" class=\"dataframe\">\n",
       "  <thead>\n",
       "    <tr style=\"text-align: right;\">\n",
       "      <th></th>\n",
       "      <th>lemma_cat_tagged</th>\n",
       "      <th>count</th>\n",
       "    </tr>\n",
       "  </thead>\n",
       "  <tbody>\n",
       "    <tr>\n",
       "      <th>0</th>\n",
       "      <td>(NEGATE, RELATION)</td>\n",
       "      <td>60</td>\n",
       "    </tr>\n",
       "    <tr>\n",
       "      <th>1</th>\n",
       "      <td>(BEHAVIOUR, INFERENCES)</td>\n",
       "      <td>45</td>\n",
       "    </tr>\n",
       "    <tr>\n",
       "      <th>2</th>\n",
       "      <td>(DIRECTION, MAGNITUDE, RELATION)</td>\n",
       "      <td>41</td>\n",
       "    </tr>\n",
       "    <tr>\n",
       "      <th>3</th>\n",
       "      <td>(DIRECTION, RELATION)</td>\n",
       "      <td>35</td>\n",
       "    </tr>\n",
       "    <tr>\n",
       "      <th>4</th>\n",
       "      <td>(INFERENCES, NEGATE, RELATION)</td>\n",
       "      <td>32</td>\n",
       "    </tr>\n",
       "    <tr>\n",
       "      <th>5</th>\n",
       "      <td>(INFERENCES, POSITION)</td>\n",
       "      <td>30</td>\n",
       "    </tr>\n",
       "    <tr>\n",
       "      <th>6</th>\n",
       "      <td>(BEHAVIOUR, DIRECTION, INFERENCES, MAGNITUDE, ...</td>\n",
       "      <td>21</td>\n",
       "    </tr>\n",
       "    <tr>\n",
       "      <th>7</th>\n",
       "      <td>(DISCERNIBILITY, NEGATE, RELATION)</td>\n",
       "      <td>21</td>\n",
       "    </tr>\n",
       "    <tr>\n",
       "      <th>8</th>\n",
       "      <td>(POSITION,)</td>\n",
       "      <td>21</td>\n",
       "    </tr>\n",
       "    <tr>\n",
       "      <th>9</th>\n",
       "      <td>(SPACE,)</td>\n",
       "      <td>19</td>\n",
       "    </tr>\n",
       "  </tbody>\n",
       "</table>\n",
       "</div>"
      ],
      "text/plain": [
       "                                    lemma_cat_tagged  count\n",
       "0                                 (NEGATE, RELATION)     60\n",
       "1                            (BEHAVIOUR, INFERENCES)     45\n",
       "2                   (DIRECTION, MAGNITUDE, RELATION)     41\n",
       "3                              (DIRECTION, RELATION)     35\n",
       "4                     (INFERENCES, NEGATE, RELATION)     32\n",
       "5                             (INFERENCES, POSITION)     30\n",
       "6  (BEHAVIOUR, DIRECTION, INFERENCES, MAGNITUDE, ...     21\n",
       "7                 (DISCERNIBILITY, NEGATE, RELATION)     21\n",
       "8                                        (POSITION,)     21\n",
       "9                                           (SPACE,)     19"
      ]
     },
     "execution_count": 11,
     "metadata": {},
     "output_type": "execute_result"
    }
   ],
   "source": [
    "g"
   ]
  },
  {
   "cell_type": "code",
   "execution_count": 12,
   "metadata": {},
   "outputs": [
    {
     "data": {
      "text/html": [
       "\n",
       "<div id=\"altair-viz-6918a87123ed4ed0a5f6b02ac2713e45\"></div>\n",
       "<script type=\"text/javascript\">\n",
       "  (function(spec, embedOpt){\n",
       "    let outputDiv = document.currentScript.previousElementSibling;\n",
       "    if (outputDiv.id !== \"altair-viz-6918a87123ed4ed0a5f6b02ac2713e45\") {\n",
       "      outputDiv = document.getElementById(\"altair-viz-6918a87123ed4ed0a5f6b02ac2713e45\");\n",
       "    }\n",
       "    const paths = {\n",
       "      \"vega\": \"https://cdn.jsdelivr.net/npm//vega@5?noext\",\n",
       "      \"vega-lib\": \"https://cdn.jsdelivr.net/npm//vega-lib?noext\",\n",
       "      \"vega-lite\": \"https://cdn.jsdelivr.net/npm//vega-lite@4.8.1?noext\",\n",
       "      \"vega-embed\": \"https://cdn.jsdelivr.net/npm//vega-embed@6?noext\",\n",
       "    };\n",
       "\n",
       "    function loadScript(lib) {\n",
       "      return new Promise(function(resolve, reject) {\n",
       "        var s = document.createElement('script');\n",
       "        s.src = paths[lib];\n",
       "        s.async = true;\n",
       "        s.onload = () => resolve(paths[lib]);\n",
       "        s.onerror = () => reject(`Error loading script: ${paths[lib]}`);\n",
       "        document.getElementsByTagName(\"head\")[0].appendChild(s);\n",
       "      });\n",
       "    }\n",
       "\n",
       "    function showError(err) {\n",
       "      outputDiv.innerHTML = `<div class=\"error\" style=\"color:red;\">${err}</div>`;\n",
       "      throw err;\n",
       "    }\n",
       "\n",
       "    function displayChart(vegaEmbed) {\n",
       "      vegaEmbed(outputDiv, spec, embedOpt)\n",
       "        .catch(err => showError(`Javascript Error: ${err.message}<br>This usually means there's a typo in your chart specification. See the javascript console for the full traceback.`));\n",
       "    }\n",
       "\n",
       "    if(typeof define === \"function\" && define.amd) {\n",
       "      requirejs.config({paths});\n",
       "      require([\"vega-embed\"], displayChart, err => showError(`Error loading script: ${err.message}`));\n",
       "    } else if (typeof vegaEmbed === \"function\") {\n",
       "      displayChart(vegaEmbed);\n",
       "    } else {\n",
       "      loadScript(\"vega\")\n",
       "        .then(() => loadScript(\"vega-lite\"))\n",
       "        .then(() => loadScript(\"vega-embed\"))\n",
       "        .catch(showError)\n",
       "        .then(() => displayChart(vegaEmbed));\n",
       "    }\n",
       "  })({\"config\": {\"view\": {\"continuousWidth\": 400, \"continuousHeight\": 300}, \"axisLeft\": {\"labelLimit\": 1000}}, \"data\": {\"name\": \"data-e834aa83175f81590b213afaf4818d56\"}, \"mark\": \"bar\", \"encoding\": {\"x\": {\"type\": \"quantitative\", \"field\": \"count\", \"title\": \"Number of answers\"}, \"y\": {\"type\": \"nominal\", \"axis\": {\"grid\": true, \"titlePadding\": 40}, \"field\": \"lemma_cat_tagged\", \"scale\": {\"padding\": 0.5}, \"sort\": {\"field\": \"count\", \"op\": \"count\", \"order\": \"ascending\"}, \"title\": \"\"}}, \"height\": 250, \"width\": 150, \"$schema\": \"https://vega.github.io/schema/vega-lite/v4.8.1.json\", \"datasets\": {\"data-e834aa83175f81590b213afaf4818d56\": [{\"lemma_cat_tagged\": [\"NEGATE\", \"RELATION\"], \"count\": 60}, {\"lemma_cat_tagged\": [\"BEHAVIOUR\", \"INFERENCES\"], \"count\": 45}, {\"lemma_cat_tagged\": [\"DIRECTION\", \"MAGNITUDE\", \"RELATION\"], \"count\": 41}, {\"lemma_cat_tagged\": [\"DIRECTION\", \"RELATION\"], \"count\": 35}, {\"lemma_cat_tagged\": [\"INFERENCES\", \"NEGATE\", \"RELATION\"], \"count\": 32}, {\"lemma_cat_tagged\": [\"INFERENCES\", \"POSITION\"], \"count\": 30}, {\"lemma_cat_tagged\": [\"BEHAVIOUR\", \"DIRECTION\", \"INFERENCES\", \"MAGNITUDE\", \"RELATION\"], \"count\": 21}, {\"lemma_cat_tagged\": [\"DISCERNIBILITY\", \"NEGATE\", \"RELATION\"], \"count\": 21}, {\"lemma_cat_tagged\": [\"POSITION\"], \"count\": 21}, {\"lemma_cat_tagged\": [\"SPACE\"], \"count\": 19}]}}, {\"mode\": \"vega-lite\"});\n",
       "</script>"
      ],
      "text/plain": [
       "alt.Chart(...)"
      ]
     },
     "execution_count": 12,
     "metadata": {},
     "output_type": "execute_result"
    }
   ],
   "source": [
    "alt.Chart(g).mark_bar().encode(\n",
    "    x=alt.X('count:Q',title='Number of answers'),\n",
    "     y=alt.Y('lemma_cat_tagged:N', scale=alt.Scale(padding=.5),axis=alt.Axis(grid=True,titlePadding=40),title='',sort=alt.EncodingSortField(\n",
    "            field=\"count\",  # The field to use for the sort\n",
    "            op=\"count\",  # The operation to run on the field prior to sorting\n",
    "            order=\"ascending\"  # The order to sort in\n",
    "        ))).properties(width=150,height=250).configure_axisLeft(labelLimit=1000)"
   ]
  },
  {
   "cell_type": "code",
   "execution_count": 13,
   "metadata": {},
   "outputs": [
    {
     "data": {
      "text/html": [
       "\n",
       "<div id=\"altair-viz-7d5b4175f0054b138905f1c1846d7f2c\"></div>\n",
       "<script type=\"text/javascript\">\n",
       "  (function(spec, embedOpt){\n",
       "    let outputDiv = document.currentScript.previousElementSibling;\n",
       "    if (outputDiv.id !== \"altair-viz-7d5b4175f0054b138905f1c1846d7f2c\") {\n",
       "      outputDiv = document.getElementById(\"altair-viz-7d5b4175f0054b138905f1c1846d7f2c\");\n",
       "    }\n",
       "    const paths = {\n",
       "      \"vega\": \"https://cdn.jsdelivr.net/npm//vega@5?noext\",\n",
       "      \"vega-lib\": \"https://cdn.jsdelivr.net/npm//vega-lib?noext\",\n",
       "      \"vega-lite\": \"https://cdn.jsdelivr.net/npm//vega-lite@4.8.1?noext\",\n",
       "      \"vega-embed\": \"https://cdn.jsdelivr.net/npm//vega-embed@6?noext\",\n",
       "    };\n",
       "\n",
       "    function loadScript(lib) {\n",
       "      return new Promise(function(resolve, reject) {\n",
       "        var s = document.createElement('script');\n",
       "        s.src = paths[lib];\n",
       "        s.async = true;\n",
       "        s.onload = () => resolve(paths[lib]);\n",
       "        s.onerror = () => reject(`Error loading script: ${paths[lib]}`);\n",
       "        document.getElementsByTagName(\"head\")[0].appendChild(s);\n",
       "      });\n",
       "    }\n",
       "\n",
       "    function showError(err) {\n",
       "      outputDiv.innerHTML = `<div class=\"error\" style=\"color:red;\">${err}</div>`;\n",
       "      throw err;\n",
       "    }\n",
       "\n",
       "    function displayChart(vegaEmbed) {\n",
       "      vegaEmbed(outputDiv, spec, embedOpt)\n",
       "        .catch(err => showError(`Javascript Error: ${err.message}<br>This usually means there's a typo in your chart specification. See the javascript console for the full traceback.`));\n",
       "    }\n",
       "\n",
       "    if(typeof define === \"function\" && define.amd) {\n",
       "      requirejs.config({paths});\n",
       "      require([\"vega-embed\"], displayChart, err => showError(`Error loading script: ${err.message}`));\n",
       "    } else if (typeof vegaEmbed === \"function\") {\n",
       "      displayChart(vegaEmbed);\n",
       "    } else {\n",
       "      loadScript(\"vega\")\n",
       "        .then(() => loadScript(\"vega-lite\"))\n",
       "        .then(() => loadScript(\"vega-embed\"))\n",
       "        .catch(showError)\n",
       "        .then(() => displayChart(vegaEmbed));\n",
       "    }\n",
       "  })({\"config\": {\"view\": {\"continuousWidth\": 400, \"continuousHeight\": 300}}, \"vconcat\": [{\"data\": {\"name\": \"data-908eb2a740cf9d6dbcfe419ce02da1de\"}, \"facet\": {\"column\": {\"type\": \"quantitative\", \"field\": \"num_cat\", \"title\": \"\"}}, \"spec\": {\"mark\": \"bar\", \"encoding\": {\"x\": {\"type\": \"ordinal\", \"field\": \"corr\", \"title\": \"\"}, \"y\": {\"type\": \"quantitative\", \"axis\": {\"tickCount\": 5}, \"field\": \"value\", \"scale\": {\"domain\": [0, 60]}, \"title\": \"Number of answers\"}}, \"height\": 100, \"width\": 100}}, {\"data\": {\"name\": \"data-be987e0bd3446648c6b9a7df7c873930\"}, \"facet\": {\"column\": {\"type\": \"quantitative\", \"field\": \"num_cat\", \"title\": \"\"}}, \"spec\": {\"mark\": \"bar\", \"encoding\": {\"x\": {\"type\": \"ordinal\", \"field\": \"corr\", \"title\": \"\"}, \"y\": {\"type\": \"quantitative\", \"axis\": {\"tickCount\": 5}, \"field\": \"value\", \"scale\": {\"domain\": [0, 60]}, \"title\": \"Number of answers\"}}, \"height\": 100, \"width\": 100}}, {\"data\": {\"name\": \"data-84ce2b7470838af8f0555e9835bc6bd8\"}, \"facet\": {\"column\": {\"type\": \"quantitative\", \"field\": \"num_cat\", \"title\": \"\"}}, \"spec\": {\"mark\": \"bar\", \"encoding\": {\"x\": {\"type\": \"ordinal\", \"field\": \"corr\", \"title\": \"\"}, \"y\": {\"type\": \"quantitative\", \"axis\": {\"tickCount\": 5}, \"field\": \"value\", \"scale\": {\"domain\": [0, 60]}, \"title\": \"Number of answers\"}}, \"height\": 100, \"width\": 100}}], \"$schema\": \"https://vega.github.io/schema/vega-lite/v4.8.1.json\", \"datasets\": {\"data-908eb2a740cf9d6dbcfe419ce02da1de\": [{\"index\": 1, \"num_cat\": 1, \"corr\": 0.0, \"value\": 16}, {\"index\": 2, \"num_cat\": 1, \"corr\": -0.2, \"value\": 16}, {\"index\": 3, \"num_cat\": 1, \"corr\": 0.2, \"value\": 12}, {\"index\": 4, \"num_cat\": 1, \"corr\": -0.4, \"value\": 10}, {\"index\": 5, \"num_cat\": 1, \"corr\": 0.4, \"value\": 16}, {\"index\": 6, \"num_cat\": 1, \"corr\": -0.6, \"value\": 10}, {\"index\": 7, \"num_cat\": 1, \"corr\": 0.6, \"value\": 7}, {\"index\": 8, \"num_cat\": 1, \"corr\": -0.8, \"value\": 11}, {\"index\": 9, \"num_cat\": 1, \"corr\": 0.8, \"value\": 7}, {\"index\": 10, \"num_cat\": 2, \"corr\": 0.0, \"value\": 39}, {\"index\": 11, \"num_cat\": 2, \"corr\": -0.2, \"value\": 40}, {\"index\": 12, \"num_cat\": 2, \"corr\": 0.2, \"value\": 30}, {\"index\": 13, \"num_cat\": 2, \"corr\": -0.4, \"value\": 36}, {\"index\": 14, \"num_cat\": 2, \"corr\": 0.4, \"value\": 28}, {\"index\": 15, \"num_cat\": 2, \"corr\": -0.6, \"value\": 42}, {\"index\": 16, \"num_cat\": 2, \"corr\": 0.6, \"value\": 31}, {\"index\": 17, \"num_cat\": 2, \"corr\": -0.8, \"value\": 39}, {\"index\": 18, \"num_cat\": 2, \"corr\": 0.8, \"value\": 27}, {\"index\": 19, \"num_cat\": 3, \"corr\": 0.0, \"value\": 38}, {\"index\": 20, \"num_cat\": 3, \"corr\": -0.2, \"value\": 28}, {\"index\": 21, \"num_cat\": 3, \"corr\": 0.2, \"value\": 40}, {\"index\": 22, \"num_cat\": 3, \"corr\": -0.4, \"value\": 39}, {\"index\": 23, \"num_cat\": 3, \"corr\": 0.4, \"value\": 29}, {\"index\": 24, \"num_cat\": 3, \"corr\": -0.6, \"value\": 40}, {\"index\": 25, \"num_cat\": 3, \"corr\": 0.6, \"value\": 41}, {\"index\": 26, \"num_cat\": 3, \"corr\": -0.8, \"value\": 43}, {\"index\": 27, \"num_cat\": 3, \"corr\": 0.8, \"value\": 53}], \"data-be987e0bd3446648c6b9a7df7c873930\": [{\"index\": 28, \"num_cat\": 4, \"corr\": 0.0, \"value\": 27}, {\"index\": 29, \"num_cat\": 4, \"corr\": -0.2, \"value\": 32}, {\"index\": 30, \"num_cat\": 4, \"corr\": 0.2, \"value\": 31}, {\"index\": 31, \"num_cat\": 4, \"corr\": -0.4, \"value\": 29}, {\"index\": 32, \"num_cat\": 4, \"corr\": 0.4, \"value\": 28}, {\"index\": 33, \"num_cat\": 4, \"corr\": -0.6, \"value\": 26}, {\"index\": 34, \"num_cat\": 4, \"corr\": 0.6, \"value\": 38}, {\"index\": 35, \"num_cat\": 4, \"corr\": -0.8, \"value\": 33}, {\"index\": 36, \"num_cat\": 4, \"corr\": 0.8, \"value\": 26}, {\"index\": 37, \"num_cat\": 5, \"corr\": 0.0, \"value\": 19}, {\"index\": 38, \"num_cat\": 5, \"corr\": -0.2, \"value\": 24}, {\"index\": 39, \"num_cat\": 5, \"corr\": 0.2, \"value\": 28}, {\"index\": 40, \"num_cat\": 5, \"corr\": -0.4, \"value\": 26}, {\"index\": 41, \"num_cat\": 5, \"corr\": 0.4, \"value\": 33}, {\"index\": 42, \"num_cat\": 5, \"corr\": -0.6, \"value\": 19}, {\"index\": 43, \"num_cat\": 5, \"corr\": 0.6, \"value\": 19}, {\"index\": 44, \"num_cat\": 5, \"corr\": -0.8, \"value\": 17}, {\"index\": 45, \"num_cat\": 5, \"corr\": 0.8, \"value\": 20}, {\"index\": 46, \"num_cat\": 6, \"corr\": 0.0, \"value\": 12}, {\"index\": 47, \"num_cat\": 6, \"corr\": -0.2, \"value\": 13}, {\"index\": 48, \"num_cat\": 6, \"corr\": 0.2, \"value\": 11}, {\"index\": 49, \"num_cat\": 6, \"corr\": -0.4, \"value\": 13}, {\"index\": 50, \"num_cat\": 6, \"corr\": 0.4, \"value\": 16}, {\"index\": 51, \"num_cat\": 6, \"corr\": -0.6, \"value\": 14}, {\"index\": 52, \"num_cat\": 6, \"corr\": 0.6, \"value\": 15}, {\"index\": 53, \"num_cat\": 6, \"corr\": -0.8, \"value\": 9}, {\"index\": 54, \"num_cat\": 6, \"corr\": 0.8, \"value\": 6}], \"data-84ce2b7470838af8f0555e9835bc6bd8\": [{\"index\": 55, \"num_cat\": 7, \"corr\": 0.0, \"value\": 6}, {\"index\": 56, \"num_cat\": 7, \"corr\": -0.2, \"value\": 5}, {\"index\": 57, \"num_cat\": 7, \"corr\": 0.2, \"value\": 5}, {\"index\": 58, \"num_cat\": 7, \"corr\": -0.4, \"value\": 4}, {\"index\": 59, \"num_cat\": 7, \"corr\": 0.4, \"value\": 7}, {\"index\": 60, \"num_cat\": 7, \"corr\": -0.6, \"value\": 7}, {\"index\": 61, \"num_cat\": 7, \"corr\": 0.6, \"value\": 4}, {\"index\": 62, \"num_cat\": 7, \"corr\": -0.8, \"value\": 4}, {\"index\": 63, \"num_cat\": 7, \"corr\": 0.8, \"value\": 7}, {\"index\": 64, \"num_cat\": 8, \"corr\": 0.0, \"value\": 3}, {\"index\": 65, \"num_cat\": 8, \"corr\": -0.2, \"value\": 2}, {\"index\": 66, \"num_cat\": 8, \"corr\": 0.2, \"value\": 1}, {\"index\": 67, \"num_cat\": 8, \"corr\": -0.4, \"value\": 1}, {\"index\": 68, \"num_cat\": 8, \"corr\": -0.6, \"value\": 1}, {\"index\": 69, \"num_cat\": 8, \"corr\": 0.6, \"value\": 2}, {\"index\": 70, \"num_cat\": 8, \"corr\": -0.8, \"value\": 2}, {\"index\": 71, \"num_cat\": 8, \"corr\": 0.8, \"value\": 2}, {\"index\": 72, \"num_cat\": 9, \"corr\": 0.2, \"value\": 1}, {\"index\": 73, \"num_cat\": 9, \"corr\": 0.4, \"value\": 1}, {\"index\": 74, \"num_cat\": 9, \"corr\": -0.8, \"value\": 1}]}}, {\"mode\": \"vega-lite\"});\n",
       "</script>"
      ],
      "text/plain": [
       "alt.VConcatChart(...)"
      ]
     },
     "execution_count": 13,
     "metadata": {},
     "output_type": "execute_result"
    }
   ],
   "source": [
    "cooc_count = []\n",
    "for i in range(1,10):\n",
    "    mask = data[data['lemma_cat_tagged'].notnull()]['lemma_cat_tagged'].apply(len) == i\n",
    "    df_cooc = data[data['lemma_cat_tagged'].notnull()].loc[mask].groupby(\"Question\")\n",
    "    for name,group in df_cooc:\n",
    "        #print(aname,len(group))\n",
    "        cooc_count.append((i,floatQ[name],len(group)))\n",
    "dfcooc = pd.DataFrame(cooc_count).reset_index().rename(columns={0: \"num_cat\",1: \"corr\",2: \"value\"}).apply(lambda x: x+1 if x.name == \"index\" else x)\n",
    "cooc3 = alt.Chart(dfcooc[dfcooc['num_cat'] <= 3]).mark_bar().encode(\n",
    "    x=alt.X('corr:O',title=''),\n",
    "    y=alt.Y('value:Q',scale=alt.Scale(domain=(0, 60)),axis=alt.Axis(tickCount=5),title=\"Number of answers\")).properties(width=100,height=100).facet(column=alt.Column('num_cat',title=''))\n",
    "cooc6 = alt.Chart(dfcooc[dfcooc['num_cat'].isin([4,5,6])]).mark_bar().encode(\n",
    "    x=alt.X('corr:O',title=''),\n",
    "    y=alt.Y('value:Q',scale=alt.Scale(domain=(0, 60)),axis=alt.Axis(tickCount=5),title=\"Number of answers\")).properties(width=100,height=100).facet(column=alt.Column('num_cat',title=''))\n",
    "cooc9 = alt.Chart(dfcooc[dfcooc['num_cat'].isin([7,8,9])]).mark_bar().encode(\n",
    "    x=alt.X('corr:O',title=''),\n",
    "    y=alt.Y('value:Q',scale=alt.Scale(domain=(0, 60)),axis=alt.Axis(tickCount=5),title=\"Number of answers\")).properties(width=100,height=100).facet(column=alt.Column('num_cat',title=''))\n",
    "cooc3 & cooc6 & cooc9\n",
    "#mask = data[data['lemma_cat_tagged'].notnull()]['lemma_cat_tagged'].apply(len) == 8\n",
    "#cdata = data[data['lemma_cat_tagged'].notnull()].loc[mask]\n",
    "#cdata['Answer'].tolist()"
   ]
  },
  {
   "cell_type": "markdown",
   "metadata": {},
   "source": [
    "Block to group data only by concepts and negative statements"
   ]
  },
  {
   "cell_type": "code",
   "execution_count": 14,
   "metadata": {},
   "outputs": [
    {
     "data": {
      "text/html": [
       "<div>\n",
       "<style scoped>\n",
       "    .dataframe tbody tr th:only-of-type {\n",
       "        vertical-align: middle;\n",
       "    }\n",
       "\n",
       "    .dataframe tbody tr th {\n",
       "        vertical-align: top;\n",
       "    }\n",
       "\n",
       "    .dataframe thead th {\n",
       "        text-align: right;\n",
       "    }\n",
       "</style>\n",
       "<table border=\"1\" class=\"dataframe\">\n",
       "  <thead>\n",
       "    <tr style=\"text-align: right;\">\n",
       "      <th></th>\n",
       "      <th>Question</th>\n",
       "      <th>Concept</th>\n",
       "      <th>Negate</th>\n",
       "      <th>Count</th>\n",
       "      <th>Correlation</th>\n",
       "    </tr>\n",
       "  </thead>\n",
       "  <tbody>\n",
       "    <tr>\n",
       "      <th>0</th>\n",
       "      <td>C0</td>\n",
       "      <td>BEHAVIOUR</td>\n",
       "      <td>False</td>\n",
       "      <td>8</td>\n",
       "      <td>0.0</td>\n",
       "    </tr>\n",
       "    <tr>\n",
       "      <th>1</th>\n",
       "      <td>C0</td>\n",
       "      <td>BEHAVIOUR</td>\n",
       "      <td>True</td>\n",
       "      <td>9</td>\n",
       "      <td>0.0</td>\n",
       "    </tr>\n",
       "    <tr>\n",
       "      <th>2</th>\n",
       "      <td>C0</td>\n",
       "      <td>GRAPHIC</td>\n",
       "      <td>False</td>\n",
       "      <td>23</td>\n",
       "      <td>0.0</td>\n",
       "    </tr>\n",
       "    <tr>\n",
       "      <th>3</th>\n",
       "      <td>C0</td>\n",
       "      <td>GRAPHIC</td>\n",
       "      <td>True</td>\n",
       "      <td>14</td>\n",
       "      <td>0.0</td>\n",
       "    </tr>\n",
       "    <tr>\n",
       "      <th>4</th>\n",
       "      <td>C0</td>\n",
       "      <td>INFERENCES</td>\n",
       "      <td>False</td>\n",
       "      <td>46</td>\n",
       "      <td>0.0</td>\n",
       "    </tr>\n",
       "    <tr>\n",
       "      <th>...</th>\n",
       "      <td>...</td>\n",
       "      <td>...</td>\n",
       "      <td>...</td>\n",
       "      <td>...</td>\n",
       "      <td>...</td>\n",
       "    </tr>\n",
       "    <tr>\n",
       "      <th>85</th>\n",
       "      <td>C8P</td>\n",
       "      <td>INFERENCES</td>\n",
       "      <td>True</td>\n",
       "      <td>2</td>\n",
       "      <td>0.8</td>\n",
       "    </tr>\n",
       "    <tr>\n",
       "      <th>86</th>\n",
       "      <td>C8P</td>\n",
       "      <td>RELATION</td>\n",
       "      <td>False</td>\n",
       "      <td>88</td>\n",
       "      <td>0.8</td>\n",
       "    </tr>\n",
       "    <tr>\n",
       "      <th>87</th>\n",
       "      <td>C8P</td>\n",
       "      <td>RELATION</td>\n",
       "      <td>True</td>\n",
       "      <td>1</td>\n",
       "      <td>0.8</td>\n",
       "    </tr>\n",
       "    <tr>\n",
       "      <th>88</th>\n",
       "      <td>C8P</td>\n",
       "      <td>SPACE</td>\n",
       "      <td>False</td>\n",
       "      <td>34</td>\n",
       "      <td>0.8</td>\n",
       "    </tr>\n",
       "    <tr>\n",
       "      <th>89</th>\n",
       "      <td>C8P</td>\n",
       "      <td>SPACE</td>\n",
       "      <td>True</td>\n",
       "      <td>1</td>\n",
       "      <td>0.8</td>\n",
       "    </tr>\n",
       "  </tbody>\n",
       "</table>\n",
       "<p>90 rows × 5 columns</p>\n",
       "</div>"
      ],
      "text/plain": [
       "   Question     Concept  Negate  Count  Correlation\n",
       "0        C0   BEHAVIOUR   False      8          0.0\n",
       "1        C0   BEHAVIOUR    True      9          0.0\n",
       "2        C0     GRAPHIC   False     23          0.0\n",
       "3        C0     GRAPHIC    True     14          0.0\n",
       "4        C0  INFERENCES   False     46          0.0\n",
       "..      ...         ...     ...    ...          ...\n",
       "85      C8P  INFERENCES    True      2          0.8\n",
       "86      C8P    RELATION   False     88          0.8\n",
       "87      C8P    RELATION    True      1          0.8\n",
       "88      C8P       SPACE   False     34          0.8\n",
       "89      C8P       SPACE    True      1          0.8\n",
       "\n",
       "[90 rows x 5 columns]"
      ]
     },
     "execution_count": 14,
     "metadata": {},
     "output_type": "execute_result"
    }
   ],
   "source": [
    "#Code to tag negative statements in a Negate column with True or False instead of a trait/concept\n",
    "cdata = data[data['lemma_cat_tagged'].notnull()][['ResponseId','Question','lemma_cat_tagged']]\n",
    "\n",
    "cdata['concepts'] = cdata['lemma_cat_tagged'].apply(lambda x: [c for c in x if c in concepts])#pd.Series).stack()\n",
    "#cdata['traits'] = cdata['lemma_cat_tagged'].apply(lambda x: [t for t in x if t in traits])\n",
    "cdata['special'] = cdata['lemma_cat_tagged'].apply(lambda x: True if len([s for s in x if s in special]) > 0 else False)\n",
    "cs = cdata['concepts'].apply(pd.Series).reset_index().melt(id_vars='index').dropna()[['index', 'value']].set_index('index')\n",
    "#ts = cdata['traits'].apply(pd.Series).reset_index().melt(id_vars='index').dropna()[['index', 'value']].set_index('index')\n",
    "sp = cdata['special'].apply(pd.Series).reset_index().melt(id_vars='index').dropna()[['index', 'value']].set_index('index')\n",
    "df2 = pd.merge(pd.merge(cs,sp,left_index=True,right_index=True),cdata[['ResponseId','Question']],\n",
    "             left_index=True,right_index=True).rename(columns={'value_x': 'Concept', 'value_y': 'Negate'})\n",
    "\n",
    "conly = df2.groupby(['Question','Concept','Negate'],as_index=False).count()\n",
    "conly.rename(columns={'ResponseId':'Count'}, inplace=True)\n",
    "conly['Correlation'] = conly['Question'].apply(lambda x: floatQ[x])\n",
    "conly\n",
    "#cbyt.to_csv('c_by_t.csv')\n"
   ]
  },
  {
   "cell_type": "code",
   "execution_count": 15,
   "metadata": {},
   "outputs": [
    {
     "data": {
      "text/html": [
       "<div>\n",
       "<style scoped>\n",
       "    .dataframe tbody tr th:only-of-type {\n",
       "        vertical-align: middle;\n",
       "    }\n",
       "\n",
       "    .dataframe tbody tr th {\n",
       "        vertical-align: top;\n",
       "    }\n",
       "\n",
       "    .dataframe thead th {\n",
       "        text-align: right;\n",
       "    }\n",
       "</style>\n",
       "<table border=\"1\" class=\"dataframe\">\n",
       "  <thead>\n",
       "    <tr style=\"text-align: right;\">\n",
       "      <th></th>\n",
       "      <th>Question</th>\n",
       "      <th>Trait</th>\n",
       "      <th>Negate</th>\n",
       "      <th>Count</th>\n",
       "      <th>Correlation</th>\n",
       "    </tr>\n",
       "  </thead>\n",
       "  <tbody>\n",
       "    <tr>\n",
       "      <th>0</th>\n",
       "      <td>C0</td>\n",
       "      <td>DIRECTION</td>\n",
       "      <td>False</td>\n",
       "      <td>4</td>\n",
       "      <td>0.0</td>\n",
       "    </tr>\n",
       "    <tr>\n",
       "      <th>1</th>\n",
       "      <td>C0</td>\n",
       "      <td>DIRECTION</td>\n",
       "      <td>True</td>\n",
       "      <td>1</td>\n",
       "      <td>0.0</td>\n",
       "    </tr>\n",
       "    <tr>\n",
       "      <th>2</th>\n",
       "      <td>C0</td>\n",
       "      <td>DISCERNIBILITY</td>\n",
       "      <td>False</td>\n",
       "      <td>9</td>\n",
       "      <td>0.0</td>\n",
       "    </tr>\n",
       "    <tr>\n",
       "      <th>3</th>\n",
       "      <td>C0</td>\n",
       "      <td>DISCERNIBILITY</td>\n",
       "      <td>True</td>\n",
       "      <td>22</td>\n",
       "      <td>0.0</td>\n",
       "    </tr>\n",
       "    <tr>\n",
       "      <th>4</th>\n",
       "      <td>C0</td>\n",
       "      <td>MAGNITUDE</td>\n",
       "      <td>False</td>\n",
       "      <td>41</td>\n",
       "      <td>0.0</td>\n",
       "    </tr>\n",
       "  </tbody>\n",
       "</table>\n",
       "</div>"
      ],
      "text/plain": [
       "  Question           Trait  Negate  Count  Correlation\n",
       "0       C0       DIRECTION   False      4          0.0\n",
       "1       C0       DIRECTION    True      1          0.0\n",
       "2       C0  DISCERNIBILITY   False      9          0.0\n",
       "3       C0  DISCERNIBILITY    True     22          0.0\n",
       "4       C0       MAGNITUDE   False     41          0.0"
      ]
     },
     "execution_count": 15,
     "metadata": {},
     "output_type": "execute_result"
    }
   ],
   "source": [
    "#Code to tag negative statements in a Negate column with True or False instead of a trait/concept\n",
    "cdata = data[data['lemma_cat_tagged'].notnull()][['ResponseId','Question','lemma_cat_tagged']]\n",
    "\n",
    "#cdata['concepts'] = cdata['lemma_cat_tagged'].apply(lambda x: [c for c in x if c in concepts])#pd.Series).stack()\n",
    "cdata['traits'] = cdata['lemma_cat_tagged'].apply(lambda x: [t for t in x if t in traits])\n",
    "cdata['special'] = cdata['lemma_cat_tagged'].apply(lambda x: True if len([s for s in x if s in special]) > 0 else False)\n",
    "#cs = cdata['concepts'].apply(pd.Series).reset_index().melt(id_vars='index').dropna()[['index', 'value']].set_index('index')\n",
    "ts = cdata['traits'].apply(pd.Series).reset_index().melt(id_vars='index').dropna()[['index', 'value']].set_index('index')\n",
    "sp = cdata['special'].apply(pd.Series).reset_index().melt(id_vars='index').dropna()[['index', 'value']].set_index('index')\n",
    "df2 = pd.merge(pd.merge(ts,sp,left_index=True,right_index=True),cdata[['ResponseId','Question']],\n",
    "             left_index=True,right_index=True).rename(columns={'value_x': 'Trait', 'value_y': 'Negate'})\n",
    "\n",
    "tonly = df2.groupby(['Question','Trait','Negate'],as_index=False).count()\n",
    "tonly.rename(columns={'ResponseId':'Count'}, inplace=True)\n",
    "tonly['Correlation'] = tonly['Question'].apply(lambda x: floatQ[x])\n",
    "tonly[:5]\n",
    "#cbyt.to_csv('c_by_t.csv')\n"
   ]
  },
  {
   "cell_type": "markdown",
   "metadata": {},
   "source": [
    "### Visual summaries"
   ]
  },
  {
   "cell_type": "markdown",
   "metadata": {},
   "source": [
    "Overall concepts by levels of correlation"
   ]
  },
  {
   "cell_type": "code",
   "execution_count": 125,
   "metadata": {},
   "outputs": [
    {
     "data": {
      "text/html": [
       "\n",
       "<div id=\"altair-viz-11b4227fd06e46d68bc06f6bc5bef3f7\"></div>\n",
       "<script type=\"text/javascript\">\n",
       "  (function(spec, embedOpt){\n",
       "    let outputDiv = document.currentScript.previousElementSibling;\n",
       "    if (outputDiv.id !== \"altair-viz-11b4227fd06e46d68bc06f6bc5bef3f7\") {\n",
       "      outputDiv = document.getElementById(\"altair-viz-11b4227fd06e46d68bc06f6bc5bef3f7\");\n",
       "    }\n",
       "    const paths = {\n",
       "      \"vega\": \"https://cdn.jsdelivr.net/npm//vega@5?noext\",\n",
       "      \"vega-lib\": \"https://cdn.jsdelivr.net/npm//vega-lib?noext\",\n",
       "      \"vega-lite\": \"https://cdn.jsdelivr.net/npm//vega-lite@4.8.1?noext\",\n",
       "      \"vega-embed\": \"https://cdn.jsdelivr.net/npm//vega-embed@6?noext\",\n",
       "    };\n",
       "\n",
       "    function loadScript(lib) {\n",
       "      return new Promise(function(resolve, reject) {\n",
       "        var s = document.createElement('script');\n",
       "        s.src = paths[lib];\n",
       "        s.async = true;\n",
       "        s.onload = () => resolve(paths[lib]);\n",
       "        s.onerror = () => reject(`Error loading script: ${paths[lib]}`);\n",
       "        document.getElementsByTagName(\"head\")[0].appendChild(s);\n",
       "      });\n",
       "    }\n",
       "\n",
       "    function showError(err) {\n",
       "      outputDiv.innerHTML = `<div class=\"error\" style=\"color:red;\">${err}</div>`;\n",
       "      throw err;\n",
       "    }\n",
       "\n",
       "    function displayChart(vegaEmbed) {\n",
       "      vegaEmbed(outputDiv, spec, embedOpt)\n",
       "        .catch(err => showError(`Javascript Error: ${err.message}<br>This usually means there's a typo in your chart specification. See the javascript console for the full traceback.`));\n",
       "    }\n",
       "\n",
       "    if(typeof define === \"function\" && define.amd) {\n",
       "      requirejs.config({paths});\n",
       "      require([\"vega-embed\"], displayChart, err => showError(`Error loading script: ${err.message}`));\n",
       "    } else if (typeof vegaEmbed === \"function\") {\n",
       "      displayChart(vegaEmbed);\n",
       "    } else {\n",
       "      loadScript(\"vega\")\n",
       "        .then(() => loadScript(\"vega-lite\"))\n",
       "        .then(() => loadScript(\"vega-embed\"))\n",
       "        .catch(showError)\n",
       "        .then(() => displayChart(vegaEmbed));\n",
       "    }\n",
       "  })({\"config\": {\"mark\": {\"color\": \"#000050\"}, \"title\": {\"font\": \"Avenir\", \"anchor\": \"end\"}, \"axis\": {\"labelFont\": \"Avenir\", \"titleFont\": \"Avenir\"}, \"header\": {\"labelFont\": \"Avenir\", \"labelFontSize\": 12, \"titleFont\": \"Avenir\"}, \"legend\": {\"labelFont\": \"Avenir\", \"titleFont\": \"Avenir\"}}, \"data\": {\"name\": \"data-9e894c0e57b43fdfc32d9dbf36924eb1\"}, \"facet\": {\"row\": {\"type\": \"nominal\", \"field\": \"Concept\", \"title\": null}}, \"spec\": {\"mark\": \"bar\", \"encoding\": {\"color\": {\"type\": \"nominal\", \"field\": \"Negate\", \"legend\": null, \"scale\": {\"domain\": [\"false\", \"true\"], \"range\": [\"#000050\", \"#eeaa00\"]}}, \"x\": {\"type\": \"ordinal\", \"axis\": {\"title\": null}, \"field\": \"Correlation\"}, \"y\": {\"type\": \"quantitative\", \"aggregate\": \"sum\", \"axis\": {\"tickCount\": 5, \"title\": null}, \"field\": \"Count\", \"scale\": {\"domain\": [0, 120]}}}, \"height\": 80, \"width\": 100}, \"resolve\": {\"axis\": {\"x\": \"independent\"}}, \"spacing\": 5, \"$schema\": \"https://vega.github.io/schema/vega-lite/v4.8.1.json\", \"datasets\": {\"data-9e894c0e57b43fdfc32d9dbf36924eb1\": [{\"Question\": \"C0\", \"Concept\": \"BEHAVIOUR\", \"Negate\": false, \"Count\": 8, \"Correlation\": 0.0}, {\"Question\": \"C0\", \"Concept\": \"BEHAVIOUR\", \"Negate\": true, \"Count\": 9, \"Correlation\": 0.0}, {\"Question\": \"C0\", \"Concept\": \"GRAPHIC\", \"Negate\": false, \"Count\": 23, \"Correlation\": 0.0}, {\"Question\": \"C0\", \"Concept\": \"GRAPHIC\", \"Negate\": true, \"Count\": 14, \"Correlation\": 0.0}, {\"Question\": \"C0\", \"Concept\": \"INFERENCES\", \"Negate\": false, \"Count\": 46, \"Correlation\": 0.0}, {\"Question\": \"C0\", \"Concept\": \"INFERENCES\", \"Negate\": true, \"Count\": 41, \"Correlation\": 0.0}, {\"Question\": \"C0\", \"Concept\": \"RELATION\", \"Negate\": false, \"Count\": 37, \"Correlation\": 0.0}, {\"Question\": \"C0\", \"Concept\": \"RELATION\", \"Negate\": true, \"Count\": 72, \"Correlation\": 0.0}, {\"Question\": \"C0\", \"Concept\": \"SPACE\", \"Negate\": false, \"Count\": 43, \"Correlation\": 0.0}, {\"Question\": \"C0\", \"Concept\": \"SPACE\", \"Negate\": true, \"Count\": 16, \"Correlation\": 0.0}, {\"Question\": \"C2N\", \"Concept\": \"BEHAVIOUR\", \"Negate\": false, \"Count\": 15, \"Correlation\": -0.2}, {\"Question\": \"C2N\", \"Concept\": \"BEHAVIOUR\", \"Negate\": true, \"Count\": 6, \"Correlation\": -0.2}, {\"Question\": \"C2N\", \"Concept\": \"GRAPHIC\", \"Negate\": false, \"Count\": 22, \"Correlation\": -0.2}, {\"Question\": \"C2N\", \"Concept\": \"GRAPHIC\", \"Negate\": true, \"Count\": 16, \"Correlation\": -0.2}, {\"Question\": \"C2N\", \"Concept\": \"INFERENCES\", \"Negate\": false, \"Count\": 49, \"Correlation\": -0.2}, {\"Question\": \"C2N\", \"Concept\": \"INFERENCES\", \"Negate\": true, \"Count\": 30, \"Correlation\": -0.2}, {\"Question\": \"C2N\", \"Concept\": \"RELATION\", \"Negate\": false, \"Count\": 45, \"Correlation\": -0.2}, {\"Question\": \"C2N\", \"Concept\": \"RELATION\", \"Negate\": true, \"Count\": 58, \"Correlation\": -0.2}, {\"Question\": \"C2N\", \"Concept\": \"SPACE\", \"Negate\": false, \"Count\": 41, \"Correlation\": -0.2}, {\"Question\": \"C2N\", \"Concept\": \"SPACE\", \"Negate\": true, \"Count\": 15, \"Correlation\": -0.2}, {\"Question\": \"C2P\", \"Concept\": \"BEHAVIOUR\", \"Negate\": false, \"Count\": 18, \"Correlation\": 0.2}, {\"Question\": \"C2P\", \"Concept\": \"BEHAVIOUR\", \"Negate\": true, \"Count\": 8, \"Correlation\": 0.2}, {\"Question\": \"C2P\", \"Concept\": \"GRAPHIC\", \"Negate\": false, \"Count\": 33, \"Correlation\": 0.2}, {\"Question\": \"C2P\", \"Concept\": \"GRAPHIC\", \"Negate\": true, \"Count\": 8, \"Correlation\": 0.2}, {\"Question\": \"C2P\", \"Concept\": \"INFERENCES\", \"Negate\": false, \"Count\": 56, \"Correlation\": 0.2}, {\"Question\": \"C2P\", \"Concept\": \"INFERENCES\", \"Negate\": true, \"Count\": 30, \"Correlation\": 0.2}, {\"Question\": \"C2P\", \"Concept\": \"RELATION\", \"Negate\": false, \"Count\": 52, \"Correlation\": 0.2}, {\"Question\": \"C2P\", \"Concept\": \"RELATION\", \"Negate\": true, \"Count\": 52, \"Correlation\": 0.2}, {\"Question\": \"C2P\", \"Concept\": \"SPACE\", \"Negate\": false, \"Count\": 51, \"Correlation\": 0.2}, {\"Question\": \"C2P\", \"Concept\": \"SPACE\", \"Negate\": true, \"Count\": 13, \"Correlation\": 0.2}, {\"Question\": \"C4N\", \"Concept\": \"BEHAVIOUR\", \"Negate\": false, \"Count\": 23, \"Correlation\": -0.4}, {\"Question\": \"C4N\", \"Concept\": \"BEHAVIOUR\", \"Negate\": true, \"Count\": 9, \"Correlation\": -0.4}, {\"Question\": \"C4N\", \"Concept\": \"GRAPHIC\", \"Negate\": false, \"Count\": 28, \"Correlation\": -0.4}, {\"Question\": \"C4N\", \"Concept\": \"GRAPHIC\", \"Negate\": true, \"Count\": 10, \"Correlation\": -0.4}, {\"Question\": \"C4N\", \"Concept\": \"INFERENCES\", \"Negate\": false, \"Count\": 63, \"Correlation\": -0.4}, {\"Question\": \"C4N\", \"Concept\": \"INFERENCES\", \"Negate\": true, \"Count\": 25, \"Correlation\": -0.4}, {\"Question\": \"C4N\", \"Concept\": \"RELATION\", \"Negate\": false, \"Count\": 55, \"Correlation\": -0.4}, {\"Question\": \"C4N\", \"Concept\": \"RELATION\", \"Negate\": true, \"Count\": 44, \"Correlation\": -0.4}, {\"Question\": \"C4N\", \"Concept\": \"SPACE\", \"Negate\": false, \"Count\": 47, \"Correlation\": -0.4}, {\"Question\": \"C4N\", \"Concept\": \"SPACE\", \"Negate\": true, \"Count\": 10, \"Correlation\": -0.4}, {\"Question\": \"C4P\", \"Concept\": \"BEHAVIOUR\", \"Negate\": false, \"Count\": 37, \"Correlation\": 0.4}, {\"Question\": \"C4P\", \"Concept\": \"BEHAVIOUR\", \"Negate\": true, \"Count\": 3, \"Correlation\": 0.4}, {\"Question\": \"C4P\", \"Concept\": \"GRAPHIC\", \"Negate\": false, \"Count\": 22, \"Correlation\": 0.4}, {\"Question\": \"C4P\", \"Concept\": \"GRAPHIC\", \"Negate\": true, \"Count\": 10, \"Correlation\": 0.4}, {\"Question\": \"C4P\", \"Concept\": \"INFERENCES\", \"Negate\": false, \"Count\": 74, \"Correlation\": 0.4}, {\"Question\": \"C4P\", \"Concept\": \"INFERENCES\", \"Negate\": true, \"Count\": 21, \"Correlation\": 0.4}, {\"Question\": \"C4P\", \"Concept\": \"RELATION\", \"Negate\": false, \"Count\": 72, \"Correlation\": 0.4}, {\"Question\": \"C4P\", \"Concept\": \"RELATION\", \"Negate\": true, \"Count\": 24, \"Correlation\": 0.4}, {\"Question\": \"C4P\", \"Concept\": \"SPACE\", \"Negate\": false, \"Count\": 43, \"Correlation\": 0.4}, {\"Question\": \"C4P\", \"Concept\": \"SPACE\", \"Negate\": true, \"Count\": 14, \"Correlation\": 0.4}, {\"Question\": \"C6N\", \"Concept\": \"BEHAVIOUR\", \"Negate\": false, \"Count\": 56, \"Correlation\": -0.6}, {\"Question\": \"C6N\", \"Concept\": \"BEHAVIOUR\", \"Negate\": true, \"Count\": 4, \"Correlation\": -0.6}, {\"Question\": \"C6N\", \"Concept\": \"GRAPHIC\", \"Negate\": false, \"Count\": 23, \"Correlation\": -0.6}, {\"Question\": \"C6N\", \"Concept\": \"GRAPHIC\", \"Negate\": true, \"Count\": 6, \"Correlation\": -0.6}, {\"Question\": \"C6N\", \"Concept\": \"INFERENCES\", \"Negate\": false, \"Count\": 90, \"Correlation\": -0.6}, {\"Question\": \"C6N\", \"Concept\": \"INFERENCES\", \"Negate\": true, \"Count\": 11, \"Correlation\": -0.6}, {\"Question\": \"C6N\", \"Concept\": \"RELATION\", \"Negate\": false, \"Count\": 74, \"Correlation\": -0.6}, {\"Question\": \"C6N\", \"Concept\": \"RELATION\", \"Negate\": true, \"Count\": 12, \"Correlation\": -0.6}, {\"Question\": \"C6N\", \"Concept\": \"SPACE\", \"Negate\": false, \"Count\": 44, \"Correlation\": -0.6}, {\"Question\": \"C6N\", \"Concept\": \"SPACE\", \"Negate\": true, \"Count\": 6, \"Correlation\": -0.6}, {\"Question\": \"C6P\", \"Concept\": \"BEHAVIOUR\", \"Negate\": false, \"Count\": 48, \"Correlation\": 0.6}, {\"Question\": \"C6P\", \"Concept\": \"BEHAVIOUR\", \"Negate\": true, \"Count\": 3, \"Correlation\": 0.6}, {\"Question\": \"C6P\", \"Concept\": \"GRAPHIC\", \"Negate\": false, \"Count\": 25, \"Correlation\": 0.6}, {\"Question\": \"C6P\", \"Concept\": \"GRAPHIC\", \"Negate\": true, \"Count\": 6, \"Correlation\": 0.6}, {\"Question\": \"C6P\", \"Concept\": \"INFERENCES\", \"Negate\": false, \"Count\": 95, \"Correlation\": 0.6}, {\"Question\": \"C6P\", \"Concept\": \"INFERENCES\", \"Negate\": true, \"Count\": 6, \"Correlation\": 0.6}, {\"Question\": \"C6P\", \"Concept\": \"RELATION\", \"Negate\": false, \"Count\": 80, \"Correlation\": 0.6}, {\"Question\": \"C6P\", \"Concept\": \"RELATION\", \"Negate\": true, \"Count\": 12, \"Correlation\": 0.6}, {\"Question\": \"C6P\", \"Concept\": \"SPACE\", \"Negate\": false, \"Count\": 51, \"Correlation\": 0.6}, {\"Question\": \"C6P\", \"Concept\": \"SPACE\", \"Negate\": true, \"Count\": 4, \"Correlation\": 0.6}, {\"Question\": \"C8N\", \"Concept\": \"BEHAVIOUR\", \"Negate\": false, \"Count\": 63, \"Correlation\": -0.8}, {\"Question\": \"C8N\", \"Concept\": \"BEHAVIOUR\", \"Negate\": true, \"Count\": 1, \"Correlation\": -0.8}, {\"Question\": \"C8N\", \"Concept\": \"GRAPHIC\", \"Negate\": false, \"Count\": 23, \"Correlation\": -0.8}, {\"Question\": \"C8N\", \"Concept\": \"GRAPHIC\", \"Negate\": true, \"Count\": 3, \"Correlation\": -0.8}, {\"Question\": \"C8N\", \"Concept\": \"INFERENCES\", \"Negate\": false, \"Count\": 99, \"Correlation\": -0.8}, {\"Question\": \"C8N\", \"Concept\": \"INFERENCES\", \"Negate\": true, \"Count\": 3, \"Correlation\": -0.8}, {\"Question\": \"C8N\", \"Concept\": \"RELATION\", \"Negate\": false, \"Count\": 91, \"Correlation\": -0.8}, {\"Question\": \"C8N\", \"Concept\": \"RELATION\", \"Negate\": true, \"Count\": 4, \"Correlation\": -0.8}, {\"Question\": \"C8N\", \"Concept\": \"SPACE\", \"Negate\": false, \"Count\": 35, \"Correlation\": -0.8}, {\"Question\": \"C8N\", \"Concept\": \"SPACE\", \"Negate\": true, \"Count\": 2, \"Correlation\": -0.8}, {\"Question\": \"C8P\", \"Concept\": \"BEHAVIOUR\", \"Negate\": false, \"Count\": 66, \"Correlation\": 0.8}, {\"Question\": \"C8P\", \"Concept\": \"BEHAVIOUR\", \"Negate\": true, \"Count\": 2, \"Correlation\": 0.8}, {\"Question\": \"C8P\", \"Concept\": \"GRAPHIC\", \"Negate\": false, \"Count\": 32, \"Correlation\": 0.8}, {\"Question\": \"C8P\", \"Concept\": \"GRAPHIC\", \"Negate\": true, \"Count\": 1, \"Correlation\": 0.8}, {\"Question\": \"C8P\", \"Concept\": \"INFERENCES\", \"Negate\": false, \"Count\": 90, \"Correlation\": 0.8}, {\"Question\": \"C8P\", \"Concept\": \"INFERENCES\", \"Negate\": true, \"Count\": 2, \"Correlation\": 0.8}, {\"Question\": \"C8P\", \"Concept\": \"RELATION\", \"Negate\": false, \"Count\": 88, \"Correlation\": 0.8}, {\"Question\": \"C8P\", \"Concept\": \"RELATION\", \"Negate\": true, \"Count\": 1, \"Correlation\": 0.8}, {\"Question\": \"C8P\", \"Concept\": \"SPACE\", \"Negate\": false, \"Count\": 34, \"Correlation\": 0.8}, {\"Question\": \"C8P\", \"Concept\": \"SPACE\", \"Negate\": true, \"Count\": 1, \"Correlation\": 0.8}]}}, {\"mode\": \"vega-lite\"});\n",
       "</script>"
      ],
      "text/plain": [
       "alt.FacetChart(...)"
      ]
     },
     "execution_count": 125,
     "metadata": {},
     "output_type": "execute_result"
    }
   ],
   "source": [
    "c_bars = alt.Chart(conly).mark_bar().encode(\n",
    "    x=alt.X('Correlation:O',axis=alt.Axis(title=None)),\n",
    "    y=alt.Y('sum(Count):Q',scale=alt.Scale(domain=(0, 120)),axis=alt.Axis(title=None,tickCount=5)),\n",
    "    color=alt.Color('Negate',\n",
    "                   scale=alt.Scale(\n",
    "            domain=['false', 'true'],\n",
    "            range=['#000050', '#eeaa00']),legend=None)\n",
    ").properties(width=100,height=80).facet(row=alt.Row('Concept:N',title=None),spacing=5).resolve_axis(x='independent')\n",
    "c_bars"
   ]
  },
  {
   "cell_type": "code",
   "execution_count": 38,
   "metadata": {},
   "outputs": [],
   "source": [
    "conly_sum = conly.groupby(['Question','Concept','Negate','Correlation'])['Count'].sum()\n",
    "cprop = pd.DataFrame(conly_sum / conly_sum.groupby(level=1).sum()).reset_index()"
   ]
  },
  {
   "cell_type": "code",
   "execution_count": 39,
   "metadata": {},
   "outputs": [
    {
     "data": {
      "text/plain": [
       "1.0"
      ]
     },
     "execution_count": 39,
     "metadata": {},
     "output_type": "execute_result"
    }
   ],
   "source": [
    "cprop[cprop['Concept'] == 'BEHAVIOUR']['Count'].sum()"
   ]
  },
  {
   "cell_type": "code",
   "execution_count": 51,
   "metadata": {},
   "outputs": [
    {
     "data": {
      "text/html": [
       "\n",
       "<div id=\"altair-viz-26175a7710374df88138cd72d0747619\"></div>\n",
       "<script type=\"text/javascript\">\n",
       "  (function(spec, embedOpt){\n",
       "    let outputDiv = document.currentScript.previousElementSibling;\n",
       "    if (outputDiv.id !== \"altair-viz-26175a7710374df88138cd72d0747619\") {\n",
       "      outputDiv = document.getElementById(\"altair-viz-26175a7710374df88138cd72d0747619\");\n",
       "    }\n",
       "    const paths = {\n",
       "      \"vega\": \"https://cdn.jsdelivr.net/npm//vega@5?noext\",\n",
       "      \"vega-lib\": \"https://cdn.jsdelivr.net/npm//vega-lib?noext\",\n",
       "      \"vega-lite\": \"https://cdn.jsdelivr.net/npm//vega-lite@4.8.1?noext\",\n",
       "      \"vega-embed\": \"https://cdn.jsdelivr.net/npm//vega-embed@6?noext\",\n",
       "    };\n",
       "\n",
       "    function loadScript(lib) {\n",
       "      return new Promise(function(resolve, reject) {\n",
       "        var s = document.createElement('script');\n",
       "        s.src = paths[lib];\n",
       "        s.async = true;\n",
       "        s.onload = () => resolve(paths[lib]);\n",
       "        s.onerror = () => reject(`Error loading script: ${paths[lib]}`);\n",
       "        document.getElementsByTagName(\"head\")[0].appendChild(s);\n",
       "      });\n",
       "    }\n",
       "\n",
       "    function showError(err) {\n",
       "      outputDiv.innerHTML = `<div class=\"error\" style=\"color:red;\">${err}</div>`;\n",
       "      throw err;\n",
       "    }\n",
       "\n",
       "    function displayChart(vegaEmbed) {\n",
       "      vegaEmbed(outputDiv, spec, embedOpt)\n",
       "        .catch(err => showError(`Javascript Error: ${err.message}<br>This usually means there's a typo in your chart specification. See the javascript console for the full traceback.`));\n",
       "    }\n",
       "\n",
       "    if(typeof define === \"function\" && define.amd) {\n",
       "      requirejs.config({paths});\n",
       "      require([\"vega-embed\"], displayChart, err => showError(`Error loading script: ${err.message}`));\n",
       "    } else if (typeof vegaEmbed === \"function\") {\n",
       "      displayChart(vegaEmbed);\n",
       "    } else {\n",
       "      loadScript(\"vega\")\n",
       "        .then(() => loadScript(\"vega-lite\"))\n",
       "        .then(() => loadScript(\"vega-embed\"))\n",
       "        .catch(showError)\n",
       "        .then(() => displayChart(vegaEmbed));\n",
       "    }\n",
       "  })({\"config\": {\"mark\": {\"color\": \"#000050\"}, \"title\": {\"font\": \"Avenir\", \"anchor\": \"end\"}, \"axis\": {\"labelFont\": \"Avenir\", \"titleFont\": \"Avenir\"}, \"header\": {\"labelFont\": \"Avenir\", \"labelFontSize\": 12, \"titleFont\": \"Avenir\"}, \"legend\": {\"labelFont\": \"Avenir\", \"titleFont\": \"Avenir\"}}, \"data\": {\"name\": \"data-e9cc85d8881cd6b13dd70575181d8df3\"}, \"facet\": {\"row\": {\"type\": \"nominal\", \"field\": \"Concept\", \"title\": null}}, \"spec\": {\"mark\": {\"type\": \"bar\", \"tooltip\": {\"content\": \"encoding\"}}, \"encoding\": {\"color\": {\"type\": \"nominal\", \"field\": \"Negate\", \"legend\": null, \"scale\": {\"domain\": [\"false\", \"true\"], \"range\": [\"#000050\", \"#eeaa00\"]}}, \"x\": {\"type\": \"ordinal\", \"axis\": {\"title\": null}, \"field\": \"Correlation\"}, \"y\": {\"type\": \"quantitative\", \"axis\": {\"tickCount\": 5, \"title\": null}, \"field\": \"Count\", \"scale\": {\"domain\": [0, 0.3]}}}, \"height\": 80, \"width\": 100}, \"resolve\": {\"axis\": {\"x\": \"independent\"}}, \"spacing\": 5, \"$schema\": \"https://vega.github.io/schema/vega-lite/v4.8.1.json\", \"datasets\": {\"data-e9cc85d8881cd6b13dd70575181d8df3\": [{\"Question\": \"C0\", \"Concept\": \"BEHAVIOUR\", \"Negate\": false, \"Correlation\": 0.0, \"Count\": 0.021108179419525065}, {\"Question\": \"C0\", \"Concept\": \"BEHAVIOUR\", \"Negate\": true, \"Correlation\": 0.0, \"Count\": 0.023746701846965697}, {\"Question\": \"C0\", \"Concept\": \"GRAPHIC\", \"Negate\": false, \"Correlation\": 0.0, \"Count\": 0.07540983606557378}, {\"Question\": \"C0\", \"Concept\": \"GRAPHIC\", \"Negate\": true, \"Correlation\": 0.0, \"Count\": 0.04590163934426229}, {\"Question\": \"C0\", \"Concept\": \"INFERENCES\", \"Negate\": false, \"Correlation\": 0.0, \"Count\": 0.05535499398315283}, {\"Question\": \"C0\", \"Concept\": \"INFERENCES\", \"Negate\": true, \"Correlation\": 0.0, \"Count\": 0.049338146811071}, {\"Question\": \"C0\", \"Concept\": \"RELATION\", \"Negate\": false, \"Correlation\": 0.0, \"Count\": 0.042382588774341354}, {\"Question\": \"C0\", \"Concept\": \"RELATION\", \"Negate\": true, \"Correlation\": 0.0, \"Count\": 0.08247422680412371}, {\"Question\": \"C0\", \"Concept\": \"SPACE\", \"Negate\": false, \"Correlation\": 0.0, \"Count\": 0.09148936170212765}, {\"Question\": \"C0\", \"Concept\": \"SPACE\", \"Negate\": true, \"Correlation\": 0.0, \"Count\": 0.03404255319148936}, {\"Question\": \"C2N\", \"Concept\": \"BEHAVIOUR\", \"Negate\": false, \"Correlation\": -0.2, \"Count\": 0.0395778364116095}, {\"Question\": \"C2N\", \"Concept\": \"BEHAVIOUR\", \"Negate\": true, \"Correlation\": -0.2, \"Count\": 0.0158311345646438}, {\"Question\": \"C2N\", \"Concept\": \"GRAPHIC\", \"Negate\": false, \"Correlation\": -0.2, \"Count\": 0.07213114754098361}, {\"Question\": \"C2N\", \"Concept\": \"GRAPHIC\", \"Negate\": true, \"Correlation\": -0.2, \"Count\": 0.05245901639344262}, {\"Question\": \"C2N\", \"Concept\": \"INFERENCES\", \"Negate\": false, \"Correlation\": -0.2, \"Count\": 0.05896510228640193}, {\"Question\": \"C2N\", \"Concept\": \"INFERENCES\", \"Negate\": true, \"Correlation\": -0.2, \"Count\": 0.036101083032490974}, {\"Question\": \"C2N\", \"Concept\": \"RELATION\", \"Negate\": false, \"Correlation\": -0.2, \"Count\": 0.05154639175257732}, {\"Question\": \"C2N\", \"Concept\": \"RELATION\", \"Negate\": true, \"Correlation\": -0.2, \"Count\": 0.06643757159221077}, {\"Question\": \"C2N\", \"Concept\": \"SPACE\", \"Negate\": false, \"Correlation\": -0.2, \"Count\": 0.08723404255319149}, {\"Question\": \"C2N\", \"Concept\": \"SPACE\", \"Negate\": true, \"Correlation\": -0.2, \"Count\": 0.031914893617021274}, {\"Question\": \"C2P\", \"Concept\": \"BEHAVIOUR\", \"Negate\": false, \"Correlation\": 0.2, \"Count\": 0.047493403693931395}, {\"Question\": \"C2P\", \"Concept\": \"BEHAVIOUR\", \"Negate\": true, \"Correlation\": 0.2, \"Count\": 0.021108179419525065}, {\"Question\": \"C2P\", \"Concept\": \"GRAPHIC\", \"Negate\": false, \"Correlation\": 0.2, \"Count\": 0.10819672131147541}, {\"Question\": \"C2P\", \"Concept\": \"GRAPHIC\", \"Negate\": true, \"Correlation\": 0.2, \"Count\": 0.02622950819672131}, {\"Question\": \"C2P\", \"Concept\": \"INFERENCES\", \"Negate\": false, \"Correlation\": 0.2, \"Count\": 0.06738868832731648}, {\"Question\": \"C2P\", \"Concept\": \"INFERENCES\", \"Negate\": true, \"Correlation\": 0.2, \"Count\": 0.036101083032490974}, {\"Question\": \"C2P\", \"Concept\": \"RELATION\", \"Negate\": false, \"Correlation\": 0.2, \"Count\": 0.05956471935853379}, {\"Question\": \"C2P\", \"Concept\": \"RELATION\", \"Negate\": true, \"Correlation\": 0.2, \"Count\": 0.05956471935853379}, {\"Question\": \"C2P\", \"Concept\": \"SPACE\", \"Negate\": false, \"Correlation\": 0.2, \"Count\": 0.10851063829787234}, {\"Question\": \"C2P\", \"Concept\": \"SPACE\", \"Negate\": true, \"Correlation\": 0.2, \"Count\": 0.027659574468085105}, {\"Question\": \"C4N\", \"Concept\": \"BEHAVIOUR\", \"Negate\": false, \"Correlation\": -0.4, \"Count\": 0.06068601583113457}, {\"Question\": \"C4N\", \"Concept\": \"BEHAVIOUR\", \"Negate\": true, \"Correlation\": -0.4, \"Count\": 0.023746701846965697}, {\"Question\": \"C4N\", \"Concept\": \"GRAPHIC\", \"Negate\": false, \"Correlation\": -0.4, \"Count\": 0.09180327868852459}, {\"Question\": \"C4N\", \"Concept\": \"GRAPHIC\", \"Negate\": true, \"Correlation\": -0.4, \"Count\": 0.03278688524590164}, {\"Question\": \"C4N\", \"Concept\": \"INFERENCES\", \"Negate\": false, \"Correlation\": -0.4, \"Count\": 0.07581227436823104}, {\"Question\": \"C4N\", \"Concept\": \"INFERENCES\", \"Negate\": true, \"Correlation\": -0.4, \"Count\": 0.030084235860409144}, {\"Question\": \"C4N\", \"Concept\": \"RELATION\", \"Negate\": false, \"Correlation\": -0.4, \"Count\": 0.06300114547537228}, {\"Question\": \"C4N\", \"Concept\": \"RELATION\", \"Negate\": true, \"Correlation\": -0.4, \"Count\": 0.050400916380297825}, {\"Question\": \"C4N\", \"Concept\": \"SPACE\", \"Negate\": false, \"Correlation\": -0.4, \"Count\": 0.1}, {\"Question\": \"C4N\", \"Concept\": \"SPACE\", \"Negate\": true, \"Correlation\": -0.4, \"Count\": 0.02127659574468085}, {\"Question\": \"C4P\", \"Concept\": \"BEHAVIOUR\", \"Negate\": false, \"Correlation\": 0.4, \"Count\": 0.09762532981530343}, {\"Question\": \"C4P\", \"Concept\": \"BEHAVIOUR\", \"Negate\": true, \"Correlation\": 0.4, \"Count\": 0.0079155672823219}, {\"Question\": \"C4P\", \"Concept\": \"GRAPHIC\", \"Negate\": false, \"Correlation\": 0.4, \"Count\": 0.07213114754098361}, {\"Question\": \"C4P\", \"Concept\": \"GRAPHIC\", \"Negate\": true, \"Correlation\": 0.4, \"Count\": 0.03278688524590164}, {\"Question\": \"C4P\", \"Concept\": \"INFERENCES\", \"Negate\": false, \"Correlation\": 0.4, \"Count\": 0.08904933814681107}, {\"Question\": \"C4P\", \"Concept\": \"INFERENCES\", \"Negate\": true, \"Correlation\": 0.4, \"Count\": 0.02527075812274368}, {\"Question\": \"C4P\", \"Concept\": \"RELATION\", \"Negate\": false, \"Correlation\": 0.4, \"Count\": 0.08247422680412371}, {\"Question\": \"C4P\", \"Concept\": \"RELATION\", \"Negate\": true, \"Correlation\": 0.4, \"Count\": 0.027491408934707903}, {\"Question\": \"C4P\", \"Concept\": \"SPACE\", \"Negate\": false, \"Correlation\": 0.4, \"Count\": 0.09148936170212765}, {\"Question\": \"C4P\", \"Concept\": \"SPACE\", \"Negate\": true, \"Correlation\": 0.4, \"Count\": 0.029787234042553193}, {\"Question\": \"C6N\", \"Concept\": \"BEHAVIOUR\", \"Negate\": false, \"Correlation\": -0.6, \"Count\": 0.14775725593667546}, {\"Question\": \"C6N\", \"Concept\": \"BEHAVIOUR\", \"Negate\": true, \"Correlation\": -0.6, \"Count\": 0.010554089709762533}, {\"Question\": \"C6N\", \"Concept\": \"GRAPHIC\", \"Negate\": false, \"Correlation\": -0.6, \"Count\": 0.07540983606557378}, {\"Question\": \"C6N\", \"Concept\": \"GRAPHIC\", \"Negate\": true, \"Correlation\": -0.6, \"Count\": 0.019672131147540985}, {\"Question\": \"C6N\", \"Concept\": \"INFERENCES\", \"Negate\": false, \"Correlation\": -0.6, \"Count\": 0.10830324909747292}, {\"Question\": \"C6N\", \"Concept\": \"INFERENCES\", \"Negate\": true, \"Correlation\": -0.6, \"Count\": 0.013237063778580024}, {\"Question\": \"C6N\", \"Concept\": \"RELATION\", \"Negate\": false, \"Correlation\": -0.6, \"Count\": 0.08476517754868271}, {\"Question\": \"C6N\", \"Concept\": \"RELATION\", \"Negate\": true, \"Correlation\": -0.6, \"Count\": 0.013745704467353952}, {\"Question\": \"C6N\", \"Concept\": \"SPACE\", \"Negate\": false, \"Correlation\": -0.6, \"Count\": 0.09361702127659574}, {\"Question\": \"C6N\", \"Concept\": \"SPACE\", \"Negate\": true, \"Correlation\": -0.6, \"Count\": 0.01276595744680851}, {\"Question\": \"C6P\", \"Concept\": \"BEHAVIOUR\", \"Negate\": false, \"Correlation\": 0.6, \"Count\": 0.1266490765171504}, {\"Question\": \"C6P\", \"Concept\": \"BEHAVIOUR\", \"Negate\": true, \"Correlation\": 0.6, \"Count\": 0.0079155672823219}, {\"Question\": \"C6P\", \"Concept\": \"GRAPHIC\", \"Negate\": false, \"Correlation\": 0.6, \"Count\": 0.08196721311475409}, {\"Question\": \"C6P\", \"Concept\": \"GRAPHIC\", \"Negate\": true, \"Correlation\": 0.6, \"Count\": 0.019672131147540985}, {\"Question\": \"C6P\", \"Concept\": \"INFERENCES\", \"Negate\": false, \"Correlation\": 0.6, \"Count\": 0.11432009626955475}, {\"Question\": \"C6P\", \"Concept\": \"INFERENCES\", \"Negate\": true, \"Correlation\": 0.6, \"Count\": 0.007220216606498195}, {\"Question\": \"C6P\", \"Concept\": \"RELATION\", \"Negate\": false, \"Correlation\": 0.6, \"Count\": 0.09163802978235967}, {\"Question\": \"C6P\", \"Concept\": \"RELATION\", \"Negate\": true, \"Correlation\": 0.6, \"Count\": 0.013745704467353952}, {\"Question\": \"C6P\", \"Concept\": \"SPACE\", \"Negate\": false, \"Correlation\": 0.6, \"Count\": 0.10851063829787234}, {\"Question\": \"C6P\", \"Concept\": \"SPACE\", \"Negate\": true, \"Correlation\": 0.6, \"Count\": 0.00851063829787234}, {\"Question\": \"C8N\", \"Concept\": \"BEHAVIOUR\", \"Negate\": false, \"Correlation\": -0.8, \"Count\": 0.1662269129287599}, {\"Question\": \"C8N\", \"Concept\": \"BEHAVIOUR\", \"Negate\": true, \"Correlation\": -0.8, \"Count\": 0.002638522427440633}, {\"Question\": \"C8N\", \"Concept\": \"GRAPHIC\", \"Negate\": false, \"Correlation\": -0.8, \"Count\": 0.07540983606557378}, {\"Question\": \"C8N\", \"Concept\": \"GRAPHIC\", \"Negate\": true, \"Correlation\": -0.8, \"Count\": 0.009836065573770493}, {\"Question\": \"C8N\", \"Concept\": \"INFERENCES\", \"Negate\": false, \"Correlation\": -0.8, \"Count\": 0.11913357400722022}, {\"Question\": \"C8N\", \"Concept\": \"INFERENCES\", \"Negate\": true, \"Correlation\": -0.8, \"Count\": 0.0036101083032490976}, {\"Question\": \"C8N\", \"Concept\": \"RELATION\", \"Negate\": false, \"Correlation\": -0.8, \"Count\": 0.10423825887743414}, {\"Question\": \"C8N\", \"Concept\": \"RELATION\", \"Negate\": true, \"Correlation\": -0.8, \"Count\": 0.004581901489117984}, {\"Question\": \"C8N\", \"Concept\": \"SPACE\", \"Negate\": false, \"Correlation\": -0.8, \"Count\": 0.07446808510638298}, {\"Question\": \"C8N\", \"Concept\": \"SPACE\", \"Negate\": true, \"Correlation\": -0.8, \"Count\": 0.00425531914893617}, {\"Question\": \"C8P\", \"Concept\": \"BEHAVIOUR\", \"Negate\": false, \"Correlation\": 0.8, \"Count\": 0.1741424802110818}, {\"Question\": \"C8P\", \"Concept\": \"BEHAVIOUR\", \"Negate\": true, \"Correlation\": 0.8, \"Count\": 0.005277044854881266}, {\"Question\": \"C8P\", \"Concept\": \"GRAPHIC\", \"Negate\": false, \"Correlation\": 0.8, \"Count\": 0.10491803278688525}, {\"Question\": \"C8P\", \"Concept\": \"GRAPHIC\", \"Negate\": true, \"Correlation\": 0.8, \"Count\": 0.003278688524590164}, {\"Question\": \"C8P\", \"Concept\": \"INFERENCES\", \"Negate\": false, \"Correlation\": 0.8, \"Count\": 0.10830324909747292}, {\"Question\": \"C8P\", \"Concept\": \"INFERENCES\", \"Negate\": true, \"Correlation\": 0.8, \"Count\": 0.0024067388688327317}, {\"Question\": \"C8P\", \"Concept\": \"RELATION\", \"Negate\": false, \"Correlation\": 0.8, \"Count\": 0.10080183276059565}, {\"Question\": \"C8P\", \"Concept\": \"RELATION\", \"Negate\": true, \"Correlation\": 0.8, \"Count\": 0.001145475372279496}, {\"Question\": \"C8P\", \"Concept\": \"SPACE\", \"Negate\": false, \"Correlation\": 0.8, \"Count\": 0.07234042553191489}, {\"Question\": \"C8P\", \"Concept\": \"SPACE\", \"Negate\": true, \"Correlation\": 0.8, \"Count\": 0.002127659574468085}]}}, {\"mode\": \"vega-lite\"});\n",
       "</script>"
      ],
      "text/plain": [
       "alt.FacetChart(...)"
      ]
     },
     "execution_count": 51,
     "metadata": {},
     "output_type": "execute_result"
    }
   ],
   "source": [
    "c_bars = alt.Chart(cprop\n",
    "\n",
    ").mark_bar(tooltip=alt.TooltipContent('encoding')).encode(\n",
    "    x=alt.X('Correlation:O',axis=alt.Axis(title=None)),\n",
    "    y=alt.Y('Count:Q',scale=alt.Scale(domain=(0, 0.3)), axis=alt.Axis(title=None,tickCount=5)),\n",
    "    color=alt.Color('Negate',\n",
    "                   scale=alt.Scale(\n",
    "            domain=['false', 'true'],\n",
    "            range=['#000050', '#eeaa00']),\n",
    "                   legend=None)\n",
    ").properties(width=100,height=80).facet(row=alt.Row('Concept:N',title=None),spacing=5).resolve_axis(x='independent')\n",
    "c_bars"
   ]
  },
  {
   "cell_type": "code",
   "execution_count": 44,
   "metadata": {},
   "outputs": [
    {
     "data": {
      "text/html": [
       "\n",
       "<div id=\"altair-viz-883ff3cf02824f7db367161f584c27e5\"></div>\n",
       "<script type=\"text/javascript\">\n",
       "  (function(spec, embedOpt){\n",
       "    let outputDiv = document.currentScript.previousElementSibling;\n",
       "    if (outputDiv.id !== \"altair-viz-883ff3cf02824f7db367161f584c27e5\") {\n",
       "      outputDiv = document.getElementById(\"altair-viz-883ff3cf02824f7db367161f584c27e5\");\n",
       "    }\n",
       "    const paths = {\n",
       "      \"vega\": \"https://cdn.jsdelivr.net/npm//vega@5?noext\",\n",
       "      \"vega-lib\": \"https://cdn.jsdelivr.net/npm//vega-lib?noext\",\n",
       "      \"vega-lite\": \"https://cdn.jsdelivr.net/npm//vega-lite@4.8.1?noext\",\n",
       "      \"vega-embed\": \"https://cdn.jsdelivr.net/npm//vega-embed@6?noext\",\n",
       "    };\n",
       "\n",
       "    function loadScript(lib) {\n",
       "      return new Promise(function(resolve, reject) {\n",
       "        var s = document.createElement('script');\n",
       "        s.src = paths[lib];\n",
       "        s.async = true;\n",
       "        s.onload = () => resolve(paths[lib]);\n",
       "        s.onerror = () => reject(`Error loading script: ${paths[lib]}`);\n",
       "        document.getElementsByTagName(\"head\")[0].appendChild(s);\n",
       "      });\n",
       "    }\n",
       "\n",
       "    function showError(err) {\n",
       "      outputDiv.innerHTML = `<div class=\"error\" style=\"color:red;\">${err}</div>`;\n",
       "      throw err;\n",
       "    }\n",
       "\n",
       "    function displayChart(vegaEmbed) {\n",
       "      vegaEmbed(outputDiv, spec, embedOpt)\n",
       "        .catch(err => showError(`Javascript Error: ${err.message}<br>This usually means there's a typo in your chart specification. See the javascript console for the full traceback.`));\n",
       "    }\n",
       "\n",
       "    if(typeof define === \"function\" && define.amd) {\n",
       "      requirejs.config({paths});\n",
       "      require([\"vega-embed\"], displayChart, err => showError(`Error loading script: ${err.message}`));\n",
       "    } else if (typeof vegaEmbed === \"function\") {\n",
       "      displayChart(vegaEmbed);\n",
       "    } else {\n",
       "      loadScript(\"vega\")\n",
       "        .then(() => loadScript(\"vega-lite\"))\n",
       "        .then(() => loadScript(\"vega-embed\"))\n",
       "        .catch(showError)\n",
       "        .then(() => displayChart(vegaEmbed));\n",
       "    }\n",
       "  })({\"config\": {\"mark\": {\"color\": \"#000050\"}, \"title\": {\"font\": \"Avenir\", \"anchor\": \"end\"}, \"axis\": {\"labelFont\": \"Avenir\", \"titleFont\": \"Avenir\"}, \"header\": {\"labelFont\": \"Avenir\", \"labelFontSize\": 12, \"titleFont\": \"Avenir\"}, \"legend\": {\"labelFont\": \"Avenir\", \"titleFont\": \"Avenir\"}}, \"data\": {\"name\": \"data-9e894c0e57b43fdfc32d9dbf36924eb1\"}, \"facet\": {\"column\": {\"type\": \"nominal\", \"field\": \"Correlation\"}}, \"spec\": {\"mark\": {\"type\": \"bar\", \"tooltip\": true}, \"encoding\": {\"x\": {\"type\": \"quantitative\", \"field\": \"PercentOfTotal\"}, \"y\": {\"type\": \"ordinal\", \"axis\": {\"title\": null}, \"field\": \"Concept\"}}, \"height\": 100, \"transform\": [{\"joinaggregate\": [{\"op\": \"sum\", \"field\": \"Count\", \"as\": \"totalCount\"}], \"groupby\": [\"Correlation\"]}, {\"calculate\": \"datum.Count / datum.totalCount\", \"as\": \"PercentOfTotal\"}], \"width\": 100}, \"$schema\": \"https://vega.github.io/schema/vega-lite/v4.8.1.json\", \"datasets\": {\"data-9e894c0e57b43fdfc32d9dbf36924eb1\": [{\"Question\": \"C0\", \"Concept\": \"BEHAVIOUR\", \"Negate\": false, \"Count\": 8, \"Correlation\": 0.0}, {\"Question\": \"C0\", \"Concept\": \"BEHAVIOUR\", \"Negate\": true, \"Count\": 9, \"Correlation\": 0.0}, {\"Question\": \"C0\", \"Concept\": \"GRAPHIC\", \"Negate\": false, \"Count\": 23, \"Correlation\": 0.0}, {\"Question\": \"C0\", \"Concept\": \"GRAPHIC\", \"Negate\": true, \"Count\": 14, \"Correlation\": 0.0}, {\"Question\": \"C0\", \"Concept\": \"INFERENCES\", \"Negate\": false, \"Count\": 46, \"Correlation\": 0.0}, {\"Question\": \"C0\", \"Concept\": \"INFERENCES\", \"Negate\": true, \"Count\": 41, \"Correlation\": 0.0}, {\"Question\": \"C0\", \"Concept\": \"RELATION\", \"Negate\": false, \"Count\": 37, \"Correlation\": 0.0}, {\"Question\": \"C0\", \"Concept\": \"RELATION\", \"Negate\": true, \"Count\": 72, \"Correlation\": 0.0}, {\"Question\": \"C0\", \"Concept\": \"SPACE\", \"Negate\": false, \"Count\": 43, \"Correlation\": 0.0}, {\"Question\": \"C0\", \"Concept\": \"SPACE\", \"Negate\": true, \"Count\": 16, \"Correlation\": 0.0}, {\"Question\": \"C2N\", \"Concept\": \"BEHAVIOUR\", \"Negate\": false, \"Count\": 15, \"Correlation\": -0.2}, {\"Question\": \"C2N\", \"Concept\": \"BEHAVIOUR\", \"Negate\": true, \"Count\": 6, \"Correlation\": -0.2}, {\"Question\": \"C2N\", \"Concept\": \"GRAPHIC\", \"Negate\": false, \"Count\": 22, \"Correlation\": -0.2}, {\"Question\": \"C2N\", \"Concept\": \"GRAPHIC\", \"Negate\": true, \"Count\": 16, \"Correlation\": -0.2}, {\"Question\": \"C2N\", \"Concept\": \"INFERENCES\", \"Negate\": false, \"Count\": 49, \"Correlation\": -0.2}, {\"Question\": \"C2N\", \"Concept\": \"INFERENCES\", \"Negate\": true, \"Count\": 30, \"Correlation\": -0.2}, {\"Question\": \"C2N\", \"Concept\": \"RELATION\", \"Negate\": false, \"Count\": 45, \"Correlation\": -0.2}, {\"Question\": \"C2N\", \"Concept\": \"RELATION\", \"Negate\": true, \"Count\": 58, \"Correlation\": -0.2}, {\"Question\": \"C2N\", \"Concept\": \"SPACE\", \"Negate\": false, \"Count\": 41, \"Correlation\": -0.2}, {\"Question\": \"C2N\", \"Concept\": \"SPACE\", \"Negate\": true, \"Count\": 15, \"Correlation\": -0.2}, {\"Question\": \"C2P\", \"Concept\": \"BEHAVIOUR\", \"Negate\": false, \"Count\": 18, \"Correlation\": 0.2}, {\"Question\": \"C2P\", \"Concept\": \"BEHAVIOUR\", \"Negate\": true, \"Count\": 8, \"Correlation\": 0.2}, {\"Question\": \"C2P\", \"Concept\": \"GRAPHIC\", \"Negate\": false, \"Count\": 33, \"Correlation\": 0.2}, {\"Question\": \"C2P\", \"Concept\": \"GRAPHIC\", \"Negate\": true, \"Count\": 8, \"Correlation\": 0.2}, {\"Question\": \"C2P\", \"Concept\": \"INFERENCES\", \"Negate\": false, \"Count\": 56, \"Correlation\": 0.2}, {\"Question\": \"C2P\", \"Concept\": \"INFERENCES\", \"Negate\": true, \"Count\": 30, \"Correlation\": 0.2}, {\"Question\": \"C2P\", \"Concept\": \"RELATION\", \"Negate\": false, \"Count\": 52, \"Correlation\": 0.2}, {\"Question\": \"C2P\", \"Concept\": \"RELATION\", \"Negate\": true, \"Count\": 52, \"Correlation\": 0.2}, {\"Question\": \"C2P\", \"Concept\": \"SPACE\", \"Negate\": false, \"Count\": 51, \"Correlation\": 0.2}, {\"Question\": \"C2P\", \"Concept\": \"SPACE\", \"Negate\": true, \"Count\": 13, \"Correlation\": 0.2}, {\"Question\": \"C4N\", \"Concept\": \"BEHAVIOUR\", \"Negate\": false, \"Count\": 23, \"Correlation\": -0.4}, {\"Question\": \"C4N\", \"Concept\": \"BEHAVIOUR\", \"Negate\": true, \"Count\": 9, \"Correlation\": -0.4}, {\"Question\": \"C4N\", \"Concept\": \"GRAPHIC\", \"Negate\": false, \"Count\": 28, \"Correlation\": -0.4}, {\"Question\": \"C4N\", \"Concept\": \"GRAPHIC\", \"Negate\": true, \"Count\": 10, \"Correlation\": -0.4}, {\"Question\": \"C4N\", \"Concept\": \"INFERENCES\", \"Negate\": false, \"Count\": 63, \"Correlation\": -0.4}, {\"Question\": \"C4N\", \"Concept\": \"INFERENCES\", \"Negate\": true, \"Count\": 25, \"Correlation\": -0.4}, {\"Question\": \"C4N\", \"Concept\": \"RELATION\", \"Negate\": false, \"Count\": 55, \"Correlation\": -0.4}, {\"Question\": \"C4N\", \"Concept\": \"RELATION\", \"Negate\": true, \"Count\": 44, \"Correlation\": -0.4}, {\"Question\": \"C4N\", \"Concept\": \"SPACE\", \"Negate\": false, \"Count\": 47, \"Correlation\": -0.4}, {\"Question\": \"C4N\", \"Concept\": \"SPACE\", \"Negate\": true, \"Count\": 10, \"Correlation\": -0.4}, {\"Question\": \"C4P\", \"Concept\": \"BEHAVIOUR\", \"Negate\": false, \"Count\": 37, \"Correlation\": 0.4}, {\"Question\": \"C4P\", \"Concept\": \"BEHAVIOUR\", \"Negate\": true, \"Count\": 3, \"Correlation\": 0.4}, {\"Question\": \"C4P\", \"Concept\": \"GRAPHIC\", \"Negate\": false, \"Count\": 22, \"Correlation\": 0.4}, {\"Question\": \"C4P\", \"Concept\": \"GRAPHIC\", \"Negate\": true, \"Count\": 10, \"Correlation\": 0.4}, {\"Question\": \"C4P\", \"Concept\": \"INFERENCES\", \"Negate\": false, \"Count\": 74, \"Correlation\": 0.4}, {\"Question\": \"C4P\", \"Concept\": \"INFERENCES\", \"Negate\": true, \"Count\": 21, \"Correlation\": 0.4}, {\"Question\": \"C4P\", \"Concept\": \"RELATION\", \"Negate\": false, \"Count\": 72, \"Correlation\": 0.4}, {\"Question\": \"C4P\", \"Concept\": \"RELATION\", \"Negate\": true, \"Count\": 24, \"Correlation\": 0.4}, {\"Question\": \"C4P\", \"Concept\": \"SPACE\", \"Negate\": false, \"Count\": 43, \"Correlation\": 0.4}, {\"Question\": \"C4P\", \"Concept\": \"SPACE\", \"Negate\": true, \"Count\": 14, \"Correlation\": 0.4}, {\"Question\": \"C6N\", \"Concept\": \"BEHAVIOUR\", \"Negate\": false, \"Count\": 56, \"Correlation\": -0.6}, {\"Question\": \"C6N\", \"Concept\": \"BEHAVIOUR\", \"Negate\": true, \"Count\": 4, \"Correlation\": -0.6}, {\"Question\": \"C6N\", \"Concept\": \"GRAPHIC\", \"Negate\": false, \"Count\": 23, \"Correlation\": -0.6}, {\"Question\": \"C6N\", \"Concept\": \"GRAPHIC\", \"Negate\": true, \"Count\": 6, \"Correlation\": -0.6}, {\"Question\": \"C6N\", \"Concept\": \"INFERENCES\", \"Negate\": false, \"Count\": 90, \"Correlation\": -0.6}, {\"Question\": \"C6N\", \"Concept\": \"INFERENCES\", \"Negate\": true, \"Count\": 11, \"Correlation\": -0.6}, {\"Question\": \"C6N\", \"Concept\": \"RELATION\", \"Negate\": false, \"Count\": 74, \"Correlation\": -0.6}, {\"Question\": \"C6N\", \"Concept\": \"RELATION\", \"Negate\": true, \"Count\": 12, \"Correlation\": -0.6}, {\"Question\": \"C6N\", \"Concept\": \"SPACE\", \"Negate\": false, \"Count\": 44, \"Correlation\": -0.6}, {\"Question\": \"C6N\", \"Concept\": \"SPACE\", \"Negate\": true, \"Count\": 6, \"Correlation\": -0.6}, {\"Question\": \"C6P\", \"Concept\": \"BEHAVIOUR\", \"Negate\": false, \"Count\": 48, \"Correlation\": 0.6}, {\"Question\": \"C6P\", \"Concept\": \"BEHAVIOUR\", \"Negate\": true, \"Count\": 3, \"Correlation\": 0.6}, {\"Question\": \"C6P\", \"Concept\": \"GRAPHIC\", \"Negate\": false, \"Count\": 25, \"Correlation\": 0.6}, {\"Question\": \"C6P\", \"Concept\": \"GRAPHIC\", \"Negate\": true, \"Count\": 6, \"Correlation\": 0.6}, {\"Question\": \"C6P\", \"Concept\": \"INFERENCES\", \"Negate\": false, \"Count\": 95, \"Correlation\": 0.6}, {\"Question\": \"C6P\", \"Concept\": \"INFERENCES\", \"Negate\": true, \"Count\": 6, \"Correlation\": 0.6}, {\"Question\": \"C6P\", \"Concept\": \"RELATION\", \"Negate\": false, \"Count\": 80, \"Correlation\": 0.6}, {\"Question\": \"C6P\", \"Concept\": \"RELATION\", \"Negate\": true, \"Count\": 12, \"Correlation\": 0.6}, {\"Question\": \"C6P\", \"Concept\": \"SPACE\", \"Negate\": false, \"Count\": 51, \"Correlation\": 0.6}, {\"Question\": \"C6P\", \"Concept\": \"SPACE\", \"Negate\": true, \"Count\": 4, \"Correlation\": 0.6}, {\"Question\": \"C8N\", \"Concept\": \"BEHAVIOUR\", \"Negate\": false, \"Count\": 63, \"Correlation\": -0.8}, {\"Question\": \"C8N\", \"Concept\": \"BEHAVIOUR\", \"Negate\": true, \"Count\": 1, \"Correlation\": -0.8}, {\"Question\": \"C8N\", \"Concept\": \"GRAPHIC\", \"Negate\": false, \"Count\": 23, \"Correlation\": -0.8}, {\"Question\": \"C8N\", \"Concept\": \"GRAPHIC\", \"Negate\": true, \"Count\": 3, \"Correlation\": -0.8}, {\"Question\": \"C8N\", \"Concept\": \"INFERENCES\", \"Negate\": false, \"Count\": 99, \"Correlation\": -0.8}, {\"Question\": \"C8N\", \"Concept\": \"INFERENCES\", \"Negate\": true, \"Count\": 3, \"Correlation\": -0.8}, {\"Question\": \"C8N\", \"Concept\": \"RELATION\", \"Negate\": false, \"Count\": 91, \"Correlation\": -0.8}, {\"Question\": \"C8N\", \"Concept\": \"RELATION\", \"Negate\": true, \"Count\": 4, \"Correlation\": -0.8}, {\"Question\": \"C8N\", \"Concept\": \"SPACE\", \"Negate\": false, \"Count\": 35, \"Correlation\": -0.8}, {\"Question\": \"C8N\", \"Concept\": \"SPACE\", \"Negate\": true, \"Count\": 2, \"Correlation\": -0.8}, {\"Question\": \"C8P\", \"Concept\": \"BEHAVIOUR\", \"Negate\": false, \"Count\": 66, \"Correlation\": 0.8}, {\"Question\": \"C8P\", \"Concept\": \"BEHAVIOUR\", \"Negate\": true, \"Count\": 2, \"Correlation\": 0.8}, {\"Question\": \"C8P\", \"Concept\": \"GRAPHIC\", \"Negate\": false, \"Count\": 32, \"Correlation\": 0.8}, {\"Question\": \"C8P\", \"Concept\": \"GRAPHIC\", \"Negate\": true, \"Count\": 1, \"Correlation\": 0.8}, {\"Question\": \"C8P\", \"Concept\": \"INFERENCES\", \"Negate\": false, \"Count\": 90, \"Correlation\": 0.8}, {\"Question\": \"C8P\", \"Concept\": \"INFERENCES\", \"Negate\": true, \"Count\": 2, \"Correlation\": 0.8}, {\"Question\": \"C8P\", \"Concept\": \"RELATION\", \"Negate\": false, \"Count\": 88, \"Correlation\": 0.8}, {\"Question\": \"C8P\", \"Concept\": \"RELATION\", \"Negate\": true, \"Count\": 1, \"Correlation\": 0.8}, {\"Question\": \"C8P\", \"Concept\": \"SPACE\", \"Negate\": false, \"Count\": 34, \"Correlation\": 0.8}, {\"Question\": \"C8P\", \"Concept\": \"SPACE\", \"Negate\": true, \"Count\": 1, \"Correlation\": 0.8}]}}, {\"mode\": \"vega-lite\"});\n",
       "</script>"
      ],
      "text/plain": [
       "alt.FacetChart(...)"
      ]
     },
     "execution_count": 44,
     "metadata": {},
     "output_type": "execute_result"
    }
   ],
   "source": [
    "alt.Chart(conly\n",
    ").transform_joinaggregate(\n",
    "    totalCount='sum(Count)',\n",
    "      groupby=['Correlation']\n",
    ").transform_calculate(\n",
    "    PercentOfTotal=\"datum.Count / datum.totalCount\"\n",
    ").mark_bar(tooltip=True).encode(\n",
    "    y=alt.Y('Concept:O',axis=alt.Axis(title=None)),\n",
    "    x=alt.X('PercentOfTotal:Q'), #,scale=alt.Scale(domain=(0, 120)),axis=alt.Axis(title=None,tickCount=5)),\n",
    "    #color=alt.Color('Negate',scale=alt.Scale(domain=['false', 'true'], range=['#000050', '#eeaa00']))\n",
    ").properties(width=100,height=100).facet(column='Correlation:N')"
   ]
  },
  {
   "cell_type": "code",
   "execution_count": 18,
   "metadata": {},
   "outputs": [
    {
     "data": {
      "text/html": [
       "\n",
       "<div id=\"altair-viz-4444df1969084b4eb42fb10052d535bc\"></div>\n",
       "<script type=\"text/javascript\">\n",
       "  (function(spec, embedOpt){\n",
       "    let outputDiv = document.currentScript.previousElementSibling;\n",
       "    if (outputDiv.id !== \"altair-viz-4444df1969084b4eb42fb10052d535bc\") {\n",
       "      outputDiv = document.getElementById(\"altair-viz-4444df1969084b4eb42fb10052d535bc\");\n",
       "    }\n",
       "    const paths = {\n",
       "      \"vega\": \"https://cdn.jsdelivr.net/npm//vega@5?noext\",\n",
       "      \"vega-lib\": \"https://cdn.jsdelivr.net/npm//vega-lib?noext\",\n",
       "      \"vega-lite\": \"https://cdn.jsdelivr.net/npm//vega-lite@4.8.1?noext\",\n",
       "      \"vega-embed\": \"https://cdn.jsdelivr.net/npm//vega-embed@6?noext\",\n",
       "    };\n",
       "\n",
       "    function loadScript(lib) {\n",
       "      return new Promise(function(resolve, reject) {\n",
       "        var s = document.createElement('script');\n",
       "        s.src = paths[lib];\n",
       "        s.async = true;\n",
       "        s.onload = () => resolve(paths[lib]);\n",
       "        s.onerror = () => reject(`Error loading script: ${paths[lib]}`);\n",
       "        document.getElementsByTagName(\"head\")[0].appendChild(s);\n",
       "      });\n",
       "    }\n",
       "\n",
       "    function showError(err) {\n",
       "      outputDiv.innerHTML = `<div class=\"error\" style=\"color:red;\">${err}</div>`;\n",
       "      throw err;\n",
       "    }\n",
       "\n",
       "    function displayChart(vegaEmbed) {\n",
       "      vegaEmbed(outputDiv, spec, embedOpt)\n",
       "        .catch(err => showError(`Javascript Error: ${err.message}<br>This usually means there's a typo in your chart specification. See the javascript console for the full traceback.`));\n",
       "    }\n",
       "\n",
       "    if(typeof define === \"function\" && define.amd) {\n",
       "      requirejs.config({paths});\n",
       "      require([\"vega-embed\"], displayChart, err => showError(`Error loading script: ${err.message}`));\n",
       "    } else if (typeof vegaEmbed === \"function\") {\n",
       "      displayChart(vegaEmbed);\n",
       "    } else {\n",
       "      loadScript(\"vega\")\n",
       "        .then(() => loadScript(\"vega-lite\"))\n",
       "        .then(() => loadScript(\"vega-embed\"))\n",
       "        .catch(showError)\n",
       "        .then(() => displayChart(vegaEmbed));\n",
       "    }\n",
       "  })({\"config\": {\"view\": {\"continuousWidth\": 400, \"continuousHeight\": 300}}, \"data\": {\"name\": \"data-9e894c0e57b43fdfc32d9dbf36924eb1\"}, \"mark\": {\"type\": \"bar\", \"tooltip\": true}, \"encoding\": {\"color\": {\"type\": \"nominal\", \"field\": \"Concept\"}, \"x\": {\"type\": \"nominal\", \"axis\": {\"title\": null}, \"field\": \"Correlation\"}, \"y\": {\"type\": \"quantitative\", \"aggregate\": \"sum\", \"axis\": {\"tickCount\": 5, \"title\": null}, \"field\": \"Count\", \"stack\": \"normalize\"}}, \"height\": 150, \"width\": 250, \"$schema\": \"https://vega.github.io/schema/vega-lite/v4.8.1.json\", \"datasets\": {\"data-9e894c0e57b43fdfc32d9dbf36924eb1\": [{\"Question\": \"C0\", \"Concept\": \"BEHAVIOUR\", \"Negate\": false, \"Count\": 8, \"Correlation\": 0.0}, {\"Question\": \"C0\", \"Concept\": \"BEHAVIOUR\", \"Negate\": true, \"Count\": 9, \"Correlation\": 0.0}, {\"Question\": \"C0\", \"Concept\": \"GRAPHIC\", \"Negate\": false, \"Count\": 23, \"Correlation\": 0.0}, {\"Question\": \"C0\", \"Concept\": \"GRAPHIC\", \"Negate\": true, \"Count\": 14, \"Correlation\": 0.0}, {\"Question\": \"C0\", \"Concept\": \"INFERENCES\", \"Negate\": false, \"Count\": 46, \"Correlation\": 0.0}, {\"Question\": \"C0\", \"Concept\": \"INFERENCES\", \"Negate\": true, \"Count\": 41, \"Correlation\": 0.0}, {\"Question\": \"C0\", \"Concept\": \"RELATION\", \"Negate\": false, \"Count\": 37, \"Correlation\": 0.0}, {\"Question\": \"C0\", \"Concept\": \"RELATION\", \"Negate\": true, \"Count\": 72, \"Correlation\": 0.0}, {\"Question\": \"C0\", \"Concept\": \"SPACE\", \"Negate\": false, \"Count\": 43, \"Correlation\": 0.0}, {\"Question\": \"C0\", \"Concept\": \"SPACE\", \"Negate\": true, \"Count\": 16, \"Correlation\": 0.0}, {\"Question\": \"C2N\", \"Concept\": \"BEHAVIOUR\", \"Negate\": false, \"Count\": 15, \"Correlation\": -0.2}, {\"Question\": \"C2N\", \"Concept\": \"BEHAVIOUR\", \"Negate\": true, \"Count\": 6, \"Correlation\": -0.2}, {\"Question\": \"C2N\", \"Concept\": \"GRAPHIC\", \"Negate\": false, \"Count\": 22, \"Correlation\": -0.2}, {\"Question\": \"C2N\", \"Concept\": \"GRAPHIC\", \"Negate\": true, \"Count\": 16, \"Correlation\": -0.2}, {\"Question\": \"C2N\", \"Concept\": \"INFERENCES\", \"Negate\": false, \"Count\": 49, \"Correlation\": -0.2}, {\"Question\": \"C2N\", \"Concept\": \"INFERENCES\", \"Negate\": true, \"Count\": 30, \"Correlation\": -0.2}, {\"Question\": \"C2N\", \"Concept\": \"RELATION\", \"Negate\": false, \"Count\": 45, \"Correlation\": -0.2}, {\"Question\": \"C2N\", \"Concept\": \"RELATION\", \"Negate\": true, \"Count\": 58, \"Correlation\": -0.2}, {\"Question\": \"C2N\", \"Concept\": \"SPACE\", \"Negate\": false, \"Count\": 41, \"Correlation\": -0.2}, {\"Question\": \"C2N\", \"Concept\": \"SPACE\", \"Negate\": true, \"Count\": 15, \"Correlation\": -0.2}, {\"Question\": \"C2P\", \"Concept\": \"BEHAVIOUR\", \"Negate\": false, \"Count\": 18, \"Correlation\": 0.2}, {\"Question\": \"C2P\", \"Concept\": \"BEHAVIOUR\", \"Negate\": true, \"Count\": 8, \"Correlation\": 0.2}, {\"Question\": \"C2P\", \"Concept\": \"GRAPHIC\", \"Negate\": false, \"Count\": 33, \"Correlation\": 0.2}, {\"Question\": \"C2P\", \"Concept\": \"GRAPHIC\", \"Negate\": true, \"Count\": 8, \"Correlation\": 0.2}, {\"Question\": \"C2P\", \"Concept\": \"INFERENCES\", \"Negate\": false, \"Count\": 56, \"Correlation\": 0.2}, {\"Question\": \"C2P\", \"Concept\": \"INFERENCES\", \"Negate\": true, \"Count\": 30, \"Correlation\": 0.2}, {\"Question\": \"C2P\", \"Concept\": \"RELATION\", \"Negate\": false, \"Count\": 52, \"Correlation\": 0.2}, {\"Question\": \"C2P\", \"Concept\": \"RELATION\", \"Negate\": true, \"Count\": 52, \"Correlation\": 0.2}, {\"Question\": \"C2P\", \"Concept\": \"SPACE\", \"Negate\": false, \"Count\": 51, \"Correlation\": 0.2}, {\"Question\": \"C2P\", \"Concept\": \"SPACE\", \"Negate\": true, \"Count\": 13, \"Correlation\": 0.2}, {\"Question\": \"C4N\", \"Concept\": \"BEHAVIOUR\", \"Negate\": false, \"Count\": 23, \"Correlation\": -0.4}, {\"Question\": \"C4N\", \"Concept\": \"BEHAVIOUR\", \"Negate\": true, \"Count\": 9, \"Correlation\": -0.4}, {\"Question\": \"C4N\", \"Concept\": \"GRAPHIC\", \"Negate\": false, \"Count\": 28, \"Correlation\": -0.4}, {\"Question\": \"C4N\", \"Concept\": \"GRAPHIC\", \"Negate\": true, \"Count\": 10, \"Correlation\": -0.4}, {\"Question\": \"C4N\", \"Concept\": \"INFERENCES\", \"Negate\": false, \"Count\": 63, \"Correlation\": -0.4}, {\"Question\": \"C4N\", \"Concept\": \"INFERENCES\", \"Negate\": true, \"Count\": 25, \"Correlation\": -0.4}, {\"Question\": \"C4N\", \"Concept\": \"RELATION\", \"Negate\": false, \"Count\": 55, \"Correlation\": -0.4}, {\"Question\": \"C4N\", \"Concept\": \"RELATION\", \"Negate\": true, \"Count\": 44, \"Correlation\": -0.4}, {\"Question\": \"C4N\", \"Concept\": \"SPACE\", \"Negate\": false, \"Count\": 47, \"Correlation\": -0.4}, {\"Question\": \"C4N\", \"Concept\": \"SPACE\", \"Negate\": true, \"Count\": 10, \"Correlation\": -0.4}, {\"Question\": \"C4P\", \"Concept\": \"BEHAVIOUR\", \"Negate\": false, \"Count\": 37, \"Correlation\": 0.4}, {\"Question\": \"C4P\", \"Concept\": \"BEHAVIOUR\", \"Negate\": true, \"Count\": 3, \"Correlation\": 0.4}, {\"Question\": \"C4P\", \"Concept\": \"GRAPHIC\", \"Negate\": false, \"Count\": 22, \"Correlation\": 0.4}, {\"Question\": \"C4P\", \"Concept\": \"GRAPHIC\", \"Negate\": true, \"Count\": 10, \"Correlation\": 0.4}, {\"Question\": \"C4P\", \"Concept\": \"INFERENCES\", \"Negate\": false, \"Count\": 74, \"Correlation\": 0.4}, {\"Question\": \"C4P\", \"Concept\": \"INFERENCES\", \"Negate\": true, \"Count\": 21, \"Correlation\": 0.4}, {\"Question\": \"C4P\", \"Concept\": \"RELATION\", \"Negate\": false, \"Count\": 72, \"Correlation\": 0.4}, {\"Question\": \"C4P\", \"Concept\": \"RELATION\", \"Negate\": true, \"Count\": 24, \"Correlation\": 0.4}, {\"Question\": \"C4P\", \"Concept\": \"SPACE\", \"Negate\": false, \"Count\": 43, \"Correlation\": 0.4}, {\"Question\": \"C4P\", \"Concept\": \"SPACE\", \"Negate\": true, \"Count\": 14, \"Correlation\": 0.4}, {\"Question\": \"C6N\", \"Concept\": \"BEHAVIOUR\", \"Negate\": false, \"Count\": 56, \"Correlation\": -0.6}, {\"Question\": \"C6N\", \"Concept\": \"BEHAVIOUR\", \"Negate\": true, \"Count\": 4, \"Correlation\": -0.6}, {\"Question\": \"C6N\", \"Concept\": \"GRAPHIC\", \"Negate\": false, \"Count\": 23, \"Correlation\": -0.6}, {\"Question\": \"C6N\", \"Concept\": \"GRAPHIC\", \"Negate\": true, \"Count\": 6, \"Correlation\": -0.6}, {\"Question\": \"C6N\", \"Concept\": \"INFERENCES\", \"Negate\": false, \"Count\": 90, \"Correlation\": -0.6}, {\"Question\": \"C6N\", \"Concept\": \"INFERENCES\", \"Negate\": true, \"Count\": 11, \"Correlation\": -0.6}, {\"Question\": \"C6N\", \"Concept\": \"RELATION\", \"Negate\": false, \"Count\": 74, \"Correlation\": -0.6}, {\"Question\": \"C6N\", \"Concept\": \"RELATION\", \"Negate\": true, \"Count\": 12, \"Correlation\": -0.6}, {\"Question\": \"C6N\", \"Concept\": \"SPACE\", \"Negate\": false, \"Count\": 44, \"Correlation\": -0.6}, {\"Question\": \"C6N\", \"Concept\": \"SPACE\", \"Negate\": true, \"Count\": 6, \"Correlation\": -0.6}, {\"Question\": \"C6P\", \"Concept\": \"BEHAVIOUR\", \"Negate\": false, \"Count\": 48, \"Correlation\": 0.6}, {\"Question\": \"C6P\", \"Concept\": \"BEHAVIOUR\", \"Negate\": true, \"Count\": 3, \"Correlation\": 0.6}, {\"Question\": \"C6P\", \"Concept\": \"GRAPHIC\", \"Negate\": false, \"Count\": 25, \"Correlation\": 0.6}, {\"Question\": \"C6P\", \"Concept\": \"GRAPHIC\", \"Negate\": true, \"Count\": 6, \"Correlation\": 0.6}, {\"Question\": \"C6P\", \"Concept\": \"INFERENCES\", \"Negate\": false, \"Count\": 95, \"Correlation\": 0.6}, {\"Question\": \"C6P\", \"Concept\": \"INFERENCES\", \"Negate\": true, \"Count\": 6, \"Correlation\": 0.6}, {\"Question\": \"C6P\", \"Concept\": \"RELATION\", \"Negate\": false, \"Count\": 80, \"Correlation\": 0.6}, {\"Question\": \"C6P\", \"Concept\": \"RELATION\", \"Negate\": true, \"Count\": 12, \"Correlation\": 0.6}, {\"Question\": \"C6P\", \"Concept\": \"SPACE\", \"Negate\": false, \"Count\": 51, \"Correlation\": 0.6}, {\"Question\": \"C6P\", \"Concept\": \"SPACE\", \"Negate\": true, \"Count\": 4, \"Correlation\": 0.6}, {\"Question\": \"C8N\", \"Concept\": \"BEHAVIOUR\", \"Negate\": false, \"Count\": 63, \"Correlation\": -0.8}, {\"Question\": \"C8N\", \"Concept\": \"BEHAVIOUR\", \"Negate\": true, \"Count\": 1, \"Correlation\": -0.8}, {\"Question\": \"C8N\", \"Concept\": \"GRAPHIC\", \"Negate\": false, \"Count\": 23, \"Correlation\": -0.8}, {\"Question\": \"C8N\", \"Concept\": \"GRAPHIC\", \"Negate\": true, \"Count\": 3, \"Correlation\": -0.8}, {\"Question\": \"C8N\", \"Concept\": \"INFERENCES\", \"Negate\": false, \"Count\": 99, \"Correlation\": -0.8}, {\"Question\": \"C8N\", \"Concept\": \"INFERENCES\", \"Negate\": true, \"Count\": 3, \"Correlation\": -0.8}, {\"Question\": \"C8N\", \"Concept\": \"RELATION\", \"Negate\": false, \"Count\": 91, \"Correlation\": -0.8}, {\"Question\": \"C8N\", \"Concept\": \"RELATION\", \"Negate\": true, \"Count\": 4, \"Correlation\": -0.8}, {\"Question\": \"C8N\", \"Concept\": \"SPACE\", \"Negate\": false, \"Count\": 35, \"Correlation\": -0.8}, {\"Question\": \"C8N\", \"Concept\": \"SPACE\", \"Negate\": true, \"Count\": 2, \"Correlation\": -0.8}, {\"Question\": \"C8P\", \"Concept\": \"BEHAVIOUR\", \"Negate\": false, \"Count\": 66, \"Correlation\": 0.8}, {\"Question\": \"C8P\", \"Concept\": \"BEHAVIOUR\", \"Negate\": true, \"Count\": 2, \"Correlation\": 0.8}, {\"Question\": \"C8P\", \"Concept\": \"GRAPHIC\", \"Negate\": false, \"Count\": 32, \"Correlation\": 0.8}, {\"Question\": \"C8P\", \"Concept\": \"GRAPHIC\", \"Negate\": true, \"Count\": 1, \"Correlation\": 0.8}, {\"Question\": \"C8P\", \"Concept\": \"INFERENCES\", \"Negate\": false, \"Count\": 90, \"Correlation\": 0.8}, {\"Question\": \"C8P\", \"Concept\": \"INFERENCES\", \"Negate\": true, \"Count\": 2, \"Correlation\": 0.8}, {\"Question\": \"C8P\", \"Concept\": \"RELATION\", \"Negate\": false, \"Count\": 88, \"Correlation\": 0.8}, {\"Question\": \"C8P\", \"Concept\": \"RELATION\", \"Negate\": true, \"Count\": 1, \"Correlation\": 0.8}, {\"Question\": \"C8P\", \"Concept\": \"SPACE\", \"Negate\": false, \"Count\": 34, \"Correlation\": 0.8}, {\"Question\": \"C8P\", \"Concept\": \"SPACE\", \"Negate\": true, \"Count\": 1, \"Correlation\": 0.8}]}}, {\"mode\": \"vega-lite\"});\n",
       "</script>"
      ],
      "text/plain": [
       "alt.Chart(...)"
      ]
     },
     "execution_count": 18,
     "metadata": {},
     "output_type": "execute_result"
    }
   ],
   "source": [
    "alt.Chart(conly).mark_bar(tooltip=True).encode(\n",
    "    x=alt.X('Correlation:N',axis=alt.Axis(title=None)),\n",
    "    y=alt.Y('sum(Count):Q',stack='normalize',axis=alt.Axis(title=None,tickCount=5)),\n",
    "    color=alt.Color('Concept:N'),\n",
    "       #            scale=alt.Scale(\n",
    "       #     domain=['false', 'true'],\n",
    "        #    range=['#000050', '#eeaa00']))\n",
    ").properties(width=250,height=150) \n",
    "#.facet(column='Correlation:N')"
   ]
  },
  {
   "cell_type": "markdown",
   "metadata": {},
   "source": [
    "Concepts by levels of correlation by use of negative statements"
   ]
  },
  {
   "cell_type": "code",
   "execution_count": 45,
   "metadata": {},
   "outputs": [
    {
     "data": {
      "text/html": [
       "\n",
       "<div id=\"altair-viz-9065031c52164c06a6db77c33eb0a8d6\"></div>\n",
       "<script type=\"text/javascript\">\n",
       "  (function(spec, embedOpt){\n",
       "    let outputDiv = document.currentScript.previousElementSibling;\n",
       "    if (outputDiv.id !== \"altair-viz-9065031c52164c06a6db77c33eb0a8d6\") {\n",
       "      outputDiv = document.getElementById(\"altair-viz-9065031c52164c06a6db77c33eb0a8d6\");\n",
       "    }\n",
       "    const paths = {\n",
       "      \"vega\": \"https://cdn.jsdelivr.net/npm//vega@5?noext\",\n",
       "      \"vega-lib\": \"https://cdn.jsdelivr.net/npm//vega-lib?noext\",\n",
       "      \"vega-lite\": \"https://cdn.jsdelivr.net/npm//vega-lite@4.8.1?noext\",\n",
       "      \"vega-embed\": \"https://cdn.jsdelivr.net/npm//vega-embed@6?noext\",\n",
       "    };\n",
       "\n",
       "    function loadScript(lib) {\n",
       "      return new Promise(function(resolve, reject) {\n",
       "        var s = document.createElement('script');\n",
       "        s.src = paths[lib];\n",
       "        s.async = true;\n",
       "        s.onload = () => resolve(paths[lib]);\n",
       "        s.onerror = () => reject(`Error loading script: ${paths[lib]}`);\n",
       "        document.getElementsByTagName(\"head\")[0].appendChild(s);\n",
       "      });\n",
       "    }\n",
       "\n",
       "    function showError(err) {\n",
       "      outputDiv.innerHTML = `<div class=\"error\" style=\"color:red;\">${err}</div>`;\n",
       "      throw err;\n",
       "    }\n",
       "\n",
       "    function displayChart(vegaEmbed) {\n",
       "      vegaEmbed(outputDiv, spec, embedOpt)\n",
       "        .catch(err => showError(`Javascript Error: ${err.message}<br>This usually means there's a typo in your chart specification. See the javascript console for the full traceback.`));\n",
       "    }\n",
       "\n",
       "    if(typeof define === \"function\" && define.amd) {\n",
       "      requirejs.config({paths});\n",
       "      require([\"vega-embed\"], displayChart, err => showError(`Error loading script: ${err.message}`));\n",
       "    } else if (typeof vegaEmbed === \"function\") {\n",
       "      displayChart(vegaEmbed);\n",
       "    } else {\n",
       "      loadScript(\"vega\")\n",
       "        .then(() => loadScript(\"vega-lite\"))\n",
       "        .then(() => loadScript(\"vega-embed\"))\n",
       "        .catch(showError)\n",
       "        .then(() => displayChart(vegaEmbed));\n",
       "    }\n",
       "  })({\"config\": {\"mark\": {\"color\": \"#000050\"}, \"title\": {\"font\": \"Avenir\", \"anchor\": \"end\"}, \"axis\": {\"labelFont\": \"Avenir\", \"titleFont\": \"Avenir\"}, \"header\": {\"labelFont\": \"Avenir\", \"labelFontSize\": 12, \"titleFont\": \"Avenir\"}, \"legend\": {\"labelFont\": \"Avenir\", \"titleFont\": \"Avenir\"}}, \"data\": {\"name\": \"data-9e894c0e57b43fdfc32d9dbf36924eb1\"}, \"facet\": {\"column\": {\"type\": \"nominal\", \"field\": \"Concept\"}}, \"spec\": {\"mark\": \"bar\", \"encoding\": {\"x\": {\"type\": \"ordinal\", \"field\": \"Correlation\"}, \"y\": {\"type\": \"quantitative\", \"aggregate\": \"sum\", \"axis\": {\"tickCount\": 5, \"title\": null}, \"field\": \"Count\", \"scale\": {\"domain\": [0, 120]}}}, \"height\": 100, \"width\": 100}, \"$schema\": \"https://vega.github.io/schema/vega-lite/v4.8.1.json\", \"datasets\": {\"data-9e894c0e57b43fdfc32d9dbf36924eb1\": [{\"Question\": \"C0\", \"Concept\": \"BEHAVIOUR\", \"Negate\": false, \"Count\": 8, \"Correlation\": 0.0}, {\"Question\": \"C0\", \"Concept\": \"BEHAVIOUR\", \"Negate\": true, \"Count\": 9, \"Correlation\": 0.0}, {\"Question\": \"C0\", \"Concept\": \"GRAPHIC\", \"Negate\": false, \"Count\": 23, \"Correlation\": 0.0}, {\"Question\": \"C0\", \"Concept\": \"GRAPHIC\", \"Negate\": true, \"Count\": 14, \"Correlation\": 0.0}, {\"Question\": \"C0\", \"Concept\": \"INFERENCES\", \"Negate\": false, \"Count\": 46, \"Correlation\": 0.0}, {\"Question\": \"C0\", \"Concept\": \"INFERENCES\", \"Negate\": true, \"Count\": 41, \"Correlation\": 0.0}, {\"Question\": \"C0\", \"Concept\": \"RELATION\", \"Negate\": false, \"Count\": 37, \"Correlation\": 0.0}, {\"Question\": \"C0\", \"Concept\": \"RELATION\", \"Negate\": true, \"Count\": 72, \"Correlation\": 0.0}, {\"Question\": \"C0\", \"Concept\": \"SPACE\", \"Negate\": false, \"Count\": 43, \"Correlation\": 0.0}, {\"Question\": \"C0\", \"Concept\": \"SPACE\", \"Negate\": true, \"Count\": 16, \"Correlation\": 0.0}, {\"Question\": \"C2N\", \"Concept\": \"BEHAVIOUR\", \"Negate\": false, \"Count\": 15, \"Correlation\": -0.2}, {\"Question\": \"C2N\", \"Concept\": \"BEHAVIOUR\", \"Negate\": true, \"Count\": 6, \"Correlation\": -0.2}, {\"Question\": \"C2N\", \"Concept\": \"GRAPHIC\", \"Negate\": false, \"Count\": 22, \"Correlation\": -0.2}, {\"Question\": \"C2N\", \"Concept\": \"GRAPHIC\", \"Negate\": true, \"Count\": 16, \"Correlation\": -0.2}, {\"Question\": \"C2N\", \"Concept\": \"INFERENCES\", \"Negate\": false, \"Count\": 49, \"Correlation\": -0.2}, {\"Question\": \"C2N\", \"Concept\": \"INFERENCES\", \"Negate\": true, \"Count\": 30, \"Correlation\": -0.2}, {\"Question\": \"C2N\", \"Concept\": \"RELATION\", \"Negate\": false, \"Count\": 45, \"Correlation\": -0.2}, {\"Question\": \"C2N\", \"Concept\": \"RELATION\", \"Negate\": true, \"Count\": 58, \"Correlation\": -0.2}, {\"Question\": \"C2N\", \"Concept\": \"SPACE\", \"Negate\": false, \"Count\": 41, \"Correlation\": -0.2}, {\"Question\": \"C2N\", \"Concept\": \"SPACE\", \"Negate\": true, \"Count\": 15, \"Correlation\": -0.2}, {\"Question\": \"C2P\", \"Concept\": \"BEHAVIOUR\", \"Negate\": false, \"Count\": 18, \"Correlation\": 0.2}, {\"Question\": \"C2P\", \"Concept\": \"BEHAVIOUR\", \"Negate\": true, \"Count\": 8, \"Correlation\": 0.2}, {\"Question\": \"C2P\", \"Concept\": \"GRAPHIC\", \"Negate\": false, \"Count\": 33, \"Correlation\": 0.2}, {\"Question\": \"C2P\", \"Concept\": \"GRAPHIC\", \"Negate\": true, \"Count\": 8, \"Correlation\": 0.2}, {\"Question\": \"C2P\", \"Concept\": \"INFERENCES\", \"Negate\": false, \"Count\": 56, \"Correlation\": 0.2}, {\"Question\": \"C2P\", \"Concept\": \"INFERENCES\", \"Negate\": true, \"Count\": 30, \"Correlation\": 0.2}, {\"Question\": \"C2P\", \"Concept\": \"RELATION\", \"Negate\": false, \"Count\": 52, \"Correlation\": 0.2}, {\"Question\": \"C2P\", \"Concept\": \"RELATION\", \"Negate\": true, \"Count\": 52, \"Correlation\": 0.2}, {\"Question\": \"C2P\", \"Concept\": \"SPACE\", \"Negate\": false, \"Count\": 51, \"Correlation\": 0.2}, {\"Question\": \"C2P\", \"Concept\": \"SPACE\", \"Negate\": true, \"Count\": 13, \"Correlation\": 0.2}, {\"Question\": \"C4N\", \"Concept\": \"BEHAVIOUR\", \"Negate\": false, \"Count\": 23, \"Correlation\": -0.4}, {\"Question\": \"C4N\", \"Concept\": \"BEHAVIOUR\", \"Negate\": true, \"Count\": 9, \"Correlation\": -0.4}, {\"Question\": \"C4N\", \"Concept\": \"GRAPHIC\", \"Negate\": false, \"Count\": 28, \"Correlation\": -0.4}, {\"Question\": \"C4N\", \"Concept\": \"GRAPHIC\", \"Negate\": true, \"Count\": 10, \"Correlation\": -0.4}, {\"Question\": \"C4N\", \"Concept\": \"INFERENCES\", \"Negate\": false, \"Count\": 63, \"Correlation\": -0.4}, {\"Question\": \"C4N\", \"Concept\": \"INFERENCES\", \"Negate\": true, \"Count\": 25, \"Correlation\": -0.4}, {\"Question\": \"C4N\", \"Concept\": \"RELATION\", \"Negate\": false, \"Count\": 55, \"Correlation\": -0.4}, {\"Question\": \"C4N\", \"Concept\": \"RELATION\", \"Negate\": true, \"Count\": 44, \"Correlation\": -0.4}, {\"Question\": \"C4N\", \"Concept\": \"SPACE\", \"Negate\": false, \"Count\": 47, \"Correlation\": -0.4}, {\"Question\": \"C4N\", \"Concept\": \"SPACE\", \"Negate\": true, \"Count\": 10, \"Correlation\": -0.4}, {\"Question\": \"C4P\", \"Concept\": \"BEHAVIOUR\", \"Negate\": false, \"Count\": 37, \"Correlation\": 0.4}, {\"Question\": \"C4P\", \"Concept\": \"BEHAVIOUR\", \"Negate\": true, \"Count\": 3, \"Correlation\": 0.4}, {\"Question\": \"C4P\", \"Concept\": \"GRAPHIC\", \"Negate\": false, \"Count\": 22, \"Correlation\": 0.4}, {\"Question\": \"C4P\", \"Concept\": \"GRAPHIC\", \"Negate\": true, \"Count\": 10, \"Correlation\": 0.4}, {\"Question\": \"C4P\", \"Concept\": \"INFERENCES\", \"Negate\": false, \"Count\": 74, \"Correlation\": 0.4}, {\"Question\": \"C4P\", \"Concept\": \"INFERENCES\", \"Negate\": true, \"Count\": 21, \"Correlation\": 0.4}, {\"Question\": \"C4P\", \"Concept\": \"RELATION\", \"Negate\": false, \"Count\": 72, \"Correlation\": 0.4}, {\"Question\": \"C4P\", \"Concept\": \"RELATION\", \"Negate\": true, \"Count\": 24, \"Correlation\": 0.4}, {\"Question\": \"C4P\", \"Concept\": \"SPACE\", \"Negate\": false, \"Count\": 43, \"Correlation\": 0.4}, {\"Question\": \"C4P\", \"Concept\": \"SPACE\", \"Negate\": true, \"Count\": 14, \"Correlation\": 0.4}, {\"Question\": \"C6N\", \"Concept\": \"BEHAVIOUR\", \"Negate\": false, \"Count\": 56, \"Correlation\": -0.6}, {\"Question\": \"C6N\", \"Concept\": \"BEHAVIOUR\", \"Negate\": true, \"Count\": 4, \"Correlation\": -0.6}, {\"Question\": \"C6N\", \"Concept\": \"GRAPHIC\", \"Negate\": false, \"Count\": 23, \"Correlation\": -0.6}, {\"Question\": \"C6N\", \"Concept\": \"GRAPHIC\", \"Negate\": true, \"Count\": 6, \"Correlation\": -0.6}, {\"Question\": \"C6N\", \"Concept\": \"INFERENCES\", \"Negate\": false, \"Count\": 90, \"Correlation\": -0.6}, {\"Question\": \"C6N\", \"Concept\": \"INFERENCES\", \"Negate\": true, \"Count\": 11, \"Correlation\": -0.6}, {\"Question\": \"C6N\", \"Concept\": \"RELATION\", \"Negate\": false, \"Count\": 74, \"Correlation\": -0.6}, {\"Question\": \"C6N\", \"Concept\": \"RELATION\", \"Negate\": true, \"Count\": 12, \"Correlation\": -0.6}, {\"Question\": \"C6N\", \"Concept\": \"SPACE\", \"Negate\": false, \"Count\": 44, \"Correlation\": -0.6}, {\"Question\": \"C6N\", \"Concept\": \"SPACE\", \"Negate\": true, \"Count\": 6, \"Correlation\": -0.6}, {\"Question\": \"C6P\", \"Concept\": \"BEHAVIOUR\", \"Negate\": false, \"Count\": 48, \"Correlation\": 0.6}, {\"Question\": \"C6P\", \"Concept\": \"BEHAVIOUR\", \"Negate\": true, \"Count\": 3, \"Correlation\": 0.6}, {\"Question\": \"C6P\", \"Concept\": \"GRAPHIC\", \"Negate\": false, \"Count\": 25, \"Correlation\": 0.6}, {\"Question\": \"C6P\", \"Concept\": \"GRAPHIC\", \"Negate\": true, \"Count\": 6, \"Correlation\": 0.6}, {\"Question\": \"C6P\", \"Concept\": \"INFERENCES\", \"Negate\": false, \"Count\": 95, \"Correlation\": 0.6}, {\"Question\": \"C6P\", \"Concept\": \"INFERENCES\", \"Negate\": true, \"Count\": 6, \"Correlation\": 0.6}, {\"Question\": \"C6P\", \"Concept\": \"RELATION\", \"Negate\": false, \"Count\": 80, \"Correlation\": 0.6}, {\"Question\": \"C6P\", \"Concept\": \"RELATION\", \"Negate\": true, \"Count\": 12, \"Correlation\": 0.6}, {\"Question\": \"C6P\", \"Concept\": \"SPACE\", \"Negate\": false, \"Count\": 51, \"Correlation\": 0.6}, {\"Question\": \"C6P\", \"Concept\": \"SPACE\", \"Negate\": true, \"Count\": 4, \"Correlation\": 0.6}, {\"Question\": \"C8N\", \"Concept\": \"BEHAVIOUR\", \"Negate\": false, \"Count\": 63, \"Correlation\": -0.8}, {\"Question\": \"C8N\", \"Concept\": \"BEHAVIOUR\", \"Negate\": true, \"Count\": 1, \"Correlation\": -0.8}, {\"Question\": \"C8N\", \"Concept\": \"GRAPHIC\", \"Negate\": false, \"Count\": 23, \"Correlation\": -0.8}, {\"Question\": \"C8N\", \"Concept\": \"GRAPHIC\", \"Negate\": true, \"Count\": 3, \"Correlation\": -0.8}, {\"Question\": \"C8N\", \"Concept\": \"INFERENCES\", \"Negate\": false, \"Count\": 99, \"Correlation\": -0.8}, {\"Question\": \"C8N\", \"Concept\": \"INFERENCES\", \"Negate\": true, \"Count\": 3, \"Correlation\": -0.8}, {\"Question\": \"C8N\", \"Concept\": \"RELATION\", \"Negate\": false, \"Count\": 91, \"Correlation\": -0.8}, {\"Question\": \"C8N\", \"Concept\": \"RELATION\", \"Negate\": true, \"Count\": 4, \"Correlation\": -0.8}, {\"Question\": \"C8N\", \"Concept\": \"SPACE\", \"Negate\": false, \"Count\": 35, \"Correlation\": -0.8}, {\"Question\": \"C8N\", \"Concept\": \"SPACE\", \"Negate\": true, \"Count\": 2, \"Correlation\": -0.8}, {\"Question\": \"C8P\", \"Concept\": \"BEHAVIOUR\", \"Negate\": false, \"Count\": 66, \"Correlation\": 0.8}, {\"Question\": \"C8P\", \"Concept\": \"BEHAVIOUR\", \"Negate\": true, \"Count\": 2, \"Correlation\": 0.8}, {\"Question\": \"C8P\", \"Concept\": \"GRAPHIC\", \"Negate\": false, \"Count\": 32, \"Correlation\": 0.8}, {\"Question\": \"C8P\", \"Concept\": \"GRAPHIC\", \"Negate\": true, \"Count\": 1, \"Correlation\": 0.8}, {\"Question\": \"C8P\", \"Concept\": \"INFERENCES\", \"Negate\": false, \"Count\": 90, \"Correlation\": 0.8}, {\"Question\": \"C8P\", \"Concept\": \"INFERENCES\", \"Negate\": true, \"Count\": 2, \"Correlation\": 0.8}, {\"Question\": \"C8P\", \"Concept\": \"RELATION\", \"Negate\": false, \"Count\": 88, \"Correlation\": 0.8}, {\"Question\": \"C8P\", \"Concept\": \"RELATION\", \"Negate\": true, \"Count\": 1, \"Correlation\": 0.8}, {\"Question\": \"C8P\", \"Concept\": \"SPACE\", \"Negate\": false, \"Count\": 34, \"Correlation\": 0.8}, {\"Question\": \"C8P\", \"Concept\": \"SPACE\", \"Negate\": true, \"Count\": 1, \"Correlation\": 0.8}]}}, {\"mode\": \"vega-lite\"});\n",
       "</script>"
      ],
      "text/plain": [
       "alt.FacetChart(...)"
      ]
     },
     "execution_count": 45,
     "metadata": {},
     "output_type": "execute_result"
    }
   ],
   "source": [
    "#display(conly[conly['Concept'] == 'RELATION']['Count'])\n",
    "alt.Chart(conly).mark_bar().encode(\n",
    "    x='Correlation:O',\n",
    "    y=alt.Y('sum(Count):Q',scale=alt.Scale(domain=(0, 120)),axis=alt.Axis(title=None,tickCount=5))\n",
    "    \n",
    ").properties(width=100,height=100).facet(column='Concept:N') # ,row='Negate:N')"
   ]
  },
  {
   "cell_type": "code",
   "execution_count": 46,
   "metadata": {},
   "outputs": [],
   "source": [
    "tonly_sum = tonly.groupby(['Question','Trait','Negate','Correlation'])['Count'].sum()\n",
    "tprop = pd.DataFrame(tonly_sum / tonly_sum.groupby(level=1).sum()).reset_index()"
   ]
  },
  {
   "cell_type": "code",
   "execution_count": 117,
   "metadata": {},
   "outputs": [
    {
     "data": {
      "text/html": [
       "\n",
       "<div id=\"altair-viz-b82f6ab7d10f470f8f1dbfb334516732\"></div>\n",
       "<script type=\"text/javascript\">\n",
       "  (function(spec, embedOpt){\n",
       "    let outputDiv = document.currentScript.previousElementSibling;\n",
       "    if (outputDiv.id !== \"altair-viz-b82f6ab7d10f470f8f1dbfb334516732\") {\n",
       "      outputDiv = document.getElementById(\"altair-viz-b82f6ab7d10f470f8f1dbfb334516732\");\n",
       "    }\n",
       "    const paths = {\n",
       "      \"vega\": \"https://cdn.jsdelivr.net/npm//vega@5?noext\",\n",
       "      \"vega-lib\": \"https://cdn.jsdelivr.net/npm//vega-lib?noext\",\n",
       "      \"vega-lite\": \"https://cdn.jsdelivr.net/npm//vega-lite@4.8.1?noext\",\n",
       "      \"vega-embed\": \"https://cdn.jsdelivr.net/npm//vega-embed@6?noext\",\n",
       "    };\n",
       "\n",
       "    function loadScript(lib) {\n",
       "      return new Promise(function(resolve, reject) {\n",
       "        var s = document.createElement('script');\n",
       "        s.src = paths[lib];\n",
       "        s.async = true;\n",
       "        s.onload = () => resolve(paths[lib]);\n",
       "        s.onerror = () => reject(`Error loading script: ${paths[lib]}`);\n",
       "        document.getElementsByTagName(\"head\")[0].appendChild(s);\n",
       "      });\n",
       "    }\n",
       "\n",
       "    function showError(err) {\n",
       "      outputDiv.innerHTML = `<div class=\"error\" style=\"color:red;\">${err}</div>`;\n",
       "      throw err;\n",
       "    }\n",
       "\n",
       "    function displayChart(vegaEmbed) {\n",
       "      vegaEmbed(outputDiv, spec, embedOpt)\n",
       "        .catch(err => showError(`Javascript Error: ${err.message}<br>This usually means there's a typo in your chart specification. See the javascript console for the full traceback.`));\n",
       "    }\n",
       "\n",
       "    if(typeof define === \"function\" && define.amd) {\n",
       "      requirejs.config({paths});\n",
       "      require([\"vega-embed\"], displayChart, err => showError(`Error loading script: ${err.message}`));\n",
       "    } else if (typeof vegaEmbed === \"function\") {\n",
       "      displayChart(vegaEmbed);\n",
       "    } else {\n",
       "      loadScript(\"vega\")\n",
       "        .then(() => loadScript(\"vega-lite\"))\n",
       "        .then(() => loadScript(\"vega-embed\"))\n",
       "        .catch(showError)\n",
       "        .then(() => displayChart(vegaEmbed));\n",
       "    }\n",
       "  })({\"config\": {\"mark\": {\"color\": \"#000050\"}, \"title\": {\"font\": \"Avenir\", \"anchor\": \"end\"}, \"axis\": {\"labelFont\": \"Avenir\", \"titleFont\": \"Avenir\"}, \"header\": {\"labelFont\": \"Avenir\", \"labelFontSize\": 12, \"titleFont\": \"Avenir\"}, \"legend\": {\"labelFont\": \"Avenir\", \"titleFont\": \"Avenir\"}}, \"data\": {\"name\": \"data-71abe88252902e54616bfb9ece80791a\"}, \"facet\": {\"row\": {\"type\": \"nominal\", \"field\": \"Trait\"}}, \"spec\": {\"mark\": \"bar\", \"encoding\": {\"color\": {\"type\": \"nominal\", \"field\": \"Negate\", \"legend\": null, \"scale\": {\"domain\": [\"false\", \"true\"], \"range\": [\"#000050\", \"#eeaa00\"]}}, \"x\": {\"type\": \"ordinal\", \"axis\": {\"title\": null}, \"field\": \"Correlation\"}, \"y\": {\"type\": \"quantitative\", \"aggregate\": \"sum\", \"axis\": {\"tickCount\": 5, \"title\": null}, \"field\": \"Count\", \"scale\": {\"domain\": [0, 120]}}}, \"height\": 80, \"width\": 100}, \"resolve\": {\"axis\": {\"x\": \"independent\"}}, \"spacing\": 5, \"$schema\": \"https://vega.github.io/schema/vega-lite/v4.8.1.json\", \"datasets\": {\"data-71abe88252902e54616bfb9ece80791a\": [{\"Question\": \"C0\", \"Trait\": \"DIRECTION\", \"Negate\": false, \"Count\": 4, \"Correlation\": 0.0}, {\"Question\": \"C0\", \"Trait\": \"DIRECTION\", \"Negate\": true, \"Count\": 1, \"Correlation\": 0.0}, {\"Question\": \"C0\", \"Trait\": \"DISCERNIBILITY\", \"Negate\": false, \"Count\": 9, \"Correlation\": 0.0}, {\"Question\": \"C0\", \"Trait\": \"DISCERNIBILITY\", \"Negate\": true, \"Count\": 22, \"Correlation\": 0.0}, {\"Question\": \"C0\", \"Trait\": \"MAGNITUDE\", \"Negate\": false, \"Count\": 41, \"Correlation\": 0.0}, {\"Question\": \"C0\", \"Trait\": \"MAGNITUDE\", \"Negate\": true, \"Count\": 11, \"Correlation\": 0.0}, {\"Question\": \"C0\", \"Trait\": \"POSITION\", \"Negate\": false, \"Count\": 48, \"Correlation\": 0.0}, {\"Question\": \"C0\", \"Trait\": \"POSITION\", \"Negate\": true, \"Count\": 19, \"Correlation\": 0.0}, {\"Question\": \"C0\", \"Trait\": \"REGULARITY\", \"Negate\": false, \"Count\": 9, \"Correlation\": 0.0}, {\"Question\": \"C0\", \"Trait\": \"REGULARITY\", \"Negate\": true, \"Count\": 1, \"Correlation\": 0.0}, {\"Question\": \"C2N\", \"Trait\": \"DIRECTION\", \"Negate\": false, \"Count\": 18, \"Correlation\": -0.2}, {\"Question\": \"C2N\", \"Trait\": \"DIRECTION\", \"Negate\": true, \"Count\": 2, \"Correlation\": -0.2}, {\"Question\": \"C2N\", \"Trait\": \"DISCERNIBILITY\", \"Negate\": false, \"Count\": 8, \"Correlation\": -0.2}, {\"Question\": \"C2N\", \"Trait\": \"DISCERNIBILITY\", \"Negate\": true, \"Count\": 24, \"Correlation\": -0.2}, {\"Question\": \"C2N\", \"Trait\": \"MAGNITUDE\", \"Negate\": false, \"Count\": 46, \"Correlation\": -0.2}, {\"Question\": \"C2N\", \"Trait\": \"MAGNITUDE\", \"Negate\": true, \"Count\": 13, \"Correlation\": -0.2}, {\"Question\": \"C2N\", \"Trait\": \"POSITION\", \"Negate\": false, \"Count\": 43, \"Correlation\": -0.2}, {\"Question\": \"C2N\", \"Trait\": \"POSITION\", \"Negate\": true, \"Count\": 19, \"Correlation\": -0.2}, {\"Question\": \"C2N\", \"Trait\": \"REGULARITY\", \"Negate\": false, \"Count\": 15, \"Correlation\": -0.2}, {\"Question\": \"C2N\", \"Trait\": \"REGULARITY\", \"Negate\": true, \"Count\": 8, \"Correlation\": -0.2}, {\"Question\": \"C2P\", \"Trait\": \"DIRECTION\", \"Negate\": false, \"Count\": 16, \"Correlation\": 0.2}, {\"Question\": \"C2P\", \"Trait\": \"DIRECTION\", \"Negate\": true, \"Count\": 1, \"Correlation\": 0.2}, {\"Question\": \"C2P\", \"Trait\": \"DISCERNIBILITY\", \"Negate\": false, \"Count\": 14, \"Correlation\": 0.2}, {\"Question\": \"C2P\", \"Trait\": \"DISCERNIBILITY\", \"Negate\": true, \"Count\": 19, \"Correlation\": 0.2}, {\"Question\": \"C2P\", \"Trait\": \"MAGNITUDE\", \"Negate\": false, \"Count\": 58, \"Correlation\": 0.2}, {\"Question\": \"C2P\", \"Trait\": \"MAGNITUDE\", \"Negate\": true, \"Count\": 12, \"Correlation\": 0.2}, {\"Question\": \"C2P\", \"Trait\": \"POSITION\", \"Negate\": false, \"Count\": 48, \"Correlation\": 0.2}, {\"Question\": \"C2P\", \"Trait\": \"POSITION\", \"Negate\": true, \"Count\": 11, \"Correlation\": 0.2}, {\"Question\": \"C2P\", \"Trait\": \"REGULARITY\", \"Negate\": false, \"Count\": 9, \"Correlation\": 0.2}, {\"Question\": \"C2P\", \"Trait\": \"REGULARITY\", \"Negate\": true, \"Count\": 9, \"Correlation\": 0.2}, {\"Question\": \"C4N\", \"Trait\": \"DIRECTION\", \"Negate\": false, \"Count\": 23, \"Correlation\": -0.4}, {\"Question\": \"C4N\", \"Trait\": \"DIRECTION\", \"Negate\": true, \"Count\": 4, \"Correlation\": -0.4}, {\"Question\": \"C4N\", \"Trait\": \"DISCERNIBILITY\", \"Negate\": false, \"Count\": 9, \"Correlation\": -0.4}, {\"Question\": \"C4N\", \"Trait\": \"DISCERNIBILITY\", \"Negate\": true, \"Count\": 21, \"Correlation\": -0.4}, {\"Question\": \"C4N\", \"Trait\": \"MAGNITUDE\", \"Negate\": false, \"Count\": 53, \"Correlation\": -0.4}, {\"Question\": \"C4N\", \"Trait\": \"MAGNITUDE\", \"Negate\": true, \"Count\": 13, \"Correlation\": -0.4}, {\"Question\": \"C4N\", \"Trait\": \"POSITION\", \"Negate\": false, \"Count\": 48, \"Correlation\": -0.4}, {\"Question\": \"C4N\", \"Trait\": \"POSITION\", \"Negate\": true, \"Count\": 12, \"Correlation\": -0.4}, {\"Question\": \"C4N\", \"Trait\": \"REGULARITY\", \"Negate\": false, \"Count\": 14, \"Correlation\": -0.4}, {\"Question\": \"C4N\", \"Trait\": \"REGULARITY\", \"Negate\": true, \"Count\": 6, \"Correlation\": -0.4}, {\"Question\": \"C4P\", \"Trait\": \"DIRECTION\", \"Negate\": false, \"Count\": 35, \"Correlation\": 0.4}, {\"Question\": \"C4P\", \"Trait\": \"DIRECTION\", \"Negate\": true, \"Count\": 3, \"Correlation\": 0.4}, {\"Question\": \"C4P\", \"Trait\": \"DISCERNIBILITY\", \"Negate\": false, \"Count\": 13, \"Correlation\": 0.4}, {\"Question\": \"C4P\", \"Trait\": \"DISCERNIBILITY\", \"Negate\": true, \"Count\": 12, \"Correlation\": 0.4}, {\"Question\": \"C4P\", \"Trait\": \"MAGNITUDE\", \"Negate\": false, \"Count\": 65, \"Correlation\": 0.4}, {\"Question\": \"C4P\", \"Trait\": \"MAGNITUDE\", \"Negate\": true, \"Count\": 12, \"Correlation\": 0.4}, {\"Question\": \"C4P\", \"Trait\": \"POSITION\", \"Negate\": false, \"Count\": 51, \"Correlation\": 0.4}, {\"Question\": \"C4P\", \"Trait\": \"POSITION\", \"Negate\": true, \"Count\": 13, \"Correlation\": 0.4}, {\"Question\": \"C4P\", \"Trait\": \"REGULARITY\", \"Negate\": false, \"Count\": 26, \"Correlation\": 0.4}, {\"Question\": \"C4P\", \"Trait\": \"REGULARITY\", \"Negate\": true, \"Count\": 7, \"Correlation\": 0.4}, {\"Question\": \"C6N\", \"Trait\": \"DIRECTION\", \"Negate\": false, \"Count\": 59, \"Correlation\": -0.6}, {\"Question\": \"C6N\", \"Trait\": \"DIRECTION\", \"Negate\": true, \"Count\": 2, \"Correlation\": -0.6}, {\"Question\": \"C6N\", \"Trait\": \"DISCERNIBILITY\", \"Negate\": false, \"Count\": 11, \"Correlation\": -0.6}, {\"Question\": \"C6N\", \"Trait\": \"DISCERNIBILITY\", \"Negate\": true, \"Count\": 3, \"Correlation\": -0.6}, {\"Question\": \"C6N\", \"Trait\": \"MAGNITUDE\", \"Negate\": false, \"Count\": 48, \"Correlation\": -0.6}, {\"Question\": \"C6N\", \"Trait\": \"MAGNITUDE\", \"Negate\": true, \"Count\": 11, \"Correlation\": -0.6}, {\"Question\": \"C6N\", \"Trait\": \"POSITION\", \"Negate\": false, \"Count\": 42, \"Correlation\": -0.6}, {\"Question\": \"C6N\", \"Trait\": \"POSITION\", \"Negate\": true, \"Count\": 9, \"Correlation\": -0.6}, {\"Question\": \"C6N\", \"Trait\": \"REGULARITY\", \"Negate\": false, \"Count\": 22, \"Correlation\": -0.6}, {\"Question\": \"C6N\", \"Trait\": \"REGULARITY\", \"Negate\": true, \"Count\": 3, \"Correlation\": -0.6}, {\"Question\": \"C6P\", \"Trait\": \"DIRECTION\", \"Negate\": false, \"Count\": 49, \"Correlation\": 0.6}, {\"Question\": \"C6P\", \"Trait\": \"DIRECTION\", \"Negate\": true, \"Count\": 5, \"Correlation\": 0.6}, {\"Question\": \"C6P\", \"Trait\": \"DISCERNIBILITY\", \"Negate\": false, \"Count\": 12, \"Correlation\": 0.6}, {\"Question\": \"C6P\", \"Trait\": \"DISCERNIBILITY\", \"Negate\": true, \"Count\": 3, \"Correlation\": 0.6}, {\"Question\": \"C6P\", \"Trait\": \"MAGNITUDE\", \"Negate\": false, \"Count\": 62, \"Correlation\": 0.6}, {\"Question\": \"C6P\", \"Trait\": \"MAGNITUDE\", \"Negate\": true, \"Count\": 6, \"Correlation\": 0.6}, {\"Question\": \"C6P\", \"Trait\": \"POSITION\", \"Negate\": false, \"Count\": 47, \"Correlation\": 0.6}, {\"Question\": \"C6P\", \"Trait\": \"POSITION\", \"Negate\": true, \"Count\": 3, \"Correlation\": 0.6}, {\"Question\": \"C6P\", \"Trait\": \"REGULARITY\", \"Negate\": false, \"Count\": 37, \"Correlation\": 0.6}, {\"Question\": \"C6P\", \"Trait\": \"REGULARITY\", \"Negate\": true, \"Count\": 5, \"Correlation\": 0.6}, {\"Question\": \"C8N\", \"Trait\": \"DIRECTION\", \"Negate\": false, \"Count\": 69, \"Correlation\": -0.8}, {\"Question\": \"C8N\", \"Trait\": \"DISCERNIBILITY\", \"Negate\": false, \"Count\": 13, \"Correlation\": -0.8}, {\"Question\": \"C8N\", \"Trait\": \"DISCERNIBILITY\", \"Negate\": true, \"Count\": 2, \"Correlation\": -0.8}, {\"Question\": \"C8N\", \"Trait\": \"MAGNITUDE\", \"Negate\": false, \"Count\": 40, \"Correlation\": -0.8}, {\"Question\": \"C8N\", \"Trait\": \"MAGNITUDE\", \"Negate\": true, \"Count\": 2, \"Correlation\": -0.8}, {\"Question\": \"C8N\", \"Trait\": \"POSITION\", \"Negate\": false, \"Count\": 56, \"Correlation\": -0.8}, {\"Question\": \"C8N\", \"Trait\": \"POSITION\", \"Negate\": true, \"Count\": 3, \"Correlation\": -0.8}, {\"Question\": \"C8N\", \"Trait\": \"REGULARITY\", \"Negate\": false, \"Count\": 28, \"Correlation\": -0.8}, {\"Question\": \"C8N\", \"Trait\": \"REGULARITY\", \"Negate\": true, \"Count\": 1, \"Correlation\": -0.8}, {\"Question\": \"C8P\", \"Trait\": \"DIRECTION\", \"Negate\": false, \"Count\": 47, \"Correlation\": 0.8}, {\"Question\": \"C8P\", \"Trait\": \"DIRECTION\", \"Negate\": true, \"Count\": 1, \"Correlation\": 0.8}, {\"Question\": \"C8P\", \"Trait\": \"DISCERNIBILITY\", \"Negate\": false, \"Count\": 15, \"Correlation\": 0.8}, {\"Question\": \"C8P\", \"Trait\": \"MAGNITUDE\", \"Negate\": false, \"Count\": 52, \"Correlation\": 0.8}, {\"Question\": \"C8P\", \"Trait\": \"MAGNITUDE\", \"Negate\": true, \"Count\": 1, \"Correlation\": 0.8}, {\"Question\": \"C8P\", \"Trait\": \"POSITION\", \"Negate\": false, \"Count\": 45, \"Correlation\": 0.8}, {\"Question\": \"C8P\", \"Trait\": \"REGULARITY\", \"Negate\": false, \"Count\": 43, \"Correlation\": 0.8}, {\"Question\": \"C8P\", \"Trait\": \"REGULARITY\", \"Negate\": true, \"Count\": 1, \"Correlation\": 0.8}]}}, {\"mode\": \"vega-lite\"});\n",
       "</script>"
      ],
      "text/plain": [
       "alt.FacetChart(...)"
      ]
     },
     "execution_count": 117,
     "metadata": {},
     "output_type": "execute_result"
    }
   ],
   "source": [
    "t_bars = alt.Chart(tonly).mark_bar().encode(\n",
    "    x=alt.X('Correlation:O',axis=alt.Axis(title=None)),\n",
    "    y=alt.Y('sum(Count):Q',scale=alt.Scale(domain=(0, 120)),axis=alt.Axis(title=None,tickCount=5)),\n",
    "    color=alt.Color('Negate',legend=None,\n",
    "                   scale=alt.Scale(\n",
    "            domain=['false', 'true'],\n",
    "            range=['#000050', '#eeaa00']))\n",
    ").properties(width=100,height=80).facet(row='Trait:N',spacing=5).resolve_axis(x='independent')\n",
    "t_bars"
   ]
  },
  {
   "cell_type": "code",
   "execution_count": 50,
   "metadata": {},
   "outputs": [
    {
     "data": {
      "text/html": [
       "\n",
       "<div id=\"altair-viz-d2cb3a3ef7af4418b0e54fc093866120\"></div>\n",
       "<script type=\"text/javascript\">\n",
       "  (function(spec, embedOpt){\n",
       "    let outputDiv = document.currentScript.previousElementSibling;\n",
       "    if (outputDiv.id !== \"altair-viz-d2cb3a3ef7af4418b0e54fc093866120\") {\n",
       "      outputDiv = document.getElementById(\"altair-viz-d2cb3a3ef7af4418b0e54fc093866120\");\n",
       "    }\n",
       "    const paths = {\n",
       "      \"vega\": \"https://cdn.jsdelivr.net/npm//vega@5?noext\",\n",
       "      \"vega-lib\": \"https://cdn.jsdelivr.net/npm//vega-lib?noext\",\n",
       "      \"vega-lite\": \"https://cdn.jsdelivr.net/npm//vega-lite@4.8.1?noext\",\n",
       "      \"vega-embed\": \"https://cdn.jsdelivr.net/npm//vega-embed@6?noext\",\n",
       "    };\n",
       "\n",
       "    function loadScript(lib) {\n",
       "      return new Promise(function(resolve, reject) {\n",
       "        var s = document.createElement('script');\n",
       "        s.src = paths[lib];\n",
       "        s.async = true;\n",
       "        s.onload = () => resolve(paths[lib]);\n",
       "        s.onerror = () => reject(`Error loading script: ${paths[lib]}`);\n",
       "        document.getElementsByTagName(\"head\")[0].appendChild(s);\n",
       "      });\n",
       "    }\n",
       "\n",
       "    function showError(err) {\n",
       "      outputDiv.innerHTML = `<div class=\"error\" style=\"color:red;\">${err}</div>`;\n",
       "      throw err;\n",
       "    }\n",
       "\n",
       "    function displayChart(vegaEmbed) {\n",
       "      vegaEmbed(outputDiv, spec, embedOpt)\n",
       "        .catch(err => showError(`Javascript Error: ${err.message}<br>This usually means there's a typo in your chart specification. See the javascript console for the full traceback.`));\n",
       "    }\n",
       "\n",
       "    if(typeof define === \"function\" && define.amd) {\n",
       "      requirejs.config({paths});\n",
       "      require([\"vega-embed\"], displayChart, err => showError(`Error loading script: ${err.message}`));\n",
       "    } else if (typeof vegaEmbed === \"function\") {\n",
       "      displayChart(vegaEmbed);\n",
       "    } else {\n",
       "      loadScript(\"vega\")\n",
       "        .then(() => loadScript(\"vega-lite\"))\n",
       "        .then(() => loadScript(\"vega-embed\"))\n",
       "        .catch(showError)\n",
       "        .then(() => displayChart(vegaEmbed));\n",
       "    }\n",
       "  })({\"config\": {\"mark\": {\"color\": \"#000050\"}, \"title\": {\"font\": \"Avenir\", \"anchor\": \"end\"}, \"axis\": {\"labelFont\": \"Avenir\", \"titleFont\": \"Avenir\"}, \"header\": {\"labelFont\": \"Avenir\", \"labelFontSize\": 12, \"titleFont\": \"Avenir\", \"labelAlign\": \"center\", \"labelAnchor\": \"middle\", \"labelBaseline\": \"middle\", \"labelOrient\": \"top\"}, \"legend\": {\"labelFont\": \"Avenir\", \"titleFont\": \"Avenir\"}}, \"data\": {\"name\": \"data-b99d50a3624c2abc4e5a2858a45bf38d\"}, \"facet\": {\"row\": {\"type\": \"nominal\", \"field\": \"Trait\", \"title\": null}}, \"spec\": {\"mark\": \"bar\", \"encoding\": {\"color\": {\"type\": \"nominal\", \"field\": \"Negate\", \"legend\": null, \"scale\": {\"domain\": [\"false\", \"true\"], \"range\": [\"#000050\", \"#eeaa00\"]}}, \"x\": {\"type\": \"ordinal\", \"axis\": {\"title\": null}, \"field\": \"Correlation\"}, \"y\": {\"type\": \"quantitative\", \"aggregate\": \"sum\", \"axis\": {\"tickCount\": 5, \"title\": null}, \"field\": \"Count\", \"scale\": {\"domain\": [0, 0.3]}}}, \"height\": 80, \"title\": \"test\", \"width\": 100}, \"resolve\": {\"axis\": {\"x\": \"independent\"}}, \"spacing\": 5, \"$schema\": \"https://vega.github.io/schema/vega-lite/v4.8.1.json\", \"datasets\": {\"data-b99d50a3624c2abc4e5a2858a45bf38d\": [{\"Question\": \"C0\", \"Trait\": \"DIRECTION\", \"Negate\": false, \"Correlation\": 0.0, \"Count\": 0.011799410029498525}, {\"Question\": \"C0\", \"Trait\": \"DIRECTION\", \"Negate\": true, \"Correlation\": 0.0, \"Count\": 0.0029498525073746312}, {\"Question\": \"C0\", \"Trait\": \"DISCERNIBILITY\", \"Negate\": false, \"Correlation\": 0.0, \"Count\": 0.04285714285714286}, {\"Question\": \"C0\", \"Trait\": \"DISCERNIBILITY\", \"Negate\": true, \"Correlation\": 0.0, \"Count\": 0.10476190476190476}, {\"Question\": \"C0\", \"Trait\": \"MAGNITUDE\", \"Negate\": false, \"Correlation\": 0.0, \"Count\": 0.07509157509157509}, {\"Question\": \"C0\", \"Trait\": \"MAGNITUDE\", \"Negate\": true, \"Correlation\": 0.0, \"Count\": 0.020146520146520148}, {\"Question\": \"C0\", \"Trait\": \"POSITION\", \"Negate\": false, \"Correlation\": 0.0, \"Count\": 0.09284332688588008}, {\"Question\": \"C0\", \"Trait\": \"POSITION\", \"Negate\": true, \"Correlation\": 0.0, \"Count\": 0.0367504835589942}, {\"Question\": \"C0\", \"Trait\": \"REGULARITY\", \"Negate\": false, \"Correlation\": 0.0, \"Count\": 0.036885245901639344}, {\"Question\": \"C0\", \"Trait\": \"REGULARITY\", \"Negate\": true, \"Correlation\": 0.0, \"Count\": 0.004098360655737705}, {\"Question\": \"C2N\", \"Trait\": \"DIRECTION\", \"Negate\": false, \"Correlation\": -0.2, \"Count\": 0.05309734513274336}, {\"Question\": \"C2N\", \"Trait\": \"DIRECTION\", \"Negate\": true, \"Correlation\": -0.2, \"Count\": 0.0058997050147492625}, {\"Question\": \"C2N\", \"Trait\": \"DISCERNIBILITY\", \"Negate\": false, \"Correlation\": -0.2, \"Count\": 0.0380952380952381}, {\"Question\": \"C2N\", \"Trait\": \"DISCERNIBILITY\", \"Negate\": true, \"Correlation\": -0.2, \"Count\": 0.11428571428571428}, {\"Question\": \"C2N\", \"Trait\": \"MAGNITUDE\", \"Negate\": false, \"Correlation\": -0.2, \"Count\": 0.08424908424908426}, {\"Question\": \"C2N\", \"Trait\": \"MAGNITUDE\", \"Negate\": true, \"Correlation\": -0.2, \"Count\": 0.023809523809523808}, {\"Question\": \"C2N\", \"Trait\": \"POSITION\", \"Negate\": false, \"Correlation\": -0.2, \"Count\": 0.08317214700193423}, {\"Question\": \"C2N\", \"Trait\": \"POSITION\", \"Negate\": true, \"Correlation\": -0.2, \"Count\": 0.0367504835589942}, {\"Question\": \"C2N\", \"Trait\": \"REGULARITY\", \"Negate\": false, \"Correlation\": -0.2, \"Count\": 0.06147540983606557}, {\"Question\": \"C2N\", \"Trait\": \"REGULARITY\", \"Negate\": true, \"Correlation\": -0.2, \"Count\": 0.03278688524590164}, {\"Question\": \"C2P\", \"Trait\": \"DIRECTION\", \"Negate\": false, \"Correlation\": 0.2, \"Count\": 0.0471976401179941}, {\"Question\": \"C2P\", \"Trait\": \"DIRECTION\", \"Negate\": true, \"Correlation\": 0.2, \"Count\": 0.0029498525073746312}, {\"Question\": \"C2P\", \"Trait\": \"DISCERNIBILITY\", \"Negate\": false, \"Correlation\": 0.2, \"Count\": 0.06666666666666667}, {\"Question\": \"C2P\", \"Trait\": \"DISCERNIBILITY\", \"Negate\": true, \"Correlation\": 0.2, \"Count\": 0.09047619047619047}, {\"Question\": \"C2P\", \"Trait\": \"MAGNITUDE\", \"Negate\": false, \"Correlation\": 0.2, \"Count\": 0.10622710622710622}, {\"Question\": \"C2P\", \"Trait\": \"MAGNITUDE\", \"Negate\": true, \"Correlation\": 0.2, \"Count\": 0.02197802197802198}, {\"Question\": \"C2P\", \"Trait\": \"POSITION\", \"Negate\": false, \"Correlation\": 0.2, \"Count\": 0.09284332688588008}, {\"Question\": \"C2P\", \"Trait\": \"POSITION\", \"Negate\": true, \"Correlation\": 0.2, \"Count\": 0.02127659574468085}, {\"Question\": \"C2P\", \"Trait\": \"REGULARITY\", \"Negate\": false, \"Correlation\": 0.2, \"Count\": 0.036885245901639344}, {\"Question\": \"C2P\", \"Trait\": \"REGULARITY\", \"Negate\": true, \"Correlation\": 0.2, \"Count\": 0.036885245901639344}, {\"Question\": \"C4N\", \"Trait\": \"DIRECTION\", \"Negate\": false, \"Correlation\": -0.4, \"Count\": 0.06784660766961652}, {\"Question\": \"C4N\", \"Trait\": \"DIRECTION\", \"Negate\": true, \"Correlation\": -0.4, \"Count\": 0.011799410029498525}, {\"Question\": \"C4N\", \"Trait\": \"DISCERNIBILITY\", \"Negate\": false, \"Correlation\": -0.4, \"Count\": 0.04285714285714286}, {\"Question\": \"C4N\", \"Trait\": \"DISCERNIBILITY\", \"Negate\": true, \"Correlation\": -0.4, \"Count\": 0.1}, {\"Question\": \"C4N\", \"Trait\": \"MAGNITUDE\", \"Negate\": false, \"Correlation\": -0.4, \"Count\": 0.09706959706959707}, {\"Question\": \"C4N\", \"Trait\": \"MAGNITUDE\", \"Negate\": true, \"Correlation\": -0.4, \"Count\": 0.023809523809523808}, {\"Question\": \"C4N\", \"Trait\": \"POSITION\", \"Negate\": false, \"Correlation\": -0.4, \"Count\": 0.09284332688588008}, {\"Question\": \"C4N\", \"Trait\": \"POSITION\", \"Negate\": true, \"Correlation\": -0.4, \"Count\": 0.02321083172147002}, {\"Question\": \"C4N\", \"Trait\": \"REGULARITY\", \"Negate\": false, \"Correlation\": -0.4, \"Count\": 0.05737704918032787}, {\"Question\": \"C4N\", \"Trait\": \"REGULARITY\", \"Negate\": true, \"Correlation\": -0.4, \"Count\": 0.02459016393442623}, {\"Question\": \"C4P\", \"Trait\": \"DIRECTION\", \"Negate\": false, \"Correlation\": 0.4, \"Count\": 0.10324483775811209}, {\"Question\": \"C4P\", \"Trait\": \"DIRECTION\", \"Negate\": true, \"Correlation\": 0.4, \"Count\": 0.008849557522123894}, {\"Question\": \"C4P\", \"Trait\": \"DISCERNIBILITY\", \"Negate\": false, \"Correlation\": 0.4, \"Count\": 0.06190476190476191}, {\"Question\": \"C4P\", \"Trait\": \"DISCERNIBILITY\", \"Negate\": true, \"Correlation\": 0.4, \"Count\": 0.05714285714285714}, {\"Question\": \"C4P\", \"Trait\": \"MAGNITUDE\", \"Negate\": false, \"Correlation\": 0.4, \"Count\": 0.11904761904761904}, {\"Question\": \"C4P\", \"Trait\": \"MAGNITUDE\", \"Negate\": true, \"Correlation\": 0.4, \"Count\": 0.02197802197802198}, {\"Question\": \"C4P\", \"Trait\": \"POSITION\", \"Negate\": false, \"Correlation\": 0.4, \"Count\": 0.09864603481624758}, {\"Question\": \"C4P\", \"Trait\": \"POSITION\", \"Negate\": true, \"Correlation\": 0.4, \"Count\": 0.025145067698259187}, {\"Question\": \"C4P\", \"Trait\": \"REGULARITY\", \"Negate\": false, \"Correlation\": 0.4, \"Count\": 0.10655737704918032}, {\"Question\": \"C4P\", \"Trait\": \"REGULARITY\", \"Negate\": true, \"Correlation\": 0.4, \"Count\": 0.028688524590163935}, {\"Question\": \"C6N\", \"Trait\": \"DIRECTION\", \"Negate\": false, \"Correlation\": -0.6, \"Count\": 0.17404129793510326}, {\"Question\": \"C6N\", \"Trait\": \"DIRECTION\", \"Negate\": true, \"Correlation\": -0.6, \"Count\": 0.0058997050147492625}, {\"Question\": \"C6N\", \"Trait\": \"DISCERNIBILITY\", \"Negate\": false, \"Correlation\": -0.6, \"Count\": 0.05238095238095238}, {\"Question\": \"C6N\", \"Trait\": \"DISCERNIBILITY\", \"Negate\": true, \"Correlation\": -0.6, \"Count\": 0.014285714285714285}, {\"Question\": \"C6N\", \"Trait\": \"MAGNITUDE\", \"Negate\": false, \"Correlation\": -0.6, \"Count\": 0.08791208791208792}, {\"Question\": \"C6N\", \"Trait\": \"MAGNITUDE\", \"Negate\": true, \"Correlation\": -0.6, \"Count\": 0.020146520146520148}, {\"Question\": \"C6N\", \"Trait\": \"POSITION\", \"Negate\": false, \"Correlation\": -0.6, \"Count\": 0.08123791102514506}, {\"Question\": \"C6N\", \"Trait\": \"POSITION\", \"Negate\": true, \"Correlation\": -0.6, \"Count\": 0.017408123791102514}, {\"Question\": \"C6N\", \"Trait\": \"REGULARITY\", \"Negate\": false, \"Correlation\": -0.6, \"Count\": 0.09016393442622951}, {\"Question\": \"C6N\", \"Trait\": \"REGULARITY\", \"Negate\": true, \"Correlation\": -0.6, \"Count\": 0.012295081967213115}, {\"Question\": \"C6P\", \"Trait\": \"DIRECTION\", \"Negate\": false, \"Correlation\": 0.6, \"Count\": 0.14454277286135694}, {\"Question\": \"C6P\", \"Trait\": \"DIRECTION\", \"Negate\": true, \"Correlation\": 0.6, \"Count\": 0.014749262536873156}, {\"Question\": \"C6P\", \"Trait\": \"DISCERNIBILITY\", \"Negate\": false, \"Correlation\": 0.6, \"Count\": 0.05714285714285714}, {\"Question\": \"C6P\", \"Trait\": \"DISCERNIBILITY\", \"Negate\": true, \"Correlation\": 0.6, \"Count\": 0.014285714285714285}, {\"Question\": \"C6P\", \"Trait\": \"MAGNITUDE\", \"Negate\": false, \"Correlation\": 0.6, \"Count\": 0.11355311355311355}, {\"Question\": \"C6P\", \"Trait\": \"MAGNITUDE\", \"Negate\": true, \"Correlation\": 0.6, \"Count\": 0.01098901098901099}, {\"Question\": \"C6P\", \"Trait\": \"POSITION\", \"Negate\": false, \"Correlation\": 0.6, \"Count\": 0.09090909090909091}, {\"Question\": \"C6P\", \"Trait\": \"POSITION\", \"Negate\": true, \"Correlation\": 0.6, \"Count\": 0.005802707930367505}, {\"Question\": \"C6P\", \"Trait\": \"REGULARITY\", \"Negate\": false, \"Correlation\": 0.6, \"Count\": 0.15163934426229508}, {\"Question\": \"C6P\", \"Trait\": \"REGULARITY\", \"Negate\": true, \"Correlation\": 0.6, \"Count\": 0.020491803278688523}, {\"Question\": \"C8N\", \"Trait\": \"DIRECTION\", \"Negate\": false, \"Correlation\": -0.8, \"Count\": 0.20353982300884957}, {\"Question\": \"C8N\", \"Trait\": \"DISCERNIBILITY\", \"Negate\": false, \"Correlation\": -0.8, \"Count\": 0.06190476190476191}, {\"Question\": \"C8N\", \"Trait\": \"DISCERNIBILITY\", \"Negate\": true, \"Correlation\": -0.8, \"Count\": 0.009523809523809525}, {\"Question\": \"C8N\", \"Trait\": \"MAGNITUDE\", \"Negate\": false, \"Correlation\": -0.8, \"Count\": 0.07326007326007326}, {\"Question\": \"C8N\", \"Trait\": \"MAGNITUDE\", \"Negate\": true, \"Correlation\": -0.8, \"Count\": 0.003663003663003663}, {\"Question\": \"C8N\", \"Trait\": \"POSITION\", \"Negate\": false, \"Correlation\": -0.8, \"Count\": 0.10831721470019343}, {\"Question\": \"C8N\", \"Trait\": \"POSITION\", \"Negate\": true, \"Correlation\": -0.8, \"Count\": 0.005802707930367505}, {\"Question\": \"C8N\", \"Trait\": \"REGULARITY\", \"Negate\": false, \"Correlation\": -0.8, \"Count\": 0.11475409836065574}, {\"Question\": \"C8N\", \"Trait\": \"REGULARITY\", \"Negate\": true, \"Correlation\": -0.8, \"Count\": 0.004098360655737705}, {\"Question\": \"C8P\", \"Trait\": \"DIRECTION\", \"Negate\": false, \"Correlation\": 0.8, \"Count\": 0.13864306784660768}, {\"Question\": \"C8P\", \"Trait\": \"DIRECTION\", \"Negate\": true, \"Correlation\": 0.8, \"Count\": 0.0029498525073746312}, {\"Question\": \"C8P\", \"Trait\": \"DISCERNIBILITY\", \"Negate\": false, \"Correlation\": 0.8, \"Count\": 0.07142857142857142}, {\"Question\": \"C8P\", \"Trait\": \"MAGNITUDE\", \"Negate\": false, \"Correlation\": 0.8, \"Count\": 0.09523809523809523}, {\"Question\": \"C8P\", \"Trait\": \"MAGNITUDE\", \"Negate\": true, \"Correlation\": 0.8, \"Count\": 0.0018315018315018315}, {\"Question\": \"C8P\", \"Trait\": \"POSITION\", \"Negate\": false, \"Correlation\": 0.8, \"Count\": 0.08704061895551257}, {\"Question\": \"C8P\", \"Trait\": \"REGULARITY\", \"Negate\": false, \"Correlation\": 0.8, \"Count\": 0.1762295081967213}, {\"Question\": \"C8P\", \"Trait\": \"REGULARITY\", \"Negate\": true, \"Correlation\": 0.8, \"Count\": 0.004098360655737705}]}}, {\"mode\": \"vega-lite\"});\n",
       "</script>"
      ],
      "text/plain": [
       "alt.FacetChart(...)"
      ]
     },
     "execution_count": 50,
     "metadata": {},
     "output_type": "execute_result"
    }
   ],
   "source": [
    "t_bars = alt.Chart(tprop, title='test').mark_bar().encode(\n",
    "    x=alt.X('Correlation:O',axis=alt.Axis(title=None)),\n",
    "    y=alt.Y('sum(Count):Q',scale=alt.Scale(domain=(0, 0.3)),axis=alt.Axis(title=None,tickCount=5)),\n",
    "    color=alt.Color('Negate',legend=None,\n",
    "                   scale=alt.Scale(\n",
    "            domain=['false', 'true'],\n",
    "            range=['#000050', '#eeaa00']))\n",
    ").properties(width=100,height=80).facet(row=alt.Row('Trait:N',title=None),spacing=5).resolve_axis(x='independent')\n",
    "t_bars.configure_header(\n",
    "    labelBaseline='middle',\n",
    "    labelAlign='center',\n",
    "    labelOrient='top',\n",
    "    labelAnchor='middle'\n",
    ")"
   ]
  },
  {
   "cell_type": "code",
   "execution_count": 127,
   "metadata": {},
   "outputs": [],
   "source": [
    "c_bars = alt.Chart(conly).mark_bar().encode(\n",
    "    x=alt.X('Correlation:O',axis=alt.Axis(title=None)),\n",
    "    y=alt.Y('sum(Count):Q',scale=alt.Scale(domain=(0, 120)),axis=alt.Axis(title=None,tickCount=5)),\n",
    "    color=alt.Color('Negate',\n",
    "                   scale=alt.Scale(\n",
    "            domain=['false', 'true'],\n",
    "            range=['#000050', '#eeaa00']),legend=None)\n",
    ").properties(width=100,height=80).facet(row=alt.Row('Concept:N',title=None),spacing=5).resolve_axis(x='independent')\n",
    "\n",
    "t_bars = alt.Chart(tonly).mark_bar().encode(\n",
    "    x=alt.X('Correlation:O',axis=alt.Axis(title=None)),\n",
    "    y=alt.Y('sum(Count):Q',scale=alt.Scale(domain=(0, 120)),axis=alt.Axis(title=None,tickCount=5)),\n",
    "    color=alt.Color('Negate',legend=None,\n",
    "                   scale=alt.Scale(\n",
    "            domain=['false', 'true'],\n",
    "            range=['#000050', '#eeaa00']))\n",
    ").properties(width=100,height=80).facet(row=alt.Row('Trait:N',title=None),spacing=5).resolve_axis(x='independent')\n"
   ]
  },
  {
   "cell_type": "code",
   "execution_count": 128,
   "metadata": {},
   "outputs": [
    {
     "data": {
      "text/html": [
       "\n",
       "<div id=\"altair-viz-3857280eb0334708949c3bcedad6ac14\"></div>\n",
       "<script type=\"text/javascript\">\n",
       "  (function(spec, embedOpt){\n",
       "    let outputDiv = document.currentScript.previousElementSibling;\n",
       "    if (outputDiv.id !== \"altair-viz-3857280eb0334708949c3bcedad6ac14\") {\n",
       "      outputDiv = document.getElementById(\"altair-viz-3857280eb0334708949c3bcedad6ac14\");\n",
       "    }\n",
       "    const paths = {\n",
       "      \"vega\": \"https://cdn.jsdelivr.net/npm//vega@5?noext\",\n",
       "      \"vega-lib\": \"https://cdn.jsdelivr.net/npm//vega-lib?noext\",\n",
       "      \"vega-lite\": \"https://cdn.jsdelivr.net/npm//vega-lite@4.8.1?noext\",\n",
       "      \"vega-embed\": \"https://cdn.jsdelivr.net/npm//vega-embed@6?noext\",\n",
       "    };\n",
       "\n",
       "    function loadScript(lib) {\n",
       "      return new Promise(function(resolve, reject) {\n",
       "        var s = document.createElement('script');\n",
       "        s.src = paths[lib];\n",
       "        s.async = true;\n",
       "        s.onload = () => resolve(paths[lib]);\n",
       "        s.onerror = () => reject(`Error loading script: ${paths[lib]}`);\n",
       "        document.getElementsByTagName(\"head\")[0].appendChild(s);\n",
       "      });\n",
       "    }\n",
       "\n",
       "    function showError(err) {\n",
       "      outputDiv.innerHTML = `<div class=\"error\" style=\"color:red;\">${err}</div>`;\n",
       "      throw err;\n",
       "    }\n",
       "\n",
       "    function displayChart(vegaEmbed) {\n",
       "      vegaEmbed(outputDiv, spec, embedOpt)\n",
       "        .catch(err => showError(`Javascript Error: ${err.message}<br>This usually means there's a typo in your chart specification. See the javascript console for the full traceback.`));\n",
       "    }\n",
       "\n",
       "    if(typeof define === \"function\" && define.amd) {\n",
       "      requirejs.config({paths});\n",
       "      require([\"vega-embed\"], displayChart, err => showError(`Error loading script: ${err.message}`));\n",
       "    } else if (typeof vegaEmbed === \"function\") {\n",
       "      displayChart(vegaEmbed);\n",
       "    } else {\n",
       "      loadScript(\"vega\")\n",
       "        .then(() => loadScript(\"vega-lite\"))\n",
       "        .then(() => loadScript(\"vega-embed\"))\n",
       "        .catch(showError)\n",
       "        .then(() => displayChart(vegaEmbed));\n",
       "    }\n",
       "  })({\"config\": {\"mark\": {\"color\": \"#000050\"}, \"title\": {\"font\": \"Avenir\", \"anchor\": \"middle\", \"align\": \"left\", \"offset\": 15}, \"axis\": {\"labelFont\": \"Avenir\", \"titleFont\": \"Avenir\"}, \"header\": {\"labelFont\": \"Avenir\", \"labelFontSize\": 12, \"titleFont\": \"Avenir\", \"labelAlign\": \"center\", \"labelAnchor\": \"middle\", \"labelBaseline\": \"middle\", \"labelOrient\": \"top\"}, \"legend\": {\"labelFont\": \"Avenir\", \"titleFont\": \"Avenir\"}}, \"hconcat\": [{\"data\": {\"name\": \"data-9e894c0e57b43fdfc32d9dbf36924eb1\"}, \"facet\": {\"row\": {\"type\": \"nominal\", \"field\": \"Concept\", \"title\": null}}, \"spec\": {\"mark\": \"bar\", \"encoding\": {\"color\": {\"type\": \"nominal\", \"field\": \"Negate\", \"legend\": null, \"scale\": {\"domain\": [\"false\", \"true\"], \"range\": [\"#000050\", \"#eeaa00\"]}}, \"x\": {\"type\": \"ordinal\", \"axis\": {\"title\": null}, \"field\": \"Correlation\"}, \"y\": {\"type\": \"quantitative\", \"aggregate\": \"sum\", \"axis\": {\"tickCount\": 5, \"title\": null}, \"field\": \"Count\", \"scale\": {\"domain\": [0, 120]}}}, \"height\": 80, \"width\": 100}, \"resolve\": {\"axis\": {\"x\": \"independent\"}}, \"spacing\": 5}, {\"data\": {\"name\": \"data-71abe88252902e54616bfb9ece80791a\"}, \"facet\": {\"row\": {\"type\": \"nominal\", \"field\": \"Trait\", \"title\": null}}, \"spec\": {\"mark\": \"bar\", \"encoding\": {\"color\": {\"type\": \"nominal\", \"field\": \"Negate\", \"legend\": null, \"scale\": {\"domain\": [\"false\", \"true\"], \"range\": [\"#000050\", \"#eeaa00\"]}}, \"x\": {\"type\": \"ordinal\", \"axis\": {\"title\": null}, \"field\": \"Correlation\"}, \"y\": {\"type\": \"quantitative\", \"aggregate\": \"sum\", \"axis\": {\"tickCount\": 5, \"title\": null}, \"field\": \"Count\", \"scale\": {\"domain\": [0, 120]}}}, \"height\": 80, \"width\": 100}, \"resolve\": {\"axis\": {\"x\": \"independent\"}}, \"spacing\": 5}], \"title\": \"Concepts and Traits\", \"$schema\": \"https://vega.github.io/schema/vega-lite/v4.8.1.json\", \"datasets\": {\"data-9e894c0e57b43fdfc32d9dbf36924eb1\": [{\"Question\": \"C0\", \"Concept\": \"BEHAVIOUR\", \"Negate\": false, \"Count\": 8, \"Correlation\": 0.0}, {\"Question\": \"C0\", \"Concept\": \"BEHAVIOUR\", \"Negate\": true, \"Count\": 9, \"Correlation\": 0.0}, {\"Question\": \"C0\", \"Concept\": \"GRAPHIC\", \"Negate\": false, \"Count\": 23, \"Correlation\": 0.0}, {\"Question\": \"C0\", \"Concept\": \"GRAPHIC\", \"Negate\": true, \"Count\": 14, \"Correlation\": 0.0}, {\"Question\": \"C0\", \"Concept\": \"INFERENCES\", \"Negate\": false, \"Count\": 46, \"Correlation\": 0.0}, {\"Question\": \"C0\", \"Concept\": \"INFERENCES\", \"Negate\": true, \"Count\": 41, \"Correlation\": 0.0}, {\"Question\": \"C0\", \"Concept\": \"RELATION\", \"Negate\": false, \"Count\": 37, \"Correlation\": 0.0}, {\"Question\": \"C0\", \"Concept\": \"RELATION\", \"Negate\": true, \"Count\": 72, \"Correlation\": 0.0}, {\"Question\": \"C0\", \"Concept\": \"SPACE\", \"Negate\": false, \"Count\": 43, \"Correlation\": 0.0}, {\"Question\": \"C0\", \"Concept\": \"SPACE\", \"Negate\": true, \"Count\": 16, \"Correlation\": 0.0}, {\"Question\": \"C2N\", \"Concept\": \"BEHAVIOUR\", \"Negate\": false, \"Count\": 15, \"Correlation\": -0.2}, {\"Question\": \"C2N\", \"Concept\": \"BEHAVIOUR\", \"Negate\": true, \"Count\": 6, \"Correlation\": -0.2}, {\"Question\": \"C2N\", \"Concept\": \"GRAPHIC\", \"Negate\": false, \"Count\": 22, \"Correlation\": -0.2}, {\"Question\": \"C2N\", \"Concept\": \"GRAPHIC\", \"Negate\": true, \"Count\": 16, \"Correlation\": -0.2}, {\"Question\": \"C2N\", \"Concept\": \"INFERENCES\", \"Negate\": false, \"Count\": 49, \"Correlation\": -0.2}, {\"Question\": \"C2N\", \"Concept\": \"INFERENCES\", \"Negate\": true, \"Count\": 30, \"Correlation\": -0.2}, {\"Question\": \"C2N\", \"Concept\": \"RELATION\", \"Negate\": false, \"Count\": 45, \"Correlation\": -0.2}, {\"Question\": \"C2N\", \"Concept\": \"RELATION\", \"Negate\": true, \"Count\": 58, \"Correlation\": -0.2}, {\"Question\": \"C2N\", \"Concept\": \"SPACE\", \"Negate\": false, \"Count\": 41, \"Correlation\": -0.2}, {\"Question\": \"C2N\", \"Concept\": \"SPACE\", \"Negate\": true, \"Count\": 15, \"Correlation\": -0.2}, {\"Question\": \"C2P\", \"Concept\": \"BEHAVIOUR\", \"Negate\": false, \"Count\": 18, \"Correlation\": 0.2}, {\"Question\": \"C2P\", \"Concept\": \"BEHAVIOUR\", \"Negate\": true, \"Count\": 8, \"Correlation\": 0.2}, {\"Question\": \"C2P\", \"Concept\": \"GRAPHIC\", \"Negate\": false, \"Count\": 33, \"Correlation\": 0.2}, {\"Question\": \"C2P\", \"Concept\": \"GRAPHIC\", \"Negate\": true, \"Count\": 8, \"Correlation\": 0.2}, {\"Question\": \"C2P\", \"Concept\": \"INFERENCES\", \"Negate\": false, \"Count\": 56, \"Correlation\": 0.2}, {\"Question\": \"C2P\", \"Concept\": \"INFERENCES\", \"Negate\": true, \"Count\": 30, \"Correlation\": 0.2}, {\"Question\": \"C2P\", \"Concept\": \"RELATION\", \"Negate\": false, \"Count\": 52, \"Correlation\": 0.2}, {\"Question\": \"C2P\", \"Concept\": \"RELATION\", \"Negate\": true, \"Count\": 52, \"Correlation\": 0.2}, {\"Question\": \"C2P\", \"Concept\": \"SPACE\", \"Negate\": false, \"Count\": 51, \"Correlation\": 0.2}, {\"Question\": \"C2P\", \"Concept\": \"SPACE\", \"Negate\": true, \"Count\": 13, \"Correlation\": 0.2}, {\"Question\": \"C4N\", \"Concept\": \"BEHAVIOUR\", \"Negate\": false, \"Count\": 23, \"Correlation\": -0.4}, {\"Question\": \"C4N\", \"Concept\": \"BEHAVIOUR\", \"Negate\": true, \"Count\": 9, \"Correlation\": -0.4}, {\"Question\": \"C4N\", \"Concept\": \"GRAPHIC\", \"Negate\": false, \"Count\": 28, \"Correlation\": -0.4}, {\"Question\": \"C4N\", \"Concept\": \"GRAPHIC\", \"Negate\": true, \"Count\": 10, \"Correlation\": -0.4}, {\"Question\": \"C4N\", \"Concept\": \"INFERENCES\", \"Negate\": false, \"Count\": 63, \"Correlation\": -0.4}, {\"Question\": \"C4N\", \"Concept\": \"INFERENCES\", \"Negate\": true, \"Count\": 25, \"Correlation\": -0.4}, {\"Question\": \"C4N\", \"Concept\": \"RELATION\", \"Negate\": false, \"Count\": 55, \"Correlation\": -0.4}, {\"Question\": \"C4N\", \"Concept\": \"RELATION\", \"Negate\": true, \"Count\": 44, \"Correlation\": -0.4}, {\"Question\": \"C4N\", \"Concept\": \"SPACE\", \"Negate\": false, \"Count\": 47, \"Correlation\": -0.4}, {\"Question\": \"C4N\", \"Concept\": \"SPACE\", \"Negate\": true, \"Count\": 10, \"Correlation\": -0.4}, {\"Question\": \"C4P\", \"Concept\": \"BEHAVIOUR\", \"Negate\": false, \"Count\": 37, \"Correlation\": 0.4}, {\"Question\": \"C4P\", \"Concept\": \"BEHAVIOUR\", \"Negate\": true, \"Count\": 3, \"Correlation\": 0.4}, {\"Question\": \"C4P\", \"Concept\": \"GRAPHIC\", \"Negate\": false, \"Count\": 22, \"Correlation\": 0.4}, {\"Question\": \"C4P\", \"Concept\": \"GRAPHIC\", \"Negate\": true, \"Count\": 10, \"Correlation\": 0.4}, {\"Question\": \"C4P\", \"Concept\": \"INFERENCES\", \"Negate\": false, \"Count\": 74, \"Correlation\": 0.4}, {\"Question\": \"C4P\", \"Concept\": \"INFERENCES\", \"Negate\": true, \"Count\": 21, \"Correlation\": 0.4}, {\"Question\": \"C4P\", \"Concept\": \"RELATION\", \"Negate\": false, \"Count\": 72, \"Correlation\": 0.4}, {\"Question\": \"C4P\", \"Concept\": \"RELATION\", \"Negate\": true, \"Count\": 24, \"Correlation\": 0.4}, {\"Question\": \"C4P\", \"Concept\": \"SPACE\", \"Negate\": false, \"Count\": 43, \"Correlation\": 0.4}, {\"Question\": \"C4P\", \"Concept\": \"SPACE\", \"Negate\": true, \"Count\": 14, \"Correlation\": 0.4}, {\"Question\": \"C6N\", \"Concept\": \"BEHAVIOUR\", \"Negate\": false, \"Count\": 56, \"Correlation\": -0.6}, {\"Question\": \"C6N\", \"Concept\": \"BEHAVIOUR\", \"Negate\": true, \"Count\": 4, \"Correlation\": -0.6}, {\"Question\": \"C6N\", \"Concept\": \"GRAPHIC\", \"Negate\": false, \"Count\": 23, \"Correlation\": -0.6}, {\"Question\": \"C6N\", \"Concept\": \"GRAPHIC\", \"Negate\": true, \"Count\": 6, \"Correlation\": -0.6}, {\"Question\": \"C6N\", \"Concept\": \"INFERENCES\", \"Negate\": false, \"Count\": 90, \"Correlation\": -0.6}, {\"Question\": \"C6N\", \"Concept\": \"INFERENCES\", \"Negate\": true, \"Count\": 11, \"Correlation\": -0.6}, {\"Question\": \"C6N\", \"Concept\": \"RELATION\", \"Negate\": false, \"Count\": 74, \"Correlation\": -0.6}, {\"Question\": \"C6N\", \"Concept\": \"RELATION\", \"Negate\": true, \"Count\": 12, \"Correlation\": -0.6}, {\"Question\": \"C6N\", \"Concept\": \"SPACE\", \"Negate\": false, \"Count\": 44, \"Correlation\": -0.6}, {\"Question\": \"C6N\", \"Concept\": \"SPACE\", \"Negate\": true, \"Count\": 6, \"Correlation\": -0.6}, {\"Question\": \"C6P\", \"Concept\": \"BEHAVIOUR\", \"Negate\": false, \"Count\": 48, \"Correlation\": 0.6}, {\"Question\": \"C6P\", \"Concept\": \"BEHAVIOUR\", \"Negate\": true, \"Count\": 3, \"Correlation\": 0.6}, {\"Question\": \"C6P\", \"Concept\": \"GRAPHIC\", \"Negate\": false, \"Count\": 25, \"Correlation\": 0.6}, {\"Question\": \"C6P\", \"Concept\": \"GRAPHIC\", \"Negate\": true, \"Count\": 6, \"Correlation\": 0.6}, {\"Question\": \"C6P\", \"Concept\": \"INFERENCES\", \"Negate\": false, \"Count\": 95, \"Correlation\": 0.6}, {\"Question\": \"C6P\", \"Concept\": \"INFERENCES\", \"Negate\": true, \"Count\": 6, \"Correlation\": 0.6}, {\"Question\": \"C6P\", \"Concept\": \"RELATION\", \"Negate\": false, \"Count\": 80, \"Correlation\": 0.6}, {\"Question\": \"C6P\", \"Concept\": \"RELATION\", \"Negate\": true, \"Count\": 12, \"Correlation\": 0.6}, {\"Question\": \"C6P\", \"Concept\": \"SPACE\", \"Negate\": false, \"Count\": 51, \"Correlation\": 0.6}, {\"Question\": \"C6P\", \"Concept\": \"SPACE\", \"Negate\": true, \"Count\": 4, \"Correlation\": 0.6}, {\"Question\": \"C8N\", \"Concept\": \"BEHAVIOUR\", \"Negate\": false, \"Count\": 63, \"Correlation\": -0.8}, {\"Question\": \"C8N\", \"Concept\": \"BEHAVIOUR\", \"Negate\": true, \"Count\": 1, \"Correlation\": -0.8}, {\"Question\": \"C8N\", \"Concept\": \"GRAPHIC\", \"Negate\": false, \"Count\": 23, \"Correlation\": -0.8}, {\"Question\": \"C8N\", \"Concept\": \"GRAPHIC\", \"Negate\": true, \"Count\": 3, \"Correlation\": -0.8}, {\"Question\": \"C8N\", \"Concept\": \"INFERENCES\", \"Negate\": false, \"Count\": 99, \"Correlation\": -0.8}, {\"Question\": \"C8N\", \"Concept\": \"INFERENCES\", \"Negate\": true, \"Count\": 3, \"Correlation\": -0.8}, {\"Question\": \"C8N\", \"Concept\": \"RELATION\", \"Negate\": false, \"Count\": 91, \"Correlation\": -0.8}, {\"Question\": \"C8N\", \"Concept\": \"RELATION\", \"Negate\": true, \"Count\": 4, \"Correlation\": -0.8}, {\"Question\": \"C8N\", \"Concept\": \"SPACE\", \"Negate\": false, \"Count\": 35, \"Correlation\": -0.8}, {\"Question\": \"C8N\", \"Concept\": \"SPACE\", \"Negate\": true, \"Count\": 2, \"Correlation\": -0.8}, {\"Question\": \"C8P\", \"Concept\": \"BEHAVIOUR\", \"Negate\": false, \"Count\": 66, \"Correlation\": 0.8}, {\"Question\": \"C8P\", \"Concept\": \"BEHAVIOUR\", \"Negate\": true, \"Count\": 2, \"Correlation\": 0.8}, {\"Question\": \"C8P\", \"Concept\": \"GRAPHIC\", \"Negate\": false, \"Count\": 32, \"Correlation\": 0.8}, {\"Question\": \"C8P\", \"Concept\": \"GRAPHIC\", \"Negate\": true, \"Count\": 1, \"Correlation\": 0.8}, {\"Question\": \"C8P\", \"Concept\": \"INFERENCES\", \"Negate\": false, \"Count\": 90, \"Correlation\": 0.8}, {\"Question\": \"C8P\", \"Concept\": \"INFERENCES\", \"Negate\": true, \"Count\": 2, \"Correlation\": 0.8}, {\"Question\": \"C8P\", \"Concept\": \"RELATION\", \"Negate\": false, \"Count\": 88, \"Correlation\": 0.8}, {\"Question\": \"C8P\", \"Concept\": \"RELATION\", \"Negate\": true, \"Count\": 1, \"Correlation\": 0.8}, {\"Question\": \"C8P\", \"Concept\": \"SPACE\", \"Negate\": false, \"Count\": 34, \"Correlation\": 0.8}, {\"Question\": \"C8P\", \"Concept\": \"SPACE\", \"Negate\": true, \"Count\": 1, \"Correlation\": 0.8}], \"data-71abe88252902e54616bfb9ece80791a\": [{\"Question\": \"C0\", \"Trait\": \"DIRECTION\", \"Negate\": false, \"Count\": 4, \"Correlation\": 0.0}, {\"Question\": \"C0\", \"Trait\": \"DIRECTION\", \"Negate\": true, \"Count\": 1, \"Correlation\": 0.0}, {\"Question\": \"C0\", \"Trait\": \"DISCERNIBILITY\", \"Negate\": false, \"Count\": 9, \"Correlation\": 0.0}, {\"Question\": \"C0\", \"Trait\": \"DISCERNIBILITY\", \"Negate\": true, \"Count\": 22, \"Correlation\": 0.0}, {\"Question\": \"C0\", \"Trait\": \"MAGNITUDE\", \"Negate\": false, \"Count\": 41, \"Correlation\": 0.0}, {\"Question\": \"C0\", \"Trait\": \"MAGNITUDE\", \"Negate\": true, \"Count\": 11, \"Correlation\": 0.0}, {\"Question\": \"C0\", \"Trait\": \"POSITION\", \"Negate\": false, \"Count\": 48, \"Correlation\": 0.0}, {\"Question\": \"C0\", \"Trait\": \"POSITION\", \"Negate\": true, \"Count\": 19, \"Correlation\": 0.0}, {\"Question\": \"C0\", \"Trait\": \"REGULARITY\", \"Negate\": false, \"Count\": 9, \"Correlation\": 0.0}, {\"Question\": \"C0\", \"Trait\": \"REGULARITY\", \"Negate\": true, \"Count\": 1, \"Correlation\": 0.0}, {\"Question\": \"C2N\", \"Trait\": \"DIRECTION\", \"Negate\": false, \"Count\": 18, \"Correlation\": -0.2}, {\"Question\": \"C2N\", \"Trait\": \"DIRECTION\", \"Negate\": true, \"Count\": 2, \"Correlation\": -0.2}, {\"Question\": \"C2N\", \"Trait\": \"DISCERNIBILITY\", \"Negate\": false, \"Count\": 8, \"Correlation\": -0.2}, {\"Question\": \"C2N\", \"Trait\": \"DISCERNIBILITY\", \"Negate\": true, \"Count\": 24, \"Correlation\": -0.2}, {\"Question\": \"C2N\", \"Trait\": \"MAGNITUDE\", \"Negate\": false, \"Count\": 46, \"Correlation\": -0.2}, {\"Question\": \"C2N\", \"Trait\": \"MAGNITUDE\", \"Negate\": true, \"Count\": 13, \"Correlation\": -0.2}, {\"Question\": \"C2N\", \"Trait\": \"POSITION\", \"Negate\": false, \"Count\": 43, \"Correlation\": -0.2}, {\"Question\": \"C2N\", \"Trait\": \"POSITION\", \"Negate\": true, \"Count\": 19, \"Correlation\": -0.2}, {\"Question\": \"C2N\", \"Trait\": \"REGULARITY\", \"Negate\": false, \"Count\": 15, \"Correlation\": -0.2}, {\"Question\": \"C2N\", \"Trait\": \"REGULARITY\", \"Negate\": true, \"Count\": 8, \"Correlation\": -0.2}, {\"Question\": \"C2P\", \"Trait\": \"DIRECTION\", \"Negate\": false, \"Count\": 16, \"Correlation\": 0.2}, {\"Question\": \"C2P\", \"Trait\": \"DIRECTION\", \"Negate\": true, \"Count\": 1, \"Correlation\": 0.2}, {\"Question\": \"C2P\", \"Trait\": \"DISCERNIBILITY\", \"Negate\": false, \"Count\": 14, \"Correlation\": 0.2}, {\"Question\": \"C2P\", \"Trait\": \"DISCERNIBILITY\", \"Negate\": true, \"Count\": 19, \"Correlation\": 0.2}, {\"Question\": \"C2P\", \"Trait\": \"MAGNITUDE\", \"Negate\": false, \"Count\": 58, \"Correlation\": 0.2}, {\"Question\": \"C2P\", \"Trait\": \"MAGNITUDE\", \"Negate\": true, \"Count\": 12, \"Correlation\": 0.2}, {\"Question\": \"C2P\", \"Trait\": \"POSITION\", \"Negate\": false, \"Count\": 48, \"Correlation\": 0.2}, {\"Question\": \"C2P\", \"Trait\": \"POSITION\", \"Negate\": true, \"Count\": 11, \"Correlation\": 0.2}, {\"Question\": \"C2P\", \"Trait\": \"REGULARITY\", \"Negate\": false, \"Count\": 9, \"Correlation\": 0.2}, {\"Question\": \"C2P\", \"Trait\": \"REGULARITY\", \"Negate\": true, \"Count\": 9, \"Correlation\": 0.2}, {\"Question\": \"C4N\", \"Trait\": \"DIRECTION\", \"Negate\": false, \"Count\": 23, \"Correlation\": -0.4}, {\"Question\": \"C4N\", \"Trait\": \"DIRECTION\", \"Negate\": true, \"Count\": 4, \"Correlation\": -0.4}, {\"Question\": \"C4N\", \"Trait\": \"DISCERNIBILITY\", \"Negate\": false, \"Count\": 9, \"Correlation\": -0.4}, {\"Question\": \"C4N\", \"Trait\": \"DISCERNIBILITY\", \"Negate\": true, \"Count\": 21, \"Correlation\": -0.4}, {\"Question\": \"C4N\", \"Trait\": \"MAGNITUDE\", \"Negate\": false, \"Count\": 53, \"Correlation\": -0.4}, {\"Question\": \"C4N\", \"Trait\": \"MAGNITUDE\", \"Negate\": true, \"Count\": 13, \"Correlation\": -0.4}, {\"Question\": \"C4N\", \"Trait\": \"POSITION\", \"Negate\": false, \"Count\": 48, \"Correlation\": -0.4}, {\"Question\": \"C4N\", \"Trait\": \"POSITION\", \"Negate\": true, \"Count\": 12, \"Correlation\": -0.4}, {\"Question\": \"C4N\", \"Trait\": \"REGULARITY\", \"Negate\": false, \"Count\": 14, \"Correlation\": -0.4}, {\"Question\": \"C4N\", \"Trait\": \"REGULARITY\", \"Negate\": true, \"Count\": 6, \"Correlation\": -0.4}, {\"Question\": \"C4P\", \"Trait\": \"DIRECTION\", \"Negate\": false, \"Count\": 35, \"Correlation\": 0.4}, {\"Question\": \"C4P\", \"Trait\": \"DIRECTION\", \"Negate\": true, \"Count\": 3, \"Correlation\": 0.4}, {\"Question\": \"C4P\", \"Trait\": \"DISCERNIBILITY\", \"Negate\": false, \"Count\": 13, \"Correlation\": 0.4}, {\"Question\": \"C4P\", \"Trait\": \"DISCERNIBILITY\", \"Negate\": true, \"Count\": 12, \"Correlation\": 0.4}, {\"Question\": \"C4P\", \"Trait\": \"MAGNITUDE\", \"Negate\": false, \"Count\": 65, \"Correlation\": 0.4}, {\"Question\": \"C4P\", \"Trait\": \"MAGNITUDE\", \"Negate\": true, \"Count\": 12, \"Correlation\": 0.4}, {\"Question\": \"C4P\", \"Trait\": \"POSITION\", \"Negate\": false, \"Count\": 51, \"Correlation\": 0.4}, {\"Question\": \"C4P\", \"Trait\": \"POSITION\", \"Negate\": true, \"Count\": 13, \"Correlation\": 0.4}, {\"Question\": \"C4P\", \"Trait\": \"REGULARITY\", \"Negate\": false, \"Count\": 26, \"Correlation\": 0.4}, {\"Question\": \"C4P\", \"Trait\": \"REGULARITY\", \"Negate\": true, \"Count\": 7, \"Correlation\": 0.4}, {\"Question\": \"C6N\", \"Trait\": \"DIRECTION\", \"Negate\": false, \"Count\": 59, \"Correlation\": -0.6}, {\"Question\": \"C6N\", \"Trait\": \"DIRECTION\", \"Negate\": true, \"Count\": 2, \"Correlation\": -0.6}, {\"Question\": \"C6N\", \"Trait\": \"DISCERNIBILITY\", \"Negate\": false, \"Count\": 11, \"Correlation\": -0.6}, {\"Question\": \"C6N\", \"Trait\": \"DISCERNIBILITY\", \"Negate\": true, \"Count\": 3, \"Correlation\": -0.6}, {\"Question\": \"C6N\", \"Trait\": \"MAGNITUDE\", \"Negate\": false, \"Count\": 48, \"Correlation\": -0.6}, {\"Question\": \"C6N\", \"Trait\": \"MAGNITUDE\", \"Negate\": true, \"Count\": 11, \"Correlation\": -0.6}, {\"Question\": \"C6N\", \"Trait\": \"POSITION\", \"Negate\": false, \"Count\": 42, \"Correlation\": -0.6}, {\"Question\": \"C6N\", \"Trait\": \"POSITION\", \"Negate\": true, \"Count\": 9, \"Correlation\": -0.6}, {\"Question\": \"C6N\", \"Trait\": \"REGULARITY\", \"Negate\": false, \"Count\": 22, \"Correlation\": -0.6}, {\"Question\": \"C6N\", \"Trait\": \"REGULARITY\", \"Negate\": true, \"Count\": 3, \"Correlation\": -0.6}, {\"Question\": \"C6P\", \"Trait\": \"DIRECTION\", \"Negate\": false, \"Count\": 49, \"Correlation\": 0.6}, {\"Question\": \"C6P\", \"Trait\": \"DIRECTION\", \"Negate\": true, \"Count\": 5, \"Correlation\": 0.6}, {\"Question\": \"C6P\", \"Trait\": \"DISCERNIBILITY\", \"Negate\": false, \"Count\": 12, \"Correlation\": 0.6}, {\"Question\": \"C6P\", \"Trait\": \"DISCERNIBILITY\", \"Negate\": true, \"Count\": 3, \"Correlation\": 0.6}, {\"Question\": \"C6P\", \"Trait\": \"MAGNITUDE\", \"Negate\": false, \"Count\": 62, \"Correlation\": 0.6}, {\"Question\": \"C6P\", \"Trait\": \"MAGNITUDE\", \"Negate\": true, \"Count\": 6, \"Correlation\": 0.6}, {\"Question\": \"C6P\", \"Trait\": \"POSITION\", \"Negate\": false, \"Count\": 47, \"Correlation\": 0.6}, {\"Question\": \"C6P\", \"Trait\": \"POSITION\", \"Negate\": true, \"Count\": 3, \"Correlation\": 0.6}, {\"Question\": \"C6P\", \"Trait\": \"REGULARITY\", \"Negate\": false, \"Count\": 37, \"Correlation\": 0.6}, {\"Question\": \"C6P\", \"Trait\": \"REGULARITY\", \"Negate\": true, \"Count\": 5, \"Correlation\": 0.6}, {\"Question\": \"C8N\", \"Trait\": \"DIRECTION\", \"Negate\": false, \"Count\": 69, \"Correlation\": -0.8}, {\"Question\": \"C8N\", \"Trait\": \"DISCERNIBILITY\", \"Negate\": false, \"Count\": 13, \"Correlation\": -0.8}, {\"Question\": \"C8N\", \"Trait\": \"DISCERNIBILITY\", \"Negate\": true, \"Count\": 2, \"Correlation\": -0.8}, {\"Question\": \"C8N\", \"Trait\": \"MAGNITUDE\", \"Negate\": false, \"Count\": 40, \"Correlation\": -0.8}, {\"Question\": \"C8N\", \"Trait\": \"MAGNITUDE\", \"Negate\": true, \"Count\": 2, \"Correlation\": -0.8}, {\"Question\": \"C8N\", \"Trait\": \"POSITION\", \"Negate\": false, \"Count\": 56, \"Correlation\": -0.8}, {\"Question\": \"C8N\", \"Trait\": \"POSITION\", \"Negate\": true, \"Count\": 3, \"Correlation\": -0.8}, {\"Question\": \"C8N\", \"Trait\": \"REGULARITY\", \"Negate\": false, \"Count\": 28, \"Correlation\": -0.8}, {\"Question\": \"C8N\", \"Trait\": \"REGULARITY\", \"Negate\": true, \"Count\": 1, \"Correlation\": -0.8}, {\"Question\": \"C8P\", \"Trait\": \"DIRECTION\", \"Negate\": false, \"Count\": 47, \"Correlation\": 0.8}, {\"Question\": \"C8P\", \"Trait\": \"DIRECTION\", \"Negate\": true, \"Count\": 1, \"Correlation\": 0.8}, {\"Question\": \"C8P\", \"Trait\": \"DISCERNIBILITY\", \"Negate\": false, \"Count\": 15, \"Correlation\": 0.8}, {\"Question\": \"C8P\", \"Trait\": \"MAGNITUDE\", \"Negate\": false, \"Count\": 52, \"Correlation\": 0.8}, {\"Question\": \"C8P\", \"Trait\": \"MAGNITUDE\", \"Negate\": true, \"Count\": 1, \"Correlation\": 0.8}, {\"Question\": \"C8P\", \"Trait\": \"POSITION\", \"Negate\": false, \"Count\": 45, \"Correlation\": 0.8}, {\"Question\": \"C8P\", \"Trait\": \"REGULARITY\", \"Negate\": false, \"Count\": 43, \"Correlation\": 0.8}, {\"Question\": \"C8P\", \"Trait\": \"REGULARITY\", \"Negate\": true, \"Count\": 1, \"Correlation\": 0.8}]}}, {\"mode\": \"vega-lite\"});\n",
       "</script>"
      ],
      "text/plain": [
       "alt.HConcatChart(...)"
      ]
     },
     "execution_count": 128,
     "metadata": {},
     "output_type": "execute_result"
    }
   ],
   "source": [
    "(c_bars | t_bars).configure_header(\n",
    "    labelBaseline='middle',\n",
    "    labelAlign='center',\n",
    "    labelOrient='top',\n",
    "    labelAnchor='middle'\n",
    ").properties(title='Concepts and Traits').configure_title(anchor='middle',align='left',offset=15)"
   ]
  },
  {
   "cell_type": "markdown",
   "metadata": {},
   "source": [
    "Concepts by levels of correlation by use of negative statements"
   ]
  },
  {
   "cell_type": "code",
   "execution_count": 41,
   "metadata": {},
   "outputs": [
    {
     "data": {
      "application/vnd.vegalite.v3+json": {
       "$schema": "https://vega.github.io/schema/vega-lite/v3.4.0.json",
       "config": {
        "axis": {
         "labelFont": "Avenir",
         "titleFont": "Avenir"
        },
        "header": {
         "labelFont": "Avenir",
         "labelFontSize": 12,
         "titleFont": "Avenir"
        },
        "legend": {
         "labelFont": "Avenir",
         "titleFont": "Avenir"
        },
        "mark": {
         "color": "#000050"
        },
        "title": {
         "anchor": "end",
         "font": "Avenir"
        }
       },
       "data": {
        "name": "data-71abe88252902e54616bfb9ece80791a"
       },
       "datasets": {
        "data-71abe88252902e54616bfb9ece80791a": [
         {
          "Correlation": 0,
          "Count": 4,
          "Negate": false,
          "Question": "C0",
          "Trait": "DIRECTION"
         },
         {
          "Correlation": 0,
          "Count": 1,
          "Negate": true,
          "Question": "C0",
          "Trait": "DIRECTION"
         },
         {
          "Correlation": 0,
          "Count": 9,
          "Negate": false,
          "Question": "C0",
          "Trait": "DISCERNIBILITY"
         },
         {
          "Correlation": 0,
          "Count": 22,
          "Negate": true,
          "Question": "C0",
          "Trait": "DISCERNIBILITY"
         },
         {
          "Correlation": 0,
          "Count": 41,
          "Negate": false,
          "Question": "C0",
          "Trait": "MAGNITUDE"
         },
         {
          "Correlation": 0,
          "Count": 11,
          "Negate": true,
          "Question": "C0",
          "Trait": "MAGNITUDE"
         },
         {
          "Correlation": 0,
          "Count": 48,
          "Negate": false,
          "Question": "C0",
          "Trait": "POSITION"
         },
         {
          "Correlation": 0,
          "Count": 19,
          "Negate": true,
          "Question": "C0",
          "Trait": "POSITION"
         },
         {
          "Correlation": 0,
          "Count": 9,
          "Negate": false,
          "Question": "C0",
          "Trait": "REGULARITY"
         },
         {
          "Correlation": 0,
          "Count": 1,
          "Negate": true,
          "Question": "C0",
          "Trait": "REGULARITY"
         },
         {
          "Correlation": -0.2,
          "Count": 18,
          "Negate": false,
          "Question": "C2N",
          "Trait": "DIRECTION"
         },
         {
          "Correlation": -0.2,
          "Count": 2,
          "Negate": true,
          "Question": "C2N",
          "Trait": "DIRECTION"
         },
         {
          "Correlation": -0.2,
          "Count": 8,
          "Negate": false,
          "Question": "C2N",
          "Trait": "DISCERNIBILITY"
         },
         {
          "Correlation": -0.2,
          "Count": 24,
          "Negate": true,
          "Question": "C2N",
          "Trait": "DISCERNIBILITY"
         },
         {
          "Correlation": -0.2,
          "Count": 46,
          "Negate": false,
          "Question": "C2N",
          "Trait": "MAGNITUDE"
         },
         {
          "Correlation": -0.2,
          "Count": 13,
          "Negate": true,
          "Question": "C2N",
          "Trait": "MAGNITUDE"
         },
         {
          "Correlation": -0.2,
          "Count": 43,
          "Negate": false,
          "Question": "C2N",
          "Trait": "POSITION"
         },
         {
          "Correlation": -0.2,
          "Count": 19,
          "Negate": true,
          "Question": "C2N",
          "Trait": "POSITION"
         },
         {
          "Correlation": -0.2,
          "Count": 15,
          "Negate": false,
          "Question": "C2N",
          "Trait": "REGULARITY"
         },
         {
          "Correlation": -0.2,
          "Count": 8,
          "Negate": true,
          "Question": "C2N",
          "Trait": "REGULARITY"
         },
         {
          "Correlation": 0.2,
          "Count": 16,
          "Negate": false,
          "Question": "C2P",
          "Trait": "DIRECTION"
         },
         {
          "Correlation": 0.2,
          "Count": 1,
          "Negate": true,
          "Question": "C2P",
          "Trait": "DIRECTION"
         },
         {
          "Correlation": 0.2,
          "Count": 14,
          "Negate": false,
          "Question": "C2P",
          "Trait": "DISCERNIBILITY"
         },
         {
          "Correlation": 0.2,
          "Count": 19,
          "Negate": true,
          "Question": "C2P",
          "Trait": "DISCERNIBILITY"
         },
         {
          "Correlation": 0.2,
          "Count": 58,
          "Negate": false,
          "Question": "C2P",
          "Trait": "MAGNITUDE"
         },
         {
          "Correlation": 0.2,
          "Count": 12,
          "Negate": true,
          "Question": "C2P",
          "Trait": "MAGNITUDE"
         },
         {
          "Correlation": 0.2,
          "Count": 48,
          "Negate": false,
          "Question": "C2P",
          "Trait": "POSITION"
         },
         {
          "Correlation": 0.2,
          "Count": 11,
          "Negate": true,
          "Question": "C2P",
          "Trait": "POSITION"
         },
         {
          "Correlation": 0.2,
          "Count": 9,
          "Negate": false,
          "Question": "C2P",
          "Trait": "REGULARITY"
         },
         {
          "Correlation": 0.2,
          "Count": 9,
          "Negate": true,
          "Question": "C2P",
          "Trait": "REGULARITY"
         },
         {
          "Correlation": -0.4,
          "Count": 23,
          "Negate": false,
          "Question": "C4N",
          "Trait": "DIRECTION"
         },
         {
          "Correlation": -0.4,
          "Count": 4,
          "Negate": true,
          "Question": "C4N",
          "Trait": "DIRECTION"
         },
         {
          "Correlation": -0.4,
          "Count": 9,
          "Negate": false,
          "Question": "C4N",
          "Trait": "DISCERNIBILITY"
         },
         {
          "Correlation": -0.4,
          "Count": 21,
          "Negate": true,
          "Question": "C4N",
          "Trait": "DISCERNIBILITY"
         },
         {
          "Correlation": -0.4,
          "Count": 53,
          "Negate": false,
          "Question": "C4N",
          "Trait": "MAGNITUDE"
         },
         {
          "Correlation": -0.4,
          "Count": 13,
          "Negate": true,
          "Question": "C4N",
          "Trait": "MAGNITUDE"
         },
         {
          "Correlation": -0.4,
          "Count": 48,
          "Negate": false,
          "Question": "C4N",
          "Trait": "POSITION"
         },
         {
          "Correlation": -0.4,
          "Count": 12,
          "Negate": true,
          "Question": "C4N",
          "Trait": "POSITION"
         },
         {
          "Correlation": -0.4,
          "Count": 14,
          "Negate": false,
          "Question": "C4N",
          "Trait": "REGULARITY"
         },
         {
          "Correlation": -0.4,
          "Count": 6,
          "Negate": true,
          "Question": "C4N",
          "Trait": "REGULARITY"
         },
         {
          "Correlation": 0.4,
          "Count": 35,
          "Negate": false,
          "Question": "C4P",
          "Trait": "DIRECTION"
         },
         {
          "Correlation": 0.4,
          "Count": 3,
          "Negate": true,
          "Question": "C4P",
          "Trait": "DIRECTION"
         },
         {
          "Correlation": 0.4,
          "Count": 13,
          "Negate": false,
          "Question": "C4P",
          "Trait": "DISCERNIBILITY"
         },
         {
          "Correlation": 0.4,
          "Count": 12,
          "Negate": true,
          "Question": "C4P",
          "Trait": "DISCERNIBILITY"
         },
         {
          "Correlation": 0.4,
          "Count": 65,
          "Negate": false,
          "Question": "C4P",
          "Trait": "MAGNITUDE"
         },
         {
          "Correlation": 0.4,
          "Count": 12,
          "Negate": true,
          "Question": "C4P",
          "Trait": "MAGNITUDE"
         },
         {
          "Correlation": 0.4,
          "Count": 51,
          "Negate": false,
          "Question": "C4P",
          "Trait": "POSITION"
         },
         {
          "Correlation": 0.4,
          "Count": 13,
          "Negate": true,
          "Question": "C4P",
          "Trait": "POSITION"
         },
         {
          "Correlation": 0.4,
          "Count": 26,
          "Negate": false,
          "Question": "C4P",
          "Trait": "REGULARITY"
         },
         {
          "Correlation": 0.4,
          "Count": 7,
          "Negate": true,
          "Question": "C4P",
          "Trait": "REGULARITY"
         },
         {
          "Correlation": -0.6,
          "Count": 59,
          "Negate": false,
          "Question": "C6N",
          "Trait": "DIRECTION"
         },
         {
          "Correlation": -0.6,
          "Count": 2,
          "Negate": true,
          "Question": "C6N",
          "Trait": "DIRECTION"
         },
         {
          "Correlation": -0.6,
          "Count": 11,
          "Negate": false,
          "Question": "C6N",
          "Trait": "DISCERNIBILITY"
         },
         {
          "Correlation": -0.6,
          "Count": 3,
          "Negate": true,
          "Question": "C6N",
          "Trait": "DISCERNIBILITY"
         },
         {
          "Correlation": -0.6,
          "Count": 48,
          "Negate": false,
          "Question": "C6N",
          "Trait": "MAGNITUDE"
         },
         {
          "Correlation": -0.6,
          "Count": 11,
          "Negate": true,
          "Question": "C6N",
          "Trait": "MAGNITUDE"
         },
         {
          "Correlation": -0.6,
          "Count": 42,
          "Negate": false,
          "Question": "C6N",
          "Trait": "POSITION"
         },
         {
          "Correlation": -0.6,
          "Count": 9,
          "Negate": true,
          "Question": "C6N",
          "Trait": "POSITION"
         },
         {
          "Correlation": -0.6,
          "Count": 22,
          "Negate": false,
          "Question": "C6N",
          "Trait": "REGULARITY"
         },
         {
          "Correlation": -0.6,
          "Count": 3,
          "Negate": true,
          "Question": "C6N",
          "Trait": "REGULARITY"
         },
         {
          "Correlation": 0.6,
          "Count": 49,
          "Negate": false,
          "Question": "C6P",
          "Trait": "DIRECTION"
         },
         {
          "Correlation": 0.6,
          "Count": 5,
          "Negate": true,
          "Question": "C6P",
          "Trait": "DIRECTION"
         },
         {
          "Correlation": 0.6,
          "Count": 12,
          "Negate": false,
          "Question": "C6P",
          "Trait": "DISCERNIBILITY"
         },
         {
          "Correlation": 0.6,
          "Count": 3,
          "Negate": true,
          "Question": "C6P",
          "Trait": "DISCERNIBILITY"
         },
         {
          "Correlation": 0.6,
          "Count": 62,
          "Negate": false,
          "Question": "C6P",
          "Trait": "MAGNITUDE"
         },
         {
          "Correlation": 0.6,
          "Count": 6,
          "Negate": true,
          "Question": "C6P",
          "Trait": "MAGNITUDE"
         },
         {
          "Correlation": 0.6,
          "Count": 47,
          "Negate": false,
          "Question": "C6P",
          "Trait": "POSITION"
         },
         {
          "Correlation": 0.6,
          "Count": 3,
          "Negate": true,
          "Question": "C6P",
          "Trait": "POSITION"
         },
         {
          "Correlation": 0.6,
          "Count": 37,
          "Negate": false,
          "Question": "C6P",
          "Trait": "REGULARITY"
         },
         {
          "Correlation": 0.6,
          "Count": 5,
          "Negate": true,
          "Question": "C6P",
          "Trait": "REGULARITY"
         },
         {
          "Correlation": -0.8,
          "Count": 69,
          "Negate": false,
          "Question": "C8N",
          "Trait": "DIRECTION"
         },
         {
          "Correlation": -0.8,
          "Count": 13,
          "Negate": false,
          "Question": "C8N",
          "Trait": "DISCERNIBILITY"
         },
         {
          "Correlation": -0.8,
          "Count": 2,
          "Negate": true,
          "Question": "C8N",
          "Trait": "DISCERNIBILITY"
         },
         {
          "Correlation": -0.8,
          "Count": 40,
          "Negate": false,
          "Question": "C8N",
          "Trait": "MAGNITUDE"
         },
         {
          "Correlation": -0.8,
          "Count": 2,
          "Negate": true,
          "Question": "C8N",
          "Trait": "MAGNITUDE"
         },
         {
          "Correlation": -0.8,
          "Count": 56,
          "Negate": false,
          "Question": "C8N",
          "Trait": "POSITION"
         },
         {
          "Correlation": -0.8,
          "Count": 3,
          "Negate": true,
          "Question": "C8N",
          "Trait": "POSITION"
         },
         {
          "Correlation": -0.8,
          "Count": 28,
          "Negate": false,
          "Question": "C8N",
          "Trait": "REGULARITY"
         },
         {
          "Correlation": -0.8,
          "Count": 1,
          "Negate": true,
          "Question": "C8N",
          "Trait": "REGULARITY"
         },
         {
          "Correlation": 0.8,
          "Count": 47,
          "Negate": false,
          "Question": "C8P",
          "Trait": "DIRECTION"
         },
         {
          "Correlation": 0.8,
          "Count": 1,
          "Negate": true,
          "Question": "C8P",
          "Trait": "DIRECTION"
         },
         {
          "Correlation": 0.8,
          "Count": 15,
          "Negate": false,
          "Question": "C8P",
          "Trait": "DISCERNIBILITY"
         },
         {
          "Correlation": 0.8,
          "Count": 52,
          "Negate": false,
          "Question": "C8P",
          "Trait": "MAGNITUDE"
         },
         {
          "Correlation": 0.8,
          "Count": 1,
          "Negate": true,
          "Question": "C8P",
          "Trait": "MAGNITUDE"
         },
         {
          "Correlation": 0.8,
          "Count": 45,
          "Negate": false,
          "Question": "C8P",
          "Trait": "POSITION"
         },
         {
          "Correlation": 0.8,
          "Count": 43,
          "Negate": false,
          "Question": "C8P",
          "Trait": "REGULARITY"
         },
         {
          "Correlation": 0.8,
          "Count": 1,
          "Negate": true,
          "Question": "C8P",
          "Trait": "REGULARITY"
         }
        ]
       },
       "facet": {
        "column": {
         "field": "Trait",
         "type": "nominal"
        },
        "row": {
         "field": "Negate",
         "type": "nominal"
        }
       },
       "spec": {
        "encoding": {
         "x": {
          "field": "Correlation",
          "type": "ordinal"
         },
         "y": {
          "aggregate": "sum",
          "axis": {
           "tickCount": 5,
           "title": null
          },
          "field": "Count",
          "scale": {
           "domain": [
            0,
            120
           ]
          },
          "type": "quantitative"
         }
        },
        "height": 100,
        "mark": "bar",
        "width": 100
       }
      },
      "image/png": "[encoded data removed]",
      "text/plain": [
       "<VegaLite 3 object>\n",
       "\n",
       "If you see this message, it means the renderer has not been properly enabled\n",
       "for the frontend that you are using. For more information, see\n",
       "https://altair-viz.github.io/user_guide/troubleshooting.html\n"
      ]
     },
     "execution_count": 41,
     "metadata": {},
     "output_type": "execute_result"
    }
   ],
   "source": [
    "#display(conly[conly['Concept'] == 'RELATION']['Count'])\n",
    "alt.Chart(tonly).mark_bar().encode(\n",
    "    x='Correlation:O',\n",
    "    y=alt.Y('sum(Count):Q',scale=alt.Scale(domain=(0, 120)),axis=alt.Axis(title=None,tickCount=5))\n",
    ").properties(width=100,height=100).facet(column='Trait:N',row='Negate:N')"
   ]
  },
  {
   "cell_type": "code",
   "execution_count": 82,
   "metadata": {},
   "outputs": [
    {
     "data": {
      "text/html": [
       "\n",
       "<div id=\"altair-viz-2c49652846ea44b19bcdace1e1df0d65\"></div>\n",
       "<script type=\"text/javascript\">\n",
       "  (function(spec, embedOpt){\n",
       "    const outputDiv = document.getElementById(\"altair-viz-2c49652846ea44b19bcdace1e1df0d65\");\n",
       "    const paths = {\n",
       "      \"vega\": \"https://cdn.jsdelivr.net/npm//vega@5?noext\",\n",
       "      \"vega-lib\": \"https://cdn.jsdelivr.net/npm//vega-lib?noext\",\n",
       "      \"vega-lite\": \"https://cdn.jsdelivr.net/npm//vega-lite@4.0.2?noext\",\n",
       "      \"vega-embed\": \"https://cdn.jsdelivr.net/npm//vega-embed@6?noext\",\n",
       "    };\n",
       "\n",
       "    function loadScript(lib) {\n",
       "      return new Promise(function(resolve, reject) {\n",
       "        var s = document.createElement('script');\n",
       "        s.src = paths[lib];\n",
       "        s.async = true;\n",
       "        s.onload = () => resolve(paths[lib]);\n",
       "        s.onerror = () => reject(`Error loading script: ${paths[lib]}`);\n",
       "        document.getElementsByTagName(\"head\")[0].appendChild(s);\n",
       "      });\n",
       "    }\n",
       "\n",
       "    function showError(err) {\n",
       "      outputDiv.innerHTML = `<div class=\"error\" style=\"color:red;\">${err}</div>`;\n",
       "      throw err;\n",
       "    }\n",
       "\n",
       "    function displayChart(vegaEmbed) {\n",
       "      vegaEmbed(outputDiv, spec, embedOpt)\n",
       "        .catch(err => showError(`Javascript Error: ${err.message}<br>This usually means there's a typo in your chart specification. See the javascript console for the full traceback.`));\n",
       "    }\n",
       "\n",
       "    if(typeof define === \"function\" && define.amd) {\n",
       "      requirejs.config({paths});\n",
       "      require([\"vega-embed\"], displayChart, err => showError(`Error loading script: ${err.message}`));\n",
       "    } else if (typeof vegaEmbed === \"function\") {\n",
       "      displayChart(vegaEmbed);\n",
       "    } else {\n",
       "      loadScript(\"vega\")\n",
       "        .then(() => loadScript(\"vega-lite\"))\n",
       "        .then(() => loadScript(\"vega-embed\"))\n",
       "        .catch(showError)\n",
       "        .then(() => displayChart(vegaEmbed));\n",
       "    }\n",
       "  })({\"config\": {\"view\": {\"continuousWidth\": 400, \"continuousHeight\": 300}}, \"data\": {\"name\": \"data-71abe88252902e54616bfb9ece80791a\"}, \"mark\": {\"type\": \"bar\", \"tooltip\": true}, \"encoding\": {\"color\": {\"type\": \"nominal\", \"field\": \"Trait\", \"scale\": {\"scheme\": \"tableau10\"}}, \"x\": {\"type\": \"nominal\", \"axis\": {\"title\": null}, \"field\": \"Correlation\"}, \"y\": {\"type\": \"quantitative\", \"aggregate\": \"sum\", \"axis\": {\"tickCount\": 5, \"title\": null}, \"field\": \"Count\", \"stack\": \"normalize\"}}, \"height\": 150, \"width\": 250, \"$schema\": \"https://vega.github.io/schema/vega-lite/v4.0.2.json\", \"datasets\": {\"data-71abe88252902e54616bfb9ece80791a\": [{\"Question\": \"C0\", \"Trait\": \"DIRECTION\", \"Negate\": false, \"Count\": 4, \"Correlation\": 0.0}, {\"Question\": \"C0\", \"Trait\": \"DIRECTION\", \"Negate\": true, \"Count\": 1, \"Correlation\": 0.0}, {\"Question\": \"C0\", \"Trait\": \"DISCERNIBILITY\", \"Negate\": false, \"Count\": 9, \"Correlation\": 0.0}, {\"Question\": \"C0\", \"Trait\": \"DISCERNIBILITY\", \"Negate\": true, \"Count\": 22, \"Correlation\": 0.0}, {\"Question\": \"C0\", \"Trait\": \"MAGNITUDE\", \"Negate\": false, \"Count\": 41, \"Correlation\": 0.0}, {\"Question\": \"C0\", \"Trait\": \"MAGNITUDE\", \"Negate\": true, \"Count\": 11, \"Correlation\": 0.0}, {\"Question\": \"C0\", \"Trait\": \"POSITION\", \"Negate\": false, \"Count\": 48, \"Correlation\": 0.0}, {\"Question\": \"C0\", \"Trait\": \"POSITION\", \"Negate\": true, \"Count\": 19, \"Correlation\": 0.0}, {\"Question\": \"C0\", \"Trait\": \"REGULARITY\", \"Negate\": false, \"Count\": 9, \"Correlation\": 0.0}, {\"Question\": \"C0\", \"Trait\": \"REGULARITY\", \"Negate\": true, \"Count\": 1, \"Correlation\": 0.0}, {\"Question\": \"C2N\", \"Trait\": \"DIRECTION\", \"Negate\": false, \"Count\": 18, \"Correlation\": -0.2}, {\"Question\": \"C2N\", \"Trait\": \"DIRECTION\", \"Negate\": true, \"Count\": 2, \"Correlation\": -0.2}, {\"Question\": \"C2N\", \"Trait\": \"DISCERNIBILITY\", \"Negate\": false, \"Count\": 8, \"Correlation\": -0.2}, {\"Question\": \"C2N\", \"Trait\": \"DISCERNIBILITY\", \"Negate\": true, \"Count\": 24, \"Correlation\": -0.2}, {\"Question\": \"C2N\", \"Trait\": \"MAGNITUDE\", \"Negate\": false, \"Count\": 46, \"Correlation\": -0.2}, {\"Question\": \"C2N\", \"Trait\": \"MAGNITUDE\", \"Negate\": true, \"Count\": 13, \"Correlation\": -0.2}, {\"Question\": \"C2N\", \"Trait\": \"POSITION\", \"Negate\": false, \"Count\": 43, \"Correlation\": -0.2}, {\"Question\": \"C2N\", \"Trait\": \"POSITION\", \"Negate\": true, \"Count\": 19, \"Correlation\": -0.2}, {\"Question\": \"C2N\", \"Trait\": \"REGULARITY\", \"Negate\": false, \"Count\": 15, \"Correlation\": -0.2}, {\"Question\": \"C2N\", \"Trait\": \"REGULARITY\", \"Negate\": true, \"Count\": 8, \"Correlation\": -0.2}, {\"Question\": \"C2P\", \"Trait\": \"DIRECTION\", \"Negate\": false, \"Count\": 16, \"Correlation\": 0.2}, {\"Question\": \"C2P\", \"Trait\": \"DIRECTION\", \"Negate\": true, \"Count\": 1, \"Correlation\": 0.2}, {\"Question\": \"C2P\", \"Trait\": \"DISCERNIBILITY\", \"Negate\": false, \"Count\": 14, \"Correlation\": 0.2}, {\"Question\": \"C2P\", \"Trait\": \"DISCERNIBILITY\", \"Negate\": true, \"Count\": 19, \"Correlation\": 0.2}, {\"Question\": \"C2P\", \"Trait\": \"MAGNITUDE\", \"Negate\": false, \"Count\": 58, \"Correlation\": 0.2}, {\"Question\": \"C2P\", \"Trait\": \"MAGNITUDE\", \"Negate\": true, \"Count\": 12, \"Correlation\": 0.2}, {\"Question\": \"C2P\", \"Trait\": \"POSITION\", \"Negate\": false, \"Count\": 48, \"Correlation\": 0.2}, {\"Question\": \"C2P\", \"Trait\": \"POSITION\", \"Negate\": true, \"Count\": 11, \"Correlation\": 0.2}, {\"Question\": \"C2P\", \"Trait\": \"REGULARITY\", \"Negate\": false, \"Count\": 9, \"Correlation\": 0.2}, {\"Question\": \"C2P\", \"Trait\": \"REGULARITY\", \"Negate\": true, \"Count\": 9, \"Correlation\": 0.2}, {\"Question\": \"C4N\", \"Trait\": \"DIRECTION\", \"Negate\": false, \"Count\": 23, \"Correlation\": -0.4}, {\"Question\": \"C4N\", \"Trait\": \"DIRECTION\", \"Negate\": true, \"Count\": 4, \"Correlation\": -0.4}, {\"Question\": \"C4N\", \"Trait\": \"DISCERNIBILITY\", \"Negate\": false, \"Count\": 9, \"Correlation\": -0.4}, {\"Question\": \"C4N\", \"Trait\": \"DISCERNIBILITY\", \"Negate\": true, \"Count\": 21, \"Correlation\": -0.4}, {\"Question\": \"C4N\", \"Trait\": \"MAGNITUDE\", \"Negate\": false, \"Count\": 53, \"Correlation\": -0.4}, {\"Question\": \"C4N\", \"Trait\": \"MAGNITUDE\", \"Negate\": true, \"Count\": 13, \"Correlation\": -0.4}, {\"Question\": \"C4N\", \"Trait\": \"POSITION\", \"Negate\": false, \"Count\": 48, \"Correlation\": -0.4}, {\"Question\": \"C4N\", \"Trait\": \"POSITION\", \"Negate\": true, \"Count\": 12, \"Correlation\": -0.4}, {\"Question\": \"C4N\", \"Trait\": \"REGULARITY\", \"Negate\": false, \"Count\": 14, \"Correlation\": -0.4}, {\"Question\": \"C4N\", \"Trait\": \"REGULARITY\", \"Negate\": true, \"Count\": 6, \"Correlation\": -0.4}, {\"Question\": \"C4P\", \"Trait\": \"DIRECTION\", \"Negate\": false, \"Count\": 35, \"Correlation\": 0.4}, {\"Question\": \"C4P\", \"Trait\": \"DIRECTION\", \"Negate\": true, \"Count\": 3, \"Correlation\": 0.4}, {\"Question\": \"C4P\", \"Trait\": \"DISCERNIBILITY\", \"Negate\": false, \"Count\": 13, \"Correlation\": 0.4}, {\"Question\": \"C4P\", \"Trait\": \"DISCERNIBILITY\", \"Negate\": true, \"Count\": 12, \"Correlation\": 0.4}, {\"Question\": \"C4P\", \"Trait\": \"MAGNITUDE\", \"Negate\": false, \"Count\": 65, \"Correlation\": 0.4}, {\"Question\": \"C4P\", \"Trait\": \"MAGNITUDE\", \"Negate\": true, \"Count\": 12, \"Correlation\": 0.4}, {\"Question\": \"C4P\", \"Trait\": \"POSITION\", \"Negate\": false, \"Count\": 51, \"Correlation\": 0.4}, {\"Question\": \"C4P\", \"Trait\": \"POSITION\", \"Negate\": true, \"Count\": 13, \"Correlation\": 0.4}, {\"Question\": \"C4P\", \"Trait\": \"REGULARITY\", \"Negate\": false, \"Count\": 26, \"Correlation\": 0.4}, {\"Question\": \"C4P\", \"Trait\": \"REGULARITY\", \"Negate\": true, \"Count\": 7, \"Correlation\": 0.4}, {\"Question\": \"C6N\", \"Trait\": \"DIRECTION\", \"Negate\": false, \"Count\": 59, \"Correlation\": -0.6}, {\"Question\": \"C6N\", \"Trait\": \"DIRECTION\", \"Negate\": true, \"Count\": 2, \"Correlation\": -0.6}, {\"Question\": \"C6N\", \"Trait\": \"DISCERNIBILITY\", \"Negate\": false, \"Count\": 11, \"Correlation\": -0.6}, {\"Question\": \"C6N\", \"Trait\": \"DISCERNIBILITY\", \"Negate\": true, \"Count\": 3, \"Correlation\": -0.6}, {\"Question\": \"C6N\", \"Trait\": \"MAGNITUDE\", \"Negate\": false, \"Count\": 48, \"Correlation\": -0.6}, {\"Question\": \"C6N\", \"Trait\": \"MAGNITUDE\", \"Negate\": true, \"Count\": 11, \"Correlation\": -0.6}, {\"Question\": \"C6N\", \"Trait\": \"POSITION\", \"Negate\": false, \"Count\": 42, \"Correlation\": -0.6}, {\"Question\": \"C6N\", \"Trait\": \"POSITION\", \"Negate\": true, \"Count\": 9, \"Correlation\": -0.6}, {\"Question\": \"C6N\", \"Trait\": \"REGULARITY\", \"Negate\": false, \"Count\": 22, \"Correlation\": -0.6}, {\"Question\": \"C6N\", \"Trait\": \"REGULARITY\", \"Negate\": true, \"Count\": 3, \"Correlation\": -0.6}, {\"Question\": \"C6P\", \"Trait\": \"DIRECTION\", \"Negate\": false, \"Count\": 49, \"Correlation\": 0.6}, {\"Question\": \"C6P\", \"Trait\": \"DIRECTION\", \"Negate\": true, \"Count\": 5, \"Correlation\": 0.6}, {\"Question\": \"C6P\", \"Trait\": \"DISCERNIBILITY\", \"Negate\": false, \"Count\": 12, \"Correlation\": 0.6}, {\"Question\": \"C6P\", \"Trait\": \"DISCERNIBILITY\", \"Negate\": true, \"Count\": 3, \"Correlation\": 0.6}, {\"Question\": \"C6P\", \"Trait\": \"MAGNITUDE\", \"Negate\": false, \"Count\": 62, \"Correlation\": 0.6}, {\"Question\": \"C6P\", \"Trait\": \"MAGNITUDE\", \"Negate\": true, \"Count\": 6, \"Correlation\": 0.6}, {\"Question\": \"C6P\", \"Trait\": \"POSITION\", \"Negate\": false, \"Count\": 47, \"Correlation\": 0.6}, {\"Question\": \"C6P\", \"Trait\": \"POSITION\", \"Negate\": true, \"Count\": 3, \"Correlation\": 0.6}, {\"Question\": \"C6P\", \"Trait\": \"REGULARITY\", \"Negate\": false, \"Count\": 37, \"Correlation\": 0.6}, {\"Question\": \"C6P\", \"Trait\": \"REGULARITY\", \"Negate\": true, \"Count\": 5, \"Correlation\": 0.6}, {\"Question\": \"C8N\", \"Trait\": \"DIRECTION\", \"Negate\": false, \"Count\": 69, \"Correlation\": -0.8}, {\"Question\": \"C8N\", \"Trait\": \"DISCERNIBILITY\", \"Negate\": false, \"Count\": 13, \"Correlation\": -0.8}, {\"Question\": \"C8N\", \"Trait\": \"DISCERNIBILITY\", \"Negate\": true, \"Count\": 2, \"Correlation\": -0.8}, {\"Question\": \"C8N\", \"Trait\": \"MAGNITUDE\", \"Negate\": false, \"Count\": 40, \"Correlation\": -0.8}, {\"Question\": \"C8N\", \"Trait\": \"MAGNITUDE\", \"Negate\": true, \"Count\": 2, \"Correlation\": -0.8}, {\"Question\": \"C8N\", \"Trait\": \"POSITION\", \"Negate\": false, \"Count\": 56, \"Correlation\": -0.8}, {\"Question\": \"C8N\", \"Trait\": \"POSITION\", \"Negate\": true, \"Count\": 3, \"Correlation\": -0.8}, {\"Question\": \"C8N\", \"Trait\": \"REGULARITY\", \"Negate\": false, \"Count\": 28, \"Correlation\": -0.8}, {\"Question\": \"C8N\", \"Trait\": \"REGULARITY\", \"Negate\": true, \"Count\": 1, \"Correlation\": -0.8}, {\"Question\": \"C8P\", \"Trait\": \"DIRECTION\", \"Negate\": false, \"Count\": 47, \"Correlation\": 0.8}, {\"Question\": \"C8P\", \"Trait\": \"DIRECTION\", \"Negate\": true, \"Count\": 1, \"Correlation\": 0.8}, {\"Question\": \"C8P\", \"Trait\": \"DISCERNIBILITY\", \"Negate\": false, \"Count\": 15, \"Correlation\": 0.8}, {\"Question\": \"C8P\", \"Trait\": \"MAGNITUDE\", \"Negate\": false, \"Count\": 52, \"Correlation\": 0.8}, {\"Question\": \"C8P\", \"Trait\": \"MAGNITUDE\", \"Negate\": true, \"Count\": 1, \"Correlation\": 0.8}, {\"Question\": \"C8P\", \"Trait\": \"POSITION\", \"Negate\": false, \"Count\": 45, \"Correlation\": 0.8}, {\"Question\": \"C8P\", \"Trait\": \"REGULARITY\", \"Negate\": false, \"Count\": 43, \"Correlation\": 0.8}, {\"Question\": \"C8P\", \"Trait\": \"REGULARITY\", \"Negate\": true, \"Count\": 1, \"Correlation\": 0.8}]}}, {\"mode\": \"vega-lite\"});\n",
       "</script>"
      ],
      "text/plain": [
       "alt.Chart(...)"
      ]
     },
     "execution_count": 82,
     "metadata": {},
     "output_type": "execute_result"
    }
   ],
   "source": [
    "alt.Chart(tonly).mark_bar(tooltip=True).encode(\n",
    "    x=alt.X('Correlation:N',axis=alt.Axis(title=None)),\n",
    "    y=alt.Y('sum(Count):Q',stack='normalize',axis=alt.Axis(title=None,tickCount=5)),\n",
    "    color=alt.Color('Trait:N',scale=alt.Scale(scheme='tableau10')),\n",
    "       #            scale=alt.Scale(\n",
    "       #     domain=['false', 'true'],\n",
    "        #    range=['#000050', '#eeaa00']))\n",
    ").properties(width=250,height=150) \n",
    "#.facet(column='Correlation:N')"
   ]
  },
  {
   "cell_type": "markdown",
   "metadata": {},
   "source": [
    "Trait by level of correlation:"
   ]
  },
  {
   "cell_type": "code",
   "execution_count": 19,
   "metadata": {},
   "outputs": [
    {
     "data": {
      "application/vnd.vegalite.v3+json": {
       "$schema": "https://vega.github.io/schema/vega-lite/v3.4.0.json",
       "config": {
        "axis": {
         "labelFont": "Avenir",
         "titleFont": "Avenir"
        },
        "header": {
         "labelFont": "Avenir",
         "labelFontSize": 12,
         "titleFont": "Avenir"
        },
        "legend": {
         "labelFont": "Avenir",
         "titleFont": "Avenir"
        },
        "mark": {
         "color": "#000050"
        },
        "title": {
         "anchor": "end",
         "font": "Avenir"
        }
       },
       "data": {
        "name": "data-d93ad2217b67a69221efa1646a829345"
       },
       "datasets": {
        "data-d93ad2217b67a69221efa1646a829345": [
         {
          "Concept": "BEHAVIOUR",
          "Correlation": 0,
          "Count": 2,
          "Negate": false,
          "Question": "C0",
          "Trait": "DISCERNIBILITY"
         },
         {
          "Concept": "BEHAVIOUR",
          "Correlation": 0,
          "Count": 6,
          "Negate": true,
          "Question": "C0",
          "Trait": "DISCERNIBILITY"
         },
         {
          "Concept": "BEHAVIOUR",
          "Correlation": 0,
          "Count": 4,
          "Negate": false,
          "Question": "C0",
          "Trait": "MAGNITUDE"
         },
         {
          "Concept": "BEHAVIOUR",
          "Correlation": 0,
          "Count": 2,
          "Negate": true,
          "Question": "C0",
          "Trait": "MAGNITUDE"
         },
         {
          "Concept": "BEHAVIOUR",
          "Correlation": 0,
          "Count": 6,
          "Negate": false,
          "Question": "C0",
          "Trait": "POSITION"
         },
         {
          "Concept": "BEHAVIOUR",
          "Correlation": 0,
          "Count": 8,
          "Negate": true,
          "Question": "C0",
          "Trait": "POSITION"
         },
         {
          "Concept": "GRAPHIC",
          "Correlation": 0,
          "Count": 1,
          "Negate": false,
          "Question": "C0",
          "Trait": "DIRECTION"
         },
         {
          "Concept": "GRAPHIC",
          "Correlation": 0,
          "Count": 2,
          "Negate": false,
          "Question": "C0",
          "Trait": "DISCERNIBILITY"
         },
         {
          "Concept": "GRAPHIC",
          "Correlation": 0,
          "Count": 6,
          "Negate": true,
          "Question": "C0",
          "Trait": "DISCERNIBILITY"
         },
         {
          "Concept": "GRAPHIC",
          "Correlation": 0,
          "Count": 13,
          "Negate": false,
          "Question": "C0",
          "Trait": "MAGNITUDE"
         },
         {
          "Concept": "GRAPHIC",
          "Correlation": 0,
          "Count": 6,
          "Negate": true,
          "Question": "C0",
          "Trait": "MAGNITUDE"
         },
         {
          "Concept": "GRAPHIC",
          "Correlation": 0,
          "Count": 19,
          "Negate": false,
          "Question": "C0",
          "Trait": "POSITION"
         },
         {
          "Concept": "GRAPHIC",
          "Correlation": 0,
          "Count": 12,
          "Negate": true,
          "Question": "C0",
          "Trait": "POSITION"
         },
         {
          "Concept": "GRAPHIC",
          "Correlation": 0,
          "Count": 2,
          "Negate": false,
          "Question": "C0",
          "Trait": "REGULARITY"
         },
         {
          "Concept": "INFERENCES",
          "Correlation": 0,
          "Count": 1,
          "Negate": false,
          "Question": "C0",
          "Trait": "DIRECTION"
         },
         {
          "Concept": "INFERENCES",
          "Correlation": 0,
          "Count": 1,
          "Negate": true,
          "Question": "C0",
          "Trait": "DIRECTION"
         },
         {
          "Concept": "INFERENCES",
          "Correlation": 0,
          "Count": 5,
          "Negate": false,
          "Question": "C0",
          "Trait": "DISCERNIBILITY"
         },
         {
          "Concept": "INFERENCES",
          "Correlation": 0,
          "Count": 15,
          "Negate": true,
          "Question": "C0",
          "Trait": "DISCERNIBILITY"
         },
         {
          "Concept": "INFERENCES",
          "Correlation": 0,
          "Count": 25,
          "Negate": false,
          "Question": "C0",
          "Trait": "MAGNITUDE"
         },
         {
          "Concept": "INFERENCES",
          "Correlation": 0,
          "Count": 6,
          "Negate": true,
          "Question": "C0",
          "Trait": "MAGNITUDE"
         },
         {
          "Concept": "INFERENCES",
          "Correlation": 0,
          "Count": 31,
          "Negate": false,
          "Question": "C0",
          "Trait": "POSITION"
         },
         {
          "Concept": "INFERENCES",
          "Correlation": 0,
          "Count": 38,
          "Negate": true,
          "Question": "C0",
          "Trait": "POSITION"
         },
         {
          "Concept": "INFERENCES",
          "Correlation": 0,
          "Count": 7,
          "Negate": false,
          "Question": "C0",
          "Trait": "REGULARITY"
         },
         {
          "Concept": "RELATION",
          "Correlation": 0,
          "Count": 4,
          "Negate": false,
          "Question": "C0",
          "Trait": "DIRECTION"
         },
         {
          "Concept": "RELATION",
          "Correlation": 0,
          "Count": 3,
          "Negate": false,
          "Question": "C0",
          "Trait": "DISCERNIBILITY"
         },
         {
          "Concept": "RELATION",
          "Correlation": 0,
          "Count": 22,
          "Negate": true,
          "Question": "C0",
          "Trait": "DISCERNIBILITY"
         },
         {
          "Concept": "RELATION",
          "Correlation": 0,
          "Count": 24,
          "Negate": false,
          "Question": "C0",
          "Trait": "MAGNITUDE"
         },
         {
          "Concept": "RELATION",
          "Correlation": 0,
          "Count": 9,
          "Negate": true,
          "Question": "C0",
          "Trait": "MAGNITUDE"
         },
         {
          "Concept": "RELATION",
          "Correlation": 0,
          "Count": 27,
          "Negate": false,
          "Question": "C0",
          "Trait": "POSITION"
         },
         {
          "Concept": "RELATION",
          "Correlation": 0,
          "Count": 46,
          "Negate": true,
          "Question": "C0",
          "Trait": "POSITION"
         },
         {
          "Concept": "RELATION",
          "Correlation": 0,
          "Count": 6,
          "Negate": false,
          "Question": "C0",
          "Trait": "REGULARITY"
         },
         {
          "Concept": "RELATION",
          "Correlation": 0,
          "Count": 1,
          "Negate": true,
          "Question": "C0",
          "Trait": "REGULARITY"
         },
         {
          "Concept": "SPACE",
          "Correlation": 0,
          "Count": 2,
          "Negate": false,
          "Question": "C0",
          "Trait": "DIRECTION"
         },
         {
          "Concept": "SPACE",
          "Correlation": 0,
          "Count": 1,
          "Negate": true,
          "Question": "C0",
          "Trait": "DIRECTION"
         },
         {
          "Concept": "SPACE",
          "Correlation": 0,
          "Count": 4,
          "Negate": false,
          "Question": "C0",
          "Trait": "DISCERNIBILITY"
         },
         {
          "Concept": "SPACE",
          "Correlation": 0,
          "Count": 8,
          "Negate": true,
          "Question": "C0",
          "Trait": "DISCERNIBILITY"
         },
         {
          "Concept": "SPACE",
          "Correlation": 0,
          "Count": 24,
          "Negate": false,
          "Question": "C0",
          "Trait": "MAGNITUDE"
         },
         {
          "Concept": "SPACE",
          "Correlation": 0,
          "Count": 5,
          "Negate": true,
          "Question": "C0",
          "Trait": "MAGNITUDE"
         },
         {
          "Concept": "SPACE",
          "Correlation": 0,
          "Count": 30,
          "Negate": false,
          "Question": "C0",
          "Trait": "POSITION"
         },
         {
          "Concept": "SPACE",
          "Correlation": 0,
          "Count": 11,
          "Negate": true,
          "Question": "C0",
          "Trait": "POSITION"
         },
         {
          "Concept": "SPACE",
          "Correlation": 0,
          "Count": 5,
          "Negate": false,
          "Question": "C0",
          "Trait": "REGULARITY"
         },
         {
          "Concept": "BEHAVIOUR",
          "Correlation": -0.2,
          "Count": 5,
          "Negate": false,
          "Question": "C2N",
          "Trait": "DIRECTION"
         },
         {
          "Concept": "BEHAVIOUR",
          "Correlation": -0.2,
          "Count": 1,
          "Negate": false,
          "Question": "C2N",
          "Trait": "DISCERNIBILITY"
         },
         {
          "Concept": "BEHAVIOUR",
          "Correlation": -0.2,
          "Count": 4,
          "Negate": true,
          "Question": "C2N",
          "Trait": "DISCERNIBILITY"
         },
         {
          "Concept": "BEHAVIOUR",
          "Correlation": -0.2,
          "Count": 11,
          "Negate": false,
          "Question": "C2N",
          "Trait": "MAGNITUDE"
         },
         {
          "Concept": "BEHAVIOUR",
          "Correlation": -0.2,
          "Count": 2,
          "Negate": true,
          "Question": "C2N",
          "Trait": "MAGNITUDE"
         },
         {
          "Concept": "BEHAVIOUR",
          "Correlation": -0.2,
          "Count": 11,
          "Negate": false,
          "Question": "C2N",
          "Trait": "POSITION"
         },
         {
          "Concept": "BEHAVIOUR",
          "Correlation": -0.2,
          "Count": 6,
          "Negate": true,
          "Question": "C2N",
          "Trait": "POSITION"
         },
         {
          "Concept": "BEHAVIOUR",
          "Correlation": -0.2,
          "Count": 3,
          "Negate": false,
          "Question": "C2N",
          "Trait": "REGULARITY"
         },
         {
          "Concept": "BEHAVIOUR",
          "Correlation": -0.2,
          "Count": 1,
          "Negate": true,
          "Question": "C2N",
          "Trait": "REGULARITY"
         },
         {
          "Concept": "GRAPHIC",
          "Correlation": -0.2,
          "Count": 4,
          "Negate": false,
          "Question": "C2N",
          "Trait": "DIRECTION"
         },
         {
          "Concept": "GRAPHIC",
          "Correlation": -0.2,
          "Count": 2,
          "Negate": false,
          "Question": "C2N",
          "Trait": "DISCERNIBILITY"
         },
         {
          "Concept": "GRAPHIC",
          "Correlation": -0.2,
          "Count": 5,
          "Negate": true,
          "Question": "C2N",
          "Trait": "DISCERNIBILITY"
         },
         {
          "Concept": "GRAPHIC",
          "Correlation": -0.2,
          "Count": 11,
          "Negate": false,
          "Question": "C2N",
          "Trait": "MAGNITUDE"
         },
         {
          "Concept": "GRAPHIC",
          "Correlation": -0.2,
          "Count": 5,
          "Negate": true,
          "Question": "C2N",
          "Trait": "MAGNITUDE"
         },
         {
          "Concept": "GRAPHIC",
          "Correlation": -0.2,
          "Count": 17,
          "Negate": false,
          "Question": "C2N",
          "Trait": "POSITION"
         },
         {
          "Concept": "GRAPHIC",
          "Correlation": -0.2,
          "Count": 14,
          "Negate": true,
          "Question": "C2N",
          "Trait": "POSITION"
         },
         {
          "Concept": "GRAPHIC",
          "Correlation": -0.2,
          "Count": 5,
          "Negate": false,
          "Question": "C2N",
          "Trait": "REGULARITY"
         },
         {
          "Concept": "GRAPHIC",
          "Correlation": -0.2,
          "Count": 4,
          "Negate": true,
          "Question": "C2N",
          "Trait": "REGULARITY"
         },
         {
          "Concept": "INFERENCES",
          "Correlation": -0.2,
          "Count": 8,
          "Negate": false,
          "Question": "C2N",
          "Trait": "DIRECTION"
         },
         {
          "Concept": "INFERENCES",
          "Correlation": -0.2,
          "Count": 1,
          "Negate": true,
          "Question": "C2N",
          "Trait": "DIRECTION"
         },
         {
          "Concept": "INFERENCES",
          "Correlation": -0.2,
          "Count": 3,
          "Negate": false,
          "Question": "C2N",
          "Trait": "DISCERNIBILITY"
         },
         {
          "Concept": "INFERENCES",
          "Correlation": -0.2,
          "Count": 10,
          "Negate": true,
          "Question": "C2N",
          "Trait": "DISCERNIBILITY"
         },
         {
          "Concept": "INFERENCES",
          "Correlation": -0.2,
          "Count": 31,
          "Negate": false,
          "Question": "C2N",
          "Trait": "MAGNITUDE"
         },
         {
          "Concept": "INFERENCES",
          "Correlation": -0.2,
          "Count": 8,
          "Negate": true,
          "Question": "C2N",
          "Trait": "MAGNITUDE"
         },
         {
          "Concept": "INFERENCES",
          "Correlation": -0.2,
          "Count": 36,
          "Negate": false,
          "Question": "C2N",
          "Trait": "POSITION"
         },
         {
          "Concept": "INFERENCES",
          "Correlation": -0.2,
          "Count": 24,
          "Negate": true,
          "Question": "C2N",
          "Trait": "POSITION"
         },
         {
          "Concept": "INFERENCES",
          "Correlation": -0.2,
          "Count": 6,
          "Negate": false,
          "Question": "C2N",
          "Trait": "REGULARITY"
         },
         {
          "Concept": "INFERENCES",
          "Correlation": -0.2,
          "Count": 4,
          "Negate": true,
          "Question": "C2N",
          "Trait": "REGULARITY"
         },
         {
          "Concept": "RELATION",
          "Correlation": -0.2,
          "Count": 14,
          "Negate": false,
          "Question": "C2N",
          "Trait": "DIRECTION"
         },
         {
          "Concept": "RELATION",
          "Correlation": -0.2,
          "Count": 2,
          "Negate": true,
          "Question": "C2N",
          "Trait": "DIRECTION"
         },
         {
          "Concept": "RELATION",
          "Correlation": -0.2,
          "Count": 2,
          "Negate": false,
          "Question": "C2N",
          "Trait": "DISCERNIBILITY"
         },
         {
          "Concept": "RELATION",
          "Correlation": -0.2,
          "Count": 22,
          "Negate": true,
          "Question": "C2N",
          "Trait": "DISCERNIBILITY"
         },
         {
          "Concept": "RELATION",
          "Correlation": -0.2,
          "Count": 28,
          "Negate": false,
          "Question": "C2N",
          "Trait": "MAGNITUDE"
         },
         {
          "Concept": "RELATION",
          "Correlation": -0.2,
          "Count": 11,
          "Negate": true,
          "Question": "C2N",
          "Trait": "MAGNITUDE"
         },
         {
          "Concept": "RELATION",
          "Correlation": -0.2,
          "Count": 31,
          "Negate": false,
          "Question": "C2N",
          "Trait": "POSITION"
         },
         {
          "Concept": "RELATION",
          "Correlation": -0.2,
          "Count": 36,
          "Negate": true,
          "Question": "C2N",
          "Trait": "POSITION"
         },
         {
          "Concept": "RELATION",
          "Correlation": -0.2,
          "Count": 7,
          "Negate": false,
          "Question": "C2N",
          "Trait": "REGULARITY"
         },
         {
          "Concept": "RELATION",
          "Correlation": -0.2,
          "Count": 6,
          "Negate": true,
          "Question": "C2N",
          "Trait": "REGULARITY"
         },
         {
          "Concept": "SPACE",
          "Correlation": -0.2,
          "Count": 9,
          "Negate": false,
          "Question": "C2N",
          "Trait": "DIRECTION"
         },
         {
          "Concept": "SPACE",
          "Correlation": -0.2,
          "Count": 2,
          "Negate": false,
          "Question": "C2N",
          "Trait": "DISCERNIBILITY"
         },
         {
          "Concept": "SPACE",
          "Correlation": -0.2,
          "Count": 5,
          "Negate": true,
          "Question": "C2N",
          "Trait": "DISCERNIBILITY"
         },
         {
          "Concept": "SPACE",
          "Correlation": -0.2,
          "Count": 22,
          "Negate": false,
          "Question": "C2N",
          "Trait": "MAGNITUDE"
         },
         {
          "Concept": "SPACE",
          "Correlation": -0.2,
          "Count": 5,
          "Negate": true,
          "Question": "C2N",
          "Trait": "MAGNITUDE"
         },
         {
          "Concept": "SPACE",
          "Correlation": -0.2,
          "Count": 25,
          "Negate": false,
          "Question": "C2N",
          "Trait": "POSITION"
         },
         {
          "Concept": "SPACE",
          "Correlation": -0.2,
          "Count": 11,
          "Negate": true,
          "Question": "C2N",
          "Trait": "POSITION"
         },
         {
          "Concept": "SPACE",
          "Correlation": -0.2,
          "Count": 7,
          "Negate": false,
          "Question": "C2N",
          "Trait": "REGULARITY"
         },
         {
          "Concept": "SPACE",
          "Correlation": -0.2,
          "Count": 2,
          "Negate": true,
          "Question": "C2N",
          "Trait": "REGULARITY"
         },
         {
          "Concept": "BEHAVIOUR",
          "Correlation": 0.2,
          "Count": 6,
          "Negate": false,
          "Question": "C2P",
          "Trait": "DIRECTION"
         },
         {
          "Concept": "BEHAVIOUR",
          "Correlation": 0.2,
          "Count": 3,
          "Negate": false,
          "Question": "C2P",
          "Trait": "DISCERNIBILITY"
         },
         {
          "Concept": "BEHAVIOUR",
          "Correlation": 0.2,
          "Count": 5,
          "Negate": true,
          "Question": "C2P",
          "Trait": "DISCERNIBILITY"
         },
         {
          "Concept": "BEHAVIOUR",
          "Correlation": 0.2,
          "Count": 10,
          "Negate": false,
          "Question": "C2P",
          "Trait": "MAGNITUDE"
         },
         {
          "Concept": "BEHAVIOUR",
          "Correlation": 0.2,
          "Count": 6,
          "Negate": true,
          "Question": "C2P",
          "Trait": "MAGNITUDE"
         },
         {
          "Concept": "BEHAVIOUR",
          "Correlation": 0.2,
          "Count": 8,
          "Negate": false,
          "Question": "C2P",
          "Trait": "POSITION"
         },
         {
          "Concept": "BEHAVIOUR",
          "Correlation": 0.2,
          "Count": 5,
          "Negate": true,
          "Question": "C2P",
          "Trait": "POSITION"
         },
         {
          "Concept": "BEHAVIOUR",
          "Correlation": 0.2,
          "Count": 1,
          "Negate": false,
          "Question": "C2P",
          "Trait": "REGULARITY"
         },
         {
          "Concept": "BEHAVIOUR",
          "Correlation": 0.2,
          "Count": 3,
          "Negate": true,
          "Question": "C2P",
          "Trait": "REGULARITY"
         },
         {
          "Concept": "GRAPHIC",
          "Correlation": 0.2,
          "Count": 2,
          "Negate": false,
          "Question": "C2P",
          "Trait": "DIRECTION"
         },
         {
          "Concept": "GRAPHIC",
          "Correlation": 0.2,
          "Count": 5,
          "Negate": false,
          "Question": "C2P",
          "Trait": "DISCERNIBILITY"
         },
         {
          "Concept": "GRAPHIC",
          "Correlation": 0.2,
          "Count": 3,
          "Negate": true,
          "Question": "C2P",
          "Trait": "DISCERNIBILITY"
         },
         {
          "Concept": "GRAPHIC",
          "Correlation": 0.2,
          "Count": 20,
          "Negate": false,
          "Question": "C2P",
          "Trait": "MAGNITUDE"
         },
         {
          "Concept": "GRAPHIC",
          "Correlation": 0.2,
          "Count": 3,
          "Negate": true,
          "Question": "C2P",
          "Trait": "MAGNITUDE"
         },
         {
          "Concept": "GRAPHIC",
          "Correlation": 0.2,
          "Count": 28,
          "Negate": false,
          "Question": "C2P",
          "Trait": "POSITION"
         },
         {
          "Concept": "GRAPHIC",
          "Correlation": 0.2,
          "Count": 6,
          "Negate": true,
          "Question": "C2P",
          "Trait": "POSITION"
         },
         {
          "Concept": "GRAPHIC",
          "Correlation": 0.2,
          "Count": 4,
          "Negate": false,
          "Question": "C2P",
          "Trait": "REGULARITY"
         },
         {
          "Concept": "GRAPHIC",
          "Correlation": 0.2,
          "Count": 3,
          "Negate": true,
          "Question": "C2P",
          "Trait": "REGULARITY"
         },
         {
          "Concept": "INFERENCES",
          "Correlation": 0.2,
          "Count": 8,
          "Negate": false,
          "Question": "C2P",
          "Trait": "DIRECTION"
         },
         {
          "Concept": "INFERENCES",
          "Correlation": 0.2,
          "Count": 5,
          "Negate": false,
          "Question": "C2P",
          "Trait": "DISCERNIBILITY"
         },
         {
          "Concept": "INFERENCES",
          "Correlation": 0.2,
          "Count": 11,
          "Negate": true,
          "Question": "C2P",
          "Trait": "DISCERNIBILITY"
         },
         {
          "Concept": "INFERENCES",
          "Correlation": 0.2,
          "Count": 38,
          "Negate": false,
          "Question": "C2P",
          "Trait": "MAGNITUDE"
         },
         {
          "Concept": "INFERENCES",
          "Correlation": 0.2,
          "Count": 8,
          "Negate": true,
          "Question": "C2P",
          "Trait": "MAGNITUDE"
         },
         {
          "Concept": "INFERENCES",
          "Correlation": 0.2,
          "Count": 44,
          "Negate": false,
          "Question": "C2P",
          "Trait": "POSITION"
         },
         {
          "Concept": "INFERENCES",
          "Correlation": 0.2,
          "Count": 24,
          "Negate": true,
          "Question": "C2P",
          "Trait": "POSITION"
         },
         {
          "Concept": "INFERENCES",
          "Correlation": 0.2,
          "Count": 5,
          "Negate": false,
          "Question": "C2P",
          "Trait": "REGULARITY"
         },
         {
          "Concept": "INFERENCES",
          "Correlation": 0.2,
          "Count": 8,
          "Negate": true,
          "Question": "C2P",
          "Trait": "REGULARITY"
         },
         {
          "Concept": "RELATION",
          "Correlation": 0.2,
          "Count": 13,
          "Negate": false,
          "Question": "C2P",
          "Trait": "DIRECTION"
         },
         {
          "Concept": "RELATION",
          "Correlation": 0.2,
          "Count": 1,
          "Negate": true,
          "Question": "C2P",
          "Trait": "DIRECTION"
         },
         {
          "Concept": "RELATION",
          "Correlation": 0.2,
          "Count": 4,
          "Negate": false,
          "Question": "C2P",
          "Trait": "DISCERNIBILITY"
         },
         {
          "Concept": "RELATION",
          "Correlation": 0.2,
          "Count": 17,
          "Negate": true,
          "Question": "C2P",
          "Trait": "DISCERNIBILITY"
         },
         {
          "Concept": "RELATION",
          "Correlation": 0.2,
          "Count": 35,
          "Negate": false,
          "Question": "C2P",
          "Trait": "MAGNITUDE"
         },
         {
          "Concept": "RELATION",
          "Correlation": 0.2,
          "Count": 10,
          "Negate": true,
          "Question": "C2P",
          "Trait": "MAGNITUDE"
         },
         {
          "Concept": "RELATION",
          "Correlation": 0.2,
          "Count": 36,
          "Negate": false,
          "Question": "C2P",
          "Trait": "POSITION"
         },
         {
          "Concept": "RELATION",
          "Correlation": 0.2,
          "Count": 31,
          "Negate": true,
          "Question": "C2P",
          "Trait": "POSITION"
         },
         {
          "Concept": "RELATION",
          "Correlation": 0.2,
          "Count": 6,
          "Negate": false,
          "Question": "C2P",
          "Trait": "REGULARITY"
         },
         {
          "Concept": "RELATION",
          "Correlation": 0.2,
          "Count": 8,
          "Negate": true,
          "Question": "C2P",
          "Trait": "REGULARITY"
         },
         {
          "Concept": "SPACE",
          "Correlation": 0.2,
          "Count": 6,
          "Negate": false,
          "Question": "C2P",
          "Trait": "DIRECTION"
         },
         {
          "Concept": "SPACE",
          "Correlation": 0.2,
          "Count": 4,
          "Negate": false,
          "Question": "C2P",
          "Trait": "DISCERNIBILITY"
         },
         {
          "Concept": "SPACE",
          "Correlation": 0.2,
          "Count": 7,
          "Negate": true,
          "Question": "C2P",
          "Trait": "DISCERNIBILITY"
         },
         {
          "Concept": "SPACE",
          "Correlation": 0.2,
          "Count": 32,
          "Negate": false,
          "Question": "C2P",
          "Trait": "MAGNITUDE"
         },
         {
          "Concept": "SPACE",
          "Correlation": 0.2,
          "Count": 4,
          "Negate": true,
          "Question": "C2P",
          "Trait": "MAGNITUDE"
         },
         {
          "Concept": "SPACE",
          "Correlation": 0.2,
          "Count": 34,
          "Negate": false,
          "Question": "C2P",
          "Trait": "POSITION"
         },
         {
          "Concept": "SPACE",
          "Correlation": 0.2,
          "Count": 8,
          "Negate": true,
          "Question": "C2P",
          "Trait": "POSITION"
         },
         {
          "Concept": "SPACE",
          "Correlation": 0.2,
          "Count": 1,
          "Negate": false,
          "Question": "C2P",
          "Trait": "REGULARITY"
         },
         {
          "Concept": "SPACE",
          "Correlation": 0.2,
          "Count": 4,
          "Negate": true,
          "Question": "C2P",
          "Trait": "REGULARITY"
         },
         {
          "Concept": "BEHAVIOUR",
          "Correlation": -0.4,
          "Count": 6,
          "Negate": false,
          "Question": "C4N",
          "Trait": "DIRECTION"
         },
         {
          "Concept": "BEHAVIOUR",
          "Correlation": -0.4,
          "Count": 1,
          "Negate": true,
          "Question": "C4N",
          "Trait": "DIRECTION"
         },
         {
          "Concept": "BEHAVIOUR",
          "Correlation": -0.4,
          "Count": 1,
          "Negate": false,
          "Question": "C4N",
          "Trait": "DISCERNIBILITY"
         },
         {
          "Concept": "BEHAVIOUR",
          "Correlation": -0.4,
          "Count": 6,
          "Negate": true,
          "Question": "C4N",
          "Trait": "DISCERNIBILITY"
         },
         {
          "Concept": "BEHAVIOUR",
          "Correlation": -0.4,
          "Count": 10,
          "Negate": false,
          "Question": "C4N",
          "Trait": "MAGNITUDE"
         },
         {
          "Concept": "BEHAVIOUR",
          "Correlation": -0.4,
          "Count": 3,
          "Negate": true,
          "Question": "C4N",
          "Trait": "MAGNITUDE"
         },
         {
          "Concept": "BEHAVIOUR",
          "Correlation": -0.4,
          "Count": 11,
          "Negate": false,
          "Question": "C4N",
          "Trait": "POSITION"
         },
         {
          "Concept": "BEHAVIOUR",
          "Correlation": -0.4,
          "Count": 3,
          "Negate": true,
          "Question": "C4N",
          "Trait": "POSITION"
         },
         {
          "Concept": "BEHAVIOUR",
          "Correlation": -0.4,
          "Count": 2,
          "Negate": false,
          "Question": "C4N",
          "Trait": "REGULARITY"
         },
         {
          "Concept": "BEHAVIOUR",
          "Correlation": -0.4,
          "Count": 3,
          "Negate": true,
          "Question": "C4N",
          "Trait": "REGULARITY"
         },
         {
          "Concept": "GRAPHIC",
          "Correlation": -0.4,
          "Count": 6,
          "Negate": false,
          "Question": "C4N",
          "Trait": "DIRECTION"
         },
         {
          "Concept": "GRAPHIC",
          "Correlation": -0.4,
          "Count": 1,
          "Negate": true,
          "Question": "C4N",
          "Trait": "DIRECTION"
         },
         {
          "Concept": "GRAPHIC",
          "Correlation": -0.4,
          "Count": 3,
          "Negate": false,
          "Question": "C4N",
          "Trait": "DISCERNIBILITY"
         },
         {
          "Concept": "GRAPHIC",
          "Correlation": -0.4,
          "Count": 5,
          "Negate": true,
          "Question": "C4N",
          "Trait": "DISCERNIBILITY"
         },
         {
          "Concept": "GRAPHIC",
          "Correlation": -0.4,
          "Count": 15,
          "Negate": false,
          "Question": "C4N",
          "Trait": "MAGNITUDE"
         },
         {
          "Concept": "GRAPHIC",
          "Correlation": -0.4,
          "Count": 3,
          "Negate": true,
          "Question": "C4N",
          "Trait": "MAGNITUDE"
         },
         {
          "Concept": "GRAPHIC",
          "Correlation": -0.4,
          "Count": 19,
          "Negate": false,
          "Question": "C4N",
          "Trait": "POSITION"
         },
         {
          "Concept": "GRAPHIC",
          "Correlation": -0.4,
          "Count": 8,
          "Negate": true,
          "Question": "C4N",
          "Trait": "POSITION"
         },
         {
          "Concept": "GRAPHIC",
          "Correlation": -0.4,
          "Count": 6,
          "Negate": false,
          "Question": "C4N",
          "Trait": "REGULARITY"
         },
         {
          "Concept": "GRAPHIC",
          "Correlation": -0.4,
          "Count": 2,
          "Negate": true,
          "Question": "C4N",
          "Trait": "REGULARITY"
         },
         {
          "Concept": "INFERENCES",
          "Correlation": -0.4,
          "Count": 9,
          "Negate": false,
          "Question": "C4N",
          "Trait": "DIRECTION"
         },
         {
          "Concept": "INFERENCES",
          "Correlation": -0.4,
          "Count": 1,
          "Negate": true,
          "Question": "C4N",
          "Trait": "DIRECTION"
         },
         {
          "Concept": "INFERENCES",
          "Correlation": -0.4,
          "Count": 6,
          "Negate": false,
          "Question": "C4N",
          "Trait": "DISCERNIBILITY"
         },
         {
          "Concept": "INFERENCES",
          "Correlation": -0.4,
          "Count": 9,
          "Negate": true,
          "Question": "C4N",
          "Trait": "DISCERNIBILITY"
         },
         {
          "Concept": "INFERENCES",
          "Correlation": -0.4,
          "Count": 27,
          "Negate": false,
          "Question": "C4N",
          "Trait": "MAGNITUDE"
         },
         {
          "Concept": "INFERENCES",
          "Correlation": -0.4,
          "Count": 9,
          "Negate": true,
          "Question": "C4N",
          "Trait": "MAGNITUDE"
         },
         {
          "Concept": "INFERENCES",
          "Correlation": -0.4,
          "Count": 41,
          "Negate": false,
          "Question": "C4N",
          "Trait": "POSITION"
         },
         {
          "Concept": "INFERENCES",
          "Correlation": -0.4,
          "Count": 21,
          "Negate": true,
          "Question": "C4N",
          "Trait": "POSITION"
         },
         {
          "Concept": "INFERENCES",
          "Correlation": -0.4,
          "Count": 7,
          "Negate": false,
          "Question": "C4N",
          "Trait": "REGULARITY"
         },
         {
          "Concept": "INFERENCES",
          "Correlation": -0.4,
          "Count": 4,
          "Negate": true,
          "Question": "C4N",
          "Trait": "REGULARITY"
         },
         {
          "Concept": "RELATION",
          "Correlation": -0.4,
          "Count": 21,
          "Negate": false,
          "Question": "C4N",
          "Trait": "DIRECTION"
         },
         {
          "Concept": "RELATION",
          "Correlation": -0.4,
          "Count": 3,
          "Negate": true,
          "Question": "C4N",
          "Trait": "DIRECTION"
         },
         {
          "Concept": "RELATION",
          "Correlation": -0.4,
          "Count": 6,
          "Negate": false,
          "Question": "C4N",
          "Trait": "DISCERNIBILITY"
         },
         {
          "Concept": "RELATION",
          "Correlation": -0.4,
          "Count": 19,
          "Negate": true,
          "Question": "C4N",
          "Trait": "DISCERNIBILITY"
         },
         {
          "Concept": "RELATION",
          "Correlation": -0.4,
          "Count": 35,
          "Negate": false,
          "Question": "C4N",
          "Trait": "MAGNITUDE"
         },
         {
          "Concept": "RELATION",
          "Correlation": -0.4,
          "Count": 10,
          "Negate": true,
          "Question": "C4N",
          "Trait": "MAGNITUDE"
         },
         {
          "Concept": "RELATION",
          "Correlation": -0.4,
          "Count": 33,
          "Negate": false,
          "Question": "C4N",
          "Trait": "POSITION"
         },
         {
          "Concept": "RELATION",
          "Correlation": -0.4,
          "Count": 27,
          "Negate": true,
          "Question": "C4N",
          "Trait": "POSITION"
         },
         {
          "Concept": "RELATION",
          "Correlation": -0.4,
          "Count": 7,
          "Negate": false,
          "Question": "C4N",
          "Trait": "REGULARITY"
         },
         {
          "Concept": "RELATION",
          "Correlation": -0.4,
          "Count": 4,
          "Negate": true,
          "Question": "C4N",
          "Trait": "REGULARITY"
         },
         {
          "Concept": "SPACE",
          "Correlation": -0.4,
          "Count": 5,
          "Negate": false,
          "Question": "C4N",
          "Trait": "DIRECTION"
         },
         {
          "Concept": "SPACE",
          "Correlation": -0.4,
          "Count": 3,
          "Negate": false,
          "Question": "C4N",
          "Trait": "DISCERNIBILITY"
         },
         {
          "Concept": "SPACE",
          "Correlation": -0.4,
          "Count": 6,
          "Negate": true,
          "Question": "C4N",
          "Trait": "DISCERNIBILITY"
         },
         {
          "Concept": "SPACE",
          "Correlation": -0.4,
          "Count": 24,
          "Negate": false,
          "Question": "C4N",
          "Trait": "MAGNITUDE"
         },
         {
          "Concept": "SPACE",
          "Correlation": -0.4,
          "Count": 7,
          "Negate": true,
          "Question": "C4N",
          "Trait": "MAGNITUDE"
         },
         {
          "Concept": "SPACE",
          "Correlation": -0.4,
          "Count": 31,
          "Negate": false,
          "Question": "C4N",
          "Trait": "POSITION"
         },
         {
          "Concept": "SPACE",
          "Correlation": -0.4,
          "Count": 8,
          "Negate": true,
          "Question": "C4N",
          "Trait": "POSITION"
         },
         {
          "Concept": "SPACE",
          "Correlation": -0.4,
          "Count": 8,
          "Negate": false,
          "Question": "C4N",
          "Trait": "REGULARITY"
         },
         {
          "Concept": "SPACE",
          "Correlation": -0.4,
          "Count": 2,
          "Negate": true,
          "Question": "C4N",
          "Trait": "REGULARITY"
         },
         {
          "Concept": "BEHAVIOUR",
          "Correlation": 0.4,
          "Count": 12,
          "Negate": false,
          "Question": "C4P",
          "Trait": "DIRECTION"
         },
         {
          "Concept": "BEHAVIOUR",
          "Correlation": 0.4,
          "Count": 7,
          "Negate": false,
          "Question": "C4P",
          "Trait": "DISCERNIBILITY"
         },
         {
          "Concept": "BEHAVIOUR",
          "Correlation": 0.4,
          "Count": 2,
          "Negate": true,
          "Question": "C4P",
          "Trait": "DISCERNIBILITY"
         },
         {
          "Concept": "BEHAVIOUR",
          "Correlation": 0.4,
          "Count": 17,
          "Negate": false,
          "Question": "C4P",
          "Trait": "MAGNITUDE"
         },
         {
          "Concept": "BEHAVIOUR",
          "Correlation": 0.4,
          "Count": 2,
          "Negate": true,
          "Question": "C4P",
          "Trait": "MAGNITUDE"
         },
         {
          "Concept": "BEHAVIOUR",
          "Correlation": 0.4,
          "Count": 14,
          "Negate": false,
          "Question": "C4P",
          "Trait": "POSITION"
         },
         {
          "Concept": "BEHAVIOUR",
          "Correlation": 0.4,
          "Count": 2,
          "Negate": true,
          "Question": "C4P",
          "Trait": "POSITION"
         },
         {
          "Concept": "BEHAVIOUR",
          "Correlation": 0.4,
          "Count": 12,
          "Negate": false,
          "Question": "C4P",
          "Trait": "REGULARITY"
         },
         {
          "Concept": "BEHAVIOUR",
          "Correlation": 0.4,
          "Count": 1,
          "Negate": true,
          "Question": "C4P",
          "Trait": "REGULARITY"
         },
         {
          "Concept": "GRAPHIC",
          "Correlation": 0.4,
          "Count": 2,
          "Negate": false,
          "Question": "C4P",
          "Trait": "DIRECTION"
         },
         {
          "Concept": "GRAPHIC",
          "Correlation": 0.4,
          "Count": 1,
          "Negate": false,
          "Question": "C4P",
          "Trait": "DISCERNIBILITY"
         },
         {
          "Concept": "GRAPHIC",
          "Correlation": 0.4,
          "Count": 3,
          "Negate": true,
          "Question": "C4P",
          "Trait": "DISCERNIBILITY"
         },
         {
          "Concept": "GRAPHIC",
          "Correlation": 0.4,
          "Count": 12,
          "Negate": false,
          "Question": "C4P",
          "Trait": "MAGNITUDE"
         },
         {
          "Concept": "GRAPHIC",
          "Correlation": 0.4,
          "Count": 5,
          "Negate": true,
          "Question": "C4P",
          "Trait": "MAGNITUDE"
         },
         {
          "Concept": "GRAPHIC",
          "Correlation": 0.4,
          "Count": 19,
          "Negate": false,
          "Question": "C4P",
          "Trait": "POSITION"
         },
         {
          "Concept": "GRAPHIC",
          "Correlation": 0.4,
          "Count": 8,
          "Negate": true,
          "Question": "C4P",
          "Trait": "POSITION"
         },
         {
          "Concept": "GRAPHIC",
          "Correlation": 0.4,
          "Count": 3,
          "Negate": false,
          "Question": "C4P",
          "Trait": "REGULARITY"
         },
         {
          "Concept": "GRAPHIC",
          "Correlation": 0.4,
          "Count": 3,
          "Negate": true,
          "Question": "C4P",
          "Trait": "REGULARITY"
         },
         {
          "Concept": "INFERENCES",
          "Correlation": 0.4,
          "Count": 17,
          "Negate": false,
          "Question": "C4P",
          "Trait": "DIRECTION"
         },
         {
          "Concept": "INFERENCES",
          "Correlation": 0.4,
          "Count": 2,
          "Negate": true,
          "Question": "C4P",
          "Trait": "DIRECTION"
         },
         {
          "Concept": "INFERENCES",
          "Correlation": 0.4,
          "Count": 6,
          "Negate": false,
          "Question": "C4P",
          "Trait": "DISCERNIBILITY"
         },
         {
          "Concept": "INFERENCES",
          "Correlation": 0.4,
          "Count": 8,
          "Negate": true,
          "Question": "C4P",
          "Trait": "DISCERNIBILITY"
         },
         {
          "Concept": "INFERENCES",
          "Correlation": 0.4,
          "Count": 42,
          "Negate": false,
          "Question": "C4P",
          "Trait": "MAGNITUDE"
         },
         {
          "Concept": "INFERENCES",
          "Correlation": 0.4,
          "Count": 10,
          "Negate": true,
          "Question": "C4P",
          "Trait": "MAGNITUDE"
         },
         {
          "Concept": "INFERENCES",
          "Correlation": 0.4,
          "Count": 48,
          "Negate": false,
          "Question": "C4P",
          "Trait": "POSITION"
         },
         {
          "Concept": "INFERENCES",
          "Correlation": 0.4,
          "Count": 17,
          "Negate": true,
          "Question": "C4P",
          "Trait": "POSITION"
         },
         {
          "Concept": "INFERENCES",
          "Correlation": 0.4,
          "Count": 17,
          "Negate": false,
          "Question": "C4P",
          "Trait": "REGULARITY"
         },
         {
          "Concept": "INFERENCES",
          "Correlation": 0.4,
          "Count": 5,
          "Negate": true,
          "Question": "C4P",
          "Trait": "REGULARITY"
         },
         {
          "Concept": "RELATION",
          "Correlation": 0.4,
          "Count": 30,
          "Negate": false,
          "Question": "C4P",
          "Trait": "DIRECTION"
         },
         {
          "Concept": "RELATION",
          "Correlation": 0.4,
          "Count": 3,
          "Negate": true,
          "Question": "C4P",
          "Trait": "DIRECTION"
         },
         {
          "Concept": "RELATION",
          "Correlation": 0.4,
          "Count": 5,
          "Negate": false,
          "Question": "C4P",
          "Trait": "DISCERNIBILITY"
         },
         {
          "Concept": "RELATION",
          "Correlation": 0.4,
          "Count": 10,
          "Negate": true,
          "Question": "C4P",
          "Trait": "DISCERNIBILITY"
         },
         {
          "Concept": "RELATION",
          "Correlation": 0.4,
          "Count": 43,
          "Negate": false,
          "Question": "C4P",
          "Trait": "MAGNITUDE"
         },
         {
          "Concept": "RELATION",
          "Correlation": 0.4,
          "Count": 7,
          "Negate": true,
          "Question": "C4P",
          "Trait": "MAGNITUDE"
         },
         {
          "Concept": "RELATION",
          "Correlation": 0.4,
          "Count": 47,
          "Negate": false,
          "Question": "C4P",
          "Trait": "POSITION"
         },
         {
          "Concept": "RELATION",
          "Correlation": 0.4,
          "Count": 15,
          "Negate": true,
          "Question": "C4P",
          "Trait": "POSITION"
         },
         {
          "Concept": "RELATION",
          "Correlation": 0.4,
          "Count": 17,
          "Negate": false,
          "Question": "C4P",
          "Trait": "REGULARITY"
         },
         {
          "Concept": "RELATION",
          "Correlation": 0.4,
          "Count": 4,
          "Negate": true,
          "Question": "C4P",
          "Trait": "REGULARITY"
         },
         {
          "Concept": "SPACE",
          "Correlation": 0.4,
          "Count": 10,
          "Negate": false,
          "Question": "C4P",
          "Trait": "DIRECTION"
         },
         {
          "Concept": "SPACE",
          "Correlation": 0.4,
          "Count": 1,
          "Negate": true,
          "Question": "C4P",
          "Trait": "DIRECTION"
         },
         {
          "Concept": "SPACE",
          "Correlation": 0.4,
          "Count": 4,
          "Negate": false,
          "Question": "C4P",
          "Trait": "DISCERNIBILITY"
         },
         {
          "Concept": "SPACE",
          "Correlation": 0.4,
          "Count": 5,
          "Negate": true,
          "Question": "C4P",
          "Trait": "DISCERNIBILITY"
         },
         {
          "Concept": "SPACE",
          "Correlation": 0.4,
          "Count": 25,
          "Negate": false,
          "Question": "C4P",
          "Trait": "MAGNITUDE"
         },
         {
          "Concept": "SPACE",
          "Correlation": 0.4,
          "Count": 8,
          "Negate": true,
          "Question": "C4P",
          "Trait": "MAGNITUDE"
         },
         {
          "Concept": "SPACE",
          "Correlation": 0.4,
          "Count": 28,
          "Negate": false,
          "Question": "C4P",
          "Trait": "POSITION"
         },
         {
          "Concept": "SPACE",
          "Correlation": 0.4,
          "Count": 12,
          "Negate": true,
          "Question": "C4P",
          "Trait": "POSITION"
         },
         {
          "Concept": "SPACE",
          "Correlation": 0.4,
          "Count": 9,
          "Negate": false,
          "Question": "C4P",
          "Trait": "REGULARITY"
         },
         {
          "Concept": "SPACE",
          "Correlation": 0.4,
          "Count": 4,
          "Negate": true,
          "Question": "C4P",
          "Trait": "REGULARITY"
         },
         {
          "Concept": "BEHAVIOUR",
          "Correlation": -0.6,
          "Count": 21,
          "Negate": false,
          "Question": "C6N",
          "Trait": "DIRECTION"
         },
         {
          "Concept": "BEHAVIOUR",
          "Correlation": -0.6,
          "Count": 2,
          "Negate": true,
          "Question": "C6N",
          "Trait": "DIRECTION"
         },
         {
          "Concept": "BEHAVIOUR",
          "Correlation": -0.6,
          "Count": 5,
          "Negate": false,
          "Question": "C6N",
          "Trait": "DISCERNIBILITY"
         },
         {
          "Concept": "BEHAVIOUR",
          "Correlation": -0.6,
          "Count": 1,
          "Negate": true,
          "Question": "C6N",
          "Trait": "DISCERNIBILITY"
         },
         {
          "Concept": "BEHAVIOUR",
          "Correlation": -0.6,
          "Count": 18,
          "Negate": false,
          "Question": "C6N",
          "Trait": "MAGNITUDE"
         },
         {
          "Concept": "BEHAVIOUR",
          "Correlation": -0.6,
          "Count": 3,
          "Negate": true,
          "Question": "C6N",
          "Trait": "MAGNITUDE"
         },
         {
          "Concept": "BEHAVIOUR",
          "Correlation": -0.6,
          "Count": 18,
          "Negate": false,
          "Question": "C6N",
          "Trait": "POSITION"
         },
         {
          "Concept": "BEHAVIOUR",
          "Correlation": -0.6,
          "Count": 2,
          "Negate": true,
          "Question": "C6N",
          "Trait": "POSITION"
         },
         {
          "Concept": "BEHAVIOUR",
          "Correlation": -0.6,
          "Count": 7,
          "Negate": false,
          "Question": "C6N",
          "Trait": "REGULARITY"
         },
         {
          "Concept": "BEHAVIOUR",
          "Correlation": -0.6,
          "Count": 1,
          "Negate": true,
          "Question": "C6N",
          "Trait": "REGULARITY"
         },
         {
          "Concept": "GRAPHIC",
          "Correlation": -0.6,
          "Count": 12,
          "Negate": false,
          "Question": "C6N",
          "Trait": "DIRECTION"
         },
         {
          "Concept": "GRAPHIC",
          "Correlation": -0.6,
          "Count": 2,
          "Negate": true,
          "Question": "C6N",
          "Trait": "DIRECTION"
         },
         {
          "Concept": "GRAPHIC",
          "Correlation": -0.6,
          "Count": 6,
          "Negate": false,
          "Question": "C6N",
          "Trait": "DISCERNIBILITY"
         },
         {
          "Concept": "GRAPHIC",
          "Correlation": -0.6,
          "Count": 9,
          "Negate": false,
          "Question": "C6N",
          "Trait": "MAGNITUDE"
         },
         {
          "Concept": "GRAPHIC",
          "Correlation": -0.6,
          "Count": 5,
          "Negate": true,
          "Question": "C6N",
          "Trait": "MAGNITUDE"
         },
         {
          "Concept": "GRAPHIC",
          "Correlation": -0.6,
          "Count": 15,
          "Negate": false,
          "Question": "C6N",
          "Trait": "POSITION"
         },
         {
          "Concept": "GRAPHIC",
          "Correlation": -0.6,
          "Count": 4,
          "Negate": true,
          "Question": "C6N",
          "Trait": "POSITION"
         },
         {
          "Concept": "GRAPHIC",
          "Correlation": -0.6,
          "Count": 5,
          "Negate": false,
          "Question": "C6N",
          "Trait": "REGULARITY"
         },
         {
          "Concept": "GRAPHIC",
          "Correlation": -0.6,
          "Count": 2,
          "Negate": true,
          "Question": "C6N",
          "Trait": "REGULARITY"
         },
         {
          "Concept": "INFERENCES",
          "Correlation": -0.6,
          "Count": 28,
          "Negate": false,
          "Question": "C6N",
          "Trait": "DIRECTION"
         },
         {
          "Concept": "INFERENCES",
          "Correlation": -0.6,
          "Count": 1,
          "Negate": true,
          "Question": "C6N",
          "Trait": "DIRECTION"
         },
         {
          "Concept": "INFERENCES",
          "Correlation": -0.6,
          "Count": 9,
          "Negate": false,
          "Question": "C6N",
          "Trait": "DISCERNIBILITY"
         },
         {
          "Concept": "INFERENCES",
          "Correlation": -0.6,
          "Count": 2,
          "Negate": true,
          "Question": "C6N",
          "Trait": "DISCERNIBILITY"
         },
         {
          "Concept": "INFERENCES",
          "Correlation": -0.6,
          "Count": 32,
          "Negate": false,
          "Question": "C6N",
          "Trait": "MAGNITUDE"
         },
         {
          "Concept": "INFERENCES",
          "Correlation": -0.6,
          "Count": 6,
          "Negate": true,
          "Question": "C6N",
          "Trait": "MAGNITUDE"
         },
         {
          "Concept": "INFERENCES",
          "Correlation": -0.6,
          "Count": 47,
          "Negate": false,
          "Question": "C6N",
          "Trait": "POSITION"
         },
         {
          "Concept": "INFERENCES",
          "Correlation": -0.6,
          "Count": 8,
          "Negate": true,
          "Question": "C6N",
          "Trait": "POSITION"
         },
         {
          "Concept": "INFERENCES",
          "Correlation": -0.6,
          "Count": 13,
          "Negate": false,
          "Question": "C6N",
          "Trait": "REGULARITY"
         },
         {
          "Concept": "INFERENCES",
          "Correlation": -0.6,
          "Count": 1,
          "Negate": true,
          "Question": "C6N",
          "Trait": "REGULARITY"
         },
         {
          "Concept": "RELATION",
          "Correlation": -0.6,
          "Count": 42,
          "Negate": false,
          "Question": "C6N",
          "Trait": "DIRECTION"
         },
         {
          "Concept": "RELATION",
          "Correlation": -0.6,
          "Count": 1,
          "Negate": true,
          "Question": "C6N",
          "Trait": "DIRECTION"
         },
         {
          "Concept": "RELATION",
          "Correlation": -0.6,
          "Count": 6,
          "Negate": false,
          "Question": "C6N",
          "Trait": "DISCERNIBILITY"
         },
         {
          "Concept": "RELATION",
          "Correlation": -0.6,
          "Count": 3,
          "Negate": true,
          "Question": "C6N",
          "Trait": "DISCERNIBILITY"
         },
         {
          "Concept": "RELATION",
          "Correlation": -0.6,
          "Count": 37,
          "Negate": false,
          "Question": "C6N",
          "Trait": "MAGNITUDE"
         },
         {
          "Concept": "RELATION",
          "Correlation": -0.6,
          "Count": 8,
          "Negate": true,
          "Question": "C6N",
          "Trait": "MAGNITUDE"
         },
         {
          "Concept": "RELATION",
          "Correlation": -0.6,
          "Count": 35,
          "Negate": false,
          "Question": "C6N",
          "Trait": "POSITION"
         },
         {
          "Concept": "RELATION",
          "Correlation": -0.6,
          "Count": 8,
          "Negate": true,
          "Question": "C6N",
          "Trait": "POSITION"
         },
         {
          "Concept": "RELATION",
          "Correlation": -0.6,
          "Count": 9,
          "Negate": false,
          "Question": "C6N",
          "Trait": "REGULARITY"
         },
         {
          "Concept": "RELATION",
          "Correlation": -0.6,
          "Count": 2,
          "Negate": true,
          "Question": "C6N",
          "Trait": "REGULARITY"
         },
         {
          "Concept": "SPACE",
          "Correlation": -0.6,
          "Count": 15,
          "Negate": false,
          "Question": "C6N",
          "Trait": "DIRECTION"
         },
         {
          "Concept": "SPACE",
          "Correlation": -0.6,
          "Count": 5,
          "Negate": false,
          "Question": "C6N",
          "Trait": "DISCERNIBILITY"
         },
         {
          "Concept": "SPACE",
          "Correlation": -0.6,
          "Count": 1,
          "Negate": true,
          "Question": "C6N",
          "Trait": "DISCERNIBILITY"
         },
         {
          "Concept": "SPACE",
          "Correlation": -0.6,
          "Count": 16,
          "Negate": false,
          "Question": "C6N",
          "Trait": "MAGNITUDE"
         },
         {
          "Concept": "SPACE",
          "Correlation": -0.6,
          "Count": 5,
          "Negate": true,
          "Question": "C6N",
          "Trait": "MAGNITUDE"
         },
         {
          "Concept": "SPACE",
          "Correlation": -0.6,
          "Count": 29,
          "Negate": false,
          "Question": "C6N",
          "Trait": "POSITION"
         },
         {
          "Concept": "SPACE",
          "Correlation": -0.6,
          "Count": 5,
          "Negate": true,
          "Question": "C6N",
          "Trait": "POSITION"
         },
         {
          "Concept": "SPACE",
          "Correlation": -0.6,
          "Count": 9,
          "Negate": false,
          "Question": "C6N",
          "Trait": "REGULARITY"
         },
         {
          "Concept": "SPACE",
          "Correlation": -0.6,
          "Count": 1,
          "Negate": true,
          "Question": "C6N",
          "Trait": "REGULARITY"
         },
         {
          "Concept": "BEHAVIOUR",
          "Correlation": 0.6,
          "Count": 13,
          "Negate": false,
          "Question": "C6P",
          "Trait": "DIRECTION"
         },
         {
          "Concept": "BEHAVIOUR",
          "Correlation": 0.6,
          "Count": 1,
          "Negate": true,
          "Question": "C6P",
          "Trait": "DIRECTION"
         },
         {
          "Concept": "BEHAVIOUR",
          "Correlation": 0.6,
          "Count": 9,
          "Negate": false,
          "Question": "C6P",
          "Trait": "DISCERNIBILITY"
         },
         {
          "Concept": "BEHAVIOUR",
          "Correlation": 0.6,
          "Count": 18,
          "Negate": false,
          "Question": "C6P",
          "Trait": "MAGNITUDE"
         },
         {
          "Concept": "BEHAVIOUR",
          "Correlation": 0.6,
          "Count": 1,
          "Negate": true,
          "Question": "C6P",
          "Trait": "MAGNITUDE"
         },
         {
          "Concept": "BEHAVIOUR",
          "Correlation": 0.6,
          "Count": 17,
          "Negate": false,
          "Question": "C6P",
          "Trait": "POSITION"
         },
         {
          "Concept": "BEHAVIOUR",
          "Correlation": 0.6,
          "Count": 1,
          "Negate": true,
          "Question": "C6P",
          "Trait": "POSITION"
         },
         {
          "Concept": "BEHAVIOUR",
          "Correlation": 0.6,
          "Count": 14,
          "Negate": false,
          "Question": "C6P",
          "Trait": "REGULARITY"
         },
         {
          "Concept": "BEHAVIOUR",
          "Correlation": 0.6,
          "Count": 3,
          "Negate": true,
          "Question": "C6P",
          "Trait": "REGULARITY"
         },
         {
          "Concept": "GRAPHIC",
          "Correlation": 0.6,
          "Count": 7,
          "Negate": false,
          "Question": "C6P",
          "Trait": "DIRECTION"
         },
         {
          "Concept": "GRAPHIC",
          "Correlation": 0.6,
          "Count": 2,
          "Negate": true,
          "Question": "C6P",
          "Trait": "DIRECTION"
         },
         {
          "Concept": "GRAPHIC",
          "Correlation": 0.6,
          "Count": 2,
          "Negate": false,
          "Question": "C6P",
          "Trait": "DISCERNIBILITY"
         },
         {
          "Concept": "GRAPHIC",
          "Correlation": 0.6,
          "Count": 1,
          "Negate": true,
          "Question": "C6P",
          "Trait": "DISCERNIBILITY"
         },
         {
          "Concept": "GRAPHIC",
          "Correlation": 0.6,
          "Count": 15,
          "Negate": false,
          "Question": "C6P",
          "Trait": "MAGNITUDE"
         },
         {
          "Concept": "GRAPHIC",
          "Correlation": 0.6,
          "Count": 2,
          "Negate": true,
          "Question": "C6P",
          "Trait": "MAGNITUDE"
         },
         {
          "Concept": "GRAPHIC",
          "Correlation": 0.6,
          "Count": 21,
          "Negate": false,
          "Question": "C6P",
          "Trait": "POSITION"
         },
         {
          "Concept": "GRAPHIC",
          "Correlation": 0.6,
          "Count": 5,
          "Negate": true,
          "Question": "C6P",
          "Trait": "POSITION"
         },
         {
          "Concept": "GRAPHIC",
          "Correlation": 0.6,
          "Count": 5,
          "Negate": false,
          "Question": "C6P",
          "Trait": "REGULARITY"
         },
         {
          "Concept": "GRAPHIC",
          "Correlation": 0.6,
          "Count": 2,
          "Negate": true,
          "Question": "C6P",
          "Trait": "REGULARITY"
         },
         {
          "Concept": "INFERENCES",
          "Correlation": 0.6,
          "Count": 27,
          "Negate": false,
          "Question": "C6P",
          "Trait": "DIRECTION"
         },
         {
          "Concept": "INFERENCES",
          "Correlation": 0.6,
          "Count": 1,
          "Negate": true,
          "Question": "C6P",
          "Trait": "DIRECTION"
         },
         {
          "Concept": "INFERENCES",
          "Correlation": 0.6,
          "Count": 9,
          "Negate": false,
          "Question": "C6P",
          "Trait": "DISCERNIBILITY"
         },
         {
          "Concept": "INFERENCES",
          "Correlation": 0.6,
          "Count": 1,
          "Negate": true,
          "Question": "C6P",
          "Trait": "DISCERNIBILITY"
         },
         {
          "Concept": "INFERENCES",
          "Correlation": 0.6,
          "Count": 42,
          "Negate": false,
          "Question": "C6P",
          "Trait": "MAGNITUDE"
         },
         {
          "Concept": "INFERENCES",
          "Correlation": 0.6,
          "Count": 1,
          "Negate": true,
          "Question": "C6P",
          "Trait": "MAGNITUDE"
         },
         {
          "Concept": "INFERENCES",
          "Correlation": 0.6,
          "Count": 55,
          "Negate": false,
          "Question": "C6P",
          "Trait": "POSITION"
         },
         {
          "Concept": "INFERENCES",
          "Correlation": 0.6,
          "Count": 5,
          "Negate": true,
          "Question": "C6P",
          "Trait": "POSITION"
         },
         {
          "Concept": "INFERENCES",
          "Correlation": 0.6,
          "Count": 21,
          "Negate": false,
          "Question": "C6P",
          "Trait": "REGULARITY"
         },
         {
          "Concept": "INFERENCES",
          "Correlation": 0.6,
          "Count": 2,
          "Negate": true,
          "Question": "C6P",
          "Trait": "REGULARITY"
         },
         {
          "Concept": "RELATION",
          "Correlation": 0.6,
          "Count": 38,
          "Negate": false,
          "Question": "C6P",
          "Trait": "DIRECTION"
         },
         {
          "Concept": "RELATION",
          "Correlation": 0.6,
          "Count": 4,
          "Negate": true,
          "Question": "C6P",
          "Trait": "DIRECTION"
         },
         {
          "Concept": "RELATION",
          "Correlation": 0.6,
          "Count": 7,
          "Negate": false,
          "Question": "C6P",
          "Trait": "DISCERNIBILITY"
         },
         {
          "Concept": "RELATION",
          "Correlation": 0.6,
          "Count": 3,
          "Negate": true,
          "Question": "C6P",
          "Trait": "DISCERNIBILITY"
         },
         {
          "Concept": "RELATION",
          "Correlation": 0.6,
          "Count": 46,
          "Negate": false,
          "Question": "C6P",
          "Trait": "MAGNITUDE"
         },
         {
          "Concept": "RELATION",
          "Correlation": 0.6,
          "Count": 5,
          "Negate": true,
          "Question": "C6P",
          "Trait": "MAGNITUDE"
         },
         {
          "Concept": "RELATION",
          "Correlation": 0.6,
          "Count": 47,
          "Negate": false,
          "Question": "C6P",
          "Trait": "POSITION"
         },
         {
          "Concept": "RELATION",
          "Correlation": 0.6,
          "Count": 7,
          "Negate": true,
          "Question": "C6P",
          "Trait": "POSITION"
         },
         {
          "Concept": "RELATION",
          "Correlation": 0.6,
          "Count": 18,
          "Negate": false,
          "Question": "C6P",
          "Trait": "REGULARITY"
         },
         {
          "Concept": "RELATION",
          "Correlation": 0.6,
          "Count": 3,
          "Negate": true,
          "Question": "C6P",
          "Trait": "REGULARITY"
         },
         {
          "Concept": "SPACE",
          "Correlation": 0.6,
          "Count": 15,
          "Negate": false,
          "Question": "C6P",
          "Trait": "DIRECTION"
         },
         {
          "Concept": "SPACE",
          "Correlation": 0.6,
          "Count": 1,
          "Negate": true,
          "Question": "C6P",
          "Trait": "DIRECTION"
         },
         {
          "Concept": "SPACE",
          "Correlation": 0.6,
          "Count": 3,
          "Negate": false,
          "Question": "C6P",
          "Trait": "DISCERNIBILITY"
         },
         {
          "Concept": "SPACE",
          "Correlation": 0.6,
          "Count": 1,
          "Negate": true,
          "Question": "C6P",
          "Trait": "DISCERNIBILITY"
         },
         {
          "Concept": "SPACE",
          "Correlation": 0.6,
          "Count": 28,
          "Negate": false,
          "Question": "C6P",
          "Trait": "MAGNITUDE"
         },
         {
          "Concept": "SPACE",
          "Correlation": 0.6,
          "Count": 2,
          "Negate": true,
          "Question": "C6P",
          "Trait": "MAGNITUDE"
         },
         {
          "Concept": "SPACE",
          "Correlation": 0.6,
          "Count": 33,
          "Negate": false,
          "Question": "C6P",
          "Trait": "POSITION"
         },
         {
          "Concept": "SPACE",
          "Correlation": 0.6,
          "Count": 1,
          "Negate": true,
          "Question": "C6P",
          "Trait": "POSITION"
         },
         {
          "Concept": "SPACE",
          "Correlation": 0.6,
          "Count": 13,
          "Negate": false,
          "Question": "C6P",
          "Trait": "REGULARITY"
         },
         {
          "Concept": "SPACE",
          "Correlation": 0.6,
          "Count": 1,
          "Negate": true,
          "Question": "C6P",
          "Trait": "REGULARITY"
         },
         {
          "Concept": "BEHAVIOUR",
          "Correlation": -0.8,
          "Count": 29,
          "Negate": false,
          "Question": "C8N",
          "Trait": "DIRECTION"
         },
         {
          "Concept": "BEHAVIOUR",
          "Correlation": -0.8,
          "Count": 8,
          "Negate": false,
          "Question": "C8N",
          "Trait": "DISCERNIBILITY"
         },
         {
          "Concept": "BEHAVIOUR",
          "Correlation": -0.8,
          "Count": 1,
          "Negate": true,
          "Question": "C8N",
          "Trait": "DISCERNIBILITY"
         },
         {
          "Concept": "BEHAVIOUR",
          "Correlation": -0.8,
          "Count": 16,
          "Negate": false,
          "Question": "C8N",
          "Trait": "MAGNITUDE"
         },
         {
          "Concept": "BEHAVIOUR",
          "Correlation": -0.8,
          "Count": 1,
          "Negate": true,
          "Question": "C8N",
          "Trait": "MAGNITUDE"
         },
         {
          "Concept": "BEHAVIOUR",
          "Correlation": -0.8,
          "Count": 27,
          "Negate": false,
          "Question": "C8N",
          "Trait": "POSITION"
         },
         {
          "Concept": "BEHAVIOUR",
          "Correlation": -0.8,
          "Count": 15,
          "Negate": false,
          "Question": "C8N",
          "Trait": "REGULARITY"
         },
         {
          "Concept": "GRAPHIC",
          "Correlation": -0.8,
          "Count": 11,
          "Negate": false,
          "Question": "C8N",
          "Trait": "DIRECTION"
         },
         {
          "Concept": "GRAPHIC",
          "Correlation": -0.8,
          "Count": 3,
          "Negate": false,
          "Question": "C8N",
          "Trait": "DISCERNIBILITY"
         },
         {
          "Concept": "GRAPHIC",
          "Correlation": -0.8,
          "Count": 2,
          "Negate": true,
          "Question": "C8N",
          "Trait": "DISCERNIBILITY"
         },
         {
          "Concept": "GRAPHIC",
          "Correlation": -0.8,
          "Count": 6,
          "Negate": false,
          "Question": "C8N",
          "Trait": "MAGNITUDE"
         },
         {
          "Concept": "GRAPHIC",
          "Correlation": -0.8,
          "Count": 2,
          "Negate": true,
          "Question": "C8N",
          "Trait": "MAGNITUDE"
         },
         {
          "Concept": "GRAPHIC",
          "Correlation": -0.8,
          "Count": 16,
          "Negate": false,
          "Question": "C8N",
          "Trait": "POSITION"
         },
         {
          "Concept": "GRAPHIC",
          "Correlation": -0.8,
          "Count": 2,
          "Negate": true,
          "Question": "C8N",
          "Trait": "POSITION"
         },
         {
          "Concept": "GRAPHIC",
          "Correlation": -0.8,
          "Count": 4,
          "Negate": false,
          "Question": "C8N",
          "Trait": "REGULARITY"
         },
         {
          "Concept": "INFERENCES",
          "Correlation": -0.8,
          "Count": 35,
          "Negate": false,
          "Question": "C8N",
          "Trait": "DIRECTION"
         },
         {
          "Concept": "INFERENCES",
          "Correlation": -0.8,
          "Count": 11,
          "Negate": false,
          "Question": "C8N",
          "Trait": "DISCERNIBILITY"
         },
         {
          "Concept": "INFERENCES",
          "Correlation": -0.8,
          "Count": 2,
          "Negate": true,
          "Question": "C8N",
          "Trait": "DISCERNIBILITY"
         },
         {
          "Concept": "INFERENCES",
          "Correlation": -0.8,
          "Count": 27,
          "Negate": false,
          "Question": "C8N",
          "Trait": "MAGNITUDE"
         },
         {
          "Concept": "INFERENCES",
          "Correlation": -0.8,
          "Count": 2,
          "Negate": true,
          "Question": "C8N",
          "Trait": "MAGNITUDE"
         },
         {
          "Concept": "INFERENCES",
          "Correlation": -0.8,
          "Count": 61,
          "Negate": false,
          "Question": "C8N",
          "Trait": "POSITION"
         },
         {
          "Concept": "INFERENCES",
          "Correlation": -0.8,
          "Count": 2,
          "Negate": true,
          "Question": "C8N",
          "Trait": "POSITION"
         },
         {
          "Concept": "INFERENCES",
          "Correlation": -0.8,
          "Count": 17,
          "Negate": false,
          "Question": "C8N",
          "Trait": "REGULARITY"
         },
         {
          "Concept": "INFERENCES",
          "Correlation": -0.8,
          "Count": 1,
          "Negate": true,
          "Question": "C8N",
          "Trait": "REGULARITY"
         },
         {
          "Concept": "RELATION",
          "Correlation": -0.8,
          "Count": 51,
          "Negate": false,
          "Question": "C8N",
          "Trait": "DIRECTION"
         },
         {
          "Concept": "RELATION",
          "Correlation": -0.8,
          "Count": 10,
          "Negate": false,
          "Question": "C8N",
          "Trait": "DISCERNIBILITY"
         },
         {
          "Concept": "RELATION",
          "Correlation": -0.8,
          "Count": 2,
          "Negate": true,
          "Question": "C8N",
          "Trait": "DISCERNIBILITY"
         },
         {
          "Concept": "RELATION",
          "Correlation": -0.8,
          "Count": 29,
          "Negate": false,
          "Question": "C8N",
          "Trait": "MAGNITUDE"
         },
         {
          "Concept": "RELATION",
          "Correlation": -0.8,
          "Count": 2,
          "Negate": true,
          "Question": "C8N",
          "Trait": "MAGNITUDE"
         },
         {
          "Concept": "RELATION",
          "Correlation": -0.8,
          "Count": 49,
          "Negate": false,
          "Question": "C8N",
          "Trait": "POSITION"
         },
         {
          "Concept": "RELATION",
          "Correlation": -0.8,
          "Count": 3,
          "Negate": true,
          "Question": "C8N",
          "Trait": "POSITION"
         },
         {
          "Concept": "RELATION",
          "Correlation": -0.8,
          "Count": 15,
          "Negate": false,
          "Question": "C8N",
          "Trait": "REGULARITY"
         },
         {
          "Concept": "RELATION",
          "Correlation": -0.8,
          "Count": 1,
          "Negate": true,
          "Question": "C8N",
          "Trait": "REGULARITY"
         },
         {
          "Concept": "SPACE",
          "Correlation": -0.8,
          "Count": 10,
          "Negate": false,
          "Question": "C8N",
          "Trait": "DIRECTION"
         },
         {
          "Concept": "SPACE",
          "Correlation": -0.8,
          "Count": 2,
          "Negate": false,
          "Question": "C8N",
          "Trait": "DISCERNIBILITY"
         },
         {
          "Concept": "SPACE",
          "Correlation": -0.8,
          "Count": 1,
          "Negate": true,
          "Question": "C8N",
          "Trait": "DISCERNIBILITY"
         },
         {
          "Concept": "SPACE",
          "Correlation": -0.8,
          "Count": 11,
          "Negate": false,
          "Question": "C8N",
          "Trait": "MAGNITUDE"
         },
         {
          "Concept": "SPACE",
          "Correlation": -0.8,
          "Count": 1,
          "Negate": true,
          "Question": "C8N",
          "Trait": "MAGNITUDE"
         },
         {
          "Concept": "SPACE",
          "Correlation": -0.8,
          "Count": 25,
          "Negate": false,
          "Question": "C8N",
          "Trait": "POSITION"
         },
         {
          "Concept": "SPACE",
          "Correlation": -0.8,
          "Count": 1,
          "Negate": true,
          "Question": "C8N",
          "Trait": "POSITION"
         },
         {
          "Concept": "SPACE",
          "Correlation": -0.8,
          "Count": 8,
          "Negate": false,
          "Question": "C8N",
          "Trait": "REGULARITY"
         },
         {
          "Concept": "BEHAVIOUR",
          "Correlation": 0.8,
          "Count": 14,
          "Negate": false,
          "Question": "C8P",
          "Trait": "DIRECTION"
         },
         {
          "Concept": "BEHAVIOUR",
          "Correlation": 0.8,
          "Count": 1,
          "Negate": true,
          "Question": "C8P",
          "Trait": "DIRECTION"
         },
         {
          "Concept": "BEHAVIOUR",
          "Correlation": 0.8,
          "Count": 8,
          "Negate": false,
          "Question": "C8P",
          "Trait": "DISCERNIBILITY"
         },
         {
          "Concept": "BEHAVIOUR",
          "Correlation": 0.8,
          "Count": 22,
          "Negate": false,
          "Question": "C8P",
          "Trait": "MAGNITUDE"
         },
         {
          "Concept": "BEHAVIOUR",
          "Correlation": 0.8,
          "Count": 1,
          "Negate": true,
          "Question": "C8P",
          "Trait": "MAGNITUDE"
         },
         {
          "Concept": "BEHAVIOUR",
          "Correlation": 0.8,
          "Count": 28,
          "Negate": false,
          "Question": "C8P",
          "Trait": "POSITION"
         },
         {
          "Concept": "BEHAVIOUR",
          "Correlation": 0.8,
          "Count": 1,
          "Negate": true,
          "Question": "C8P",
          "Trait": "POSITION"
         },
         {
          "Concept": "BEHAVIOUR",
          "Correlation": 0.8,
          "Count": 22,
          "Negate": false,
          "Question": "C8P",
          "Trait": "REGULARITY"
         },
         {
          "Concept": "BEHAVIOUR",
          "Correlation": 0.8,
          "Count": 1,
          "Negate": true,
          "Question": "C8P",
          "Trait": "REGULARITY"
         },
         {
          "Concept": "GRAPHIC",
          "Correlation": 0.8,
          "Count": 13,
          "Negate": false,
          "Question": "C8P",
          "Trait": "DIRECTION"
         },
         {
          "Concept": "GRAPHIC",
          "Correlation": 0.8,
          "Count": 5,
          "Negate": false,
          "Question": "C8P",
          "Trait": "DISCERNIBILITY"
         },
         {
          "Concept": "GRAPHIC",
          "Correlation": 0.8,
          "Count": 10,
          "Negate": false,
          "Question": "C8P",
          "Trait": "MAGNITUDE"
         },
         {
          "Concept": "GRAPHIC",
          "Correlation": 0.8,
          "Count": 22,
          "Negate": false,
          "Question": "C8P",
          "Trait": "POSITION"
         },
         {
          "Concept": "GRAPHIC",
          "Correlation": 0.8,
          "Count": 1,
          "Negate": true,
          "Question": "C8P",
          "Trait": "POSITION"
         },
         {
          "Concept": "GRAPHIC",
          "Correlation": 0.8,
          "Count": 15,
          "Negate": false,
          "Question": "C8P",
          "Trait": "REGULARITY"
         },
         {
          "Concept": "INFERENCES",
          "Correlation": 0.8,
          "Count": 23,
          "Negate": false,
          "Question": "C8P",
          "Trait": "DIRECTION"
         },
         {
          "Concept": "INFERENCES",
          "Correlation": 0.8,
          "Count": 9,
          "Negate": false,
          "Question": "C8P",
          "Trait": "DISCERNIBILITY"
         },
         {
          "Concept": "INFERENCES",
          "Correlation": 0.8,
          "Count": 36,
          "Negate": false,
          "Question": "C8P",
          "Trait": "MAGNITUDE"
         },
         {
          "Concept": "INFERENCES",
          "Correlation": 0.8,
          "Count": 51,
          "Negate": false,
          "Question": "C8P",
          "Trait": "POSITION"
         },
         {
          "Concept": "INFERENCES",
          "Correlation": 0.8,
          "Count": 1,
          "Negate": true,
          "Question": "C8P",
          "Trait": "POSITION"
         },
         {
          "Concept": "INFERENCES",
          "Correlation": 0.8,
          "Count": 29,
          "Negate": false,
          "Question": "C8P",
          "Trait": "REGULARITY"
         },
         {
          "Concept": "RELATION",
          "Correlation": 0.8,
          "Count": 36,
          "Negate": false,
          "Question": "C8P",
          "Trait": "DIRECTION"
         },
         {
          "Concept": "RELATION",
          "Correlation": 0.8,
          "Count": 12,
          "Negate": false,
          "Question": "C8P",
          "Trait": "DISCERNIBILITY"
         },
         {
          "Concept": "RELATION",
          "Correlation": 0.8,
          "Count": 40,
          "Negate": false,
          "Question": "C8P",
          "Trait": "MAGNITUDE"
         },
         {
          "Concept": "RELATION",
          "Correlation": 0.8,
          "Count": 50,
          "Negate": false,
          "Question": "C8P",
          "Trait": "POSITION"
         },
         {
          "Concept": "RELATION",
          "Correlation": 0.8,
          "Count": 1,
          "Negate": true,
          "Question": "C8P",
          "Trait": "POSITION"
         },
         {
          "Concept": "RELATION",
          "Correlation": 0.8,
          "Count": 27,
          "Negate": false,
          "Question": "C8P",
          "Trait": "REGULARITY"
         },
         {
          "Concept": "SPACE",
          "Correlation": 0.8,
          "Count": 9,
          "Negate": false,
          "Question": "C8P",
          "Trait": "DIRECTION"
         },
         {
          "Concept": "SPACE",
          "Correlation": 0.8,
          "Count": 2,
          "Negate": false,
          "Question": "C8P",
          "Trait": "DISCERNIBILITY"
         },
         {
          "Concept": "SPACE",
          "Correlation": 0.8,
          "Count": 14,
          "Negate": false,
          "Question": "C8P",
          "Trait": "MAGNITUDE"
         },
         {
          "Concept": "SPACE",
          "Correlation": 0.8,
          "Count": 25,
          "Negate": false,
          "Question": "C8P",
          "Trait": "POSITION"
         },
         {
          "Concept": "SPACE",
          "Correlation": 0.8,
          "Count": 1,
          "Negate": true,
          "Question": "C8P",
          "Trait": "POSITION"
         },
         {
          "Concept": "SPACE",
          "Correlation": 0.8,
          "Count": 12,
          "Negate": false,
          "Question": "C8P",
          "Trait": "REGULARITY"
         }
        ]
       },
       "facet": {
        "column": {
         "field": "Trait",
         "type": "nominal"
        }
       },
       "spec": {
        "encoding": {
         "color": {
          "field": "Concept",
          "type": "nominal"
         },
         "x": {
          "field": "Correlation",
          "type": "ordinal"
         },
         "y": {
          "aggregate": "sum",
          "axis": {
           "tickCount": 5,
           "title": null
          },
          "field": "Count",
          "scale": {
           "domain": [
            0,
            250
           ]
          },
          "type": "quantitative"
         }
        },
        "height": 100,
        "mark": "bar",
        "width": 100
       }
      },
      "image/png": "[encoded data removed]",
      "text/plain": [
       "<VegaLite 3 object>\n",
       "\n",
       "If you see this message, it means the renderer has not been properly enabled\n",
       "for the frontend that you are using. For more information, see\n",
       "https://altair-viz.github.io/user_guide/troubleshooting.html\n"
      ]
     },
     "execution_count": 19,
     "metadata": {},
     "output_type": "execute_result"
    }
   ],
   "source": [
    "alt.Chart(cbyt).mark_bar().encode(\n",
    "    x='Correlation:O',\n",
    "    y=alt.Y('sum(Count):Q',scale=alt.Scale(domain=(0, 250)),axis=alt.Axis(title=None,tickCount=5)),\n",
    "    color=\"Concept:N\"\n",
    ").properties(width=100,height=100).facet(column='Trait:N') #,row='Negate:N')"
   ]
  },
  {
   "cell_type": "markdown",
   "metadata": {},
   "source": [
    "Comparing the distribution of traits by concepts, per level of correlation"
   ]
  },
  {
   "cell_type": "code",
   "execution_count": 46,
   "metadata": {},
   "outputs": [
    {
     "data": {
      "text/html": [
       "\n",
       "<div id=\"altair-viz-78dbaa810fda4ed8a838db1feb5e76de\"></div>\n",
       "<script type=\"text/javascript\">\n",
       "  (function(spec, embedOpt){\n",
       "    let outputDiv = document.currentScript.previousElementSibling;\n",
       "    if (outputDiv.id !== \"altair-viz-78dbaa810fda4ed8a838db1feb5e76de\") {\n",
       "      outputDiv = document.getElementById(\"altair-viz-78dbaa810fda4ed8a838db1feb5e76de\");\n",
       "    }\n",
       "    const paths = {\n",
       "      \"vega\": \"https://cdn.jsdelivr.net/npm//vega@5?noext\",\n",
       "      \"vega-lib\": \"https://cdn.jsdelivr.net/npm//vega-lib?noext\",\n",
       "      \"vega-lite\": \"https://cdn.jsdelivr.net/npm//vega-lite@4.8.1?noext\",\n",
       "      \"vega-embed\": \"https://cdn.jsdelivr.net/npm//vega-embed@6?noext\",\n",
       "    };\n",
       "\n",
       "    function loadScript(lib) {\n",
       "      return new Promise(function(resolve, reject) {\n",
       "        var s = document.createElement('script');\n",
       "        s.src = paths[lib];\n",
       "        s.async = true;\n",
       "        s.onload = () => resolve(paths[lib]);\n",
       "        s.onerror = () => reject(`Error loading script: ${paths[lib]}`);\n",
       "        document.getElementsByTagName(\"head\")[0].appendChild(s);\n",
       "      });\n",
       "    }\n",
       "\n",
       "    function showError(err) {\n",
       "      outputDiv.innerHTML = `<div class=\"error\" style=\"color:red;\">${err}</div>`;\n",
       "      throw err;\n",
       "    }\n",
       "\n",
       "    function displayChart(vegaEmbed) {\n",
       "      vegaEmbed(outputDiv, spec, embedOpt)\n",
       "        .catch(err => showError(`Javascript Error: ${err.message}<br>This usually means there's a typo in your chart specification. See the javascript console for the full traceback.`));\n",
       "    }\n",
       "\n",
       "    if(typeof define === \"function\" && define.amd) {\n",
       "      requirejs.config({paths});\n",
       "      require([\"vega-embed\"], displayChart, err => showError(`Error loading script: ${err.message}`));\n",
       "    } else if (typeof vegaEmbed === \"function\") {\n",
       "      displayChart(vegaEmbed);\n",
       "    } else {\n",
       "      loadScript(\"vega\")\n",
       "        .then(() => loadScript(\"vega-lite\"))\n",
       "        .then(() => loadScript(\"vega-embed\"))\n",
       "        .catch(showError)\n",
       "        .then(() => displayChart(vegaEmbed));\n",
       "    }\n",
       "  })({\"config\": {\"mark\": {\"color\": \"#000050\"}, \"title\": {\"font\": \"Avenir\", \"anchor\": \"end\"}, \"axis\": {\"labelFont\": \"Avenir\", \"titleFont\": \"Avenir\"}, \"header\": {\"labelFont\": \"Avenir\", \"labelFontSize\": 12, \"titleFont\": \"Avenir\"}, \"legend\": {\"labelFont\": \"Avenir\", \"titleFont\": \"Avenir\"}}, \"data\": {\"name\": \"data-09b2d69200479a6ecdd62f25da67c0a6\"}, \"mark\": \"bar\", \"encoding\": {\"color\": {\"type\": \"nominal\", \"field\": \"Trait\"}, \"column\": {\"type\": \"nominal\", \"field\": \"Concept\"}, \"tooltip\": [{\"type\": \"quantitative\", \"field\": \"Count\"}], \"x\": {\"type\": \"ordinal\", \"field\": \"Correlation\"}, \"y\": {\"type\": \"quantitative\", \"field\": \"PercentOfTotal\", \"stack\": \"normalize\"}}, \"height\": 100, \"transform\": [{\"joinaggregate\": [{\"op\": \"sum\", \"field\": \"Count\", \"as\": \"totalCount\"}]}, {\"calculate\": \"datum.Count / datum.totalCount\", \"as\": \"PercentOfTotal\"}], \"width\": 100, \"$schema\": \"https://vega.github.io/schema/vega-lite/v4.8.1.json\", \"datasets\": {\"data-09b2d69200479a6ecdd62f25da67c0a6\": [{\"Question\": \"C0\", \"Concept\": \"BEHAVIOUR\", \"Trait\": \"DISCERNIBILITY\", \"Negate\": false, \"Count\": 2, \"Correlation\": 0.0}, {\"Question\": \"C0\", \"Concept\": \"BEHAVIOUR\", \"Trait\": \"DISCERNIBILITY\", \"Negate\": true, \"Count\": 6, \"Correlation\": 0.0}, {\"Question\": \"C0\", \"Concept\": \"BEHAVIOUR\", \"Trait\": \"MAGNITUDE\", \"Negate\": false, \"Count\": 4, \"Correlation\": 0.0}, {\"Question\": \"C0\", \"Concept\": \"BEHAVIOUR\", \"Trait\": \"MAGNITUDE\", \"Negate\": true, \"Count\": 2, \"Correlation\": 0.0}, {\"Question\": \"C0\", \"Concept\": \"BEHAVIOUR\", \"Trait\": \"POSITION\", \"Negate\": false, \"Count\": 6, \"Correlation\": 0.0}, {\"Question\": \"C0\", \"Concept\": \"BEHAVIOUR\", \"Trait\": \"POSITION\", \"Negate\": true, \"Count\": 6, \"Correlation\": 0.0}, {\"Question\": \"C0\", \"Concept\": \"GRAPHIC\", \"Trait\": \"DIRECTION\", \"Negate\": false, \"Count\": 1, \"Correlation\": 0.0}, {\"Question\": \"C0\", \"Concept\": \"GRAPHIC\", \"Trait\": \"DISCERNIBILITY\", \"Negate\": false, \"Count\": 2, \"Correlation\": 0.0}, {\"Question\": \"C0\", \"Concept\": \"GRAPHIC\", \"Trait\": \"DISCERNIBILITY\", \"Negate\": true, \"Count\": 6, \"Correlation\": 0.0}, {\"Question\": \"C0\", \"Concept\": \"GRAPHIC\", \"Trait\": \"MAGNITUDE\", \"Negate\": false, \"Count\": 13, \"Correlation\": 0.0}, {\"Question\": \"C0\", \"Concept\": \"GRAPHIC\", \"Trait\": \"MAGNITUDE\", \"Negate\": true, \"Count\": 6, \"Correlation\": 0.0}, {\"Question\": \"C0\", \"Concept\": \"GRAPHIC\", \"Trait\": \"POSITION\", \"Negate\": false, \"Count\": 15, \"Correlation\": 0.0}, {\"Question\": \"C0\", \"Concept\": \"GRAPHIC\", \"Trait\": \"POSITION\", \"Negate\": true, \"Count\": 8, \"Correlation\": 0.0}, {\"Question\": \"C0\", \"Concept\": \"GRAPHIC\", \"Trait\": \"REGULARITY\", \"Negate\": false, \"Count\": 2, \"Correlation\": 0.0}, {\"Question\": \"C0\", \"Concept\": \"INFERENCES\", \"Trait\": \"DIRECTION\", \"Negate\": false, \"Count\": 1, \"Correlation\": 0.0}, {\"Question\": \"C0\", \"Concept\": \"INFERENCES\", \"Trait\": \"DIRECTION\", \"Negate\": true, \"Count\": 1, \"Correlation\": 0.0}, {\"Question\": \"C0\", \"Concept\": \"INFERENCES\", \"Trait\": \"DISCERNIBILITY\", \"Negate\": false, \"Count\": 5, \"Correlation\": 0.0}, {\"Question\": \"C0\", \"Concept\": \"INFERENCES\", \"Trait\": \"DISCERNIBILITY\", \"Negate\": true, \"Count\": 15, \"Correlation\": 0.0}, {\"Question\": \"C0\", \"Concept\": \"INFERENCES\", \"Trait\": \"MAGNITUDE\", \"Negate\": false, \"Count\": 25, \"Correlation\": 0.0}, {\"Question\": \"C0\", \"Concept\": \"INFERENCES\", \"Trait\": \"MAGNITUDE\", \"Negate\": true, \"Count\": 6, \"Correlation\": 0.0}, {\"Question\": \"C0\", \"Concept\": \"INFERENCES\", \"Trait\": \"POSITION\", \"Negate\": false, \"Count\": 27, \"Correlation\": 0.0}, {\"Question\": \"C0\", \"Concept\": \"INFERENCES\", \"Trait\": \"POSITION\", \"Negate\": true, \"Count\": 16, \"Correlation\": 0.0}, {\"Question\": \"C0\", \"Concept\": \"INFERENCES\", \"Trait\": \"REGULARITY\", \"Negate\": false, \"Count\": 7, \"Correlation\": 0.0}, {\"Question\": \"C0\", \"Concept\": \"RELATION\", \"Trait\": \"DIRECTION\", \"Negate\": false, \"Count\": 4, \"Correlation\": 0.0}, {\"Question\": \"C0\", \"Concept\": \"RELATION\", \"Trait\": \"DISCERNIBILITY\", \"Negate\": false, \"Count\": 3, \"Correlation\": 0.0}, {\"Question\": \"C0\", \"Concept\": \"RELATION\", \"Trait\": \"DISCERNIBILITY\", \"Negate\": true, \"Count\": 22, \"Correlation\": 0.0}, {\"Question\": \"C0\", \"Concept\": \"RELATION\", \"Trait\": \"MAGNITUDE\", \"Negate\": false, \"Count\": 24, \"Correlation\": 0.0}, {\"Question\": \"C0\", \"Concept\": \"RELATION\", \"Trait\": \"MAGNITUDE\", \"Negate\": true, \"Count\": 9, \"Correlation\": 0.0}, {\"Question\": \"C0\", \"Concept\": \"RELATION\", \"Trait\": \"POSITION\", \"Negate\": false, \"Count\": 19, \"Correlation\": 0.0}, {\"Question\": \"C0\", \"Concept\": \"RELATION\", \"Trait\": \"POSITION\", \"Negate\": true, \"Count\": 18, \"Correlation\": 0.0}, {\"Question\": \"C0\", \"Concept\": \"RELATION\", \"Trait\": \"REGULARITY\", \"Negate\": false, \"Count\": 6, \"Correlation\": 0.0}, {\"Question\": \"C0\", \"Concept\": \"RELATION\", \"Trait\": \"REGULARITY\", \"Negate\": true, \"Count\": 1, \"Correlation\": 0.0}, {\"Question\": \"C0\", \"Concept\": \"SPACE\", \"Trait\": \"DIRECTION\", \"Negate\": false, \"Count\": 2, \"Correlation\": 0.0}, {\"Question\": \"C0\", \"Concept\": \"SPACE\", \"Trait\": \"DIRECTION\", \"Negate\": true, \"Count\": 1, \"Correlation\": 0.0}, {\"Question\": \"C0\", \"Concept\": \"SPACE\", \"Trait\": \"DISCERNIBILITY\", \"Negate\": false, \"Count\": 4, \"Correlation\": 0.0}, {\"Question\": \"C0\", \"Concept\": \"SPACE\", \"Trait\": \"DISCERNIBILITY\", \"Negate\": true, \"Count\": 8, \"Correlation\": 0.0}, {\"Question\": \"C0\", \"Concept\": \"SPACE\", \"Trait\": \"MAGNITUDE\", \"Negate\": false, \"Count\": 24, \"Correlation\": 0.0}, {\"Question\": \"C0\", \"Concept\": \"SPACE\", \"Trait\": \"MAGNITUDE\", \"Negate\": true, \"Count\": 5, \"Correlation\": 0.0}, {\"Question\": \"C0\", \"Concept\": \"SPACE\", \"Trait\": \"POSITION\", \"Negate\": false, \"Count\": 26, \"Correlation\": 0.0}, {\"Question\": \"C0\", \"Concept\": \"SPACE\", \"Trait\": \"POSITION\", \"Negate\": true, \"Count\": 10, \"Correlation\": 0.0}, {\"Question\": \"C0\", \"Concept\": \"SPACE\", \"Trait\": \"REGULARITY\", \"Negate\": false, \"Count\": 5, \"Correlation\": 0.0}, {\"Question\": \"C2N\", \"Concept\": \"BEHAVIOUR\", \"Trait\": \"DIRECTION\", \"Negate\": false, \"Count\": 5, \"Correlation\": -0.2}, {\"Question\": \"C2N\", \"Concept\": \"BEHAVIOUR\", \"Trait\": \"DISCERNIBILITY\", \"Negate\": false, \"Count\": 1, \"Correlation\": -0.2}, {\"Question\": \"C2N\", \"Concept\": \"BEHAVIOUR\", \"Trait\": \"DISCERNIBILITY\", \"Negate\": true, \"Count\": 4, \"Correlation\": -0.2}, {\"Question\": \"C2N\", \"Concept\": \"BEHAVIOUR\", \"Trait\": \"MAGNITUDE\", \"Negate\": false, \"Count\": 11, \"Correlation\": -0.2}, {\"Question\": \"C2N\", \"Concept\": \"BEHAVIOUR\", \"Trait\": \"MAGNITUDE\", \"Negate\": true, \"Count\": 2, \"Correlation\": -0.2}, {\"Question\": \"C2N\", \"Concept\": \"BEHAVIOUR\", \"Trait\": \"POSITION\", \"Negate\": false, \"Count\": 6, \"Correlation\": -0.2}, {\"Question\": \"C2N\", \"Concept\": \"BEHAVIOUR\", \"Trait\": \"POSITION\", \"Negate\": true, \"Count\": 4, \"Correlation\": -0.2}, {\"Question\": \"C2N\", \"Concept\": \"BEHAVIOUR\", \"Trait\": \"REGULARITY\", \"Negate\": false, \"Count\": 3, \"Correlation\": -0.2}, {\"Question\": \"C2N\", \"Concept\": \"BEHAVIOUR\", \"Trait\": \"REGULARITY\", \"Negate\": true, \"Count\": 1, \"Correlation\": -0.2}, {\"Question\": \"C2N\", \"Concept\": \"GRAPHIC\", \"Trait\": \"DIRECTION\", \"Negate\": false, \"Count\": 4, \"Correlation\": -0.2}, {\"Question\": \"C2N\", \"Concept\": \"GRAPHIC\", \"Trait\": \"DISCERNIBILITY\", \"Negate\": false, \"Count\": 2, \"Correlation\": -0.2}, {\"Question\": \"C2N\", \"Concept\": \"GRAPHIC\", \"Trait\": \"DISCERNIBILITY\", \"Negate\": true, \"Count\": 5, \"Correlation\": -0.2}, {\"Question\": \"C2N\", \"Concept\": \"GRAPHIC\", \"Trait\": \"MAGNITUDE\", \"Negate\": false, \"Count\": 11, \"Correlation\": -0.2}, {\"Question\": \"C2N\", \"Concept\": \"GRAPHIC\", \"Trait\": \"MAGNITUDE\", \"Negate\": true, \"Count\": 5, \"Correlation\": -0.2}, {\"Question\": \"C2N\", \"Concept\": \"GRAPHIC\", \"Trait\": \"POSITION\", \"Negate\": false, \"Count\": 13, \"Correlation\": -0.2}, {\"Question\": \"C2N\", \"Concept\": \"GRAPHIC\", \"Trait\": \"POSITION\", \"Negate\": true, \"Count\": 9, \"Correlation\": -0.2}, {\"Question\": \"C2N\", \"Concept\": \"GRAPHIC\", \"Trait\": \"REGULARITY\", \"Negate\": false, \"Count\": 5, \"Correlation\": -0.2}, {\"Question\": \"C2N\", \"Concept\": \"GRAPHIC\", \"Trait\": \"REGULARITY\", \"Negate\": true, \"Count\": 4, \"Correlation\": -0.2}, {\"Question\": \"C2N\", \"Concept\": \"INFERENCES\", \"Trait\": \"DIRECTION\", \"Negate\": false, \"Count\": 8, \"Correlation\": -0.2}, {\"Question\": \"C2N\", \"Concept\": \"INFERENCES\", \"Trait\": \"DIRECTION\", \"Negate\": true, \"Count\": 1, \"Correlation\": -0.2}, {\"Question\": \"C2N\", \"Concept\": \"INFERENCES\", \"Trait\": \"DISCERNIBILITY\", \"Negate\": false, \"Count\": 3, \"Correlation\": -0.2}, {\"Question\": \"C2N\", \"Concept\": \"INFERENCES\", \"Trait\": \"DISCERNIBILITY\", \"Negate\": true, \"Count\": 10, \"Correlation\": -0.2}, {\"Question\": \"C2N\", \"Concept\": \"INFERENCES\", \"Trait\": \"MAGNITUDE\", \"Negate\": false, \"Count\": 31, \"Correlation\": -0.2}, {\"Question\": \"C2N\", \"Concept\": \"INFERENCES\", \"Trait\": \"MAGNITUDE\", \"Negate\": true, \"Count\": 8, \"Correlation\": -0.2}, {\"Question\": \"C2N\", \"Concept\": \"INFERENCES\", \"Trait\": \"POSITION\", \"Negate\": false, \"Count\": 24, \"Correlation\": -0.2}, {\"Question\": \"C2N\", \"Concept\": \"INFERENCES\", \"Trait\": \"POSITION\", \"Negate\": true, \"Count\": 11, \"Correlation\": -0.2}, {\"Question\": \"C2N\", \"Concept\": \"INFERENCES\", \"Trait\": \"REGULARITY\", \"Negate\": false, \"Count\": 6, \"Correlation\": -0.2}, {\"Question\": \"C2N\", \"Concept\": \"INFERENCES\", \"Trait\": \"REGULARITY\", \"Negate\": true, \"Count\": 4, \"Correlation\": -0.2}, {\"Question\": \"C2N\", \"Concept\": \"RELATION\", \"Trait\": \"DIRECTION\", \"Negate\": false, \"Count\": 14, \"Correlation\": -0.2}, {\"Question\": \"C2N\", \"Concept\": \"RELATION\", \"Trait\": \"DIRECTION\", \"Negate\": true, \"Count\": 2, \"Correlation\": -0.2}, {\"Question\": \"C2N\", \"Concept\": \"RELATION\", \"Trait\": \"DISCERNIBILITY\", \"Negate\": false, \"Count\": 2, \"Correlation\": -0.2}, {\"Question\": \"C2N\", \"Concept\": \"RELATION\", \"Trait\": \"DISCERNIBILITY\", \"Negate\": true, \"Count\": 22, \"Correlation\": -0.2}, {\"Question\": \"C2N\", \"Concept\": \"RELATION\", \"Trait\": \"MAGNITUDE\", \"Negate\": false, \"Count\": 28, \"Correlation\": -0.2}, {\"Question\": \"C2N\", \"Concept\": \"RELATION\", \"Trait\": \"MAGNITUDE\", \"Negate\": true, \"Count\": 11, \"Correlation\": -0.2}, {\"Question\": \"C2N\", \"Concept\": \"RELATION\", \"Trait\": \"POSITION\", \"Negate\": false, \"Count\": 14, \"Correlation\": -0.2}, {\"Question\": \"C2N\", \"Concept\": \"RELATION\", \"Trait\": \"POSITION\", \"Negate\": true, \"Count\": 16, \"Correlation\": -0.2}, {\"Question\": \"C2N\", \"Concept\": \"RELATION\", \"Trait\": \"REGULARITY\", \"Negate\": false, \"Count\": 7, \"Correlation\": -0.2}, {\"Question\": \"C2N\", \"Concept\": \"RELATION\", \"Trait\": \"REGULARITY\", \"Negate\": true, \"Count\": 6, \"Correlation\": -0.2}, {\"Question\": \"C2N\", \"Concept\": \"SPACE\", \"Trait\": \"DIRECTION\", \"Negate\": false, \"Count\": 9, \"Correlation\": -0.2}, {\"Question\": \"C2N\", \"Concept\": \"SPACE\", \"Trait\": \"DISCERNIBILITY\", \"Negate\": false, \"Count\": 2, \"Correlation\": -0.2}, {\"Question\": \"C2N\", \"Concept\": \"SPACE\", \"Trait\": \"DISCERNIBILITY\", \"Negate\": true, \"Count\": 5, \"Correlation\": -0.2}, {\"Question\": \"C2N\", \"Concept\": \"SPACE\", \"Trait\": \"MAGNITUDE\", \"Negate\": false, \"Count\": 22, \"Correlation\": -0.2}, {\"Question\": \"C2N\", \"Concept\": \"SPACE\", \"Trait\": \"MAGNITUDE\", \"Negate\": true, \"Count\": 5, \"Correlation\": -0.2}, {\"Question\": \"C2N\", \"Concept\": \"SPACE\", \"Trait\": \"POSITION\", \"Negate\": false, \"Count\": 19, \"Correlation\": -0.2}, {\"Question\": \"C2N\", \"Concept\": \"SPACE\", \"Trait\": \"POSITION\", \"Negate\": true, \"Count\": 8, \"Correlation\": -0.2}, {\"Question\": \"C2N\", \"Concept\": \"SPACE\", \"Trait\": \"REGULARITY\", \"Negate\": false, \"Count\": 7, \"Correlation\": -0.2}, {\"Question\": \"C2N\", \"Concept\": \"SPACE\", \"Trait\": \"REGULARITY\", \"Negate\": true, \"Count\": 2, \"Correlation\": -0.2}, {\"Question\": \"C2P\", \"Concept\": \"BEHAVIOUR\", \"Trait\": \"DIRECTION\", \"Negate\": false, \"Count\": 6, \"Correlation\": 0.2}, {\"Question\": \"C2P\", \"Concept\": \"BEHAVIOUR\", \"Trait\": \"DISCERNIBILITY\", \"Negate\": false, \"Count\": 3, \"Correlation\": 0.2}, {\"Question\": \"C2P\", \"Concept\": \"BEHAVIOUR\", \"Trait\": \"DISCERNIBILITY\", \"Negate\": true, \"Count\": 5, \"Correlation\": 0.2}, {\"Question\": \"C2P\", \"Concept\": \"BEHAVIOUR\", \"Trait\": \"MAGNITUDE\", \"Negate\": false, \"Count\": 10, \"Correlation\": 0.2}, {\"Question\": \"C2P\", \"Concept\": \"BEHAVIOUR\", \"Trait\": \"MAGNITUDE\", \"Negate\": true, \"Count\": 6, \"Correlation\": 0.2}, {\"Question\": \"C2P\", \"Concept\": \"BEHAVIOUR\", \"Trait\": \"POSITION\", \"Negate\": false, \"Count\": 4, \"Correlation\": 0.2}, {\"Question\": \"C2P\", \"Concept\": \"BEHAVIOUR\", \"Trait\": \"POSITION\", \"Negate\": true, \"Count\": 4, \"Correlation\": 0.2}, {\"Question\": \"C2P\", \"Concept\": \"BEHAVIOUR\", \"Trait\": \"REGULARITY\", \"Negate\": false, \"Count\": 1, \"Correlation\": 0.2}, {\"Question\": \"C2P\", \"Concept\": \"BEHAVIOUR\", \"Trait\": \"REGULARITY\", \"Negate\": true, \"Count\": 3, \"Correlation\": 0.2}, {\"Question\": \"C2P\", \"Concept\": \"GRAPHIC\", \"Trait\": \"DIRECTION\", \"Negate\": false, \"Count\": 2, \"Correlation\": 0.2}, {\"Question\": \"C2P\", \"Concept\": \"GRAPHIC\", \"Trait\": \"DISCERNIBILITY\", \"Negate\": false, \"Count\": 5, \"Correlation\": 0.2}, {\"Question\": \"C2P\", \"Concept\": \"GRAPHIC\", \"Trait\": \"DISCERNIBILITY\", \"Negate\": true, \"Count\": 3, \"Correlation\": 0.2}, {\"Question\": \"C2P\", \"Concept\": \"GRAPHIC\", \"Trait\": \"MAGNITUDE\", \"Negate\": false, \"Count\": 20, \"Correlation\": 0.2}, {\"Question\": \"C2P\", \"Concept\": \"GRAPHIC\", \"Trait\": \"MAGNITUDE\", \"Negate\": true, \"Count\": 3, \"Correlation\": 0.2}, {\"Question\": \"C2P\", \"Concept\": \"GRAPHIC\", \"Trait\": \"POSITION\", \"Negate\": false, \"Count\": 20, \"Correlation\": 0.2}, {\"Question\": \"C2P\", \"Concept\": \"GRAPHIC\", \"Trait\": \"POSITION\", \"Negate\": true, \"Count\": 3, \"Correlation\": 0.2}, {\"Question\": \"C2P\", \"Concept\": \"GRAPHIC\", \"Trait\": \"REGULARITY\", \"Negate\": false, \"Count\": 4, \"Correlation\": 0.2}, {\"Question\": \"C2P\", \"Concept\": \"GRAPHIC\", \"Trait\": \"REGULARITY\", \"Negate\": true, \"Count\": 3, \"Correlation\": 0.2}, {\"Question\": \"C2P\", \"Concept\": \"INFERENCES\", \"Trait\": \"DIRECTION\", \"Negate\": false, \"Count\": 8, \"Correlation\": 0.2}, {\"Question\": \"C2P\", \"Concept\": \"INFERENCES\", \"Trait\": \"DISCERNIBILITY\", \"Negate\": false, \"Count\": 5, \"Correlation\": 0.2}, {\"Question\": \"C2P\", \"Concept\": \"INFERENCES\", \"Trait\": \"DISCERNIBILITY\", \"Negate\": true, \"Count\": 11, \"Correlation\": 0.2}, {\"Question\": \"C2P\", \"Concept\": \"INFERENCES\", \"Trait\": \"MAGNITUDE\", \"Negate\": false, \"Count\": 38, \"Correlation\": 0.2}, {\"Question\": \"C2P\", \"Concept\": \"INFERENCES\", \"Trait\": \"MAGNITUDE\", \"Negate\": true, \"Count\": 8, \"Correlation\": 0.2}, {\"Question\": \"C2P\", \"Concept\": \"INFERENCES\", \"Trait\": \"POSITION\", \"Negate\": false, \"Count\": 28, \"Correlation\": 0.2}, {\"Question\": \"C2P\", \"Concept\": \"INFERENCES\", \"Trait\": \"POSITION\", \"Negate\": true, \"Count\": 8, \"Correlation\": 0.2}, {\"Question\": \"C2P\", \"Concept\": \"INFERENCES\", \"Trait\": \"REGULARITY\", \"Negate\": false, \"Count\": 5, \"Correlation\": 0.2}, {\"Question\": \"C2P\", \"Concept\": \"INFERENCES\", \"Trait\": \"REGULARITY\", \"Negate\": true, \"Count\": 8, \"Correlation\": 0.2}, {\"Question\": \"C2P\", \"Concept\": \"RELATION\", \"Trait\": \"DIRECTION\", \"Negate\": false, \"Count\": 13, \"Correlation\": 0.2}, {\"Question\": \"C2P\", \"Concept\": \"RELATION\", \"Trait\": \"DIRECTION\", \"Negate\": true, \"Count\": 1, \"Correlation\": 0.2}, {\"Question\": \"C2P\", \"Concept\": \"RELATION\", \"Trait\": \"DISCERNIBILITY\", \"Negate\": false, \"Count\": 4, \"Correlation\": 0.2}, {\"Question\": \"C2P\", \"Concept\": \"RELATION\", \"Trait\": \"DISCERNIBILITY\", \"Negate\": true, \"Count\": 17, \"Correlation\": 0.2}, {\"Question\": \"C2P\", \"Concept\": \"RELATION\", \"Trait\": \"MAGNITUDE\", \"Negate\": false, \"Count\": 35, \"Correlation\": 0.2}, {\"Question\": \"C2P\", \"Concept\": \"RELATION\", \"Trait\": \"MAGNITUDE\", \"Negate\": true, \"Count\": 10, \"Correlation\": 0.2}, {\"Question\": \"C2P\", \"Concept\": \"RELATION\", \"Trait\": \"POSITION\", \"Negate\": false, \"Count\": 18, \"Correlation\": 0.2}, {\"Question\": \"C2P\", \"Concept\": \"RELATION\", \"Trait\": \"POSITION\", \"Negate\": true, \"Count\": 9, \"Correlation\": 0.2}, {\"Question\": \"C2P\", \"Concept\": \"RELATION\", \"Trait\": \"REGULARITY\", \"Negate\": false, \"Count\": 6, \"Correlation\": 0.2}, {\"Question\": \"C2P\", \"Concept\": \"RELATION\", \"Trait\": \"REGULARITY\", \"Negate\": true, \"Count\": 8, \"Correlation\": 0.2}, {\"Question\": \"C2P\", \"Concept\": \"SPACE\", \"Trait\": \"DIRECTION\", \"Negate\": false, \"Count\": 6, \"Correlation\": 0.2}, {\"Question\": \"C2P\", \"Concept\": \"SPACE\", \"Trait\": \"DISCERNIBILITY\", \"Negate\": false, \"Count\": 4, \"Correlation\": 0.2}, {\"Question\": \"C2P\", \"Concept\": \"SPACE\", \"Trait\": \"DISCERNIBILITY\", \"Negate\": true, \"Count\": 7, \"Correlation\": 0.2}, {\"Question\": \"C2P\", \"Concept\": \"SPACE\", \"Trait\": \"MAGNITUDE\", \"Negate\": false, \"Count\": 32, \"Correlation\": 0.2}, {\"Question\": \"C2P\", \"Concept\": \"SPACE\", \"Trait\": \"MAGNITUDE\", \"Negate\": true, \"Count\": 4, \"Correlation\": 0.2}, {\"Question\": \"C2P\", \"Concept\": \"SPACE\", \"Trait\": \"POSITION\", \"Negate\": false, \"Count\": 29, \"Correlation\": 0.2}, {\"Question\": \"C2P\", \"Concept\": \"SPACE\", \"Trait\": \"POSITION\", \"Negate\": true, \"Count\": 5, \"Correlation\": 0.2}, {\"Question\": \"C2P\", \"Concept\": \"SPACE\", \"Trait\": \"REGULARITY\", \"Negate\": false, \"Count\": 1, \"Correlation\": 0.2}, {\"Question\": \"C2P\", \"Concept\": \"SPACE\", \"Trait\": \"REGULARITY\", \"Negate\": true, \"Count\": 4, \"Correlation\": 0.2}, {\"Question\": \"C4N\", \"Concept\": \"BEHAVIOUR\", \"Trait\": \"DIRECTION\", \"Negate\": false, \"Count\": 6, \"Correlation\": -0.4}, {\"Question\": \"C4N\", \"Concept\": \"BEHAVIOUR\", \"Trait\": \"DIRECTION\", \"Negate\": true, \"Count\": 1, \"Correlation\": -0.4}, {\"Question\": \"C4N\", \"Concept\": \"BEHAVIOUR\", \"Trait\": \"DISCERNIBILITY\", \"Negate\": false, \"Count\": 1, \"Correlation\": -0.4}, {\"Question\": \"C4N\", \"Concept\": \"BEHAVIOUR\", \"Trait\": \"DISCERNIBILITY\", \"Negate\": true, \"Count\": 6, \"Correlation\": -0.4}, {\"Question\": \"C4N\", \"Concept\": \"BEHAVIOUR\", \"Trait\": \"MAGNITUDE\", \"Negate\": false, \"Count\": 10, \"Correlation\": -0.4}, {\"Question\": \"C4N\", \"Concept\": \"BEHAVIOUR\", \"Trait\": \"MAGNITUDE\", \"Negate\": true, \"Count\": 3, \"Correlation\": -0.4}, {\"Question\": \"C4N\", \"Concept\": \"BEHAVIOUR\", \"Trait\": \"POSITION\", \"Negate\": false, \"Count\": 9, \"Correlation\": -0.4}, {\"Question\": \"C4N\", \"Concept\": \"BEHAVIOUR\", \"Trait\": \"POSITION\", \"Negate\": true, \"Count\": 3, \"Correlation\": -0.4}, {\"Question\": \"C4N\", \"Concept\": \"BEHAVIOUR\", \"Trait\": \"REGULARITY\", \"Negate\": false, \"Count\": 2, \"Correlation\": -0.4}, {\"Question\": \"C4N\", \"Concept\": \"BEHAVIOUR\", \"Trait\": \"REGULARITY\", \"Negate\": true, \"Count\": 3, \"Correlation\": -0.4}, {\"Question\": \"C4N\", \"Concept\": \"GRAPHIC\", \"Trait\": \"DIRECTION\", \"Negate\": false, \"Count\": 6, \"Correlation\": -0.4}, {\"Question\": \"C4N\", \"Concept\": \"GRAPHIC\", \"Trait\": \"DIRECTION\", \"Negate\": true, \"Count\": 1, \"Correlation\": -0.4}, {\"Question\": \"C4N\", \"Concept\": \"GRAPHIC\", \"Trait\": \"DISCERNIBILITY\", \"Negate\": false, \"Count\": 3, \"Correlation\": -0.4}, {\"Question\": \"C4N\", \"Concept\": \"GRAPHIC\", \"Trait\": \"DISCERNIBILITY\", \"Negate\": true, \"Count\": 5, \"Correlation\": -0.4}, {\"Question\": \"C4N\", \"Concept\": \"GRAPHIC\", \"Trait\": \"MAGNITUDE\", \"Negate\": false, \"Count\": 15, \"Correlation\": -0.4}, {\"Question\": \"C4N\", \"Concept\": \"GRAPHIC\", \"Trait\": \"MAGNITUDE\", \"Negate\": true, \"Count\": 3, \"Correlation\": -0.4}, {\"Question\": \"C4N\", \"Concept\": \"GRAPHIC\", \"Trait\": \"POSITION\", \"Negate\": false, \"Count\": 15, \"Correlation\": -0.4}, {\"Question\": \"C4N\", \"Concept\": \"GRAPHIC\", \"Trait\": \"POSITION\", \"Negate\": true, \"Count\": 4, \"Correlation\": -0.4}, {\"Question\": \"C4N\", \"Concept\": \"GRAPHIC\", \"Trait\": \"REGULARITY\", \"Negate\": false, \"Count\": 6, \"Correlation\": -0.4}, {\"Question\": \"C4N\", \"Concept\": \"GRAPHIC\", \"Trait\": \"REGULARITY\", \"Negate\": true, \"Count\": 2, \"Correlation\": -0.4}, {\"Question\": \"C4N\", \"Concept\": \"INFERENCES\", \"Trait\": \"DIRECTION\", \"Negate\": false, \"Count\": 9, \"Correlation\": -0.4}, {\"Question\": \"C4N\", \"Concept\": \"INFERENCES\", \"Trait\": \"DIRECTION\", \"Negate\": true, \"Count\": 1, \"Correlation\": -0.4}, {\"Question\": \"C4N\", \"Concept\": \"INFERENCES\", \"Trait\": \"DISCERNIBILITY\", \"Negate\": false, \"Count\": 6, \"Correlation\": -0.4}, {\"Question\": \"C4N\", \"Concept\": \"INFERENCES\", \"Trait\": \"DISCERNIBILITY\", \"Negate\": true, \"Count\": 9, \"Correlation\": -0.4}, {\"Question\": \"C4N\", \"Concept\": \"INFERENCES\", \"Trait\": \"MAGNITUDE\", \"Negate\": false, \"Count\": 27, \"Correlation\": -0.4}, {\"Question\": \"C4N\", \"Concept\": \"INFERENCES\", \"Trait\": \"MAGNITUDE\", \"Negate\": true, \"Count\": 9, \"Correlation\": -0.4}, {\"Question\": \"C4N\", \"Concept\": \"INFERENCES\", \"Trait\": \"POSITION\", \"Negate\": false, \"Count\": 30, \"Correlation\": -0.4}, {\"Question\": \"C4N\", \"Concept\": \"INFERENCES\", \"Trait\": \"POSITION\", \"Negate\": true, \"Count\": 8, \"Correlation\": -0.4}, {\"Question\": \"C4N\", \"Concept\": \"INFERENCES\", \"Trait\": \"REGULARITY\", \"Negate\": false, \"Count\": 7, \"Correlation\": -0.4}, {\"Question\": \"C4N\", \"Concept\": \"INFERENCES\", \"Trait\": \"REGULARITY\", \"Negate\": true, \"Count\": 4, \"Correlation\": -0.4}, {\"Question\": \"C4N\", \"Concept\": \"RELATION\", \"Trait\": \"DIRECTION\", \"Negate\": false, \"Count\": 21, \"Correlation\": -0.4}, {\"Question\": \"C4N\", \"Concept\": \"RELATION\", \"Trait\": \"DIRECTION\", \"Negate\": true, \"Count\": 3, \"Correlation\": -0.4}, {\"Question\": \"C4N\", \"Concept\": \"RELATION\", \"Trait\": \"DISCERNIBILITY\", \"Negate\": false, \"Count\": 6, \"Correlation\": -0.4}, {\"Question\": \"C4N\", \"Concept\": \"RELATION\", \"Trait\": \"DISCERNIBILITY\", \"Negate\": true, \"Count\": 19, \"Correlation\": -0.4}, {\"Question\": \"C4N\", \"Concept\": \"RELATION\", \"Trait\": \"MAGNITUDE\", \"Negate\": false, \"Count\": 35, \"Correlation\": -0.4}, {\"Question\": \"C4N\", \"Concept\": \"RELATION\", \"Trait\": \"MAGNITUDE\", \"Negate\": true, \"Count\": 10, \"Correlation\": -0.4}, {\"Question\": \"C4N\", \"Concept\": \"RELATION\", \"Trait\": \"POSITION\", \"Negate\": false, \"Count\": 22, \"Correlation\": -0.4}, {\"Question\": \"C4N\", \"Concept\": \"RELATION\", \"Trait\": \"POSITION\", \"Negate\": true, \"Count\": 10, \"Correlation\": -0.4}, {\"Question\": \"C4N\", \"Concept\": \"RELATION\", \"Trait\": \"REGULARITY\", \"Negate\": false, \"Count\": 7, \"Correlation\": -0.4}, {\"Question\": \"C4N\", \"Concept\": \"RELATION\", \"Trait\": \"REGULARITY\", \"Negate\": true, \"Count\": 4, \"Correlation\": -0.4}, {\"Question\": \"C4N\", \"Concept\": \"SPACE\", \"Trait\": \"DIRECTION\", \"Negate\": false, \"Count\": 5, \"Correlation\": -0.4}, {\"Question\": \"C4N\", \"Concept\": \"SPACE\", \"Trait\": \"DISCERNIBILITY\", \"Negate\": false, \"Count\": 3, \"Correlation\": -0.4}, {\"Question\": \"C4N\", \"Concept\": \"SPACE\", \"Trait\": \"DISCERNIBILITY\", \"Negate\": true, \"Count\": 6, \"Correlation\": -0.4}, {\"Question\": \"C4N\", \"Concept\": \"SPACE\", \"Trait\": \"MAGNITUDE\", \"Negate\": false, \"Count\": 24, \"Correlation\": -0.4}, {\"Question\": \"C4N\", \"Concept\": \"SPACE\", \"Trait\": \"MAGNITUDE\", \"Negate\": true, \"Count\": 7, \"Correlation\": -0.4}, {\"Question\": \"C4N\", \"Concept\": \"SPACE\", \"Trait\": \"POSITION\", \"Negate\": false, \"Count\": 25, \"Correlation\": -0.4}, {\"Question\": \"C4N\", \"Concept\": \"SPACE\", \"Trait\": \"POSITION\", \"Negate\": true, \"Count\": 4, \"Correlation\": -0.4}, {\"Question\": \"C4N\", \"Concept\": \"SPACE\", \"Trait\": \"REGULARITY\", \"Negate\": false, \"Count\": 8, \"Correlation\": -0.4}, {\"Question\": \"C4N\", \"Concept\": \"SPACE\", \"Trait\": \"REGULARITY\", \"Negate\": true, \"Count\": 2, \"Correlation\": -0.4}, {\"Question\": \"C4P\", \"Concept\": \"BEHAVIOUR\", \"Trait\": \"DIRECTION\", \"Negate\": false, \"Count\": 12, \"Correlation\": 0.4}, {\"Question\": \"C4P\", \"Concept\": \"BEHAVIOUR\", \"Trait\": \"DISCERNIBILITY\", \"Negate\": false, \"Count\": 7, \"Correlation\": 0.4}, {\"Question\": \"C4P\", \"Concept\": \"BEHAVIOUR\", \"Trait\": \"DISCERNIBILITY\", \"Negate\": true, \"Count\": 2, \"Correlation\": 0.4}, {\"Question\": \"C4P\", \"Concept\": \"BEHAVIOUR\", \"Trait\": \"MAGNITUDE\", \"Negate\": false, \"Count\": 17, \"Correlation\": 0.4}, {\"Question\": \"C4P\", \"Concept\": \"BEHAVIOUR\", \"Trait\": \"MAGNITUDE\", \"Negate\": true, \"Count\": 2, \"Correlation\": 0.4}, {\"Question\": \"C4P\", \"Concept\": \"BEHAVIOUR\", \"Trait\": \"POSITION\", \"Negate\": false, \"Count\": 9, \"Correlation\": 0.4}, {\"Question\": \"C4P\", \"Concept\": \"BEHAVIOUR\", \"Trait\": \"POSITION\", \"Negate\": true, \"Count\": 2, \"Correlation\": 0.4}, {\"Question\": \"C4P\", \"Concept\": \"BEHAVIOUR\", \"Trait\": \"REGULARITY\", \"Negate\": false, \"Count\": 12, \"Correlation\": 0.4}, {\"Question\": \"C4P\", \"Concept\": \"BEHAVIOUR\", \"Trait\": \"REGULARITY\", \"Negate\": true, \"Count\": 1, \"Correlation\": 0.4}, {\"Question\": \"C4P\", \"Concept\": \"GRAPHIC\", \"Trait\": \"DIRECTION\", \"Negate\": false, \"Count\": 2, \"Correlation\": 0.4}, {\"Question\": \"C4P\", \"Concept\": \"GRAPHIC\", \"Trait\": \"DISCERNIBILITY\", \"Negate\": false, \"Count\": 1, \"Correlation\": 0.4}, {\"Question\": \"C4P\", \"Concept\": \"GRAPHIC\", \"Trait\": \"DISCERNIBILITY\", \"Negate\": true, \"Count\": 3, \"Correlation\": 0.4}, {\"Question\": \"C4P\", \"Concept\": \"GRAPHIC\", \"Trait\": \"MAGNITUDE\", \"Negate\": false, \"Count\": 12, \"Correlation\": 0.4}, {\"Question\": \"C4P\", \"Concept\": \"GRAPHIC\", \"Trait\": \"MAGNITUDE\", \"Negate\": true, \"Count\": 5, \"Correlation\": 0.4}, {\"Question\": \"C4P\", \"Concept\": \"GRAPHIC\", \"Trait\": \"POSITION\", \"Negate\": false, \"Count\": 13, \"Correlation\": 0.4}, {\"Question\": \"C4P\", \"Concept\": \"GRAPHIC\", \"Trait\": \"POSITION\", \"Negate\": true, \"Count\": 6, \"Correlation\": 0.4}, {\"Question\": \"C4P\", \"Concept\": \"GRAPHIC\", \"Trait\": \"REGULARITY\", \"Negate\": false, \"Count\": 3, \"Correlation\": 0.4}, {\"Question\": \"C4P\", \"Concept\": \"GRAPHIC\", \"Trait\": \"REGULARITY\", \"Negate\": true, \"Count\": 3, \"Correlation\": 0.4}, {\"Question\": \"C4P\", \"Concept\": \"INFERENCES\", \"Trait\": \"DIRECTION\", \"Negate\": false, \"Count\": 17, \"Correlation\": 0.4}, {\"Question\": \"C4P\", \"Concept\": \"INFERENCES\", \"Trait\": \"DIRECTION\", \"Negate\": true, \"Count\": 2, \"Correlation\": 0.4}, {\"Question\": \"C4P\", \"Concept\": \"INFERENCES\", \"Trait\": \"DISCERNIBILITY\", \"Negate\": false, \"Count\": 6, \"Correlation\": 0.4}, {\"Question\": \"C4P\", \"Concept\": \"INFERENCES\", \"Trait\": \"DISCERNIBILITY\", \"Negate\": true, \"Count\": 8, \"Correlation\": 0.4}, {\"Question\": \"C4P\", \"Concept\": \"INFERENCES\", \"Trait\": \"MAGNITUDE\", \"Negate\": false, \"Count\": 42, \"Correlation\": 0.4}, {\"Question\": \"C4P\", \"Concept\": \"INFERENCES\", \"Trait\": \"MAGNITUDE\", \"Negate\": true, \"Count\": 10, \"Correlation\": 0.4}, {\"Question\": \"C4P\", \"Concept\": \"INFERENCES\", \"Trait\": \"POSITION\", \"Negate\": false, \"Count\": 32, \"Correlation\": 0.4}, {\"Question\": \"C4P\", \"Concept\": \"INFERENCES\", \"Trait\": \"POSITION\", \"Negate\": true, \"Count\": 10, \"Correlation\": 0.4}, {\"Question\": \"C4P\", \"Concept\": \"INFERENCES\", \"Trait\": \"REGULARITY\", \"Negate\": false, \"Count\": 17, \"Correlation\": 0.4}, {\"Question\": \"C4P\", \"Concept\": \"INFERENCES\", \"Trait\": \"REGULARITY\", \"Negate\": true, \"Count\": 5, \"Correlation\": 0.4}, {\"Question\": \"C4P\", \"Concept\": \"RELATION\", \"Trait\": \"DIRECTION\", \"Negate\": false, \"Count\": 30, \"Correlation\": 0.4}, {\"Question\": \"C4P\", \"Concept\": \"RELATION\", \"Trait\": \"DIRECTION\", \"Negate\": true, \"Count\": 3, \"Correlation\": 0.4}, {\"Question\": \"C4P\", \"Concept\": \"RELATION\", \"Trait\": \"DISCERNIBILITY\", \"Negate\": false, \"Count\": 5, \"Correlation\": 0.4}, {\"Question\": \"C4P\", \"Concept\": \"RELATION\", \"Trait\": \"DISCERNIBILITY\", \"Negate\": true, \"Count\": 10, \"Correlation\": 0.4}, {\"Question\": \"C4P\", \"Concept\": \"RELATION\", \"Trait\": \"MAGNITUDE\", \"Negate\": false, \"Count\": 43, \"Correlation\": 0.4}, {\"Question\": \"C4P\", \"Concept\": \"RELATION\", \"Trait\": \"MAGNITUDE\", \"Negate\": true, \"Count\": 7, \"Correlation\": 0.4}, {\"Question\": \"C4P\", \"Concept\": \"RELATION\", \"Trait\": \"POSITION\", \"Negate\": false, \"Count\": 28, \"Correlation\": 0.4}, {\"Question\": \"C4P\", \"Concept\": \"RELATION\", \"Trait\": \"POSITION\", \"Negate\": true, \"Count\": 5, \"Correlation\": 0.4}, {\"Question\": \"C4P\", \"Concept\": \"RELATION\", \"Trait\": \"REGULARITY\", \"Negate\": false, \"Count\": 17, \"Correlation\": 0.4}, {\"Question\": \"C4P\", \"Concept\": \"RELATION\", \"Trait\": \"REGULARITY\", \"Negate\": true, \"Count\": 4, \"Correlation\": 0.4}, {\"Question\": \"C4P\", \"Concept\": \"SPACE\", \"Trait\": \"DIRECTION\", \"Negate\": false, \"Count\": 10, \"Correlation\": 0.4}, {\"Question\": \"C4P\", \"Concept\": \"SPACE\", \"Trait\": \"DIRECTION\", \"Negate\": true, \"Count\": 1, \"Correlation\": 0.4}, {\"Question\": \"C4P\", \"Concept\": \"SPACE\", \"Trait\": \"DISCERNIBILITY\", \"Negate\": false, \"Count\": 4, \"Correlation\": 0.4}, {\"Question\": \"C4P\", \"Concept\": \"SPACE\", \"Trait\": \"DISCERNIBILITY\", \"Negate\": true, \"Count\": 5, \"Correlation\": 0.4}, {\"Question\": \"C4P\", \"Concept\": \"SPACE\", \"Trait\": \"MAGNITUDE\", \"Negate\": false, \"Count\": 25, \"Correlation\": 0.4}, {\"Question\": \"C4P\", \"Concept\": \"SPACE\", \"Trait\": \"MAGNITUDE\", \"Negate\": true, \"Count\": 8, \"Correlation\": 0.4}, {\"Question\": \"C4P\", \"Concept\": \"SPACE\", \"Trait\": \"POSITION\", \"Negate\": false, \"Count\": 23, \"Correlation\": 0.4}, {\"Question\": \"C4P\", \"Concept\": \"SPACE\", \"Trait\": \"POSITION\", \"Negate\": true, \"Count\": 9, \"Correlation\": 0.4}, {\"Question\": \"C4P\", \"Concept\": \"SPACE\", \"Trait\": \"REGULARITY\", \"Negate\": false, \"Count\": 9, \"Correlation\": 0.4}, {\"Question\": \"C4P\", \"Concept\": \"SPACE\", \"Trait\": \"REGULARITY\", \"Negate\": true, \"Count\": 4, \"Correlation\": 0.4}, {\"Question\": \"C6N\", \"Concept\": \"BEHAVIOUR\", \"Trait\": \"DIRECTION\", \"Negate\": false, \"Count\": 21, \"Correlation\": -0.6}, {\"Question\": \"C6N\", \"Concept\": \"BEHAVIOUR\", \"Trait\": \"DIRECTION\", \"Negate\": true, \"Count\": 2, \"Correlation\": -0.6}, {\"Question\": \"C6N\", \"Concept\": \"BEHAVIOUR\", \"Trait\": \"DISCERNIBILITY\", \"Negate\": false, \"Count\": 5, \"Correlation\": -0.6}, {\"Question\": \"C6N\", \"Concept\": \"BEHAVIOUR\", \"Trait\": \"DISCERNIBILITY\", \"Negate\": true, \"Count\": 1, \"Correlation\": -0.6}, {\"Question\": \"C6N\", \"Concept\": \"BEHAVIOUR\", \"Trait\": \"MAGNITUDE\", \"Negate\": false, \"Count\": 18, \"Correlation\": -0.6}, {\"Question\": \"C6N\", \"Concept\": \"BEHAVIOUR\", \"Trait\": \"MAGNITUDE\", \"Negate\": true, \"Count\": 3, \"Correlation\": -0.6}, {\"Question\": \"C6N\", \"Concept\": \"BEHAVIOUR\", \"Trait\": \"POSITION\", \"Negate\": false, \"Count\": 10, \"Correlation\": -0.6}, {\"Question\": \"C6N\", \"Concept\": \"BEHAVIOUR\", \"Trait\": \"REGULARITY\", \"Negate\": false, \"Count\": 7, \"Correlation\": -0.6}, {\"Question\": \"C6N\", \"Concept\": \"BEHAVIOUR\", \"Trait\": \"REGULARITY\", \"Negate\": true, \"Count\": 1, \"Correlation\": -0.6}, {\"Question\": \"C6N\", \"Concept\": \"GRAPHIC\", \"Trait\": \"DIRECTION\", \"Negate\": false, \"Count\": 12, \"Correlation\": -0.6}, {\"Question\": \"C6N\", \"Concept\": \"GRAPHIC\", \"Trait\": \"DIRECTION\", \"Negate\": true, \"Count\": 2, \"Correlation\": -0.6}, {\"Question\": \"C6N\", \"Concept\": \"GRAPHIC\", \"Trait\": \"DISCERNIBILITY\", \"Negate\": false, \"Count\": 6, \"Correlation\": -0.6}, {\"Question\": \"C6N\", \"Concept\": \"GRAPHIC\", \"Trait\": \"MAGNITUDE\", \"Negate\": false, \"Count\": 9, \"Correlation\": -0.6}, {\"Question\": \"C6N\", \"Concept\": \"GRAPHIC\", \"Trait\": \"MAGNITUDE\", \"Negate\": true, \"Count\": 5, \"Correlation\": -0.6}, {\"Question\": \"C6N\", \"Concept\": \"GRAPHIC\", \"Trait\": \"POSITION\", \"Negate\": false, \"Count\": 8, \"Correlation\": -0.6}, {\"Question\": \"C6N\", \"Concept\": \"GRAPHIC\", \"Trait\": \"POSITION\", \"Negate\": true, \"Count\": 4, \"Correlation\": -0.6}, {\"Question\": \"C6N\", \"Concept\": \"GRAPHIC\", \"Trait\": \"REGULARITY\", \"Negate\": false, \"Count\": 5, \"Correlation\": -0.6}, {\"Question\": \"C6N\", \"Concept\": \"GRAPHIC\", \"Trait\": \"REGULARITY\", \"Negate\": true, \"Count\": 2, \"Correlation\": -0.6}, {\"Question\": \"C6N\", \"Concept\": \"INFERENCES\", \"Trait\": \"DIRECTION\", \"Negate\": false, \"Count\": 28, \"Correlation\": -0.6}, {\"Question\": \"C6N\", \"Concept\": \"INFERENCES\", \"Trait\": \"DIRECTION\", \"Negate\": true, \"Count\": 1, \"Correlation\": -0.6}, {\"Question\": \"C6N\", \"Concept\": \"INFERENCES\", \"Trait\": \"DISCERNIBILITY\", \"Negate\": false, \"Count\": 9, \"Correlation\": -0.6}, {\"Question\": \"C6N\", \"Concept\": \"INFERENCES\", \"Trait\": \"DISCERNIBILITY\", \"Negate\": true, \"Count\": 2, \"Correlation\": -0.6}, {\"Question\": \"C6N\", \"Concept\": \"INFERENCES\", \"Trait\": \"MAGNITUDE\", \"Negate\": false, \"Count\": 32, \"Correlation\": -0.6}, {\"Question\": \"C6N\", \"Concept\": \"INFERENCES\", \"Trait\": \"MAGNITUDE\", \"Negate\": true, \"Count\": 6, \"Correlation\": -0.6}, {\"Question\": \"C6N\", \"Concept\": \"INFERENCES\", \"Trait\": \"POSITION\", \"Negate\": false, \"Count\": 33, \"Correlation\": -0.6}, {\"Question\": \"C6N\", \"Concept\": \"INFERENCES\", \"Trait\": \"POSITION\", \"Negate\": true, \"Count\": 5, \"Correlation\": -0.6}, {\"Question\": \"C6N\", \"Concept\": \"INFERENCES\", \"Trait\": \"REGULARITY\", \"Negate\": false, \"Count\": 13, \"Correlation\": -0.6}, {\"Question\": \"C6N\", \"Concept\": \"INFERENCES\", \"Trait\": \"REGULARITY\", \"Negate\": true, \"Count\": 1, \"Correlation\": -0.6}, {\"Question\": \"C6N\", \"Concept\": \"RELATION\", \"Trait\": \"DIRECTION\", \"Negate\": false, \"Count\": 42, \"Correlation\": -0.6}, {\"Question\": \"C6N\", \"Concept\": \"RELATION\", \"Trait\": \"DIRECTION\", \"Negate\": true, \"Count\": 1, \"Correlation\": -0.6}, {\"Question\": \"C6N\", \"Concept\": \"RELATION\", \"Trait\": \"DISCERNIBILITY\", \"Negate\": false, \"Count\": 6, \"Correlation\": -0.6}, {\"Question\": \"C6N\", \"Concept\": \"RELATION\", \"Trait\": \"DISCERNIBILITY\", \"Negate\": true, \"Count\": 3, \"Correlation\": -0.6}, {\"Question\": \"C6N\", \"Concept\": \"RELATION\", \"Trait\": \"MAGNITUDE\", \"Negate\": false, \"Count\": 37, \"Correlation\": -0.6}, {\"Question\": \"C6N\", \"Concept\": \"RELATION\", \"Trait\": \"MAGNITUDE\", \"Negate\": true, \"Count\": 8, \"Correlation\": -0.6}, {\"Question\": \"C6N\", \"Concept\": \"RELATION\", \"Trait\": \"POSITION\", \"Negate\": false, \"Count\": 18, \"Correlation\": -0.6}, {\"Question\": \"C6N\", \"Concept\": \"RELATION\", \"Trait\": \"POSITION\", \"Negate\": true, \"Count\": 5, \"Correlation\": -0.6}, {\"Question\": \"C6N\", \"Concept\": \"RELATION\", \"Trait\": \"REGULARITY\", \"Negate\": false, \"Count\": 9, \"Correlation\": -0.6}, {\"Question\": \"C6N\", \"Concept\": \"RELATION\", \"Trait\": \"REGULARITY\", \"Negate\": true, \"Count\": 2, \"Correlation\": -0.6}, {\"Question\": \"C6N\", \"Concept\": \"SPACE\", \"Trait\": \"DIRECTION\", \"Negate\": false, \"Count\": 15, \"Correlation\": -0.6}, {\"Question\": \"C6N\", \"Concept\": \"SPACE\", \"Trait\": \"DISCERNIBILITY\", \"Negate\": false, \"Count\": 5, \"Correlation\": -0.6}, {\"Question\": \"C6N\", \"Concept\": \"SPACE\", \"Trait\": \"DISCERNIBILITY\", \"Negate\": true, \"Count\": 1, \"Correlation\": -0.6}, {\"Question\": \"C6N\", \"Concept\": \"SPACE\", \"Trait\": \"MAGNITUDE\", \"Negate\": false, \"Count\": 16, \"Correlation\": -0.6}, {\"Question\": \"C6N\", \"Concept\": \"SPACE\", \"Trait\": \"MAGNITUDE\", \"Negate\": true, \"Count\": 5, \"Correlation\": -0.6}, {\"Question\": \"C6N\", \"Concept\": \"SPACE\", \"Trait\": \"POSITION\", \"Negate\": false, \"Count\": 24, \"Correlation\": -0.6}, {\"Question\": \"C6N\", \"Concept\": \"SPACE\", \"Trait\": \"POSITION\", \"Negate\": true, \"Count\": 4, \"Correlation\": -0.6}, {\"Question\": \"C6N\", \"Concept\": \"SPACE\", \"Trait\": \"REGULARITY\", \"Negate\": false, \"Count\": 9, \"Correlation\": -0.6}, {\"Question\": \"C6N\", \"Concept\": \"SPACE\", \"Trait\": \"REGULARITY\", \"Negate\": true, \"Count\": 1, \"Correlation\": -0.6}, {\"Question\": \"C6P\", \"Concept\": \"BEHAVIOUR\", \"Trait\": \"DIRECTION\", \"Negate\": false, \"Count\": 13, \"Correlation\": 0.6}, {\"Question\": \"C6P\", \"Concept\": \"BEHAVIOUR\", \"Trait\": \"DIRECTION\", \"Negate\": true, \"Count\": 1, \"Correlation\": 0.6}, {\"Question\": \"C6P\", \"Concept\": \"BEHAVIOUR\", \"Trait\": \"DISCERNIBILITY\", \"Negate\": false, \"Count\": 9, \"Correlation\": 0.6}, {\"Question\": \"C6P\", \"Concept\": \"BEHAVIOUR\", \"Trait\": \"MAGNITUDE\", \"Negate\": false, \"Count\": 18, \"Correlation\": 0.6}, {\"Question\": \"C6P\", \"Concept\": \"BEHAVIOUR\", \"Trait\": \"MAGNITUDE\", \"Negate\": true, \"Count\": 1, \"Correlation\": 0.6}, {\"Question\": \"C6P\", \"Concept\": \"BEHAVIOUR\", \"Trait\": \"POSITION\", \"Negate\": false, \"Count\": 8, \"Correlation\": 0.6}, {\"Question\": \"C6P\", \"Concept\": \"BEHAVIOUR\", \"Trait\": \"REGULARITY\", \"Negate\": false, \"Count\": 14, \"Correlation\": 0.6}, {\"Question\": \"C6P\", \"Concept\": \"BEHAVIOUR\", \"Trait\": \"REGULARITY\", \"Negate\": true, \"Count\": 3, \"Correlation\": 0.6}, {\"Question\": \"C6P\", \"Concept\": \"GRAPHIC\", \"Trait\": \"DIRECTION\", \"Negate\": false, \"Count\": 7, \"Correlation\": 0.6}, {\"Question\": \"C6P\", \"Concept\": \"GRAPHIC\", \"Trait\": \"DIRECTION\", \"Negate\": true, \"Count\": 2, \"Correlation\": 0.6}, {\"Question\": \"C6P\", \"Concept\": \"GRAPHIC\", \"Trait\": \"DISCERNIBILITY\", \"Negate\": false, \"Count\": 2, \"Correlation\": 0.6}, {\"Question\": \"C6P\", \"Concept\": \"GRAPHIC\", \"Trait\": \"DISCERNIBILITY\", \"Negate\": true, \"Count\": 1, \"Correlation\": 0.6}, {\"Question\": \"C6P\", \"Concept\": \"GRAPHIC\", \"Trait\": \"MAGNITUDE\", \"Negate\": false, \"Count\": 15, \"Correlation\": 0.6}, {\"Question\": \"C6P\", \"Concept\": \"GRAPHIC\", \"Trait\": \"MAGNITUDE\", \"Negate\": true, \"Count\": 2, \"Correlation\": 0.6}, {\"Question\": \"C6P\", \"Concept\": \"GRAPHIC\", \"Trait\": \"POSITION\", \"Negate\": false, \"Count\": 14, \"Correlation\": 0.6}, {\"Question\": \"C6P\", \"Concept\": \"GRAPHIC\", \"Trait\": \"POSITION\", \"Negate\": true, \"Count\": 3, \"Correlation\": 0.6}, {\"Question\": \"C6P\", \"Concept\": \"GRAPHIC\", \"Trait\": \"REGULARITY\", \"Negate\": false, \"Count\": 5, \"Correlation\": 0.6}, {\"Question\": \"C6P\", \"Concept\": \"GRAPHIC\", \"Trait\": \"REGULARITY\", \"Negate\": true, \"Count\": 2, \"Correlation\": 0.6}, {\"Question\": \"C6P\", \"Concept\": \"INFERENCES\", \"Trait\": \"DIRECTION\", \"Negate\": false, \"Count\": 27, \"Correlation\": 0.6}, {\"Question\": \"C6P\", \"Concept\": \"INFERENCES\", \"Trait\": \"DIRECTION\", \"Negate\": true, \"Count\": 1, \"Correlation\": 0.6}, {\"Question\": \"C6P\", \"Concept\": \"INFERENCES\", \"Trait\": \"DISCERNIBILITY\", \"Negate\": false, \"Count\": 9, \"Correlation\": 0.6}, {\"Question\": \"C6P\", \"Concept\": \"INFERENCES\", \"Trait\": \"DISCERNIBILITY\", \"Negate\": true, \"Count\": 1, \"Correlation\": 0.6}, {\"Question\": \"C6P\", \"Concept\": \"INFERENCES\", \"Trait\": \"MAGNITUDE\", \"Negate\": false, \"Count\": 42, \"Correlation\": 0.6}, {\"Question\": \"C6P\", \"Concept\": \"INFERENCES\", \"Trait\": \"MAGNITUDE\", \"Negate\": true, \"Count\": 1, \"Correlation\": 0.6}, {\"Question\": \"C6P\", \"Concept\": \"INFERENCES\", \"Trait\": \"POSITION\", \"Negate\": false, \"Count\": 37, \"Correlation\": 0.6}, {\"Question\": \"C6P\", \"Concept\": \"INFERENCES\", \"Trait\": \"POSITION\", \"Negate\": true, \"Count\": 2, \"Correlation\": 0.6}, {\"Question\": \"C6P\", \"Concept\": \"INFERENCES\", \"Trait\": \"REGULARITY\", \"Negate\": false, \"Count\": 21, \"Correlation\": 0.6}, {\"Question\": \"C6P\", \"Concept\": \"INFERENCES\", \"Trait\": \"REGULARITY\", \"Negate\": true, \"Count\": 2, \"Correlation\": 0.6}, {\"Question\": \"C6P\", \"Concept\": \"RELATION\", \"Trait\": \"DIRECTION\", \"Negate\": false, \"Count\": 38, \"Correlation\": 0.6}, {\"Question\": \"C6P\", \"Concept\": \"RELATION\", \"Trait\": \"DIRECTION\", \"Negate\": true, \"Count\": 4, \"Correlation\": 0.6}, {\"Question\": \"C6P\", \"Concept\": \"RELATION\", \"Trait\": \"DISCERNIBILITY\", \"Negate\": false, \"Count\": 7, \"Correlation\": 0.6}, {\"Question\": \"C6P\", \"Concept\": \"RELATION\", \"Trait\": \"DISCERNIBILITY\", \"Negate\": true, \"Count\": 3, \"Correlation\": 0.6}, {\"Question\": \"C6P\", \"Concept\": \"RELATION\", \"Trait\": \"MAGNITUDE\", \"Negate\": false, \"Count\": 46, \"Correlation\": 0.6}, {\"Question\": \"C6P\", \"Concept\": \"RELATION\", \"Trait\": \"MAGNITUDE\", \"Negate\": true, \"Count\": 5, \"Correlation\": 0.6}, {\"Question\": \"C6P\", \"Concept\": \"RELATION\", \"Trait\": \"POSITION\", \"Negate\": false, \"Count\": 23, \"Correlation\": 0.6}, {\"Question\": \"C6P\", \"Concept\": \"RELATION\", \"Trait\": \"POSITION\", \"Negate\": true, \"Count\": 3, \"Correlation\": 0.6}, {\"Question\": \"C6P\", \"Concept\": \"RELATION\", \"Trait\": \"REGULARITY\", \"Negate\": false, \"Count\": 18, \"Correlation\": 0.6}, {\"Question\": \"C6P\", \"Concept\": \"RELATION\", \"Trait\": \"REGULARITY\", \"Negate\": true, \"Count\": 3, \"Correlation\": 0.6}, {\"Question\": \"C6P\", \"Concept\": \"SPACE\", \"Trait\": \"DIRECTION\", \"Negate\": false, \"Count\": 15, \"Correlation\": 0.6}, {\"Question\": \"C6P\", \"Concept\": \"SPACE\", \"Trait\": \"DIRECTION\", \"Negate\": true, \"Count\": 1, \"Correlation\": 0.6}, {\"Question\": \"C6P\", \"Concept\": \"SPACE\", \"Trait\": \"DISCERNIBILITY\", \"Negate\": false, \"Count\": 3, \"Correlation\": 0.6}, {\"Question\": \"C6P\", \"Concept\": \"SPACE\", \"Trait\": \"DISCERNIBILITY\", \"Negate\": true, \"Count\": 1, \"Correlation\": 0.6}, {\"Question\": \"C6P\", \"Concept\": \"SPACE\", \"Trait\": \"MAGNITUDE\", \"Negate\": false, \"Count\": 28, \"Correlation\": 0.6}, {\"Question\": \"C6P\", \"Concept\": \"SPACE\", \"Trait\": \"MAGNITUDE\", \"Negate\": true, \"Count\": 2, \"Correlation\": 0.6}, {\"Question\": \"C6P\", \"Concept\": \"SPACE\", \"Trait\": \"POSITION\", \"Negate\": false, \"Count\": 22, \"Correlation\": 0.6}, {\"Question\": \"C6P\", \"Concept\": \"SPACE\", \"Trait\": \"REGULARITY\", \"Negate\": false, \"Count\": 13, \"Correlation\": 0.6}, {\"Question\": \"C6P\", \"Concept\": \"SPACE\", \"Trait\": \"REGULARITY\", \"Negate\": true, \"Count\": 1, \"Correlation\": 0.6}, {\"Question\": \"C8N\", \"Concept\": \"BEHAVIOUR\", \"Trait\": \"DIRECTION\", \"Negate\": false, \"Count\": 29, \"Correlation\": -0.8}, {\"Question\": \"C8N\", \"Concept\": \"BEHAVIOUR\", \"Trait\": \"DISCERNIBILITY\", \"Negate\": false, \"Count\": 8, \"Correlation\": -0.8}, {\"Question\": \"C8N\", \"Concept\": \"BEHAVIOUR\", \"Trait\": \"DISCERNIBILITY\", \"Negate\": true, \"Count\": 1, \"Correlation\": -0.8}, {\"Question\": \"C8N\", \"Concept\": \"BEHAVIOUR\", \"Trait\": \"MAGNITUDE\", \"Negate\": false, \"Count\": 16, \"Correlation\": -0.8}, {\"Question\": \"C8N\", \"Concept\": \"BEHAVIOUR\", \"Trait\": \"MAGNITUDE\", \"Negate\": true, \"Count\": 1, \"Correlation\": -0.8}, {\"Question\": \"C8N\", \"Concept\": \"BEHAVIOUR\", \"Trait\": \"POSITION\", \"Negate\": false, \"Count\": 11, \"Correlation\": -0.8}, {\"Question\": \"C8N\", \"Concept\": \"BEHAVIOUR\", \"Trait\": \"REGULARITY\", \"Negate\": false, \"Count\": 15, \"Correlation\": -0.8}, {\"Question\": \"C8N\", \"Concept\": \"GRAPHIC\", \"Trait\": \"DIRECTION\", \"Negate\": false, \"Count\": 11, \"Correlation\": -0.8}, {\"Question\": \"C8N\", \"Concept\": \"GRAPHIC\", \"Trait\": \"DISCERNIBILITY\", \"Negate\": false, \"Count\": 3, \"Correlation\": -0.8}, {\"Question\": \"C8N\", \"Concept\": \"GRAPHIC\", \"Trait\": \"DISCERNIBILITY\", \"Negate\": true, \"Count\": 2, \"Correlation\": -0.8}, {\"Question\": \"C8N\", \"Concept\": \"GRAPHIC\", \"Trait\": \"MAGNITUDE\", \"Negate\": false, \"Count\": 6, \"Correlation\": -0.8}, {\"Question\": \"C8N\", \"Concept\": \"GRAPHIC\", \"Trait\": \"MAGNITUDE\", \"Negate\": true, \"Count\": 2, \"Correlation\": -0.8}, {\"Question\": \"C8N\", \"Concept\": \"GRAPHIC\", \"Trait\": \"POSITION\", \"Negate\": false, \"Count\": 13, \"Correlation\": -0.8}, {\"Question\": \"C8N\", \"Concept\": \"GRAPHIC\", \"Trait\": \"POSITION\", \"Negate\": true, \"Count\": 2, \"Correlation\": -0.8}, {\"Question\": \"C8N\", \"Concept\": \"GRAPHIC\", \"Trait\": \"REGULARITY\", \"Negate\": false, \"Count\": 4, \"Correlation\": -0.8}, {\"Question\": \"C8N\", \"Concept\": \"INFERENCES\", \"Trait\": \"DIRECTION\", \"Negate\": false, \"Count\": 35, \"Correlation\": -0.8}, {\"Question\": \"C8N\", \"Concept\": \"INFERENCES\", \"Trait\": \"DISCERNIBILITY\", \"Negate\": false, \"Count\": 11, \"Correlation\": -0.8}, {\"Question\": \"C8N\", \"Concept\": \"INFERENCES\", \"Trait\": \"DISCERNIBILITY\", \"Negate\": true, \"Count\": 2, \"Correlation\": -0.8}, {\"Question\": \"C8N\", \"Concept\": \"INFERENCES\", \"Trait\": \"MAGNITUDE\", \"Negate\": false, \"Count\": 27, \"Correlation\": -0.8}, {\"Question\": \"C8N\", \"Concept\": \"INFERENCES\", \"Trait\": \"MAGNITUDE\", \"Negate\": true, \"Count\": 2, \"Correlation\": -0.8}, {\"Question\": \"C8N\", \"Concept\": \"INFERENCES\", \"Trait\": \"POSITION\", \"Negate\": false, \"Count\": 41, \"Correlation\": -0.8}, {\"Question\": \"C8N\", \"Concept\": \"INFERENCES\", \"Trait\": \"POSITION\", \"Negate\": true, \"Count\": 2, \"Correlation\": -0.8}, {\"Question\": \"C8N\", \"Concept\": \"INFERENCES\", \"Trait\": \"REGULARITY\", \"Negate\": false, \"Count\": 17, \"Correlation\": -0.8}, {\"Question\": \"C8N\", \"Concept\": \"INFERENCES\", \"Trait\": \"REGULARITY\", \"Negate\": true, \"Count\": 1, \"Correlation\": -0.8}, {\"Question\": \"C8N\", \"Concept\": \"RELATION\", \"Trait\": \"DIRECTION\", \"Negate\": false, \"Count\": 51, \"Correlation\": -0.8}, {\"Question\": \"C8N\", \"Concept\": \"RELATION\", \"Trait\": \"DISCERNIBILITY\", \"Negate\": false, \"Count\": 10, \"Correlation\": -0.8}, {\"Question\": \"C8N\", \"Concept\": \"RELATION\", \"Trait\": \"DISCERNIBILITY\", \"Negate\": true, \"Count\": 2, \"Correlation\": -0.8}, {\"Question\": \"C8N\", \"Concept\": \"RELATION\", \"Trait\": \"MAGNITUDE\", \"Negate\": false, \"Count\": 29, \"Correlation\": -0.8}, {\"Question\": \"C8N\", \"Concept\": \"RELATION\", \"Trait\": \"MAGNITUDE\", \"Negate\": true, \"Count\": 2, \"Correlation\": -0.8}, {\"Question\": \"C8N\", \"Concept\": \"RELATION\", \"Trait\": \"POSITION\", \"Negate\": false, \"Count\": 25, \"Correlation\": -0.8}, {\"Question\": \"C8N\", \"Concept\": \"RELATION\", \"Trait\": \"POSITION\", \"Negate\": true, \"Count\": 3, \"Correlation\": -0.8}, {\"Question\": \"C8N\", \"Concept\": \"RELATION\", \"Trait\": \"REGULARITY\", \"Negate\": false, \"Count\": 15, \"Correlation\": -0.8}, {\"Question\": \"C8N\", \"Concept\": \"RELATION\", \"Trait\": \"REGULARITY\", \"Negate\": true, \"Count\": 1, \"Correlation\": -0.8}, {\"Question\": \"C8N\", \"Concept\": \"SPACE\", \"Trait\": \"DIRECTION\", \"Negate\": false, \"Count\": 10, \"Correlation\": -0.8}, {\"Question\": \"C8N\", \"Concept\": \"SPACE\", \"Trait\": \"DISCERNIBILITY\", \"Negate\": false, \"Count\": 2, \"Correlation\": -0.8}, {\"Question\": \"C8N\", \"Concept\": \"SPACE\", \"Trait\": \"DISCERNIBILITY\", \"Negate\": true, \"Count\": 1, \"Correlation\": -0.8}, {\"Question\": \"C8N\", \"Concept\": \"SPACE\", \"Trait\": \"MAGNITUDE\", \"Negate\": false, \"Count\": 11, \"Correlation\": -0.8}, {\"Question\": \"C8N\", \"Concept\": \"SPACE\", \"Trait\": \"MAGNITUDE\", \"Negate\": true, \"Count\": 1, \"Correlation\": -0.8}, {\"Question\": \"C8N\", \"Concept\": \"SPACE\", \"Trait\": \"POSITION\", \"Negate\": false, \"Count\": 23, \"Correlation\": -0.8}, {\"Question\": \"C8N\", \"Concept\": \"SPACE\", \"Trait\": \"POSITION\", \"Negate\": true, \"Count\": 1, \"Correlation\": -0.8}, {\"Question\": \"C8N\", \"Concept\": \"SPACE\", \"Trait\": \"REGULARITY\", \"Negate\": false, \"Count\": 8, \"Correlation\": -0.8}, {\"Question\": \"C8P\", \"Concept\": \"BEHAVIOUR\", \"Trait\": \"DIRECTION\", \"Negate\": false, \"Count\": 14, \"Correlation\": 0.8}, {\"Question\": \"C8P\", \"Concept\": \"BEHAVIOUR\", \"Trait\": \"DIRECTION\", \"Negate\": true, \"Count\": 1, \"Correlation\": 0.8}, {\"Question\": \"C8P\", \"Concept\": \"BEHAVIOUR\", \"Trait\": \"DISCERNIBILITY\", \"Negate\": false, \"Count\": 8, \"Correlation\": 0.8}, {\"Question\": \"C8P\", \"Concept\": \"BEHAVIOUR\", \"Trait\": \"MAGNITUDE\", \"Negate\": false, \"Count\": 22, \"Correlation\": 0.8}, {\"Question\": \"C8P\", \"Concept\": \"BEHAVIOUR\", \"Trait\": \"MAGNITUDE\", \"Negate\": true, \"Count\": 1, \"Correlation\": 0.8}, {\"Question\": \"C8P\", \"Concept\": \"BEHAVIOUR\", \"Trait\": \"POSITION\", \"Negate\": false, \"Count\": 12, \"Correlation\": 0.8}, {\"Question\": \"C8P\", \"Concept\": \"BEHAVIOUR\", \"Trait\": \"REGULARITY\", \"Negate\": false, \"Count\": 22, \"Correlation\": 0.8}, {\"Question\": \"C8P\", \"Concept\": \"BEHAVIOUR\", \"Trait\": \"REGULARITY\", \"Negate\": true, \"Count\": 1, \"Correlation\": 0.8}, {\"Question\": \"C8P\", \"Concept\": \"GRAPHIC\", \"Trait\": \"DIRECTION\", \"Negate\": false, \"Count\": 13, \"Correlation\": 0.8}, {\"Question\": \"C8P\", \"Concept\": \"GRAPHIC\", \"Trait\": \"DISCERNIBILITY\", \"Negate\": false, \"Count\": 5, \"Correlation\": 0.8}, {\"Question\": \"C8P\", \"Concept\": \"GRAPHIC\", \"Trait\": \"MAGNITUDE\", \"Negate\": false, \"Count\": 10, \"Correlation\": 0.8}, {\"Question\": \"C8P\", \"Concept\": \"GRAPHIC\", \"Trait\": \"POSITION\", \"Negate\": false, \"Count\": 17, \"Correlation\": 0.8}, {\"Question\": \"C8P\", \"Concept\": \"GRAPHIC\", \"Trait\": \"REGULARITY\", \"Negate\": false, \"Count\": 15, \"Correlation\": 0.8}, {\"Question\": \"C8P\", \"Concept\": \"INFERENCES\", \"Trait\": \"DIRECTION\", \"Negate\": false, \"Count\": 23, \"Correlation\": 0.8}, {\"Question\": \"C8P\", \"Concept\": \"INFERENCES\", \"Trait\": \"DISCERNIBILITY\", \"Negate\": false, \"Count\": 9, \"Correlation\": 0.8}, {\"Question\": \"C8P\", \"Concept\": \"INFERENCES\", \"Trait\": \"MAGNITUDE\", \"Negate\": false, \"Count\": 36, \"Correlation\": 0.8}, {\"Question\": \"C8P\", \"Concept\": \"INFERENCES\", \"Trait\": \"POSITION\", \"Negate\": false, \"Count\": 25, \"Correlation\": 0.8}, {\"Question\": \"C8P\", \"Concept\": \"INFERENCES\", \"Trait\": \"REGULARITY\", \"Negate\": false, \"Count\": 29, \"Correlation\": 0.8}, {\"Question\": \"C8P\", \"Concept\": \"RELATION\", \"Trait\": \"DIRECTION\", \"Negate\": false, \"Count\": 36, \"Correlation\": 0.8}, {\"Question\": \"C8P\", \"Concept\": \"RELATION\", \"Trait\": \"DISCERNIBILITY\", \"Negate\": false, \"Count\": 12, \"Correlation\": 0.8}, {\"Question\": \"C8P\", \"Concept\": \"RELATION\", \"Trait\": \"MAGNITUDE\", \"Negate\": false, \"Count\": 40, \"Correlation\": 0.8}, {\"Question\": \"C8P\", \"Concept\": \"RELATION\", \"Trait\": \"POSITION\", \"Negate\": false, \"Count\": 22, \"Correlation\": 0.8}, {\"Question\": \"C8P\", \"Concept\": \"RELATION\", \"Trait\": \"REGULARITY\", \"Negate\": false, \"Count\": 27, \"Correlation\": 0.8}, {\"Question\": \"C8P\", \"Concept\": \"SPACE\", \"Trait\": \"DIRECTION\", \"Negate\": false, \"Count\": 9, \"Correlation\": 0.8}, {\"Question\": \"C8P\", \"Concept\": \"SPACE\", \"Trait\": \"DISCERNIBILITY\", \"Negate\": false, \"Count\": 2, \"Correlation\": 0.8}, {\"Question\": \"C8P\", \"Concept\": \"SPACE\", \"Trait\": \"MAGNITUDE\", \"Negate\": false, \"Count\": 14, \"Correlation\": 0.8}, {\"Question\": \"C8P\", \"Concept\": \"SPACE\", \"Trait\": \"POSITION\", \"Negate\": false, \"Count\": 18, \"Correlation\": 0.8}, {\"Question\": \"C8P\", \"Concept\": \"SPACE\", \"Trait\": \"REGULARITY\", \"Negate\": false, \"Count\": 12, \"Correlation\": 0.8}]}}, {\"mode\": \"vega-lite\"});\n",
       "</script>"
      ],
      "text/plain": [
       "alt.Chart(...)"
      ]
     },
     "execution_count": 46,
     "metadata": {},
     "output_type": "execute_result"
    }
   ],
   "source": [
    "alt.Chart(cbyt).transform_joinaggregate(\n",
    "    totalCount='sum(Count)'    \n",
    ").transform_calculate(\n",
    "    PercentOfTotal=\"datum.Count / datum.totalCount\"\n",
    ").mark_bar().encode(\n",
    "    x='Correlation:O',\n",
    "    y=alt.Y('PercentOfTotal:Q', stack=\"normalize\"),\n",
    "    color='Trait:N',\n",
    "    #row=alt.Row('Negate:N',sort='ascending'),\n",
    "    column='Concept',\n",
    "    tooltip=['Count:Q']\n",
    ").properties(width=100,height=100)"
   ]
  },
  {
   "cell_type": "markdown",
   "metadata": {},
   "source": [
    "Looking at co-occurrences of concepts and traits for levels of correlation, separating positive and negative statements.\n",
    "Some remarks about the chart:\n",
    "* Negative statements are used mostly when we might expect, such as discernibility\n",
    "* Negative statements about regularity/stability are mostly betwen extremes (not with very high or zero correlation).\n",
    "* Preference for direction for strong correlation for all concepts\n",
    "* Preference for "
   ]
  },
  {
   "cell_type": "code",
   "execution_count": 121,
   "metadata": {},
   "outputs": [
    {
     "data": {
      "text/html": [
       "<div>\n",
       "<style scoped>\n",
       "    .dataframe tbody tr th:only-of-type {\n",
       "        vertical-align: middle;\n",
       "    }\n",
       "\n",
       "    .dataframe tbody tr th {\n",
       "        vertical-align: top;\n",
       "    }\n",
       "\n",
       "    .dataframe thead th {\n",
       "        text-align: right;\n",
       "    }\n",
       "</style>\n",
       "<table border=\"1\" class=\"dataframe\">\n",
       "  <thead>\n",
       "    <tr style=\"text-align: right;\">\n",
       "      <th></th>\n",
       "      <th>Question</th>\n",
       "      <th>Concept</th>\n",
       "      <th>Trait</th>\n",
       "      <th>Negate</th>\n",
       "      <th>Count</th>\n",
       "      <th>Correlation</th>\n",
       "    </tr>\n",
       "  </thead>\n",
       "  <tbody>\n",
       "    <tr>\n",
       "      <th>0</th>\n",
       "      <td>C0</td>\n",
       "      <td>BEHAVIOUR</td>\n",
       "      <td>DISCERNIBILITY</td>\n",
       "      <td>False</td>\n",
       "      <td>2</td>\n",
       "      <td>0.0</td>\n",
       "    </tr>\n",
       "    <tr>\n",
       "      <th>1</th>\n",
       "      <td>C0</td>\n",
       "      <td>BEHAVIOUR</td>\n",
       "      <td>DISCERNIBILITY</td>\n",
       "      <td>True</td>\n",
       "      <td>6</td>\n",
       "      <td>0.0</td>\n",
       "    </tr>\n",
       "    <tr>\n",
       "      <th>2</th>\n",
       "      <td>C0</td>\n",
       "      <td>BEHAVIOUR</td>\n",
       "      <td>MAGNITUDE</td>\n",
       "      <td>False</td>\n",
       "      <td>4</td>\n",
       "      <td>0.0</td>\n",
       "    </tr>\n",
       "    <tr>\n",
       "      <th>3</th>\n",
       "      <td>C0</td>\n",
       "      <td>BEHAVIOUR</td>\n",
       "      <td>MAGNITUDE</td>\n",
       "      <td>True</td>\n",
       "      <td>2</td>\n",
       "      <td>0.0</td>\n",
       "    </tr>\n",
       "    <tr>\n",
       "      <th>4</th>\n",
       "      <td>C0</td>\n",
       "      <td>BEHAVIOUR</td>\n",
       "      <td>POSITION</td>\n",
       "      <td>False</td>\n",
       "      <td>6</td>\n",
       "      <td>0.0</td>\n",
       "    </tr>\n",
       "    <tr>\n",
       "      <th>...</th>\n",
       "      <td>...</td>\n",
       "      <td>...</td>\n",
       "      <td>...</td>\n",
       "      <td>...</td>\n",
       "      <td>...</td>\n",
       "      <td>...</td>\n",
       "    </tr>\n",
       "    <tr>\n",
       "      <th>389</th>\n",
       "      <td>C8P</td>\n",
       "      <td>SPACE</td>\n",
       "      <td>DIRECTION</td>\n",
       "      <td>False</td>\n",
       "      <td>9</td>\n",
       "      <td>0.8</td>\n",
       "    </tr>\n",
       "    <tr>\n",
       "      <th>390</th>\n",
       "      <td>C8P</td>\n",
       "      <td>SPACE</td>\n",
       "      <td>DISCERNIBILITY</td>\n",
       "      <td>False</td>\n",
       "      <td>2</td>\n",
       "      <td>0.8</td>\n",
       "    </tr>\n",
       "    <tr>\n",
       "      <th>391</th>\n",
       "      <td>C8P</td>\n",
       "      <td>SPACE</td>\n",
       "      <td>MAGNITUDE</td>\n",
       "      <td>False</td>\n",
       "      <td>14</td>\n",
       "      <td>0.8</td>\n",
       "    </tr>\n",
       "    <tr>\n",
       "      <th>392</th>\n",
       "      <td>C8P</td>\n",
       "      <td>SPACE</td>\n",
       "      <td>POSITION</td>\n",
       "      <td>False</td>\n",
       "      <td>18</td>\n",
       "      <td>0.8</td>\n",
       "    </tr>\n",
       "    <tr>\n",
       "      <th>393</th>\n",
       "      <td>C8P</td>\n",
       "      <td>SPACE</td>\n",
       "      <td>REGULARITY</td>\n",
       "      <td>False</td>\n",
       "      <td>12</td>\n",
       "      <td>0.8</td>\n",
       "    </tr>\n",
       "  </tbody>\n",
       "</table>\n",
       "<p>394 rows × 6 columns</p>\n",
       "</div>"
      ],
      "text/plain": [
       "    Question    Concept           Trait  Negate  Count  Correlation\n",
       "0         C0  BEHAVIOUR  DISCERNIBILITY   False      2          0.0\n",
       "1         C0  BEHAVIOUR  DISCERNIBILITY    True      6          0.0\n",
       "2         C0  BEHAVIOUR       MAGNITUDE   False      4          0.0\n",
       "3         C0  BEHAVIOUR       MAGNITUDE    True      2          0.0\n",
       "4         C0  BEHAVIOUR        POSITION   False      6          0.0\n",
       "..       ...        ...             ...     ...    ...          ...\n",
       "389      C8P      SPACE       DIRECTION   False      9          0.8\n",
       "390      C8P      SPACE  DISCERNIBILITY   False      2          0.8\n",
       "391      C8P      SPACE       MAGNITUDE   False     14          0.8\n",
       "392      C8P      SPACE        POSITION   False     18          0.8\n",
       "393      C8P      SPACE      REGULARITY   False     12          0.8\n",
       "\n",
       "[394 rows x 6 columns]"
      ]
     },
     "execution_count": 121,
     "metadata": {},
     "output_type": "execute_result"
    }
   ],
   "source": [
    "cbyt"
   ]
  },
  {
   "cell_type": "code",
   "execution_count": 85,
   "metadata": {},
   "outputs": [],
   "source": [
    "cbyt_sum = cbyt.drop('Question',axis=1).groupby(['Correlation','Concept','Trait','Negate'])['Count'].sum()\n",
    "cbyt_prop = pd.DataFrame(cbyt_sum / cbyt_sum.groupby(level=0).sum()).reset_index()"
   ]
  },
  {
   "cell_type": "code",
   "execution_count": 77,
   "metadata": {},
   "outputs": [
    {
     "data": {
      "text/html": [
       "<div>\n",
       "<style scoped>\n",
       "    .dataframe tbody tr th:only-of-type {\n",
       "        vertical-align: middle;\n",
       "    }\n",
       "\n",
       "    .dataframe tbody tr th {\n",
       "        vertical-align: top;\n",
       "    }\n",
       "\n",
       "    .dataframe thead th {\n",
       "        text-align: right;\n",
       "    }\n",
       "</style>\n",
       "<table border=\"1\" class=\"dataframe\">\n",
       "  <thead>\n",
       "    <tr style=\"text-align: right;\">\n",
       "      <th></th>\n",
       "      <th>Question</th>\n",
       "      <th>Concept</th>\n",
       "      <th>Trait</th>\n",
       "      <th>Negate</th>\n",
       "      <th>Count</th>\n",
       "      <th>Correlation</th>\n",
       "    </tr>\n",
       "  </thead>\n",
       "  <tbody>\n",
       "    <tr>\n",
       "      <th>0</th>\n",
       "      <td>C0</td>\n",
       "      <td>BEHAVIOUR</td>\n",
       "      <td>DISCERNIBILITY</td>\n",
       "      <td>False</td>\n",
       "      <td>2</td>\n",
       "      <td>0.0</td>\n",
       "    </tr>\n",
       "    <tr>\n",
       "      <th>1</th>\n",
       "      <td>C0</td>\n",
       "      <td>BEHAVIOUR</td>\n",
       "      <td>DISCERNIBILITY</td>\n",
       "      <td>True</td>\n",
       "      <td>6</td>\n",
       "      <td>0.0</td>\n",
       "    </tr>\n",
       "    <tr>\n",
       "      <th>2</th>\n",
       "      <td>C0</td>\n",
       "      <td>BEHAVIOUR</td>\n",
       "      <td>MAGNITUDE</td>\n",
       "      <td>False</td>\n",
       "      <td>4</td>\n",
       "      <td>0.0</td>\n",
       "    </tr>\n",
       "    <tr>\n",
       "      <th>3</th>\n",
       "      <td>C0</td>\n",
       "      <td>BEHAVIOUR</td>\n",
       "      <td>MAGNITUDE</td>\n",
       "      <td>True</td>\n",
       "      <td>2</td>\n",
       "      <td>0.0</td>\n",
       "    </tr>\n",
       "    <tr>\n",
       "      <th>4</th>\n",
       "      <td>C0</td>\n",
       "      <td>BEHAVIOUR</td>\n",
       "      <td>POSITION</td>\n",
       "      <td>False</td>\n",
       "      <td>6</td>\n",
       "      <td>0.0</td>\n",
       "    </tr>\n",
       "    <tr>\n",
       "      <th>...</th>\n",
       "      <td>...</td>\n",
       "      <td>...</td>\n",
       "      <td>...</td>\n",
       "      <td>...</td>\n",
       "      <td>...</td>\n",
       "      <td>...</td>\n",
       "    </tr>\n",
       "    <tr>\n",
       "      <th>389</th>\n",
       "      <td>C8P</td>\n",
       "      <td>SPACE</td>\n",
       "      <td>DIRECTION</td>\n",
       "      <td>False</td>\n",
       "      <td>9</td>\n",
       "      <td>0.8</td>\n",
       "    </tr>\n",
       "    <tr>\n",
       "      <th>390</th>\n",
       "      <td>C8P</td>\n",
       "      <td>SPACE</td>\n",
       "      <td>DISCERNIBILITY</td>\n",
       "      <td>False</td>\n",
       "      <td>2</td>\n",
       "      <td>0.8</td>\n",
       "    </tr>\n",
       "    <tr>\n",
       "      <th>391</th>\n",
       "      <td>C8P</td>\n",
       "      <td>SPACE</td>\n",
       "      <td>MAGNITUDE</td>\n",
       "      <td>False</td>\n",
       "      <td>14</td>\n",
       "      <td>0.8</td>\n",
       "    </tr>\n",
       "    <tr>\n",
       "      <th>392</th>\n",
       "      <td>C8P</td>\n",
       "      <td>SPACE</td>\n",
       "      <td>POSITION</td>\n",
       "      <td>False</td>\n",
       "      <td>18</td>\n",
       "      <td>0.8</td>\n",
       "    </tr>\n",
       "    <tr>\n",
       "      <th>393</th>\n",
       "      <td>C8P</td>\n",
       "      <td>SPACE</td>\n",
       "      <td>REGULARITY</td>\n",
       "      <td>False</td>\n",
       "      <td>12</td>\n",
       "      <td>0.8</td>\n",
       "    </tr>\n",
       "  </tbody>\n",
       "</table>\n",
       "<p>394 rows × 6 columns</p>\n",
       "</div>"
      ],
      "text/plain": [
       "    Question    Concept           Trait  Negate  Count  Correlation\n",
       "0         C0  BEHAVIOUR  DISCERNIBILITY   False      2          0.0\n",
       "1         C0  BEHAVIOUR  DISCERNIBILITY    True      6          0.0\n",
       "2         C0  BEHAVIOUR       MAGNITUDE   False      4          0.0\n",
       "3         C0  BEHAVIOUR       MAGNITUDE    True      2          0.0\n",
       "4         C0  BEHAVIOUR        POSITION   False      6          0.0\n",
       "..       ...        ...             ...     ...    ...          ...\n",
       "389      C8P      SPACE       DIRECTION   False      9          0.8\n",
       "390      C8P      SPACE  DISCERNIBILITY   False      2          0.8\n",
       "391      C8P      SPACE       MAGNITUDE   False     14          0.8\n",
       "392      C8P      SPACE        POSITION   False     18          0.8\n",
       "393      C8P      SPACE      REGULARITY   False     12          0.8\n",
       "\n",
       "[394 rows x 6 columns]"
      ]
     },
     "execution_count": 77,
     "metadata": {},
     "output_type": "execute_result"
    }
   ],
   "source": [
    "cbyt"
   ]
  },
  {
   "cell_type": "code",
   "execution_count": 86,
   "metadata": {},
   "outputs": [
    {
     "data": {
      "text/plain": [
       "0.323383698246095"
      ]
     },
     "execution_count": 86,
     "metadata": {},
     "output_type": "execute_result"
    }
   ],
   "source": [
    "cbyt_prop[(cbyt_prop['Concept'] == 'BEHAVIOUR') & (cbyt_prop['Trait'] == 'MAGNITUDE')]['Count'].sum()"
   ]
  },
  {
   "cell_type": "code",
   "execution_count": 87,
   "metadata": {},
   "outputs": [
    {
     "data": {
      "text/plain": [
       "1.1209683290132977"
      ]
     },
     "execution_count": 87,
     "metadata": {},
     "output_type": "execute_result"
    }
   ],
   "source": [
    "cbyt_prop[(cbyt_prop['Concept'] == 'BEHAVIOUR')]['Count'].sum()"
   ]
  },
  {
   "cell_type": "code",
   "execution_count": 116,
   "metadata": {},
   "outputs": [
    {
     "data": {
      "text/html": [
       "\n",
       "<div id=\"altair-viz-5fae4d2cc196422f97d94f9ae2847126\"></div>\n",
       "<script type=\"text/javascript\">\n",
       "  (function(spec, embedOpt){\n",
       "    let outputDiv = document.currentScript.previousElementSibling;\n",
       "    if (outputDiv.id !== \"altair-viz-5fae4d2cc196422f97d94f9ae2847126\") {\n",
       "      outputDiv = document.getElementById(\"altair-viz-5fae4d2cc196422f97d94f9ae2847126\");\n",
       "    }\n",
       "    const paths = {\n",
       "      \"vega\": \"https://cdn.jsdelivr.net/npm//vega@5?noext\",\n",
       "      \"vega-lib\": \"https://cdn.jsdelivr.net/npm//vega-lib?noext\",\n",
       "      \"vega-lite\": \"https://cdn.jsdelivr.net/npm//vega-lite@4.8.1?noext\",\n",
       "      \"vega-embed\": \"https://cdn.jsdelivr.net/npm//vega-embed@6?noext\",\n",
       "    };\n",
       "\n",
       "    function loadScript(lib) {\n",
       "      return new Promise(function(resolve, reject) {\n",
       "        var s = document.createElement('script');\n",
       "        s.src = paths[lib];\n",
       "        s.async = true;\n",
       "        s.onload = () => resolve(paths[lib]);\n",
       "        s.onerror = () => reject(`Error loading script: ${paths[lib]}`);\n",
       "        document.getElementsByTagName(\"head\")[0].appendChild(s);\n",
       "      });\n",
       "    }\n",
       "\n",
       "    function showError(err) {\n",
       "      outputDiv.innerHTML = `<div class=\"error\" style=\"color:red;\">${err}</div>`;\n",
       "      throw err;\n",
       "    }\n",
       "\n",
       "    function displayChart(vegaEmbed) {\n",
       "      vegaEmbed(outputDiv, spec, embedOpt)\n",
       "        .catch(err => showError(`Javascript Error: ${err.message}<br>This usually means there's a typo in your chart specification. See the javascript console for the full traceback.`));\n",
       "    }\n",
       "\n",
       "    if(typeof define === \"function\" && define.amd) {\n",
       "      requirejs.config({paths});\n",
       "      require([\"vega-embed\"], displayChart, err => showError(`Error loading script: ${err.message}`));\n",
       "    } else if (typeof vegaEmbed === \"function\") {\n",
       "      displayChart(vegaEmbed);\n",
       "    } else {\n",
       "      loadScript(\"vega\")\n",
       "        .then(() => loadScript(\"vega-lite\"))\n",
       "        .then(() => loadScript(\"vega-embed\"))\n",
       "        .catch(showError)\n",
       "        .then(() => displayChart(vegaEmbed));\n",
       "    }\n",
       "  })({\"config\": {\"mark\": {\"color\": \"#000050\"}, \"title\": {\"font\": \"Avenir\", \"anchor\": \"end\"}, \"axis\": {\"labelFont\": \"Avenir\", \"titleFont\": \"Avenir\"}, \"header\": {\"labelFont\": \"Avenir\", \"labelFontSize\": 12, \"titleFont\": \"Avenir\"}, \"legend\": {\"labelFont\": \"Avenir\", \"titleFont\": \"Avenir\"}}, \"data\": {\"name\": \"data-09b2d69200479a6ecdd62f25da67c0a6\"}, \"facet\": {\"column\": {\"type\": \"nominal\", \"field\": \"Concept\"}, \"row\": {\"type\": \"nominal\", \"field\": \"Trait\"}}, \"spec\": {\"mark\": {\"type\": \"bar\", \"tooltip\": true}, \"encoding\": {\"color\": {\"type\": \"nominal\", \"field\": \"Negate\", \"scale\": {\"domain\": [\"false\", \"true\"], \"range\": [\"#000050\", \"#eeaa00\"]}}, \"x\": {\"type\": \"ordinal\", \"axis\": {\"tickCount\": 5, \"title\": null}, \"field\": \"Correlation\"}, \"y\": {\"type\": \"quantitative\", \"axis\": {\"tickCount\": 5, \"title\": null}, \"field\": \"PercentOfTotal\"}}, \"height\": 80, \"transform\": [{\"joinaggregate\": [{\"op\": \"sum\", \"field\": \"Count\", \"as\": \"totalCount\"}], \"groupby\": [\"Concept\", \"Trait\"]}, {\"calculate\": \"datum.Count / datum.totalCount\", \"as\": \"PercentOfTotal\"}], \"width\": 100}, \"resolve\": {\"axis\": {\"x\": \"independent\"}}, \"spacing\": 10, \"$schema\": \"https://vega.github.io/schema/vega-lite/v4.8.1.json\", \"datasets\": {\"data-09b2d69200479a6ecdd62f25da67c0a6\": [{\"Question\": \"C0\", \"Concept\": \"BEHAVIOUR\", \"Trait\": \"DISCERNIBILITY\", \"Negate\": false, \"Count\": 2, \"Correlation\": 0.0}, {\"Question\": \"C0\", \"Concept\": \"BEHAVIOUR\", \"Trait\": \"DISCERNIBILITY\", \"Negate\": true, \"Count\": 6, \"Correlation\": 0.0}, {\"Question\": \"C0\", \"Concept\": \"BEHAVIOUR\", \"Trait\": \"MAGNITUDE\", \"Negate\": false, \"Count\": 4, \"Correlation\": 0.0}, {\"Question\": \"C0\", \"Concept\": \"BEHAVIOUR\", \"Trait\": \"MAGNITUDE\", \"Negate\": true, \"Count\": 2, \"Correlation\": 0.0}, {\"Question\": \"C0\", \"Concept\": \"BEHAVIOUR\", \"Trait\": \"POSITION\", \"Negate\": false, \"Count\": 6, \"Correlation\": 0.0}, {\"Question\": \"C0\", \"Concept\": \"BEHAVIOUR\", \"Trait\": \"POSITION\", \"Negate\": true, \"Count\": 6, \"Correlation\": 0.0}, {\"Question\": \"C0\", \"Concept\": \"GRAPHIC\", \"Trait\": \"DIRECTION\", \"Negate\": false, \"Count\": 1, \"Correlation\": 0.0}, {\"Question\": \"C0\", \"Concept\": \"GRAPHIC\", \"Trait\": \"DISCERNIBILITY\", \"Negate\": false, \"Count\": 2, \"Correlation\": 0.0}, {\"Question\": \"C0\", \"Concept\": \"GRAPHIC\", \"Trait\": \"DISCERNIBILITY\", \"Negate\": true, \"Count\": 6, \"Correlation\": 0.0}, {\"Question\": \"C0\", \"Concept\": \"GRAPHIC\", \"Trait\": \"MAGNITUDE\", \"Negate\": false, \"Count\": 13, \"Correlation\": 0.0}, {\"Question\": \"C0\", \"Concept\": \"GRAPHIC\", \"Trait\": \"MAGNITUDE\", \"Negate\": true, \"Count\": 6, \"Correlation\": 0.0}, {\"Question\": \"C0\", \"Concept\": \"GRAPHIC\", \"Trait\": \"POSITION\", \"Negate\": false, \"Count\": 15, \"Correlation\": 0.0}, {\"Question\": \"C0\", \"Concept\": \"GRAPHIC\", \"Trait\": \"POSITION\", \"Negate\": true, \"Count\": 8, \"Correlation\": 0.0}, {\"Question\": \"C0\", \"Concept\": \"GRAPHIC\", \"Trait\": \"REGULARITY\", \"Negate\": false, \"Count\": 2, \"Correlation\": 0.0}, {\"Question\": \"C0\", \"Concept\": \"INFERENCES\", \"Trait\": \"DIRECTION\", \"Negate\": false, \"Count\": 1, \"Correlation\": 0.0}, {\"Question\": \"C0\", \"Concept\": \"INFERENCES\", \"Trait\": \"DIRECTION\", \"Negate\": true, \"Count\": 1, \"Correlation\": 0.0}, {\"Question\": \"C0\", \"Concept\": \"INFERENCES\", \"Trait\": \"DISCERNIBILITY\", \"Negate\": false, \"Count\": 5, \"Correlation\": 0.0}, {\"Question\": \"C0\", \"Concept\": \"INFERENCES\", \"Trait\": \"DISCERNIBILITY\", \"Negate\": true, \"Count\": 15, \"Correlation\": 0.0}, {\"Question\": \"C0\", \"Concept\": \"INFERENCES\", \"Trait\": \"MAGNITUDE\", \"Negate\": false, \"Count\": 25, \"Correlation\": 0.0}, {\"Question\": \"C0\", \"Concept\": \"INFERENCES\", \"Trait\": \"MAGNITUDE\", \"Negate\": true, \"Count\": 6, \"Correlation\": 0.0}, {\"Question\": \"C0\", \"Concept\": \"INFERENCES\", \"Trait\": \"POSITION\", \"Negate\": false, \"Count\": 27, \"Correlation\": 0.0}, {\"Question\": \"C0\", \"Concept\": \"INFERENCES\", \"Trait\": \"POSITION\", \"Negate\": true, \"Count\": 16, \"Correlation\": 0.0}, {\"Question\": \"C0\", \"Concept\": \"INFERENCES\", \"Trait\": \"REGULARITY\", \"Negate\": false, \"Count\": 7, \"Correlation\": 0.0}, {\"Question\": \"C0\", \"Concept\": \"RELATION\", \"Trait\": \"DIRECTION\", \"Negate\": false, \"Count\": 4, \"Correlation\": 0.0}, {\"Question\": \"C0\", \"Concept\": \"RELATION\", \"Trait\": \"DISCERNIBILITY\", \"Negate\": false, \"Count\": 3, \"Correlation\": 0.0}, {\"Question\": \"C0\", \"Concept\": \"RELATION\", \"Trait\": \"DISCERNIBILITY\", \"Negate\": true, \"Count\": 22, \"Correlation\": 0.0}, {\"Question\": \"C0\", \"Concept\": \"RELATION\", \"Trait\": \"MAGNITUDE\", \"Negate\": false, \"Count\": 24, \"Correlation\": 0.0}, {\"Question\": \"C0\", \"Concept\": \"RELATION\", \"Trait\": \"MAGNITUDE\", \"Negate\": true, \"Count\": 9, \"Correlation\": 0.0}, {\"Question\": \"C0\", \"Concept\": \"RELATION\", \"Trait\": \"POSITION\", \"Negate\": false, \"Count\": 19, \"Correlation\": 0.0}, {\"Question\": \"C0\", \"Concept\": \"RELATION\", \"Trait\": \"POSITION\", \"Negate\": true, \"Count\": 18, \"Correlation\": 0.0}, {\"Question\": \"C0\", \"Concept\": \"RELATION\", \"Trait\": \"REGULARITY\", \"Negate\": false, \"Count\": 6, \"Correlation\": 0.0}, {\"Question\": \"C0\", \"Concept\": \"RELATION\", \"Trait\": \"REGULARITY\", \"Negate\": true, \"Count\": 1, \"Correlation\": 0.0}, {\"Question\": \"C0\", \"Concept\": \"SPACE\", \"Trait\": \"DIRECTION\", \"Negate\": false, \"Count\": 2, \"Correlation\": 0.0}, {\"Question\": \"C0\", \"Concept\": \"SPACE\", \"Trait\": \"DIRECTION\", \"Negate\": true, \"Count\": 1, \"Correlation\": 0.0}, {\"Question\": \"C0\", \"Concept\": \"SPACE\", \"Trait\": \"DISCERNIBILITY\", \"Negate\": false, \"Count\": 4, \"Correlation\": 0.0}, {\"Question\": \"C0\", \"Concept\": \"SPACE\", \"Trait\": \"DISCERNIBILITY\", \"Negate\": true, \"Count\": 8, \"Correlation\": 0.0}, {\"Question\": \"C0\", \"Concept\": \"SPACE\", \"Trait\": \"MAGNITUDE\", \"Negate\": false, \"Count\": 24, \"Correlation\": 0.0}, {\"Question\": \"C0\", \"Concept\": \"SPACE\", \"Trait\": \"MAGNITUDE\", \"Negate\": true, \"Count\": 5, \"Correlation\": 0.0}, {\"Question\": \"C0\", \"Concept\": \"SPACE\", \"Trait\": \"POSITION\", \"Negate\": false, \"Count\": 26, \"Correlation\": 0.0}, {\"Question\": \"C0\", \"Concept\": \"SPACE\", \"Trait\": \"POSITION\", \"Negate\": true, \"Count\": 10, \"Correlation\": 0.0}, {\"Question\": \"C0\", \"Concept\": \"SPACE\", \"Trait\": \"REGULARITY\", \"Negate\": false, \"Count\": 5, \"Correlation\": 0.0}, {\"Question\": \"C2N\", \"Concept\": \"BEHAVIOUR\", \"Trait\": \"DIRECTION\", \"Negate\": false, \"Count\": 5, \"Correlation\": -0.2}, {\"Question\": \"C2N\", \"Concept\": \"BEHAVIOUR\", \"Trait\": \"DISCERNIBILITY\", \"Negate\": false, \"Count\": 1, \"Correlation\": -0.2}, {\"Question\": \"C2N\", \"Concept\": \"BEHAVIOUR\", \"Trait\": \"DISCERNIBILITY\", \"Negate\": true, \"Count\": 4, \"Correlation\": -0.2}, {\"Question\": \"C2N\", \"Concept\": \"BEHAVIOUR\", \"Trait\": \"MAGNITUDE\", \"Negate\": false, \"Count\": 11, \"Correlation\": -0.2}, {\"Question\": \"C2N\", \"Concept\": \"BEHAVIOUR\", \"Trait\": \"MAGNITUDE\", \"Negate\": true, \"Count\": 2, \"Correlation\": -0.2}, {\"Question\": \"C2N\", \"Concept\": \"BEHAVIOUR\", \"Trait\": \"POSITION\", \"Negate\": false, \"Count\": 6, \"Correlation\": -0.2}, {\"Question\": \"C2N\", \"Concept\": \"BEHAVIOUR\", \"Trait\": \"POSITION\", \"Negate\": true, \"Count\": 4, \"Correlation\": -0.2}, {\"Question\": \"C2N\", \"Concept\": \"BEHAVIOUR\", \"Trait\": \"REGULARITY\", \"Negate\": false, \"Count\": 3, \"Correlation\": -0.2}, {\"Question\": \"C2N\", \"Concept\": \"BEHAVIOUR\", \"Trait\": \"REGULARITY\", \"Negate\": true, \"Count\": 1, \"Correlation\": -0.2}, {\"Question\": \"C2N\", \"Concept\": \"GRAPHIC\", \"Trait\": \"DIRECTION\", \"Negate\": false, \"Count\": 4, \"Correlation\": -0.2}, {\"Question\": \"C2N\", \"Concept\": \"GRAPHIC\", \"Trait\": \"DISCERNIBILITY\", \"Negate\": false, \"Count\": 2, \"Correlation\": -0.2}, {\"Question\": \"C2N\", \"Concept\": \"GRAPHIC\", \"Trait\": \"DISCERNIBILITY\", \"Negate\": true, \"Count\": 5, \"Correlation\": -0.2}, {\"Question\": \"C2N\", \"Concept\": \"GRAPHIC\", \"Trait\": \"MAGNITUDE\", \"Negate\": false, \"Count\": 11, \"Correlation\": -0.2}, {\"Question\": \"C2N\", \"Concept\": \"GRAPHIC\", \"Trait\": \"MAGNITUDE\", \"Negate\": true, \"Count\": 5, \"Correlation\": -0.2}, {\"Question\": \"C2N\", \"Concept\": \"GRAPHIC\", \"Trait\": \"POSITION\", \"Negate\": false, \"Count\": 13, \"Correlation\": -0.2}, {\"Question\": \"C2N\", \"Concept\": \"GRAPHIC\", \"Trait\": \"POSITION\", \"Negate\": true, \"Count\": 9, \"Correlation\": -0.2}, {\"Question\": \"C2N\", \"Concept\": \"GRAPHIC\", \"Trait\": \"REGULARITY\", \"Negate\": false, \"Count\": 5, \"Correlation\": -0.2}, {\"Question\": \"C2N\", \"Concept\": \"GRAPHIC\", \"Trait\": \"REGULARITY\", \"Negate\": true, \"Count\": 4, \"Correlation\": -0.2}, {\"Question\": \"C2N\", \"Concept\": \"INFERENCES\", \"Trait\": \"DIRECTION\", \"Negate\": false, \"Count\": 8, \"Correlation\": -0.2}, {\"Question\": \"C2N\", \"Concept\": \"INFERENCES\", \"Trait\": \"DIRECTION\", \"Negate\": true, \"Count\": 1, \"Correlation\": -0.2}, {\"Question\": \"C2N\", \"Concept\": \"INFERENCES\", \"Trait\": \"DISCERNIBILITY\", \"Negate\": false, \"Count\": 3, \"Correlation\": -0.2}, {\"Question\": \"C2N\", \"Concept\": \"INFERENCES\", \"Trait\": \"DISCERNIBILITY\", \"Negate\": true, \"Count\": 10, \"Correlation\": -0.2}, {\"Question\": \"C2N\", \"Concept\": \"INFERENCES\", \"Trait\": \"MAGNITUDE\", \"Negate\": false, \"Count\": 31, \"Correlation\": -0.2}, {\"Question\": \"C2N\", \"Concept\": \"INFERENCES\", \"Trait\": \"MAGNITUDE\", \"Negate\": true, \"Count\": 8, \"Correlation\": -0.2}, {\"Question\": \"C2N\", \"Concept\": \"INFERENCES\", \"Trait\": \"POSITION\", \"Negate\": false, \"Count\": 24, \"Correlation\": -0.2}, {\"Question\": \"C2N\", \"Concept\": \"INFERENCES\", \"Trait\": \"POSITION\", \"Negate\": true, \"Count\": 11, \"Correlation\": -0.2}, {\"Question\": \"C2N\", \"Concept\": \"INFERENCES\", \"Trait\": \"REGULARITY\", \"Negate\": false, \"Count\": 6, \"Correlation\": -0.2}, {\"Question\": \"C2N\", \"Concept\": \"INFERENCES\", \"Trait\": \"REGULARITY\", \"Negate\": true, \"Count\": 4, \"Correlation\": -0.2}, {\"Question\": \"C2N\", \"Concept\": \"RELATION\", \"Trait\": \"DIRECTION\", \"Negate\": false, \"Count\": 14, \"Correlation\": -0.2}, {\"Question\": \"C2N\", \"Concept\": \"RELATION\", \"Trait\": \"DIRECTION\", \"Negate\": true, \"Count\": 2, \"Correlation\": -0.2}, {\"Question\": \"C2N\", \"Concept\": \"RELATION\", \"Trait\": \"DISCERNIBILITY\", \"Negate\": false, \"Count\": 2, \"Correlation\": -0.2}, {\"Question\": \"C2N\", \"Concept\": \"RELATION\", \"Trait\": \"DISCERNIBILITY\", \"Negate\": true, \"Count\": 22, \"Correlation\": -0.2}, {\"Question\": \"C2N\", \"Concept\": \"RELATION\", \"Trait\": \"MAGNITUDE\", \"Negate\": false, \"Count\": 28, \"Correlation\": -0.2}, {\"Question\": \"C2N\", \"Concept\": \"RELATION\", \"Trait\": \"MAGNITUDE\", \"Negate\": true, \"Count\": 11, \"Correlation\": -0.2}, {\"Question\": \"C2N\", \"Concept\": \"RELATION\", \"Trait\": \"POSITION\", \"Negate\": false, \"Count\": 14, \"Correlation\": -0.2}, {\"Question\": \"C2N\", \"Concept\": \"RELATION\", \"Trait\": \"POSITION\", \"Negate\": true, \"Count\": 16, \"Correlation\": -0.2}, {\"Question\": \"C2N\", \"Concept\": \"RELATION\", \"Trait\": \"REGULARITY\", \"Negate\": false, \"Count\": 7, \"Correlation\": -0.2}, {\"Question\": \"C2N\", \"Concept\": \"RELATION\", \"Trait\": \"REGULARITY\", \"Negate\": true, \"Count\": 6, \"Correlation\": -0.2}, {\"Question\": \"C2N\", \"Concept\": \"SPACE\", \"Trait\": \"DIRECTION\", \"Negate\": false, \"Count\": 9, \"Correlation\": -0.2}, {\"Question\": \"C2N\", \"Concept\": \"SPACE\", \"Trait\": \"DISCERNIBILITY\", \"Negate\": false, \"Count\": 2, \"Correlation\": -0.2}, {\"Question\": \"C2N\", \"Concept\": \"SPACE\", \"Trait\": \"DISCERNIBILITY\", \"Negate\": true, \"Count\": 5, \"Correlation\": -0.2}, {\"Question\": \"C2N\", \"Concept\": \"SPACE\", \"Trait\": \"MAGNITUDE\", \"Negate\": false, \"Count\": 22, \"Correlation\": -0.2}, {\"Question\": \"C2N\", \"Concept\": \"SPACE\", \"Trait\": \"MAGNITUDE\", \"Negate\": true, \"Count\": 5, \"Correlation\": -0.2}, {\"Question\": \"C2N\", \"Concept\": \"SPACE\", \"Trait\": \"POSITION\", \"Negate\": false, \"Count\": 19, \"Correlation\": -0.2}, {\"Question\": \"C2N\", \"Concept\": \"SPACE\", \"Trait\": \"POSITION\", \"Negate\": true, \"Count\": 8, \"Correlation\": -0.2}, {\"Question\": \"C2N\", \"Concept\": \"SPACE\", \"Trait\": \"REGULARITY\", \"Negate\": false, \"Count\": 7, \"Correlation\": -0.2}, {\"Question\": \"C2N\", \"Concept\": \"SPACE\", \"Trait\": \"REGULARITY\", \"Negate\": true, \"Count\": 2, \"Correlation\": -0.2}, {\"Question\": \"C2P\", \"Concept\": \"BEHAVIOUR\", \"Trait\": \"DIRECTION\", \"Negate\": false, \"Count\": 6, \"Correlation\": 0.2}, {\"Question\": \"C2P\", \"Concept\": \"BEHAVIOUR\", \"Trait\": \"DISCERNIBILITY\", \"Negate\": false, \"Count\": 3, \"Correlation\": 0.2}, {\"Question\": \"C2P\", \"Concept\": \"BEHAVIOUR\", \"Trait\": \"DISCERNIBILITY\", \"Negate\": true, \"Count\": 5, \"Correlation\": 0.2}, {\"Question\": \"C2P\", \"Concept\": \"BEHAVIOUR\", \"Trait\": \"MAGNITUDE\", \"Negate\": false, \"Count\": 10, \"Correlation\": 0.2}, {\"Question\": \"C2P\", \"Concept\": \"BEHAVIOUR\", \"Trait\": \"MAGNITUDE\", \"Negate\": true, \"Count\": 6, \"Correlation\": 0.2}, {\"Question\": \"C2P\", \"Concept\": \"BEHAVIOUR\", \"Trait\": \"POSITION\", \"Negate\": false, \"Count\": 4, \"Correlation\": 0.2}, {\"Question\": \"C2P\", \"Concept\": \"BEHAVIOUR\", \"Trait\": \"POSITION\", \"Negate\": true, \"Count\": 4, \"Correlation\": 0.2}, {\"Question\": \"C2P\", \"Concept\": \"BEHAVIOUR\", \"Trait\": \"REGULARITY\", \"Negate\": false, \"Count\": 1, \"Correlation\": 0.2}, {\"Question\": \"C2P\", \"Concept\": \"BEHAVIOUR\", \"Trait\": \"REGULARITY\", \"Negate\": true, \"Count\": 3, \"Correlation\": 0.2}, {\"Question\": \"C2P\", \"Concept\": \"GRAPHIC\", \"Trait\": \"DIRECTION\", \"Negate\": false, \"Count\": 2, \"Correlation\": 0.2}, {\"Question\": \"C2P\", \"Concept\": \"GRAPHIC\", \"Trait\": \"DISCERNIBILITY\", \"Negate\": false, \"Count\": 5, \"Correlation\": 0.2}, {\"Question\": \"C2P\", \"Concept\": \"GRAPHIC\", \"Trait\": \"DISCERNIBILITY\", \"Negate\": true, \"Count\": 3, \"Correlation\": 0.2}, {\"Question\": \"C2P\", \"Concept\": \"GRAPHIC\", \"Trait\": \"MAGNITUDE\", \"Negate\": false, \"Count\": 20, \"Correlation\": 0.2}, {\"Question\": \"C2P\", \"Concept\": \"GRAPHIC\", \"Trait\": \"MAGNITUDE\", \"Negate\": true, \"Count\": 3, \"Correlation\": 0.2}, {\"Question\": \"C2P\", \"Concept\": \"GRAPHIC\", \"Trait\": \"POSITION\", \"Negate\": false, \"Count\": 20, \"Correlation\": 0.2}, {\"Question\": \"C2P\", \"Concept\": \"GRAPHIC\", \"Trait\": \"POSITION\", \"Negate\": true, \"Count\": 3, \"Correlation\": 0.2}, {\"Question\": \"C2P\", \"Concept\": \"GRAPHIC\", \"Trait\": \"REGULARITY\", \"Negate\": false, \"Count\": 4, \"Correlation\": 0.2}, {\"Question\": \"C2P\", \"Concept\": \"GRAPHIC\", \"Trait\": \"REGULARITY\", \"Negate\": true, \"Count\": 3, \"Correlation\": 0.2}, {\"Question\": \"C2P\", \"Concept\": \"INFERENCES\", \"Trait\": \"DIRECTION\", \"Negate\": false, \"Count\": 8, \"Correlation\": 0.2}, {\"Question\": \"C2P\", \"Concept\": \"INFERENCES\", \"Trait\": \"DISCERNIBILITY\", \"Negate\": false, \"Count\": 5, \"Correlation\": 0.2}, {\"Question\": \"C2P\", \"Concept\": \"INFERENCES\", \"Trait\": \"DISCERNIBILITY\", \"Negate\": true, \"Count\": 11, \"Correlation\": 0.2}, {\"Question\": \"C2P\", \"Concept\": \"INFERENCES\", \"Trait\": \"MAGNITUDE\", \"Negate\": false, \"Count\": 38, \"Correlation\": 0.2}, {\"Question\": \"C2P\", \"Concept\": \"INFERENCES\", \"Trait\": \"MAGNITUDE\", \"Negate\": true, \"Count\": 8, \"Correlation\": 0.2}, {\"Question\": \"C2P\", \"Concept\": \"INFERENCES\", \"Trait\": \"POSITION\", \"Negate\": false, \"Count\": 28, \"Correlation\": 0.2}, {\"Question\": \"C2P\", \"Concept\": \"INFERENCES\", \"Trait\": \"POSITION\", \"Negate\": true, \"Count\": 8, \"Correlation\": 0.2}, {\"Question\": \"C2P\", \"Concept\": \"INFERENCES\", \"Trait\": \"REGULARITY\", \"Negate\": false, \"Count\": 5, \"Correlation\": 0.2}, {\"Question\": \"C2P\", \"Concept\": \"INFERENCES\", \"Trait\": \"REGULARITY\", \"Negate\": true, \"Count\": 8, \"Correlation\": 0.2}, {\"Question\": \"C2P\", \"Concept\": \"RELATION\", \"Trait\": \"DIRECTION\", \"Negate\": false, \"Count\": 13, \"Correlation\": 0.2}, {\"Question\": \"C2P\", \"Concept\": \"RELATION\", \"Trait\": \"DIRECTION\", \"Negate\": true, \"Count\": 1, \"Correlation\": 0.2}, {\"Question\": \"C2P\", \"Concept\": \"RELATION\", \"Trait\": \"DISCERNIBILITY\", \"Negate\": false, \"Count\": 4, \"Correlation\": 0.2}, {\"Question\": \"C2P\", \"Concept\": \"RELATION\", \"Trait\": \"DISCERNIBILITY\", \"Negate\": true, \"Count\": 17, \"Correlation\": 0.2}, {\"Question\": \"C2P\", \"Concept\": \"RELATION\", \"Trait\": \"MAGNITUDE\", \"Negate\": false, \"Count\": 35, \"Correlation\": 0.2}, {\"Question\": \"C2P\", \"Concept\": \"RELATION\", \"Trait\": \"MAGNITUDE\", \"Negate\": true, \"Count\": 10, \"Correlation\": 0.2}, {\"Question\": \"C2P\", \"Concept\": \"RELATION\", \"Trait\": \"POSITION\", \"Negate\": false, \"Count\": 18, \"Correlation\": 0.2}, {\"Question\": \"C2P\", \"Concept\": \"RELATION\", \"Trait\": \"POSITION\", \"Negate\": true, \"Count\": 9, \"Correlation\": 0.2}, {\"Question\": \"C2P\", \"Concept\": \"RELATION\", \"Trait\": \"REGULARITY\", \"Negate\": false, \"Count\": 6, \"Correlation\": 0.2}, {\"Question\": \"C2P\", \"Concept\": \"RELATION\", \"Trait\": \"REGULARITY\", \"Negate\": true, \"Count\": 8, \"Correlation\": 0.2}, {\"Question\": \"C2P\", \"Concept\": \"SPACE\", \"Trait\": \"DIRECTION\", \"Negate\": false, \"Count\": 6, \"Correlation\": 0.2}, {\"Question\": \"C2P\", \"Concept\": \"SPACE\", \"Trait\": \"DISCERNIBILITY\", \"Negate\": false, \"Count\": 4, \"Correlation\": 0.2}, {\"Question\": \"C2P\", \"Concept\": \"SPACE\", \"Trait\": \"DISCERNIBILITY\", \"Negate\": true, \"Count\": 7, \"Correlation\": 0.2}, {\"Question\": \"C2P\", \"Concept\": \"SPACE\", \"Trait\": \"MAGNITUDE\", \"Negate\": false, \"Count\": 32, \"Correlation\": 0.2}, {\"Question\": \"C2P\", \"Concept\": \"SPACE\", \"Trait\": \"MAGNITUDE\", \"Negate\": true, \"Count\": 4, \"Correlation\": 0.2}, {\"Question\": \"C2P\", \"Concept\": \"SPACE\", \"Trait\": \"POSITION\", \"Negate\": false, \"Count\": 29, \"Correlation\": 0.2}, {\"Question\": \"C2P\", \"Concept\": \"SPACE\", \"Trait\": \"POSITION\", \"Negate\": true, \"Count\": 5, \"Correlation\": 0.2}, {\"Question\": \"C2P\", \"Concept\": \"SPACE\", \"Trait\": \"REGULARITY\", \"Negate\": false, \"Count\": 1, \"Correlation\": 0.2}, {\"Question\": \"C2P\", \"Concept\": \"SPACE\", \"Trait\": \"REGULARITY\", \"Negate\": true, \"Count\": 4, \"Correlation\": 0.2}, {\"Question\": \"C4N\", \"Concept\": \"BEHAVIOUR\", \"Trait\": \"DIRECTION\", \"Negate\": false, \"Count\": 6, \"Correlation\": -0.4}, {\"Question\": \"C4N\", \"Concept\": \"BEHAVIOUR\", \"Trait\": \"DIRECTION\", \"Negate\": true, \"Count\": 1, \"Correlation\": -0.4}, {\"Question\": \"C4N\", \"Concept\": \"BEHAVIOUR\", \"Trait\": \"DISCERNIBILITY\", \"Negate\": false, \"Count\": 1, \"Correlation\": -0.4}, {\"Question\": \"C4N\", \"Concept\": \"BEHAVIOUR\", \"Trait\": \"DISCERNIBILITY\", \"Negate\": true, \"Count\": 6, \"Correlation\": -0.4}, {\"Question\": \"C4N\", \"Concept\": \"BEHAVIOUR\", \"Trait\": \"MAGNITUDE\", \"Negate\": false, \"Count\": 10, \"Correlation\": -0.4}, {\"Question\": \"C4N\", \"Concept\": \"BEHAVIOUR\", \"Trait\": \"MAGNITUDE\", \"Negate\": true, \"Count\": 3, \"Correlation\": -0.4}, {\"Question\": \"C4N\", \"Concept\": \"BEHAVIOUR\", \"Trait\": \"POSITION\", \"Negate\": false, \"Count\": 9, \"Correlation\": -0.4}, {\"Question\": \"C4N\", \"Concept\": \"BEHAVIOUR\", \"Trait\": \"POSITION\", \"Negate\": true, \"Count\": 3, \"Correlation\": -0.4}, {\"Question\": \"C4N\", \"Concept\": \"BEHAVIOUR\", \"Trait\": \"REGULARITY\", \"Negate\": false, \"Count\": 2, \"Correlation\": -0.4}, {\"Question\": \"C4N\", \"Concept\": \"BEHAVIOUR\", \"Trait\": \"REGULARITY\", \"Negate\": true, \"Count\": 3, \"Correlation\": -0.4}, {\"Question\": \"C4N\", \"Concept\": \"GRAPHIC\", \"Trait\": \"DIRECTION\", \"Negate\": false, \"Count\": 6, \"Correlation\": -0.4}, {\"Question\": \"C4N\", \"Concept\": \"GRAPHIC\", \"Trait\": \"DIRECTION\", \"Negate\": true, \"Count\": 1, \"Correlation\": -0.4}, {\"Question\": \"C4N\", \"Concept\": \"GRAPHIC\", \"Trait\": \"DISCERNIBILITY\", \"Negate\": false, \"Count\": 3, \"Correlation\": -0.4}, {\"Question\": \"C4N\", \"Concept\": \"GRAPHIC\", \"Trait\": \"DISCERNIBILITY\", \"Negate\": true, \"Count\": 5, \"Correlation\": -0.4}, {\"Question\": \"C4N\", \"Concept\": \"GRAPHIC\", \"Trait\": \"MAGNITUDE\", \"Negate\": false, \"Count\": 15, \"Correlation\": -0.4}, {\"Question\": \"C4N\", \"Concept\": \"GRAPHIC\", \"Trait\": \"MAGNITUDE\", \"Negate\": true, \"Count\": 3, \"Correlation\": -0.4}, {\"Question\": \"C4N\", \"Concept\": \"GRAPHIC\", \"Trait\": \"POSITION\", \"Negate\": false, \"Count\": 15, \"Correlation\": -0.4}, {\"Question\": \"C4N\", \"Concept\": \"GRAPHIC\", \"Trait\": \"POSITION\", \"Negate\": true, \"Count\": 4, \"Correlation\": -0.4}, {\"Question\": \"C4N\", \"Concept\": \"GRAPHIC\", \"Trait\": \"REGULARITY\", \"Negate\": false, \"Count\": 6, \"Correlation\": -0.4}, {\"Question\": \"C4N\", \"Concept\": \"GRAPHIC\", \"Trait\": \"REGULARITY\", \"Negate\": true, \"Count\": 2, \"Correlation\": -0.4}, {\"Question\": \"C4N\", \"Concept\": \"INFERENCES\", \"Trait\": \"DIRECTION\", \"Negate\": false, \"Count\": 9, \"Correlation\": -0.4}, {\"Question\": \"C4N\", \"Concept\": \"INFERENCES\", \"Trait\": \"DIRECTION\", \"Negate\": true, \"Count\": 1, \"Correlation\": -0.4}, {\"Question\": \"C4N\", \"Concept\": \"INFERENCES\", \"Trait\": \"DISCERNIBILITY\", \"Negate\": false, \"Count\": 6, \"Correlation\": -0.4}, {\"Question\": \"C4N\", \"Concept\": \"INFERENCES\", \"Trait\": \"DISCERNIBILITY\", \"Negate\": true, \"Count\": 9, \"Correlation\": -0.4}, {\"Question\": \"C4N\", \"Concept\": \"INFERENCES\", \"Trait\": \"MAGNITUDE\", \"Negate\": false, \"Count\": 27, \"Correlation\": -0.4}, {\"Question\": \"C4N\", \"Concept\": \"INFERENCES\", \"Trait\": \"MAGNITUDE\", \"Negate\": true, \"Count\": 9, \"Correlation\": -0.4}, {\"Question\": \"C4N\", \"Concept\": \"INFERENCES\", \"Trait\": \"POSITION\", \"Negate\": false, \"Count\": 30, \"Correlation\": -0.4}, {\"Question\": \"C4N\", \"Concept\": \"INFERENCES\", \"Trait\": \"POSITION\", \"Negate\": true, \"Count\": 8, \"Correlation\": -0.4}, {\"Question\": \"C4N\", \"Concept\": \"INFERENCES\", \"Trait\": \"REGULARITY\", \"Negate\": false, \"Count\": 7, \"Correlation\": -0.4}, {\"Question\": \"C4N\", \"Concept\": \"INFERENCES\", \"Trait\": \"REGULARITY\", \"Negate\": true, \"Count\": 4, \"Correlation\": -0.4}, {\"Question\": \"C4N\", \"Concept\": \"RELATION\", \"Trait\": \"DIRECTION\", \"Negate\": false, \"Count\": 21, \"Correlation\": -0.4}, {\"Question\": \"C4N\", \"Concept\": \"RELATION\", \"Trait\": \"DIRECTION\", \"Negate\": true, \"Count\": 3, \"Correlation\": -0.4}, {\"Question\": \"C4N\", \"Concept\": \"RELATION\", \"Trait\": \"DISCERNIBILITY\", \"Negate\": false, \"Count\": 6, \"Correlation\": -0.4}, {\"Question\": \"C4N\", \"Concept\": \"RELATION\", \"Trait\": \"DISCERNIBILITY\", \"Negate\": true, \"Count\": 19, \"Correlation\": -0.4}, {\"Question\": \"C4N\", \"Concept\": \"RELATION\", \"Trait\": \"MAGNITUDE\", \"Negate\": false, \"Count\": 35, \"Correlation\": -0.4}, {\"Question\": \"C4N\", \"Concept\": \"RELATION\", \"Trait\": \"MAGNITUDE\", \"Negate\": true, \"Count\": 10, \"Correlation\": -0.4}, {\"Question\": \"C4N\", \"Concept\": \"RELATION\", \"Trait\": \"POSITION\", \"Negate\": false, \"Count\": 22, \"Correlation\": -0.4}, {\"Question\": \"C4N\", \"Concept\": \"RELATION\", \"Trait\": \"POSITION\", \"Negate\": true, \"Count\": 10, \"Correlation\": -0.4}, {\"Question\": \"C4N\", \"Concept\": \"RELATION\", \"Trait\": \"REGULARITY\", \"Negate\": false, \"Count\": 7, \"Correlation\": -0.4}, {\"Question\": \"C4N\", \"Concept\": \"RELATION\", \"Trait\": \"REGULARITY\", \"Negate\": true, \"Count\": 4, \"Correlation\": -0.4}, {\"Question\": \"C4N\", \"Concept\": \"SPACE\", \"Trait\": \"DIRECTION\", \"Negate\": false, \"Count\": 5, \"Correlation\": -0.4}, {\"Question\": \"C4N\", \"Concept\": \"SPACE\", \"Trait\": \"DISCERNIBILITY\", \"Negate\": false, \"Count\": 3, \"Correlation\": -0.4}, {\"Question\": \"C4N\", \"Concept\": \"SPACE\", \"Trait\": \"DISCERNIBILITY\", \"Negate\": true, \"Count\": 6, \"Correlation\": -0.4}, {\"Question\": \"C4N\", \"Concept\": \"SPACE\", \"Trait\": \"MAGNITUDE\", \"Negate\": false, \"Count\": 24, \"Correlation\": -0.4}, {\"Question\": \"C4N\", \"Concept\": \"SPACE\", \"Trait\": \"MAGNITUDE\", \"Negate\": true, \"Count\": 7, \"Correlation\": -0.4}, {\"Question\": \"C4N\", \"Concept\": \"SPACE\", \"Trait\": \"POSITION\", \"Negate\": false, \"Count\": 25, \"Correlation\": -0.4}, {\"Question\": \"C4N\", \"Concept\": \"SPACE\", \"Trait\": \"POSITION\", \"Negate\": true, \"Count\": 4, \"Correlation\": -0.4}, {\"Question\": \"C4N\", \"Concept\": \"SPACE\", \"Trait\": \"REGULARITY\", \"Negate\": false, \"Count\": 8, \"Correlation\": -0.4}, {\"Question\": \"C4N\", \"Concept\": \"SPACE\", \"Trait\": \"REGULARITY\", \"Negate\": true, \"Count\": 2, \"Correlation\": -0.4}, {\"Question\": \"C4P\", \"Concept\": \"BEHAVIOUR\", \"Trait\": \"DIRECTION\", \"Negate\": false, \"Count\": 12, \"Correlation\": 0.4}, {\"Question\": \"C4P\", \"Concept\": \"BEHAVIOUR\", \"Trait\": \"DISCERNIBILITY\", \"Negate\": false, \"Count\": 7, \"Correlation\": 0.4}, {\"Question\": \"C4P\", \"Concept\": \"BEHAVIOUR\", \"Trait\": \"DISCERNIBILITY\", \"Negate\": true, \"Count\": 2, \"Correlation\": 0.4}, {\"Question\": \"C4P\", \"Concept\": \"BEHAVIOUR\", \"Trait\": \"MAGNITUDE\", \"Negate\": false, \"Count\": 17, \"Correlation\": 0.4}, {\"Question\": \"C4P\", \"Concept\": \"BEHAVIOUR\", \"Trait\": \"MAGNITUDE\", \"Negate\": true, \"Count\": 2, \"Correlation\": 0.4}, {\"Question\": \"C4P\", \"Concept\": \"BEHAVIOUR\", \"Trait\": \"POSITION\", \"Negate\": false, \"Count\": 9, \"Correlation\": 0.4}, {\"Question\": \"C4P\", \"Concept\": \"BEHAVIOUR\", \"Trait\": \"POSITION\", \"Negate\": true, \"Count\": 2, \"Correlation\": 0.4}, {\"Question\": \"C4P\", \"Concept\": \"BEHAVIOUR\", \"Trait\": \"REGULARITY\", \"Negate\": false, \"Count\": 12, \"Correlation\": 0.4}, {\"Question\": \"C4P\", \"Concept\": \"BEHAVIOUR\", \"Trait\": \"REGULARITY\", \"Negate\": true, \"Count\": 1, \"Correlation\": 0.4}, {\"Question\": \"C4P\", \"Concept\": \"GRAPHIC\", \"Trait\": \"DIRECTION\", \"Negate\": false, \"Count\": 2, \"Correlation\": 0.4}, {\"Question\": \"C4P\", \"Concept\": \"GRAPHIC\", \"Trait\": \"DISCERNIBILITY\", \"Negate\": false, \"Count\": 1, \"Correlation\": 0.4}, {\"Question\": \"C4P\", \"Concept\": \"GRAPHIC\", \"Trait\": \"DISCERNIBILITY\", \"Negate\": true, \"Count\": 3, \"Correlation\": 0.4}, {\"Question\": \"C4P\", \"Concept\": \"GRAPHIC\", \"Trait\": \"MAGNITUDE\", \"Negate\": false, \"Count\": 12, \"Correlation\": 0.4}, {\"Question\": \"C4P\", \"Concept\": \"GRAPHIC\", \"Trait\": \"MAGNITUDE\", \"Negate\": true, \"Count\": 5, \"Correlation\": 0.4}, {\"Question\": \"C4P\", \"Concept\": \"GRAPHIC\", \"Trait\": \"POSITION\", \"Negate\": false, \"Count\": 13, \"Correlation\": 0.4}, {\"Question\": \"C4P\", \"Concept\": \"GRAPHIC\", \"Trait\": \"POSITION\", \"Negate\": true, \"Count\": 6, \"Correlation\": 0.4}, {\"Question\": \"C4P\", \"Concept\": \"GRAPHIC\", \"Trait\": \"REGULARITY\", \"Negate\": false, \"Count\": 3, \"Correlation\": 0.4}, {\"Question\": \"C4P\", \"Concept\": \"GRAPHIC\", \"Trait\": \"REGULARITY\", \"Negate\": true, \"Count\": 3, \"Correlation\": 0.4}, {\"Question\": \"C4P\", \"Concept\": \"INFERENCES\", \"Trait\": \"DIRECTION\", \"Negate\": false, \"Count\": 17, \"Correlation\": 0.4}, {\"Question\": \"C4P\", \"Concept\": \"INFERENCES\", \"Trait\": \"DIRECTION\", \"Negate\": true, \"Count\": 2, \"Correlation\": 0.4}, {\"Question\": \"C4P\", \"Concept\": \"INFERENCES\", \"Trait\": \"DISCERNIBILITY\", \"Negate\": false, \"Count\": 6, \"Correlation\": 0.4}, {\"Question\": \"C4P\", \"Concept\": \"INFERENCES\", \"Trait\": \"DISCERNIBILITY\", \"Negate\": true, \"Count\": 8, \"Correlation\": 0.4}, {\"Question\": \"C4P\", \"Concept\": \"INFERENCES\", \"Trait\": \"MAGNITUDE\", \"Negate\": false, \"Count\": 42, \"Correlation\": 0.4}, {\"Question\": \"C4P\", \"Concept\": \"INFERENCES\", \"Trait\": \"MAGNITUDE\", \"Negate\": true, \"Count\": 10, \"Correlation\": 0.4}, {\"Question\": \"C4P\", \"Concept\": \"INFERENCES\", \"Trait\": \"POSITION\", \"Negate\": false, \"Count\": 32, \"Correlation\": 0.4}, {\"Question\": \"C4P\", \"Concept\": \"INFERENCES\", \"Trait\": \"POSITION\", \"Negate\": true, \"Count\": 10, \"Correlation\": 0.4}, {\"Question\": \"C4P\", \"Concept\": \"INFERENCES\", \"Trait\": \"REGULARITY\", \"Negate\": false, \"Count\": 17, \"Correlation\": 0.4}, {\"Question\": \"C4P\", \"Concept\": \"INFERENCES\", \"Trait\": \"REGULARITY\", \"Negate\": true, \"Count\": 5, \"Correlation\": 0.4}, {\"Question\": \"C4P\", \"Concept\": \"RELATION\", \"Trait\": \"DIRECTION\", \"Negate\": false, \"Count\": 30, \"Correlation\": 0.4}, {\"Question\": \"C4P\", \"Concept\": \"RELATION\", \"Trait\": \"DIRECTION\", \"Negate\": true, \"Count\": 3, \"Correlation\": 0.4}, {\"Question\": \"C4P\", \"Concept\": \"RELATION\", \"Trait\": \"DISCERNIBILITY\", \"Negate\": false, \"Count\": 5, \"Correlation\": 0.4}, {\"Question\": \"C4P\", \"Concept\": \"RELATION\", \"Trait\": \"DISCERNIBILITY\", \"Negate\": true, \"Count\": 10, \"Correlation\": 0.4}, {\"Question\": \"C4P\", \"Concept\": \"RELATION\", \"Trait\": \"MAGNITUDE\", \"Negate\": false, \"Count\": 43, \"Correlation\": 0.4}, {\"Question\": \"C4P\", \"Concept\": \"RELATION\", \"Trait\": \"MAGNITUDE\", \"Negate\": true, \"Count\": 7, \"Correlation\": 0.4}, {\"Question\": \"C4P\", \"Concept\": \"RELATION\", \"Trait\": \"POSITION\", \"Negate\": false, \"Count\": 28, \"Correlation\": 0.4}, {\"Question\": \"C4P\", \"Concept\": \"RELATION\", \"Trait\": \"POSITION\", \"Negate\": true, \"Count\": 5, \"Correlation\": 0.4}, {\"Question\": \"C4P\", \"Concept\": \"RELATION\", \"Trait\": \"REGULARITY\", \"Negate\": false, \"Count\": 17, \"Correlation\": 0.4}, {\"Question\": \"C4P\", \"Concept\": \"RELATION\", \"Trait\": \"REGULARITY\", \"Negate\": true, \"Count\": 4, \"Correlation\": 0.4}, {\"Question\": \"C4P\", \"Concept\": \"SPACE\", \"Trait\": \"DIRECTION\", \"Negate\": false, \"Count\": 10, \"Correlation\": 0.4}, {\"Question\": \"C4P\", \"Concept\": \"SPACE\", \"Trait\": \"DIRECTION\", \"Negate\": true, \"Count\": 1, \"Correlation\": 0.4}, {\"Question\": \"C4P\", \"Concept\": \"SPACE\", \"Trait\": \"DISCERNIBILITY\", \"Negate\": false, \"Count\": 4, \"Correlation\": 0.4}, {\"Question\": \"C4P\", \"Concept\": \"SPACE\", \"Trait\": \"DISCERNIBILITY\", \"Negate\": true, \"Count\": 5, \"Correlation\": 0.4}, {\"Question\": \"C4P\", \"Concept\": \"SPACE\", \"Trait\": \"MAGNITUDE\", \"Negate\": false, \"Count\": 25, \"Correlation\": 0.4}, {\"Question\": \"C4P\", \"Concept\": \"SPACE\", \"Trait\": \"MAGNITUDE\", \"Negate\": true, \"Count\": 8, \"Correlation\": 0.4}, {\"Question\": \"C4P\", \"Concept\": \"SPACE\", \"Trait\": \"POSITION\", \"Negate\": false, \"Count\": 23, \"Correlation\": 0.4}, {\"Question\": \"C4P\", \"Concept\": \"SPACE\", \"Trait\": \"POSITION\", \"Negate\": true, \"Count\": 9, \"Correlation\": 0.4}, {\"Question\": \"C4P\", \"Concept\": \"SPACE\", \"Trait\": \"REGULARITY\", \"Negate\": false, \"Count\": 9, \"Correlation\": 0.4}, {\"Question\": \"C4P\", \"Concept\": \"SPACE\", \"Trait\": \"REGULARITY\", \"Negate\": true, \"Count\": 4, \"Correlation\": 0.4}, {\"Question\": \"C6N\", \"Concept\": \"BEHAVIOUR\", \"Trait\": \"DIRECTION\", \"Negate\": false, \"Count\": 21, \"Correlation\": -0.6}, {\"Question\": \"C6N\", \"Concept\": \"BEHAVIOUR\", \"Trait\": \"DIRECTION\", \"Negate\": true, \"Count\": 2, \"Correlation\": -0.6}, {\"Question\": \"C6N\", \"Concept\": \"BEHAVIOUR\", \"Trait\": \"DISCERNIBILITY\", \"Negate\": false, \"Count\": 5, \"Correlation\": -0.6}, {\"Question\": \"C6N\", \"Concept\": \"BEHAVIOUR\", \"Trait\": \"DISCERNIBILITY\", \"Negate\": true, \"Count\": 1, \"Correlation\": -0.6}, {\"Question\": \"C6N\", \"Concept\": \"BEHAVIOUR\", \"Trait\": \"MAGNITUDE\", \"Negate\": false, \"Count\": 18, \"Correlation\": -0.6}, {\"Question\": \"C6N\", \"Concept\": \"BEHAVIOUR\", \"Trait\": \"MAGNITUDE\", \"Negate\": true, \"Count\": 3, \"Correlation\": -0.6}, {\"Question\": \"C6N\", \"Concept\": \"BEHAVIOUR\", \"Trait\": \"POSITION\", \"Negate\": false, \"Count\": 10, \"Correlation\": -0.6}, {\"Question\": \"C6N\", \"Concept\": \"BEHAVIOUR\", \"Trait\": \"REGULARITY\", \"Negate\": false, \"Count\": 7, \"Correlation\": -0.6}, {\"Question\": \"C6N\", \"Concept\": \"BEHAVIOUR\", \"Trait\": \"REGULARITY\", \"Negate\": true, \"Count\": 1, \"Correlation\": -0.6}, {\"Question\": \"C6N\", \"Concept\": \"GRAPHIC\", \"Trait\": \"DIRECTION\", \"Negate\": false, \"Count\": 12, \"Correlation\": -0.6}, {\"Question\": \"C6N\", \"Concept\": \"GRAPHIC\", \"Trait\": \"DIRECTION\", \"Negate\": true, \"Count\": 2, \"Correlation\": -0.6}, {\"Question\": \"C6N\", \"Concept\": \"GRAPHIC\", \"Trait\": \"DISCERNIBILITY\", \"Negate\": false, \"Count\": 6, \"Correlation\": -0.6}, {\"Question\": \"C6N\", \"Concept\": \"GRAPHIC\", \"Trait\": \"MAGNITUDE\", \"Negate\": false, \"Count\": 9, \"Correlation\": -0.6}, {\"Question\": \"C6N\", \"Concept\": \"GRAPHIC\", \"Trait\": \"MAGNITUDE\", \"Negate\": true, \"Count\": 5, \"Correlation\": -0.6}, {\"Question\": \"C6N\", \"Concept\": \"GRAPHIC\", \"Trait\": \"POSITION\", \"Negate\": false, \"Count\": 8, \"Correlation\": -0.6}, {\"Question\": \"C6N\", \"Concept\": \"GRAPHIC\", \"Trait\": \"POSITION\", \"Negate\": true, \"Count\": 4, \"Correlation\": -0.6}, {\"Question\": \"C6N\", \"Concept\": \"GRAPHIC\", \"Trait\": \"REGULARITY\", \"Negate\": false, \"Count\": 5, \"Correlation\": -0.6}, {\"Question\": \"C6N\", \"Concept\": \"GRAPHIC\", \"Trait\": \"REGULARITY\", \"Negate\": true, \"Count\": 2, \"Correlation\": -0.6}, {\"Question\": \"C6N\", \"Concept\": \"INFERENCES\", \"Trait\": \"DIRECTION\", \"Negate\": false, \"Count\": 28, \"Correlation\": -0.6}, {\"Question\": \"C6N\", \"Concept\": \"INFERENCES\", \"Trait\": \"DIRECTION\", \"Negate\": true, \"Count\": 1, \"Correlation\": -0.6}, {\"Question\": \"C6N\", \"Concept\": \"INFERENCES\", \"Trait\": \"DISCERNIBILITY\", \"Negate\": false, \"Count\": 9, \"Correlation\": -0.6}, {\"Question\": \"C6N\", \"Concept\": \"INFERENCES\", \"Trait\": \"DISCERNIBILITY\", \"Negate\": true, \"Count\": 2, \"Correlation\": -0.6}, {\"Question\": \"C6N\", \"Concept\": \"INFERENCES\", \"Trait\": \"MAGNITUDE\", \"Negate\": false, \"Count\": 32, \"Correlation\": -0.6}, {\"Question\": \"C6N\", \"Concept\": \"INFERENCES\", \"Trait\": \"MAGNITUDE\", \"Negate\": true, \"Count\": 6, \"Correlation\": -0.6}, {\"Question\": \"C6N\", \"Concept\": \"INFERENCES\", \"Trait\": \"POSITION\", \"Negate\": false, \"Count\": 33, \"Correlation\": -0.6}, {\"Question\": \"C6N\", \"Concept\": \"INFERENCES\", \"Trait\": \"POSITION\", \"Negate\": true, \"Count\": 5, \"Correlation\": -0.6}, {\"Question\": \"C6N\", \"Concept\": \"INFERENCES\", \"Trait\": \"REGULARITY\", \"Negate\": false, \"Count\": 13, \"Correlation\": -0.6}, {\"Question\": \"C6N\", \"Concept\": \"INFERENCES\", \"Trait\": \"REGULARITY\", \"Negate\": true, \"Count\": 1, \"Correlation\": -0.6}, {\"Question\": \"C6N\", \"Concept\": \"RELATION\", \"Trait\": \"DIRECTION\", \"Negate\": false, \"Count\": 42, \"Correlation\": -0.6}, {\"Question\": \"C6N\", \"Concept\": \"RELATION\", \"Trait\": \"DIRECTION\", \"Negate\": true, \"Count\": 1, \"Correlation\": -0.6}, {\"Question\": \"C6N\", \"Concept\": \"RELATION\", \"Trait\": \"DISCERNIBILITY\", \"Negate\": false, \"Count\": 6, \"Correlation\": -0.6}, {\"Question\": \"C6N\", \"Concept\": \"RELATION\", \"Trait\": \"DISCERNIBILITY\", \"Negate\": true, \"Count\": 3, \"Correlation\": -0.6}, {\"Question\": \"C6N\", \"Concept\": \"RELATION\", \"Trait\": \"MAGNITUDE\", \"Negate\": false, \"Count\": 37, \"Correlation\": -0.6}, {\"Question\": \"C6N\", \"Concept\": \"RELATION\", \"Trait\": \"MAGNITUDE\", \"Negate\": true, \"Count\": 8, \"Correlation\": -0.6}, {\"Question\": \"C6N\", \"Concept\": \"RELATION\", \"Trait\": \"POSITION\", \"Negate\": false, \"Count\": 18, \"Correlation\": -0.6}, {\"Question\": \"C6N\", \"Concept\": \"RELATION\", \"Trait\": \"POSITION\", \"Negate\": true, \"Count\": 5, \"Correlation\": -0.6}, {\"Question\": \"C6N\", \"Concept\": \"RELATION\", \"Trait\": \"REGULARITY\", \"Negate\": false, \"Count\": 9, \"Correlation\": -0.6}, {\"Question\": \"C6N\", \"Concept\": \"RELATION\", \"Trait\": \"REGULARITY\", \"Negate\": true, \"Count\": 2, \"Correlation\": -0.6}, {\"Question\": \"C6N\", \"Concept\": \"SPACE\", \"Trait\": \"DIRECTION\", \"Negate\": false, \"Count\": 15, \"Correlation\": -0.6}, {\"Question\": \"C6N\", \"Concept\": \"SPACE\", \"Trait\": \"DISCERNIBILITY\", \"Negate\": false, \"Count\": 5, \"Correlation\": -0.6}, {\"Question\": \"C6N\", \"Concept\": \"SPACE\", \"Trait\": \"DISCERNIBILITY\", \"Negate\": true, \"Count\": 1, \"Correlation\": -0.6}, {\"Question\": \"C6N\", \"Concept\": \"SPACE\", \"Trait\": \"MAGNITUDE\", \"Negate\": false, \"Count\": 16, \"Correlation\": -0.6}, {\"Question\": \"C6N\", \"Concept\": \"SPACE\", \"Trait\": \"MAGNITUDE\", \"Negate\": true, \"Count\": 5, \"Correlation\": -0.6}, {\"Question\": \"C6N\", \"Concept\": \"SPACE\", \"Trait\": \"POSITION\", \"Negate\": false, \"Count\": 24, \"Correlation\": -0.6}, {\"Question\": \"C6N\", \"Concept\": \"SPACE\", \"Trait\": \"POSITION\", \"Negate\": true, \"Count\": 4, \"Correlation\": -0.6}, {\"Question\": \"C6N\", \"Concept\": \"SPACE\", \"Trait\": \"REGULARITY\", \"Negate\": false, \"Count\": 9, \"Correlation\": -0.6}, {\"Question\": \"C6N\", \"Concept\": \"SPACE\", \"Trait\": \"REGULARITY\", \"Negate\": true, \"Count\": 1, \"Correlation\": -0.6}, {\"Question\": \"C6P\", \"Concept\": \"BEHAVIOUR\", \"Trait\": \"DIRECTION\", \"Negate\": false, \"Count\": 13, \"Correlation\": 0.6}, {\"Question\": \"C6P\", \"Concept\": \"BEHAVIOUR\", \"Trait\": \"DIRECTION\", \"Negate\": true, \"Count\": 1, \"Correlation\": 0.6}, {\"Question\": \"C6P\", \"Concept\": \"BEHAVIOUR\", \"Trait\": \"DISCERNIBILITY\", \"Negate\": false, \"Count\": 9, \"Correlation\": 0.6}, {\"Question\": \"C6P\", \"Concept\": \"BEHAVIOUR\", \"Trait\": \"MAGNITUDE\", \"Negate\": false, \"Count\": 18, \"Correlation\": 0.6}, {\"Question\": \"C6P\", \"Concept\": \"BEHAVIOUR\", \"Trait\": \"MAGNITUDE\", \"Negate\": true, \"Count\": 1, \"Correlation\": 0.6}, {\"Question\": \"C6P\", \"Concept\": \"BEHAVIOUR\", \"Trait\": \"POSITION\", \"Negate\": false, \"Count\": 8, \"Correlation\": 0.6}, {\"Question\": \"C6P\", \"Concept\": \"BEHAVIOUR\", \"Trait\": \"REGULARITY\", \"Negate\": false, \"Count\": 14, \"Correlation\": 0.6}, {\"Question\": \"C6P\", \"Concept\": \"BEHAVIOUR\", \"Trait\": \"REGULARITY\", \"Negate\": true, \"Count\": 3, \"Correlation\": 0.6}, {\"Question\": \"C6P\", \"Concept\": \"GRAPHIC\", \"Trait\": \"DIRECTION\", \"Negate\": false, \"Count\": 7, \"Correlation\": 0.6}, {\"Question\": \"C6P\", \"Concept\": \"GRAPHIC\", \"Trait\": \"DIRECTION\", \"Negate\": true, \"Count\": 2, \"Correlation\": 0.6}, {\"Question\": \"C6P\", \"Concept\": \"GRAPHIC\", \"Trait\": \"DISCERNIBILITY\", \"Negate\": false, \"Count\": 2, \"Correlation\": 0.6}, {\"Question\": \"C6P\", \"Concept\": \"GRAPHIC\", \"Trait\": \"DISCERNIBILITY\", \"Negate\": true, \"Count\": 1, \"Correlation\": 0.6}, {\"Question\": \"C6P\", \"Concept\": \"GRAPHIC\", \"Trait\": \"MAGNITUDE\", \"Negate\": false, \"Count\": 15, \"Correlation\": 0.6}, {\"Question\": \"C6P\", \"Concept\": \"GRAPHIC\", \"Trait\": \"MAGNITUDE\", \"Negate\": true, \"Count\": 2, \"Correlation\": 0.6}, {\"Question\": \"C6P\", \"Concept\": \"GRAPHIC\", \"Trait\": \"POSITION\", \"Negate\": false, \"Count\": 14, \"Correlation\": 0.6}, {\"Question\": \"C6P\", \"Concept\": \"GRAPHIC\", \"Trait\": \"POSITION\", \"Negate\": true, \"Count\": 3, \"Correlation\": 0.6}, {\"Question\": \"C6P\", \"Concept\": \"GRAPHIC\", \"Trait\": \"REGULARITY\", \"Negate\": false, \"Count\": 5, \"Correlation\": 0.6}, {\"Question\": \"C6P\", \"Concept\": \"GRAPHIC\", \"Trait\": \"REGULARITY\", \"Negate\": true, \"Count\": 2, \"Correlation\": 0.6}, {\"Question\": \"C6P\", \"Concept\": \"INFERENCES\", \"Trait\": \"DIRECTION\", \"Negate\": false, \"Count\": 27, \"Correlation\": 0.6}, {\"Question\": \"C6P\", \"Concept\": \"INFERENCES\", \"Trait\": \"DIRECTION\", \"Negate\": true, \"Count\": 1, \"Correlation\": 0.6}, {\"Question\": \"C6P\", \"Concept\": \"INFERENCES\", \"Trait\": \"DISCERNIBILITY\", \"Negate\": false, \"Count\": 9, \"Correlation\": 0.6}, {\"Question\": \"C6P\", \"Concept\": \"INFERENCES\", \"Trait\": \"DISCERNIBILITY\", \"Negate\": true, \"Count\": 1, \"Correlation\": 0.6}, {\"Question\": \"C6P\", \"Concept\": \"INFERENCES\", \"Trait\": \"MAGNITUDE\", \"Negate\": false, \"Count\": 42, \"Correlation\": 0.6}, {\"Question\": \"C6P\", \"Concept\": \"INFERENCES\", \"Trait\": \"MAGNITUDE\", \"Negate\": true, \"Count\": 1, \"Correlation\": 0.6}, {\"Question\": \"C6P\", \"Concept\": \"INFERENCES\", \"Trait\": \"POSITION\", \"Negate\": false, \"Count\": 37, \"Correlation\": 0.6}, {\"Question\": \"C6P\", \"Concept\": \"INFERENCES\", \"Trait\": \"POSITION\", \"Negate\": true, \"Count\": 2, \"Correlation\": 0.6}, {\"Question\": \"C6P\", \"Concept\": \"INFERENCES\", \"Trait\": \"REGULARITY\", \"Negate\": false, \"Count\": 21, \"Correlation\": 0.6}, {\"Question\": \"C6P\", \"Concept\": \"INFERENCES\", \"Trait\": \"REGULARITY\", \"Negate\": true, \"Count\": 2, \"Correlation\": 0.6}, {\"Question\": \"C6P\", \"Concept\": \"RELATION\", \"Trait\": \"DIRECTION\", \"Negate\": false, \"Count\": 38, \"Correlation\": 0.6}, {\"Question\": \"C6P\", \"Concept\": \"RELATION\", \"Trait\": \"DIRECTION\", \"Negate\": true, \"Count\": 4, \"Correlation\": 0.6}, {\"Question\": \"C6P\", \"Concept\": \"RELATION\", \"Trait\": \"DISCERNIBILITY\", \"Negate\": false, \"Count\": 7, \"Correlation\": 0.6}, {\"Question\": \"C6P\", \"Concept\": \"RELATION\", \"Trait\": \"DISCERNIBILITY\", \"Negate\": true, \"Count\": 3, \"Correlation\": 0.6}, {\"Question\": \"C6P\", \"Concept\": \"RELATION\", \"Trait\": \"MAGNITUDE\", \"Negate\": false, \"Count\": 46, \"Correlation\": 0.6}, {\"Question\": \"C6P\", \"Concept\": \"RELATION\", \"Trait\": \"MAGNITUDE\", \"Negate\": true, \"Count\": 5, \"Correlation\": 0.6}, {\"Question\": \"C6P\", \"Concept\": \"RELATION\", \"Trait\": \"POSITION\", \"Negate\": false, \"Count\": 23, \"Correlation\": 0.6}, {\"Question\": \"C6P\", \"Concept\": \"RELATION\", \"Trait\": \"POSITION\", \"Negate\": true, \"Count\": 3, \"Correlation\": 0.6}, {\"Question\": \"C6P\", \"Concept\": \"RELATION\", \"Trait\": \"REGULARITY\", \"Negate\": false, \"Count\": 18, \"Correlation\": 0.6}, {\"Question\": \"C6P\", \"Concept\": \"RELATION\", \"Trait\": \"REGULARITY\", \"Negate\": true, \"Count\": 3, \"Correlation\": 0.6}, {\"Question\": \"C6P\", \"Concept\": \"SPACE\", \"Trait\": \"DIRECTION\", \"Negate\": false, \"Count\": 15, \"Correlation\": 0.6}, {\"Question\": \"C6P\", \"Concept\": \"SPACE\", \"Trait\": \"DIRECTION\", \"Negate\": true, \"Count\": 1, \"Correlation\": 0.6}, {\"Question\": \"C6P\", \"Concept\": \"SPACE\", \"Trait\": \"DISCERNIBILITY\", \"Negate\": false, \"Count\": 3, \"Correlation\": 0.6}, {\"Question\": \"C6P\", \"Concept\": \"SPACE\", \"Trait\": \"DISCERNIBILITY\", \"Negate\": true, \"Count\": 1, \"Correlation\": 0.6}, {\"Question\": \"C6P\", \"Concept\": \"SPACE\", \"Trait\": \"MAGNITUDE\", \"Negate\": false, \"Count\": 28, \"Correlation\": 0.6}, {\"Question\": \"C6P\", \"Concept\": \"SPACE\", \"Trait\": \"MAGNITUDE\", \"Negate\": true, \"Count\": 2, \"Correlation\": 0.6}, {\"Question\": \"C6P\", \"Concept\": \"SPACE\", \"Trait\": \"POSITION\", \"Negate\": false, \"Count\": 22, \"Correlation\": 0.6}, {\"Question\": \"C6P\", \"Concept\": \"SPACE\", \"Trait\": \"REGULARITY\", \"Negate\": false, \"Count\": 13, \"Correlation\": 0.6}, {\"Question\": \"C6P\", \"Concept\": \"SPACE\", \"Trait\": \"REGULARITY\", \"Negate\": true, \"Count\": 1, \"Correlation\": 0.6}, {\"Question\": \"C8N\", \"Concept\": \"BEHAVIOUR\", \"Trait\": \"DIRECTION\", \"Negate\": false, \"Count\": 29, \"Correlation\": -0.8}, {\"Question\": \"C8N\", \"Concept\": \"BEHAVIOUR\", \"Trait\": \"DISCERNIBILITY\", \"Negate\": false, \"Count\": 8, \"Correlation\": -0.8}, {\"Question\": \"C8N\", \"Concept\": \"BEHAVIOUR\", \"Trait\": \"DISCERNIBILITY\", \"Negate\": true, \"Count\": 1, \"Correlation\": -0.8}, {\"Question\": \"C8N\", \"Concept\": \"BEHAVIOUR\", \"Trait\": \"MAGNITUDE\", \"Negate\": false, \"Count\": 16, \"Correlation\": -0.8}, {\"Question\": \"C8N\", \"Concept\": \"BEHAVIOUR\", \"Trait\": \"MAGNITUDE\", \"Negate\": true, \"Count\": 1, \"Correlation\": -0.8}, {\"Question\": \"C8N\", \"Concept\": \"BEHAVIOUR\", \"Trait\": \"POSITION\", \"Negate\": false, \"Count\": 11, \"Correlation\": -0.8}, {\"Question\": \"C8N\", \"Concept\": \"BEHAVIOUR\", \"Trait\": \"REGULARITY\", \"Negate\": false, \"Count\": 15, \"Correlation\": -0.8}, {\"Question\": \"C8N\", \"Concept\": \"GRAPHIC\", \"Trait\": \"DIRECTION\", \"Negate\": false, \"Count\": 11, \"Correlation\": -0.8}, {\"Question\": \"C8N\", \"Concept\": \"GRAPHIC\", \"Trait\": \"DISCERNIBILITY\", \"Negate\": false, \"Count\": 3, \"Correlation\": -0.8}, {\"Question\": \"C8N\", \"Concept\": \"GRAPHIC\", \"Trait\": \"DISCERNIBILITY\", \"Negate\": true, \"Count\": 2, \"Correlation\": -0.8}, {\"Question\": \"C8N\", \"Concept\": \"GRAPHIC\", \"Trait\": \"MAGNITUDE\", \"Negate\": false, \"Count\": 6, \"Correlation\": -0.8}, {\"Question\": \"C8N\", \"Concept\": \"GRAPHIC\", \"Trait\": \"MAGNITUDE\", \"Negate\": true, \"Count\": 2, \"Correlation\": -0.8}, {\"Question\": \"C8N\", \"Concept\": \"GRAPHIC\", \"Trait\": \"POSITION\", \"Negate\": false, \"Count\": 13, \"Correlation\": -0.8}, {\"Question\": \"C8N\", \"Concept\": \"GRAPHIC\", \"Trait\": \"POSITION\", \"Negate\": true, \"Count\": 2, \"Correlation\": -0.8}, {\"Question\": \"C8N\", \"Concept\": \"GRAPHIC\", \"Trait\": \"REGULARITY\", \"Negate\": false, \"Count\": 4, \"Correlation\": -0.8}, {\"Question\": \"C8N\", \"Concept\": \"INFERENCES\", \"Trait\": \"DIRECTION\", \"Negate\": false, \"Count\": 35, \"Correlation\": -0.8}, {\"Question\": \"C8N\", \"Concept\": \"INFERENCES\", \"Trait\": \"DISCERNIBILITY\", \"Negate\": false, \"Count\": 11, \"Correlation\": -0.8}, {\"Question\": \"C8N\", \"Concept\": \"INFERENCES\", \"Trait\": \"DISCERNIBILITY\", \"Negate\": true, \"Count\": 2, \"Correlation\": -0.8}, {\"Question\": \"C8N\", \"Concept\": \"INFERENCES\", \"Trait\": \"MAGNITUDE\", \"Negate\": false, \"Count\": 27, \"Correlation\": -0.8}, {\"Question\": \"C8N\", \"Concept\": \"INFERENCES\", \"Trait\": \"MAGNITUDE\", \"Negate\": true, \"Count\": 2, \"Correlation\": -0.8}, {\"Question\": \"C8N\", \"Concept\": \"INFERENCES\", \"Trait\": \"POSITION\", \"Negate\": false, \"Count\": 41, \"Correlation\": -0.8}, {\"Question\": \"C8N\", \"Concept\": \"INFERENCES\", \"Trait\": \"POSITION\", \"Negate\": true, \"Count\": 2, \"Correlation\": -0.8}, {\"Question\": \"C8N\", \"Concept\": \"INFERENCES\", \"Trait\": \"REGULARITY\", \"Negate\": false, \"Count\": 17, \"Correlation\": -0.8}, {\"Question\": \"C8N\", \"Concept\": \"INFERENCES\", \"Trait\": \"REGULARITY\", \"Negate\": true, \"Count\": 1, \"Correlation\": -0.8}, {\"Question\": \"C8N\", \"Concept\": \"RELATION\", \"Trait\": \"DIRECTION\", \"Negate\": false, \"Count\": 51, \"Correlation\": -0.8}, {\"Question\": \"C8N\", \"Concept\": \"RELATION\", \"Trait\": \"DISCERNIBILITY\", \"Negate\": false, \"Count\": 10, \"Correlation\": -0.8}, {\"Question\": \"C8N\", \"Concept\": \"RELATION\", \"Trait\": \"DISCERNIBILITY\", \"Negate\": true, \"Count\": 2, \"Correlation\": -0.8}, {\"Question\": \"C8N\", \"Concept\": \"RELATION\", \"Trait\": \"MAGNITUDE\", \"Negate\": false, \"Count\": 29, \"Correlation\": -0.8}, {\"Question\": \"C8N\", \"Concept\": \"RELATION\", \"Trait\": \"MAGNITUDE\", \"Negate\": true, \"Count\": 2, \"Correlation\": -0.8}, {\"Question\": \"C8N\", \"Concept\": \"RELATION\", \"Trait\": \"POSITION\", \"Negate\": false, \"Count\": 25, \"Correlation\": -0.8}, {\"Question\": \"C8N\", \"Concept\": \"RELATION\", \"Trait\": \"POSITION\", \"Negate\": true, \"Count\": 3, \"Correlation\": -0.8}, {\"Question\": \"C8N\", \"Concept\": \"RELATION\", \"Trait\": \"REGULARITY\", \"Negate\": false, \"Count\": 15, \"Correlation\": -0.8}, {\"Question\": \"C8N\", \"Concept\": \"RELATION\", \"Trait\": \"REGULARITY\", \"Negate\": true, \"Count\": 1, \"Correlation\": -0.8}, {\"Question\": \"C8N\", \"Concept\": \"SPACE\", \"Trait\": \"DIRECTION\", \"Negate\": false, \"Count\": 10, \"Correlation\": -0.8}, {\"Question\": \"C8N\", \"Concept\": \"SPACE\", \"Trait\": \"DISCERNIBILITY\", \"Negate\": false, \"Count\": 2, \"Correlation\": -0.8}, {\"Question\": \"C8N\", \"Concept\": \"SPACE\", \"Trait\": \"DISCERNIBILITY\", \"Negate\": true, \"Count\": 1, \"Correlation\": -0.8}, {\"Question\": \"C8N\", \"Concept\": \"SPACE\", \"Trait\": \"MAGNITUDE\", \"Negate\": false, \"Count\": 11, \"Correlation\": -0.8}, {\"Question\": \"C8N\", \"Concept\": \"SPACE\", \"Trait\": \"MAGNITUDE\", \"Negate\": true, \"Count\": 1, \"Correlation\": -0.8}, {\"Question\": \"C8N\", \"Concept\": \"SPACE\", \"Trait\": \"POSITION\", \"Negate\": false, \"Count\": 23, \"Correlation\": -0.8}, {\"Question\": \"C8N\", \"Concept\": \"SPACE\", \"Trait\": \"POSITION\", \"Negate\": true, \"Count\": 1, \"Correlation\": -0.8}, {\"Question\": \"C8N\", \"Concept\": \"SPACE\", \"Trait\": \"REGULARITY\", \"Negate\": false, \"Count\": 8, \"Correlation\": -0.8}, {\"Question\": \"C8P\", \"Concept\": \"BEHAVIOUR\", \"Trait\": \"DIRECTION\", \"Negate\": false, \"Count\": 14, \"Correlation\": 0.8}, {\"Question\": \"C8P\", \"Concept\": \"BEHAVIOUR\", \"Trait\": \"DIRECTION\", \"Negate\": true, \"Count\": 1, \"Correlation\": 0.8}, {\"Question\": \"C8P\", \"Concept\": \"BEHAVIOUR\", \"Trait\": \"DISCERNIBILITY\", \"Negate\": false, \"Count\": 8, \"Correlation\": 0.8}, {\"Question\": \"C8P\", \"Concept\": \"BEHAVIOUR\", \"Trait\": \"MAGNITUDE\", \"Negate\": false, \"Count\": 22, \"Correlation\": 0.8}, {\"Question\": \"C8P\", \"Concept\": \"BEHAVIOUR\", \"Trait\": \"MAGNITUDE\", \"Negate\": true, \"Count\": 1, \"Correlation\": 0.8}, {\"Question\": \"C8P\", \"Concept\": \"BEHAVIOUR\", \"Trait\": \"POSITION\", \"Negate\": false, \"Count\": 12, \"Correlation\": 0.8}, {\"Question\": \"C8P\", \"Concept\": \"BEHAVIOUR\", \"Trait\": \"REGULARITY\", \"Negate\": false, \"Count\": 22, \"Correlation\": 0.8}, {\"Question\": \"C8P\", \"Concept\": \"BEHAVIOUR\", \"Trait\": \"REGULARITY\", \"Negate\": true, \"Count\": 1, \"Correlation\": 0.8}, {\"Question\": \"C8P\", \"Concept\": \"GRAPHIC\", \"Trait\": \"DIRECTION\", \"Negate\": false, \"Count\": 13, \"Correlation\": 0.8}, {\"Question\": \"C8P\", \"Concept\": \"GRAPHIC\", \"Trait\": \"DISCERNIBILITY\", \"Negate\": false, \"Count\": 5, \"Correlation\": 0.8}, {\"Question\": \"C8P\", \"Concept\": \"GRAPHIC\", \"Trait\": \"MAGNITUDE\", \"Negate\": false, \"Count\": 10, \"Correlation\": 0.8}, {\"Question\": \"C8P\", \"Concept\": \"GRAPHIC\", \"Trait\": \"POSITION\", \"Negate\": false, \"Count\": 17, \"Correlation\": 0.8}, {\"Question\": \"C8P\", \"Concept\": \"GRAPHIC\", \"Trait\": \"REGULARITY\", \"Negate\": false, \"Count\": 15, \"Correlation\": 0.8}, {\"Question\": \"C8P\", \"Concept\": \"INFERENCES\", \"Trait\": \"DIRECTION\", \"Negate\": false, \"Count\": 23, \"Correlation\": 0.8}, {\"Question\": \"C8P\", \"Concept\": \"INFERENCES\", \"Trait\": \"DISCERNIBILITY\", \"Negate\": false, \"Count\": 9, \"Correlation\": 0.8}, {\"Question\": \"C8P\", \"Concept\": \"INFERENCES\", \"Trait\": \"MAGNITUDE\", \"Negate\": false, \"Count\": 36, \"Correlation\": 0.8}, {\"Question\": \"C8P\", \"Concept\": \"INFERENCES\", \"Trait\": \"POSITION\", \"Negate\": false, \"Count\": 25, \"Correlation\": 0.8}, {\"Question\": \"C8P\", \"Concept\": \"INFERENCES\", \"Trait\": \"REGULARITY\", \"Negate\": false, \"Count\": 29, \"Correlation\": 0.8}, {\"Question\": \"C8P\", \"Concept\": \"RELATION\", \"Trait\": \"DIRECTION\", \"Negate\": false, \"Count\": 36, \"Correlation\": 0.8}, {\"Question\": \"C8P\", \"Concept\": \"RELATION\", \"Trait\": \"DISCERNIBILITY\", \"Negate\": false, \"Count\": 12, \"Correlation\": 0.8}, {\"Question\": \"C8P\", \"Concept\": \"RELATION\", \"Trait\": \"MAGNITUDE\", \"Negate\": false, \"Count\": 40, \"Correlation\": 0.8}, {\"Question\": \"C8P\", \"Concept\": \"RELATION\", \"Trait\": \"POSITION\", \"Negate\": false, \"Count\": 22, \"Correlation\": 0.8}, {\"Question\": \"C8P\", \"Concept\": \"RELATION\", \"Trait\": \"REGULARITY\", \"Negate\": false, \"Count\": 27, \"Correlation\": 0.8}, {\"Question\": \"C8P\", \"Concept\": \"SPACE\", \"Trait\": \"DIRECTION\", \"Negate\": false, \"Count\": 9, \"Correlation\": 0.8}, {\"Question\": \"C8P\", \"Concept\": \"SPACE\", \"Trait\": \"DISCERNIBILITY\", \"Negate\": false, \"Count\": 2, \"Correlation\": 0.8}, {\"Question\": \"C8P\", \"Concept\": \"SPACE\", \"Trait\": \"MAGNITUDE\", \"Negate\": false, \"Count\": 14, \"Correlation\": 0.8}, {\"Question\": \"C8P\", \"Concept\": \"SPACE\", \"Trait\": \"POSITION\", \"Negate\": false, \"Count\": 18, \"Correlation\": 0.8}, {\"Question\": \"C8P\", \"Concept\": \"SPACE\", \"Trait\": \"REGULARITY\", \"Negate\": false, \"Count\": 12, \"Correlation\": 0.8}]}}, {\"mode\": \"vega-lite\"});\n",
       "</script>"
      ],
      "text/plain": [
       "alt.FacetChart(...)"
      ]
     },
     "execution_count": 116,
     "metadata": {},
     "output_type": "execute_result"
    }
   ],
   "source": [
    "cbyt_chart = alt.Chart(cbyt\n",
    "     ).transform_joinaggregate(\n",
    "    totalCount='sum(Count)',\n",
    "      groupby=['Concept','Trait']\n",
    ").transform_calculate(\n",
    "    PercentOfTotal=\"datum.Count / datum.totalCount\"\n",
    "    ).mark_bar(tooltip=True).encode(\n",
    "    x=alt.X('Correlation:O', axis=alt.Axis(title=None,tickCount=5)),\n",
    "    y=alt.Y('PercentOfTotal:Q',axis=alt.Axis(title=None,tickCount=5)), #,scale=alt.Scale(domain=(0, 60))),\n",
    "    color=alt.Color('Negate', scale=alt.Scale(domain=['false', 'true'], range=['#000050', '#eeaa00']))\n",
    ").properties(\n",
    "    width=100,height=80\n",
    "    )\n",
    "\n",
    "cbyt_faceted = cbyt_chart.facet(\n",
    "    column=alt.Column('Concept'),\n",
    "    row=alt.Row('Trait'),\n",
    "    spacing=10\n",
    "    ).resolve_axis(x='independent')\n",
    "cbyt_faceted\n",
    "#(c_bars & (t_bars | cbyt_chart))\n",
    "#alt.VConcatChart(vconcat=(c_bars,(t_bars | cbyt_chart)),center=True)"
   ]
  },
  {
   "cell_type": "code",
   "execution_count": 113,
   "metadata": {},
   "outputs": [
    {
     "data": {
      "text/plain": [
       "1.0"
      ]
     },
     "execution_count": 113,
     "metadata": {},
     "output_type": "execute_result"
    }
   ],
   "source": [
    "cbyt_t = at.extract_data(cbyt_chart)\n",
    "cbyt_t[(cbyt_t['Concept'] == 'BEHAVIOUR' )& (cbyt_t['Trait'] == 'DIRECTION')]['PercentOfTotal'].sum()"
   ]
  },
  {
   "cell_type": "code",
   "execution_count": 91,
   "metadata": {},
   "outputs": [
    {
     "data": {
      "text/html": [
       "\n",
       "<div id=\"altair-viz-d2ee110b3c2c486dbea16d94e01eb4e5\"></div>\n",
       "<script type=\"text/javascript\">\n",
       "  (function(spec, embedOpt){\n",
       "    let outputDiv = document.currentScript.previousElementSibling;\n",
       "    if (outputDiv.id !== \"altair-viz-d2ee110b3c2c486dbea16d94e01eb4e5\") {\n",
       "      outputDiv = document.getElementById(\"altair-viz-d2ee110b3c2c486dbea16d94e01eb4e5\");\n",
       "    }\n",
       "    const paths = {\n",
       "      \"vega\": \"https://cdn.jsdelivr.net/npm//vega@5?noext\",\n",
       "      \"vega-lib\": \"https://cdn.jsdelivr.net/npm//vega-lib?noext\",\n",
       "      \"vega-lite\": \"https://cdn.jsdelivr.net/npm//vega-lite@4.8.1?noext\",\n",
       "      \"vega-embed\": \"https://cdn.jsdelivr.net/npm//vega-embed@6?noext\",\n",
       "    };\n",
       "\n",
       "    function loadScript(lib) {\n",
       "      return new Promise(function(resolve, reject) {\n",
       "        var s = document.createElement('script');\n",
       "        s.src = paths[lib];\n",
       "        s.async = true;\n",
       "        s.onload = () => resolve(paths[lib]);\n",
       "        s.onerror = () => reject(`Error loading script: ${paths[lib]}`);\n",
       "        document.getElementsByTagName(\"head\")[0].appendChild(s);\n",
       "      });\n",
       "    }\n",
       "\n",
       "    function showError(err) {\n",
       "      outputDiv.innerHTML = `<div class=\"error\" style=\"color:red;\">${err}</div>`;\n",
       "      throw err;\n",
       "    }\n",
       "\n",
       "    function displayChart(vegaEmbed) {\n",
       "      vegaEmbed(outputDiv, spec, embedOpt)\n",
       "        .catch(err => showError(`Javascript Error: ${err.message}<br>This usually means there's a typo in your chart specification. See the javascript console for the full traceback.`));\n",
       "    }\n",
       "\n",
       "    if(typeof define === \"function\" && define.amd) {\n",
       "      requirejs.config({paths});\n",
       "      require([\"vega-embed\"], displayChart, err => showError(`Error loading script: ${err.message}`));\n",
       "    } else if (typeof vegaEmbed === \"function\") {\n",
       "      displayChart(vegaEmbed);\n",
       "    } else {\n",
       "      loadScript(\"vega\")\n",
       "        .then(() => loadScript(\"vega-lite\"))\n",
       "        .then(() => loadScript(\"vega-embed\"))\n",
       "        .catch(showError)\n",
       "        .then(() => displayChart(vegaEmbed));\n",
       "    }\n",
       "  })({\"config\": {\"mark\": {\"color\": \"#000050\"}, \"title\": {\"font\": \"Avenir\", \"anchor\": \"end\"}, \"axis\": {\"labelFont\": \"Avenir\", \"titleFont\": \"Avenir\"}, \"header\": {\"labelFont\": \"Avenir\", \"labelFontSize\": 12, \"titleFont\": \"Avenir\"}, \"legend\": {\"labelFont\": \"Avenir\", \"titleFont\": \"Avenir\"}}, \"data\": {\"name\": \"data-09b2d69200479a6ecdd62f25da67c0a6\"}, \"facet\": {\"column\": {\"type\": \"nominal\", \"field\": \"Concept\", \"title\": \"\"}, \"row\": {\"type\": \"nominal\", \"field\": \"Trait\", \"title\": \"\"}}, \"spec\": {\"mark\": \"bar\", \"encoding\": {\"color\": {\"type\": \"nominal\", \"field\": \"Negate\", \"scale\": {\"domain\": [\"false\", \"true\"], \"range\": [\"#000050\", \"#eeaa00\"]}}, \"x\": {\"type\": \"ordinal\", \"axis\": {\"tickCount\": 5, \"title\": null}, \"field\": \"Correlation\"}, \"y\": {\"type\": \"quantitative\", \"axis\": {\"tickCount\": 5, \"title\": null}, \"field\": \"Count\"}}, \"height\": 100, \"width\": 100}, \"resolve\": {\"axis\": {\"x\": \"independent\"}}, \"$schema\": \"https://vega.github.io/schema/vega-lite/v4.8.1.json\", \"datasets\": {\"data-09b2d69200479a6ecdd62f25da67c0a6\": [{\"Question\": \"C0\", \"Concept\": \"BEHAVIOUR\", \"Trait\": \"DISCERNIBILITY\", \"Negate\": false, \"Count\": 2, \"Correlation\": 0.0}, {\"Question\": \"C0\", \"Concept\": \"BEHAVIOUR\", \"Trait\": \"DISCERNIBILITY\", \"Negate\": true, \"Count\": 6, \"Correlation\": 0.0}, {\"Question\": \"C0\", \"Concept\": \"BEHAVIOUR\", \"Trait\": \"MAGNITUDE\", \"Negate\": false, \"Count\": 4, \"Correlation\": 0.0}, {\"Question\": \"C0\", \"Concept\": \"BEHAVIOUR\", \"Trait\": \"MAGNITUDE\", \"Negate\": true, \"Count\": 2, \"Correlation\": 0.0}, {\"Question\": \"C0\", \"Concept\": \"BEHAVIOUR\", \"Trait\": \"POSITION\", \"Negate\": false, \"Count\": 6, \"Correlation\": 0.0}, {\"Question\": \"C0\", \"Concept\": \"BEHAVIOUR\", \"Trait\": \"POSITION\", \"Negate\": true, \"Count\": 6, \"Correlation\": 0.0}, {\"Question\": \"C0\", \"Concept\": \"GRAPHIC\", \"Trait\": \"DIRECTION\", \"Negate\": false, \"Count\": 1, \"Correlation\": 0.0}, {\"Question\": \"C0\", \"Concept\": \"GRAPHIC\", \"Trait\": \"DISCERNIBILITY\", \"Negate\": false, \"Count\": 2, \"Correlation\": 0.0}, {\"Question\": \"C0\", \"Concept\": \"GRAPHIC\", \"Trait\": \"DISCERNIBILITY\", \"Negate\": true, \"Count\": 6, \"Correlation\": 0.0}, {\"Question\": \"C0\", \"Concept\": \"GRAPHIC\", \"Trait\": \"MAGNITUDE\", \"Negate\": false, \"Count\": 13, \"Correlation\": 0.0}, {\"Question\": \"C0\", \"Concept\": \"GRAPHIC\", \"Trait\": \"MAGNITUDE\", \"Negate\": true, \"Count\": 6, \"Correlation\": 0.0}, {\"Question\": \"C0\", \"Concept\": \"GRAPHIC\", \"Trait\": \"POSITION\", \"Negate\": false, \"Count\": 15, \"Correlation\": 0.0}, {\"Question\": \"C0\", \"Concept\": \"GRAPHIC\", \"Trait\": \"POSITION\", \"Negate\": true, \"Count\": 8, \"Correlation\": 0.0}, {\"Question\": \"C0\", \"Concept\": \"GRAPHIC\", \"Trait\": \"REGULARITY\", \"Negate\": false, \"Count\": 2, \"Correlation\": 0.0}, {\"Question\": \"C0\", \"Concept\": \"INFERENCES\", \"Trait\": \"DIRECTION\", \"Negate\": false, \"Count\": 1, \"Correlation\": 0.0}, {\"Question\": \"C0\", \"Concept\": \"INFERENCES\", \"Trait\": \"DIRECTION\", \"Negate\": true, \"Count\": 1, \"Correlation\": 0.0}, {\"Question\": \"C0\", \"Concept\": \"INFERENCES\", \"Trait\": \"DISCERNIBILITY\", \"Negate\": false, \"Count\": 5, \"Correlation\": 0.0}, {\"Question\": \"C0\", \"Concept\": \"INFERENCES\", \"Trait\": \"DISCERNIBILITY\", \"Negate\": true, \"Count\": 15, \"Correlation\": 0.0}, {\"Question\": \"C0\", \"Concept\": \"INFERENCES\", \"Trait\": \"MAGNITUDE\", \"Negate\": false, \"Count\": 25, \"Correlation\": 0.0}, {\"Question\": \"C0\", \"Concept\": \"INFERENCES\", \"Trait\": \"MAGNITUDE\", \"Negate\": true, \"Count\": 6, \"Correlation\": 0.0}, {\"Question\": \"C0\", \"Concept\": \"INFERENCES\", \"Trait\": \"POSITION\", \"Negate\": false, \"Count\": 27, \"Correlation\": 0.0}, {\"Question\": \"C0\", \"Concept\": \"INFERENCES\", \"Trait\": \"POSITION\", \"Negate\": true, \"Count\": 16, \"Correlation\": 0.0}, {\"Question\": \"C0\", \"Concept\": \"INFERENCES\", \"Trait\": \"REGULARITY\", \"Negate\": false, \"Count\": 7, \"Correlation\": 0.0}, {\"Question\": \"C0\", \"Concept\": \"RELATION\", \"Trait\": \"DIRECTION\", \"Negate\": false, \"Count\": 4, \"Correlation\": 0.0}, {\"Question\": \"C0\", \"Concept\": \"RELATION\", \"Trait\": \"DISCERNIBILITY\", \"Negate\": false, \"Count\": 3, \"Correlation\": 0.0}, {\"Question\": \"C0\", \"Concept\": \"RELATION\", \"Trait\": \"DISCERNIBILITY\", \"Negate\": true, \"Count\": 22, \"Correlation\": 0.0}, {\"Question\": \"C0\", \"Concept\": \"RELATION\", \"Trait\": \"MAGNITUDE\", \"Negate\": false, \"Count\": 24, \"Correlation\": 0.0}, {\"Question\": \"C0\", \"Concept\": \"RELATION\", \"Trait\": \"MAGNITUDE\", \"Negate\": true, \"Count\": 9, \"Correlation\": 0.0}, {\"Question\": \"C0\", \"Concept\": \"RELATION\", \"Trait\": \"POSITION\", \"Negate\": false, \"Count\": 19, \"Correlation\": 0.0}, {\"Question\": \"C0\", \"Concept\": \"RELATION\", \"Trait\": \"POSITION\", \"Negate\": true, \"Count\": 18, \"Correlation\": 0.0}, {\"Question\": \"C0\", \"Concept\": \"RELATION\", \"Trait\": \"REGULARITY\", \"Negate\": false, \"Count\": 6, \"Correlation\": 0.0}, {\"Question\": \"C0\", \"Concept\": \"RELATION\", \"Trait\": \"REGULARITY\", \"Negate\": true, \"Count\": 1, \"Correlation\": 0.0}, {\"Question\": \"C0\", \"Concept\": \"SPACE\", \"Trait\": \"DIRECTION\", \"Negate\": false, \"Count\": 2, \"Correlation\": 0.0}, {\"Question\": \"C0\", \"Concept\": \"SPACE\", \"Trait\": \"DIRECTION\", \"Negate\": true, \"Count\": 1, \"Correlation\": 0.0}, {\"Question\": \"C0\", \"Concept\": \"SPACE\", \"Trait\": \"DISCERNIBILITY\", \"Negate\": false, \"Count\": 4, \"Correlation\": 0.0}, {\"Question\": \"C0\", \"Concept\": \"SPACE\", \"Trait\": \"DISCERNIBILITY\", \"Negate\": true, \"Count\": 8, \"Correlation\": 0.0}, {\"Question\": \"C0\", \"Concept\": \"SPACE\", \"Trait\": \"MAGNITUDE\", \"Negate\": false, \"Count\": 24, \"Correlation\": 0.0}, {\"Question\": \"C0\", \"Concept\": \"SPACE\", \"Trait\": \"MAGNITUDE\", \"Negate\": true, \"Count\": 5, \"Correlation\": 0.0}, {\"Question\": \"C0\", \"Concept\": \"SPACE\", \"Trait\": \"POSITION\", \"Negate\": false, \"Count\": 26, \"Correlation\": 0.0}, {\"Question\": \"C0\", \"Concept\": \"SPACE\", \"Trait\": \"POSITION\", \"Negate\": true, \"Count\": 10, \"Correlation\": 0.0}, {\"Question\": \"C0\", \"Concept\": \"SPACE\", \"Trait\": \"REGULARITY\", \"Negate\": false, \"Count\": 5, \"Correlation\": 0.0}, {\"Question\": \"C2N\", \"Concept\": \"BEHAVIOUR\", \"Trait\": \"DIRECTION\", \"Negate\": false, \"Count\": 5, \"Correlation\": -0.2}, {\"Question\": \"C2N\", \"Concept\": \"BEHAVIOUR\", \"Trait\": \"DISCERNIBILITY\", \"Negate\": false, \"Count\": 1, \"Correlation\": -0.2}, {\"Question\": \"C2N\", \"Concept\": \"BEHAVIOUR\", \"Trait\": \"DISCERNIBILITY\", \"Negate\": true, \"Count\": 4, \"Correlation\": -0.2}, {\"Question\": \"C2N\", \"Concept\": \"BEHAVIOUR\", \"Trait\": \"MAGNITUDE\", \"Negate\": false, \"Count\": 11, \"Correlation\": -0.2}, {\"Question\": \"C2N\", \"Concept\": \"BEHAVIOUR\", \"Trait\": \"MAGNITUDE\", \"Negate\": true, \"Count\": 2, \"Correlation\": -0.2}, {\"Question\": \"C2N\", \"Concept\": \"BEHAVIOUR\", \"Trait\": \"POSITION\", \"Negate\": false, \"Count\": 6, \"Correlation\": -0.2}, {\"Question\": \"C2N\", \"Concept\": \"BEHAVIOUR\", \"Trait\": \"POSITION\", \"Negate\": true, \"Count\": 4, \"Correlation\": -0.2}, {\"Question\": \"C2N\", \"Concept\": \"BEHAVIOUR\", \"Trait\": \"REGULARITY\", \"Negate\": false, \"Count\": 3, \"Correlation\": -0.2}, {\"Question\": \"C2N\", \"Concept\": \"BEHAVIOUR\", \"Trait\": \"REGULARITY\", \"Negate\": true, \"Count\": 1, \"Correlation\": -0.2}, {\"Question\": \"C2N\", \"Concept\": \"GRAPHIC\", \"Trait\": \"DIRECTION\", \"Negate\": false, \"Count\": 4, \"Correlation\": -0.2}, {\"Question\": \"C2N\", \"Concept\": \"GRAPHIC\", \"Trait\": \"DISCERNIBILITY\", \"Negate\": false, \"Count\": 2, \"Correlation\": -0.2}, {\"Question\": \"C2N\", \"Concept\": \"GRAPHIC\", \"Trait\": \"DISCERNIBILITY\", \"Negate\": true, \"Count\": 5, \"Correlation\": -0.2}, {\"Question\": \"C2N\", \"Concept\": \"GRAPHIC\", \"Trait\": \"MAGNITUDE\", \"Negate\": false, \"Count\": 11, \"Correlation\": -0.2}, {\"Question\": \"C2N\", \"Concept\": \"GRAPHIC\", \"Trait\": \"MAGNITUDE\", \"Negate\": true, \"Count\": 5, \"Correlation\": -0.2}, {\"Question\": \"C2N\", \"Concept\": \"GRAPHIC\", \"Trait\": \"POSITION\", \"Negate\": false, \"Count\": 13, \"Correlation\": -0.2}, {\"Question\": \"C2N\", \"Concept\": \"GRAPHIC\", \"Trait\": \"POSITION\", \"Negate\": true, \"Count\": 9, \"Correlation\": -0.2}, {\"Question\": \"C2N\", \"Concept\": \"GRAPHIC\", \"Trait\": \"REGULARITY\", \"Negate\": false, \"Count\": 5, \"Correlation\": -0.2}, {\"Question\": \"C2N\", \"Concept\": \"GRAPHIC\", \"Trait\": \"REGULARITY\", \"Negate\": true, \"Count\": 4, \"Correlation\": -0.2}, {\"Question\": \"C2N\", \"Concept\": \"INFERENCES\", \"Trait\": \"DIRECTION\", \"Negate\": false, \"Count\": 8, \"Correlation\": -0.2}, {\"Question\": \"C2N\", \"Concept\": \"INFERENCES\", \"Trait\": \"DIRECTION\", \"Negate\": true, \"Count\": 1, \"Correlation\": -0.2}, {\"Question\": \"C2N\", \"Concept\": \"INFERENCES\", \"Trait\": \"DISCERNIBILITY\", \"Negate\": false, \"Count\": 3, \"Correlation\": -0.2}, {\"Question\": \"C2N\", \"Concept\": \"INFERENCES\", \"Trait\": \"DISCERNIBILITY\", \"Negate\": true, \"Count\": 10, \"Correlation\": -0.2}, {\"Question\": \"C2N\", \"Concept\": \"INFERENCES\", \"Trait\": \"MAGNITUDE\", \"Negate\": false, \"Count\": 31, \"Correlation\": -0.2}, {\"Question\": \"C2N\", \"Concept\": \"INFERENCES\", \"Trait\": \"MAGNITUDE\", \"Negate\": true, \"Count\": 8, \"Correlation\": -0.2}, {\"Question\": \"C2N\", \"Concept\": \"INFERENCES\", \"Trait\": \"POSITION\", \"Negate\": false, \"Count\": 24, \"Correlation\": -0.2}, {\"Question\": \"C2N\", \"Concept\": \"INFERENCES\", \"Trait\": \"POSITION\", \"Negate\": true, \"Count\": 11, \"Correlation\": -0.2}, {\"Question\": \"C2N\", \"Concept\": \"INFERENCES\", \"Trait\": \"REGULARITY\", \"Negate\": false, \"Count\": 6, \"Correlation\": -0.2}, {\"Question\": \"C2N\", \"Concept\": \"INFERENCES\", \"Trait\": \"REGULARITY\", \"Negate\": true, \"Count\": 4, \"Correlation\": -0.2}, {\"Question\": \"C2N\", \"Concept\": \"RELATION\", \"Trait\": \"DIRECTION\", \"Negate\": false, \"Count\": 14, \"Correlation\": -0.2}, {\"Question\": \"C2N\", \"Concept\": \"RELATION\", \"Trait\": \"DIRECTION\", \"Negate\": true, \"Count\": 2, \"Correlation\": -0.2}, {\"Question\": \"C2N\", \"Concept\": \"RELATION\", \"Trait\": \"DISCERNIBILITY\", \"Negate\": false, \"Count\": 2, \"Correlation\": -0.2}, {\"Question\": \"C2N\", \"Concept\": \"RELATION\", \"Trait\": \"DISCERNIBILITY\", \"Negate\": true, \"Count\": 22, \"Correlation\": -0.2}, {\"Question\": \"C2N\", \"Concept\": \"RELATION\", \"Trait\": \"MAGNITUDE\", \"Negate\": false, \"Count\": 28, \"Correlation\": -0.2}, {\"Question\": \"C2N\", \"Concept\": \"RELATION\", \"Trait\": \"MAGNITUDE\", \"Negate\": true, \"Count\": 11, \"Correlation\": -0.2}, {\"Question\": \"C2N\", \"Concept\": \"RELATION\", \"Trait\": \"POSITION\", \"Negate\": false, \"Count\": 14, \"Correlation\": -0.2}, {\"Question\": \"C2N\", \"Concept\": \"RELATION\", \"Trait\": \"POSITION\", \"Negate\": true, \"Count\": 16, \"Correlation\": -0.2}, {\"Question\": \"C2N\", \"Concept\": \"RELATION\", \"Trait\": \"REGULARITY\", \"Negate\": false, \"Count\": 7, \"Correlation\": -0.2}, {\"Question\": \"C2N\", \"Concept\": \"RELATION\", \"Trait\": \"REGULARITY\", \"Negate\": true, \"Count\": 6, \"Correlation\": -0.2}, {\"Question\": \"C2N\", \"Concept\": \"SPACE\", \"Trait\": \"DIRECTION\", \"Negate\": false, \"Count\": 9, \"Correlation\": -0.2}, {\"Question\": \"C2N\", \"Concept\": \"SPACE\", \"Trait\": \"DISCERNIBILITY\", \"Negate\": false, \"Count\": 2, \"Correlation\": -0.2}, {\"Question\": \"C2N\", \"Concept\": \"SPACE\", \"Trait\": \"DISCERNIBILITY\", \"Negate\": true, \"Count\": 5, \"Correlation\": -0.2}, {\"Question\": \"C2N\", \"Concept\": \"SPACE\", \"Trait\": \"MAGNITUDE\", \"Negate\": false, \"Count\": 22, \"Correlation\": -0.2}, {\"Question\": \"C2N\", \"Concept\": \"SPACE\", \"Trait\": \"MAGNITUDE\", \"Negate\": true, \"Count\": 5, \"Correlation\": -0.2}, {\"Question\": \"C2N\", \"Concept\": \"SPACE\", \"Trait\": \"POSITION\", \"Negate\": false, \"Count\": 19, \"Correlation\": -0.2}, {\"Question\": \"C2N\", \"Concept\": \"SPACE\", \"Trait\": \"POSITION\", \"Negate\": true, \"Count\": 8, \"Correlation\": -0.2}, {\"Question\": \"C2N\", \"Concept\": \"SPACE\", \"Trait\": \"REGULARITY\", \"Negate\": false, \"Count\": 7, \"Correlation\": -0.2}, {\"Question\": \"C2N\", \"Concept\": \"SPACE\", \"Trait\": \"REGULARITY\", \"Negate\": true, \"Count\": 2, \"Correlation\": -0.2}, {\"Question\": \"C2P\", \"Concept\": \"BEHAVIOUR\", \"Trait\": \"DIRECTION\", \"Negate\": false, \"Count\": 6, \"Correlation\": 0.2}, {\"Question\": \"C2P\", \"Concept\": \"BEHAVIOUR\", \"Trait\": \"DISCERNIBILITY\", \"Negate\": false, \"Count\": 3, \"Correlation\": 0.2}, {\"Question\": \"C2P\", \"Concept\": \"BEHAVIOUR\", \"Trait\": \"DISCERNIBILITY\", \"Negate\": true, \"Count\": 5, \"Correlation\": 0.2}, {\"Question\": \"C2P\", \"Concept\": \"BEHAVIOUR\", \"Trait\": \"MAGNITUDE\", \"Negate\": false, \"Count\": 10, \"Correlation\": 0.2}, {\"Question\": \"C2P\", \"Concept\": \"BEHAVIOUR\", \"Trait\": \"MAGNITUDE\", \"Negate\": true, \"Count\": 6, \"Correlation\": 0.2}, {\"Question\": \"C2P\", \"Concept\": \"BEHAVIOUR\", \"Trait\": \"POSITION\", \"Negate\": false, \"Count\": 4, \"Correlation\": 0.2}, {\"Question\": \"C2P\", \"Concept\": \"BEHAVIOUR\", \"Trait\": \"POSITION\", \"Negate\": true, \"Count\": 4, \"Correlation\": 0.2}, {\"Question\": \"C2P\", \"Concept\": \"BEHAVIOUR\", \"Trait\": \"REGULARITY\", \"Negate\": false, \"Count\": 1, \"Correlation\": 0.2}, {\"Question\": \"C2P\", \"Concept\": \"BEHAVIOUR\", \"Trait\": \"REGULARITY\", \"Negate\": true, \"Count\": 3, \"Correlation\": 0.2}, {\"Question\": \"C2P\", \"Concept\": \"GRAPHIC\", \"Trait\": \"DIRECTION\", \"Negate\": false, \"Count\": 2, \"Correlation\": 0.2}, {\"Question\": \"C2P\", \"Concept\": \"GRAPHIC\", \"Trait\": \"DISCERNIBILITY\", \"Negate\": false, \"Count\": 5, \"Correlation\": 0.2}, {\"Question\": \"C2P\", \"Concept\": \"GRAPHIC\", \"Trait\": \"DISCERNIBILITY\", \"Negate\": true, \"Count\": 3, \"Correlation\": 0.2}, {\"Question\": \"C2P\", \"Concept\": \"GRAPHIC\", \"Trait\": \"MAGNITUDE\", \"Negate\": false, \"Count\": 20, \"Correlation\": 0.2}, {\"Question\": \"C2P\", \"Concept\": \"GRAPHIC\", \"Trait\": \"MAGNITUDE\", \"Negate\": true, \"Count\": 3, \"Correlation\": 0.2}, {\"Question\": \"C2P\", \"Concept\": \"GRAPHIC\", \"Trait\": \"POSITION\", \"Negate\": false, \"Count\": 20, \"Correlation\": 0.2}, {\"Question\": \"C2P\", \"Concept\": \"GRAPHIC\", \"Trait\": \"POSITION\", \"Negate\": true, \"Count\": 3, \"Correlation\": 0.2}, {\"Question\": \"C2P\", \"Concept\": \"GRAPHIC\", \"Trait\": \"REGULARITY\", \"Negate\": false, \"Count\": 4, \"Correlation\": 0.2}, {\"Question\": \"C2P\", \"Concept\": \"GRAPHIC\", \"Trait\": \"REGULARITY\", \"Negate\": true, \"Count\": 3, \"Correlation\": 0.2}, {\"Question\": \"C2P\", \"Concept\": \"INFERENCES\", \"Trait\": \"DIRECTION\", \"Negate\": false, \"Count\": 8, \"Correlation\": 0.2}, {\"Question\": \"C2P\", \"Concept\": \"INFERENCES\", \"Trait\": \"DISCERNIBILITY\", \"Negate\": false, \"Count\": 5, \"Correlation\": 0.2}, {\"Question\": \"C2P\", \"Concept\": \"INFERENCES\", \"Trait\": \"DISCERNIBILITY\", \"Negate\": true, \"Count\": 11, \"Correlation\": 0.2}, {\"Question\": \"C2P\", \"Concept\": \"INFERENCES\", \"Trait\": \"MAGNITUDE\", \"Negate\": false, \"Count\": 38, \"Correlation\": 0.2}, {\"Question\": \"C2P\", \"Concept\": \"INFERENCES\", \"Trait\": \"MAGNITUDE\", \"Negate\": true, \"Count\": 8, \"Correlation\": 0.2}, {\"Question\": \"C2P\", \"Concept\": \"INFERENCES\", \"Trait\": \"POSITION\", \"Negate\": false, \"Count\": 28, \"Correlation\": 0.2}, {\"Question\": \"C2P\", \"Concept\": \"INFERENCES\", \"Trait\": \"POSITION\", \"Negate\": true, \"Count\": 8, \"Correlation\": 0.2}, {\"Question\": \"C2P\", \"Concept\": \"INFERENCES\", \"Trait\": \"REGULARITY\", \"Negate\": false, \"Count\": 5, \"Correlation\": 0.2}, {\"Question\": \"C2P\", \"Concept\": \"INFERENCES\", \"Trait\": \"REGULARITY\", \"Negate\": true, \"Count\": 8, \"Correlation\": 0.2}, {\"Question\": \"C2P\", \"Concept\": \"RELATION\", \"Trait\": \"DIRECTION\", \"Negate\": false, \"Count\": 13, \"Correlation\": 0.2}, {\"Question\": \"C2P\", \"Concept\": \"RELATION\", \"Trait\": \"DIRECTION\", \"Negate\": true, \"Count\": 1, \"Correlation\": 0.2}, {\"Question\": \"C2P\", \"Concept\": \"RELATION\", \"Trait\": \"DISCERNIBILITY\", \"Negate\": false, \"Count\": 4, \"Correlation\": 0.2}, {\"Question\": \"C2P\", \"Concept\": \"RELATION\", \"Trait\": \"DISCERNIBILITY\", \"Negate\": true, \"Count\": 17, \"Correlation\": 0.2}, {\"Question\": \"C2P\", \"Concept\": \"RELATION\", \"Trait\": \"MAGNITUDE\", \"Negate\": false, \"Count\": 35, \"Correlation\": 0.2}, {\"Question\": \"C2P\", \"Concept\": \"RELATION\", \"Trait\": \"MAGNITUDE\", \"Negate\": true, \"Count\": 10, \"Correlation\": 0.2}, {\"Question\": \"C2P\", \"Concept\": \"RELATION\", \"Trait\": \"POSITION\", \"Negate\": false, \"Count\": 18, \"Correlation\": 0.2}, {\"Question\": \"C2P\", \"Concept\": \"RELATION\", \"Trait\": \"POSITION\", \"Negate\": true, \"Count\": 9, \"Correlation\": 0.2}, {\"Question\": \"C2P\", \"Concept\": \"RELATION\", \"Trait\": \"REGULARITY\", \"Negate\": false, \"Count\": 6, \"Correlation\": 0.2}, {\"Question\": \"C2P\", \"Concept\": \"RELATION\", \"Trait\": \"REGULARITY\", \"Negate\": true, \"Count\": 8, \"Correlation\": 0.2}, {\"Question\": \"C2P\", \"Concept\": \"SPACE\", \"Trait\": \"DIRECTION\", \"Negate\": false, \"Count\": 6, \"Correlation\": 0.2}, {\"Question\": \"C2P\", \"Concept\": \"SPACE\", \"Trait\": \"DISCERNIBILITY\", \"Negate\": false, \"Count\": 4, \"Correlation\": 0.2}, {\"Question\": \"C2P\", \"Concept\": \"SPACE\", \"Trait\": \"DISCERNIBILITY\", \"Negate\": true, \"Count\": 7, \"Correlation\": 0.2}, {\"Question\": \"C2P\", \"Concept\": \"SPACE\", \"Trait\": \"MAGNITUDE\", \"Negate\": false, \"Count\": 32, \"Correlation\": 0.2}, {\"Question\": \"C2P\", \"Concept\": \"SPACE\", \"Trait\": \"MAGNITUDE\", \"Negate\": true, \"Count\": 4, \"Correlation\": 0.2}, {\"Question\": \"C2P\", \"Concept\": \"SPACE\", \"Trait\": \"POSITION\", \"Negate\": false, \"Count\": 29, \"Correlation\": 0.2}, {\"Question\": \"C2P\", \"Concept\": \"SPACE\", \"Trait\": \"POSITION\", \"Negate\": true, \"Count\": 5, \"Correlation\": 0.2}, {\"Question\": \"C2P\", \"Concept\": \"SPACE\", \"Trait\": \"REGULARITY\", \"Negate\": false, \"Count\": 1, \"Correlation\": 0.2}, {\"Question\": \"C2P\", \"Concept\": \"SPACE\", \"Trait\": \"REGULARITY\", \"Negate\": true, \"Count\": 4, \"Correlation\": 0.2}, {\"Question\": \"C4N\", \"Concept\": \"BEHAVIOUR\", \"Trait\": \"DIRECTION\", \"Negate\": false, \"Count\": 6, \"Correlation\": -0.4}, {\"Question\": \"C4N\", \"Concept\": \"BEHAVIOUR\", \"Trait\": \"DIRECTION\", \"Negate\": true, \"Count\": 1, \"Correlation\": -0.4}, {\"Question\": \"C4N\", \"Concept\": \"BEHAVIOUR\", \"Trait\": \"DISCERNIBILITY\", \"Negate\": false, \"Count\": 1, \"Correlation\": -0.4}, {\"Question\": \"C4N\", \"Concept\": \"BEHAVIOUR\", \"Trait\": \"DISCERNIBILITY\", \"Negate\": true, \"Count\": 6, \"Correlation\": -0.4}, {\"Question\": \"C4N\", \"Concept\": \"BEHAVIOUR\", \"Trait\": \"MAGNITUDE\", \"Negate\": false, \"Count\": 10, \"Correlation\": -0.4}, {\"Question\": \"C4N\", \"Concept\": \"BEHAVIOUR\", \"Trait\": \"MAGNITUDE\", \"Negate\": true, \"Count\": 3, \"Correlation\": -0.4}, {\"Question\": \"C4N\", \"Concept\": \"BEHAVIOUR\", \"Trait\": \"POSITION\", \"Negate\": false, \"Count\": 9, \"Correlation\": -0.4}, {\"Question\": \"C4N\", \"Concept\": \"BEHAVIOUR\", \"Trait\": \"POSITION\", \"Negate\": true, \"Count\": 3, \"Correlation\": -0.4}, {\"Question\": \"C4N\", \"Concept\": \"BEHAVIOUR\", \"Trait\": \"REGULARITY\", \"Negate\": false, \"Count\": 2, \"Correlation\": -0.4}, {\"Question\": \"C4N\", \"Concept\": \"BEHAVIOUR\", \"Trait\": \"REGULARITY\", \"Negate\": true, \"Count\": 3, \"Correlation\": -0.4}, {\"Question\": \"C4N\", \"Concept\": \"GRAPHIC\", \"Trait\": \"DIRECTION\", \"Negate\": false, \"Count\": 6, \"Correlation\": -0.4}, {\"Question\": \"C4N\", \"Concept\": \"GRAPHIC\", \"Trait\": \"DIRECTION\", \"Negate\": true, \"Count\": 1, \"Correlation\": -0.4}, {\"Question\": \"C4N\", \"Concept\": \"GRAPHIC\", \"Trait\": \"DISCERNIBILITY\", \"Negate\": false, \"Count\": 3, \"Correlation\": -0.4}, {\"Question\": \"C4N\", \"Concept\": \"GRAPHIC\", \"Trait\": \"DISCERNIBILITY\", \"Negate\": true, \"Count\": 5, \"Correlation\": -0.4}, {\"Question\": \"C4N\", \"Concept\": \"GRAPHIC\", \"Trait\": \"MAGNITUDE\", \"Negate\": false, \"Count\": 15, \"Correlation\": -0.4}, {\"Question\": \"C4N\", \"Concept\": \"GRAPHIC\", \"Trait\": \"MAGNITUDE\", \"Negate\": true, \"Count\": 3, \"Correlation\": -0.4}, {\"Question\": \"C4N\", \"Concept\": \"GRAPHIC\", \"Trait\": \"POSITION\", \"Negate\": false, \"Count\": 15, \"Correlation\": -0.4}, {\"Question\": \"C4N\", \"Concept\": \"GRAPHIC\", \"Trait\": \"POSITION\", \"Negate\": true, \"Count\": 4, \"Correlation\": -0.4}, {\"Question\": \"C4N\", \"Concept\": \"GRAPHIC\", \"Trait\": \"REGULARITY\", \"Negate\": false, \"Count\": 6, \"Correlation\": -0.4}, {\"Question\": \"C4N\", \"Concept\": \"GRAPHIC\", \"Trait\": \"REGULARITY\", \"Negate\": true, \"Count\": 2, \"Correlation\": -0.4}, {\"Question\": \"C4N\", \"Concept\": \"INFERENCES\", \"Trait\": \"DIRECTION\", \"Negate\": false, \"Count\": 9, \"Correlation\": -0.4}, {\"Question\": \"C4N\", \"Concept\": \"INFERENCES\", \"Trait\": \"DIRECTION\", \"Negate\": true, \"Count\": 1, \"Correlation\": -0.4}, {\"Question\": \"C4N\", \"Concept\": \"INFERENCES\", \"Trait\": \"DISCERNIBILITY\", \"Negate\": false, \"Count\": 6, \"Correlation\": -0.4}, {\"Question\": \"C4N\", \"Concept\": \"INFERENCES\", \"Trait\": \"DISCERNIBILITY\", \"Negate\": true, \"Count\": 9, \"Correlation\": -0.4}, {\"Question\": \"C4N\", \"Concept\": \"INFERENCES\", \"Trait\": \"MAGNITUDE\", \"Negate\": false, \"Count\": 27, \"Correlation\": -0.4}, {\"Question\": \"C4N\", \"Concept\": \"INFERENCES\", \"Trait\": \"MAGNITUDE\", \"Negate\": true, \"Count\": 9, \"Correlation\": -0.4}, {\"Question\": \"C4N\", \"Concept\": \"INFERENCES\", \"Trait\": \"POSITION\", \"Negate\": false, \"Count\": 30, \"Correlation\": -0.4}, {\"Question\": \"C4N\", \"Concept\": \"INFERENCES\", \"Trait\": \"POSITION\", \"Negate\": true, \"Count\": 8, \"Correlation\": -0.4}, {\"Question\": \"C4N\", \"Concept\": \"INFERENCES\", \"Trait\": \"REGULARITY\", \"Negate\": false, \"Count\": 7, \"Correlation\": -0.4}, {\"Question\": \"C4N\", \"Concept\": \"INFERENCES\", \"Trait\": \"REGULARITY\", \"Negate\": true, \"Count\": 4, \"Correlation\": -0.4}, {\"Question\": \"C4N\", \"Concept\": \"RELATION\", \"Trait\": \"DIRECTION\", \"Negate\": false, \"Count\": 21, \"Correlation\": -0.4}, {\"Question\": \"C4N\", \"Concept\": \"RELATION\", \"Trait\": \"DIRECTION\", \"Negate\": true, \"Count\": 3, \"Correlation\": -0.4}, {\"Question\": \"C4N\", \"Concept\": \"RELATION\", \"Trait\": \"DISCERNIBILITY\", \"Negate\": false, \"Count\": 6, \"Correlation\": -0.4}, {\"Question\": \"C4N\", \"Concept\": \"RELATION\", \"Trait\": \"DISCERNIBILITY\", \"Negate\": true, \"Count\": 19, \"Correlation\": -0.4}, {\"Question\": \"C4N\", \"Concept\": \"RELATION\", \"Trait\": \"MAGNITUDE\", \"Negate\": false, \"Count\": 35, \"Correlation\": -0.4}, {\"Question\": \"C4N\", \"Concept\": \"RELATION\", \"Trait\": \"MAGNITUDE\", \"Negate\": true, \"Count\": 10, \"Correlation\": -0.4}, {\"Question\": \"C4N\", \"Concept\": \"RELATION\", \"Trait\": \"POSITION\", \"Negate\": false, \"Count\": 22, \"Correlation\": -0.4}, {\"Question\": \"C4N\", \"Concept\": \"RELATION\", \"Trait\": \"POSITION\", \"Negate\": true, \"Count\": 10, \"Correlation\": -0.4}, {\"Question\": \"C4N\", \"Concept\": \"RELATION\", \"Trait\": \"REGULARITY\", \"Negate\": false, \"Count\": 7, \"Correlation\": -0.4}, {\"Question\": \"C4N\", \"Concept\": \"RELATION\", \"Trait\": \"REGULARITY\", \"Negate\": true, \"Count\": 4, \"Correlation\": -0.4}, {\"Question\": \"C4N\", \"Concept\": \"SPACE\", \"Trait\": \"DIRECTION\", \"Negate\": false, \"Count\": 5, \"Correlation\": -0.4}, {\"Question\": \"C4N\", \"Concept\": \"SPACE\", \"Trait\": \"DISCERNIBILITY\", \"Negate\": false, \"Count\": 3, \"Correlation\": -0.4}, {\"Question\": \"C4N\", \"Concept\": \"SPACE\", \"Trait\": \"DISCERNIBILITY\", \"Negate\": true, \"Count\": 6, \"Correlation\": -0.4}, {\"Question\": \"C4N\", \"Concept\": \"SPACE\", \"Trait\": \"MAGNITUDE\", \"Negate\": false, \"Count\": 24, \"Correlation\": -0.4}, {\"Question\": \"C4N\", \"Concept\": \"SPACE\", \"Trait\": \"MAGNITUDE\", \"Negate\": true, \"Count\": 7, \"Correlation\": -0.4}, {\"Question\": \"C4N\", \"Concept\": \"SPACE\", \"Trait\": \"POSITION\", \"Negate\": false, \"Count\": 25, \"Correlation\": -0.4}, {\"Question\": \"C4N\", \"Concept\": \"SPACE\", \"Trait\": \"POSITION\", \"Negate\": true, \"Count\": 4, \"Correlation\": -0.4}, {\"Question\": \"C4N\", \"Concept\": \"SPACE\", \"Trait\": \"REGULARITY\", \"Negate\": false, \"Count\": 8, \"Correlation\": -0.4}, {\"Question\": \"C4N\", \"Concept\": \"SPACE\", \"Trait\": \"REGULARITY\", \"Negate\": true, \"Count\": 2, \"Correlation\": -0.4}, {\"Question\": \"C4P\", \"Concept\": \"BEHAVIOUR\", \"Trait\": \"DIRECTION\", \"Negate\": false, \"Count\": 12, \"Correlation\": 0.4}, {\"Question\": \"C4P\", \"Concept\": \"BEHAVIOUR\", \"Trait\": \"DISCERNIBILITY\", \"Negate\": false, \"Count\": 7, \"Correlation\": 0.4}, {\"Question\": \"C4P\", \"Concept\": \"BEHAVIOUR\", \"Trait\": \"DISCERNIBILITY\", \"Negate\": true, \"Count\": 2, \"Correlation\": 0.4}, {\"Question\": \"C4P\", \"Concept\": \"BEHAVIOUR\", \"Trait\": \"MAGNITUDE\", \"Negate\": false, \"Count\": 17, \"Correlation\": 0.4}, {\"Question\": \"C4P\", \"Concept\": \"BEHAVIOUR\", \"Trait\": \"MAGNITUDE\", \"Negate\": true, \"Count\": 2, \"Correlation\": 0.4}, {\"Question\": \"C4P\", \"Concept\": \"BEHAVIOUR\", \"Trait\": \"POSITION\", \"Negate\": false, \"Count\": 9, \"Correlation\": 0.4}, {\"Question\": \"C4P\", \"Concept\": \"BEHAVIOUR\", \"Trait\": \"POSITION\", \"Negate\": true, \"Count\": 2, \"Correlation\": 0.4}, {\"Question\": \"C4P\", \"Concept\": \"BEHAVIOUR\", \"Trait\": \"REGULARITY\", \"Negate\": false, \"Count\": 12, \"Correlation\": 0.4}, {\"Question\": \"C4P\", \"Concept\": \"BEHAVIOUR\", \"Trait\": \"REGULARITY\", \"Negate\": true, \"Count\": 1, \"Correlation\": 0.4}, {\"Question\": \"C4P\", \"Concept\": \"GRAPHIC\", \"Trait\": \"DIRECTION\", \"Negate\": false, \"Count\": 2, \"Correlation\": 0.4}, {\"Question\": \"C4P\", \"Concept\": \"GRAPHIC\", \"Trait\": \"DISCERNIBILITY\", \"Negate\": false, \"Count\": 1, \"Correlation\": 0.4}, {\"Question\": \"C4P\", \"Concept\": \"GRAPHIC\", \"Trait\": \"DISCERNIBILITY\", \"Negate\": true, \"Count\": 3, \"Correlation\": 0.4}, {\"Question\": \"C4P\", \"Concept\": \"GRAPHIC\", \"Trait\": \"MAGNITUDE\", \"Negate\": false, \"Count\": 12, \"Correlation\": 0.4}, {\"Question\": \"C4P\", \"Concept\": \"GRAPHIC\", \"Trait\": \"MAGNITUDE\", \"Negate\": true, \"Count\": 5, \"Correlation\": 0.4}, {\"Question\": \"C4P\", \"Concept\": \"GRAPHIC\", \"Trait\": \"POSITION\", \"Negate\": false, \"Count\": 13, \"Correlation\": 0.4}, {\"Question\": \"C4P\", \"Concept\": \"GRAPHIC\", \"Trait\": \"POSITION\", \"Negate\": true, \"Count\": 6, \"Correlation\": 0.4}, {\"Question\": \"C4P\", \"Concept\": \"GRAPHIC\", \"Trait\": \"REGULARITY\", \"Negate\": false, \"Count\": 3, \"Correlation\": 0.4}, {\"Question\": \"C4P\", \"Concept\": \"GRAPHIC\", \"Trait\": \"REGULARITY\", \"Negate\": true, \"Count\": 3, \"Correlation\": 0.4}, {\"Question\": \"C4P\", \"Concept\": \"INFERENCES\", \"Trait\": \"DIRECTION\", \"Negate\": false, \"Count\": 17, \"Correlation\": 0.4}, {\"Question\": \"C4P\", \"Concept\": \"INFERENCES\", \"Trait\": \"DIRECTION\", \"Negate\": true, \"Count\": 2, \"Correlation\": 0.4}, {\"Question\": \"C4P\", \"Concept\": \"INFERENCES\", \"Trait\": \"DISCERNIBILITY\", \"Negate\": false, \"Count\": 6, \"Correlation\": 0.4}, {\"Question\": \"C4P\", \"Concept\": \"INFERENCES\", \"Trait\": \"DISCERNIBILITY\", \"Negate\": true, \"Count\": 8, \"Correlation\": 0.4}, {\"Question\": \"C4P\", \"Concept\": \"INFERENCES\", \"Trait\": \"MAGNITUDE\", \"Negate\": false, \"Count\": 42, \"Correlation\": 0.4}, {\"Question\": \"C4P\", \"Concept\": \"INFERENCES\", \"Trait\": \"MAGNITUDE\", \"Negate\": true, \"Count\": 10, \"Correlation\": 0.4}, {\"Question\": \"C4P\", \"Concept\": \"INFERENCES\", \"Trait\": \"POSITION\", \"Negate\": false, \"Count\": 32, \"Correlation\": 0.4}, {\"Question\": \"C4P\", \"Concept\": \"INFERENCES\", \"Trait\": \"POSITION\", \"Negate\": true, \"Count\": 10, \"Correlation\": 0.4}, {\"Question\": \"C4P\", \"Concept\": \"INFERENCES\", \"Trait\": \"REGULARITY\", \"Negate\": false, \"Count\": 17, \"Correlation\": 0.4}, {\"Question\": \"C4P\", \"Concept\": \"INFERENCES\", \"Trait\": \"REGULARITY\", \"Negate\": true, \"Count\": 5, \"Correlation\": 0.4}, {\"Question\": \"C4P\", \"Concept\": \"RELATION\", \"Trait\": \"DIRECTION\", \"Negate\": false, \"Count\": 30, \"Correlation\": 0.4}, {\"Question\": \"C4P\", \"Concept\": \"RELATION\", \"Trait\": \"DIRECTION\", \"Negate\": true, \"Count\": 3, \"Correlation\": 0.4}, {\"Question\": \"C4P\", \"Concept\": \"RELATION\", \"Trait\": \"DISCERNIBILITY\", \"Negate\": false, \"Count\": 5, \"Correlation\": 0.4}, {\"Question\": \"C4P\", \"Concept\": \"RELATION\", \"Trait\": \"DISCERNIBILITY\", \"Negate\": true, \"Count\": 10, \"Correlation\": 0.4}, {\"Question\": \"C4P\", \"Concept\": \"RELATION\", \"Trait\": \"MAGNITUDE\", \"Negate\": false, \"Count\": 43, \"Correlation\": 0.4}, {\"Question\": \"C4P\", \"Concept\": \"RELATION\", \"Trait\": \"MAGNITUDE\", \"Negate\": true, \"Count\": 7, \"Correlation\": 0.4}, {\"Question\": \"C4P\", \"Concept\": \"RELATION\", \"Trait\": \"POSITION\", \"Negate\": false, \"Count\": 28, \"Correlation\": 0.4}, {\"Question\": \"C4P\", \"Concept\": \"RELATION\", \"Trait\": \"POSITION\", \"Negate\": true, \"Count\": 5, \"Correlation\": 0.4}, {\"Question\": \"C4P\", \"Concept\": \"RELATION\", \"Trait\": \"REGULARITY\", \"Negate\": false, \"Count\": 17, \"Correlation\": 0.4}, {\"Question\": \"C4P\", \"Concept\": \"RELATION\", \"Trait\": \"REGULARITY\", \"Negate\": true, \"Count\": 4, \"Correlation\": 0.4}, {\"Question\": \"C4P\", \"Concept\": \"SPACE\", \"Trait\": \"DIRECTION\", \"Negate\": false, \"Count\": 10, \"Correlation\": 0.4}, {\"Question\": \"C4P\", \"Concept\": \"SPACE\", \"Trait\": \"DIRECTION\", \"Negate\": true, \"Count\": 1, \"Correlation\": 0.4}, {\"Question\": \"C4P\", \"Concept\": \"SPACE\", \"Trait\": \"DISCERNIBILITY\", \"Negate\": false, \"Count\": 4, \"Correlation\": 0.4}, {\"Question\": \"C4P\", \"Concept\": \"SPACE\", \"Trait\": \"DISCERNIBILITY\", \"Negate\": true, \"Count\": 5, \"Correlation\": 0.4}, {\"Question\": \"C4P\", \"Concept\": \"SPACE\", \"Trait\": \"MAGNITUDE\", \"Negate\": false, \"Count\": 25, \"Correlation\": 0.4}, {\"Question\": \"C4P\", \"Concept\": \"SPACE\", \"Trait\": \"MAGNITUDE\", \"Negate\": true, \"Count\": 8, \"Correlation\": 0.4}, {\"Question\": \"C4P\", \"Concept\": \"SPACE\", \"Trait\": \"POSITION\", \"Negate\": false, \"Count\": 23, \"Correlation\": 0.4}, {\"Question\": \"C4P\", \"Concept\": \"SPACE\", \"Trait\": \"POSITION\", \"Negate\": true, \"Count\": 9, \"Correlation\": 0.4}, {\"Question\": \"C4P\", \"Concept\": \"SPACE\", \"Trait\": \"REGULARITY\", \"Negate\": false, \"Count\": 9, \"Correlation\": 0.4}, {\"Question\": \"C4P\", \"Concept\": \"SPACE\", \"Trait\": \"REGULARITY\", \"Negate\": true, \"Count\": 4, \"Correlation\": 0.4}, {\"Question\": \"C6N\", \"Concept\": \"BEHAVIOUR\", \"Trait\": \"DIRECTION\", \"Negate\": false, \"Count\": 21, \"Correlation\": -0.6}, {\"Question\": \"C6N\", \"Concept\": \"BEHAVIOUR\", \"Trait\": \"DIRECTION\", \"Negate\": true, \"Count\": 2, \"Correlation\": -0.6}, {\"Question\": \"C6N\", \"Concept\": \"BEHAVIOUR\", \"Trait\": \"DISCERNIBILITY\", \"Negate\": false, \"Count\": 5, \"Correlation\": -0.6}, {\"Question\": \"C6N\", \"Concept\": \"BEHAVIOUR\", \"Trait\": \"DISCERNIBILITY\", \"Negate\": true, \"Count\": 1, \"Correlation\": -0.6}, {\"Question\": \"C6N\", \"Concept\": \"BEHAVIOUR\", \"Trait\": \"MAGNITUDE\", \"Negate\": false, \"Count\": 18, \"Correlation\": -0.6}, {\"Question\": \"C6N\", \"Concept\": \"BEHAVIOUR\", \"Trait\": \"MAGNITUDE\", \"Negate\": true, \"Count\": 3, \"Correlation\": -0.6}, {\"Question\": \"C6N\", \"Concept\": \"BEHAVIOUR\", \"Trait\": \"POSITION\", \"Negate\": false, \"Count\": 10, \"Correlation\": -0.6}, {\"Question\": \"C6N\", \"Concept\": \"BEHAVIOUR\", \"Trait\": \"REGULARITY\", \"Negate\": false, \"Count\": 7, \"Correlation\": -0.6}, {\"Question\": \"C6N\", \"Concept\": \"BEHAVIOUR\", \"Trait\": \"REGULARITY\", \"Negate\": true, \"Count\": 1, \"Correlation\": -0.6}, {\"Question\": \"C6N\", \"Concept\": \"GRAPHIC\", \"Trait\": \"DIRECTION\", \"Negate\": false, \"Count\": 12, \"Correlation\": -0.6}, {\"Question\": \"C6N\", \"Concept\": \"GRAPHIC\", \"Trait\": \"DIRECTION\", \"Negate\": true, \"Count\": 2, \"Correlation\": -0.6}, {\"Question\": \"C6N\", \"Concept\": \"GRAPHIC\", \"Trait\": \"DISCERNIBILITY\", \"Negate\": false, \"Count\": 6, \"Correlation\": -0.6}, {\"Question\": \"C6N\", \"Concept\": \"GRAPHIC\", \"Trait\": \"MAGNITUDE\", \"Negate\": false, \"Count\": 9, \"Correlation\": -0.6}, {\"Question\": \"C6N\", \"Concept\": \"GRAPHIC\", \"Trait\": \"MAGNITUDE\", \"Negate\": true, \"Count\": 5, \"Correlation\": -0.6}, {\"Question\": \"C6N\", \"Concept\": \"GRAPHIC\", \"Trait\": \"POSITION\", \"Negate\": false, \"Count\": 8, \"Correlation\": -0.6}, {\"Question\": \"C6N\", \"Concept\": \"GRAPHIC\", \"Trait\": \"POSITION\", \"Negate\": true, \"Count\": 4, \"Correlation\": -0.6}, {\"Question\": \"C6N\", \"Concept\": \"GRAPHIC\", \"Trait\": \"REGULARITY\", \"Negate\": false, \"Count\": 5, \"Correlation\": -0.6}, {\"Question\": \"C6N\", \"Concept\": \"GRAPHIC\", \"Trait\": \"REGULARITY\", \"Negate\": true, \"Count\": 2, \"Correlation\": -0.6}, {\"Question\": \"C6N\", \"Concept\": \"INFERENCES\", \"Trait\": \"DIRECTION\", \"Negate\": false, \"Count\": 28, \"Correlation\": -0.6}, {\"Question\": \"C6N\", \"Concept\": \"INFERENCES\", \"Trait\": \"DIRECTION\", \"Negate\": true, \"Count\": 1, \"Correlation\": -0.6}, {\"Question\": \"C6N\", \"Concept\": \"INFERENCES\", \"Trait\": \"DISCERNIBILITY\", \"Negate\": false, \"Count\": 9, \"Correlation\": -0.6}, {\"Question\": \"C6N\", \"Concept\": \"INFERENCES\", \"Trait\": \"DISCERNIBILITY\", \"Negate\": true, \"Count\": 2, \"Correlation\": -0.6}, {\"Question\": \"C6N\", \"Concept\": \"INFERENCES\", \"Trait\": \"MAGNITUDE\", \"Negate\": false, \"Count\": 32, \"Correlation\": -0.6}, {\"Question\": \"C6N\", \"Concept\": \"INFERENCES\", \"Trait\": \"MAGNITUDE\", \"Negate\": true, \"Count\": 6, \"Correlation\": -0.6}, {\"Question\": \"C6N\", \"Concept\": \"INFERENCES\", \"Trait\": \"POSITION\", \"Negate\": false, \"Count\": 33, \"Correlation\": -0.6}, {\"Question\": \"C6N\", \"Concept\": \"INFERENCES\", \"Trait\": \"POSITION\", \"Negate\": true, \"Count\": 5, \"Correlation\": -0.6}, {\"Question\": \"C6N\", \"Concept\": \"INFERENCES\", \"Trait\": \"REGULARITY\", \"Negate\": false, \"Count\": 13, \"Correlation\": -0.6}, {\"Question\": \"C6N\", \"Concept\": \"INFERENCES\", \"Trait\": \"REGULARITY\", \"Negate\": true, \"Count\": 1, \"Correlation\": -0.6}, {\"Question\": \"C6N\", \"Concept\": \"RELATION\", \"Trait\": \"DIRECTION\", \"Negate\": false, \"Count\": 42, \"Correlation\": -0.6}, {\"Question\": \"C6N\", \"Concept\": \"RELATION\", \"Trait\": \"DIRECTION\", \"Negate\": true, \"Count\": 1, \"Correlation\": -0.6}, {\"Question\": \"C6N\", \"Concept\": \"RELATION\", \"Trait\": \"DISCERNIBILITY\", \"Negate\": false, \"Count\": 6, \"Correlation\": -0.6}, {\"Question\": \"C6N\", \"Concept\": \"RELATION\", \"Trait\": \"DISCERNIBILITY\", \"Negate\": true, \"Count\": 3, \"Correlation\": -0.6}, {\"Question\": \"C6N\", \"Concept\": \"RELATION\", \"Trait\": \"MAGNITUDE\", \"Negate\": false, \"Count\": 37, \"Correlation\": -0.6}, {\"Question\": \"C6N\", \"Concept\": \"RELATION\", \"Trait\": \"MAGNITUDE\", \"Negate\": true, \"Count\": 8, \"Correlation\": -0.6}, {\"Question\": \"C6N\", \"Concept\": \"RELATION\", \"Trait\": \"POSITION\", \"Negate\": false, \"Count\": 18, \"Correlation\": -0.6}, {\"Question\": \"C6N\", \"Concept\": \"RELATION\", \"Trait\": \"POSITION\", \"Negate\": true, \"Count\": 5, \"Correlation\": -0.6}, {\"Question\": \"C6N\", \"Concept\": \"RELATION\", \"Trait\": \"REGULARITY\", \"Negate\": false, \"Count\": 9, \"Correlation\": -0.6}, {\"Question\": \"C6N\", \"Concept\": \"RELATION\", \"Trait\": \"REGULARITY\", \"Negate\": true, \"Count\": 2, \"Correlation\": -0.6}, {\"Question\": \"C6N\", \"Concept\": \"SPACE\", \"Trait\": \"DIRECTION\", \"Negate\": false, \"Count\": 15, \"Correlation\": -0.6}, {\"Question\": \"C6N\", \"Concept\": \"SPACE\", \"Trait\": \"DISCERNIBILITY\", \"Negate\": false, \"Count\": 5, \"Correlation\": -0.6}, {\"Question\": \"C6N\", \"Concept\": \"SPACE\", \"Trait\": \"DISCERNIBILITY\", \"Negate\": true, \"Count\": 1, \"Correlation\": -0.6}, {\"Question\": \"C6N\", \"Concept\": \"SPACE\", \"Trait\": \"MAGNITUDE\", \"Negate\": false, \"Count\": 16, \"Correlation\": -0.6}, {\"Question\": \"C6N\", \"Concept\": \"SPACE\", \"Trait\": \"MAGNITUDE\", \"Negate\": true, \"Count\": 5, \"Correlation\": -0.6}, {\"Question\": \"C6N\", \"Concept\": \"SPACE\", \"Trait\": \"POSITION\", \"Negate\": false, \"Count\": 24, \"Correlation\": -0.6}, {\"Question\": \"C6N\", \"Concept\": \"SPACE\", \"Trait\": \"POSITION\", \"Negate\": true, \"Count\": 4, \"Correlation\": -0.6}, {\"Question\": \"C6N\", \"Concept\": \"SPACE\", \"Trait\": \"REGULARITY\", \"Negate\": false, \"Count\": 9, \"Correlation\": -0.6}, {\"Question\": \"C6N\", \"Concept\": \"SPACE\", \"Trait\": \"REGULARITY\", \"Negate\": true, \"Count\": 1, \"Correlation\": -0.6}, {\"Question\": \"C6P\", \"Concept\": \"BEHAVIOUR\", \"Trait\": \"DIRECTION\", \"Negate\": false, \"Count\": 13, \"Correlation\": 0.6}, {\"Question\": \"C6P\", \"Concept\": \"BEHAVIOUR\", \"Trait\": \"DIRECTION\", \"Negate\": true, \"Count\": 1, \"Correlation\": 0.6}, {\"Question\": \"C6P\", \"Concept\": \"BEHAVIOUR\", \"Trait\": \"DISCERNIBILITY\", \"Negate\": false, \"Count\": 9, \"Correlation\": 0.6}, {\"Question\": \"C6P\", \"Concept\": \"BEHAVIOUR\", \"Trait\": \"MAGNITUDE\", \"Negate\": false, \"Count\": 18, \"Correlation\": 0.6}, {\"Question\": \"C6P\", \"Concept\": \"BEHAVIOUR\", \"Trait\": \"MAGNITUDE\", \"Negate\": true, \"Count\": 1, \"Correlation\": 0.6}, {\"Question\": \"C6P\", \"Concept\": \"BEHAVIOUR\", \"Trait\": \"POSITION\", \"Negate\": false, \"Count\": 8, \"Correlation\": 0.6}, {\"Question\": \"C6P\", \"Concept\": \"BEHAVIOUR\", \"Trait\": \"REGULARITY\", \"Negate\": false, \"Count\": 14, \"Correlation\": 0.6}, {\"Question\": \"C6P\", \"Concept\": \"BEHAVIOUR\", \"Trait\": \"REGULARITY\", \"Negate\": true, \"Count\": 3, \"Correlation\": 0.6}, {\"Question\": \"C6P\", \"Concept\": \"GRAPHIC\", \"Trait\": \"DIRECTION\", \"Negate\": false, \"Count\": 7, \"Correlation\": 0.6}, {\"Question\": \"C6P\", \"Concept\": \"GRAPHIC\", \"Trait\": \"DIRECTION\", \"Negate\": true, \"Count\": 2, \"Correlation\": 0.6}, {\"Question\": \"C6P\", \"Concept\": \"GRAPHIC\", \"Trait\": \"DISCERNIBILITY\", \"Negate\": false, \"Count\": 2, \"Correlation\": 0.6}, {\"Question\": \"C6P\", \"Concept\": \"GRAPHIC\", \"Trait\": \"DISCERNIBILITY\", \"Negate\": true, \"Count\": 1, \"Correlation\": 0.6}, {\"Question\": \"C6P\", \"Concept\": \"GRAPHIC\", \"Trait\": \"MAGNITUDE\", \"Negate\": false, \"Count\": 15, \"Correlation\": 0.6}, {\"Question\": \"C6P\", \"Concept\": \"GRAPHIC\", \"Trait\": \"MAGNITUDE\", \"Negate\": true, \"Count\": 2, \"Correlation\": 0.6}, {\"Question\": \"C6P\", \"Concept\": \"GRAPHIC\", \"Trait\": \"POSITION\", \"Negate\": false, \"Count\": 14, \"Correlation\": 0.6}, {\"Question\": \"C6P\", \"Concept\": \"GRAPHIC\", \"Trait\": \"POSITION\", \"Negate\": true, \"Count\": 3, \"Correlation\": 0.6}, {\"Question\": \"C6P\", \"Concept\": \"GRAPHIC\", \"Trait\": \"REGULARITY\", \"Negate\": false, \"Count\": 5, \"Correlation\": 0.6}, {\"Question\": \"C6P\", \"Concept\": \"GRAPHIC\", \"Trait\": \"REGULARITY\", \"Negate\": true, \"Count\": 2, \"Correlation\": 0.6}, {\"Question\": \"C6P\", \"Concept\": \"INFERENCES\", \"Trait\": \"DIRECTION\", \"Negate\": false, \"Count\": 27, \"Correlation\": 0.6}, {\"Question\": \"C6P\", \"Concept\": \"INFERENCES\", \"Trait\": \"DIRECTION\", \"Negate\": true, \"Count\": 1, \"Correlation\": 0.6}, {\"Question\": \"C6P\", \"Concept\": \"INFERENCES\", \"Trait\": \"DISCERNIBILITY\", \"Negate\": false, \"Count\": 9, \"Correlation\": 0.6}, {\"Question\": \"C6P\", \"Concept\": \"INFERENCES\", \"Trait\": \"DISCERNIBILITY\", \"Negate\": true, \"Count\": 1, \"Correlation\": 0.6}, {\"Question\": \"C6P\", \"Concept\": \"INFERENCES\", \"Trait\": \"MAGNITUDE\", \"Negate\": false, \"Count\": 42, \"Correlation\": 0.6}, {\"Question\": \"C6P\", \"Concept\": \"INFERENCES\", \"Trait\": \"MAGNITUDE\", \"Negate\": true, \"Count\": 1, \"Correlation\": 0.6}, {\"Question\": \"C6P\", \"Concept\": \"INFERENCES\", \"Trait\": \"POSITION\", \"Negate\": false, \"Count\": 37, \"Correlation\": 0.6}, {\"Question\": \"C6P\", \"Concept\": \"INFERENCES\", \"Trait\": \"POSITION\", \"Negate\": true, \"Count\": 2, \"Correlation\": 0.6}, {\"Question\": \"C6P\", \"Concept\": \"INFERENCES\", \"Trait\": \"REGULARITY\", \"Negate\": false, \"Count\": 21, \"Correlation\": 0.6}, {\"Question\": \"C6P\", \"Concept\": \"INFERENCES\", \"Trait\": \"REGULARITY\", \"Negate\": true, \"Count\": 2, \"Correlation\": 0.6}, {\"Question\": \"C6P\", \"Concept\": \"RELATION\", \"Trait\": \"DIRECTION\", \"Negate\": false, \"Count\": 38, \"Correlation\": 0.6}, {\"Question\": \"C6P\", \"Concept\": \"RELATION\", \"Trait\": \"DIRECTION\", \"Negate\": true, \"Count\": 4, \"Correlation\": 0.6}, {\"Question\": \"C6P\", \"Concept\": \"RELATION\", \"Trait\": \"DISCERNIBILITY\", \"Negate\": false, \"Count\": 7, \"Correlation\": 0.6}, {\"Question\": \"C6P\", \"Concept\": \"RELATION\", \"Trait\": \"DISCERNIBILITY\", \"Negate\": true, \"Count\": 3, \"Correlation\": 0.6}, {\"Question\": \"C6P\", \"Concept\": \"RELATION\", \"Trait\": \"MAGNITUDE\", \"Negate\": false, \"Count\": 46, \"Correlation\": 0.6}, {\"Question\": \"C6P\", \"Concept\": \"RELATION\", \"Trait\": \"MAGNITUDE\", \"Negate\": true, \"Count\": 5, \"Correlation\": 0.6}, {\"Question\": \"C6P\", \"Concept\": \"RELATION\", \"Trait\": \"POSITION\", \"Negate\": false, \"Count\": 23, \"Correlation\": 0.6}, {\"Question\": \"C6P\", \"Concept\": \"RELATION\", \"Trait\": \"POSITION\", \"Negate\": true, \"Count\": 3, \"Correlation\": 0.6}, {\"Question\": \"C6P\", \"Concept\": \"RELATION\", \"Trait\": \"REGULARITY\", \"Negate\": false, \"Count\": 18, \"Correlation\": 0.6}, {\"Question\": \"C6P\", \"Concept\": \"RELATION\", \"Trait\": \"REGULARITY\", \"Negate\": true, \"Count\": 3, \"Correlation\": 0.6}, {\"Question\": \"C6P\", \"Concept\": \"SPACE\", \"Trait\": \"DIRECTION\", \"Negate\": false, \"Count\": 15, \"Correlation\": 0.6}, {\"Question\": \"C6P\", \"Concept\": \"SPACE\", \"Trait\": \"DIRECTION\", \"Negate\": true, \"Count\": 1, \"Correlation\": 0.6}, {\"Question\": \"C6P\", \"Concept\": \"SPACE\", \"Trait\": \"DISCERNIBILITY\", \"Negate\": false, \"Count\": 3, \"Correlation\": 0.6}, {\"Question\": \"C6P\", \"Concept\": \"SPACE\", \"Trait\": \"DISCERNIBILITY\", \"Negate\": true, \"Count\": 1, \"Correlation\": 0.6}, {\"Question\": \"C6P\", \"Concept\": \"SPACE\", \"Trait\": \"MAGNITUDE\", \"Negate\": false, \"Count\": 28, \"Correlation\": 0.6}, {\"Question\": \"C6P\", \"Concept\": \"SPACE\", \"Trait\": \"MAGNITUDE\", \"Negate\": true, \"Count\": 2, \"Correlation\": 0.6}, {\"Question\": \"C6P\", \"Concept\": \"SPACE\", \"Trait\": \"POSITION\", \"Negate\": false, \"Count\": 22, \"Correlation\": 0.6}, {\"Question\": \"C6P\", \"Concept\": \"SPACE\", \"Trait\": \"REGULARITY\", \"Negate\": false, \"Count\": 13, \"Correlation\": 0.6}, {\"Question\": \"C6P\", \"Concept\": \"SPACE\", \"Trait\": \"REGULARITY\", \"Negate\": true, \"Count\": 1, \"Correlation\": 0.6}, {\"Question\": \"C8N\", \"Concept\": \"BEHAVIOUR\", \"Trait\": \"DIRECTION\", \"Negate\": false, \"Count\": 29, \"Correlation\": -0.8}, {\"Question\": \"C8N\", \"Concept\": \"BEHAVIOUR\", \"Trait\": \"DISCERNIBILITY\", \"Negate\": false, \"Count\": 8, \"Correlation\": -0.8}, {\"Question\": \"C8N\", \"Concept\": \"BEHAVIOUR\", \"Trait\": \"DISCERNIBILITY\", \"Negate\": true, \"Count\": 1, \"Correlation\": -0.8}, {\"Question\": \"C8N\", \"Concept\": \"BEHAVIOUR\", \"Trait\": \"MAGNITUDE\", \"Negate\": false, \"Count\": 16, \"Correlation\": -0.8}, {\"Question\": \"C8N\", \"Concept\": \"BEHAVIOUR\", \"Trait\": \"MAGNITUDE\", \"Negate\": true, \"Count\": 1, \"Correlation\": -0.8}, {\"Question\": \"C8N\", \"Concept\": \"BEHAVIOUR\", \"Trait\": \"POSITION\", \"Negate\": false, \"Count\": 11, \"Correlation\": -0.8}, {\"Question\": \"C8N\", \"Concept\": \"BEHAVIOUR\", \"Trait\": \"REGULARITY\", \"Negate\": false, \"Count\": 15, \"Correlation\": -0.8}, {\"Question\": \"C8N\", \"Concept\": \"GRAPHIC\", \"Trait\": \"DIRECTION\", \"Negate\": false, \"Count\": 11, \"Correlation\": -0.8}, {\"Question\": \"C8N\", \"Concept\": \"GRAPHIC\", \"Trait\": \"DISCERNIBILITY\", \"Negate\": false, \"Count\": 3, \"Correlation\": -0.8}, {\"Question\": \"C8N\", \"Concept\": \"GRAPHIC\", \"Trait\": \"DISCERNIBILITY\", \"Negate\": true, \"Count\": 2, \"Correlation\": -0.8}, {\"Question\": \"C8N\", \"Concept\": \"GRAPHIC\", \"Trait\": \"MAGNITUDE\", \"Negate\": false, \"Count\": 6, \"Correlation\": -0.8}, {\"Question\": \"C8N\", \"Concept\": \"GRAPHIC\", \"Trait\": \"MAGNITUDE\", \"Negate\": true, \"Count\": 2, \"Correlation\": -0.8}, {\"Question\": \"C8N\", \"Concept\": \"GRAPHIC\", \"Trait\": \"POSITION\", \"Negate\": false, \"Count\": 13, \"Correlation\": -0.8}, {\"Question\": \"C8N\", \"Concept\": \"GRAPHIC\", \"Trait\": \"POSITION\", \"Negate\": true, \"Count\": 2, \"Correlation\": -0.8}, {\"Question\": \"C8N\", \"Concept\": \"GRAPHIC\", \"Trait\": \"REGULARITY\", \"Negate\": false, \"Count\": 4, \"Correlation\": -0.8}, {\"Question\": \"C8N\", \"Concept\": \"INFERENCES\", \"Trait\": \"DIRECTION\", \"Negate\": false, \"Count\": 35, \"Correlation\": -0.8}, {\"Question\": \"C8N\", \"Concept\": \"INFERENCES\", \"Trait\": \"DISCERNIBILITY\", \"Negate\": false, \"Count\": 11, \"Correlation\": -0.8}, {\"Question\": \"C8N\", \"Concept\": \"INFERENCES\", \"Trait\": \"DISCERNIBILITY\", \"Negate\": true, \"Count\": 2, \"Correlation\": -0.8}, {\"Question\": \"C8N\", \"Concept\": \"INFERENCES\", \"Trait\": \"MAGNITUDE\", \"Negate\": false, \"Count\": 27, \"Correlation\": -0.8}, {\"Question\": \"C8N\", \"Concept\": \"INFERENCES\", \"Trait\": \"MAGNITUDE\", \"Negate\": true, \"Count\": 2, \"Correlation\": -0.8}, {\"Question\": \"C8N\", \"Concept\": \"INFERENCES\", \"Trait\": \"POSITION\", \"Negate\": false, \"Count\": 41, \"Correlation\": -0.8}, {\"Question\": \"C8N\", \"Concept\": \"INFERENCES\", \"Trait\": \"POSITION\", \"Negate\": true, \"Count\": 2, \"Correlation\": -0.8}, {\"Question\": \"C8N\", \"Concept\": \"INFERENCES\", \"Trait\": \"REGULARITY\", \"Negate\": false, \"Count\": 17, \"Correlation\": -0.8}, {\"Question\": \"C8N\", \"Concept\": \"INFERENCES\", \"Trait\": \"REGULARITY\", \"Negate\": true, \"Count\": 1, \"Correlation\": -0.8}, {\"Question\": \"C8N\", \"Concept\": \"RELATION\", \"Trait\": \"DIRECTION\", \"Negate\": false, \"Count\": 51, \"Correlation\": -0.8}, {\"Question\": \"C8N\", \"Concept\": \"RELATION\", \"Trait\": \"DISCERNIBILITY\", \"Negate\": false, \"Count\": 10, \"Correlation\": -0.8}, {\"Question\": \"C8N\", \"Concept\": \"RELATION\", \"Trait\": \"DISCERNIBILITY\", \"Negate\": true, \"Count\": 2, \"Correlation\": -0.8}, {\"Question\": \"C8N\", \"Concept\": \"RELATION\", \"Trait\": \"MAGNITUDE\", \"Negate\": false, \"Count\": 29, \"Correlation\": -0.8}, {\"Question\": \"C8N\", \"Concept\": \"RELATION\", \"Trait\": \"MAGNITUDE\", \"Negate\": true, \"Count\": 2, \"Correlation\": -0.8}, {\"Question\": \"C8N\", \"Concept\": \"RELATION\", \"Trait\": \"POSITION\", \"Negate\": false, \"Count\": 25, \"Correlation\": -0.8}, {\"Question\": \"C8N\", \"Concept\": \"RELATION\", \"Trait\": \"POSITION\", \"Negate\": true, \"Count\": 3, \"Correlation\": -0.8}, {\"Question\": \"C8N\", \"Concept\": \"RELATION\", \"Trait\": \"REGULARITY\", \"Negate\": false, \"Count\": 15, \"Correlation\": -0.8}, {\"Question\": \"C8N\", \"Concept\": \"RELATION\", \"Trait\": \"REGULARITY\", \"Negate\": true, \"Count\": 1, \"Correlation\": -0.8}, {\"Question\": \"C8N\", \"Concept\": \"SPACE\", \"Trait\": \"DIRECTION\", \"Negate\": false, \"Count\": 10, \"Correlation\": -0.8}, {\"Question\": \"C8N\", \"Concept\": \"SPACE\", \"Trait\": \"DISCERNIBILITY\", \"Negate\": false, \"Count\": 2, \"Correlation\": -0.8}, {\"Question\": \"C8N\", \"Concept\": \"SPACE\", \"Trait\": \"DISCERNIBILITY\", \"Negate\": true, \"Count\": 1, \"Correlation\": -0.8}, {\"Question\": \"C8N\", \"Concept\": \"SPACE\", \"Trait\": \"MAGNITUDE\", \"Negate\": false, \"Count\": 11, \"Correlation\": -0.8}, {\"Question\": \"C8N\", \"Concept\": \"SPACE\", \"Trait\": \"MAGNITUDE\", \"Negate\": true, \"Count\": 1, \"Correlation\": -0.8}, {\"Question\": \"C8N\", \"Concept\": \"SPACE\", \"Trait\": \"POSITION\", \"Negate\": false, \"Count\": 23, \"Correlation\": -0.8}, {\"Question\": \"C8N\", \"Concept\": \"SPACE\", \"Trait\": \"POSITION\", \"Negate\": true, \"Count\": 1, \"Correlation\": -0.8}, {\"Question\": \"C8N\", \"Concept\": \"SPACE\", \"Trait\": \"REGULARITY\", \"Negate\": false, \"Count\": 8, \"Correlation\": -0.8}, {\"Question\": \"C8P\", \"Concept\": \"BEHAVIOUR\", \"Trait\": \"DIRECTION\", \"Negate\": false, \"Count\": 14, \"Correlation\": 0.8}, {\"Question\": \"C8P\", \"Concept\": \"BEHAVIOUR\", \"Trait\": \"DIRECTION\", \"Negate\": true, \"Count\": 1, \"Correlation\": 0.8}, {\"Question\": \"C8P\", \"Concept\": \"BEHAVIOUR\", \"Trait\": \"DISCERNIBILITY\", \"Negate\": false, \"Count\": 8, \"Correlation\": 0.8}, {\"Question\": \"C8P\", \"Concept\": \"BEHAVIOUR\", \"Trait\": \"MAGNITUDE\", \"Negate\": false, \"Count\": 22, \"Correlation\": 0.8}, {\"Question\": \"C8P\", \"Concept\": \"BEHAVIOUR\", \"Trait\": \"MAGNITUDE\", \"Negate\": true, \"Count\": 1, \"Correlation\": 0.8}, {\"Question\": \"C8P\", \"Concept\": \"BEHAVIOUR\", \"Trait\": \"POSITION\", \"Negate\": false, \"Count\": 12, \"Correlation\": 0.8}, {\"Question\": \"C8P\", \"Concept\": \"BEHAVIOUR\", \"Trait\": \"REGULARITY\", \"Negate\": false, \"Count\": 22, \"Correlation\": 0.8}, {\"Question\": \"C8P\", \"Concept\": \"BEHAVIOUR\", \"Trait\": \"REGULARITY\", \"Negate\": true, \"Count\": 1, \"Correlation\": 0.8}, {\"Question\": \"C8P\", \"Concept\": \"GRAPHIC\", \"Trait\": \"DIRECTION\", \"Negate\": false, \"Count\": 13, \"Correlation\": 0.8}, {\"Question\": \"C8P\", \"Concept\": \"GRAPHIC\", \"Trait\": \"DISCERNIBILITY\", \"Negate\": false, \"Count\": 5, \"Correlation\": 0.8}, {\"Question\": \"C8P\", \"Concept\": \"GRAPHIC\", \"Trait\": \"MAGNITUDE\", \"Negate\": false, \"Count\": 10, \"Correlation\": 0.8}, {\"Question\": \"C8P\", \"Concept\": \"GRAPHIC\", \"Trait\": \"POSITION\", \"Negate\": false, \"Count\": 17, \"Correlation\": 0.8}, {\"Question\": \"C8P\", \"Concept\": \"GRAPHIC\", \"Trait\": \"REGULARITY\", \"Negate\": false, \"Count\": 15, \"Correlation\": 0.8}, {\"Question\": \"C8P\", \"Concept\": \"INFERENCES\", \"Trait\": \"DIRECTION\", \"Negate\": false, \"Count\": 23, \"Correlation\": 0.8}, {\"Question\": \"C8P\", \"Concept\": \"INFERENCES\", \"Trait\": \"DISCERNIBILITY\", \"Negate\": false, \"Count\": 9, \"Correlation\": 0.8}, {\"Question\": \"C8P\", \"Concept\": \"INFERENCES\", \"Trait\": \"MAGNITUDE\", \"Negate\": false, \"Count\": 36, \"Correlation\": 0.8}, {\"Question\": \"C8P\", \"Concept\": \"INFERENCES\", \"Trait\": \"POSITION\", \"Negate\": false, \"Count\": 25, \"Correlation\": 0.8}, {\"Question\": \"C8P\", \"Concept\": \"INFERENCES\", \"Trait\": \"REGULARITY\", \"Negate\": false, \"Count\": 29, \"Correlation\": 0.8}, {\"Question\": \"C8P\", \"Concept\": \"RELATION\", \"Trait\": \"DIRECTION\", \"Negate\": false, \"Count\": 36, \"Correlation\": 0.8}, {\"Question\": \"C8P\", \"Concept\": \"RELATION\", \"Trait\": \"DISCERNIBILITY\", \"Negate\": false, \"Count\": 12, \"Correlation\": 0.8}, {\"Question\": \"C8P\", \"Concept\": \"RELATION\", \"Trait\": \"MAGNITUDE\", \"Negate\": false, \"Count\": 40, \"Correlation\": 0.8}, {\"Question\": \"C8P\", \"Concept\": \"RELATION\", \"Trait\": \"POSITION\", \"Negate\": false, \"Count\": 22, \"Correlation\": 0.8}, {\"Question\": \"C8P\", \"Concept\": \"RELATION\", \"Trait\": \"REGULARITY\", \"Negate\": false, \"Count\": 27, \"Correlation\": 0.8}, {\"Question\": \"C8P\", \"Concept\": \"SPACE\", \"Trait\": \"DIRECTION\", \"Negate\": false, \"Count\": 9, \"Correlation\": 0.8}, {\"Question\": \"C8P\", \"Concept\": \"SPACE\", \"Trait\": \"DISCERNIBILITY\", \"Negate\": false, \"Count\": 2, \"Correlation\": 0.8}, {\"Question\": \"C8P\", \"Concept\": \"SPACE\", \"Trait\": \"MAGNITUDE\", \"Negate\": false, \"Count\": 14, \"Correlation\": 0.8}, {\"Question\": \"C8P\", \"Concept\": \"SPACE\", \"Trait\": \"POSITION\", \"Negate\": false, \"Count\": 18, \"Correlation\": 0.8}, {\"Question\": \"C8P\", \"Concept\": \"SPACE\", \"Trait\": \"REGULARITY\", \"Negate\": false, \"Count\": 12, \"Correlation\": 0.8}]}}, {\"mode\": \"vega-lite\"});\n",
       "</script>"
      ],
      "text/plain": [
       "alt.FacetChart(...)"
      ]
     },
     "execution_count": 91,
     "metadata": {},
     "output_type": "execute_result"
    }
   ],
   "source": [
    "cbyt_chart = alt.Chart(cbyt).mark_bar().encode(\n",
    "    x=alt.X('Correlation:O', axis=alt.Axis(title=None,tickCount=5)),\n",
    "    y=alt.Y('Count:Q',axis=alt.Axis(title=None,tickCount=5)), #,scale=alt.Scale(domain=(0, 60))),\n",
    "    color=alt.Color('Negate',\n",
    "                   scale=alt.Scale(\n",
    "            domain=['false', 'true'],\n",
    "            range=['#000050', '#eeaa00']))\n",
    ").properties(\n",
    "    width=100,height=100\n",
    "    ).facet(\n",
    "    column=alt.Column('Concept',title=''),\n",
    "    row=alt.Row('Trait',title='')\n",
    "    ).resolve_axis(x='independent')\n",
    "cbyt_chart\n",
    "#(c_bars & (t_bars | cbyt_chart))\n",
    "#alt.VConcatChart(vconcat=(c_bars,(t_bars | cbyt_chart)),center=True)"
   ]
  },
  {
   "cell_type": "code",
   "execution_count": 125,
   "metadata": {},
   "outputs": [
    {
     "data": {
      "application/vnd.vegalite.v3+json": {
       "$schema": "https://vega.github.io/schema/vega-lite/v3.4.0.json",
       "config": {
        "axis": {
         "labelFont": "Avenir",
         "titleFont": "Avenir"
        },
        "header": {
         "labelFont": "Avenir",
         "labelFontSize": 12,
         "titleFont": "Avenir"
        },
        "legend": {
         "labelFont": "Avenir",
         "titleFont": "Avenir"
        },
        "mark": {
         "color": "#000050"
        },
        "title": {
         "anchor": "end",
         "font": "Avenir"
        }
       },
       "data": {
        "name": "data-2a194250012177727832d3ab494c7956"
       },
       "datasets": {
        "data-2a194250012177727832d3ab494c7956": [
         {
          "Concept1": "BEHAVIOUR",
          "Concept2": "GRAPHIC",
          "Correlation": 0,
          "Count": 3,
          "Negate": false,
          "Question": "C0"
         },
         {
          "Concept1": "BEHAVIOUR",
          "Concept2": "GRAPHIC",
          "Correlation": 0,
          "Count": 3,
          "Negate": true,
          "Question": "C0"
         },
         {
          "Concept1": "BEHAVIOUR",
          "Concept2": "INFERENCES",
          "Correlation": 0,
          "Count": 5,
          "Negate": false,
          "Question": "C0"
         },
         {
          "Concept1": "BEHAVIOUR",
          "Concept2": "INFERENCES",
          "Correlation": 0,
          "Count": 7,
          "Negate": true,
          "Question": "C0"
         },
         {
          "Concept1": "BEHAVIOUR",
          "Concept2": "RELATION",
          "Correlation": 0,
          "Count": 3,
          "Negate": false,
          "Question": "C0"
         },
         {
          "Concept1": "BEHAVIOUR",
          "Concept2": "RELATION",
          "Correlation": 0,
          "Count": 8,
          "Negate": true,
          "Question": "C0"
         },
         {
          "Concept1": "BEHAVIOUR",
          "Concept2": "SPACE",
          "Correlation": 0,
          "Count": 4,
          "Negate": false,
          "Question": "C0"
         },
         {
          "Concept1": "BEHAVIOUR",
          "Concept2": "SPACE",
          "Correlation": 0,
          "Count": 3,
          "Negate": true,
          "Question": "C0"
         },
         {
          "Concept1": "GRAPHIC",
          "Concept2": "BEHAVIOUR",
          "Correlation": 0,
          "Count": 3,
          "Negate": false,
          "Question": "C0"
         },
         {
          "Concept1": "GRAPHIC",
          "Concept2": "BEHAVIOUR",
          "Correlation": 0,
          "Count": 3,
          "Negate": true,
          "Question": "C0"
         },
         {
          "Concept1": "GRAPHIC",
          "Concept2": "INFERENCES",
          "Correlation": 0,
          "Count": 13,
          "Negate": false,
          "Question": "C0"
         },
         {
          "Concept1": "GRAPHIC",
          "Concept2": "INFERENCES",
          "Correlation": 0,
          "Count": 12,
          "Negate": true,
          "Question": "C0"
         },
         {
          "Concept1": "GRAPHIC",
          "Concept2": "RELATION",
          "Correlation": 0,
          "Count": 12,
          "Negate": false,
          "Question": "C0"
         },
         {
          "Concept1": "GRAPHIC",
          "Concept2": "RELATION",
          "Correlation": 0,
          "Count": 13,
          "Negate": true,
          "Question": "C0"
         },
         {
          "Concept1": "GRAPHIC",
          "Concept2": "SPACE",
          "Correlation": 0,
          "Count": 14,
          "Negate": false,
          "Question": "C0"
         },
         {
          "Concept1": "GRAPHIC",
          "Concept2": "SPACE",
          "Correlation": 0,
          "Count": 8,
          "Negate": true,
          "Question": "C0"
         },
         {
          "Concept1": "INFERENCES",
          "Concept2": "BEHAVIOUR",
          "Correlation": 0,
          "Count": 5,
          "Negate": false,
          "Question": "C0"
         },
         {
          "Concept1": "INFERENCES",
          "Concept2": "BEHAVIOUR",
          "Correlation": 0,
          "Count": 7,
          "Negate": true,
          "Question": "C0"
         },
         {
          "Concept1": "INFERENCES",
          "Concept2": "GRAPHIC",
          "Correlation": 0,
          "Count": 13,
          "Negate": false,
          "Question": "C0"
         },
         {
          "Concept1": "INFERENCES",
          "Concept2": "GRAPHIC",
          "Correlation": 0,
          "Count": 12,
          "Negate": true,
          "Question": "C0"
         },
         {
          "Concept1": "INFERENCES",
          "Concept2": "RELATION",
          "Correlation": 0,
          "Count": 25,
          "Negate": false,
          "Question": "C0"
         },
         {
          "Concept1": "INFERENCES",
          "Concept2": "RELATION",
          "Correlation": 0,
          "Count": 39,
          "Negate": true,
          "Question": "C0"
         },
         {
          "Concept1": "INFERENCES",
          "Concept2": "SPACE",
          "Correlation": 0,
          "Count": 27,
          "Negate": false,
          "Question": "C0"
         },
         {
          "Concept1": "INFERENCES",
          "Concept2": "SPACE",
          "Correlation": 0,
          "Count": 13,
          "Negate": true,
          "Question": "C0"
         },
         {
          "Concept1": "RELATION",
          "Concept2": "BEHAVIOUR",
          "Correlation": 0,
          "Count": 3,
          "Negate": false,
          "Question": "C0"
         },
         {
          "Concept1": "RELATION",
          "Concept2": "BEHAVIOUR",
          "Correlation": 0,
          "Count": 8,
          "Negate": true,
          "Question": "C0"
         },
         {
          "Concept1": "RELATION",
          "Concept2": "GRAPHIC",
          "Correlation": 0,
          "Count": 12,
          "Negate": false,
          "Question": "C0"
         },
         {
          "Concept1": "RELATION",
          "Concept2": "GRAPHIC",
          "Correlation": 0,
          "Count": 13,
          "Negate": true,
          "Question": "C0"
         },
         {
          "Concept1": "RELATION",
          "Concept2": "INFERENCES",
          "Correlation": 0,
          "Count": 25,
          "Negate": false,
          "Question": "C0"
         },
         {
          "Concept1": "RELATION",
          "Concept2": "INFERENCES",
          "Correlation": 0,
          "Count": 39,
          "Negate": true,
          "Question": "C0"
         },
         {
          "Concept1": "RELATION",
          "Concept2": "SPACE",
          "Correlation": 0,
          "Count": 16,
          "Negate": false,
          "Question": "C0"
         },
         {
          "Concept1": "RELATION",
          "Concept2": "SPACE",
          "Correlation": 0,
          "Count": 14,
          "Negate": true,
          "Question": "C0"
         },
         {
          "Concept1": "SPACE",
          "Concept2": "BEHAVIOUR",
          "Correlation": 0,
          "Count": 4,
          "Negate": false,
          "Question": "C0"
         },
         {
          "Concept1": "SPACE",
          "Concept2": "BEHAVIOUR",
          "Correlation": 0,
          "Count": 3,
          "Negate": true,
          "Question": "C0"
         },
         {
          "Concept1": "SPACE",
          "Concept2": "GRAPHIC",
          "Correlation": 0,
          "Count": 14,
          "Negate": false,
          "Question": "C0"
         },
         {
          "Concept1": "SPACE",
          "Concept2": "GRAPHIC",
          "Correlation": 0,
          "Count": 8,
          "Negate": true,
          "Question": "C0"
         },
         {
          "Concept1": "SPACE",
          "Concept2": "INFERENCES",
          "Correlation": 0,
          "Count": 27,
          "Negate": false,
          "Question": "C0"
         },
         {
          "Concept1": "SPACE",
          "Concept2": "INFERENCES",
          "Correlation": 0,
          "Count": 13,
          "Negate": true,
          "Question": "C0"
         },
         {
          "Concept1": "SPACE",
          "Concept2": "RELATION",
          "Correlation": 0,
          "Count": 16,
          "Negate": false,
          "Question": "C0"
         },
         {
          "Concept1": "SPACE",
          "Concept2": "RELATION",
          "Correlation": 0,
          "Count": 14,
          "Negate": true,
          "Question": "C0"
         },
         {
          "Concept1": "BEHAVIOUR",
          "Concept2": "GRAPHIC",
          "Correlation": -0.2,
          "Count": 3,
          "Negate": false,
          "Question": "C2N"
         },
         {
          "Concept1": "BEHAVIOUR",
          "Concept2": "GRAPHIC",
          "Correlation": -0.2,
          "Count": 1,
          "Negate": true,
          "Question": "C2N"
         },
         {
          "Concept1": "BEHAVIOUR",
          "Concept2": "INFERENCES",
          "Correlation": -0.2,
          "Count": 9,
          "Negate": false,
          "Question": "C2N"
         },
         {
          "Concept1": "BEHAVIOUR",
          "Concept2": "INFERENCES",
          "Correlation": -0.2,
          "Count": 4,
          "Negate": true,
          "Question": "C2N"
         },
         {
          "Concept1": "BEHAVIOUR",
          "Concept2": "RELATION",
          "Correlation": -0.2,
          "Count": 8,
          "Negate": false,
          "Question": "C2N"
         },
         {
          "Concept1": "BEHAVIOUR",
          "Concept2": "RELATION",
          "Correlation": -0.2,
          "Count": 4,
          "Negate": true,
          "Question": "C2N"
         },
         {
          "Concept1": "BEHAVIOUR",
          "Concept2": "SPACE",
          "Correlation": -0.2,
          "Count": 8,
          "Negate": false,
          "Question": "C2N"
         },
         {
          "Concept1": "BEHAVIOUR",
          "Concept2": "SPACE",
          "Correlation": -0.2,
          "Count": 2,
          "Negate": true,
          "Question": "C2N"
         },
         {
          "Concept1": "GRAPHIC",
          "Concept2": "BEHAVIOUR",
          "Correlation": -0.2,
          "Count": 3,
          "Negate": false,
          "Question": "C2N"
         },
         {
          "Concept1": "GRAPHIC",
          "Concept2": "BEHAVIOUR",
          "Correlation": -0.2,
          "Count": 1,
          "Negate": true,
          "Question": "C2N"
         },
         {
          "Concept1": "GRAPHIC",
          "Concept2": "INFERENCES",
          "Correlation": -0.2,
          "Count": 15,
          "Negate": false,
          "Question": "C2N"
         },
         {
          "Concept1": "GRAPHIC",
          "Concept2": "INFERENCES",
          "Correlation": -0.2,
          "Count": 10,
          "Negate": true,
          "Question": "C2N"
         },
         {
          "Concept1": "GRAPHIC",
          "Concept2": "RELATION",
          "Correlation": -0.2,
          "Count": 11,
          "Negate": false,
          "Question": "C2N"
         },
         {
          "Concept1": "GRAPHIC",
          "Concept2": "RELATION",
          "Correlation": -0.2,
          "Count": 13,
          "Negate": true,
          "Question": "C2N"
         },
         {
          "Concept1": "GRAPHIC",
          "Concept2": "SPACE",
          "Correlation": -0.2,
          "Count": 10,
          "Negate": false,
          "Question": "C2N"
         },
         {
          "Concept1": "GRAPHIC",
          "Concept2": "SPACE",
          "Correlation": -0.2,
          "Count": 8,
          "Negate": true,
          "Question": "C2N"
         },
         {
          "Concept1": "INFERENCES",
          "Concept2": "BEHAVIOUR",
          "Correlation": -0.2,
          "Count": 9,
          "Negate": false,
          "Question": "C2N"
         },
         {
          "Concept1": "INFERENCES",
          "Concept2": "BEHAVIOUR",
          "Correlation": -0.2,
          "Count": 4,
          "Negate": true,
          "Question": "C2N"
         },
         {
          "Concept1": "INFERENCES",
          "Concept2": "GRAPHIC",
          "Correlation": -0.2,
          "Count": 15,
          "Negate": false,
          "Question": "C2N"
         },
         {
          "Concept1": "INFERENCES",
          "Concept2": "GRAPHIC",
          "Correlation": -0.2,
          "Count": 10,
          "Negate": true,
          "Question": "C2N"
         },
         {
          "Concept1": "INFERENCES",
          "Concept2": "RELATION",
          "Correlation": -0.2,
          "Count": 28,
          "Negate": false,
          "Question": "C2N"
         },
         {
          "Concept1": "INFERENCES",
          "Concept2": "RELATION",
          "Correlation": -0.2,
          "Count": 27,
          "Negate": true,
          "Question": "C2N"
         },
         {
          "Concept1": "INFERENCES",
          "Concept2": "SPACE",
          "Correlation": -0.2,
          "Count": 23,
          "Negate": false,
          "Question": "C2N"
         },
         {
          "Concept1": "INFERENCES",
          "Concept2": "SPACE",
          "Correlation": -0.2,
          "Count": 11,
          "Negate": true,
          "Question": "C2N"
         },
         {
          "Concept1": "RELATION",
          "Concept2": "BEHAVIOUR",
          "Correlation": -0.2,
          "Count": 8,
          "Negate": false,
          "Question": "C2N"
         },
         {
          "Concept1": "RELATION",
          "Concept2": "BEHAVIOUR",
          "Correlation": -0.2,
          "Count": 4,
          "Negate": true,
          "Question": "C2N"
         },
         {
          "Concept1": "RELATION",
          "Concept2": "GRAPHIC",
          "Correlation": -0.2,
          "Count": 11,
          "Negate": false,
          "Question": "C2N"
         },
         {
          "Concept1": "RELATION",
          "Concept2": "GRAPHIC",
          "Correlation": -0.2,
          "Count": 13,
          "Negate": true,
          "Question": "C2N"
         },
         {
          "Concept1": "RELATION",
          "Concept2": "INFERENCES",
          "Correlation": -0.2,
          "Count": 28,
          "Negate": false,
          "Question": "C2N"
         },
         {
          "Concept1": "RELATION",
          "Concept2": "INFERENCES",
          "Correlation": -0.2,
          "Count": 27,
          "Negate": true,
          "Question": "C2N"
         },
         {
          "Concept1": "RELATION",
          "Concept2": "SPACE",
          "Correlation": -0.2,
          "Count": 18,
          "Negate": false,
          "Question": "C2N"
         },
         {
          "Concept1": "RELATION",
          "Concept2": "SPACE",
          "Correlation": -0.2,
          "Count": 13,
          "Negate": true,
          "Question": "C2N"
         },
         {
          "Concept1": "SPACE",
          "Concept2": "BEHAVIOUR",
          "Correlation": -0.2,
          "Count": 8,
          "Negate": false,
          "Question": "C2N"
         },
         {
          "Concept1": "SPACE",
          "Concept2": "BEHAVIOUR",
          "Correlation": -0.2,
          "Count": 2,
          "Negate": true,
          "Question": "C2N"
         },
         {
          "Concept1": "SPACE",
          "Concept2": "GRAPHIC",
          "Correlation": -0.2,
          "Count": 10,
          "Negate": false,
          "Question": "C2N"
         },
         {
          "Concept1": "SPACE",
          "Concept2": "GRAPHIC",
          "Correlation": -0.2,
          "Count": 8,
          "Negate": true,
          "Question": "C2N"
         },
         {
          "Concept1": "SPACE",
          "Concept2": "INFERENCES",
          "Correlation": -0.2,
          "Count": 23,
          "Negate": false,
          "Question": "C2N"
         },
         {
          "Concept1": "SPACE",
          "Concept2": "INFERENCES",
          "Correlation": -0.2,
          "Count": 11,
          "Negate": true,
          "Question": "C2N"
         },
         {
          "Concept1": "SPACE",
          "Concept2": "RELATION",
          "Correlation": -0.2,
          "Count": 18,
          "Negate": false,
          "Question": "C2N"
         },
         {
          "Concept1": "SPACE",
          "Concept2": "RELATION",
          "Correlation": -0.2,
          "Count": 13,
          "Negate": true,
          "Question": "C2N"
         },
         {
          "Concept1": "BEHAVIOUR",
          "Concept2": "GRAPHIC",
          "Correlation": 0.2,
          "Count": 4,
          "Negate": false,
          "Question": "C2P"
         },
         {
          "Concept1": "BEHAVIOUR",
          "Concept2": "GRAPHIC",
          "Correlation": 0.2,
          "Count": 2,
          "Negate": true,
          "Question": "C2P"
         },
         {
          "Concept1": "BEHAVIOUR",
          "Concept2": "INFERENCES",
          "Correlation": 0.2,
          "Count": 13,
          "Negate": false,
          "Question": "C2P"
         },
         {
          "Concept1": "BEHAVIOUR",
          "Concept2": "INFERENCES",
          "Correlation": 0.2,
          "Count": 6,
          "Negate": true,
          "Question": "C2P"
         },
         {
          "Concept1": "BEHAVIOUR",
          "Concept2": "RELATION",
          "Correlation": 0.2,
          "Count": 9,
          "Negate": false,
          "Question": "C2P"
         },
         {
          "Concept1": "BEHAVIOUR",
          "Concept2": "RELATION",
          "Correlation": 0.2,
          "Count": 5,
          "Negate": true,
          "Question": "C2P"
         },
         {
          "Concept1": "BEHAVIOUR",
          "Concept2": "SPACE",
          "Correlation": 0.2,
          "Count": 7,
          "Negate": false,
          "Question": "C2P"
         },
         {
          "Concept1": "BEHAVIOUR",
          "Concept2": "SPACE",
          "Correlation": 0.2,
          "Count": 3,
          "Negate": true,
          "Question": "C2P"
         },
         {
          "Concept1": "GRAPHIC",
          "Concept2": "BEHAVIOUR",
          "Correlation": 0.2,
          "Count": 4,
          "Negate": false,
          "Question": "C2P"
         },
         {
          "Concept1": "GRAPHIC",
          "Concept2": "BEHAVIOUR",
          "Correlation": 0.2,
          "Count": 2,
          "Negate": true,
          "Question": "C2P"
         },
         {
          "Concept1": "GRAPHIC",
          "Concept2": "INFERENCES",
          "Correlation": 0.2,
          "Count": 22,
          "Negate": false,
          "Question": "C2P"
         },
         {
          "Concept1": "GRAPHIC",
          "Concept2": "INFERENCES",
          "Correlation": 0.2,
          "Count": 7,
          "Negate": true,
          "Question": "C2P"
         },
         {
          "Concept1": "GRAPHIC",
          "Concept2": "RELATION",
          "Correlation": 0.2,
          "Count": 16,
          "Negate": false,
          "Question": "C2P"
         },
         {
          "Concept1": "GRAPHIC",
          "Concept2": "RELATION",
          "Correlation": 0.2,
          "Count": 6,
          "Negate": true,
          "Question": "C2P"
         },
         {
          "Concept1": "GRAPHIC",
          "Concept2": "SPACE",
          "Correlation": 0.2,
          "Count": 23,
          "Negate": false,
          "Question": "C2P"
         },
         {
          "Concept1": "GRAPHIC",
          "Concept2": "SPACE",
          "Correlation": 0.2,
          "Count": 6,
          "Negate": true,
          "Question": "C2P"
         },
         {
          "Concept1": "INFERENCES",
          "Concept2": "BEHAVIOUR",
          "Correlation": 0.2,
          "Count": 13,
          "Negate": false,
          "Question": "C2P"
         },
         {
          "Concept1": "INFERENCES",
          "Concept2": "BEHAVIOUR",
          "Correlation": 0.2,
          "Count": 6,
          "Negate": true,
          "Question": "C2P"
         },
         {
          "Concept1": "INFERENCES",
          "Concept2": "GRAPHIC",
          "Correlation": 0.2,
          "Count": 22,
          "Negate": false,
          "Question": "C2P"
         },
         {
          "Concept1": "INFERENCES",
          "Concept2": "GRAPHIC",
          "Correlation": 0.2,
          "Count": 7,
          "Negate": true,
          "Question": "C2P"
         },
         {
          "Concept1": "INFERENCES",
          "Concept2": "RELATION",
          "Correlation": 0.2,
          "Count": 29,
          "Negate": false,
          "Question": "C2P"
         },
         {
          "Concept1": "INFERENCES",
          "Concept2": "RELATION",
          "Correlation": 0.2,
          "Count": 28,
          "Negate": true,
          "Question": "C2P"
         },
         {
          "Concept1": "INFERENCES",
          "Concept2": "SPACE",
          "Correlation": 0.2,
          "Count": 32,
          "Negate": false,
          "Question": "C2P"
         },
         {
          "Concept1": "INFERENCES",
          "Concept2": "SPACE",
          "Correlation": 0.2,
          "Count": 11,
          "Negate": true,
          "Question": "C2P"
         },
         {
          "Concept1": "RELATION",
          "Concept2": "BEHAVIOUR",
          "Correlation": 0.2,
          "Count": 9,
          "Negate": false,
          "Question": "C2P"
         },
         {
          "Concept1": "RELATION",
          "Concept2": "BEHAVIOUR",
          "Correlation": 0.2,
          "Count": 5,
          "Negate": true,
          "Question": "C2P"
         },
         {
          "Concept1": "RELATION",
          "Concept2": "GRAPHIC",
          "Correlation": 0.2,
          "Count": 16,
          "Negate": false,
          "Question": "C2P"
         },
         {
          "Concept1": "RELATION",
          "Concept2": "GRAPHIC",
          "Correlation": 0.2,
          "Count": 6,
          "Negate": true,
          "Question": "C2P"
         },
         {
          "Concept1": "RELATION",
          "Concept2": "INFERENCES",
          "Correlation": 0.2,
          "Count": 29,
          "Negate": false,
          "Question": "C2P"
         },
         {
          "Concept1": "RELATION",
          "Concept2": "INFERENCES",
          "Correlation": 0.2,
          "Count": 28,
          "Negate": true,
          "Question": "C2P"
         },
         {
          "Concept1": "RELATION",
          "Concept2": "SPACE",
          "Correlation": 0.2,
          "Count": 21,
          "Negate": false,
          "Question": "C2P"
         },
         {
          "Concept1": "RELATION",
          "Concept2": "SPACE",
          "Correlation": 0.2,
          "Count": 11,
          "Negate": true,
          "Question": "C2P"
         },
         {
          "Concept1": "SPACE",
          "Concept2": "BEHAVIOUR",
          "Correlation": 0.2,
          "Count": 7,
          "Negate": false,
          "Question": "C2P"
         },
         {
          "Concept1": "SPACE",
          "Concept2": "BEHAVIOUR",
          "Correlation": 0.2,
          "Count": 3,
          "Negate": true,
          "Question": "C2P"
         },
         {
          "Concept1": "SPACE",
          "Concept2": "GRAPHIC",
          "Correlation": 0.2,
          "Count": 23,
          "Negate": false,
          "Question": "C2P"
         },
         {
          "Concept1": "SPACE",
          "Concept2": "GRAPHIC",
          "Correlation": 0.2,
          "Count": 6,
          "Negate": true,
          "Question": "C2P"
         },
         {
          "Concept1": "SPACE",
          "Concept2": "INFERENCES",
          "Correlation": 0.2,
          "Count": 32,
          "Negate": false,
          "Question": "C2P"
         },
         {
          "Concept1": "SPACE",
          "Concept2": "INFERENCES",
          "Correlation": 0.2,
          "Count": 11,
          "Negate": true,
          "Question": "C2P"
         },
         {
          "Concept1": "SPACE",
          "Concept2": "RELATION",
          "Correlation": 0.2,
          "Count": 21,
          "Negate": false,
          "Question": "C2P"
         },
         {
          "Concept1": "SPACE",
          "Concept2": "RELATION",
          "Correlation": 0.2,
          "Count": 11,
          "Negate": true,
          "Question": "C2P"
         },
         {
          "Concept1": "BEHAVIOUR",
          "Concept2": "GRAPHIC",
          "Correlation": -0.4,
          "Count": 4,
          "Negate": false,
          "Question": "C4N"
         },
         {
          "Concept1": "BEHAVIOUR",
          "Concept2": "GRAPHIC",
          "Correlation": -0.4,
          "Count": 3,
          "Negate": true,
          "Question": "C4N"
         },
         {
          "Concept1": "BEHAVIOUR",
          "Concept2": "INFERENCES",
          "Correlation": -0.4,
          "Count": 21,
          "Negate": false,
          "Question": "C4N"
         },
         {
          "Concept1": "BEHAVIOUR",
          "Concept2": "INFERENCES",
          "Correlation": -0.4,
          "Count": 4,
          "Negate": true,
          "Question": "C4N"
         },
         {
          "Concept1": "BEHAVIOUR",
          "Concept2": "RELATION",
          "Correlation": -0.4,
          "Count": 11,
          "Negate": false,
          "Question": "C4N"
         },
         {
          "Concept1": "BEHAVIOUR",
          "Concept2": "RELATION",
          "Correlation": -0.4,
          "Count": 4,
          "Negate": true,
          "Question": "C4N"
         },
         {
          "Concept1": "BEHAVIOUR",
          "Concept2": "SPACE",
          "Correlation": -0.4,
          "Count": 4,
          "Negate": false,
          "Question": "C4N"
         },
         {
          "Concept1": "BEHAVIOUR",
          "Concept2": "SPACE",
          "Correlation": -0.4,
          "Count": 1,
          "Negate": true,
          "Question": "C4N"
         },
         {
          "Concept1": "GRAPHIC",
          "Concept2": "BEHAVIOUR",
          "Correlation": -0.4,
          "Count": 4,
          "Negate": false,
          "Question": "C4N"
         },
         {
          "Concept1": "GRAPHIC",
          "Concept2": "BEHAVIOUR",
          "Correlation": -0.4,
          "Count": 3,
          "Negate": true,
          "Question": "C4N"
         },
         {
          "Concept1": "GRAPHIC",
          "Concept2": "INFERENCES",
          "Correlation": -0.4,
          "Count": 18,
          "Negate": false,
          "Question": "C4N"
         },
         {
          "Concept1": "GRAPHIC",
          "Concept2": "INFERENCES",
          "Correlation": -0.4,
          "Count": 8,
          "Negate": true,
          "Question": "C4N"
         },
         {
          "Concept1": "GRAPHIC",
          "Concept2": "RELATION",
          "Correlation": -0.4,
          "Count": 15,
          "Negate": false,
          "Question": "C4N"
         },
         {
          "Concept1": "GRAPHIC",
          "Concept2": "RELATION",
          "Correlation": -0.4,
          "Count": 9,
          "Negate": true,
          "Question": "C4N"
         },
         {
          "Concept1": "GRAPHIC",
          "Concept2": "SPACE",
          "Correlation": -0.4,
          "Count": 20,
          "Negate": false,
          "Question": "C4N"
         },
         {
          "Concept1": "GRAPHIC",
          "Concept2": "SPACE",
          "Correlation": -0.4,
          "Count": 5,
          "Negate": true,
          "Question": "C4N"
         },
         {
          "Concept1": "INFERENCES",
          "Concept2": "BEHAVIOUR",
          "Correlation": -0.4,
          "Count": 21,
          "Negate": false,
          "Question": "C4N"
         },
         {
          "Concept1": "INFERENCES",
          "Concept2": "BEHAVIOUR",
          "Correlation": -0.4,
          "Count": 4,
          "Negate": true,
          "Question": "C4N"
         },
         {
          "Concept1": "INFERENCES",
          "Concept2": "GRAPHIC",
          "Correlation": -0.4,
          "Count": 18,
          "Negate": false,
          "Question": "C4N"
         },
         {
          "Concept1": "INFERENCES",
          "Concept2": "GRAPHIC",
          "Correlation": -0.4,
          "Count": 8,
          "Negate": true,
          "Question": "C4N"
         },
         {
          "Concept1": "INFERENCES",
          "Concept2": "RELATION",
          "Correlation": -0.4,
          "Count": 35,
          "Negate": false,
          "Question": "C4N"
         },
         {
          "Concept1": "INFERENCES",
          "Concept2": "RELATION",
          "Correlation": -0.4,
          "Count": 21,
          "Negate": true,
          "Question": "C4N"
         },
         {
          "Concept1": "INFERENCES",
          "Concept2": "SPACE",
          "Correlation": -0.4,
          "Count": 28,
          "Negate": false,
          "Question": "C4N"
         },
         {
          "Concept1": "INFERENCES",
          "Concept2": "SPACE",
          "Correlation": -0.4,
          "Count": 8,
          "Negate": true,
          "Question": "C4N"
         },
         {
          "Concept1": "RELATION",
          "Concept2": "BEHAVIOUR",
          "Correlation": -0.4,
          "Count": 11,
          "Negate": false,
          "Question": "C4N"
         },
         {
          "Concept1": "RELATION",
          "Concept2": "BEHAVIOUR",
          "Correlation": -0.4,
          "Count": 4,
          "Negate": true,
          "Question": "C4N"
         },
         {
          "Concept1": "RELATION",
          "Concept2": "GRAPHIC",
          "Correlation": -0.4,
          "Count": 15,
          "Negate": false,
          "Question": "C4N"
         },
         {
          "Concept1": "RELATION",
          "Concept2": "GRAPHIC",
          "Correlation": -0.4,
          "Count": 9,
          "Negate": true,
          "Question": "C4N"
         },
         {
          "Concept1": "RELATION",
          "Concept2": "INFERENCES",
          "Correlation": -0.4,
          "Count": 35,
          "Negate": false,
          "Question": "C4N"
         },
         {
          "Concept1": "RELATION",
          "Concept2": "INFERENCES",
          "Correlation": -0.4,
          "Count": 21,
          "Negate": true,
          "Question": "C4N"
         },
         {
          "Concept1": "RELATION",
          "Concept2": "SPACE",
          "Correlation": -0.4,
          "Count": 20,
          "Negate": false,
          "Question": "C4N"
         },
         {
          "Concept1": "RELATION",
          "Concept2": "SPACE",
          "Correlation": -0.4,
          "Count": 9,
          "Negate": true,
          "Question": "C4N"
         },
         {
          "Concept1": "SPACE",
          "Concept2": "BEHAVIOUR",
          "Correlation": -0.4,
          "Count": 4,
          "Negate": false,
          "Question": "C4N"
         },
         {
          "Concept1": "SPACE",
          "Concept2": "BEHAVIOUR",
          "Correlation": -0.4,
          "Count": 1,
          "Negate": true,
          "Question": "C4N"
         },
         {
          "Concept1": "SPACE",
          "Concept2": "GRAPHIC",
          "Correlation": -0.4,
          "Count": 20,
          "Negate": false,
          "Question": "C4N"
         },
         {
          "Concept1": "SPACE",
          "Concept2": "GRAPHIC",
          "Correlation": -0.4,
          "Count": 5,
          "Negate": true,
          "Question": "C4N"
         },
         {
          "Concept1": "SPACE",
          "Concept2": "INFERENCES",
          "Correlation": -0.4,
          "Count": 28,
          "Negate": false,
          "Question": "C4N"
         },
         {
          "Concept1": "SPACE",
          "Concept2": "INFERENCES",
          "Correlation": -0.4,
          "Count": 8,
          "Negate": true,
          "Question": "C4N"
         },
         {
          "Concept1": "SPACE",
          "Concept2": "RELATION",
          "Correlation": -0.4,
          "Count": 20,
          "Negate": false,
          "Question": "C4N"
         },
         {
          "Concept1": "SPACE",
          "Concept2": "RELATION",
          "Correlation": -0.4,
          "Count": 9,
          "Negate": true,
          "Question": "C4N"
         },
         {
          "Concept1": "BEHAVIOUR",
          "Concept2": "GRAPHIC",
          "Correlation": 0.4,
          "Count": 4,
          "Negate": false,
          "Question": "C4P"
         },
         {
          "Concept1": "BEHAVIOUR",
          "Concept2": "GRAPHIC",
          "Correlation": 0.4,
          "Count": 1,
          "Negate": true,
          "Question": "C4P"
         },
         {
          "Concept1": "BEHAVIOUR",
          "Concept2": "INFERENCES",
          "Correlation": 0.4,
          "Count": 32,
          "Negate": false,
          "Question": "C4P"
         },
         {
          "Concept1": "BEHAVIOUR",
          "Concept2": "INFERENCES",
          "Correlation": 0.4,
          "Count": 3,
          "Negate": true,
          "Question": "C4P"
         },
         {
          "Concept1": "BEHAVIOUR",
          "Concept2": "RELATION",
          "Correlation": 0.4,
          "Count": 21,
          "Negate": false,
          "Question": "C4P"
         },
         {
          "Concept1": "BEHAVIOUR",
          "Concept2": "RELATION",
          "Correlation": 0.4,
          "Count": 1,
          "Negate": true,
          "Question": "C4P"
         },
         {
          "Concept1": "BEHAVIOUR",
          "Concept2": "SPACE",
          "Correlation": 0.4,
          "Count": 13,
          "Negate": false,
          "Question": "C4P"
         },
         {
          "Concept1": "BEHAVIOUR",
          "Concept2": "SPACE",
          "Correlation": 0.4,
          "Count": 1,
          "Negate": true,
          "Question": "C4P"
         },
         {
          "Concept1": "GRAPHIC",
          "Concept2": "BEHAVIOUR",
          "Correlation": 0.4,
          "Count": 4,
          "Negate": false,
          "Question": "C4P"
         },
         {
          "Concept1": "GRAPHIC",
          "Concept2": "BEHAVIOUR",
          "Correlation": 0.4,
          "Count": 1,
          "Negate": true,
          "Question": "C4P"
         },
         {
          "Concept1": "GRAPHIC",
          "Concept2": "INFERENCES",
          "Correlation": 0.4,
          "Count": 17,
          "Negate": false,
          "Question": "C4P"
         },
         {
          "Concept1": "GRAPHIC",
          "Concept2": "INFERENCES",
          "Correlation": 0.4,
          "Count": 7,
          "Negate": true,
          "Question": "C4P"
         },
         {
          "Concept1": "GRAPHIC",
          "Concept2": "RELATION",
          "Correlation": 0.4,
          "Count": 15,
          "Negate": false,
          "Question": "C4P"
         },
         {
          "Concept1": "GRAPHIC",
          "Concept2": "RELATION",
          "Correlation": 0.4,
          "Count": 6,
          "Negate": true,
          "Question": "C4P"
         },
         {
          "Concept1": "GRAPHIC",
          "Concept2": "SPACE",
          "Correlation": 0.4,
          "Count": 15,
          "Negate": false,
          "Question": "C4P"
         },
         {
          "Concept1": "GRAPHIC",
          "Concept2": "SPACE",
          "Correlation": 0.4,
          "Count": 8,
          "Negate": true,
          "Question": "C4P"
         },
         {
          "Concept1": "INFERENCES",
          "Concept2": "BEHAVIOUR",
          "Correlation": 0.4,
          "Count": 32,
          "Negate": false,
          "Question": "C4P"
         },
         {
          "Concept1": "INFERENCES",
          "Concept2": "BEHAVIOUR",
          "Correlation": 0.4,
          "Count": 3,
          "Negate": true,
          "Question": "C4P"
         },
         {
          "Concept1": "INFERENCES",
          "Concept2": "GRAPHIC",
          "Correlation": 0.4,
          "Count": 17,
          "Negate": false,
          "Question": "C4P"
         },
         {
          "Concept1": "INFERENCES",
          "Concept2": "GRAPHIC",
          "Correlation": 0.4,
          "Count": 7,
          "Negate": true,
          "Question": "C4P"
         },
         {
          "Concept1": "INFERENCES",
          "Concept2": "RELATION",
          "Correlation": 0.4,
          "Count": 43,
          "Negate": false,
          "Question": "C4P"
         },
         {
          "Concept1": "INFERENCES",
          "Concept2": "RELATION",
          "Correlation": 0.4,
          "Count": 14,
          "Negate": true,
          "Question": "C4P"
         },
         {
          "Concept1": "INFERENCES",
          "Concept2": "SPACE",
          "Correlation": 0.4,
          "Count": 29,
          "Negate": false,
          "Question": "C4P"
         },
         {
          "Concept1": "INFERENCES",
          "Concept2": "SPACE",
          "Correlation": 0.4,
          "Count": 12,
          "Negate": true,
          "Question": "C4P"
         },
         {
          "Concept1": "RELATION",
          "Concept2": "BEHAVIOUR",
          "Correlation": 0.4,
          "Count": 21,
          "Negate": false,
          "Question": "C4P"
         },
         {
          "Concept1": "RELATION",
          "Concept2": "BEHAVIOUR",
          "Correlation": 0.4,
          "Count": 1,
          "Negate": true,
          "Question": "C4P"
         },
         {
          "Concept1": "RELATION",
          "Concept2": "GRAPHIC",
          "Correlation": 0.4,
          "Count": 15,
          "Negate": false,
          "Question": "C4P"
         },
         {
          "Concept1": "RELATION",
          "Concept2": "GRAPHIC",
          "Correlation": 0.4,
          "Count": 6,
          "Negate": true,
          "Question": "C4P"
         },
         {
          "Concept1": "RELATION",
          "Concept2": "INFERENCES",
          "Correlation": 0.4,
          "Count": 43,
          "Negate": false,
          "Question": "C4P"
         },
         {
          "Concept1": "RELATION",
          "Concept2": "INFERENCES",
          "Correlation": 0.4,
          "Count": 14,
          "Negate": true,
          "Question": "C4P"
         },
         {
          "Concept1": "RELATION",
          "Concept2": "SPACE",
          "Correlation": 0.4,
          "Count": 25,
          "Negate": false,
          "Question": "C4P"
         },
         {
          "Concept1": "RELATION",
          "Concept2": "SPACE",
          "Correlation": 0.4,
          "Count": 7,
          "Negate": true,
          "Question": "C4P"
         },
         {
          "Concept1": "SPACE",
          "Concept2": "BEHAVIOUR",
          "Correlation": 0.4,
          "Count": 13,
          "Negate": false,
          "Question": "C4P"
         },
         {
          "Concept1": "SPACE",
          "Concept2": "BEHAVIOUR",
          "Correlation": 0.4,
          "Count": 1,
          "Negate": true,
          "Question": "C4P"
         },
         {
          "Concept1": "SPACE",
          "Concept2": "GRAPHIC",
          "Correlation": 0.4,
          "Count": 15,
          "Negate": false,
          "Question": "C4P"
         },
         {
          "Concept1": "SPACE",
          "Concept2": "GRAPHIC",
          "Correlation": 0.4,
          "Count": 8,
          "Negate": true,
          "Question": "C4P"
         },
         {
          "Concept1": "SPACE",
          "Concept2": "INFERENCES",
          "Correlation": 0.4,
          "Count": 29,
          "Negate": false,
          "Question": "C4P"
         },
         {
          "Concept1": "SPACE",
          "Concept2": "INFERENCES",
          "Correlation": 0.4,
          "Count": 12,
          "Negate": true,
          "Question": "C4P"
         },
         {
          "Concept1": "SPACE",
          "Concept2": "RELATION",
          "Correlation": 0.4,
          "Count": 25,
          "Negate": false,
          "Question": "C4P"
         },
         {
          "Concept1": "SPACE",
          "Concept2": "RELATION",
          "Correlation": 0.4,
          "Count": 7,
          "Negate": true,
          "Question": "C4P"
         },
         {
          "Concept1": "BEHAVIOUR",
          "Concept2": "GRAPHIC",
          "Correlation": -0.6,
          "Count": 5,
          "Negate": false,
          "Question": "C6N"
         },
         {
          "Concept1": "BEHAVIOUR",
          "Concept2": "GRAPHIC",
          "Correlation": -0.6,
          "Count": 2,
          "Negate": true,
          "Question": "C6N"
         },
         {
          "Concept1": "BEHAVIOUR",
          "Concept2": "INFERENCES",
          "Correlation": -0.6,
          "Count": 47,
          "Negate": false,
          "Question": "C6N"
         },
         {
          "Concept1": "BEHAVIOUR",
          "Concept2": "INFERENCES",
          "Correlation": -0.6,
          "Count": 3,
          "Negate": true,
          "Question": "C6N"
         },
         {
          "Concept1": "BEHAVIOUR",
          "Concept2": "RELATION",
          "Correlation": -0.6,
          "Count": 25,
          "Negate": false,
          "Question": "C6N"
         },
         {
          "Concept1": "BEHAVIOUR",
          "Concept2": "RELATION",
          "Correlation": -0.6,
          "Count": 3,
          "Negate": true,
          "Question": "C6N"
         },
         {
          "Concept1": "BEHAVIOUR",
          "Concept2": "SPACE",
          "Correlation": -0.6,
          "Count": 14,
          "Negate": false,
          "Question": "C6N"
         },
         {
          "Concept1": "BEHAVIOUR",
          "Concept2": "SPACE",
          "Correlation": -0.6,
          "Count": 1,
          "Negate": true,
          "Question": "C6N"
         },
         {
          "Concept1": "GRAPHIC",
          "Concept2": "BEHAVIOUR",
          "Correlation": -0.6,
          "Count": 5,
          "Negate": false,
          "Question": "C6N"
         },
         {
          "Concept1": "GRAPHIC",
          "Concept2": "BEHAVIOUR",
          "Correlation": -0.6,
          "Count": 2,
          "Negate": true,
          "Question": "C6N"
         },
         {
          "Concept1": "GRAPHIC",
          "Concept2": "INFERENCES",
          "Correlation": -0.6,
          "Count": 18,
          "Negate": false,
          "Question": "C6N"
         },
         {
          "Concept1": "GRAPHIC",
          "Concept2": "INFERENCES",
          "Correlation": -0.6,
          "Count": 2,
          "Negate": true,
          "Question": "C6N"
         },
         {
          "Concept1": "GRAPHIC",
          "Concept2": "RELATION",
          "Correlation": -0.6,
          "Count": 14,
          "Negate": false,
          "Question": "C6N"
         },
         {
          "Concept1": "GRAPHIC",
          "Concept2": "RELATION",
          "Correlation": -0.6,
          "Count": 4,
          "Negate": true,
          "Question": "C6N"
         },
         {
          "Concept1": "GRAPHIC",
          "Concept2": "SPACE",
          "Correlation": -0.6,
          "Count": 12,
          "Negate": false,
          "Question": "C6N"
         },
         {
          "Concept1": "GRAPHIC",
          "Concept2": "SPACE",
          "Correlation": -0.6,
          "Count": 3,
          "Negate": true,
          "Question": "C6N"
         },
         {
          "Concept1": "INFERENCES",
          "Concept2": "BEHAVIOUR",
          "Correlation": -0.6,
          "Count": 47,
          "Negate": false,
          "Question": "C6N"
         },
         {
          "Concept1": "INFERENCES",
          "Concept2": "BEHAVIOUR",
          "Correlation": -0.6,
          "Count": 3,
          "Negate": true,
          "Question": "C6N"
         },
         {
          "Concept1": "INFERENCES",
          "Concept2": "GRAPHIC",
          "Correlation": -0.6,
          "Count": 18,
          "Negate": false,
          "Question": "C6N"
         },
         {
          "Concept1": "INFERENCES",
          "Concept2": "GRAPHIC",
          "Correlation": -0.6,
          "Count": 2,
          "Negate": true,
          "Question": "C6N"
         },
         {
          "Concept1": "INFERENCES",
          "Concept2": "RELATION",
          "Correlation": -0.6,
          "Count": 45,
          "Negate": false,
          "Question": "C6N"
         },
         {
          "Concept1": "INFERENCES",
          "Concept2": "RELATION",
          "Correlation": -0.6,
          "Count": 7,
          "Negate": true,
          "Question": "C6N"
         },
         {
          "Concept1": "INFERENCES",
          "Concept2": "SPACE",
          "Correlation": -0.6,
          "Count": 28,
          "Negate": false,
          "Question": "C6N"
         },
         {
          "Concept1": "INFERENCES",
          "Concept2": "SPACE",
          "Correlation": -0.6,
          "Count": 2,
          "Negate": true,
          "Question": "C6N"
         },
         {
          "Concept1": "RELATION",
          "Concept2": "BEHAVIOUR",
          "Correlation": -0.6,
          "Count": 25,
          "Negate": false,
          "Question": "C6N"
         },
         {
          "Concept1": "RELATION",
          "Concept2": "BEHAVIOUR",
          "Correlation": -0.6,
          "Count": 3,
          "Negate": true,
          "Question": "C6N"
         },
         {
          "Concept1": "RELATION",
          "Concept2": "GRAPHIC",
          "Correlation": -0.6,
          "Count": 14,
          "Negate": false,
          "Question": "C6N"
         },
         {
          "Concept1": "RELATION",
          "Concept2": "GRAPHIC",
          "Correlation": -0.6,
          "Count": 4,
          "Negate": true,
          "Question": "C6N"
         },
         {
          "Concept1": "RELATION",
          "Concept2": "INFERENCES",
          "Correlation": -0.6,
          "Count": 45,
          "Negate": false,
          "Question": "C6N"
         },
         {
          "Concept1": "RELATION",
          "Concept2": "INFERENCES",
          "Correlation": -0.6,
          "Count": 7,
          "Negate": true,
          "Question": "C6N"
         },
         {
          "Concept1": "RELATION",
          "Concept2": "SPACE",
          "Correlation": -0.6,
          "Count": 21,
          "Negate": false,
          "Question": "C6N"
         },
         {
          "Concept1": "RELATION",
          "Concept2": "SPACE",
          "Correlation": -0.6,
          "Count": 6,
          "Negate": true,
          "Question": "C6N"
         },
         {
          "Concept1": "SPACE",
          "Concept2": "BEHAVIOUR",
          "Correlation": -0.6,
          "Count": 14,
          "Negate": false,
          "Question": "C6N"
         },
         {
          "Concept1": "SPACE",
          "Concept2": "BEHAVIOUR",
          "Correlation": -0.6,
          "Count": 1,
          "Negate": true,
          "Question": "C6N"
         },
         {
          "Concept1": "SPACE",
          "Concept2": "GRAPHIC",
          "Correlation": -0.6,
          "Count": 12,
          "Negate": false,
          "Question": "C6N"
         },
         {
          "Concept1": "SPACE",
          "Concept2": "GRAPHIC",
          "Correlation": -0.6,
          "Count": 3,
          "Negate": true,
          "Question": "C6N"
         },
         {
          "Concept1": "SPACE",
          "Concept2": "INFERENCES",
          "Correlation": -0.6,
          "Count": 28,
          "Negate": false,
          "Question": "C6N"
         },
         {
          "Concept1": "SPACE",
          "Concept2": "INFERENCES",
          "Correlation": -0.6,
          "Count": 2,
          "Negate": true,
          "Question": "C6N"
         },
         {
          "Concept1": "SPACE",
          "Concept2": "RELATION",
          "Correlation": -0.6,
          "Count": 21,
          "Negate": false,
          "Question": "C6N"
         },
         {
          "Concept1": "SPACE",
          "Concept2": "RELATION",
          "Correlation": -0.6,
          "Count": 6,
          "Negate": true,
          "Question": "C6N"
         },
         {
          "Concept1": "BEHAVIOUR",
          "Concept2": "GRAPHIC",
          "Correlation": 0.6,
          "Count": 5,
          "Negate": false,
          "Question": "C6P"
         },
         {
          "Concept1": "BEHAVIOUR",
          "Concept2": "GRAPHIC",
          "Correlation": 0.6,
          "Count": 1,
          "Negate": true,
          "Question": "C6P"
         },
         {
          "Concept1": "BEHAVIOUR",
          "Concept2": "INFERENCES",
          "Correlation": 0.6,
          "Count": 43,
          "Negate": false,
          "Question": "C6P"
         },
         {
          "Concept1": "BEHAVIOUR",
          "Concept2": "INFERENCES",
          "Correlation": 0.6,
          "Count": 2,
          "Negate": true,
          "Question": "C6P"
         },
         {
          "Concept1": "BEHAVIOUR",
          "Concept2": "RELATION",
          "Correlation": 0.6,
          "Count": 23,
          "Negate": false,
          "Question": "C6P"
         },
         {
          "Concept1": "BEHAVIOUR",
          "Concept2": "RELATION",
          "Correlation": 0.6,
          "Count": 1,
          "Negate": true,
          "Question": "C6P"
         },
         {
          "Concept1": "BEHAVIOUR",
          "Concept2": "SPACE",
          "Correlation": 0.6,
          "Count": 13,
          "Negate": false,
          "Question": "C6P"
         },
         {
          "Concept1": "BEHAVIOUR",
          "Concept2": "SPACE",
          "Correlation": 0.6,
          "Count": 1,
          "Negate": true,
          "Question": "C6P"
         },
         {
          "Concept1": "GRAPHIC",
          "Concept2": "BEHAVIOUR",
          "Correlation": 0.6,
          "Count": 5,
          "Negate": false,
          "Question": "C6P"
         },
         {
          "Concept1": "GRAPHIC",
          "Concept2": "BEHAVIOUR",
          "Correlation": 0.6,
          "Count": 1,
          "Negate": true,
          "Question": "C6P"
         },
         {
          "Concept1": "GRAPHIC",
          "Concept2": "INFERENCES",
          "Correlation": 0.6,
          "Count": 17,
          "Negate": false,
          "Question": "C6P"
         },
         {
          "Concept1": "GRAPHIC",
          "Concept2": "INFERENCES",
          "Correlation": 0.6,
          "Count": 4,
          "Negate": true,
          "Question": "C6P"
         },
         {
          "Concept1": "GRAPHIC",
          "Concept2": "RELATION",
          "Correlation": 0.6,
          "Count": 17,
          "Negate": false,
          "Question": "C6P"
         },
         {
          "Concept1": "GRAPHIC",
          "Concept2": "RELATION",
          "Correlation": 0.6,
          "Count": 6,
          "Negate": true,
          "Question": "C6P"
         },
         {
          "Concept1": "GRAPHIC",
          "Concept2": "SPACE",
          "Correlation": 0.6,
          "Count": 17,
          "Negate": false,
          "Question": "C6P"
         },
         {
          "Concept1": "GRAPHIC",
          "Concept2": "SPACE",
          "Correlation": 0.6,
          "Count": 1,
          "Negate": true,
          "Question": "C6P"
         },
         {
          "Concept1": "INFERENCES",
          "Concept2": "BEHAVIOUR",
          "Correlation": 0.6,
          "Count": 43,
          "Negate": false,
          "Question": "C6P"
         },
         {
          "Concept1": "INFERENCES",
          "Concept2": "BEHAVIOUR",
          "Correlation": 0.6,
          "Count": 2,
          "Negate": true,
          "Question": "C6P"
         },
         {
          "Concept1": "INFERENCES",
          "Concept2": "GRAPHIC",
          "Correlation": 0.6,
          "Count": 17,
          "Negate": false,
          "Question": "C6P"
         },
         {
          "Concept1": "INFERENCES",
          "Concept2": "GRAPHIC",
          "Correlation": 0.6,
          "Count": 4,
          "Negate": true,
          "Question": "C6P"
         },
         {
          "Concept1": "INFERENCES",
          "Concept2": "RELATION",
          "Correlation": 0.6,
          "Count": 49,
          "Negate": false,
          "Question": "C6P"
         },
         {
          "Concept1": "INFERENCES",
          "Concept2": "RELATION",
          "Correlation": 0.6,
          "Count": 5,
          "Negate": true,
          "Question": "C6P"
         },
         {
          "Concept1": "INFERENCES",
          "Concept2": "SPACE",
          "Correlation": 0.6,
          "Count": 36,
          "Negate": false,
          "Question": "C6P"
         },
         {
          "Concept1": "INFERENCES",
          "Concept2": "SPACE",
          "Correlation": 0.6,
          "Count": 2,
          "Negate": true,
          "Question": "C6P"
         },
         {
          "Concept1": "RELATION",
          "Concept2": "BEHAVIOUR",
          "Correlation": 0.6,
          "Count": 23,
          "Negate": false,
          "Question": "C6P"
         },
         {
          "Concept1": "RELATION",
          "Concept2": "BEHAVIOUR",
          "Correlation": 0.6,
          "Count": 1,
          "Negate": true,
          "Question": "C6P"
         },
         {
          "Concept1": "RELATION",
          "Concept2": "GRAPHIC",
          "Correlation": 0.6,
          "Count": 17,
          "Negate": false,
          "Question": "C6P"
         },
         {
          "Concept1": "RELATION",
          "Concept2": "GRAPHIC",
          "Correlation": 0.6,
          "Count": 6,
          "Negate": true,
          "Question": "C6P"
         },
         {
          "Concept1": "RELATION",
          "Concept2": "INFERENCES",
          "Correlation": 0.6,
          "Count": 49,
          "Negate": false,
          "Question": "C6P"
         },
         {
          "Concept1": "RELATION",
          "Concept2": "INFERENCES",
          "Correlation": 0.6,
          "Count": 5,
          "Negate": true,
          "Question": "C6P"
         },
         {
          "Concept1": "RELATION",
          "Concept2": "SPACE",
          "Correlation": 0.6,
          "Count": 26,
          "Negate": false,
          "Question": "C6P"
         },
         {
          "Concept1": "RELATION",
          "Concept2": "SPACE",
          "Correlation": 0.6,
          "Count": 3,
          "Negate": true,
          "Question": "C6P"
         },
         {
          "Concept1": "SPACE",
          "Concept2": "BEHAVIOUR",
          "Correlation": 0.6,
          "Count": 13,
          "Negate": false,
          "Question": "C6P"
         },
         {
          "Concept1": "SPACE",
          "Concept2": "BEHAVIOUR",
          "Correlation": 0.6,
          "Count": 1,
          "Negate": true,
          "Question": "C6P"
         },
         {
          "Concept1": "SPACE",
          "Concept2": "GRAPHIC",
          "Correlation": 0.6,
          "Count": 17,
          "Negate": false,
          "Question": "C6P"
         },
         {
          "Concept1": "SPACE",
          "Concept2": "GRAPHIC",
          "Correlation": 0.6,
          "Count": 1,
          "Negate": true,
          "Question": "C6P"
         },
         {
          "Concept1": "SPACE",
          "Concept2": "INFERENCES",
          "Correlation": 0.6,
          "Count": 36,
          "Negate": false,
          "Question": "C6P"
         },
         {
          "Concept1": "SPACE",
          "Concept2": "INFERENCES",
          "Correlation": 0.6,
          "Count": 2,
          "Negate": true,
          "Question": "C6P"
         },
         {
          "Concept1": "SPACE",
          "Concept2": "RELATION",
          "Correlation": 0.6,
          "Count": 26,
          "Negate": false,
          "Question": "C6P"
         },
         {
          "Concept1": "SPACE",
          "Concept2": "RELATION",
          "Correlation": 0.6,
          "Count": 3,
          "Negate": true,
          "Question": "C6P"
         },
         {
          "Concept1": "BEHAVIOUR",
          "Concept2": "GRAPHIC",
          "Correlation": -0.8,
          "Count": 7,
          "Negate": false,
          "Question": "C8N"
         },
         {
          "Concept1": "BEHAVIOUR",
          "Concept2": "GRAPHIC",
          "Correlation": -0.8,
          "Count": 1,
          "Negate": true,
          "Question": "C8N"
         },
         {
          "Concept1": "BEHAVIOUR",
          "Concept2": "INFERENCES",
          "Correlation": -0.8,
          "Count": 52,
          "Negate": false,
          "Question": "C8N"
         },
         {
          "Concept1": "BEHAVIOUR",
          "Concept2": "INFERENCES",
          "Correlation": -0.8,
          "Count": 1,
          "Negate": true,
          "Question": "C8N"
         },
         {
          "Concept1": "BEHAVIOUR",
          "Concept2": "RELATION",
          "Correlation": -0.8,
          "Count": 41,
          "Negate": false,
          "Question": "C8N"
         },
         {
          "Concept1": "BEHAVIOUR",
          "Concept2": "RELATION",
          "Correlation": -0.8,
          "Count": 1,
          "Negate": true,
          "Question": "C8N"
         },
         {
          "Concept1": "BEHAVIOUR",
          "Concept2": "SPACE",
          "Correlation": -0.8,
          "Count": 12,
          "Negate": false,
          "Question": "C8N"
         },
         {
          "Concept1": "BEHAVIOUR",
          "Concept2": "SPACE",
          "Correlation": -0.8,
          "Count": 1,
          "Negate": true,
          "Question": "C8N"
         },
         {
          "Concept1": "GRAPHIC",
          "Concept2": "BEHAVIOUR",
          "Correlation": -0.8,
          "Count": 7,
          "Negate": false,
          "Question": "C8N"
         },
         {
          "Concept1": "GRAPHIC",
          "Concept2": "BEHAVIOUR",
          "Correlation": -0.8,
          "Count": 1,
          "Negate": true,
          "Question": "C8N"
         },
         {
          "Concept1": "GRAPHIC",
          "Concept2": "INFERENCES",
          "Correlation": -0.8,
          "Count": 18,
          "Negate": false,
          "Question": "C8N"
         },
         {
          "Concept1": "GRAPHIC",
          "Concept2": "INFERENCES",
          "Correlation": -0.8,
          "Count": 2,
          "Negate": true,
          "Question": "C8N"
         },
         {
          "Concept1": "GRAPHIC",
          "Concept2": "RELATION",
          "Correlation": -0.8,
          "Count": 15,
          "Negate": false,
          "Question": "C8N"
         },
         {
          "Concept1": "GRAPHIC",
          "Concept2": "RELATION",
          "Correlation": -0.8,
          "Count": 3,
          "Negate": true,
          "Question": "C8N"
         },
         {
          "Concept1": "GRAPHIC",
          "Concept2": "SPACE",
          "Correlation": -0.8,
          "Count": 8,
          "Negate": false,
          "Question": "C8N"
         },
         {
          "Concept1": "GRAPHIC",
          "Concept2": "SPACE",
          "Correlation": -0.8,
          "Count": 2,
          "Negate": true,
          "Question": "C8N"
         },
         {
          "Concept1": "INFERENCES",
          "Concept2": "BEHAVIOUR",
          "Correlation": -0.8,
          "Count": 52,
          "Negate": false,
          "Question": "C8N"
         },
         {
          "Concept1": "INFERENCES",
          "Concept2": "BEHAVIOUR",
          "Correlation": -0.8,
          "Count": 1,
          "Negate": true,
          "Question": "C8N"
         },
         {
          "Concept1": "INFERENCES",
          "Concept2": "GRAPHIC",
          "Correlation": -0.8,
          "Count": 18,
          "Negate": false,
          "Question": "C8N"
         },
         {
          "Concept1": "INFERENCES",
          "Concept2": "GRAPHIC",
          "Correlation": -0.8,
          "Count": 2,
          "Negate": true,
          "Question": "C8N"
         },
         {
          "Concept1": "INFERENCES",
          "Concept2": "RELATION",
          "Correlation": -0.8,
          "Count": 60,
          "Negate": false,
          "Question": "C8N"
         },
         {
          "Concept1": "INFERENCES",
          "Concept2": "RELATION",
          "Correlation": -0.8,
          "Count": 3,
          "Negate": true,
          "Question": "C8N"
         },
         {
          "Concept1": "INFERENCES",
          "Concept2": "SPACE",
          "Correlation": -0.8,
          "Count": 24,
          "Negate": false,
          "Question": "C8N"
         },
         {
          "Concept1": "INFERENCES",
          "Concept2": "SPACE",
          "Correlation": -0.8,
          "Count": 1,
          "Negate": true,
          "Question": "C8N"
         },
         {
          "Concept1": "RELATION",
          "Concept2": "BEHAVIOUR",
          "Correlation": -0.8,
          "Count": 41,
          "Negate": false,
          "Question": "C8N"
         },
         {
          "Concept1": "RELATION",
          "Concept2": "BEHAVIOUR",
          "Correlation": -0.8,
          "Count": 1,
          "Negate": true,
          "Question": "C8N"
         },
         {
          "Concept1": "RELATION",
          "Concept2": "GRAPHIC",
          "Correlation": -0.8,
          "Count": 15,
          "Negate": false,
          "Question": "C8N"
         },
         {
          "Concept1": "RELATION",
          "Concept2": "GRAPHIC",
          "Correlation": -0.8,
          "Count": 3,
          "Negate": true,
          "Question": "C8N"
         },
         {
          "Concept1": "RELATION",
          "Concept2": "INFERENCES",
          "Correlation": -0.8,
          "Count": 60,
          "Negate": false,
          "Question": "C8N"
         },
         {
          "Concept1": "RELATION",
          "Concept2": "INFERENCES",
          "Correlation": -0.8,
          "Count": 3,
          "Negate": true,
          "Question": "C8N"
         },
         {
          "Concept1": "RELATION",
          "Concept2": "SPACE",
          "Correlation": -0.8,
          "Count": 16,
          "Negate": false,
          "Question": "C8N"
         },
         {
          "Concept1": "RELATION",
          "Concept2": "SPACE",
          "Correlation": -0.8,
          "Count": 2,
          "Negate": true,
          "Question": "C8N"
         },
         {
          "Concept1": "SPACE",
          "Concept2": "BEHAVIOUR",
          "Correlation": -0.8,
          "Count": 12,
          "Negate": false,
          "Question": "C8N"
         },
         {
          "Concept1": "SPACE",
          "Concept2": "BEHAVIOUR",
          "Correlation": -0.8,
          "Count": 1,
          "Negate": true,
          "Question": "C8N"
         },
         {
          "Concept1": "SPACE",
          "Concept2": "GRAPHIC",
          "Correlation": -0.8,
          "Count": 8,
          "Negate": false,
          "Question": "C8N"
         },
         {
          "Concept1": "SPACE",
          "Concept2": "GRAPHIC",
          "Correlation": -0.8,
          "Count": 2,
          "Negate": true,
          "Question": "C8N"
         },
         {
          "Concept1": "SPACE",
          "Concept2": "INFERENCES",
          "Correlation": -0.8,
          "Count": 24,
          "Negate": false,
          "Question": "C8N"
         },
         {
          "Concept1": "SPACE",
          "Concept2": "INFERENCES",
          "Correlation": -0.8,
          "Count": 1,
          "Negate": true,
          "Question": "C8N"
         },
         {
          "Concept1": "SPACE",
          "Concept2": "RELATION",
          "Correlation": -0.8,
          "Count": 16,
          "Negate": false,
          "Question": "C8N"
         },
         {
          "Concept1": "SPACE",
          "Concept2": "RELATION",
          "Correlation": -0.8,
          "Count": 2,
          "Negate": true,
          "Question": "C8N"
         },
         {
          "Concept1": "BEHAVIOUR",
          "Concept2": "GRAPHIC",
          "Correlation": 0.8,
          "Count": 13,
          "Negate": false,
          "Question": "C8P"
         },
         {
          "Concept1": "BEHAVIOUR",
          "Concept2": "GRAPHIC",
          "Correlation": 0.8,
          "Count": 1,
          "Negate": true,
          "Question": "C8P"
         },
         {
          "Concept1": "BEHAVIOUR",
          "Concept2": "INFERENCES",
          "Correlation": 0.8,
          "Count": 54,
          "Negate": false,
          "Question": "C8P"
         },
         {
          "Concept1": "BEHAVIOUR",
          "Concept2": "INFERENCES",
          "Correlation": 0.8,
          "Count": 1,
          "Negate": true,
          "Question": "C8P"
         },
         {
          "Concept1": "BEHAVIOUR",
          "Concept2": "RELATION",
          "Correlation": 0.8,
          "Count": 37,
          "Negate": false,
          "Question": "C8P"
         },
         {
          "Concept1": "BEHAVIOUR",
          "Concept2": "RELATION",
          "Correlation": 0.8,
          "Count": 1,
          "Negate": true,
          "Question": "C8P"
         },
         {
          "Concept1": "BEHAVIOUR",
          "Concept2": "SPACE",
          "Correlation": 0.8,
          "Count": 14,
          "Negate": false,
          "Question": "C8P"
         },
         {
          "Concept1": "BEHAVIOUR",
          "Concept2": "SPACE",
          "Correlation": 0.8,
          "Count": 1,
          "Negate": true,
          "Question": "C8P"
         },
         {
          "Concept1": "GRAPHIC",
          "Concept2": "BEHAVIOUR",
          "Correlation": 0.8,
          "Count": 13,
          "Negate": false,
          "Question": "C8P"
         },
         {
          "Concept1": "GRAPHIC",
          "Concept2": "BEHAVIOUR",
          "Correlation": 0.8,
          "Count": 1,
          "Negate": true,
          "Question": "C8P"
         },
         {
          "Concept1": "GRAPHIC",
          "Concept2": "INFERENCES",
          "Correlation": 0.8,
          "Count": 19,
          "Negate": false,
          "Question": "C8P"
         },
         {
          "Concept1": "GRAPHIC",
          "Concept2": "INFERENCES",
          "Correlation": 0.8,
          "Count": 1,
          "Negate": true,
          "Question": "C8P"
         },
         {
          "Concept1": "GRAPHIC",
          "Concept2": "RELATION",
          "Correlation": 0.8,
          "Count": 19,
          "Negate": false,
          "Question": "C8P"
         },
         {
          "Concept1": "GRAPHIC",
          "Concept2": "RELATION",
          "Correlation": 0.8,
          "Count": 1,
          "Negate": true,
          "Question": "C8P"
         },
         {
          "Concept1": "GRAPHIC",
          "Concept2": "SPACE",
          "Correlation": 0.8,
          "Count": 12,
          "Negate": false,
          "Question": "C8P"
         },
         {
          "Concept1": "GRAPHIC",
          "Concept2": "SPACE",
          "Correlation": 0.8,
          "Count": 1,
          "Negate": true,
          "Question": "C8P"
         },
         {
          "Concept1": "INFERENCES",
          "Concept2": "BEHAVIOUR",
          "Correlation": 0.8,
          "Count": 54,
          "Negate": false,
          "Question": "C8P"
         },
         {
          "Concept1": "INFERENCES",
          "Concept2": "BEHAVIOUR",
          "Correlation": 0.8,
          "Count": 1,
          "Negate": true,
          "Question": "C8P"
         },
         {
          "Concept1": "INFERENCES",
          "Concept2": "GRAPHIC",
          "Correlation": 0.8,
          "Count": 19,
          "Negate": false,
          "Question": "C8P"
         },
         {
          "Concept1": "INFERENCES",
          "Concept2": "GRAPHIC",
          "Correlation": 0.8,
          "Count": 1,
          "Negate": true,
          "Question": "C8P"
         },
         {
          "Concept1": "INFERENCES",
          "Concept2": "RELATION",
          "Correlation": 0.8,
          "Count": 55,
          "Negate": false,
          "Question": "C8P"
         },
         {
          "Concept1": "INFERENCES",
          "Concept2": "RELATION",
          "Correlation": 0.8,
          "Count": 1,
          "Negate": true,
          "Question": "C8P"
         },
         {
          "Concept1": "INFERENCES",
          "Concept2": "SPACE",
          "Correlation": 0.8,
          "Count": 21,
          "Negate": false,
          "Question": "C8P"
         },
         {
          "Concept1": "INFERENCES",
          "Concept2": "SPACE",
          "Correlation": 0.8,
          "Count": 1,
          "Negate": true,
          "Question": "C8P"
         },
         {
          "Concept1": "RELATION",
          "Concept2": "BEHAVIOUR",
          "Correlation": 0.8,
          "Count": 37,
          "Negate": false,
          "Question": "C8P"
         },
         {
          "Concept1": "RELATION",
          "Concept2": "BEHAVIOUR",
          "Correlation": 0.8,
          "Count": 1,
          "Negate": true,
          "Question": "C8P"
         },
         {
          "Concept1": "RELATION",
          "Concept2": "GRAPHIC",
          "Correlation": 0.8,
          "Count": 19,
          "Negate": false,
          "Question": "C8P"
         },
         {
          "Concept1": "RELATION",
          "Concept2": "GRAPHIC",
          "Correlation": 0.8,
          "Count": 1,
          "Negate": true,
          "Question": "C8P"
         },
         {
          "Concept1": "RELATION",
          "Concept2": "INFERENCES",
          "Correlation": 0.8,
          "Count": 55,
          "Negate": false,
          "Question": "C8P"
         },
         {
          "Concept1": "RELATION",
          "Concept2": "INFERENCES",
          "Correlation": 0.8,
          "Count": 1,
          "Negate": true,
          "Question": "C8P"
         },
         {
          "Concept1": "RELATION",
          "Concept2": "SPACE",
          "Correlation": 0.8,
          "Count": 16,
          "Negate": false,
          "Question": "C8P"
         },
         {
          "Concept1": "RELATION",
          "Concept2": "SPACE",
          "Correlation": 0.8,
          "Count": 1,
          "Negate": true,
          "Question": "C8P"
         },
         {
          "Concept1": "SPACE",
          "Concept2": "BEHAVIOUR",
          "Correlation": 0.8,
          "Count": 14,
          "Negate": false,
          "Question": "C8P"
         },
         {
          "Concept1": "SPACE",
          "Concept2": "BEHAVIOUR",
          "Correlation": 0.8,
          "Count": 1,
          "Negate": true,
          "Question": "C8P"
         },
         {
          "Concept1": "SPACE",
          "Concept2": "GRAPHIC",
          "Correlation": 0.8,
          "Count": 12,
          "Negate": false,
          "Question": "C8P"
         },
         {
          "Concept1": "SPACE",
          "Concept2": "GRAPHIC",
          "Correlation": 0.8,
          "Count": 1,
          "Negate": true,
          "Question": "C8P"
         },
         {
          "Concept1": "SPACE",
          "Concept2": "INFERENCES",
          "Correlation": 0.8,
          "Count": 21,
          "Negate": false,
          "Question": "C8P"
         },
         {
          "Concept1": "SPACE",
          "Concept2": "INFERENCES",
          "Correlation": 0.8,
          "Count": 1,
          "Negate": true,
          "Question": "C8P"
         },
         {
          "Concept1": "SPACE",
          "Concept2": "RELATION",
          "Correlation": 0.8,
          "Count": 16,
          "Negate": false,
          "Question": "C8P"
         },
         {
          "Concept1": "SPACE",
          "Concept2": "RELATION",
          "Correlation": 0.8,
          "Count": 1,
          "Negate": true,
          "Question": "C8P"
         }
        ]
       },
       "facet": {
        "column": {
         "field": "Concept1",
         "title": "",
         "type": "nominal"
        },
        "row": {
         "field": "Concept2",
         "title": "",
         "type": "nominal"
        }
       },
       "spec": {
        "encoding": {
         "color": {
          "field": "Negate",
          "scale": {
           "domain": [
            "false",
            "true"
           ],
           "range": [
            "#000050",
            "#eeaa00"
           ]
          },
          "type": "nominal"
         },
         "x": {
          "field": "Correlation",
          "type": "ordinal"
         },
         "y": {
          "axis": {
           "tickCount": 8,
           "title": null
          },
          "field": "Count",
          "scale": {
           "domain": [
            0,
            80
           ]
          },
          "type": "quantitative"
         }
        },
        "height": 100,
        "mark": "bar",
        "width": 100
       }
      },
      "image/png": "[encoded data removed]",
      "text/plain": [
       "<VegaLite 3 object>\n",
       "\n",
       "If you see this message, it means the renderer has not been properly enabled\n",
       "for the frontend that you are using. For more information, see\n",
       "https://altair-viz.github.io/user_guide/troubleshooting.html\n"
      ]
     },
     "execution_count": 125,
     "metadata": {},
     "output_type": "execute_result"
    }
   ],
   "source": [
    "alt.Chart(cbyc).mark_bar().encode(\n",
    "    x='Correlation:O',\n",
    "    y=alt.Y('Count:Q',scale=alt.Scale(domain=(0, 80)),axis=alt.Axis(title=None,tickCount=8)),\n",
    "    color=alt.Color('Negate',\n",
    "                   scale=alt.Scale(\n",
    "            domain=['false', 'true'],\n",
    "            range=['#000050', '#eeaa00']))\n",
    ").properties(\n",
    "    width=100,height=100\n",
    "    ).facet(\n",
    "    column=alt.Column('Concept1',title=''),\n",
    "    row=alt.Row('Concept2',title='')\n",
    "    )"
   ]
  },
  {
   "cell_type": "code",
   "execution_count": 276,
   "metadata": {},
   "outputs": [
    {
     "data": {
      "application/vnd.vegalite.v2+json": {
       "$schema": "https://vega.github.io/schema/vega-lite/v2.6.0.json",
       "config": {
        "axis": {
         "labelFont": "Avenir",
         "titleFont": "Avenir"
        },
        "header": {
         "labelFont": "Avenir",
         "labelFontSize": 12,
         "titleFont": "Avenir"
        },
        "legend": {
         "labelFont": "Avenir",
         "titleFont": "Avenir"
        },
        "mark": {
         "color": "#000050"
        },
        "title": {
         "anchor": "end",
         "font": "Avenir"
        }
       },
       "data": {
        "name": "data-ebbaaad8d870000d9545760cef30f473"
       },
       "datasets": {
        "data-ebbaaad8d870000d9545760cef30f473": [
         {
          "Correlation": 0,
          "Count": 1,
          "Negate": false,
          "Question": "C0",
          "Trait1": "DIRECTION",
          "Trait2": "DISCERNIBILITY"
         },
         {
          "Correlation": 0,
          "Count": 3,
          "Negate": false,
          "Question": "C0",
          "Trait1": "DIRECTION",
          "Trait2": "MAGNITUDE"
         },
         {
          "Correlation": 0,
          "Count": 2,
          "Negate": false,
          "Question": "C0",
          "Trait1": "DIRECTION",
          "Trait2": "POSITION"
         },
         {
          "Correlation": 0,
          "Count": 1,
          "Negate": true,
          "Question": "C0",
          "Trait1": "DIRECTION",
          "Trait2": "POSITION"
         },
         {
          "Correlation": 0,
          "Count": 2,
          "Negate": false,
          "Question": "C0",
          "Trait1": "DIRECTION",
          "Trait2": "REGULARITY"
         },
         {
          "Correlation": 0,
          "Count": 1,
          "Negate": false,
          "Question": "C0",
          "Trait1": "DISCERNIBILITY",
          "Trait2": "DIRECTION"
         },
         {
          "Correlation": 0,
          "Count": 4,
          "Negate": false,
          "Question": "C0",
          "Trait1": "DISCERNIBILITY",
          "Trait2": "MAGNITUDE"
         },
         {
          "Correlation": 0,
          "Count": 3,
          "Negate": true,
          "Question": "C0",
          "Trait1": "DISCERNIBILITY",
          "Trait2": "MAGNITUDE"
         },
         {
          "Correlation": 0,
          "Count": 4,
          "Negate": false,
          "Question": "C0",
          "Trait1": "DISCERNIBILITY",
          "Trait2": "POSITION"
         },
         {
          "Correlation": 0,
          "Count": 19,
          "Negate": true,
          "Question": "C0",
          "Trait1": "DISCERNIBILITY",
          "Trait2": "POSITION"
         },
         {
          "Correlation": 0,
          "Count": 1,
          "Negate": false,
          "Question": "C0",
          "Trait1": "DISCERNIBILITY",
          "Trait2": "REGULARITY"
         },
         {
          "Correlation": 0,
          "Count": 3,
          "Negate": false,
          "Question": "C0",
          "Trait1": "MAGNITUDE",
          "Trait2": "DIRECTION"
         },
         {
          "Correlation": 0,
          "Count": 4,
          "Negate": false,
          "Question": "C0",
          "Trait1": "MAGNITUDE",
          "Trait2": "DISCERNIBILITY"
         },
         {
          "Correlation": 0,
          "Count": 3,
          "Negate": true,
          "Question": "C0",
          "Trait1": "MAGNITUDE",
          "Trait2": "DISCERNIBILITY"
         },
         {
          "Correlation": 0,
          "Count": 34,
          "Negate": false,
          "Question": "C0",
          "Trait1": "MAGNITUDE",
          "Trait2": "POSITION"
         },
         {
          "Correlation": 0,
          "Count": 7,
          "Negate": true,
          "Question": "C0",
          "Trait1": "MAGNITUDE",
          "Trait2": "POSITION"
         },
         {
          "Correlation": 0,
          "Count": 6,
          "Negate": false,
          "Question": "C0",
          "Trait1": "MAGNITUDE",
          "Trait2": "REGULARITY"
         },
         {
          "Correlation": 0,
          "Count": 2,
          "Negate": false,
          "Question": "C0",
          "Trait1": "POSITION",
          "Trait2": "DIRECTION"
         },
         {
          "Correlation": 0,
          "Count": 1,
          "Negate": true,
          "Question": "C0",
          "Trait1": "POSITION",
          "Trait2": "DIRECTION"
         },
         {
          "Correlation": 0,
          "Count": 4,
          "Negate": false,
          "Question": "C0",
          "Trait1": "POSITION",
          "Trait2": "DISCERNIBILITY"
         },
         {
          "Correlation": 0,
          "Count": 19,
          "Negate": true,
          "Question": "C0",
          "Trait1": "POSITION",
          "Trait2": "DISCERNIBILITY"
         },
         {
          "Correlation": 0,
          "Count": 34,
          "Negate": false,
          "Question": "C0",
          "Trait1": "POSITION",
          "Trait2": "MAGNITUDE"
         },
         {
          "Correlation": 0,
          "Count": 7,
          "Negate": true,
          "Question": "C0",
          "Trait1": "POSITION",
          "Trait2": "MAGNITUDE"
         },
         {
          "Correlation": 0,
          "Count": 4,
          "Negate": false,
          "Question": "C0",
          "Trait1": "POSITION",
          "Trait2": "REGULARITY"
         },
         {
          "Correlation": 0,
          "Count": 2,
          "Negate": false,
          "Question": "C0",
          "Trait1": "REGULARITY",
          "Trait2": "DIRECTION"
         },
         {
          "Correlation": 0,
          "Count": 1,
          "Negate": false,
          "Question": "C0",
          "Trait1": "REGULARITY",
          "Trait2": "DISCERNIBILITY"
         },
         {
          "Correlation": 0,
          "Count": 6,
          "Negate": false,
          "Question": "C0",
          "Trait1": "REGULARITY",
          "Trait2": "MAGNITUDE"
         },
         {
          "Correlation": 0,
          "Count": 4,
          "Negate": false,
          "Question": "C0",
          "Trait1": "REGULARITY",
          "Trait2": "POSITION"
         },
         {
          "Correlation": -0.2,
          "Count": 2,
          "Negate": false,
          "Question": "C2N",
          "Trait1": "DIRECTION",
          "Trait2": "DISCERNIBILITY"
         },
         {
          "Correlation": -0.2,
          "Count": 11,
          "Negate": false,
          "Question": "C2N",
          "Trait1": "DIRECTION",
          "Trait2": "MAGNITUDE"
         },
         {
          "Correlation": -0.2,
          "Count": 2,
          "Negate": true,
          "Question": "C2N",
          "Trait1": "DIRECTION",
          "Trait2": "MAGNITUDE"
         },
         {
          "Correlation": -0.2,
          "Count": 11,
          "Negate": false,
          "Question": "C2N",
          "Trait1": "DIRECTION",
          "Trait2": "POSITION"
         },
         {
          "Correlation": -0.2,
          "Count": 5,
          "Negate": false,
          "Question": "C2N",
          "Trait1": "DIRECTION",
          "Trait2": "REGULARITY"
         },
         {
          "Correlation": -0.2,
          "Count": 1,
          "Negate": true,
          "Question": "C2N",
          "Trait1": "DIRECTION",
          "Trait2": "REGULARITY"
         },
         {
          "Correlation": -0.2,
          "Count": 2,
          "Negate": false,
          "Question": "C2N",
          "Trait1": "DISCERNIBILITY",
          "Trait2": "DIRECTION"
         },
         {
          "Correlation": -0.2,
          "Count": 2,
          "Negate": false,
          "Question": "C2N",
          "Trait1": "DISCERNIBILITY",
          "Trait2": "MAGNITUDE"
         },
         {
          "Correlation": -0.2,
          "Count": 3,
          "Negate": true,
          "Question": "C2N",
          "Trait1": "DISCERNIBILITY",
          "Trait2": "MAGNITUDE"
         },
         {
          "Correlation": -0.2,
          "Count": 3,
          "Negate": false,
          "Question": "C2N",
          "Trait1": "DISCERNIBILITY",
          "Trait2": "POSITION"
         },
         {
          "Correlation": -0.2,
          "Count": 16,
          "Negate": true,
          "Question": "C2N",
          "Trait1": "DISCERNIBILITY",
          "Trait2": "POSITION"
         },
         {
          "Correlation": -0.2,
          "Count": 1,
          "Negate": false,
          "Question": "C2N",
          "Trait1": "DISCERNIBILITY",
          "Trait2": "REGULARITY"
         },
         {
          "Correlation": -0.2,
          "Count": 2,
          "Negate": true,
          "Question": "C2N",
          "Trait1": "DISCERNIBILITY",
          "Trait2": "REGULARITY"
         },
         {
          "Correlation": -0.2,
          "Count": 11,
          "Negate": false,
          "Question": "C2N",
          "Trait1": "MAGNITUDE",
          "Trait2": "DIRECTION"
         },
         {
          "Correlation": -0.2,
          "Count": 2,
          "Negate": true,
          "Question": "C2N",
          "Trait1": "MAGNITUDE",
          "Trait2": "DIRECTION"
         },
         {
          "Correlation": -0.2,
          "Count": 2,
          "Negate": false,
          "Question": "C2N",
          "Trait1": "MAGNITUDE",
          "Trait2": "DISCERNIBILITY"
         },
         {
          "Correlation": -0.2,
          "Count": 3,
          "Negate": true,
          "Question": "C2N",
          "Trait1": "MAGNITUDE",
          "Trait2": "DISCERNIBILITY"
         },
         {
          "Correlation": -0.2,
          "Count": 31,
          "Negate": false,
          "Question": "C2N",
          "Trait1": "MAGNITUDE",
          "Trait2": "POSITION"
         },
         {
          "Correlation": -0.2,
          "Count": 8,
          "Negate": true,
          "Question": "C2N",
          "Trait1": "MAGNITUDE",
          "Trait2": "POSITION"
         },
         {
          "Correlation": -0.2,
          "Count": 7,
          "Negate": false,
          "Question": "C2N",
          "Trait1": "MAGNITUDE",
          "Trait2": "REGULARITY"
         },
         {
          "Correlation": -0.2,
          "Count": 5,
          "Negate": true,
          "Question": "C2N",
          "Trait1": "MAGNITUDE",
          "Trait2": "REGULARITY"
         },
         {
          "Correlation": -0.2,
          "Count": 11,
          "Negate": false,
          "Question": "C2N",
          "Trait1": "POSITION",
          "Trait2": "DIRECTION"
         },
         {
          "Correlation": -0.2,
          "Count": 3,
          "Negate": false,
          "Question": "C2N",
          "Trait1": "POSITION",
          "Trait2": "DISCERNIBILITY"
         },
         {
          "Correlation": -0.2,
          "Count": 16,
          "Negate": true,
          "Question": "C2N",
          "Trait1": "POSITION",
          "Trait2": "DISCERNIBILITY"
         },
         {
          "Correlation": -0.2,
          "Count": 31,
          "Negate": false,
          "Question": "C2N",
          "Trait1": "POSITION",
          "Trait2": "MAGNITUDE"
         },
         {
          "Correlation": -0.2,
          "Count": 8,
          "Negate": true,
          "Question": "C2N",
          "Trait1": "POSITION",
          "Trait2": "MAGNITUDE"
         },
         {
          "Correlation": -0.2,
          "Count": 8,
          "Negate": false,
          "Question": "C2N",
          "Trait1": "POSITION",
          "Trait2": "REGULARITY"
         },
         {
          "Correlation": -0.2,
          "Count": 5,
          "Negate": true,
          "Question": "C2N",
          "Trait1": "POSITION",
          "Trait2": "REGULARITY"
         },
         {
          "Correlation": -0.2,
          "Count": 5,
          "Negate": false,
          "Question": "C2N",
          "Trait1": "REGULARITY",
          "Trait2": "DIRECTION"
         },
         {
          "Correlation": -0.2,
          "Count": 1,
          "Negate": true,
          "Question": "C2N",
          "Trait1": "REGULARITY",
          "Trait2": "DIRECTION"
         },
         {
          "Correlation": -0.2,
          "Count": 1,
          "Negate": false,
          "Question": "C2N",
          "Trait1": "REGULARITY",
          "Trait2": "DISCERNIBILITY"
         },
         {
          "Correlation": -0.2,
          "Count": 2,
          "Negate": true,
          "Question": "C2N",
          "Trait1": "REGULARITY",
          "Trait2": "DISCERNIBILITY"
         },
         {
          "Correlation": -0.2,
          "Count": 7,
          "Negate": false,
          "Question": "C2N",
          "Trait1": "REGULARITY",
          "Trait2": "MAGNITUDE"
         },
         {
          "Correlation": -0.2,
          "Count": 5,
          "Negate": true,
          "Question": "C2N",
          "Trait1": "REGULARITY",
          "Trait2": "MAGNITUDE"
         },
         {
          "Correlation": -0.2,
          "Count": 8,
          "Negate": false,
          "Question": "C2N",
          "Trait1": "REGULARITY",
          "Trait2": "POSITION"
         },
         {
          "Correlation": -0.2,
          "Count": 5,
          "Negate": true,
          "Question": "C2N",
          "Trait1": "REGULARITY",
          "Trait2": "POSITION"
         },
         {
          "Correlation": 0.2,
          "Count": 3,
          "Negate": false,
          "Question": "C2P",
          "Trait1": "DIRECTION",
          "Trait2": "DISCERNIBILITY"
         },
         {
          "Correlation": 0.2,
          "Count": 13,
          "Negate": false,
          "Question": "C2P",
          "Trait1": "DIRECTION",
          "Trait2": "MAGNITUDE"
         },
         {
          "Correlation": 0.2,
          "Count": 1,
          "Negate": true,
          "Question": "C2P",
          "Trait1": "DIRECTION",
          "Trait2": "MAGNITUDE"
         },
         {
          "Correlation": 0.2,
          "Count": 7,
          "Negate": false,
          "Question": "C2P",
          "Trait1": "DIRECTION",
          "Trait2": "POSITION"
         },
         {
          "Correlation": 0.2,
          "Count": 1,
          "Negate": true,
          "Question": "C2P",
          "Trait1": "DIRECTION",
          "Trait2": "POSITION"
         },
         {
          "Correlation": 0.2,
          "Count": 3,
          "Negate": false,
          "Question": "C2P",
          "Trait1": "DISCERNIBILITY",
          "Trait2": "DIRECTION"
         },
         {
          "Correlation": 0.2,
          "Count": 7,
          "Negate": false,
          "Question": "C2P",
          "Trait1": "DISCERNIBILITY",
          "Trait2": "MAGNITUDE"
         },
         {
          "Correlation": 0.2,
          "Count": 5,
          "Negate": true,
          "Question": "C2P",
          "Trait1": "DISCERNIBILITY",
          "Trait2": "MAGNITUDE"
         },
         {
          "Correlation": 0.2,
          "Count": 5,
          "Negate": false,
          "Question": "C2P",
          "Trait1": "DISCERNIBILITY",
          "Trait2": "POSITION"
         },
         {
          "Correlation": 0.2,
          "Count": 12,
          "Negate": true,
          "Question": "C2P",
          "Trait1": "DISCERNIBILITY",
          "Trait2": "POSITION"
         },
         {
          "Correlation": 0.2,
          "Count": 3,
          "Negate": true,
          "Question": "C2P",
          "Trait1": "DISCERNIBILITY",
          "Trait2": "REGULARITY"
         },
         {
          "Correlation": 0.2,
          "Count": 13,
          "Negate": false,
          "Question": "C2P",
          "Trait1": "MAGNITUDE",
          "Trait2": "DIRECTION"
         },
         {
          "Correlation": 0.2,
          "Count": 1,
          "Negate": true,
          "Question": "C2P",
          "Trait1": "MAGNITUDE",
          "Trait2": "DIRECTION"
         },
         {
          "Correlation": 0.2,
          "Count": 7,
          "Negate": false,
          "Question": "C2P",
          "Trait1": "MAGNITUDE",
          "Trait2": "DISCERNIBILITY"
         },
         {
          "Correlation": 0.2,
          "Count": 5,
          "Negate": true,
          "Question": "C2P",
          "Trait1": "MAGNITUDE",
          "Trait2": "DISCERNIBILITY"
         },
         {
          "Correlation": 0.2,
          "Count": 43,
          "Negate": false,
          "Question": "C2P",
          "Trait1": "MAGNITUDE",
          "Trait2": "POSITION"
         },
         {
          "Correlation": 0.2,
          "Count": 10,
          "Negate": true,
          "Question": "C2P",
          "Trait1": "MAGNITUDE",
          "Trait2": "POSITION"
         },
         {
          "Correlation": 0.2,
          "Count": 5,
          "Negate": false,
          "Question": "C2P",
          "Trait1": "MAGNITUDE",
          "Trait2": "REGULARITY"
         },
         {
          "Correlation": 0.2,
          "Count": 3,
          "Negate": true,
          "Question": "C2P",
          "Trait1": "MAGNITUDE",
          "Trait2": "REGULARITY"
         },
         {
          "Correlation": 0.2,
          "Count": 7,
          "Negate": false,
          "Question": "C2P",
          "Trait1": "POSITION",
          "Trait2": "DIRECTION"
         },
         {
          "Correlation": 0.2,
          "Count": 1,
          "Negate": true,
          "Question": "C2P",
          "Trait1": "POSITION",
          "Trait2": "DIRECTION"
         },
         {
          "Correlation": 0.2,
          "Count": 5,
          "Negate": false,
          "Question": "C2P",
          "Trait1": "POSITION",
          "Trait2": "DISCERNIBILITY"
         },
         {
          "Correlation": 0.2,
          "Count": 12,
          "Negate": true,
          "Question": "C2P",
          "Trait1": "POSITION",
          "Trait2": "DISCERNIBILITY"
         },
         {
          "Correlation": 0.2,
          "Count": 43,
          "Negate": false,
          "Question": "C2P",
          "Trait1": "POSITION",
          "Trait2": "MAGNITUDE"
         },
         {
          "Correlation": 0.2,
          "Count": 10,
          "Negate": true,
          "Question": "C2P",
          "Trait1": "POSITION",
          "Trait2": "MAGNITUDE"
         },
         {
          "Correlation": 0.2,
          "Count": 4,
          "Negate": false,
          "Question": "C2P",
          "Trait1": "POSITION",
          "Trait2": "REGULARITY"
         },
         {
          "Correlation": 0.2,
          "Count": 5,
          "Negate": true,
          "Question": "C2P",
          "Trait1": "POSITION",
          "Trait2": "REGULARITY"
         },
         {
          "Correlation": 0.2,
          "Count": 3,
          "Negate": true,
          "Question": "C2P",
          "Trait1": "REGULARITY",
          "Trait2": "DISCERNIBILITY"
         },
         {
          "Correlation": 0.2,
          "Count": 5,
          "Negate": false,
          "Question": "C2P",
          "Trait1": "REGULARITY",
          "Trait2": "MAGNITUDE"
         },
         {
          "Correlation": 0.2,
          "Count": 3,
          "Negate": true,
          "Question": "C2P",
          "Trait1": "REGULARITY",
          "Trait2": "MAGNITUDE"
         },
         {
          "Correlation": 0.2,
          "Count": 4,
          "Negate": false,
          "Question": "C2P",
          "Trait1": "REGULARITY",
          "Trait2": "POSITION"
         },
         {
          "Correlation": 0.2,
          "Count": 5,
          "Negate": true,
          "Question": "C2P",
          "Trait1": "REGULARITY",
          "Trait2": "POSITION"
         },
         {
          "Correlation": -0.4,
          "Count": 3,
          "Negate": false,
          "Question": "C4N",
          "Trait1": "DIRECTION",
          "Trait2": "DISCERNIBILITY"
         },
         {
          "Correlation": -0.4,
          "Count": 2,
          "Negate": true,
          "Question": "C4N",
          "Trait1": "DIRECTION",
          "Trait2": "DISCERNIBILITY"
         },
         {
          "Correlation": -0.4,
          "Count": 18,
          "Negate": false,
          "Question": "C4N",
          "Trait1": "DIRECTION",
          "Trait2": "MAGNITUDE"
         },
         {
          "Correlation": -0.4,
          "Count": 3,
          "Negate": true,
          "Question": "C4N",
          "Trait1": "DIRECTION",
          "Trait2": "MAGNITUDE"
         },
         {
          "Correlation": -0.4,
          "Count": 12,
          "Negate": false,
          "Question": "C4N",
          "Trait1": "DIRECTION",
          "Trait2": "POSITION"
         },
         {
          "Correlation": -0.4,
          "Count": 1,
          "Negate": true,
          "Question": "C4N",
          "Trait1": "DIRECTION",
          "Trait2": "POSITION"
         },
         {
          "Correlation": -0.4,
          "Count": 2,
          "Negate": false,
          "Question": "C4N",
          "Trait1": "DIRECTION",
          "Trait2": "REGULARITY"
         },
         {
          "Correlation": -0.4,
          "Count": 1,
          "Negate": true,
          "Question": "C4N",
          "Trait1": "DIRECTION",
          "Trait2": "REGULARITY"
         },
         {
          "Correlation": -0.4,
          "Count": 3,
          "Negate": false,
          "Question": "C4N",
          "Trait1": "DISCERNIBILITY",
          "Trait2": "DIRECTION"
         },
         {
          "Correlation": -0.4,
          "Count": 2,
          "Negate": true,
          "Question": "C4N",
          "Trait1": "DISCERNIBILITY",
          "Trait2": "DIRECTION"
         },
         {
          "Correlation": -0.4,
          "Count": 4,
          "Negate": false,
          "Question": "C4N",
          "Trait1": "DISCERNIBILITY",
          "Trait2": "MAGNITUDE"
         },
         {
          "Correlation": -0.4,
          "Count": 7,
          "Negate": true,
          "Question": "C4N",
          "Trait1": "DISCERNIBILITY",
          "Trait2": "MAGNITUDE"
         },
         {
          "Correlation": -0.4,
          "Count": 4,
          "Negate": false,
          "Question": "C4N",
          "Trait1": "DISCERNIBILITY",
          "Trait2": "POSITION"
         },
         {
          "Correlation": -0.4,
          "Count": 12,
          "Negate": true,
          "Question": "C4N",
          "Trait1": "DISCERNIBILITY",
          "Trait2": "POSITION"
         },
         {
          "Correlation": -0.4,
          "Count": 1,
          "Negate": true,
          "Question": "C4N",
          "Trait1": "DISCERNIBILITY",
          "Trait2": "REGULARITY"
         },
         {
          "Correlation": -0.4,
          "Count": 18,
          "Negate": false,
          "Question": "C4N",
          "Trait1": "MAGNITUDE",
          "Trait2": "DIRECTION"
         },
         {
          "Correlation": -0.4,
          "Count": 3,
          "Negate": true,
          "Question": "C4N",
          "Trait1": "MAGNITUDE",
          "Trait2": "DIRECTION"
         },
         {
          "Correlation": -0.4,
          "Count": 4,
          "Negate": false,
          "Question": "C4N",
          "Trait1": "MAGNITUDE",
          "Trait2": "DISCERNIBILITY"
         },
         {
          "Correlation": -0.4,
          "Count": 7,
          "Negate": true,
          "Question": "C4N",
          "Trait1": "MAGNITUDE",
          "Trait2": "DISCERNIBILITY"
         },
         {
          "Correlation": -0.4,
          "Count": 33,
          "Negate": false,
          "Question": "C4N",
          "Trait1": "MAGNITUDE",
          "Trait2": "POSITION"
         },
         {
          "Correlation": -0.4,
          "Count": 8,
          "Negate": true,
          "Question": "C4N",
          "Trait1": "MAGNITUDE",
          "Trait2": "POSITION"
         },
         {
          "Correlation": -0.4,
          "Count": 3,
          "Negate": false,
          "Question": "C4N",
          "Trait1": "MAGNITUDE",
          "Trait2": "REGULARITY"
         },
         {
          "Correlation": -0.4,
          "Count": 3,
          "Negate": true,
          "Question": "C4N",
          "Trait1": "MAGNITUDE",
          "Trait2": "REGULARITY"
         },
         {
          "Correlation": -0.4,
          "Count": 12,
          "Negate": false,
          "Question": "C4N",
          "Trait1": "POSITION",
          "Trait2": "DIRECTION"
         },
         {
          "Correlation": -0.4,
          "Count": 1,
          "Negate": true,
          "Question": "C4N",
          "Trait1": "POSITION",
          "Trait2": "DIRECTION"
         },
         {
          "Correlation": -0.4,
          "Count": 4,
          "Negate": false,
          "Question": "C4N",
          "Trait1": "POSITION",
          "Trait2": "DISCERNIBILITY"
         },
         {
          "Correlation": -0.4,
          "Count": 12,
          "Negate": true,
          "Question": "C4N",
          "Trait1": "POSITION",
          "Trait2": "DISCERNIBILITY"
         },
         {
          "Correlation": -0.4,
          "Count": 33,
          "Negate": false,
          "Question": "C4N",
          "Trait1": "POSITION",
          "Trait2": "MAGNITUDE"
         },
         {
          "Correlation": -0.4,
          "Count": 8,
          "Negate": true,
          "Question": "C4N",
          "Trait1": "POSITION",
          "Trait2": "MAGNITUDE"
         },
         {
          "Correlation": -0.4,
          "Count": 7,
          "Negate": false,
          "Question": "C4N",
          "Trait1": "POSITION",
          "Trait2": "REGULARITY"
         },
         {
          "Correlation": -0.4,
          "Count": 4,
          "Negate": true,
          "Question": "C4N",
          "Trait1": "POSITION",
          "Trait2": "REGULARITY"
         },
         {
          "Correlation": -0.4,
          "Count": 2,
          "Negate": false,
          "Question": "C4N",
          "Trait1": "REGULARITY",
          "Trait2": "DIRECTION"
         },
         {
          "Correlation": -0.4,
          "Count": 1,
          "Negate": true,
          "Question": "C4N",
          "Trait1": "REGULARITY",
          "Trait2": "DIRECTION"
         },
         {
          "Correlation": -0.4,
          "Count": 1,
          "Negate": true,
          "Question": "C4N",
          "Trait1": "REGULARITY",
          "Trait2": "DISCERNIBILITY"
         },
         {
          "Correlation": -0.4,
          "Count": 3,
          "Negate": false,
          "Question": "C4N",
          "Trait1": "REGULARITY",
          "Trait2": "MAGNITUDE"
         },
         {
          "Correlation": -0.4,
          "Count": 3,
          "Negate": true,
          "Question": "C4N",
          "Trait1": "REGULARITY",
          "Trait2": "MAGNITUDE"
         },
         {
          "Correlation": -0.4,
          "Count": 7,
          "Negate": false,
          "Question": "C4N",
          "Trait1": "REGULARITY",
          "Trait2": "POSITION"
         },
         {
          "Correlation": -0.4,
          "Count": 4,
          "Negate": true,
          "Question": "C4N",
          "Trait1": "REGULARITY",
          "Trait2": "POSITION"
         },
         {
          "Correlation": 0.4,
          "Count": 4,
          "Negate": false,
          "Question": "C4P",
          "Trait1": "DIRECTION",
          "Trait2": "DISCERNIBILITY"
         },
         {
          "Correlation": 0.4,
          "Count": 1,
          "Negate": true,
          "Question": "C4P",
          "Trait1": "DIRECTION",
          "Trait2": "DISCERNIBILITY"
         },
         {
          "Correlation": 0.4,
          "Count": 24,
          "Negate": false,
          "Question": "C4P",
          "Trait1": "DIRECTION",
          "Trait2": "MAGNITUDE"
         },
         {
          "Correlation": 0.4,
          "Count": 2,
          "Negate": true,
          "Question": "C4P",
          "Trait1": "DIRECTION",
          "Trait2": "MAGNITUDE"
         },
         {
          "Correlation": 0.4,
          "Count": 17,
          "Negate": false,
          "Question": "C4P",
          "Trait1": "DIRECTION",
          "Trait2": "POSITION"
         },
         {
          "Correlation": 0.4,
          "Count": 2,
          "Negate": true,
          "Question": "C4P",
          "Trait1": "DIRECTION",
          "Trait2": "POSITION"
         },
         {
          "Correlation": 0.4,
          "Count": 7,
          "Negate": false,
          "Question": "C4P",
          "Trait1": "DIRECTION",
          "Trait2": "REGULARITY"
         },
         {
          "Correlation": 0.4,
          "Count": 2,
          "Negate": true,
          "Question": "C4P",
          "Trait1": "DIRECTION",
          "Trait2": "REGULARITY"
         },
         {
          "Correlation": 0.4,
          "Count": 4,
          "Negate": false,
          "Question": "C4P",
          "Trait1": "DISCERNIBILITY",
          "Trait2": "DIRECTION"
         },
         {
          "Correlation": 0.4,
          "Count": 1,
          "Negate": true,
          "Question": "C4P",
          "Trait1": "DISCERNIBILITY",
          "Trait2": "DIRECTION"
         },
         {
          "Correlation": 0.4,
          "Count": 3,
          "Negate": false,
          "Question": "C4P",
          "Trait1": "DISCERNIBILITY",
          "Trait2": "MAGNITUDE"
         },
         {
          "Correlation": 0.4,
          "Count": 3,
          "Negate": true,
          "Question": "C4P",
          "Trait1": "DISCERNIBILITY",
          "Trait2": "MAGNITUDE"
         },
         {
          "Correlation": 0.4,
          "Count": 3,
          "Negate": false,
          "Question": "C4P",
          "Trait1": "DISCERNIBILITY",
          "Trait2": "POSITION"
         },
         {
          "Correlation": 0.4,
          "Count": 10,
          "Negate": true,
          "Question": "C4P",
          "Trait1": "DISCERNIBILITY",
          "Trait2": "POSITION"
         },
         {
          "Correlation": 0.4,
          "Count": 1,
          "Negate": false,
          "Question": "C4P",
          "Trait1": "DISCERNIBILITY",
          "Trait2": "REGULARITY"
         },
         {
          "Correlation": 0.4,
          "Count": 2,
          "Negate": true,
          "Question": "C4P",
          "Trait1": "DISCERNIBILITY",
          "Trait2": "REGULARITY"
         },
         {
          "Correlation": 0.4,
          "Count": 24,
          "Negate": false,
          "Question": "C4P",
          "Trait1": "MAGNITUDE",
          "Trait2": "DIRECTION"
         },
         {
          "Correlation": 0.4,
          "Count": 2,
          "Negate": true,
          "Question": "C4P",
          "Trait1": "MAGNITUDE",
          "Trait2": "DIRECTION"
         },
         {
          "Correlation": 0.4,
          "Count": 3,
          "Negate": false,
          "Question": "C4P",
          "Trait1": "MAGNITUDE",
          "Trait2": "DISCERNIBILITY"
         },
         {
          "Correlation": 0.4,
          "Count": 3,
          "Negate": true,
          "Question": "C4P",
          "Trait1": "MAGNITUDE",
          "Trait2": "DISCERNIBILITY"
         },
         {
          "Correlation": 0.4,
          "Count": 42,
          "Negate": false,
          "Question": "C4P",
          "Trait1": "MAGNITUDE",
          "Trait2": "POSITION"
         },
         {
          "Correlation": 0.4,
          "Count": 8,
          "Negate": true,
          "Question": "C4P",
          "Trait1": "MAGNITUDE",
          "Trait2": "POSITION"
         },
         {
          "Correlation": 0.4,
          "Count": 14,
          "Negate": false,
          "Question": "C4P",
          "Trait1": "MAGNITUDE",
          "Trait2": "REGULARITY"
         },
         {
          "Correlation": 0.4,
          "Count": 6,
          "Negate": true,
          "Question": "C4P",
          "Trait1": "MAGNITUDE",
          "Trait2": "REGULARITY"
         },
         {
          "Correlation": 0.4,
          "Count": 17,
          "Negate": false,
          "Question": "C4P",
          "Trait1": "POSITION",
          "Trait2": "DIRECTION"
         },
         {
          "Correlation": 0.4,
          "Count": 2,
          "Negate": true,
          "Question": "C4P",
          "Trait1": "POSITION",
          "Trait2": "DIRECTION"
         },
         {
          "Correlation": 0.4,
          "Count": 3,
          "Negate": false,
          "Question": "C4P",
          "Trait1": "POSITION",
          "Trait2": "DISCERNIBILITY"
         },
         {
          "Correlation": 0.4,
          "Count": 10,
          "Negate": true,
          "Question": "C4P",
          "Trait1": "POSITION",
          "Trait2": "DISCERNIBILITY"
         },
         {
          "Correlation": 0.4,
          "Count": 42,
          "Negate": false,
          "Question": "C4P",
          "Trait1": "POSITION",
          "Trait2": "MAGNITUDE"
         },
         {
          "Correlation": 0.4,
          "Count": 8,
          "Negate": true,
          "Question": "C4P",
          "Trait1": "POSITION",
          "Trait2": "MAGNITUDE"
         },
         {
          "Correlation": 0.4,
          "Count": 13,
          "Negate": false,
          "Question": "C4P",
          "Trait1": "POSITION",
          "Trait2": "REGULARITY"
         },
         {
          "Correlation": 0.4,
          "Count": 5,
          "Negate": true,
          "Question": "C4P",
          "Trait1": "POSITION",
          "Trait2": "REGULARITY"
         },
         {
          "Correlation": 0.4,
          "Count": 7,
          "Negate": false,
          "Question": "C4P",
          "Trait1": "REGULARITY",
          "Trait2": "DIRECTION"
         },
         {
          "Correlation": 0.4,
          "Count": 2,
          "Negate": true,
          "Question": "C4P",
          "Trait1": "REGULARITY",
          "Trait2": "DIRECTION"
         },
         {
          "Correlation": 0.4,
          "Count": 1,
          "Negate": false,
          "Question": "C4P",
          "Trait1": "REGULARITY",
          "Trait2": "DISCERNIBILITY"
         },
         {
          "Correlation": 0.4,
          "Count": 2,
          "Negate": true,
          "Question": "C4P",
          "Trait1": "REGULARITY",
          "Trait2": "DISCERNIBILITY"
         },
         {
          "Correlation": 0.4,
          "Count": 14,
          "Negate": false,
          "Question": "C4P",
          "Trait1": "REGULARITY",
          "Trait2": "MAGNITUDE"
         },
         {
          "Correlation": 0.4,
          "Count": 6,
          "Negate": true,
          "Question": "C4P",
          "Trait1": "REGULARITY",
          "Trait2": "MAGNITUDE"
         },
         {
          "Correlation": 0.4,
          "Count": 13,
          "Negate": false,
          "Question": "C4P",
          "Trait1": "REGULARITY",
          "Trait2": "POSITION"
         },
         {
          "Correlation": 0.4,
          "Count": 5,
          "Negate": true,
          "Question": "C4P",
          "Trait1": "REGULARITY",
          "Trait2": "POSITION"
         },
         {
          "Correlation": -0.6,
          "Count": 7,
          "Negate": false,
          "Question": "C6N",
          "Trait1": "DIRECTION",
          "Trait2": "DISCERNIBILITY"
         },
         {
          "Correlation": -0.6,
          "Count": 24,
          "Negate": false,
          "Question": "C6N",
          "Trait1": "DIRECTION",
          "Trait2": "MAGNITUDE"
         },
         {
          "Correlation": -0.6,
          "Count": 2,
          "Negate": true,
          "Question": "C6N",
          "Trait1": "DIRECTION",
          "Trait2": "MAGNITUDE"
         },
         {
          "Correlation": -0.6,
          "Count": 22,
          "Negate": false,
          "Question": "C6N",
          "Trait1": "DIRECTION",
          "Trait2": "POSITION"
         },
         {
          "Correlation": -0.6,
          "Count": 8,
          "Negate": false,
          "Question": "C6N",
          "Trait1": "DIRECTION",
          "Trait2": "REGULARITY"
         },
         {
          "Correlation": -0.6,
          "Count": 1,
          "Negate": true,
          "Question": "C6N",
          "Trait1": "DIRECTION",
          "Trait2": "REGULARITY"
         },
         {
          "Correlation": -0.6,
          "Count": 7,
          "Negate": false,
          "Question": "C6N",
          "Trait1": "DISCERNIBILITY",
          "Trait2": "DIRECTION"
         },
         {
          "Correlation": -0.6,
          "Count": 3,
          "Negate": false,
          "Question": "C6N",
          "Trait1": "DISCERNIBILITY",
          "Trait2": "MAGNITUDE"
         },
         {
          "Correlation": -0.6,
          "Count": 7,
          "Negate": false,
          "Question": "C6N",
          "Trait1": "DISCERNIBILITY",
          "Trait2": "POSITION"
         },
         {
          "Correlation": -0.6,
          "Count": 1,
          "Negate": true,
          "Question": "C6N",
          "Trait1": "DISCERNIBILITY",
          "Trait2": "POSITION"
         },
         {
          "Correlation": -0.6,
          "Count": 3,
          "Negate": false,
          "Question": "C6N",
          "Trait1": "DISCERNIBILITY",
          "Trait2": "REGULARITY"
         },
         {
          "Correlation": -0.6,
          "Count": 24,
          "Negate": false,
          "Question": "C6N",
          "Trait1": "MAGNITUDE",
          "Trait2": "DIRECTION"
         },
         {
          "Correlation": -0.6,
          "Count": 2,
          "Negate": true,
          "Question": "C6N",
          "Trait1": "MAGNITUDE",
          "Trait2": "DIRECTION"
         },
         {
          "Correlation": -0.6,
          "Count": 3,
          "Negate": false,
          "Question": "C6N",
          "Trait1": "MAGNITUDE",
          "Trait2": "DISCERNIBILITY"
         },
         {
          "Correlation": -0.6,
          "Count": 25,
          "Negate": false,
          "Question": "C6N",
          "Trait1": "MAGNITUDE",
          "Trait2": "POSITION"
         },
         {
          "Correlation": -0.6,
          "Count": 8,
          "Negate": true,
          "Question": "C6N",
          "Trait1": "MAGNITUDE",
          "Trait2": "POSITION"
         },
         {
          "Correlation": -0.6,
          "Count": 9,
          "Negate": false,
          "Question": "C6N",
          "Trait1": "MAGNITUDE",
          "Trait2": "REGULARITY"
         },
         {
          "Correlation": -0.6,
          "Count": 3,
          "Negate": true,
          "Question": "C6N",
          "Trait1": "MAGNITUDE",
          "Trait2": "REGULARITY"
         },
         {
          "Correlation": -0.6,
          "Count": 22,
          "Negate": false,
          "Question": "C6N",
          "Trait1": "POSITION",
          "Trait2": "DIRECTION"
         },
         {
          "Correlation": -0.6,
          "Count": 7,
          "Negate": false,
          "Question": "C6N",
          "Trait1": "POSITION",
          "Trait2": "DISCERNIBILITY"
         },
         {
          "Correlation": -0.6,
          "Count": 1,
          "Negate": true,
          "Question": "C6N",
          "Trait1": "POSITION",
          "Trait2": "DISCERNIBILITY"
         },
         {
          "Correlation": -0.6,
          "Count": 25,
          "Negate": false,
          "Question": "C6N",
          "Trait1": "POSITION",
          "Trait2": "MAGNITUDE"
         },
         {
          "Correlation": -0.6,
          "Count": 8,
          "Negate": true,
          "Question": "C6N",
          "Trait1": "POSITION",
          "Trait2": "MAGNITUDE"
         },
         {
          "Correlation": -0.6,
          "Count": 11,
          "Negate": false,
          "Question": "C6N",
          "Trait1": "POSITION",
          "Trait2": "REGULARITY"
         },
         {
          "Correlation": -0.6,
          "Count": 2,
          "Negate": true,
          "Question": "C6N",
          "Trait1": "POSITION",
          "Trait2": "REGULARITY"
         },
         {
          "Correlation": -0.6,
          "Count": 8,
          "Negate": false,
          "Question": "C6N",
          "Trait1": "REGULARITY",
          "Trait2": "DIRECTION"
         },
         {
          "Correlation": -0.6,
          "Count": 1,
          "Negate": true,
          "Question": "C6N",
          "Trait1": "REGULARITY",
          "Trait2": "DIRECTION"
         },
         {
          "Correlation": -0.6,
          "Count": 3,
          "Negate": false,
          "Question": "C6N",
          "Trait1": "REGULARITY",
          "Trait2": "DISCERNIBILITY"
         },
         {
          "Correlation": -0.6,
          "Count": 9,
          "Negate": false,
          "Question": "C6N",
          "Trait1": "REGULARITY",
          "Trait2": "MAGNITUDE"
         },
         {
          "Correlation": -0.6,
          "Count": 3,
          "Negate": true,
          "Question": "C6N",
          "Trait1": "REGULARITY",
          "Trait2": "MAGNITUDE"
         },
         {
          "Correlation": -0.6,
          "Count": 11,
          "Negate": false,
          "Question": "C6N",
          "Trait1": "REGULARITY",
          "Trait2": "POSITION"
         },
         {
          "Correlation": -0.6,
          "Count": 2,
          "Negate": true,
          "Question": "C6N",
          "Trait1": "REGULARITY",
          "Trait2": "POSITION"
         },
         {
          "Correlation": 0.6,
          "Count": 4,
          "Negate": false,
          "Question": "C6P",
          "Trait1": "DIRECTION",
          "Trait2": "DISCERNIBILITY"
         },
         {
          "Correlation": 0.6,
          "Count": 22,
          "Negate": false,
          "Question": "C6P",
          "Trait1": "DIRECTION",
          "Trait2": "MAGNITUDE"
         },
         {
          "Correlation": 0.6,
          "Count": 5,
          "Negate": true,
          "Question": "C6P",
          "Trait1": "DIRECTION",
          "Trait2": "MAGNITUDE"
         },
         {
          "Correlation": 0.6,
          "Count": 23,
          "Negate": false,
          "Question": "C6P",
          "Trait1": "DIRECTION",
          "Trait2": "POSITION"
         },
         {
          "Correlation": 0.6,
          "Count": 3,
          "Negate": true,
          "Question": "C6P",
          "Trait1": "DIRECTION",
          "Trait2": "POSITION"
         },
         {
          "Correlation": 0.6,
          "Count": 7,
          "Negate": false,
          "Question": "C6P",
          "Trait1": "DIRECTION",
          "Trait2": "REGULARITY"
         },
         {
          "Correlation": 0.6,
          "Count": 1,
          "Negate": true,
          "Question": "C6P",
          "Trait1": "DIRECTION",
          "Trait2": "REGULARITY"
         },
         {
          "Correlation": 0.6,
          "Count": 4,
          "Negate": false,
          "Question": "C6P",
          "Trait1": "DISCERNIBILITY",
          "Trait2": "DIRECTION"
         },
         {
          "Correlation": 0.6,
          "Count": 5,
          "Negate": false,
          "Question": "C6P",
          "Trait1": "DISCERNIBILITY",
          "Trait2": "MAGNITUDE"
         },
         {
          "Correlation": 0.6,
          "Count": 1,
          "Negate": true,
          "Question": "C6P",
          "Trait1": "DISCERNIBILITY",
          "Trait2": "MAGNITUDE"
         },
         {
          "Correlation": 0.6,
          "Count": 4,
          "Negate": false,
          "Question": "C6P",
          "Trait1": "DISCERNIBILITY",
          "Trait2": "POSITION"
         },
         {
          "Correlation": 0.6,
          "Count": 1,
          "Negate": true,
          "Question": "C6P",
          "Trait1": "DISCERNIBILITY",
          "Trait2": "POSITION"
         },
         {
          "Correlation": 0.6,
          "Count": 1,
          "Negate": false,
          "Question": "C6P",
          "Trait1": "DISCERNIBILITY",
          "Trait2": "REGULARITY"
         },
         {
          "Correlation": 0.6,
          "Count": 1,
          "Negate": true,
          "Question": "C6P",
          "Trait1": "DISCERNIBILITY",
          "Trait2": "REGULARITY"
         },
         {
          "Correlation": 0.6,
          "Count": 22,
          "Negate": false,
          "Question": "C6P",
          "Trait1": "MAGNITUDE",
          "Trait2": "DIRECTION"
         },
         {
          "Correlation": 0.6,
          "Count": 5,
          "Negate": true,
          "Question": "C6P",
          "Trait1": "MAGNITUDE",
          "Trait2": "DIRECTION"
         },
         {
          "Correlation": 0.6,
          "Count": 5,
          "Negate": false,
          "Question": "C6P",
          "Trait1": "MAGNITUDE",
          "Trait2": "DISCERNIBILITY"
         },
         {
          "Correlation": 0.6,
          "Count": 1,
          "Negate": true,
          "Question": "C6P",
          "Trait1": "MAGNITUDE",
          "Trait2": "DISCERNIBILITY"
         },
         {
          "Correlation": 0.6,
          "Count": 36,
          "Negate": false,
          "Question": "C6P",
          "Trait1": "MAGNITUDE",
          "Trait2": "POSITION"
         },
         {
          "Correlation": 0.6,
          "Count": 3,
          "Negate": true,
          "Question": "C6P",
          "Trait1": "MAGNITUDE",
          "Trait2": "POSITION"
         },
         {
          "Correlation": 0.6,
          "Count": 14,
          "Negate": false,
          "Question": "C6P",
          "Trait1": "MAGNITUDE",
          "Trait2": "REGULARITY"
         },
         {
          "Correlation": 0.6,
          "Count": 1,
          "Negate": true,
          "Question": "C6P",
          "Trait1": "MAGNITUDE",
          "Trait2": "REGULARITY"
         },
         {
          "Correlation": 0.6,
          "Count": 23,
          "Negate": false,
          "Question": "C6P",
          "Trait1": "POSITION",
          "Trait2": "DIRECTION"
         },
         {
          "Correlation": 0.6,
          "Count": 3,
          "Negate": true,
          "Question": "C6P",
          "Trait1": "POSITION",
          "Trait2": "DIRECTION"
         },
         {
          "Correlation": 0.6,
          "Count": 4,
          "Negate": false,
          "Question": "C6P",
          "Trait1": "POSITION",
          "Trait2": "DISCERNIBILITY"
         },
         {
          "Correlation": 0.6,
          "Count": 1,
          "Negate": true,
          "Question": "C6P",
          "Trait1": "POSITION",
          "Trait2": "DISCERNIBILITY"
         },
         {
          "Correlation": 0.6,
          "Count": 36,
          "Negate": false,
          "Question": "C6P",
          "Trait1": "POSITION",
          "Trait2": "MAGNITUDE"
         },
         {
          "Correlation": 0.6,
          "Count": 3,
          "Negate": true,
          "Question": "C6P",
          "Trait1": "POSITION",
          "Trait2": "MAGNITUDE"
         },
         {
          "Correlation": 0.6,
          "Count": 17,
          "Negate": false,
          "Question": "C6P",
          "Trait1": "POSITION",
          "Trait2": "REGULARITY"
         },
         {
          "Correlation": 0.6,
          "Count": 1,
          "Negate": true,
          "Question": "C6P",
          "Trait1": "POSITION",
          "Trait2": "REGULARITY"
         },
         {
          "Correlation": 0.6,
          "Count": 7,
          "Negate": false,
          "Question": "C6P",
          "Trait1": "REGULARITY",
          "Trait2": "DIRECTION"
         },
         {
          "Correlation": 0.6,
          "Count": 1,
          "Negate": true,
          "Question": "C6P",
          "Trait1": "REGULARITY",
          "Trait2": "DIRECTION"
         },
         {
          "Correlation": 0.6,
          "Count": 1,
          "Negate": false,
          "Question": "C6P",
          "Trait1": "REGULARITY",
          "Trait2": "DISCERNIBILITY"
         },
         {
          "Correlation": 0.6,
          "Count": 1,
          "Negate": true,
          "Question": "C6P",
          "Trait1": "REGULARITY",
          "Trait2": "DISCERNIBILITY"
         },
         {
          "Correlation": 0.6,
          "Count": 14,
          "Negate": false,
          "Question": "C6P",
          "Trait1": "REGULARITY",
          "Trait2": "MAGNITUDE"
         },
         {
          "Correlation": 0.6,
          "Count": 1,
          "Negate": true,
          "Question": "C6P",
          "Trait1": "REGULARITY",
          "Trait2": "MAGNITUDE"
         },
         {
          "Correlation": 0.6,
          "Count": 17,
          "Negate": false,
          "Question": "C6P",
          "Trait1": "REGULARITY",
          "Trait2": "POSITION"
         },
         {
          "Correlation": 0.6,
          "Count": 1,
          "Negate": true,
          "Question": "C6P",
          "Trait1": "REGULARITY",
          "Trait2": "POSITION"
         },
         {
          "Correlation": -0.8,
          "Count": 7,
          "Negate": false,
          "Question": "C8N",
          "Trait1": "DIRECTION",
          "Trait2": "DISCERNIBILITY"
         },
         {
          "Correlation": -0.8,
          "Count": 23,
          "Negate": false,
          "Question": "C8N",
          "Trait1": "DIRECTION",
          "Trait2": "MAGNITUDE"
         },
         {
          "Correlation": -0.8,
          "Count": 28,
          "Negate": false,
          "Question": "C8N",
          "Trait1": "DIRECTION",
          "Trait2": "POSITION"
         },
         {
          "Correlation": -0.8,
          "Count": 14,
          "Negate": false,
          "Question": "C8N",
          "Trait1": "DIRECTION",
          "Trait2": "REGULARITY"
         },
         {
          "Correlation": -0.8,
          "Count": 7,
          "Negate": false,
          "Question": "C8N",
          "Trait1": "DISCERNIBILITY",
          "Trait2": "DIRECTION"
         },
         {
          "Correlation": -0.8,
          "Count": 5,
          "Negate": false,
          "Question": "C8N",
          "Trait1": "DISCERNIBILITY",
          "Trait2": "MAGNITUDE"
         },
         {
          "Correlation": -0.8,
          "Count": 2,
          "Negate": true,
          "Question": "C8N",
          "Trait1": "DISCERNIBILITY",
          "Trait2": "MAGNITUDE"
         },
         {
          "Correlation": -0.8,
          "Count": 7,
          "Negate": false,
          "Question": "C8N",
          "Trait1": "DISCERNIBILITY",
          "Trait2": "POSITION"
         },
         {
          "Correlation": -0.8,
          "Count": 1,
          "Negate": true,
          "Question": "C8N",
          "Trait1": "DISCERNIBILITY",
          "Trait2": "POSITION"
         },
         {
          "Correlation": -0.8,
          "Count": 1,
          "Negate": false,
          "Question": "C8N",
          "Trait1": "DISCERNIBILITY",
          "Trait2": "REGULARITY"
         },
         {
          "Correlation": -0.8,
          "Count": 23,
          "Negate": false,
          "Question": "C8N",
          "Trait1": "MAGNITUDE",
          "Trait2": "DIRECTION"
         },
         {
          "Correlation": -0.8,
          "Count": 5,
          "Negate": false,
          "Question": "C8N",
          "Trait1": "MAGNITUDE",
          "Trait2": "DISCERNIBILITY"
         },
         {
          "Correlation": -0.8,
          "Count": 2,
          "Negate": true,
          "Question": "C8N",
          "Trait1": "MAGNITUDE",
          "Trait2": "DISCERNIBILITY"
         },
         {
          "Correlation": -0.8,
          "Count": 22,
          "Negate": false,
          "Question": "C8N",
          "Trait1": "MAGNITUDE",
          "Trait2": "POSITION"
         },
         {
          "Correlation": -0.8,
          "Count": 1,
          "Negate": true,
          "Question": "C8N",
          "Trait1": "MAGNITUDE",
          "Trait2": "POSITION"
         },
         {
          "Correlation": -0.8,
          "Count": 9,
          "Negate": false,
          "Question": "C8N",
          "Trait1": "MAGNITUDE",
          "Trait2": "REGULARITY"
         },
         {
          "Correlation": -0.8,
          "Count": 28,
          "Negate": false,
          "Question": "C8N",
          "Trait1": "POSITION",
          "Trait2": "DIRECTION"
         },
         {
          "Correlation": -0.8,
          "Count": 7,
          "Negate": false,
          "Question": "C8N",
          "Trait1": "POSITION",
          "Trait2": "DISCERNIBILITY"
         },
         {
          "Correlation": -0.8,
          "Count": 1,
          "Negate": true,
          "Question": "C8N",
          "Trait1": "POSITION",
          "Trait2": "DISCERNIBILITY"
         },
         {
          "Correlation": -0.8,
          "Count": 22,
          "Negate": false,
          "Question": "C8N",
          "Trait1": "POSITION",
          "Trait2": "MAGNITUDE"
         },
         {
          "Correlation": -0.8,
          "Count": 1,
          "Negate": true,
          "Question": "C8N",
          "Trait1": "POSITION",
          "Trait2": "MAGNITUDE"
         },
         {
          "Correlation": -0.8,
          "Count": 13,
          "Negate": false,
          "Question": "C8N",
          "Trait1": "POSITION",
          "Trait2": "REGULARITY"
         },
         {
          "Correlation": -0.8,
          "Count": 1,
          "Negate": true,
          "Question": "C8N",
          "Trait1": "POSITION",
          "Trait2": "REGULARITY"
         },
         {
          "Correlation": -0.8,
          "Count": 14,
          "Negate": false,
          "Question": "C8N",
          "Trait1": "REGULARITY",
          "Trait2": "DIRECTION"
         },
         {
          "Correlation": -0.8,
          "Count": 1,
          "Negate": false,
          "Question": "C8N",
          "Trait1": "REGULARITY",
          "Trait2": "DISCERNIBILITY"
         },
         {
          "Correlation": -0.8,
          "Count": 9,
          "Negate": false,
          "Question": "C8N",
          "Trait1": "REGULARITY",
          "Trait2": "MAGNITUDE"
         },
         {
          "Correlation": -0.8,
          "Count": 13,
          "Negate": false,
          "Question": "C8N",
          "Trait1": "REGULARITY",
          "Trait2": "POSITION"
         },
         {
          "Correlation": -0.8,
          "Count": 1,
          "Negate": true,
          "Question": "C8N",
          "Trait1": "REGULARITY",
          "Trait2": "POSITION"
         },
         {
          "Correlation": 0.8,
          "Count": 4,
          "Negate": false,
          "Question": "C8P",
          "Trait1": "DIRECTION",
          "Trait2": "DISCERNIBILITY"
         },
         {
          "Correlation": 0.8,
          "Count": 20,
          "Negate": false,
          "Question": "C8P",
          "Trait1": "DIRECTION",
          "Trait2": "MAGNITUDE"
         },
         {
          "Correlation": 0.8,
          "Count": 1,
          "Negate": true,
          "Question": "C8P",
          "Trait1": "DIRECTION",
          "Trait2": "MAGNITUDE"
         },
         {
          "Correlation": 0.8,
          "Count": 21,
          "Negate": false,
          "Question": "C8P",
          "Trait1": "DIRECTION",
          "Trait2": "POSITION"
         },
         {
          "Correlation": 0.8,
          "Count": 9,
          "Negate": false,
          "Question": "C8P",
          "Trait1": "DIRECTION",
          "Trait2": "REGULARITY"
         },
         {
          "Correlation": 0.8,
          "Count": 1,
          "Negate": true,
          "Question": "C8P",
          "Trait1": "DIRECTION",
          "Trait2": "REGULARITY"
         },
         {
          "Correlation": 0.8,
          "Count": 4,
          "Negate": false,
          "Question": "C8P",
          "Trait1": "DISCERNIBILITY",
          "Trait2": "DIRECTION"
         },
         {
          "Correlation": 0.8,
          "Count": 5,
          "Negate": false,
          "Question": "C8P",
          "Trait1": "DISCERNIBILITY",
          "Trait2": "MAGNITUDE"
         },
         {
          "Correlation": 0.8,
          "Count": 10,
          "Negate": false,
          "Question": "C8P",
          "Trait1": "DISCERNIBILITY",
          "Trait2": "POSITION"
         },
         {
          "Correlation": 0.8,
          "Count": 4,
          "Negate": false,
          "Question": "C8P",
          "Trait1": "DISCERNIBILITY",
          "Trait2": "REGULARITY"
         },
         {
          "Correlation": 0.8,
          "Count": 20,
          "Negate": false,
          "Question": "C8P",
          "Trait1": "MAGNITUDE",
          "Trait2": "DIRECTION"
         },
         {
          "Correlation": 0.8,
          "Count": 1,
          "Negate": true,
          "Question": "C8P",
          "Trait1": "MAGNITUDE",
          "Trait2": "DIRECTION"
         },
         {
          "Correlation": 0.8,
          "Count": 5,
          "Negate": false,
          "Question": "C8P",
          "Trait1": "MAGNITUDE",
          "Trait2": "DISCERNIBILITY"
         },
         {
          "Correlation": 0.8,
          "Count": 33,
          "Negate": false,
          "Question": "C8P",
          "Trait1": "MAGNITUDE",
          "Trait2": "POSITION"
         },
         {
          "Correlation": 0.8,
          "Count": 16,
          "Negate": false,
          "Question": "C8P",
          "Trait1": "MAGNITUDE",
          "Trait2": "REGULARITY"
         },
         {
          "Correlation": 0.8,
          "Count": 1,
          "Negate": true,
          "Question": "C8P",
          "Trait1": "MAGNITUDE",
          "Trait2": "REGULARITY"
         },
         {
          "Correlation": 0.8,
          "Count": 21,
          "Negate": false,
          "Question": "C8P",
          "Trait1": "POSITION",
          "Trait2": "DIRECTION"
         },
         {
          "Correlation": 0.8,
          "Count": 10,
          "Negate": false,
          "Question": "C8P",
          "Trait1": "POSITION",
          "Trait2": "DISCERNIBILITY"
         },
         {
          "Correlation": 0.8,
          "Count": 33,
          "Negate": false,
          "Question": "C8P",
          "Trait1": "POSITION",
          "Trait2": "MAGNITUDE"
         },
         {
          "Correlation": 0.8,
          "Count": 21,
          "Negate": false,
          "Question": "C8P",
          "Trait1": "POSITION",
          "Trait2": "REGULARITY"
         },
         {
          "Correlation": 0.8,
          "Count": 9,
          "Negate": false,
          "Question": "C8P",
          "Trait1": "REGULARITY",
          "Trait2": "DIRECTION"
         },
         {
          "Correlation": 0.8,
          "Count": 1,
          "Negate": true,
          "Question": "C8P",
          "Trait1": "REGULARITY",
          "Trait2": "DIRECTION"
         },
         {
          "Correlation": 0.8,
          "Count": 4,
          "Negate": false,
          "Question": "C8P",
          "Trait1": "REGULARITY",
          "Trait2": "DISCERNIBILITY"
         },
         {
          "Correlation": 0.8,
          "Count": 16,
          "Negate": false,
          "Question": "C8P",
          "Trait1": "REGULARITY",
          "Trait2": "MAGNITUDE"
         },
         {
          "Correlation": 0.8,
          "Count": 1,
          "Negate": true,
          "Question": "C8P",
          "Trait1": "REGULARITY",
          "Trait2": "MAGNITUDE"
         },
         {
          "Correlation": 0.8,
          "Count": 21,
          "Negate": false,
          "Question": "C8P",
          "Trait1": "REGULARITY",
          "Trait2": "POSITION"
         }
        ]
       },
       "facet": {
        "column": {
         "field": "Trait1",
         "title": "",
         "type": "nominal"
        },
        "row": {
         "field": "Trait2",
         "title": "",
         "type": "nominal"
        }
       },
       "spec": {
        "encoding": {
         "color": {
          "field": "Negate",
          "scale": {
           "domain": [
            "false",
            "true"
           ],
           "range": [
            "#000050",
            "#eeaa00"
           ]
          },
          "type": "nominal"
         },
         "x": {
          "field": "Correlation",
          "type": "ordinal"
         },
         "y": {
          "axis": {
           "tickCount": 10,
           "title": null
          },
          "field": "Count",
          "scale": {
           "domain": [
            0,
            80
           ]
          },
          "type": "quantitative"
         }
        },
        "height": 100,
        "mark": "bar",
        "width": 100
       }
      },
      "image/png": "[encoded data removed]",
      "text/plain": [
       "<VegaLite 2 object>\n",
       "\n",
       "If you see this message, it means the renderer has not been properly enabled\n",
       "for the frontend that you are using. For more information, see\n",
       "https://altair-viz.github.io/user_guide/troubleshooting.html\n"
      ]
     },
     "execution_count": 276,
     "metadata": {},
     "output_type": "execute_result"
    }
   ],
   "source": [
    "alt.Chart(tbyt).mark_bar().encode(\n",
    "    x='Correlation:O',\n",
    "    y=alt.Y('Count:Q',scale=alt.Scale(domain=(0, 80)),axis=alt.Axis(title=None,tickCount=10)),\n",
    "    color=alt.Color('Negate',\n",
    "                   scale=alt.Scale(\n",
    "            domain=['false', 'true'],\n",
    "            range=['#000050', '#eeaa00']))\n",
    ").properties(\n",
    "    width=100,height=100\n",
    "    ).facet(\n",
    "    column=alt.Column('Trait1',title=''),\n",
    "    row=alt.Row('Trait2',title='')\n",
    "    )"
   ]
  },
  {
   "cell_type": "code",
   "execution_count": 23,
   "metadata": {},
   "outputs": [
    {
     "data": {
      "application/vnd.vegalite.v3+json": {
       "$schema": "https://vega.github.io/schema/vega-lite/v3.4.0.json",
       "config": {
        "axis": {
         "labelFont": "Avenir",
         "titleFont": "Avenir"
        },
        "header": {
         "labelFont": "Avenir",
         "labelFontSize": 12,
         "titleFont": "Avenir"
        },
        "legend": {
         "labelFont": "Avenir",
         "titleFont": "Avenir"
        },
        "mark": {
         "color": "#000050"
        },
        "title": {
         "anchor": "end",
         "font": "Avenir"
        }
       },
       "data": {
        "name": "data-4c4e08a51c9e31d593a1b8d601097d65"
       },
       "datasets": {
        "data-4c4e08a51c9e31d593a1b8d601097d65": [
         {
          "Concept": "BEHAVIOUR",
          "Correlation": 0,
          "Count": 1,
          "Negate": false,
          "Question": "C0",
          "Trait": "MAGNITUDE"
         },
         {
          "Concept": "BEHAVIOUR",
          "Correlation": 0,
          "Count": 1,
          "Negate": true,
          "Question": "C0",
          "Trait": "MAGNITUDE"
         },
         {
          "Concept": "BEHAVIOUR",
          "Correlation": 0,
          "Count": 1,
          "Negate": false,
          "Question": "C0",
          "Trait": "POSITION"
         },
         {
          "Concept": "GRAPHIC",
          "Correlation": 0,
          "Count": 2,
          "Negate": false,
          "Question": "C0",
          "Trait": "POSITION"
         },
         {
          "Concept": "INFERENCES",
          "Correlation": 0,
          "Count": 1,
          "Negate": false,
          "Question": "C0",
          "Trait": "DISCERNIBILITY"
         },
         {
          "Concept": "INFERENCES",
          "Correlation": 0,
          "Count": 2,
          "Negate": false,
          "Question": "C0",
          "Trait": "MAGNITUDE"
         },
         {
          "Concept": "INFERENCES",
          "Correlation": 0,
          "Count": 6,
          "Negate": false,
          "Question": "C0",
          "Trait": "POSITION"
         },
         {
          "Concept": "INFERENCES",
          "Correlation": 0,
          "Count": 1,
          "Negate": false,
          "Question": "C0",
          "Trait": "REGULARITY"
         },
         {
          "Concept": "RELATION",
          "Correlation": 0,
          "Count": 1,
          "Negate": true,
          "Question": "C0",
          "Trait": "DISCERNIBILITY"
         },
         {
          "Concept": "RELATION",
          "Correlation": 0,
          "Count": 2,
          "Negate": false,
          "Question": "C0",
          "Trait": "MAGNITUDE"
         },
         {
          "Concept": "RELATION",
          "Correlation": 0,
          "Count": 1,
          "Negate": true,
          "Question": "C0",
          "Trait": "MAGNITUDE"
         },
         {
          "Concept": "RELATION",
          "Correlation": 0,
          "Count": 3,
          "Negate": false,
          "Question": "C0",
          "Trait": "POSITION"
         },
         {
          "Concept": "RELATION",
          "Correlation": 0,
          "Count": 2,
          "Negate": true,
          "Question": "C0",
          "Trait": "POSITION"
         },
         {
          "Concept": "RELATION",
          "Correlation": 0,
          "Count": 1,
          "Negate": true,
          "Question": "C0",
          "Trait": "REGULARITY"
         },
         {
          "Concept": "SPACE",
          "Correlation": 0,
          "Count": 1,
          "Negate": false,
          "Question": "C0",
          "Trait": "DISCERNIBILITY"
         },
         {
          "Concept": "SPACE",
          "Correlation": 0,
          "Count": 2,
          "Negate": false,
          "Question": "C0",
          "Trait": "MAGNITUDE"
         },
         {
          "Concept": "SPACE",
          "Correlation": 0,
          "Count": 7,
          "Negate": false,
          "Question": "C0",
          "Trait": "POSITION"
         },
         {
          "Concept": "SPACE",
          "Correlation": 0,
          "Count": 1,
          "Negate": false,
          "Question": "C0",
          "Trait": "REGULARITY"
         },
         {
          "Concept": "BEHAVIOUR",
          "Correlation": -0.2,
          "Count": 2,
          "Negate": false,
          "Question": "C2N",
          "Trait": "MAGNITUDE"
         },
         {
          "Concept": "BEHAVIOUR",
          "Correlation": -0.2,
          "Count": 1,
          "Negate": false,
          "Question": "C2N",
          "Trait": "POSITION"
         },
         {
          "Concept": "GRAPHIC",
          "Correlation": -0.2,
          "Count": 1,
          "Negate": false,
          "Question": "C2N",
          "Trait": "POSITION"
         },
         {
          "Concept": "INFERENCES",
          "Correlation": -0.2,
          "Count": 1,
          "Negate": false,
          "Question": "C2N",
          "Trait": "DIRECTION"
         },
         {
          "Concept": "INFERENCES",
          "Correlation": -0.2,
          "Count": 2,
          "Negate": false,
          "Question": "C2N",
          "Trait": "MAGNITUDE"
         },
         {
          "Concept": "INFERENCES",
          "Correlation": -0.2,
          "Count": 4,
          "Negate": false,
          "Question": "C2N",
          "Trait": "POSITION"
         },
         {
          "Concept": "RELATION",
          "Correlation": -0.2,
          "Count": 2,
          "Negate": false,
          "Question": "C2N",
          "Trait": "DIRECTION"
         },
         {
          "Concept": "RELATION",
          "Correlation": -0.2,
          "Count": 3,
          "Negate": true,
          "Question": "C2N",
          "Trait": "DISCERNIBILITY"
         },
         {
          "Concept": "RELATION",
          "Correlation": -0.2,
          "Count": 6,
          "Negate": false,
          "Question": "C2N",
          "Trait": "MAGNITUDE"
         },
         {
          "Concept": "RELATION",
          "Correlation": -0.2,
          "Count": 1,
          "Negate": true,
          "Question": "C2N",
          "Trait": "MAGNITUDE"
         },
         {
          "Concept": "RELATION",
          "Correlation": -0.2,
          "Count": 6,
          "Negate": false,
          "Question": "C2N",
          "Trait": "POSITION"
         },
         {
          "Concept": "RELATION",
          "Correlation": -0.2,
          "Count": 4,
          "Negate": true,
          "Question": "C2N",
          "Trait": "POSITION"
         },
         {
          "Concept": "RELATION",
          "Correlation": -0.2,
          "Count": 1,
          "Negate": true,
          "Question": "C2N",
          "Trait": "REGULARITY"
         },
         {
          "Concept": "SPACE",
          "Correlation": -0.2,
          "Count": 1,
          "Negate": false,
          "Question": "C2N",
          "Trait": "DIRECTION"
         },
         {
          "Concept": "SPACE",
          "Correlation": -0.2,
          "Count": 3,
          "Negate": false,
          "Question": "C2N",
          "Trait": "MAGNITUDE"
         },
         {
          "Concept": "SPACE",
          "Correlation": -0.2,
          "Count": 1,
          "Negate": false,
          "Question": "C2N",
          "Trait": "POSITION"
         },
         {
          "Concept": "BEHAVIOUR",
          "Correlation": 0.2,
          "Count": 1,
          "Negate": false,
          "Question": "C2P",
          "Trait": "DISCERNIBILITY"
         },
         {
          "Concept": "BEHAVIOUR",
          "Correlation": 0.2,
          "Count": 1,
          "Negate": false,
          "Question": "C2P",
          "Trait": "MAGNITUDE"
         },
         {
          "Concept": "BEHAVIOUR",
          "Correlation": 0.2,
          "Count": 1,
          "Negate": false,
          "Question": "C2P",
          "Trait": "REGULARITY"
         },
         {
          "Concept": "GRAPHIC",
          "Correlation": 0.2,
          "Count": 1,
          "Negate": false,
          "Question": "C2P",
          "Trait": "DISCERNIBILITY"
         },
         {
          "Concept": "GRAPHIC",
          "Correlation": 0.2,
          "Count": 2,
          "Negate": false,
          "Question": "C2P",
          "Trait": "POSITION"
         },
         {
          "Concept": "INFERENCES",
          "Correlation": 0.2,
          "Count": 4,
          "Negate": false,
          "Question": "C2P",
          "Trait": "MAGNITUDE"
         },
         {
          "Concept": "INFERENCES",
          "Correlation": 0.2,
          "Count": 7,
          "Negate": false,
          "Question": "C2P",
          "Trait": "POSITION"
         },
         {
          "Concept": "INFERENCES",
          "Correlation": 0.2,
          "Count": 2,
          "Negate": false,
          "Question": "C2P",
          "Trait": "REGULARITY"
         },
         {
          "Concept": "RELATION",
          "Correlation": 0.2,
          "Count": 2,
          "Negate": false,
          "Question": "C2P",
          "Trait": "DIRECTION"
         },
         {
          "Concept": "RELATION",
          "Correlation": 0.2,
          "Count": 1,
          "Negate": true,
          "Question": "C2P",
          "Trait": "DISCERNIBILITY"
         },
         {
          "Concept": "RELATION",
          "Correlation": 0.2,
          "Count": 3,
          "Negate": false,
          "Question": "C2P",
          "Trait": "MAGNITUDE"
         },
         {
          "Concept": "RELATION",
          "Correlation": 0.2,
          "Count": 1,
          "Negate": true,
          "Question": "C2P",
          "Trait": "MAGNITUDE"
         },
         {
          "Concept": "RELATION",
          "Correlation": 0.2,
          "Count": 4,
          "Negate": false,
          "Question": "C2P",
          "Trait": "POSITION"
         },
         {
          "Concept": "RELATION",
          "Correlation": 0.2,
          "Count": 2,
          "Negate": true,
          "Question": "C2P",
          "Trait": "POSITION"
         },
         {
          "Concept": "RELATION",
          "Correlation": 0.2,
          "Count": 2,
          "Negate": false,
          "Question": "C2P",
          "Trait": "REGULARITY"
         },
         {
          "Concept": "SPACE",
          "Correlation": 0.2,
          "Count": 2,
          "Negate": false,
          "Question": "C2P",
          "Trait": "MAGNITUDE"
         },
         {
          "Concept": "SPACE",
          "Correlation": 0.2,
          "Count": 4,
          "Negate": false,
          "Question": "C2P",
          "Trait": "POSITION"
         },
         {
          "Concept": "BEHAVIOUR",
          "Correlation": -0.4,
          "Count": 1,
          "Negate": false,
          "Question": "C4N",
          "Trait": "DISCERNIBILITY"
         },
         {
          "Concept": "BEHAVIOUR",
          "Correlation": -0.4,
          "Count": 1,
          "Negate": true,
          "Question": "C4N",
          "Trait": "DISCERNIBILITY"
         },
         {
          "Concept": "BEHAVIOUR",
          "Correlation": -0.4,
          "Count": 1,
          "Negate": false,
          "Question": "C4N",
          "Trait": "POSITION"
         },
         {
          "Concept": "BEHAVIOUR",
          "Correlation": -0.4,
          "Count": 1,
          "Negate": true,
          "Question": "C4N",
          "Trait": "REGULARITY"
         },
         {
          "Concept": "GRAPHIC",
          "Correlation": -0.4,
          "Count": 1,
          "Negate": false,
          "Question": "C4N",
          "Trait": "DIRECTION"
         },
         {
          "Concept": "GRAPHIC",
          "Correlation": -0.4,
          "Count": 1,
          "Negate": false,
          "Question": "C4N",
          "Trait": "MAGNITUDE"
         },
         {
          "Concept": "GRAPHIC",
          "Correlation": -0.4,
          "Count": 4,
          "Negate": false,
          "Question": "C4N",
          "Trait": "POSITION"
         },
         {
          "Concept": "GRAPHIC",
          "Correlation": -0.4,
          "Count": 1,
          "Negate": false,
          "Question": "C4N",
          "Trait": "REGULARITY"
         },
         {
          "Concept": "INFERENCES",
          "Correlation": -0.4,
          "Count": 1,
          "Negate": false,
          "Question": "C4N",
          "Trait": "DISCERNIBILITY"
         },
         {
          "Concept": "INFERENCES",
          "Correlation": -0.4,
          "Count": 1,
          "Negate": false,
          "Question": "C4N",
          "Trait": "MAGNITUDE"
         },
         {
          "Concept": "INFERENCES",
          "Correlation": -0.4,
          "Count": 6,
          "Negate": false,
          "Question": "C4N",
          "Trait": "POSITION"
         },
         {
          "Concept": "INFERENCES",
          "Correlation": -0.4,
          "Count": 1,
          "Negate": false,
          "Question": "C4N",
          "Trait": "REGULARITY"
         },
         {
          "Concept": "RELATION",
          "Correlation": -0.4,
          "Count": 5,
          "Negate": false,
          "Question": "C4N",
          "Trait": "DIRECTION"
         },
         {
          "Concept": "RELATION",
          "Correlation": -0.4,
          "Count": 2,
          "Negate": true,
          "Question": "C4N",
          "Trait": "DISCERNIBILITY"
         },
         {
          "Concept": "RELATION",
          "Correlation": -0.4,
          "Count": 7,
          "Negate": false,
          "Question": "C4N",
          "Trait": "MAGNITUDE"
         },
         {
          "Concept": "RELATION",
          "Correlation": -0.4,
          "Count": 3,
          "Negate": false,
          "Question": "C4N",
          "Trait": "POSITION"
         },
         {
          "Concept": "RELATION",
          "Correlation": -0.4,
          "Count": 3,
          "Negate": true,
          "Question": "C4N",
          "Trait": "POSITION"
         },
         {
          "Concept": "SPACE",
          "Correlation": -0.4,
          "Count": 1,
          "Negate": false,
          "Question": "C4N",
          "Trait": "MAGNITUDE"
         },
         {
          "Concept": "SPACE",
          "Correlation": -0.4,
          "Count": 5,
          "Negate": false,
          "Question": "C4N",
          "Trait": "POSITION"
         },
         {
          "Concept": "SPACE",
          "Correlation": -0.4,
          "Count": 1,
          "Negate": false,
          "Question": "C4N",
          "Trait": "REGULARITY"
         },
         {
          "Concept": "BEHAVIOUR",
          "Correlation": 0.4,
          "Count": 2,
          "Negate": false,
          "Question": "C4P",
          "Trait": "DISCERNIBILITY"
         },
         {
          "Concept": "BEHAVIOUR",
          "Correlation": 0.4,
          "Count": 3,
          "Negate": false,
          "Question": "C4P",
          "Trait": "MAGNITUDE"
         },
         {
          "Concept": "BEHAVIOUR",
          "Correlation": 0.4,
          "Count": 1,
          "Negate": false,
          "Question": "C4P",
          "Trait": "REGULARITY"
         },
         {
          "Concept": "GRAPHIC",
          "Correlation": 0.4,
          "Count": 1,
          "Negate": false,
          "Question": "C4P",
          "Trait": "POSITION"
         },
         {
          "Concept": "INFERENCES",
          "Correlation": 0.4,
          "Count": 2,
          "Negate": false,
          "Question": "C4P",
          "Trait": "DISCERNIBILITY"
         },
         {
          "Concept": "INFERENCES",
          "Correlation": 0.4,
          "Count": 6,
          "Negate": false,
          "Question": "C4P",
          "Trait": "MAGNITUDE"
         },
         {
          "Concept": "INFERENCES",
          "Correlation": 0.4,
          "Count": 4,
          "Negate": false,
          "Question": "C4P",
          "Trait": "POSITION"
         },
         {
          "Concept": "INFERENCES",
          "Correlation": 0.4,
          "Count": 1,
          "Negate": false,
          "Question": "C4P",
          "Trait": "REGULARITY"
         },
         {
          "Concept": "RELATION",
          "Correlation": 0.4,
          "Count": 7,
          "Negate": false,
          "Question": "C4P",
          "Trait": "DIRECTION"
         },
         {
          "Concept": "RELATION",
          "Correlation": 0.4,
          "Count": 2,
          "Negate": false,
          "Question": "C4P",
          "Trait": "DISCERNIBILITY"
         },
         {
          "Concept": "RELATION",
          "Correlation": 0.4,
          "Count": 6,
          "Negate": false,
          "Question": "C4P",
          "Trait": "MAGNITUDE"
         },
         {
          "Concept": "RELATION",
          "Correlation": 0.4,
          "Count": 3,
          "Negate": false,
          "Question": "C4P",
          "Trait": "POSITION"
         },
         {
          "Concept": "RELATION",
          "Correlation": 0.4,
          "Count": 1,
          "Negate": true,
          "Question": "C4P",
          "Trait": "POSITION"
         },
         {
          "Concept": "RELATION",
          "Correlation": 0.4,
          "Count": 2,
          "Negate": false,
          "Question": "C4P",
          "Trait": "REGULARITY"
         },
         {
          "Concept": "BEHAVIOUR",
          "Correlation": -0.6,
          "Count": 3,
          "Negate": false,
          "Question": "C6N",
          "Trait": "DIRECTION"
         },
         {
          "Concept": "BEHAVIOUR",
          "Correlation": -0.6,
          "Count": 3,
          "Negate": false,
          "Question": "C6N",
          "Trait": "MAGNITUDE"
         },
         {
          "Concept": "INFERENCES",
          "Correlation": -0.6,
          "Count": 4,
          "Negate": false,
          "Question": "C6N",
          "Trait": "DIRECTION"
         },
         {
          "Concept": "INFERENCES",
          "Correlation": -0.6,
          "Count": 4,
          "Negate": false,
          "Question": "C6N",
          "Trait": "MAGNITUDE"
         },
         {
          "Concept": "INFERENCES",
          "Correlation": -0.6,
          "Count": 11,
          "Negate": false,
          "Question": "C6N",
          "Trait": "POSITION"
         },
         {
          "Concept": "INFERENCES",
          "Correlation": -0.6,
          "Count": 1,
          "Negate": true,
          "Question": "C6N",
          "Trait": "POSITION"
         },
         {
          "Concept": "INFERENCES",
          "Correlation": -0.6,
          "Count": 3,
          "Negate": false,
          "Question": "C6N",
          "Trait": "REGULARITY"
         },
         {
          "Concept": "RELATION",
          "Correlation": -0.6,
          "Count": 6,
          "Negate": false,
          "Question": "C6N",
          "Trait": "DIRECTION"
         },
         {
          "Concept": "RELATION",
          "Correlation": -0.6,
          "Count": 1,
          "Negate": true,
          "Question": "C6N",
          "Trait": "DISCERNIBILITY"
         },
         {
          "Concept": "RELATION",
          "Correlation": -0.6,
          "Count": 7,
          "Negate": false,
          "Question": "C6N",
          "Trait": "MAGNITUDE"
         },
         {
          "Concept": "RELATION",
          "Correlation": -0.6,
          "Count": 5,
          "Negate": false,
          "Question": "C6N",
          "Trait": "POSITION"
         },
         {
          "Concept": "RELATION",
          "Correlation": -0.6,
          "Count": 1,
          "Negate": false,
          "Question": "C6N",
          "Trait": "REGULARITY"
         },
         {
          "Concept": "SPACE",
          "Correlation": -0.6,
          "Count": 1,
          "Negate": false,
          "Question": "C6N",
          "Trait": "DIRECTION"
         },
         {
          "Concept": "SPACE",
          "Correlation": -0.6,
          "Count": 3,
          "Negate": false,
          "Question": "C6N",
          "Trait": "POSITION"
         },
         {
          "Concept": "SPACE",
          "Correlation": -0.6,
          "Count": 1,
          "Negate": false,
          "Question": "C6N",
          "Trait": "REGULARITY"
         },
         {
          "Concept": "BEHAVIOUR",
          "Correlation": 0.6,
          "Count": 1,
          "Negate": false,
          "Question": "C6P",
          "Trait": "DIRECTION"
         },
         {
          "Concept": "BEHAVIOUR",
          "Correlation": 0.6,
          "Count": 2,
          "Negate": false,
          "Question": "C6P",
          "Trait": "DISCERNIBILITY"
         },
         {
          "Concept": "BEHAVIOUR",
          "Correlation": 0.6,
          "Count": 1,
          "Negate": false,
          "Question": "C6P",
          "Trait": "MAGNITUDE"
         },
         {
          "Concept": "BEHAVIOUR",
          "Correlation": 0.6,
          "Count": 1,
          "Negate": false,
          "Question": "C6P",
          "Trait": "POSITION"
         },
         {
          "Concept": "BEHAVIOUR",
          "Correlation": 0.6,
          "Count": 3,
          "Negate": false,
          "Question": "C6P",
          "Trait": "REGULARITY"
         },
         {
          "Concept": "INFERENCES",
          "Correlation": 0.6,
          "Count": 3,
          "Negate": false,
          "Question": "C6P",
          "Trait": "DIRECTION"
         },
         {
          "Concept": "INFERENCES",
          "Correlation": 0.6,
          "Count": 3,
          "Negate": false,
          "Question": "C6P",
          "Trait": "DISCERNIBILITY"
         },
         {
          "Concept": "INFERENCES",
          "Correlation": 0.6,
          "Count": 5,
          "Negate": false,
          "Question": "C6P",
          "Trait": "MAGNITUDE"
         },
         {
          "Concept": "INFERENCES",
          "Correlation": 0.6,
          "Count": 8,
          "Negate": false,
          "Question": "C6P",
          "Trait": "POSITION"
         },
         {
          "Concept": "INFERENCES",
          "Correlation": 0.6,
          "Count": 6,
          "Negate": false,
          "Question": "C6P",
          "Trait": "REGULARITY"
         },
         {
          "Concept": "RELATION",
          "Correlation": 0.6,
          "Count": 8,
          "Negate": false,
          "Question": "C6P",
          "Trait": "DIRECTION"
         },
         {
          "Concept": "RELATION",
          "Correlation": 0.6,
          "Count": 1,
          "Negate": false,
          "Question": "C6P",
          "Trait": "DISCERNIBILITY"
         },
         {
          "Concept": "RELATION",
          "Correlation": 0.6,
          "Count": 8,
          "Negate": false,
          "Question": "C6P",
          "Trait": "MAGNITUDE"
         },
         {
          "Concept": "RELATION",
          "Correlation": 0.6,
          "Count": 5,
          "Negate": false,
          "Question": "C6P",
          "Trait": "POSITION"
         },
         {
          "Concept": "RELATION",
          "Correlation": 0.6,
          "Count": 3,
          "Negate": false,
          "Question": "C6P",
          "Trait": "REGULARITY"
         },
         {
          "Concept": "SPACE",
          "Correlation": 0.6,
          "Count": 2,
          "Negate": false,
          "Question": "C6P",
          "Trait": "DIRECTION"
         },
         {
          "Concept": "SPACE",
          "Correlation": 0.6,
          "Count": 1,
          "Negate": false,
          "Question": "C6P",
          "Trait": "MAGNITUDE"
         },
         {
          "Concept": "SPACE",
          "Correlation": 0.6,
          "Count": 3,
          "Negate": false,
          "Question": "C6P",
          "Trait": "POSITION"
         },
         {
          "Concept": "SPACE",
          "Correlation": 0.6,
          "Count": 2,
          "Negate": false,
          "Question": "C6P",
          "Trait": "REGULARITY"
         },
         {
          "Concept": "BEHAVIOUR",
          "Correlation": -0.8,
          "Count": 3,
          "Negate": false,
          "Question": "C8N",
          "Trait": "DIRECTION"
         },
         {
          "Concept": "BEHAVIOUR",
          "Correlation": -0.8,
          "Count": 2,
          "Negate": false,
          "Question": "C8N",
          "Trait": "POSITION"
         },
         {
          "Concept": "BEHAVIOUR",
          "Correlation": -0.8,
          "Count": 1,
          "Negate": false,
          "Question": "C8N",
          "Trait": "REGULARITY"
         },
         {
          "Concept": "GRAPHIC",
          "Correlation": -0.8,
          "Count": 2,
          "Negate": false,
          "Question": "C8N",
          "Trait": "DIRECTION"
         },
         {
          "Concept": "GRAPHIC",
          "Correlation": -0.8,
          "Count": 2,
          "Negate": false,
          "Question": "C8N",
          "Trait": "POSITION"
         },
         {
          "Concept": "INFERENCES",
          "Correlation": -0.8,
          "Count": 2,
          "Negate": false,
          "Question": "C8N",
          "Trait": "DIRECTION"
         },
         {
          "Concept": "INFERENCES",
          "Correlation": -0.8,
          "Count": 1,
          "Negate": false,
          "Question": "C8N",
          "Trait": "DISCERNIBILITY"
         },
         {
          "Concept": "INFERENCES",
          "Correlation": -0.8,
          "Count": 2,
          "Negate": false,
          "Question": "C8N",
          "Trait": "MAGNITUDE"
         },
         {
          "Concept": "INFERENCES",
          "Correlation": -0.8,
          "Count": 12,
          "Negate": false,
          "Question": "C8N",
          "Trait": "POSITION"
         },
         {
          "Concept": "RELATION",
          "Correlation": -0.8,
          "Count": 11,
          "Negate": false,
          "Question": "C8N",
          "Trait": "DIRECTION"
         },
         {
          "Concept": "RELATION",
          "Correlation": -0.8,
          "Count": 2,
          "Negate": false,
          "Question": "C8N",
          "Trait": "DISCERNIBILITY"
         },
         {
          "Concept": "RELATION",
          "Correlation": -0.8,
          "Count": 7,
          "Negate": false,
          "Question": "C8N",
          "Trait": "MAGNITUDE"
         },
         {
          "Concept": "RELATION",
          "Correlation": -0.8,
          "Count": 9,
          "Negate": false,
          "Question": "C8N",
          "Trait": "POSITION"
         },
         {
          "Concept": "SPACE",
          "Correlation": -0.8,
          "Count": 1,
          "Negate": false,
          "Question": "C8N",
          "Trait": "DIRECTION"
         },
         {
          "Concept": "SPACE",
          "Correlation": -0.8,
          "Count": 1,
          "Negate": false,
          "Question": "C8N",
          "Trait": "MAGNITUDE"
         },
         {
          "Concept": "SPACE",
          "Correlation": -0.8,
          "Count": 7,
          "Negate": false,
          "Question": "C8N",
          "Trait": "POSITION"
         },
         {
          "Concept": "SPACE",
          "Correlation": -0.8,
          "Count": 1,
          "Negate": false,
          "Question": "C8N",
          "Trait": "REGULARITY"
         },
         {
          "Concept": "BEHAVIOUR",
          "Correlation": 0.8,
          "Count": 2,
          "Negate": false,
          "Question": "C8P",
          "Trait": "DIRECTION"
         },
         {
          "Concept": "BEHAVIOUR",
          "Correlation": 0.8,
          "Count": 2,
          "Negate": false,
          "Question": "C8P",
          "Trait": "DISCERNIBILITY"
         },
         {
          "Concept": "BEHAVIOUR",
          "Correlation": 0.8,
          "Count": 1,
          "Negate": false,
          "Question": "C8P",
          "Trait": "MAGNITUDE"
         },
         {
          "Concept": "BEHAVIOUR",
          "Correlation": 0.8,
          "Count": 2,
          "Negate": false,
          "Question": "C8P",
          "Trait": "POSITION"
         },
         {
          "Concept": "BEHAVIOUR",
          "Correlation": 0.8,
          "Count": 5,
          "Negate": false,
          "Question": "C8P",
          "Trait": "REGULARITY"
         },
         {
          "Concept": "GRAPHIC",
          "Correlation": 0.8,
          "Count": 1,
          "Negate": false,
          "Question": "C8P",
          "Trait": "DIRECTION"
         },
         {
          "Concept": "GRAPHIC",
          "Correlation": 0.8,
          "Count": 1,
          "Negate": false,
          "Question": "C8P",
          "Trait": "DISCERNIBILITY"
         },
         {
          "Concept": "GRAPHIC",
          "Correlation": 0.8,
          "Count": 4,
          "Negate": false,
          "Question": "C8P",
          "Trait": "POSITION"
         },
         {
          "Concept": "GRAPHIC",
          "Correlation": 0.8,
          "Count": 2,
          "Negate": false,
          "Question": "C8P",
          "Trait": "REGULARITY"
         },
         {
          "Concept": "INFERENCES",
          "Correlation": 0.8,
          "Count": 4,
          "Negate": false,
          "Question": "C8P",
          "Trait": "DIRECTION"
         },
         {
          "Concept": "INFERENCES",
          "Correlation": 0.8,
          "Count": 1,
          "Negate": false,
          "Question": "C8P",
          "Trait": "DISCERNIBILITY"
         },
         {
          "Concept": "INFERENCES",
          "Correlation": 0.8,
          "Count": 2,
          "Negate": false,
          "Question": "C8P",
          "Trait": "MAGNITUDE"
         },
         {
          "Concept": "INFERENCES",
          "Correlation": 0.8,
          "Count": 6,
          "Negate": false,
          "Question": "C8P",
          "Trait": "POSITION"
         },
         {
          "Concept": "INFERENCES",
          "Correlation": 0.8,
          "Count": 3,
          "Negate": false,
          "Question": "C8P",
          "Trait": "REGULARITY"
         },
         {
          "Concept": "RELATION",
          "Correlation": 0.8,
          "Count": 8,
          "Negate": false,
          "Question": "C8P",
          "Trait": "DIRECTION"
         },
         {
          "Concept": "RELATION",
          "Correlation": 0.8,
          "Count": 2,
          "Negate": false,
          "Question": "C8P",
          "Trait": "DISCERNIBILITY"
         },
         {
          "Concept": "RELATION",
          "Correlation": 0.8,
          "Count": 10,
          "Negate": false,
          "Question": "C8P",
          "Trait": "MAGNITUDE"
         },
         {
          "Concept": "RELATION",
          "Correlation": 0.8,
          "Count": 7,
          "Negate": false,
          "Question": "C8P",
          "Trait": "POSITION"
         },
         {
          "Concept": "RELATION",
          "Correlation": 0.8,
          "Count": 2,
          "Negate": false,
          "Question": "C8P",
          "Trait": "REGULARITY"
         },
         {
          "Concept": "SPACE",
          "Correlation": 0.8,
          "Count": 3,
          "Negate": false,
          "Question": "C8P",
          "Trait": "DIRECTION"
         },
         {
          "Concept": "SPACE",
          "Correlation": 0.8,
          "Count": 1,
          "Negate": false,
          "Question": "C8P",
          "Trait": "MAGNITUDE"
         },
         {
          "Concept": "SPACE",
          "Correlation": 0.8,
          "Count": 7,
          "Negate": false,
          "Question": "C8P",
          "Trait": "POSITION"
         },
         {
          "Concept": "SPACE",
          "Correlation": 0.8,
          "Count": 2,
          "Negate": false,
          "Question": "C8P",
          "Trait": "REGULARITY"
         }
        ]
       },
       "facet": {
        "column": {
         "field": "Concept",
         "type": "nominal"
        },
        "row": {
         "field": "Trait",
         "type": "nominal"
        }
       },
       "spec": {
        "encoding": {
         "color": {
          "field": "Negate",
          "type": "nominal"
         },
         "x": {
          "field": "Correlation",
          "type": "ordinal"
         },
         "y": {
          "axis": {
           "tickCount": 8
          },
          "field": "Count",
          "scale": {
           "domain": [
            0,
            80
           ]
          },
          "type": "quantitative"
         }
        },
        "height": 80,
        "mark": "bar",
        "width": 80
       }
      },
      "image/png": "[encoded data removed]",
      "text/plain": [
       "<VegaLite 3 object>\n",
       "\n",
       "If you see this message, it means the renderer has not been properly enabled\n",
       "for the frontend that you are using. For more information, see\n",
       "https://altair-viz.github.io/user_guide/troubleshooting.html\n"
      ]
     },
     "execution_count": 23,
     "metadata": {},
     "output_type": "execute_result"
    }
   ],
   "source": [
    "# Only paired co-occurrences\n",
    "alt.Chart(cooc).mark_bar().encode(\n",
    "    x='Correlation:O',\n",
    "    y=alt.Y('Count:Q',scale=alt.Scale(domain=(0, 80)),axis=alt.Axis(tickCount=8)),\n",
    "    color='Negate:N'\n",
    ").properties(\n",
    "    width=80,height=80\n",
    "    ).facet(\n",
    "    column='Concept',\n",
    "    row='Trait'\n",
    "    )"
   ]
  },
  {
   "cell_type": "markdown",
   "metadata": {},
   "source": [
    "### Define font and other customizations"
   ]
  },
  {
   "cell_type": "code",
   "execution_count": 28,
   "metadata": {},
   "outputs": [
    {
     "data": {
      "text/plain": [
       "ThemeRegistry.enable('wec_theme')"
      ]
     },
     "execution_count": 28,
     "metadata": {},
     "output_type": "execute_result"
    }
   ],
   "source": [
    "def wec_theme():\n",
    "    font = \"Avenir\"\n",
    "    \n",
    "    return {\n",
    "        \"config\" : {\n",
    "             \"mark\": {'color': '#000050'},\n",
    "             \"title\": {'font': font,  \"anchor\": \"end\"},\n",
    "             \"axis\": {\n",
    "                  \"labelFont\": font,\n",
    "                  \"titleFont\": font\n",
    "             },\n",
    "             \"header\": {\n",
    "                  \"labelFont\": font,\n",
    "                  'labelFontSize': 12,\n",
    "                  \"titleFont\": font, \n",
    "             },\n",
    "             \"legend\": {\n",
    "                  \"labelFont\": font,\n",
    "                  \"titleFont\": font\n",
    "             }\n",
    "        }\n",
    "    }\n",
    "alt.themes.register('wec_theme',wec_theme)\n",
    "alt.themes.enable('wec_theme')"
   ]
  },
  {
   "cell_type": "markdown",
   "metadata": {},
   "source": [
    "Old matplotlib code:"
   ]
  },
  {
   "cell_type": "code",
   "execution_count": 14,
   "metadata": {},
   "outputs": [],
   "source": [
    "Qs = [\"C8P\",\"C6P\",\"C4P\",\"C2P\",\"C0\",\"C2N\",\"C4N\",\"C6N\",\"C8N\"]\n",
    "orderedQ = {'C8P': '9_C8P','C6P': '8_C6P','C4P': '7_C4P','C2P': '6_C2P','C0': '5_C0','C2N': '4_C2N','C4N': '3_C4N','C6N': '2_C6N','C8N': '1_C8N'}"
   ]
  },
  {
   "cell_type": "code",
   "execution_count": 16,
   "metadata": {},
   "outputs": [
    {
     "data": {
      "image/png": "[encoded data removed]",
      "text/plain": [
       "<Figure size 432x288 with 1 Axes>"
      ]
     },
     "metadata": {
      "needs_background": "light"
     },
     "output_type": "display_data"
    }
   ],
   "source": [
    "negations = {}\n",
    "nq = {}\n",
    "for q in Qs:\n",
    "    catc0 = data[data['Question'] == q]['lemma_cat_tagged'].dropna()    \n",
    "    negates = catc0.apply(lambda x: ('NEGATE' in x))\n",
    "    nq[q] = negates.apply(lambda x: 1 if x is True else 0)\n",
    "    negations[q] = negates.value_counts().to_dict()\n",
    "#display(negations)\n",
    "s = pd.DataFrame(negations).transpose()\n",
    "fig = s.plot(kind='bar',stacked=False,subplots=False,title='Statements preceded by \"not\" or \"no\" by degree of correlation')"
   ]
  },
  {
   "cell_type": "code",
   "execution_count": 17,
   "metadata": {},
   "outputs": [
    {
     "data": {
      "image/png": "[encoded data removed]",
      "text/plain": [
       "<Figure size 432x288 with 1 Axes>"
      ]
     },
     "metadata": {
      "needs_background": "light"
     },
     "output_type": "display_data"
    }
   ],
   "source": [
    "negations = {}\n",
    "nq = {}\n",
    "for q in Qs:\n",
    "    catc0 = data[data['Question'] == q]['lemma_cat_tagged'].dropna()    \n",
    "    negates = catc0.apply(lambda x: ('NEGATE'in x) and ('DISCERNIBILITY' in x))\n",
    "    nq[q] = negates.apply(lambda x: 1 if x is True else 0)\n",
    "    negations[q] = negates.value_counts().to_dict()\n",
    "#display(negations)\n",
    "\n",
    "s = pd.DataFrame(negations).transpose()\n",
    "fig = s.plot(kind='bar',stacked=False,subplots=False,title='Discernibility statements preceded by \"not\" or \"no\" by degree of correlation')"
   ]
  },
  {
   "cell_type": "markdown",
   "metadata": {},
   "source": [
    "This next block follows up from the end of wec-analysis.pynb\n",
    "We use the %store magic to pass the dataframe between notebooks for convenience"
   ]
  },
  {
   "cell_type": "code",
   "execution_count": 87,
   "metadata": {},
   "outputs": [],
   "source": [
    "test_data = data[data['lemma_cat_tagged'].notnull()][['ResponseId','Question','lemma_cat_tagged']]"
   ]
  },
  {
   "cell_type": "code",
   "execution_count": 109,
   "metadata": {},
   "outputs": [
    {
     "data": {
      "text/html": [
       "<div>\n",
       "<style scoped>\n",
       "    .dataframe tbody tr th:only-of-type {\n",
       "        vertical-align: middle;\n",
       "    }\n",
       "\n",
       "    .dataframe tbody tr th {\n",
       "        vertical-align: top;\n",
       "    }\n",
       "\n",
       "    .dataframe thead th {\n",
       "        text-align: right;\n",
       "    }\n",
       "</style>\n",
       "<table border=\"1\" class=\"dataframe\">\n",
       "  <thead>\n",
       "    <tr style=\"text-align: right;\">\n",
       "      <th></th>\n",
       "      <th>ResponseId</th>\n",
       "      <th>Question</th>\n",
       "      <th>lemma_cat_tagged</th>\n",
       "    </tr>\n",
       "  </thead>\n",
       "  <tbody>\n",
       "    <tr>\n",
       "      <th>11</th>\n",
       "      <td>R_24G9kQFpzuPPxYf</td>\n",
       "      <td>C8P</td>\n",
       "      <td>[MAGNITUDE, DIRECTION, RELATION, BEHAVIOUR]</td>\n",
       "    </tr>\n",
       "    <tr>\n",
       "      <th>12</th>\n",
       "      <td>R_2pM5SlNXYZhwx3t</td>\n",
       "      <td>C8P</td>\n",
       "      <td>[MAGNITUDE, DIRECTION, RELATION]</td>\n",
       "    </tr>\n",
       "    <tr>\n",
       "      <th>13</th>\n",
       "      <td>R_2aJFz9MQKp5oafm</td>\n",
       "      <td>C8P</td>\n",
       "      <td>[MAGNITUDE, DIRECTION, RELATION, INFERENCES, R...</td>\n",
       "    </tr>\n",
       "    <tr>\n",
       "      <th>17</th>\n",
       "      <td>R_vZZeRaHXlJooMUN</td>\n",
       "      <td>C8P</td>\n",
       "      <td>[MAGNITUDE, DIRECTION, RELATION]</td>\n",
       "    </tr>\n",
       "    <tr>\n",
       "      <th>20</th>\n",
       "      <td>R_2DODm93ET1NXqH4</td>\n",
       "      <td>C8P</td>\n",
       "      <td>[DIRECTION, RELATION, REGULARITY, GRAPHIC]</td>\n",
       "    </tr>\n",
       "    <tr>\n",
       "      <th>22</th>\n",
       "      <td>R_2cpINKT98oRdeIp</td>\n",
       "      <td>C8P</td>\n",
       "      <td>[MAGNITUDE, DIRECTION, RELATION, INFERENCES, B...</td>\n",
       "    </tr>\n",
       "    <tr>\n",
       "      <th>26</th>\n",
       "      <td>R_2uVAaqth5DbSvxz</td>\n",
       "      <td>C8P</td>\n",
       "      <td>[RELATION, INFERENCES, POSITION, DISCERNIBILIT...</td>\n",
       "    </tr>\n",
       "    <tr>\n",
       "      <th>33</th>\n",
       "      <td>R_1IXW8iTM0xEldkZ</td>\n",
       "      <td>C8P</td>\n",
       "      <td>[DIRECTION, REGULARITY, RELATION, SPACE, INFER...</td>\n",
       "    </tr>\n",
       "    <tr>\n",
       "      <th>39</th>\n",
       "      <td>R_21an1yosOJ9AQJs</td>\n",
       "      <td>C8P</td>\n",
       "      <td>[DIRECTION, RELATION]</td>\n",
       "    </tr>\n",
       "    <tr>\n",
       "      <th>40</th>\n",
       "      <td>R_3HLc7aQUd0Hjy2N</td>\n",
       "      <td>C8P</td>\n",
       "      <td>[DIRECTION, RELATION]</td>\n",
       "    </tr>\n",
       "    <tr>\n",
       "      <th>56</th>\n",
       "      <td>R_2c5ihF5KLq2oLK7</td>\n",
       "      <td>C8P</td>\n",
       "      <td>[DIRECTION, RELATION, DISCERNIBILITY, GRAPHIC,...</td>\n",
       "    </tr>\n",
       "    <tr>\n",
       "      <th>57</th>\n",
       "      <td>R_1gbBLyTkrKwPKNk</td>\n",
       "      <td>C8P</td>\n",
       "      <td>[MAGNITUDE, DIRECTION, RELATION]</td>\n",
       "    </tr>\n",
       "    <tr>\n",
       "      <th>58</th>\n",
       "      <td>R_2chGD4Ov5gLDKJt</td>\n",
       "      <td>C8P</td>\n",
       "      <td>[DIRECTION, GRAPHIC, RELATION, INFERENCES, REG...</td>\n",
       "    </tr>\n",
       "    <tr>\n",
       "      <th>65</th>\n",
       "      <td>R_xr9HUmNxaNJlrRn</td>\n",
       "      <td>C8P</td>\n",
       "      <td>[GRAPHIC, MAGNITUDE, DIRECTION, REGULARITY, RE...</td>\n",
       "    </tr>\n",
       "    <tr>\n",
       "      <th>77</th>\n",
       "      <td>R_1jg4NHbE2Id86ku</td>\n",
       "      <td>C8P</td>\n",
       "      <td>[MAGNITUDE, DIRECTION, RELATION, INFERENCES, B...</td>\n",
       "    </tr>\n",
       "    <tr>\n",
       "      <th>79</th>\n",
       "      <td>R_3oFvoS9qZdlngGa</td>\n",
       "      <td>C8P</td>\n",
       "      <td>[MAGNITUDE, DIRECTION, RELATION]</td>\n",
       "    </tr>\n",
       "    <tr>\n",
       "      <th>84</th>\n",
       "      <td>R_1pDWgX7wn9EnE81</td>\n",
       "      <td>C8P</td>\n",
       "      <td>[MAGNITUDE, DIRECTION, RELATION, INFERENCES]</td>\n",
       "    </tr>\n",
       "    <tr>\n",
       "      <th>90</th>\n",
       "      <td>R_BK7Ug7QH6u2lDFv</td>\n",
       "      <td>C8P</td>\n",
       "      <td>[DIRECTION, RELATION]</td>\n",
       "    </tr>\n",
       "    <tr>\n",
       "      <th>97</th>\n",
       "      <td>R_2fld46A8GK76hEd</td>\n",
       "      <td>C8P</td>\n",
       "      <td>[MAGNITUDE, DIRECTION, RELATION, INFERENCES]</td>\n",
       "    </tr>\n",
       "    <tr>\n",
       "      <th>100</th>\n",
       "      <td>R_1rxjYTIIbSI3G8A</td>\n",
       "      <td>C8P</td>\n",
       "      <td>[GRAPHIC, DIRECTION, RELATION, REGULARITY, POS...</td>\n",
       "    </tr>\n",
       "    <tr>\n",
       "      <th>101</th>\n",
       "      <td>R_T1aHvmL1w9vHwRj</td>\n",
       "      <td>C8P</td>\n",
       "      <td>[INFERENCES, RELATION, DIRECTION]</td>\n",
       "    </tr>\n",
       "    <tr>\n",
       "      <th>107</th>\n",
       "      <td>R_1i2Tczn8HRGlWzj</td>\n",
       "      <td>C8P</td>\n",
       "      <td>[DIRECTION, RELATION]</td>\n",
       "    </tr>\n",
       "    <tr>\n",
       "      <th>108</th>\n",
       "      <td>R_9KwPnldzDesaxgd</td>\n",
       "      <td>C8P</td>\n",
       "      <td>[DIRECTION, RELATION, INFERENCES, BEHAVIOUR]</td>\n",
       "    </tr>\n",
       "    <tr>\n",
       "      <th>109</th>\n",
       "      <td>R_1psWJ5yYAsHomvi</td>\n",
       "      <td>C8P</td>\n",
       "      <td>[DIRECTION, RELATION]</td>\n",
       "    </tr>\n",
       "    <tr>\n",
       "      <th>110</th>\n",
       "      <td>R_33vbBV73tIk0ojA</td>\n",
       "      <td>C8P</td>\n",
       "      <td>[MAGNITUDE, DIRECTION, RELATION]</td>\n",
       "    </tr>\n",
       "    <tr>\n",
       "      <th>114</th>\n",
       "      <td>R_2PB6ffzIDgg0MSq</td>\n",
       "      <td>C8P</td>\n",
       "      <td>[MAGNITUDE, DIRECTION, RELATION]</td>\n",
       "    </tr>\n",
       "    <tr>\n",
       "      <th>115</th>\n",
       "      <td>R_3jfkeLr3rEA7EIe</td>\n",
       "      <td>C8P</td>\n",
       "      <td>[DISCERNIBILITY, DIRECTION, RELATION]</td>\n",
       "    </tr>\n",
       "    <tr>\n",
       "      <th>117</th>\n",
       "      <td>R_1AFom1fF3KYjaaB</td>\n",
       "      <td>C8P</td>\n",
       "      <td>[DIRECTION, RELATION, INFERENCES, BEHAVIOUR]</td>\n",
       "    </tr>\n",
       "    <tr>\n",
       "      <th>118</th>\n",
       "      <td>R_2TB1DytP3A3IROT</td>\n",
       "      <td>C8P</td>\n",
       "      <td>[REGULARITY, DIRECTION, RELATION, GRAPHIC, INF...</td>\n",
       "    </tr>\n",
       "    <tr>\n",
       "      <th>121</th>\n",
       "      <td>R_3gMZERdVOPr9TyY</td>\n",
       "      <td>C8P</td>\n",
       "      <td>[MAGNITUDE, DIRECTION, RELATION]</td>\n",
       "    </tr>\n",
       "    <tr>\n",
       "      <th>...</th>\n",
       "      <td>...</td>\n",
       "      <td>...</td>\n",
       "      <td>...</td>\n",
       "    </tr>\n",
       "    <tr>\n",
       "      <th>1346</th>\n",
       "      <td>R_3hDCB1PCqM0f5t8</td>\n",
       "      <td>C8N</td>\n",
       "      <td>[POSITION, INFERENCES, SPACE, REGULARITY, RELA...</td>\n",
       "    </tr>\n",
       "    <tr>\n",
       "      <th>1357</th>\n",
       "      <td>R_1jg4NHbE2Id86ku</td>\n",
       "      <td>C8N</td>\n",
       "      <td>[MAGNITUDE, DIRECTION, RELATION, INFERENCES, B...</td>\n",
       "    </tr>\n",
       "    <tr>\n",
       "      <th>1359</th>\n",
       "      <td>R_3oFvoS9qZdlngGa</td>\n",
       "      <td>C8N</td>\n",
       "      <td>[MAGNITUDE, DIRECTION, RELATION]</td>\n",
       "    </tr>\n",
       "    <tr>\n",
       "      <th>1360</th>\n",
       "      <td>R_4MClvVDa9w1JG7v</td>\n",
       "      <td>C8N</td>\n",
       "      <td>[DISCERNIBILITY, DIRECTION, RELATION, INFERENC...</td>\n",
       "    </tr>\n",
       "    <tr>\n",
       "      <th>1364</th>\n",
       "      <td>R_1pDWgX7wn9EnE81</td>\n",
       "      <td>C8N</td>\n",
       "      <td>[MAGNITUDE, DIRECTION, RELATION, INFERENCES]</td>\n",
       "    </tr>\n",
       "    <tr>\n",
       "      <th>1365</th>\n",
       "      <td>R_1rCD3umlAzldgA9</td>\n",
       "      <td>C8N</td>\n",
       "      <td>[POSITION, SPACE, RELATION, INFERENCES, DIRECT...</td>\n",
       "    </tr>\n",
       "    <tr>\n",
       "      <th>1368</th>\n",
       "      <td>R_2zFQ1znDHPebGIf</td>\n",
       "      <td>C8N</td>\n",
       "      <td>[DIRECTION, RELATION, INFERENCES, BEHAVIOUR]</td>\n",
       "    </tr>\n",
       "    <tr>\n",
       "      <th>1369</th>\n",
       "      <td>R_2wLxLao332RFpPq</td>\n",
       "      <td>C8N</td>\n",
       "      <td>[DIRECTION, REGULARITY, RELATION, INFERENCES, ...</td>\n",
       "    </tr>\n",
       "    <tr>\n",
       "      <th>1370</th>\n",
       "      <td>R_BK7Ug7QH6u2lDFv</td>\n",
       "      <td>C8N</td>\n",
       "      <td>[DIRECTION, RELATION]</td>\n",
       "    </tr>\n",
       "    <tr>\n",
       "      <th>1374</th>\n",
       "      <td>R_2zOL3axs7M62X4d</td>\n",
       "      <td>C8N</td>\n",
       "      <td>[REGULARITY, RELATION, INFERENCES, BEHAVIOUR, ...</td>\n",
       "    </tr>\n",
       "    <tr>\n",
       "      <th>1377</th>\n",
       "      <td>R_2fld46A8GK76hEd</td>\n",
       "      <td>C8N</td>\n",
       "      <td>[RELATION, INFERENCES, BEHAVIOUR, DIRECTION]</td>\n",
       "    </tr>\n",
       "    <tr>\n",
       "      <th>1380</th>\n",
       "      <td>R_1rxjYTIIbSI3G8A</td>\n",
       "      <td>C8N</td>\n",
       "      <td>[DIRECTION, RELATION, POSITION]</td>\n",
       "    </tr>\n",
       "    <tr>\n",
       "      <th>1383</th>\n",
       "      <td>R_9mKo7zLgc5htgn7</td>\n",
       "      <td>C8N</td>\n",
       "      <td>[DIRECTION, RELATION, INFERENCES, BEHAVIOUR, G...</td>\n",
       "    </tr>\n",
       "    <tr>\n",
       "      <th>1387</th>\n",
       "      <td>R_1i2Tczn8HRGlWzj</td>\n",
       "      <td>C8N</td>\n",
       "      <td>[DIRECTION, RELATION]</td>\n",
       "    </tr>\n",
       "    <tr>\n",
       "      <th>1388</th>\n",
       "      <td>R_9KwPnldzDesaxgd</td>\n",
       "      <td>C8N</td>\n",
       "      <td>[DIRECTION, RELATION, INFERENCES, BEHAVIOUR]</td>\n",
       "    </tr>\n",
       "    <tr>\n",
       "      <th>1389</th>\n",
       "      <td>R_1psWJ5yYAsHomvi</td>\n",
       "      <td>C8N</td>\n",
       "      <td>[MAGNITUDE, DIRECTION, RELATION]</td>\n",
       "    </tr>\n",
       "    <tr>\n",
       "      <th>1390</th>\n",
       "      <td>R_33vbBV73tIk0ojA</td>\n",
       "      <td>C8N</td>\n",
       "      <td>[MAGNITUDE, DIRECTION, RELATION]</td>\n",
       "    </tr>\n",
       "    <tr>\n",
       "      <th>1394</th>\n",
       "      <td>R_2PB6ffzIDgg0MSq</td>\n",
       "      <td>C8N</td>\n",
       "      <td>[DIRECTION, RELATION]</td>\n",
       "    </tr>\n",
       "    <tr>\n",
       "      <th>1395</th>\n",
       "      <td>R_3jfkeLr3rEA7EIe</td>\n",
       "      <td>C8N</td>\n",
       "      <td>[DISCERNIBILITY, DIRECTION, RELATION]</td>\n",
       "    </tr>\n",
       "    <tr>\n",
       "      <th>1397</th>\n",
       "      <td>R_1AFom1fF3KYjaaB</td>\n",
       "      <td>C8N</td>\n",
       "      <td>[MAGNITUDE, DIRECTION, RELATION, INFERENCES, B...</td>\n",
       "    </tr>\n",
       "    <tr>\n",
       "      <th>1398</th>\n",
       "      <td>R_2TB1DytP3A3IROT</td>\n",
       "      <td>C8N</td>\n",
       "      <td>[REGULARITY, DIRECTION, RELATION, INFERENCES, ...</td>\n",
       "    </tr>\n",
       "    <tr>\n",
       "      <th>1401</th>\n",
       "      <td>R_3gMZERdVOPr9TyY</td>\n",
       "      <td>C8N</td>\n",
       "      <td>[DIRECTION, RELATION, INFERENCES]</td>\n",
       "    </tr>\n",
       "    <tr>\n",
       "      <th>1404</th>\n",
       "      <td>R_3LdmgZd9mFXOlfZ</td>\n",
       "      <td>C8N</td>\n",
       "      <td>[RELATION, DIRECTION, INFERENCES, BEHAVIOUR]</td>\n",
       "    </tr>\n",
       "    <tr>\n",
       "      <th>1409</th>\n",
       "      <td>R_xnZQGmdKAGHKTTP</td>\n",
       "      <td>C8N</td>\n",
       "      <td>[INFERENCES, DIRECTION, MAGNITUDE, REGULARITY,...</td>\n",
       "    </tr>\n",
       "    <tr>\n",
       "      <th>1416</th>\n",
       "      <td>R_xchw6dEbUFb9lOF</td>\n",
       "      <td>C8N</td>\n",
       "      <td>[DIRECTION, RELATION]</td>\n",
       "    </tr>\n",
       "    <tr>\n",
       "      <th>1420</th>\n",
       "      <td>R_27ONJiL7ywo0I5U</td>\n",
       "      <td>C8N</td>\n",
       "      <td>[POSITION, DIRECTION, RELATION, INFERENCES, GR...</td>\n",
       "    </tr>\n",
       "    <tr>\n",
       "      <th>1421</th>\n",
       "      <td>R_3esqlIMUwALbaXR</td>\n",
       "      <td>C8N</td>\n",
       "      <td>[DIRECTION, RELATION]</td>\n",
       "    </tr>\n",
       "    <tr>\n",
       "      <th>1425</th>\n",
       "      <td>R_3QXchLLEyd7r4jF</td>\n",
       "      <td>C8N</td>\n",
       "      <td>[DISCERNIBILITY, MAGNITUDE, DIRECTION, RELATIO...</td>\n",
       "    </tr>\n",
       "    <tr>\n",
       "      <th>1426</th>\n",
       "      <td>R_1hGUuOxy3mzYU3U</td>\n",
       "      <td>C8N</td>\n",
       "      <td>[DIRECTION, RELATION, BEHAVIOUR]</td>\n",
       "    </tr>\n",
       "    <tr>\n",
       "      <th>1438</th>\n",
       "      <td>R_1DGWP5LSTXi0O0s</td>\n",
       "      <td>C8N</td>\n",
       "      <td>[DIRECTION, BEHAVIOUR, RELATION]</td>\n",
       "    </tr>\n",
       "  </tbody>\n",
       "</table>\n",
       "<p>263 rows × 3 columns</p>\n",
       "</div>"
      ],
      "text/plain": [
       "             ResponseId Question  \\\n",
       "11    R_24G9kQFpzuPPxYf      C8P   \n",
       "12    R_2pM5SlNXYZhwx3t      C8P   \n",
       "13    R_2aJFz9MQKp5oafm      C8P   \n",
       "17    R_vZZeRaHXlJooMUN      C8P   \n",
       "20    R_2DODm93ET1NXqH4      C8P   \n",
       "22    R_2cpINKT98oRdeIp      C8P   \n",
       "26    R_2uVAaqth5DbSvxz      C8P   \n",
       "33    R_1IXW8iTM0xEldkZ      C8P   \n",
       "39    R_21an1yosOJ9AQJs      C8P   \n",
       "40    R_3HLc7aQUd0Hjy2N      C8P   \n",
       "56    R_2c5ihF5KLq2oLK7      C8P   \n",
       "57    R_1gbBLyTkrKwPKNk      C8P   \n",
       "58    R_2chGD4Ov5gLDKJt      C8P   \n",
       "65    R_xr9HUmNxaNJlrRn      C8P   \n",
       "77    R_1jg4NHbE2Id86ku      C8P   \n",
       "79    R_3oFvoS9qZdlngGa      C8P   \n",
       "84    R_1pDWgX7wn9EnE81      C8P   \n",
       "90    R_BK7Ug7QH6u2lDFv      C8P   \n",
       "97    R_2fld46A8GK76hEd      C8P   \n",
       "100   R_1rxjYTIIbSI3G8A      C8P   \n",
       "101   R_T1aHvmL1w9vHwRj      C8P   \n",
       "107   R_1i2Tczn8HRGlWzj      C8P   \n",
       "108   R_9KwPnldzDesaxgd      C8P   \n",
       "109   R_1psWJ5yYAsHomvi      C8P   \n",
       "110   R_33vbBV73tIk0ojA      C8P   \n",
       "114   R_2PB6ffzIDgg0MSq      C8P   \n",
       "115   R_3jfkeLr3rEA7EIe      C8P   \n",
       "117   R_1AFom1fF3KYjaaB      C8P   \n",
       "118   R_2TB1DytP3A3IROT      C8P   \n",
       "121   R_3gMZERdVOPr9TyY      C8P   \n",
       "...                 ...      ...   \n",
       "1346  R_3hDCB1PCqM0f5t8      C8N   \n",
       "1357  R_1jg4NHbE2Id86ku      C8N   \n",
       "1359  R_3oFvoS9qZdlngGa      C8N   \n",
       "1360  R_4MClvVDa9w1JG7v      C8N   \n",
       "1364  R_1pDWgX7wn9EnE81      C8N   \n",
       "1365  R_1rCD3umlAzldgA9      C8N   \n",
       "1368  R_2zFQ1znDHPebGIf      C8N   \n",
       "1369  R_2wLxLao332RFpPq      C8N   \n",
       "1370  R_BK7Ug7QH6u2lDFv      C8N   \n",
       "1374  R_2zOL3axs7M62X4d      C8N   \n",
       "1377  R_2fld46A8GK76hEd      C8N   \n",
       "1380  R_1rxjYTIIbSI3G8A      C8N   \n",
       "1383  R_9mKo7zLgc5htgn7      C8N   \n",
       "1387  R_1i2Tczn8HRGlWzj      C8N   \n",
       "1388  R_9KwPnldzDesaxgd      C8N   \n",
       "1389  R_1psWJ5yYAsHomvi      C8N   \n",
       "1390  R_33vbBV73tIk0ojA      C8N   \n",
       "1394  R_2PB6ffzIDgg0MSq      C8N   \n",
       "1395  R_3jfkeLr3rEA7EIe      C8N   \n",
       "1397  R_1AFom1fF3KYjaaB      C8N   \n",
       "1398  R_2TB1DytP3A3IROT      C8N   \n",
       "1401  R_3gMZERdVOPr9TyY      C8N   \n",
       "1404  R_3LdmgZd9mFXOlfZ      C8N   \n",
       "1409  R_xnZQGmdKAGHKTTP      C8N   \n",
       "1416  R_xchw6dEbUFb9lOF      C8N   \n",
       "1420  R_27ONJiL7ywo0I5U      C8N   \n",
       "1421  R_3esqlIMUwALbaXR      C8N   \n",
       "1425  R_3QXchLLEyd7r4jF      C8N   \n",
       "1426  R_1hGUuOxy3mzYU3U      C8N   \n",
       "1438  R_1DGWP5LSTXi0O0s      C8N   \n",
       "\n",
       "                                       lemma_cat_tagged  \n",
       "11          [MAGNITUDE, DIRECTION, RELATION, BEHAVIOUR]  \n",
       "12                     [MAGNITUDE, DIRECTION, RELATION]  \n",
       "13    [MAGNITUDE, DIRECTION, RELATION, INFERENCES, R...  \n",
       "17                     [MAGNITUDE, DIRECTION, RELATION]  \n",
       "20           [DIRECTION, RELATION, REGULARITY, GRAPHIC]  \n",
       "22    [MAGNITUDE, DIRECTION, RELATION, INFERENCES, B...  \n",
       "26    [RELATION, INFERENCES, POSITION, DISCERNIBILIT...  \n",
       "33    [DIRECTION, REGULARITY, RELATION, SPACE, INFER...  \n",
       "39                                [DIRECTION, RELATION]  \n",
       "40                                [DIRECTION, RELATION]  \n",
       "56    [DIRECTION, RELATION, DISCERNIBILITY, GRAPHIC,...  \n",
       "57                     [MAGNITUDE, DIRECTION, RELATION]  \n",
       "58    [DIRECTION, GRAPHIC, RELATION, INFERENCES, REG...  \n",
       "65    [GRAPHIC, MAGNITUDE, DIRECTION, REGULARITY, RE...  \n",
       "77    [MAGNITUDE, DIRECTION, RELATION, INFERENCES, B...  \n",
       "79                     [MAGNITUDE, DIRECTION, RELATION]  \n",
       "84         [MAGNITUDE, DIRECTION, RELATION, INFERENCES]  \n",
       "90                                [DIRECTION, RELATION]  \n",
       "97         [MAGNITUDE, DIRECTION, RELATION, INFERENCES]  \n",
       "100   [GRAPHIC, DIRECTION, RELATION, REGULARITY, POS...  \n",
       "101                   [INFERENCES, RELATION, DIRECTION]  \n",
       "107                               [DIRECTION, RELATION]  \n",
       "108        [DIRECTION, RELATION, INFERENCES, BEHAVIOUR]  \n",
       "109                               [DIRECTION, RELATION]  \n",
       "110                    [MAGNITUDE, DIRECTION, RELATION]  \n",
       "114                    [MAGNITUDE, DIRECTION, RELATION]  \n",
       "115               [DISCERNIBILITY, DIRECTION, RELATION]  \n",
       "117        [DIRECTION, RELATION, INFERENCES, BEHAVIOUR]  \n",
       "118   [REGULARITY, DIRECTION, RELATION, GRAPHIC, INF...  \n",
       "121                    [MAGNITUDE, DIRECTION, RELATION]  \n",
       "...                                                 ...  \n",
       "1346  [POSITION, INFERENCES, SPACE, REGULARITY, RELA...  \n",
       "1357  [MAGNITUDE, DIRECTION, RELATION, INFERENCES, B...  \n",
       "1359                   [MAGNITUDE, DIRECTION, RELATION]  \n",
       "1360  [DISCERNIBILITY, DIRECTION, RELATION, INFERENC...  \n",
       "1364       [MAGNITUDE, DIRECTION, RELATION, INFERENCES]  \n",
       "1365  [POSITION, SPACE, RELATION, INFERENCES, DIRECT...  \n",
       "1368       [DIRECTION, RELATION, INFERENCES, BEHAVIOUR]  \n",
       "1369  [DIRECTION, REGULARITY, RELATION, INFERENCES, ...  \n",
       "1370                              [DIRECTION, RELATION]  \n",
       "1374  [REGULARITY, RELATION, INFERENCES, BEHAVIOUR, ...  \n",
       "1377       [RELATION, INFERENCES, BEHAVIOUR, DIRECTION]  \n",
       "1380                    [DIRECTION, RELATION, POSITION]  \n",
       "1383  [DIRECTION, RELATION, INFERENCES, BEHAVIOUR, G...  \n",
       "1387                              [DIRECTION, RELATION]  \n",
       "1388       [DIRECTION, RELATION, INFERENCES, BEHAVIOUR]  \n",
       "1389                   [MAGNITUDE, DIRECTION, RELATION]  \n",
       "1390                   [MAGNITUDE, DIRECTION, RELATION]  \n",
       "1394                              [DIRECTION, RELATION]  \n",
       "1395              [DISCERNIBILITY, DIRECTION, RELATION]  \n",
       "1397  [MAGNITUDE, DIRECTION, RELATION, INFERENCES, B...  \n",
       "1398  [REGULARITY, DIRECTION, RELATION, INFERENCES, ...  \n",
       "1401                  [DIRECTION, RELATION, INFERENCES]  \n",
       "1404       [RELATION, DIRECTION, INFERENCES, BEHAVIOUR]  \n",
       "1409  [INFERENCES, DIRECTION, MAGNITUDE, REGULARITY,...  \n",
       "1416                              [DIRECTION, RELATION]  \n",
       "1420  [POSITION, DIRECTION, RELATION, INFERENCES, GR...  \n",
       "1421                              [DIRECTION, RELATION]  \n",
       "1425  [DISCERNIBILITY, MAGNITUDE, DIRECTION, RELATIO...  \n",
       "1426                   [DIRECTION, RELATION, BEHAVIOUR]  \n",
       "1438                   [DIRECTION, BEHAVIOUR, RELATION]  \n",
       "\n",
       "[263 rows x 3 columns]"
      ]
     },
     "execution_count": 109,
     "metadata": {},
     "output_type": "execute_result"
    }
   ],
   "source": [
    "test_data[test_data['lemma_cat_tagged'].apply(lambda x: set(['RELATION','DIRECTION']).issubset(set(x)))]"
   ]
  },
  {
   "cell_type": "code",
   "execution_count": null,
   "metadata": {},
   "outputs": [],
   "source": []
  }
 ],
 "metadata": {
  "kernelspec": {
   "display_name": "Python 3",
   "language": "python",
   "name": "python3"
  },
  "language_info": {
   "codemirror_mode": {
    "name": "ipython",
    "version": 3
   },
   "file_extension": ".py",
   "mimetype": "text/x-python",
   "name": "python",
   "nbconvert_exporter": "python",
   "pygments_lexer": "ipython3",
   "version": "3.7.5"
  }
 },
 "nbformat": 4,
 "nbformat_minor": 4
}
